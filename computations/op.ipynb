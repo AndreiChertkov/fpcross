{
 "cells": [
  {
   "cell_type": "code",
   "execution_count": 22,
   "metadata": {},
   "outputs": [
    {
     "name": "stdout",
     "output_type": "stream",
     "text": [
      "[[ 100.    0.    0.    0.]\n",
      " [-100.  100.    0.    0.]\n",
      " [   0. -100.  100.    0.]\n",
      " [   0.    0. -100.  100.]]\n"
     ]
    }
   ],
   "source": [
    "import numpy as np\n",
    "\n",
    "def clenshaw_curtis_compute(n):\n",
    "\n",
    "    if(n == 1):\n",
    "\n",
    "        x = np.zeros ( n )\n",
    "        w = np.zeros ( n )\n",
    "\n",
    "        w[0] = 2.0\n",
    "\n",
    "    else:\n",
    "\n",
    "    theta = np.zeros ( n )\n",
    "\n",
    "    for i in range ( 0, n ):\n",
    "      theta[i] = float ( n - 1 - i ) * np.pi / float ( n - 1 )\n",
    "\n",
    "    x = np.cos ( theta )\n",
    "    w = np.zeros ( n )\n",
    "\n",
    "    for i in range ( 0, n ):\n",
    "\n",
    "      w[i] = 1.0\n",
    "\n",
    "      jhi = ( ( n - 1 ) // 2 )\n",
    "\n",
    "      for j in range ( 0, jhi ):\n",
    "\n",
    "        if ( 2 * ( j + 1 ) == ( n - 1 ) ):\n",
    "          b = 1.0\n",
    "        else:\n",
    "          b = 2.0\n",
    "\n",
    "        w[i] = w[i] - b * np.cos ( 2.0 * float ( j + 1 ) * theta[i] ) \\\n",
    "             / float ( 4 * j * ( j + 2 ) + 3 )\n",
    "\n",
    "    w[0] = w[0] / float ( n - 1 )\n",
    "    for i in range ( 1, n - 1 ):\n",
    "      w[i] = 2.0 * w[i] / float ( n - 1 )\n",
    "    w[n-1] = w[n-1] / float ( n - 1 )\n",
    "\n",
    "  return x, w\n",
    "\n",
    "def clenshaw_curtis_compute_test ( ):\n",
    "\n",
    "#*****************************************************************************80\n",
    "#\n",
    "## CLENSHAW_CURTIS_COMPUTE_TEST tests CLENSHAW_CURTIS_COMPUTE\n",
    "#\n",
    "#  Licensing:\n",
    "#\n",
    "#    This code is distributed under the GNU LGPL license. \n",
    "#\n",
    "#  Modified:\n",
    "#\n",
    "#    02 April 2015\n",
    "#\n",
    "#  Author:\n",
    "#\n",
    "#    John Burkardt\n",
    "#\n",
    "  import platform\n",
    "\n",
    "  print ( '' )\n",
    "  print ( 'CLENSHAW_CURTIS_COMPUTE_TEST' )\n",
    "  print ( '  Python version: %s' % ( platform.python_version ( ) ) )\n",
    "  print ( '  CLENSHAW_CURTIS_COMPUTE computes' )\n",
    "  print ( '  a Clenshaw-Curtis quadrature rule over [-1,1].' )\n",
    "  print ( '' )\n",
    "  print ( '     Index       X                       W' )\n",
    "\n",
    "  for n in range ( 1, 11 ):\n",
    "\n",
    "    [ x, w ] = clenshaw_curtis_compute ( n )\n",
    "\n",
    "    print ( '' )\n",
    "\n",
    "    for i in range ( 0, n ):\n",
    "      print ( '  %2d  %24.16g  %24.16g' % ( i, x[i], w[i] ) )\n",
    "#\n",
    "#  Terminate.\n",
    "#\n",
    "  print ( '' )\n",
    "  print ( 'CLENSHAW_CURTIS_COMPUTE_TEST:' )\n",
    "  print ( '  Normal end of execution.' )\n",
    "  return\n",
    "\n",
    "if ( __name__ == '__main__' ):\n",
    "  from timestamp import timestamp\n",
    "  timestamp ( )\n",
    "  clenshaw_curtis_compute_test ( )\n",
    "  timestamp ( )"
   ]
  },
  {
   "cell_type": "code",
   "execution_count": 18,
   "metadata": {},
   "outputs": [],
   "source": []
  },
  {
   "cell_type": "code",
   "execution_count": 19,
   "metadata": {},
   "outputs": [],
   "source": []
  },
  {
   "cell_type": "code",
   "execution_count": 20,
   "metadata": {},
   "outputs": [
    {
     "name": "stdout",
     "output_type": "stream",
     "text": [
      "[[ 100.    0.    0.    0.]\n",
      " [-100.  100.    0.    0.]\n",
      " [   0. -100.  100.    0.]\n",
      " [   0.    0. -100.  100.]]\n"
     ]
    }
   ],
   "source": []
  },
  {
   "cell_type": "code",
   "execution_count": null,
   "metadata": {},
   "outputs": [],
   "source": []
  }
 ],
 "metadata": {
  "kernelspec": {
   "display_name": "Python 3",
   "language": "python",
   "name": "python3"
  },
  "language_info": {
   "codemirror_mode": {
    "name": "ipython",
    "version": 3
   },
   "file_extension": ".py",
   "mimetype": "text/x-python",
   "name": "python",
   "nbconvert_exporter": "python",
   "pygments_lexer": "ipython3",
   "version": "3.7.1"
  }
 },
 "nbformat": 4,
 "nbformat_minor": 2
}
