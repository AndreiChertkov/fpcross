{
 "cells": [
  {
   "cell_type": "code",
   "execution_count": 2,
   "metadata": {},
   "outputs": [],
   "source": [
    "import tntorch as tn\n",
    "import torch"
   ]
  },
  {
   "cell_type": "code",
   "execution_count": 3,
   "metadata": {},
   "outputs": [
    {
     "name": "stdout",
     "output_type": "stream",
     "text": [
      "Cross-approximation over a 5D domain containing 3.35544e+07 grid points:\n",
      "iter: 0  | eps: 9.280e-01 | total time:   0.0159 | largest rank:   1\n",
      "iter: 1  | eps: 4.493e-03 | total time:   0.0393 | largest rank:   4\n",
      "iter: 2  | eps: 1.246e-05 | total time:   0.0604 | largest rank:   7\n",
      "iter: 3  | eps: 8.580e-07 | total time:   0.0891 | largest rank:  10 <- converged: eps < 1e-06\n",
      "Did 33984 function evaluations, which took 0.002846s (1.194e+07 evals/s)\n",
      "\n",
      "5D TT tensor:\n",
      "\n",
      " 32  32  32  32  32\n",
      "  |   |   |   |   |\n",
      " (0) (1) (2) (3) (4)\n",
      " / \\ / \\ / \\ / \\ / \\\n",
      "1   10  10  10  10  1\n",
      "\n"
     ]
    }
   ],
   "source": [
    "def func(x, y, z, t, w):  # Input arguments are vectors\n",
    "    return 1 / (x + y + z + t + w)  # Hilbert tensor\n",
    "\n",
    "domain = [torch.arange(1, 33) for n in range(5)]\n",
    "t = tn.cross(function=func, domain=domain)\n",
    "\n",
    "print(t)"
   ]
  },
  {
   "cell_type": "code",
   "execution_count": null,
   "metadata": {},
   "outputs": [],
   "source": []
  },
  {
   "cell_type": "code",
   "execution_count": null,
   "metadata": {},
   "outputs": [],
   "source": []
  },
  {
   "cell_type": "code",
   "execution_count": null,
   "metadata": {},
   "outputs": [],
   "source": []
  }
 ],
 "metadata": {
  "kernelspec": {
   "display_name": "Python 3",
   "language": "python",
   "name": "python3"
  },
  "language_info": {
   "codemirror_mode": {
    "name": "ipython",
    "version": 3
   },
   "file_extension": ".py",
   "mimetype": "text/x-python",
   "name": "python",
   "nbconvert_exporter": "python",
   "pygments_lexer": "ipython3",
   "version": "3.7.1"
  }
 },
 "nbformat": 4,
 "nbformat_minor": 2
}
