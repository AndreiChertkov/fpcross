{
 "cells": [
  {
   "cell_type": "markdown",
   "metadata": {},
   "source": [
    "<div class=\"head0\">\n",
    "    <div class=\"head0__name\">\n",
    "        Multiple computations\n",
    "    </div>\n",
    "    <div class=\"head0__note\">\n",
    "        We compute dependencies of solution accuracy and calculation time on the number of time and spacial points and solver type. Results are saved to file and may be reused later for visualization.  \n",
    "    </div>\n",
    "</div>"
   ]
  },
  {
   "cell_type": "code",
   "execution_count": 1,
   "metadata": {},
   "outputs": [
    {
     "name": "stdout",
     "output_type": "stream",
     "text": [
      "Start | 12:51PM MSK on Oct 02, 2019 |\n",
      "-------------------------------------\n"
     ]
    },
    {
     "data": {
      "text/html": [
       "<style>\n",
       "    div {\n",
       "      margin: 0;\n",
       "      padding: 0;\n",
       "    }\n",
       "\n",
       "    .head0 {\n",
       "      padding: 10px;\n",
       "      display: flex;\n",
       "      background-color: #dedee2;\n",
       "    }\n",
       "    .head0__name {\n",
       "      padding-right: 5px;\n",
       "      flex: 1 1 50%;\n",
       "      align-self: center;\n",
       "      font-size: 36px;\n",
       "      font-weight: bold;\n",
       "      color: #6b7e51;\n",
       "    }\n",
       "    .head0__note {\n",
       "      padding-left: 10px;\n",
       "      flex: 1 1 50%;\n",
       "      align-self: flex-end;\n",
       "      font-size: 16px;\n",
       "      font-style: italic;\n",
       "      color: #485536;\n",
       "      border-left: 5px solid #8b1d1d;\n",
       "    }\n",
       "\n",
       "    .head1 {\n",
       "      margin-top: 30px;\n",
       "      padding: 10px;\n",
       "      border-top: 5px solid #8b1d1d;\n",
       "    }\n",
       "    .head1__name {\n",
       "      font-size: 32px;\n",
       "      font-weight: bold;\n",
       "      color: #485536;\n",
       "    }\n",
       "    .head1__note {\n",
       "      padding-left: 20px;\n",
       "      font-size: 20px;\n",
       "      font-style: italic;\n",
       "      color: #485536;\n",
       "    }\n",
       "\n",
       "    .head2 {\n",
       "      margin-top: 7px;\n",
       "      padding: 5px 30px 5px;\n",
       "      border-left: 2px solid #42d56e;\n",
       "    }\n",
       "    .head2__name {\n",
       "      display: inline-block;\n",
       "      max-width: 70%;\n",
       "      padding: 2px 10px;\n",
       "      font-size: 22px;\n",
       "      font-weight: bold;\n",
       "      color: #145929;\n",
       "      border-bottom: 2px solid #42d56e;\n",
       "    }\n",
       "    .head2__note {\n",
       "      padding: 5px 10px 0px;\n",
       "      font-size: 14px;\n",
       "      font-style: italic;\n",
       "      color: #485536;\n",
       "    }\n",
       "\n",
       "    .head3 {\n",
       "      margin-top: 5px;\n",
       "      padding: 3px 40px 3px;\n",
       "      border-left: 2px dotted #485536;\n",
       "    }\n",
       "    .head3__name {\n",
       "      display: inline-block;\n",
       "      max-width: 70%;\n",
       "      padding: 2px 10px;\n",
       "      font-size: 20px;\n",
       "      font-weight: bold;\n",
       "      color: #145929;\n",
       "      border-bottom: 2px dotted #485536;\n",
       "    }\n",
       "    .head3__note {\n",
       "      padding: 2px 10px 0px;\n",
       "      font-size: 12px;\n",
       "      font-style: italic;\n",
       "      color: #485536;\n",
       "    }\n",
       "\n",
       "    .warn {\n",
       "      background-color: #fcf2f2;\n",
       "      border-color: #dfb5b4;\n",
       "      border-left: 5px solid #dfb5b4;\n",
       "      padding: 0.5em;\n",
       "    }\n",
       "    .note {\n",
       "      color: #42d56e;\n",
       "    }\n",
       "    .note::before {\n",
       "      content: 'Note. ';\n",
       "      font-weight: bold;\n",
       "      color: #485536;\n",
       "    }\n",
       "\n",
       "    .end {\n",
       "      padding: 5px;\n",
       "      border-top: 5px solid #8b1d1d;\n",
       "      border-bottom: 5px solid #8b1d1d;\n",
       "    }\n",
       "</style>"
      ],
      "text/plain": [
       "<IPython.core.display.HTML object>"
      ]
     },
     "execution_count": 1,
     "metadata": {},
     "output_type": "execute_result"
    }
   ],
   "source": [
    "import numpy as np\n",
    "from fpcross import init_jupyter, Model, Solver, SolversCheck\n",
    "\n",
    "init_jupyter()"
   ]
  },
  {
   "cell_type": "markdown",
   "metadata": {},
   "source": [
    "<div class=\"head1\">\n",
    "    <div class=\"head1__name\">\n",
    "        One-dimensional Focker Planck equation with the zero drift\n",
    "    </div>\n",
    "</div>"
   ]
  },
  {
   "cell_type": "code",
   "execution_count": null,
   "metadata": {},
   "outputs": [],
   "source": [
    "MD = Model('fpe_1d_drift_zero')\n",
    "MD.init(s=0.1, D=0.02)\n",
    "# MD.info()"
   ]
  },
  {
   "cell_type": "code",
   "execution_count": null,
   "metadata": {},
   "outputs": [],
   "source": [
    "SLC = SolversCheck('./data/fpe_1d_drift_zero')\n",
    "SLC.set_model(MD)\n",
    "SLC.set_grid_t(+0., +1.)\n",
    "SLC.set_grid_x(-5., +5.)\n",
    "\n",
    "M = [10, 100, 1000, 10000, 100000]\n",
    "N = list(np.arange(10, 51, 5, dtype=int))\n",
    "SLC.add(name='Solver (ord=1)', eps=1.E-6, ord=1, with_tt=False, M=M, N=N)\n",
    "\n",
    "M = [10, 100, 1000, 10000, 100000]\n",
    "N = list(np.arange(10, 51, 5, dtype=int))\n",
    "SLC.add(name='Solver (ord=2)', eps=1.E-6, ord=2, with_tt=False, M=M, N=N)\n",
    "\n",
    "SLC.calc()\n",
    "SLC.save()"
   ]
  },
  {
   "cell_type": "markdown",
   "metadata": {},
   "source": [
    "<div class=\"head1\">\n",
    "    <div class=\"head1__name\">\n",
    "        One-dimensional Focker Planck equation with the constant drift\n",
    "    </div>\n",
    "</div>"
   ]
  },
  {
   "cell_type": "code",
   "execution_count": null,
   "metadata": {},
   "outputs": [],
   "source": [
    "MD = Model('fpe_1d_drift_const')\n",
    "MD.init(s=0.1, D=0.02, v=0.02)\n",
    "# MD.info()"
   ]
  },
  {
   "cell_type": "code",
   "execution_count": null,
   "metadata": {},
   "outputs": [],
   "source": [
    "SLC = SolversCheck('./data/fpe_1d_drift_const')\n",
    "SLC.set_model(MD)\n",
    "SLC.set_grid_t(+0., +1.)\n",
    "SLC.set_grid_x(-9., +9.)\n",
    "\n",
    "M = [10, 100, 1000, 10000, 100000]\n",
    "N = list(np.arange(10, 51, 5, dtype=int))\n",
    "SLC.add(name='Solver (ord=1)', eps=1.E-6, ord=1, with_tt=False, M=M, N=N)\n",
    "\n",
    "M = [10, 100, 1000, 10000, 100000]\n",
    "N = list(np.arange(10, 51, 5, dtype=int))\n",
    "SLC.add(name='Solver (ord=2)', eps=1.E-6, ord=2, with_tt=False, M=M, N=N)\n",
    "\n",
    "SLC.calc()\n",
    "SLC.save()"
   ]
  },
  {
   "cell_type": "markdown",
   "metadata": {},
   "source": [
    "<div class=\"head1\">\n",
    "    <div class=\"head1__name\">\n",
    "        One-dimensional Focker Planck equation with linear drift (Ornstein–Uhlenbeck process)\n",
    "    </div>\n",
    "</div>"
   ]
  },
  {
   "cell_type": "code",
   "execution_count": null,
   "metadata": {},
   "outputs": [],
   "source": [
    "MD = Model('fpe_1d_oup')\n",
    "MD.init(s=1., D=0.5, A=1.)\n",
    "# MD.info()"
   ]
  },
  {
   "cell_type": "code",
   "execution_count": null,
   "metadata": {},
   "outputs": [],
   "source": [
    "SLC = SolversCheck('./data/fpe_1d_oup')\n",
    "SLC.set_model(MD)\n",
    "SLC.set_grid_t(+0., +8.)\n",
    "SLC.set_grid_x(-6., +6.)\n",
    "\n",
    "M = [10, 100, 1000, 10000, 100000]\n",
    "N = list(np.arange(10, 51, 5, dtype=int))\n",
    "SLC.add(name='Solver (ord=1)', eps=1.E-6, ord=1, with_tt=False, M=M, N=N)\n",
    "\n",
    "M = [10, 100, 1000, 10000, 100000]\n",
    "N = list(np.arange(10, 51, 5, dtype=int))\n",
    "SLC.add(name='Solver (ord=2)', eps=1.E-6, ord=2, with_tt=False, M=M, N=N)\n",
    "\n",
    "SLC.calc()\n",
    "SLC.save()"
   ]
  },
  {
   "cell_type": "markdown",
   "metadata": {},
   "source": [
    "<div class=\"head1\">\n",
    "    <div class=\"head1__name\">\n",
    "        Two-dimensional Focker Planck equation with linear drift (Ornstein–Uhlenbeck process)\n",
    "    </div>\n",
    "</div>"
   ]
  },
  {
   "cell_type": "code",
   "execution_count": null,
   "metadata": {},
   "outputs": [],
   "source": [
    "MD = Model('fpe_oup')\n",
    "MD.init(d=2, s=1., D=0.5, A=np.array([\n",
    "    [1., 1.],\n",
    "    [0., 1.],\n",
    "]))\n",
    "# MD.info()"
   ]
  },
  {
   "cell_type": "code",
   "execution_count": null,
   "metadata": {},
   "outputs": [],
   "source": [
    "SLC = SolversCheck('./data/fpe_2d_oup')\n",
    "SLC.set_model(MD)\n",
    "SLC.set_grid_t(+0., +8.)\n",
    "SLC.set_grid_x(-6., +6.)\n",
    "\n",
    "M = [10, 100, 1000]\n",
    "N = list(np.arange(10, 16, 5, dtype=int))\n",
    "SLC.add(name='Solver-NP', eps=1.E-6, ord=2, with_tt=False, M=M, N=N)\n",
    "\n",
    "M = [10, 100, 1000, 10000]\n",
    "N = list(np.arange(10, 51, 5, dtype=int))\n",
    "SLC.add(name='Solver-TT', eps=1.E-6, ord=2, with_tt=True, M=M, N=N)\n",
    "\n",
    "SLC.calc()\n",
    "SLC.save()"
   ]
  },
  {
   "cell_type": "markdown",
   "metadata": {},
   "source": [
    "<div class=\"head1\">\n",
    "    <div class=\"head1__name\">\n",
    "        Three-dimensional Focker Planck equation with linear drift (Ornstein–Uhlenbeck process)\n",
    "    </div>\n",
    "</div>"
   ]
  },
  {
   "cell_type": "code",
   "execution_count": null,
   "metadata": {},
   "outputs": [],
   "source": [
    "MD = Model('fpe_oup')\n",
    "MD.init(d=3, s=1., D=0.5, A=np.array([\n",
    "    [1., 1., 1.],\n",
    "    [0., 1., 1.],\n",
    "    [0., 0., 1.],\n",
    "]))\n",
    "# MD.info()"
   ]
  },
  {
   "cell_type": "code",
   "execution_count": null,
   "metadata": {},
   "outputs": [],
   "source": [
    "SLC = SolversCheck('./data/fpe_3d_oup')\n",
    "SLC.set_model(MD)\n",
    "SLC.set_grid_t(+0., +8.)\n",
    "SLC.set_grid_x(-6., +6.)\n",
    "\n",
    "M = [10, 100, 1000]\n",
    "N = list(np.arange(10, 16, 5, dtype=int))\n",
    "SLC.add(name='Solver-NP', eps=1.E-6, ord=2, with_tt=False, M=M, N=N)\n",
    "\n",
    "M = [10, 100, 1000, 10000]\n",
    "N = list(np.arange(10, 51, 5, dtype=int))\n",
    "SLC.add(name='Solver-TT', eps=1.E-6, ord=2, with_tt=True, M=M, N=N)\n",
    "\n",
    "SLC.calc()\n",
    "SLC.save()"
   ]
  },
  {
   "cell_type": "markdown",
   "metadata": {},
   "source": [
    "<div class=\"end\"></div>"
   ]
  }
 ],
 "metadata": {
  "kernelspec": {
   "display_name": "Python 3",
   "language": "python",
   "name": "python3"
  },
  "language_info": {
   "codemirror_mode": {
    "name": "ipython",
    "version": 3
   },
   "file_extension": ".py",
   "mimetype": "text/x-python",
   "name": "python",
   "nbconvert_exporter": "python",
   "pygments_lexer": "ipython3",
   "version": "3.7.1"
  }
 },
 "nbformat": 4,
 "nbformat_minor": 2
}
