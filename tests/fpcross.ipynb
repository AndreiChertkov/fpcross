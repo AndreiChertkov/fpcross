{
 "cells": [
  {
   "cell_type": "markdown",
   "metadata": {},
   "source": [
    "We are going to find probability density function (PDF) $\\rho(x, t)$ for spatial variable $x \\in R^d$ (below for simplicity we consider case $d=2$) which is solution of the SDE\n",
    "$$\n",
    "dx = f(x, t) \\, dt + S(x, t) \\, d\\beta,\n",
    "\\quad\n",
    "d\\beta \\, d\\beta^{\\top} = Q dt,\n",
    "\\quad\n",
    "x(0) = x_0.\n",
    "$$"
   ]
  },
  {
   "cell_type": "markdown",
   "metadata": {},
   "source": [
    "It can be shown that PDF is the solution of a Fokker-Planck equation\n",
    "$$\n",
    "\\frac{\\partial \\rho(x, t)}{\\partial t} =\n",
    "    - \\sum_{i=1}^d\n",
    "        \\frac{\\partial}{\\partial x_i}\n",
    "        \\left[ f_i(x, t) \\rho(x, t) \\right]\n",
    "    + \\sum_{i=1}^d \\sum_{j=1}^d\n",
    "        \\frac{\\partial^2}{\\partial x_i \\partial x_j}\n",
    "        \\left[ D_{ij}(x, t) \\rho(x, t) \\right],\n",
    "\\quad\n",
    "\\rho(x, 0) = \\rho_0(x),\n",
    "$$\n",
    "where\n",
    "$$\n",
    "D(x, t) = \\frac{1}{2} S(x, t) Q S^{\\top}(x, t).\n",
    "$$"
   ]
  },
  {
   "cell_type": "markdown",
   "metadata": {},
   "source": [
    "Let $S(x, t) = I$, $Q = 2I$ (hence $D(x, t) = I$), then we should solve\n",
    "\n",
    "$$\n",
    "dx = f(x, t) \\, dt + I \\, d\\beta,\n",
    "\\quad\n",
    "x(0) = x_0.\n",
    "$$\n",
    "\n",
    "$$\n",
    "\\frac{\\partial \\rho}{\\partial t} = \\Delta \\rho - div \\left[ f(x, t) \\rho \\right],\n",
    "\\quad\n",
    "\\rho(x, 0) = \\rho_0(x).\n",
    "$$"
   ]
  },
  {
   "cell_type": "markdown",
   "metadata": {},
   "source": [
    "Let apply 1st order splitting scheme on $k$-th time step $kh$ (with known from previous step $\\rho_{k}$)\n",
    "$$\n",
    "\\frac{\\partial v}{\\partial t} = \\Delta v,\n",
    "\\quad\n",
    "v_{k} = v(x, t_{k}) = \\rho_{k} = \\rho(x(t_{k}), t_{k}),\n",
    "\\quad\n",
    "(1)\n",
    "$$\n",
    "$$\n",
    "\\frac{\\partial w}{\\partial t} = - div \\left[ f(x, t) w \\right],\n",
    "\\quad\n",
    "w_{k} = v_{k+1},\n",
    "\\quad\n",
    "(2)\n",
    "$$\n",
    "then we can approximate $\\rho_{k+1} = w_{k+1}$."
   ]
  },
  {
   "cell_type": "markdown",
   "metadata": {},
   "source": [
    "To solve equation (1) we perform discretization of spatial variable on unofm grid with step $l$.\n",
    "Then\n",
    "$$\n",
    "\\Delta = I \\otimes L + L \\otimes I,\n",
    "\\quad\n",
    "L = \\frac{1}{l^2} tridiag \\left[ 1, -2, 1 \\right],\n",
    "$$\n",
    "and solution of (1) has the form\n",
    "$$\n",
    "v_{k+1} = e^{h \\left( I \\otimes L + L \\otimes I \\right)} \\rho_{k},\n",
    "$$\n",
    "or\n",
    "$$\n",
    "v_{k+1} = e^h \\left( e^L \\otimes e^L \\right) \\rho_{k},\n",
    "$$"
   ]
  },
  {
   "cell_type": "markdown",
   "metadata": {},
   "source": [
    "Equation (2) looks like equation for PDF $w$ of solution of ODE\n",
    "$$\n",
    "dx = f(x, t) \\, dt\n",
    "\\quad\n",
    "x(0) = x_0.\n",
    "$$\n",
    "\n",
    "According to stochastic Euler scheme\n",
    "$$\n",
    "x_{k+1} = x_{k} + h f(x_{k}, t_{k}),\n",
    "$$\n",
    "and using PDF transformation formula, we obtain\n",
    "$$\n",
    "w_{k+1} = \\frac{w_{k}}{det \\left(I + h \\frac{\\partial f}{\\partial x} \\right)} \\approx\n",
    "    w_{k} \\left( 1 - h \\cdot tr \\left( \\frac{\\partial f}{\\partial x} \\right) \\right).\n",
    "$$"
   ]
  },
  {
   "cell_type": "markdown",
   "metadata": {},
   "source": [
    "Finally we obtain\n",
    "$$\n",
    "\\rho_{k+1} = \n",
    "    e^h\n",
    "    \\left( e^L \\otimes e^L \\right)\n",
    "    \\left( 1 - h \\cdot tr \\left( \\frac{\\partial f}{\\partial x} \\right) \\right)\n",
    "    \\rho_{k},\n",
    "$$"
   ]
  },
  {
   "cell_type": "markdown",
   "metadata": {},
   "source": []
  }
 ],
 "metadata": {
  "kernelspec": {
   "display_name": "Python 3",
   "language": "python",
   "name": "python3"
  },
  "language_info": {
   "codemirror_mode": {
    "name": "ipython",
    "version": 3
   },
   "file_extension": ".py",
   "mimetype": "text/x-python",
   "name": "python",
   "nbconvert_exporter": "python",
   "pygments_lexer": "ipython3",
   "version": "3.7.1"
  }
 },
 "nbformat": 4,
 "nbformat_minor": 2
}
