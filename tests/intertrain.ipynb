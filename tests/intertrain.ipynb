{
 "cells": [
  {
   "cell_type": "markdown",
   "metadata": {},
   "source": [
    "## Tests for interpolation by Chebyshev polynomials in the TT-format with cross approximation\n",
    "\n",
    "> Tests for interpolation by Chebyshev polynomials in the TT-format with cross approximation\n",
    "\n",
    "Let consider 4D function of the form\n",
    "\n",
    "$$\n",
    "f(x) = 7 + x_1^2 + e^{-x_2} + \\sin{x_3} + x_4^3\n",
    "$$"
   ]
  },
  {
   "cell_type": "code",
   "execution_count": 1,
   "metadata": {},
   "outputs": [],
   "source": [
    "import sys\n",
    "import time\n",
    "\n",
    "import numpy as np\n",
    "import matplotlib.pyplot as plt\n",
    "\n",
    "import tt\n",
    "\n",
    "sys.path.append('./../lib')\n",
    "from intertrain import Intertrain"
   ]
  },
  {
   "cell_type": "code",
   "execution_count": 2,
   "metadata": {},
   "outputs": [],
   "source": [
    "def func(x):\n",
    "    return 7. + x[0, ]**2 + np.exp(-x[1, ]) + np.sin(x[2, ]) + x[3, ]**3"
   ]
  },
  {
   "cell_type": "code",
   "execution_count": 12,
   "metadata": {},
   "outputs": [],
   "source": [
    "IT = Intertrain(\n",
    "    n=[20, 20, 20, 20],\n",
    "    l=[ [-3., 3.], [-3., 3.], [-3., 3.], [-3., 3.] ],\n",
    "    eps=1.E-6\n",
    ")"
   ]
  },
  {
   "cell_type": "markdown",
   "metadata": {},
   "source": [
    "### Interpolation from explicit tensor of function values"
   ]
  },
  {
   "cell_type": "code",
   "execution_count": 13,
   "metadata": {},
   "outputs": [
    {
     "name": "stdout",
     "output_type": "stream",
     "text": [
      "------------------ Parameters\n",
      "Dimensions       :        4\n",
      "Accuracy         : 1.00e-06\n",
      "Dim 1  | Poi 20  | Min -3.000 | Max 3.000  |\n",
      "Dim 2  | Poi 20  | Min -3.000 | Max 3.000  |\n",
      "Dim 3  | Poi 20  | Min -3.000 | Max 3.000  |\n",
      "Dim 4  | Poi 20  | Min -3.000 | Max 3.000  |\n",
      "------------------ Test (random points)\n",
      "Number of points : 10\n",
      "Error (max)      : 8.07e-15 \n",
      "Error (mean)     : 3.26e-15 \n",
      "Error (min)      : 7.77e-16 \n",
      "------------------ Time\n",
      "Init             : 9.54e-07 sec. \n",
      "Prep             : 5.14e-04 sec. \n",
      "Calc (average)   : 2.21e-04 sec. \n",
      "Func (average)   : 0.00e+00 sec. \n",
      "------------------\n"
     ]
    }
   ],
   "source": [
    "Y = np.zeros(IT.n)\n",
    "for ind, v in np.ndenumerate(Y):\n",
    "    Y[ind] = func(IT.point(np.array(ind)))\n",
    "Y = tt.tensor(Y, IT.eps)\n",
    "\n",
    "IT.init(Y=Y)\n",
    "IT.prep()\n",
    "IT.info(func)"
   ]
  },
  {
   "cell_type": "markdown",
   "metadata": {},
   "source": [
    "### Interpolation with cross approximation"
   ]
  },
  {
   "cell_type": "code",
   "execution_count": 14,
   "metadata": {},
   "outputs": [
    {
     "name": "stdout",
     "output_type": "stream",
     "text": [
      "------------------ Parameters\n",
      "Dimensions       :        4\n",
      "Accuracy         : 1.00e-06\n",
      "Dim 1  | Poi 20  | Min -3.000 | Max 3.000  |\n",
      "Dim 2  | Poi 20  | Min -3.000 | Max 3.000  |\n",
      "Dim 3  | Poi 20  | Min -3.000 | Max 3.000  |\n",
      "Dim 4  | Poi 20  | Min -3.000 | Max 3.000  |\n",
      "------------------ Test (random points)\n",
      "Number of points : 10\n",
      "Error (max)      : 1.78e-12 \n",
      "Error (mean)     : 1.43e-12 \n",
      "Error (min)      : 1.08e-12 \n",
      "------------------ Time\n",
      "Init             : 8.00e+00 sec. \n",
      "Prep             : 4.19e-02 sec. \n",
      "Calc (average)   : 3.54e-04 sec. \n",
      "Func (average)   : 0.00e+00 sec. \n",
      "------------------\n"
     ]
    }
   ],
   "source": [
    "IT.init(func)\n",
    "IT.prep()\n",
    "IT.info()"
   ]
  },
  {
   "cell_type": "code",
   "execution_count": 6,
   "metadata": {},
   "outputs": [
    {
     "data": {
      "text/plain": [
       "160000"
      ]
     },
     "execution_count": 6,
     "metadata": {},
     "output_type": "execute_result"
    }
   ],
   "source": [
    "20**4"
   ]
  },
  {
   "cell_type": "code",
   "execution_count": 15,
   "metadata": {},
   "outputs": [
    {
     "data": {
      "text/plain": [
       "137523"
      ]
     },
     "execution_count": 15,
     "metadata": {},
     "output_type": "execute_result"
    }
   ],
   "source": [
    "IT.calc_num"
   ]
  },
  {
   "cell_type": "code",
   "execution_count": null,
   "metadata": {},
   "outputs": [],
   "source": []
  }
 ],
 "metadata": {
  "kernelspec": {
   "display_name": "Python 3",
   "language": "python",
   "name": "python3"
  },
  "language_info": {
   "codemirror_mode": {
    "name": "ipython",
    "version": 3
   },
   "file_extension": ".py",
   "mimetype": "text/x-python",
   "name": "python",
   "nbconvert_exporter": "python",
   "pygments_lexer": "ipython3",
   "version": "3.7.1"
  }
 },
 "nbformat": 4,
 "nbformat_minor": 2
}
