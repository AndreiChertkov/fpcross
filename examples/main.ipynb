{
 "cells": [
  {
   "cell_type": "markdown",
   "metadata": {},
   "source": [
    "<div class=\"head0\">\n",
    "    <div class=\"head0__name\">\n",
    "        Basic examples for the package fpcross\n",
    "    </div>\n",
    "    <div class=\"head0__note\">\n",
    "        Solution of the multidimensional Fokker-Planck equation by fast and accurate tensor based methods.\n",
    "    </div>\n",
    "</div>\n",
    "\n",
    "<div class=\"note\">\n",
    "    See also examples for interpolation module in the jupyter lab notebook intertrain.ipynb.\n",
    "</div>"
   ]
  },
  {
   "cell_type": "code",
   "execution_count": 1,
   "metadata": {},
   "outputs": [],
   "source": [
    "import sys\n",
    "import numpy as np\n",
    "\n",
    "sys.path.extend(['./../lib', './../lib/models', './../helpers'])\n",
    "from model import Model\n",
    "from solver import Solver\n",
    "from solvers_check import SolversCheck\n",
    "from helpers import init_jupyter"
   ]
  },
  {
   "cell_type": "markdown",
   "metadata": {},
   "source": [
    "<div class=\"head1\">\n",
    "    <div class=\"head1__name\">\n",
    "        Solve equation, using explicit functions\n",
    "    </div>\n",
    "    <div class=\"head1__note\">\n",
    "        Consider, for example, a 3-dimensional Focker-Planck equation with the zero drift (diffusion equation) and set the corresponding parameters by hands.\n",
    "    </div>\n",
    "</div>"
   ]
  },
  {
   "cell_type": "markdown",
   "metadata": {},
   "source": [
    "<div class=\"head2\">\n",
    "    <div class=\"head2__name\">\n",
    "        Parameters\n",
    "    </div>\n",
    "    <div class=\"head2__note\">\n",
    "Consider\n",
    "$$\n",
    "    d x = f(x, t) \\, dt + S(x, t) \\, d \\beta,\n",
    "    \\quad\n",
    "    d \\beta \\, d \\beta^{\\top} = Q(t) dt,\n",
    "    \\quad\n",
    "    x(0) = x_0 \\sim \\rho(x, 0) = \\rho_0 (x),\n",
    "$$\n",
    "$$\n",
    "    \\frac{\\partial \\rho(x, t)}{\\partial t} =\n",
    "        \\sum_{i=1}^d \\sum_{j=1}^d\n",
    "            \\frac{\\partial^2}{\\partial x_i \\partial x_j}\n",
    "            \\left[ D_{ij}(x, t) \\rho(x, t) \\right]\n",
    "        - \\sum_{i=1}^d\n",
    "            \\frac{\\partial}{\\partial x_i}\n",
    "            \\left[ f_i(x, t) \\rho(x, t) \\right],\n",
    "    \\quad\n",
    "     D(x, t) = \\frac{1}{2} S(x, t) Q(t) S(x, t)^{\\top},\n",
    "$$\n",
    "where spatial $d$-dimensional ($d \\ge 1$) variable $x \\in R^d$ has probability density function (PDF) $\\rho(x, t)$, $\\beta$ is Brownian motion of dimension $q$ ($q \\ge 1$, and we assume below that $q = d$), $f(x, t) \\in R^d$ is a vector-function, $S(x, t) \\in R^{d \\times q}$ and $Q(t) \\in R^{q \\times q}$ are matrix-functions and $D(x, t) \\in R^{d \\times d}$ is a diffusion tensor.\n",
    "\n",
    "Let\n",
    "$$\n",
    "    Q(t) \\equiv I,\n",
    "    \\,\n",
    "    S(x, t) \\equiv \\sqrt{2 D_c} I\n",
    "    \\implies\n",
    "    D(x, t) \\equiv D_c I,\n",
    "$$\n",
    "and\n",
    "$$\n",
    "    d = 3,\n",
    "    \\quad\n",
    "    x \\in \\Omega,\n",
    "    \\quad\n",
    "    \\rho(x, t) |_{\\partial \\Omega} \\approx 0,\n",
    "    \\quad\n",
    "    f(x, t) \\equiv 0,\n",
    "    \\quad\n",
    "    \\rho_0(x) = \\frac{1}{(2 \\pi s)^{\\frac{3}{2}}}\\exp{\\left[-\\frac{|x|^2}{2s}\\right]}.\n",
    "$$\n",
    "\n",
    "It can be shown that the analytic solution is\n",
    "$$\n",
    "    \\rho(x, t) =\n",
    "        (2 \\pi s + 4 \\pi D t)^{-\\frac{3}{2}}\n",
    "        \\exp{ \\left[\n",
    "            - \\frac\n",
    "                {\n",
    "                    |x|^2\n",
    "                }\n",
    "                {\n",
    "                    2  s + 4 D t\n",
    "                }\n",
    "        \\right] },\n",
    "$$\n",
    "and the stationary solution ($t \\rightarrow \\infty$) is\n",
    "$$\n",
    "    \\rho_{stat}(x) = 0.\n",
    "$$\n",
    "    </div>\n",
    "</div>\n",
    "\n",
    "<div class=\"note\">\n",
    "    Since interpolation is not required for the case of the zero drift ($f \\equiv 0$), but our solver calculates it by design, then it is expected to operate much slower than another simple solvers.\n",
    "</div>"
   ]
  },
  {
   "cell_type": "code",
   "execution_count": 2,
   "metadata": {},
   "outputs": [],
   "source": [
    "def f0(x, t): # This is f(x, t) function\n",
    "    return np.zeros(x.shape)\n",
    "\n",
    "def f1(x, t): # This is d f(x, t) / d x function\n",
    "    return np.zeros(x.shape)\n",
    "\n",
    "def r0(x):    # This is initial condition\n",
    "    a = 2. * s\n",
    "    r = np.exp(-np.sum(x*x, axis=0) / a) / (np.pi * a)**1.5\n",
    "    return r.reshape(-1)\n",
    "\n",
    "def rt(x, t): # This is exact analytic solution\n",
    "    a = 2. * s + 4. * D * t\n",
    "    r = np.exp(-np.sum(x*x, axis=0) / a) / (np.pi * a)**1.5\n",
    "    return r.reshape(-1)\n",
    "    \n",
    "s = 1.\n",
    "D = 0.5"
   ]
  },
  {
   "cell_type": "markdown",
   "metadata": {},
   "source": [
    "<div class=\"head2\">\n",
    "    <div class=\"head2__name\">\n",
    "        Solution in the dense (NP) format\n",
    "    </div>\n",
    "    <div class=\"head2__note\"></div>\n",
    "</div>"
   ]
  },
  {
   "cell_type": "code",
   "execution_count": 6,
   "metadata": {},
   "outputs": [
    {
     "name": "stderr",
     "output_type": "stream",
     "text": [
      "Solve: 100%|█████| 99/99 [01:26<00:00,  1.16step/s, | At T=1.0e+00 : er=3.8e-03]"
     ]
    },
    {
     "name": "stdout",
     "output_type": "stream",
     "text": [
      "----------- Solver\n",
      "Format    : 3D, NP [order=2]\n",
      "Grid t    : poi =       100, min =    0.0000, max =    1.0000\n",
      "Grid x    : poi =        21, min =   -5.0000, max =    5.0000\n",
      "Time sec  : prep = 1.88e+00, calc = 8.63e+01, spec = 1.03e-01\n",
      "Err real  : 3.76e-03\n"
     ]
    },
    {
     "name": "stderr",
     "output_type": "stream",
     "text": [
      "\n"
     ]
    }
   ],
   "source": [
    "SL = Solver(d=3)\n",
    "SL.set_funcs(f0, f1, r0, rt)\n",
    "SL.set_coefs(D)\n",
    "SL.set_grid_t(100, 0., 1., t_hst=10)\n",
    "SL.set_grid_x(21, -5., 5.)\n",
    "SL.prep()\n",
    "SL.calc()\n",
    "SL.info()"
   ]
  },
  {
   "cell_type": "markdown",
   "metadata": {},
   "source": [
    "<div class=\"head2\">\n",
    "    <div class=\"head2__name\">\n",
    "        Solution in the sparse (TT) format\n",
    "    </div>\n",
    "    <div class=\"head2__note\"></div>\n",
    "</div>"
   ]
  },
  {
   "cell_type": "code",
   "execution_count": 8,
   "metadata": {},
   "outputs": [
    {
     "name": "stderr",
     "output_type": "stream",
     "text": [
      "Solve: 100%|█████| 99/99 [00:53<00:00,  1.22step/s, | At T=1.0e+00 : er=3.8e-03]"
     ]
    },
    {
     "name": "stdout",
     "output_type": "stream",
     "text": [
      "----------- Solver\n",
      "Format    : 3D, TT, eps= 1.00e-02 [order=2]\n",
      "Grid t    : poi =       100, min =    0.0000, max =    1.0000\n",
      "Grid x    : poi =        21, min =   -5.0000, max =    5.0000\n",
      "Time sec  : prep = 2.66e-03, calc = 5.36e+01, spec = 2.06e-01\n",
      "Err real  : 3.76e-03\n"
     ]
    },
    {
     "name": "stderr",
     "output_type": "stream",
     "text": [
      "\n"
     ]
    }
   ],
   "source": [
    "SL = Solver(d=3, eps=1.E-2, with_tt=True)\n",
    "SL.set_funcs(f0, f1, r0, rt)\n",
    "SL.set_coefs(D)\n",
    "SL.set_grid_t(100, 0., 1., t_hst=10)\n",
    "SL.set_grid_x(21, -5., 5.)\n",
    "SL.prep()\n",
    "SL.calc()\n",
    "SL.info()"
   ]
  },
  {
   "cell_type": "markdown",
   "metadata": {},
   "source": [
    "<div class=\"head1\">\n",
    "    <div class=\"head1__name\">\n",
    "        Solve equation, using the model\n",
    "    </div>\n",
    "    <div class=\"head1__note\">\n",
    "        We can set the same equation, using the predefined corresponding model.\n",
    "    </div>\n",
    "</div>"
   ]
  },
  {
   "cell_type": "code",
   "execution_count": 9,
   "metadata": {},
   "outputs": [],
   "source": [
    "MD = Model('fpe_3d_drift_zero')\n",
    "MD.init(s=1., D=0.5)"
   ]
  },
  {
   "cell_type": "markdown",
   "metadata": {},
   "source": [
    "<div class=\"head2\">\n",
    "    <div class=\"head2__name\">\n",
    "        Detailed info about model equation\n",
    "    </div>\n",
    "    <div class=\"head2__note\">\n",
    "        We can present the model description in markdown format.\n",
    "    </div>\n",
    "</div>"
   ]
  },
  {
   "cell_type": "code",
   "execution_count": 10,
   "metadata": {},
   "outputs": [],
   "source": [
    "# MD.info()"
   ]
  },
  {
   "cell_type": "markdown",
   "metadata": {},
   "source": [
    "<div class=\"head2\">\n",
    "    <div class=\"head2__name\">\n",
    "        Solution in the sparse (TT) format, using the model\n",
    "    </div>\n",
    "    <div class=\"head2__note\"></div>\n",
    "</div>"
   ]
  },
  {
   "cell_type": "code",
   "execution_count": 11,
   "metadata": {},
   "outputs": [
    {
     "name": "stderr",
     "output_type": "stream",
     "text": [
      "Solve: 100%|█████| 99/99 [01:46<00:00,  1.79s/step, | At T=1.0e+00 : er=3.8e-03]"
     ]
    },
    {
     "name": "stdout",
     "output_type": "stream",
     "text": [
      "----------- Solver\n",
      "Format    : 3D, TT, eps= 1.00e-06 [order=2]\n",
      "Grid t    : poi =       100, min =    0.0000, max =    1.0000\n",
      "Grid x    : poi =        21, min =   -5.0000, max =    5.0000\n",
      "Time sec  : prep = 2.72e-03, calc = 1.06e+02, spec = 2.10e-01\n",
      "Err real  : 3.76e-03\n"
     ]
    },
    {
     "name": "stderr",
     "output_type": "stream",
     "text": [
      "\n"
     ]
    }
   ],
   "source": [
    "SL = Solver(model=MD, eps=1.E-6, with_tt=True)\n",
    "SL.set_grid_t(100, 0., 1., t_hst=10)\n",
    "SL.set_grid_x(21, -5., 5.)\n",
    "SL.prep()\n",
    "SL.calc()\n",
    "SL.info()"
   ]
  },
  {
   "cell_type": "markdown",
   "metadata": {},
   "source": [
    "<div class=\"head1\">\n",
    "    <div class=\"head1__name\">\n",
    "        Solution visualization\n",
    "    </div>\n",
    "    <div class=\"head1__note\"></div>\n",
    "</div>"
   ]
  },
  {
   "cell_type": "code",
   "execution_count": null,
   "metadata": {},
   "outputs": [],
   "source": [
    "# TODO!"
   ]
  },
  {
   "cell_type": "markdown",
   "metadata": {},
   "source": [
    "<div class=\"head1\">\n",
    "    <div class=\"head1__name\">\n",
    "        Solution of the 3-dimensional Ornstein-Uhlenbeck process\n",
    "    </div>\n",
    "    <div class=\"head1__note\">\n",
    "        Consider more complex example with known stationary solution.\n",
    "    </div>\n",
    "</div>"
   ]
  },
  {
   "cell_type": "code",
   "execution_count": 12,
   "metadata": {},
   "outputs": [],
   "source": [
    "MD = Model('fpe_oup')\n",
    "MD.init(d=3, A=np.eye(3))\n",
    "# MD.info()"
   ]
  },
  {
   "cell_type": "code",
   "execution_count": 13,
   "metadata": {},
   "outputs": [
    {
     "name": "stderr",
     "output_type": "stream",
     "text": [
      "Solve: 100%|█████| 99/99 [01:24<00:00,  1.27step/s, | At T=1.0e+00 : es=1.2e-01]"
     ]
    },
    {
     "name": "stdout",
     "output_type": "stream",
     "text": [
      "----------- Solver\n",
      "Format    : 3D, TT, eps= 1.00e-06 [order=2]\n",
      "Grid t    : poi =       100, min =    0.0000, max =    1.0000\n",
      "Grid x    : poi =        21, min =   -3.0000, max =    3.0000\n",
      "Time sec  : prep = 2.14e-03, calc = 8.42e+01, spec = 2.10e-01\n",
      "Err stat  : 1.19e-01\n"
     ]
    },
    {
     "name": "stderr",
     "output_type": "stream",
     "text": [
      "\n"
     ]
    }
   ],
   "source": [
    "SL = Solver(model=MD, eps=1.E-6, with_tt=True)\n",
    "SL.set_grid_t(100, 0., 1., t_hst=10)\n",
    "SL.set_grid_x(21, -3., 3.)\n",
    "SL.prep()\n",
    "SL.calc()\n",
    "SL.info()\n",
    "# TODO! Set more time/spatial points for this example"
   ]
  },
  {
   "cell_type": "markdown",
   "metadata": {},
   "source": [
    "<div class=\"end\"></div>"
   ]
  }
 ],
 "metadata": {
  "kernelspec": {
   "display_name": "Python 3",
   "language": "python",
   "name": "python3"
  },
  "language_info": {
   "codemirror_mode": {
    "name": "ipython",
    "version": 3
   },
   "file_extension": ".py",
   "mimetype": "text/x-python",
   "name": "python",
   "nbconvert_exporter": "python",
   "pygments_lexer": "ipython3",
   "version": "3.7.1"
  }
 },
 "nbformat": 4,
 "nbformat_minor": 2
}
