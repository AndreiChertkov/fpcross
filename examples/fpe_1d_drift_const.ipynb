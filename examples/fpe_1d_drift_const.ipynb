{
 "cells": [
  {
   "cell_type": "code",
   "execution_count": 1,
   "metadata": {},
   "outputs": [
    {
     "name": "stdout",
     "output_type": "stream",
     "text": [
      "Start |  6:38PM MSK on Sep 23, 2019 |\n",
      "-------------------------------------\n"
     ]
    },
    {
     "data": {
      "text/html": [
       "<style>div {\n",
       "  margin: 0;\n",
       "  padding: 0;\n",
       "}\n",
       "\n",
       ".head0 {\n",
       "  padding: 10px;\n",
       "  display: flex;\n",
       "  background-color: #dedee2;\n",
       "}\n",
       ".head0__name {\n",
       "  padding-right: 5px;\n",
       "  flex: 1 1 50%;\n",
       "  align-self: center;\n",
       "  font-size: 36px;\n",
       "  font-weight: bold;\n",
       "  color: #6b7e51;\n",
       "}\n",
       ".head0__note {\n",
       "  padding-left: 10px;\n",
       "  flex: 1 1 50%;\n",
       "  align-self: flex-end;\n",
       "  font-size: 16px;\n",
       "  font-style: italic;\n",
       "  color: #485536;\n",
       "  border-left: 5px solid #8b1d1d;\n",
       "}\n",
       "\n",
       ".head1 {\n",
       "  margin-top: 30px;\n",
       "  padding: 10px;\n",
       "  border-top: 5px solid #8b1d1d;\n",
       "}\n",
       ".head1__name {\n",
       "  font-size: 32px;\n",
       "  font-weight: bold;\n",
       "  color: #485536;\n",
       "}\n",
       ".head1__note {\n",
       "  padding-left: 20px;\n",
       "  font-size: 20px;\n",
       "  font-style: italic;\n",
       "  color: #485536;\n",
       "}\n",
       "\n",
       ".head2 {\n",
       "  margin-top: 7px;\n",
       "  padding: 5px 30px 5px;\n",
       "  border-left: 2px solid #42d56e;\n",
       "}\n",
       ".head2__name {\n",
       "  display: inline-block;\n",
       "  max-width: 70%;\n",
       "  padding: 2px 10px;\n",
       "  font-size: 22px;\n",
       "  font-weight: bold;\n",
       "  color: #145929;\n",
       "  border-bottom: 2px solid #42d56e;\n",
       "}\n",
       ".head2__note {\n",
       "  padding: 5px 10px 0px;\n",
       "  font-size: 14px;\n",
       "  font-style: italic;\n",
       "  color: #485536;\n",
       "}\n",
       "\n",
       ".head3 {\n",
       "  margin-top: 5px;\n",
       "  padding: 3px 40px 3px;\n",
       "  border-left: 2px dotted #485536;\n",
       "}\n",
       ".head3__name {\n",
       "  display: inline-block;\n",
       "  max-width: 70%;\n",
       "  padding: 2px 10px;\n",
       "  font-size: 20px;\n",
       "  font-weight: bold;\n",
       "  color: #145929;\n",
       "  border-bottom: 2px dotted #485536;\n",
       "}\n",
       ".head3__note {\n",
       "  padding: 2px 10px 0px;\n",
       "  font-size: 12px;\n",
       "  font-style: italic;\n",
       "  color: #485536;\n",
       "}\n",
       "\n",
       ".warn {\n",
       "  background-color: #fcf2f2;\n",
       "  border-color: #dfb5b4;\n",
       "  border-left: 5px solid #dfb5b4;\n",
       "  padding: 0.5em;\n",
       "}\n",
       ".note {\n",
       "  color: #42d56e;\n",
       "}\n",
       ".note::before {\n",
       "  content: 'Note. ';\n",
       "  font-weight: bold;\n",
       "  color: #485536;\n",
       "}\n",
       "\n",
       ".end {\n",
       "  padding: 5px;\n",
       "  border-top: 5px solid #8b1d1d;\n",
       "  border-bottom: 5px solid #8b1d1d;\n",
       "}\n",
       "</style>"
      ],
      "text/plain": [
       "<IPython.core.display.HTML object>"
      ]
     },
     "execution_count": 1,
     "metadata": {},
     "output_type": "execute_result"
    }
   ],
   "source": [
    "import sys\n",
    "import numpy as np\n",
    "\n",
    "sys.path.extend(['./../lib', './../lib/models', './../helpers'])\n",
    "from model import Model\n",
    "from solver import Solver\n",
    "from solvers_check import SolversCheck\n",
    "from helpers import init_jupyter\n",
    "\n",
    "init_jupyter()"
   ]
  },
  {
   "cell_type": "code",
   "execution_count": 2,
   "metadata": {},
   "outputs": [
    {
     "data": {
      "text/markdown": [
       "\n",
       "\n",
       "<div class=\"head0\">\n",
       "    <div class=\"head0__name\">\n",
       "        Model problem\n",
       "    </div>\n",
       "    <div class=\"head0__note\">\n",
       "        One-dimensional Focker Planck equation with the constant drift\n",
       "    </div>\n",
       "</div>\n",
       "\n",
       "<div class=\"head2\">\n",
       "    <div class=\"head2__name\">\n",
       "        Parameters\n",
       "    </div>\n",
       "    <div class=\"head2__note\">\n",
       "        <ul>\n",
       "            <li>$s$ - variance of the initial condition (float, default $= 0.1$)</li>\n",
       "            <li>$D_c$ - diffusion coefficient (float, default $= 0.02$)</li>\n",
       "            <li>$v$ - constant drift value (float, default $= 0.02$)</li>\n",
       "        </ul>\n",
       "    </div>\n",
       "</div>\n",
       "\n",
       "<div class=\"head1\">\n",
       "    <div class=\"head1__name\">\n",
       "        Description\n",
       "    </div>\n",
       "</div>\n",
       "\n",
       "Consider\n",
       "$$\n",
       "    d x = f(x, t) \\, dt + S(x, t) \\, d \\beta,\n",
       "    \\quad\n",
       "    d \\beta \\, d \\beta^{\\top} = Q(t) dt,\n",
       "    \\quad\n",
       "    x(0) = x_0 \\sim \\rho(x, 0) = \\rho_0 (x),\n",
       "$$\n",
       "$$\n",
       "    \\frac{\\partial \\rho(x, t)}{\\partial t} =\n",
       "        \\sum_{i=1}^d \\sum_{j=1}^d\n",
       "            \\frac{\\partial^2}{\\partial x_i \\partial x_j}\n",
       "            \\left[ D_{ij}(x, t) \\rho(x, t) \\right]\n",
       "        - \\sum_{i=1}^d\n",
       "            \\frac{\\partial}{\\partial x_i}\n",
       "            \\left[ f_i(x, t) \\rho(x, t) \\right],\n",
       "    \\quad\n",
       "     D(x, t) = \\frac{1}{2} S(x, t) Q(t) S(x, t)^{\\top},\n",
       "$$\n",
       "where spatial $d$-dimensional ($d \\ge 1$) variable $x \\in R^d$ has probability density function (PDF) $\\rho(x, t)$, $\\beta$ is Brownian motion of dimension $q$ ($q \\ge 1$, and we assume below that $q = d$), $f(x, t) \\in R^d$ is a vector-function, $S(x, t) \\in R^{d \\times q}$ and $Q(t) \\in R^{q \\times q}$ are matrix-functions and $D(x, t) \\in R^{d \\times d}$ is a diffusion tensor.\n",
       "\n",
       "Let\n",
       "$$\n",
       "    Q(t) \\equiv I,\n",
       "    \\,\n",
       "    S(x, t) \\equiv \\sqrt{2 D_c} I\n",
       "    \\implies\n",
       "    D(x, t) \\equiv D_c I,\n",
       "$$\n",
       "and\n",
       "$$\n",
       "    d = 1,\n",
       "    \\quad\n",
       "    x \\in \\Omega,\n",
       "    \\quad\n",
       "    \\rho(x, t) |_{\\partial \\Omega} \\approx 0,\n",
       "    \\quad\n",
       "    f(x, t) \\equiv v,\n",
       "    \\quad\n",
       "    \\rho_0(x) = \\frac{1}{\\sqrt{2 \\pi s}}\\exp{\\left[-\\frac{x^2}{2s}\\right]}.\n",
       "$$\n",
       "\n",
       "This equation has exact solution ([see this paper](http://www.icmp.lviv.ua/journal/zbirnyk.73/13002/art13002.pdf); note that there is a typo in the paper for this formula: $\\pi$ is missed!)\n",
       "$$\n",
       "    \\rho(x, t, x_0) =\n",
       "        \\frac{1}{\\sqrt{4 \\pi D t}}\n",
       "        \\exp{\\left[\n",
       "            - \\frac\n",
       "                {\n",
       "                    \\left( x - x_0 - v t \\right)^2\n",
       "                }\n",
       "                {\n",
       "                    4 D t\n",
       "                }\n",
       "        \\right]},\n",
       "$$\n",
       "where $x_0$ is an initial condition.\n",
       "\n",
       "We can rewrite the solution $\\rho(x, t, x_0)$ in terms of the initial PDF $\\rho_0(x)$ as\n",
       "$$\n",
       "    \\rho(x, t) = \\int_{-\\infty}^{\\infty}\n",
       "        \\rho(x, t, x_0) \\rho_0(x_0) \\, d x_0,\n",
       "$$\n",
       "which after accurate computations leads to the following analytic solution\n",
       "$$\n",
       "    \\rho(x, t) =\n",
       "        \\frac\n",
       "            {\n",
       "                1\n",
       "            }\n",
       "            {\n",
       "                \\sqrt{2 \\pi s + 4 \\pi D t}\n",
       "            }\n",
       "        \\exp{ \\left[\n",
       "            - \\frac\n",
       "                {\n",
       "                    (x - vt)^2\n",
       "                }\n",
       "                {\n",
       "                    2  s + 4 D t\n",
       "                }\n",
       "        \\right] },\n",
       "$$\n",
       "and the stationary solution ($t \\rightarrow \\infty$) is\n",
       "$$\n",
       "    \\rho_{stat}(x) = 0.\n",
       "$$\n",
       "\n",
       "<div class=\"note\">\n",
       "    The final solution is not vanish on the boundary, hence we have significant integral error on the grid. At the same time, on the inner grid points solution is very accurate.\n",
       "</div>\n",
       "\n",
       "<div class=\"end\"></div>\n",
       "    "
      ],
      "text/plain": [
       "<IPython.core.display.Markdown object>"
      ]
     },
     "metadata": {},
     "output_type": "display_data"
    }
   ],
   "source": [
    "MD = Model('fpe_1d_drift_const')\n",
    "MD.init(s=0.1, D=0.02, v=0.02)\n",
    "MD.info()"
   ]
  },
  {
   "cell_type": "code",
   "execution_count": 3,
   "metadata": {},
   "outputs": [
    {
     "name": "stderr",
     "output_type": "stream",
     "text": [
      "Solve: 100%|██| 999/999 [00:03<00:00, 253.88step/s, | At T=1.0e+00 : er=5.1e-05]"
     ]
    },
    {
     "name": "stdout",
     "output_type": "stream",
     "text": [
      "----------- Solver\n",
      "Format    : 1D, NP [order=2]\n",
      "Grid t    : poi =      1000, min =    0.0000, max =    1.0000\n",
      "Grid x    : poi =       101, min =   -9.0000, max =    9.0000\n",
      "Time sec  : prep = 1.57e-02, calc = 3.88e+00, spec = 5.06e-02\n",
      "Err real  : 5.15e-05\n"
     ]
    },
    {
     "name": "stderr",
     "output_type": "stream",
     "text": [
      "\n"
     ]
    }
   ],
   "source": [
    "SL = Solver(model=MD)\n",
    "SL.set_grid_t(1000, 0., 1., t_hst=10)\n",
    "SL.set_grid_x(101, -9., 9.)\n",
    "SL.prep()\n",
    "SL.calc()\n",
    "SL.info()"
   ]
  },
  {
   "cell_type": "code",
   "execution_count": null,
   "metadata": {},
   "outputs": [],
   "source": [
    "opts = { 'is_log': True, 'is_abs': False, 'is_err_abs': False, 'with_err_stat': False }\n",
    "SL.plot_t(-4.5, opts)\n",
    "SL.plot_t(+0.0, opts)\n",
    "SL.plot_t(+4.5, opts)"
   ]
  },
  {
   "cell_type": "code",
   "execution_count": null,
   "metadata": {},
   "outputs": [],
   "source": [
    "opts = { 'is_log': True, 'is_abs': False, 'is_err_abs': False, 'with_err_stat': False }\n",
    "SL.plot_x(+0.1, opts)\n",
    "SL.plot_x(+0.5, opts)\n",
    "SL.plot_x(None, opts)"
   ]
  },
  {
   "cell_type": "markdown",
   "metadata": {},
   "source": [
    "<div class=\"head1\">\n",
    "    <div class=\"head1__name\">\n",
    "        Results for multiple computations\n",
    "    </div>\n",
    "    <div class=\"head1__note\">\n",
    "        We use results that already saved to file (see computations code at the end of this file).\n",
    "    </div>\n",
    "</div>"
   ]
  },
  {
   "cell_type": "code",
   "execution_count": 2,
   "metadata": {},
   "outputs": [],
   "source": [
    "SLC = SolversCheck('./../computations/data/fpe_1d_drift_const')\n",
    "SLC.load()\n",
    "\n",
    "name1 = 'Solver (ord=1)'\n",
    "name2 = 'Solver (ord=2)'\n",
    "\n",
    "M = SLC.res[name2]['M']\n",
    "N = SLC.res[name2]['N']\n",
    "\n",
    "m = M[-1]\n",
    "n = N[-1]"
   ]
  },
  {
   "cell_type": "markdown",
   "metadata": {},
   "source": [
    "<div class=\"head2\">\n",
    "    <div class=\"head2__name\">\n",
    "        Dependence on the number of time points\n",
    "    </div>\n",
    "    <div class=\"head2__note\">\n",
    "        We present results for NP-solver of the 2th order.\n",
    "    </div>\n",
    "</div>"
   ]
  },
  {
   "cell_type": "code",
   "execution_count": 3,
   "metadata": {},
   "outputs": [
    {
     "data": {
      "image/png": "[encoded data removed]",
      "text/plain": [
       "<Figure size 720x360 with 2 Axes>"
      ]
     },
     "metadata": {
      "needs_background": "light"
     },
     "output_type": "display_data"
    }
   ],
   "source": [
    "SLC.plot(name2, n=n, is_stat=False, is_xpoi=False, lims={ 'all': [0, None] })"
   ]
  },
  {
   "cell_type": "markdown",
   "metadata": {},
   "source": [
    "<div class=\"head2\">\n",
    "    <div class=\"head2__name\">\n",
    "        Dependence on the number of spatial points\n",
    "    </div>\n",
    "    <div class=\"head2__note\">\n",
    "        We present results for NP-solver of the 2th order.\n",
    "    </div>\n",
    "</div>"
   ]
  },
  {
   "cell_type": "code",
   "execution_count": 4,
   "metadata": {},
   "outputs": [
    {
     "data": {
      "image/png": "[encoded data removed]",
      "text/plain": [
       "<Figure size 720x360 with 2 Axes>"
      ]
     },
     "metadata": {
      "needs_background": "light"
     },
     "output_type": "display_data"
    }
   ],
   "source": [
    "SLC.plot(name2, m=m, is_stat=False, is_xpoi=False, lims={ 'all': [0, None] })"
   ]
  },
  {
   "cell_type": "markdown",
   "metadata": {},
   "source": [
    "<div class=\"head2\">\n",
    "    <div class=\"head2__name\">\n",
    "        Dependence on the solver order\n",
    "    </div>\n",
    "    <div class=\"head2__note\">\n",
    "        We present results (dependencies on the number of time and spatial points) for NP-solvers of various orders.\n",
    "    </div>\n",
    "</div>"
   ]
  },
  {
   "cell_type": "code",
   "execution_count": 5,
   "metadata": {},
   "outputs": [
    {
     "data": {
      "image/png": "[encoded data removed]",
      "text/plain": [
       "<Figure size 720x360 with 2 Axes>"
      ]
     },
     "metadata": {
      "needs_background": "light"
     },
     "output_type": "display_data"
    }
   ],
   "source": [
    "SLC.plot_all(n=n, is_stat=False, is_xpoi=False)"
   ]
  },
  {
   "cell_type": "code",
   "execution_count": 6,
   "metadata": {},
   "outputs": [
    {
     "data": {
      "image/png": "[encoded data removed]",
      "text/plain": [
       "<Figure size 720x360 with 2 Axes>"
      ]
     },
     "metadata": {
      "needs_background": "light"
     },
     "output_type": "display_data"
    }
   ],
   "source": [
    "SLC.plot_all(m=m, is_stat=False, is_xpoi=False)"
   ]
  },
  {
   "cell_type": "markdown",
   "metadata": {},
   "source": [
    "<div class=\"head1\">\n",
    "    <div class=\"head1__name\">\n",
    "        Explicit (simple) solvers\n",
    "    </div>\n",
    "    <div class=\"head1__note\">\n",
    "        Only for example and tests.\n",
    "    </div>\n",
    "</div>"
   ]
  },
  {
   "cell_type": "code",
   "execution_count": 8,
   "metadata": {},
   "outputs": [],
   "source": [
    "import time\n",
    "import numpy as np\n",
    "import scipy.sparse as sp\n",
    "from scipy.integrate import solve_ivp\n",
    "from scipy.linalg import expm as expm\n",
    "import matplotlib.pyplot as plt\n",
    "\n",
    "from intertrain import Intertrain"
   ]
  },
  {
   "cell_type": "code",
   "execution_count": 9,
   "metadata": {},
   "outputs": [],
   "source": [
    "d = 1\n",
    "m = t_poi\n",
    "n = x_poi\n",
    "l = (x_max - x_min) / (x_poi - 1)\n",
    "h = (t_max - t_min) / (t_poi - 1)\n",
    "T = np.linspace(t_min, t_max, t_poi)"
   ]
  },
  {
   "cell_type": "code",
   "execution_count": 10,
   "metadata": {},
   "outputs": [],
   "source": [
    "def show_x(X, r_calc, _time):\n",
    "    X = X.reshape(1, -1)\n",
    "    r_init = func_r0(X)\n",
    "    r_real = func_rt(X, t_max)\n",
    "    r_stat = func_rs(X)\n",
    "    e = np.linalg.norm(r_real - r_calc) / np.linalg.norm(r_real)\n",
    "\n",
    "    print('Number of spatial points : %8d'%x_poi)\n",
    "    print('Number of time points    : %8d'%t_poi)\n",
    "    print('Error (relative norm)    : %-12.2e'%e)\n",
    "    print('Total time (sec)         : %-12.2e'%_time)\n",
    "    print()\n",
    "    \n",
    "    plt.plot(\n",
    "        X.reshape(-1), r_init, '--', label='Initial',\n",
    "        linewidth=3, color='tab:blue'\n",
    "    )\n",
    "    plt.plot(\n",
    "        X.reshape(-1), r_calc, label='Calculated',\n",
    "        linewidth=1, color='tab:green', marker='o', markersize=7,\n",
    "        markerfacecolor='lightgreen', markeredgecolor='g'\n",
    "    )\n",
    "    plt.plot(\n",
    "        X.reshape(-1), r_real, label='Analytic',\n",
    "        linewidth=3, color='black'\n",
    "    )\n",
    "    plt.plot(\n",
    "        X.reshape(-1), r_stat, '--', label='Stationary',\n",
    "        linewidth=2, color='magenta'\n",
    "    )\n",
    "    \n",
    "    plt.title('Solution at the final time step')\n",
    "    plt.xlabel('x')\n",
    "    plt.ylabel('r')\n",
    "    plt.legend(loc='best')\n",
    "    plt.show()"
   ]
  },
  {
   "cell_type": "markdown",
   "metadata": {},
   "source": [
    "<div class=\"head2\">\n",
    "    <div class=\"head2__name\">\n",
    "        Uniform spatial grid and the 1st order splitting\n",
    "    </div>\n",
    "</div>\n",
    "\n",
    "We can solve equation on the uniform spatial grid for the time $t > 0$ with step $h$ and uniform spatial grid with step $l$ using the 2th order finite difference scheme\n",
    "\n",
    "$$\n",
    "    \\frac{\\partial \\rho}{\\partial t} = (D + Q) \\rho,\n",
    "$$\n",
    "where\n",
    "$$\n",
    "    D = \\frac{D_{coef}}{l^2} tridiag \\left( 1, -2, 1 \\right),\n",
    "    \\quad\n",
    "    Q = \\frac{1}{2 l} tridiag \\left( -1, 0, 1 \\right).\n",
    "$$\n",
    "\n",
    "Let apply the 1th order splitting method on the time step $(k+1)$\n",
    "$$\n",
    "    \\frac{\\partial v}{\\partial t} = D v,\n",
    "    \\quad\n",
    "    v_{k} = \\rho_{k},\n",
    "    \\quad\n",
    "    v_{k+1} = v = ?,\n",
    "$$\n",
    "$$\n",
    "    \\frac{\\partial w}{\\partial t} = Q w,\n",
    "    \\quad\n",
    "    w_{k} = v,\n",
    "    \\quad\n",
    "    w_{k+1} = \\rho_{k+1} = ?,\n",
    "$$\n",
    "and solve both ODEs by the 1th order Euler method."
   ]
  },
  {
   "cell_type": "code",
   "execution_count": 11,
   "metadata": {},
   "outputs": [
    {
     "name": "stdout",
     "output_type": "stream",
     "text": [
      "Number of spatial points :      121\n",
      "Number of time points    :     1000\n",
      "Error (relative norm)    : 9.59e-02    \n",
      "Total time (sec)         : 2.16e-02    \n",
      "\n"
     ]
    },
    {
     "data": {
      "image/png": "[encoded data removed]",
      "text/plain": [
       "<Figure size 432x288 with 1 Axes>"
      ]
     },
     "metadata": {
      "needs_background": "light"
     },
     "output_type": "display_data"
    }
   ],
   "source": [
    "_time = time.time()\n",
    "\n",
    "X = np.linspace(x_min, x_max, x_poi).reshape(1, -1)\n",
    "\n",
    "Q = sp.spdiags([\n",
    "        [-1.] * n,\n",
    "        [+1.] * n\n",
    "    ], [-1,  1], n, n).tocsr().toarray()\n",
    "Q = Q * (-0.5 * v_coef / l)\n",
    "\n",
    "D = sp.spdiags([\n",
    "        [+1.] * x_poi,\n",
    "        [-2.] * x_poi,\n",
    "        [+1.] * x_poi\n",
    "    ], [-1, 0, 1], x_poi, x_poi\n",
    ").tocsr().toarray()\n",
    "D = D * D_coef / l / l\n",
    "\n",
    "ZD = h * D\n",
    "ZQ = h * Q\n",
    "\n",
    "r = func_r0(X)\n",
    "for t in T[1:]:\n",
    "    v1 = r + ZD @ r\n",
    "    w1 = v1 + ZQ @ v1\n",
    "    r = w1\n",
    "\n",
    "show_x(X, r, time.time() - _time)"
   ]
  },
  {
   "cell_type": "markdown",
   "metadata": {},
   "source": [
    "<div class=\"head2\">\n",
    "    <div class=\"head2__name\">\n",
    "        Uniform spatial grid and the 2st order splitting\n",
    "    </div>\n",
    "</div>\n",
    "\n",
    "We can solve this equation by the same method as in the previous case but using 4th order Runge–Kutta method from the standard scipy solver and the 2th order splitting method."
   ]
  },
  {
   "cell_type": "code",
   "execution_count": 12,
   "metadata": {},
   "outputs": [
    {
     "name": "stdout",
     "output_type": "stream",
     "text": [
      "Number of spatial points :      121\n",
      "Number of time points    :     1000\n",
      "Error (relative norm)    : 9.53e-02    \n",
      "Total time (sec)         : 7.31e-01    \n",
      "\n"
     ]
    },
    {
     "data": {
      "image/png": "[encoded data removed]",
      "text/plain": [
       "<Figure size 432x288 with 1 Axes>"
      ]
     },
     "metadata": {
      "needs_background": "light"
     },
     "output_type": "display_data"
    }
   ],
   "source": [
    "_time = time.time()\n",
    "\n",
    "X = np.linspace(x_min, x_max, x_poi).reshape(1, -1)\n",
    "\n",
    "Q = sp.spdiags([\n",
    "        [-1.] * n,\n",
    "        [+1.] * n\n",
    "    ], [-1,  1], n, n).tocsr().toarray()\n",
    "Q = Q * (-0.5 * v_coef / l)\n",
    "\n",
    "D = sp.spdiags([\n",
    "        [+1.] * x_poi,\n",
    "        [-2.] * x_poi,\n",
    "        [+1.] * x_poi\n",
    "    ], [-1, 0, 1], x_poi, x_poi\n",
    ").tocsr().toarray()\n",
    "D = D * D_coef / l / l\n",
    "\n",
    "ZD = D\n",
    "ZQ = Q\n",
    "\n",
    "def func_d(t, r):\n",
    "    return ZD @ r\n",
    "\n",
    "def func_q(t, r):\n",
    "    return ZQ @ r\n",
    "\n",
    "r = func_r0(X)\n",
    "for t in T[1:]:\n",
    "    v1 = solve_ivp(func_d, [t - h/2, t], r).y[:, -1]\n",
    "    w1 = solve_ivp(func_q, [t - h, t], v1).y[:, -1]\n",
    "    v2 = solve_ivp(func_d, [t - h/2, t], w1).y[:, -1]\n",
    "    r = v2\n",
    "\n",
    "show_x(X, r, time.time() - _time)"
   ]
  },
  {
   "cell_type": "markdown",
   "metadata": {},
   "source": [
    "<div class=\"head2\">\n",
    "    <div class=\"head2__name\">\n",
    "        Uniform spatial grid and the 1st order splitting with the matrix exponential\n",
    "    </div>\n",
    "</div>\n",
    "\n",
    "We can use the same approach but apply matrix exponent instead of the Euler/Runge–Kutta solver."
   ]
  },
  {
   "cell_type": "code",
   "execution_count": 13,
   "metadata": {},
   "outputs": [
    {
     "name": "stdout",
     "output_type": "stream",
     "text": [
      "Number of spatial points :      121\n",
      "Number of time points    :     1000\n",
      "Error (relative norm)    : 9.53e-02    \n",
      "Total time (sec)         : 3.02e-02    \n",
      "\n"
     ]
    },
    {
     "data": {
      "image/png": "[encoded data removed]",
      "text/plain": [
       "<Figure size 432x288 with 1 Axes>"
      ]
     },
     "metadata": {
      "needs_background": "light"
     },
     "output_type": "display_data"
    }
   ],
   "source": [
    "_time = time.time()\n",
    "\n",
    "X = np.linspace(x_min, x_max, x_poi).reshape(1, -1)\n",
    "\n",
    "Q = sp.spdiags([\n",
    "        [-1.] * n,\n",
    "        [+1.] * n\n",
    "    ], [-1,  1], n, n).tocsr().toarray()\n",
    "Q = Q * (-0.5 * v_coef / l)\n",
    "\n",
    "D = sp.spdiags([\n",
    "        [+1.] * x_poi,\n",
    "        [-2.] * x_poi,\n",
    "        [+1.] * x_poi\n",
    "    ], [-1, 0, 1], x_poi, x_poi\n",
    ").tocsr().toarray()\n",
    "D = D * D_coef / l / l\n",
    "\n",
    "ZD = expm(h * D)\n",
    "ZQ = expm(h * Q)\n",
    "\n",
    "r = func_r0(X)\n",
    "for t in T[1:]:\n",
    "    v1 = ZD @ r\n",
    "    w1 = ZQ @ v1\n",
    "    r = w1\n",
    "\n",
    "show_x(X, r, time.time() - _time)"
   ]
  },
  {
   "cell_type": "markdown",
   "metadata": {},
   "source": [
    "<div class=\"head1\">\n",
    "    <div class=\"head1__name\">\n",
    "        Multiple computations\n",
    "    </div>\n",
    "    <div class=\"head1__note\">\n",
    "        We compute dependencies of solution accuracy and calculation time on the number of time and spacial points and solver type. Results are saved to file and may be reused later for visualization.  \n",
    "    </div>\n",
    "</div>"
   ]
  },
  {
   "cell_type": "code",
   "execution_count": 14,
   "metadata": {},
   "outputs": [
    {
     "name": "stdout",
     "output_type": "stream",
     "text": [
      "----- Calc for solver | \"Solver (ord=1)\"\n",
      "----- Computation     | m = 10       | n = 10      \n"
     ]
    },
    {
     "name": "stderr",
     "output_type": "stream",
     "text": [
      "Solve: 100%|█| 9/9 [00:00<00:00, 1002.44step/s, | At T=1.0e+00 : e=1.0e+00 es=8.9e-06]\n"
     ]
    },
    {
     "name": "stdout",
     "output_type": "stream",
     "text": [
      "----- Computation     | m = 10       | n = 15      \n"
     ]
    },
    {
     "name": "stderr",
     "output_type": "stream",
     "text": [
      "Solve: 100%|█| 9/9 [00:00<00:00, 704.40step/s, | At T=1.0e+00 : e=2.8e+01 es=1.2e+00]\n"
     ]
    },
    {
     "name": "stdout",
     "output_type": "stream",
     "text": [
      "----- Computation     | m = 10       | n = 20      \n"
     ]
    },
    {
     "name": "stderr",
     "output_type": "stream",
     "text": [
      "Solve: 100%|█| 9/9 [00:00<00:00, 476.32step/s, | At T=1.0e+00 : e=8.9e-01 es=1.1e-01]\n"
     ]
    },
    {
     "name": "stdout",
     "output_type": "stream",
     "text": [
      "----- Computation     | m = 10       | n = 25      \n"
     ]
    },
    {
     "name": "stderr",
     "output_type": "stream",
     "text": [
      "Solve: 100%|█| 9/9 [00:00<00:00, 476.37step/s, | At T=1.0e+00 : e=4.0e-01 es=1.2e+00]\n"
     ]
    },
    {
     "name": "stdout",
     "output_type": "stream",
     "text": [
      "----- Computation     | m = 10       | n = 30      \n"
     ]
    },
    {
     "name": "stderr",
     "output_type": "stream",
     "text": [
      "Solve: 100%|█| 9/9 [00:00<00:00, 383.89step/s, | At T=1.0e+00 : e=2.0e-01 es=5.3e-01]\n"
     ]
    },
    {
     "name": "stdout",
     "output_type": "stream",
     "text": [
      "----- Computation     | m = 10       | n = 35      \n"
     ]
    },
    {
     "name": "stderr",
     "output_type": "stream",
     "text": [
      "Solve: 100%|█| 9/9 [00:00<00:00, 394.77step/s, | At T=1.0e+00 : e=3.0e-01 es=1.2e+00]\n"
     ]
    },
    {
     "name": "stdout",
     "output_type": "stream",
     "text": [
      "----- Computation     | m = 10       | n = 40      \n"
     ]
    },
    {
     "name": "stderr",
     "output_type": "stream",
     "text": [
      "Solve: 100%|█| 9/9 [00:00<00:00, 421.86step/s, | At T=1.0e+00 : e=3.1e-01 es=8.9e-01]\n"
     ]
    },
    {
     "name": "stdout",
     "output_type": "stream",
     "text": [
      "----- Computation     | m = 10       | n = 45      \n"
     ]
    },
    {
     "name": "stderr",
     "output_type": "stream",
     "text": [
      "Solve: 100%|█| 9/9 [00:00<00:00, 401.43step/s, | At T=1.0e+00 : e=2.1e-01 es=1.2e+00]\n"
     ]
    },
    {
     "name": "stdout",
     "output_type": "stream",
     "text": [
      "----- Computation     | m = 10       | n = 50      \n"
     ]
    },
    {
     "name": "stderr",
     "output_type": "stream",
     "text": [
      "Solve: 100%|█| 9/9 [00:00<00:00, 418.12step/s, | At T=1.0e+00 : e=1.1e-01 es=1.1e+00]\n"
     ]
    },
    {
     "name": "stdout",
     "output_type": "stream",
     "text": [
      "----- Computation     | m = 100      | n = 10      \n"
     ]
    },
    {
     "name": "stderr",
     "output_type": "stream",
     "text": [
      "Solve: 100%|█| 99/99 [00:00<00:00, 1738.60step/s, | At T=1.0e+00 : e=1.0e+00 es=8.9e-06]\n"
     ]
    },
    {
     "name": "stdout",
     "output_type": "stream",
     "text": [
      "----- Computation     | m = 100      | n = 15      \n"
     ]
    },
    {
     "name": "stderr",
     "output_type": "stream",
     "text": [
      "Solve: 100%|█| 99/99 [00:00<00:00, 1216.97step/s, | At T=1.0e+00 : e=2.8e+01 es=1.2e+00]\n"
     ]
    },
    {
     "name": "stdout",
     "output_type": "stream",
     "text": [
      "----- Computation     | m = 100      | n = 20      \n"
     ]
    },
    {
     "name": "stderr",
     "output_type": "stream",
     "text": [
      "Solve: 100%|█| 99/99 [00:00<00:00, 769.03step/s, | At T=1.0e+00 : e=8.9e-01 es=1.1e-01]\n"
     ]
    },
    {
     "name": "stdout",
     "output_type": "stream",
     "text": [
      "----- Computation     | m = 100      | n = 25      \n"
     ]
    },
    {
     "name": "stderr",
     "output_type": "stream",
     "text": [
      "Solve: 100%|█| 99/99 [00:00<00:00, 829.07step/s, | At T=1.0e+00 : e=4.1e-01 es=1.2e+00]\n"
     ]
    },
    {
     "name": "stdout",
     "output_type": "stream",
     "text": [
      "----- Computation     | m = 100      | n = 30      \n"
     ]
    },
    {
     "name": "stderr",
     "output_type": "stream",
     "text": [
      "Solve: 100%|█| 99/99 [00:00<00:00, 898.84step/s, | At T=1.0e+00 : e=2.0e-01 es=5.3e-01]\n"
     ]
    },
    {
     "name": "stdout",
     "output_type": "stream",
     "text": [
      "----- Computation     | m = 100      | n = 35      \n"
     ]
    },
    {
     "name": "stderr",
     "output_type": "stream",
     "text": [
      "Solve: 100%|█| 99/99 [00:00<00:00, 701.88step/s, | At T=1.0e+00 : e=3.0e-01 es=1.2e+00]\n"
     ]
    },
    {
     "name": "stdout",
     "output_type": "stream",
     "text": [
      "----- Computation     | m = 100      | n = 40      \n"
     ]
    },
    {
     "name": "stderr",
     "output_type": "stream",
     "text": [
      "Solve: 100%|█| 99/99 [00:00<00:00, 715.42step/s, | At T=1.0e+00 : e=3.1e-01 es=8.9e-01]\n"
     ]
    },
    {
     "name": "stdout",
     "output_type": "stream",
     "text": [
      "----- Computation     | m = 100      | n = 45      \n"
     ]
    },
    {
     "name": "stderr",
     "output_type": "stream",
     "text": [
      "Solve: 100%|█| 99/99 [00:00<00:00, 646.13step/s, | At T=1.0e+00 : e=2.1e-01 es=1.2e+00]\n"
     ]
    },
    {
     "name": "stdout",
     "output_type": "stream",
     "text": [
      "----- Computation     | m = 100      | n = 50      \n"
     ]
    },
    {
     "name": "stderr",
     "output_type": "stream",
     "text": [
      "Solve: 100%|█| 99/99 [00:00<00:00, 599.17step/s, | At T=1.0e+00 : e=1.1e-01 es=1.1e+00]\n"
     ]
    },
    {
     "name": "stdout",
     "output_type": "stream",
     "text": [
      "----- Computation     | m = 1000     | n = 10      \n"
     ]
    },
    {
     "name": "stderr",
     "output_type": "stream",
     "text": [
      "Solve: 100%|█| 999/999 [00:00<00:00, 2006.89step/s, | At T=1.0e+00 : e=1.0e+00 es=8.9e-06]\n"
     ]
    },
    {
     "name": "stdout",
     "output_type": "stream",
     "text": [
      "----- Computation     | m = 1000     | n = 15      \n"
     ]
    },
    {
     "name": "stderr",
     "output_type": "stream",
     "text": [
      "Solve: 100%|█| 999/999 [00:00<00:00, 1522.70step/s, | At T=1.0e+00 : e=2.8e+01 es=1.2e+00]\n"
     ]
    },
    {
     "name": "stdout",
     "output_type": "stream",
     "text": [
      "----- Computation     | m = 1000     | n = 20      \n"
     ]
    },
    {
     "name": "stderr",
     "output_type": "stream",
     "text": [
      "Solve: 100%|█| 999/999 [00:00<00:00, 1284.26step/s, | At T=1.0e+00 : e=8.9e-01 es=1.1e-01]\n"
     ]
    },
    {
     "name": "stdout",
     "output_type": "stream",
     "text": [
      "----- Computation     | m = 1000     | n = 25      \n"
     ]
    },
    {
     "name": "stderr",
     "output_type": "stream",
     "text": [
      "Solve: 100%|█| 999/999 [00:00<00:00, 1107.39step/s, | At T=1.0e+00 : e=4.1e-01 es=1.2e+00]\n"
     ]
    },
    {
     "name": "stdout",
     "output_type": "stream",
     "text": [
      "----- Computation     | m = 1000     | n = 30      \n"
     ]
    },
    {
     "name": "stderr",
     "output_type": "stream",
     "text": [
      "Solve: 100%|█| 999/999 [00:01<00:00, 953.31step/s, | At T=1.0e+00 : e=2.0e-01 es=5.3e-01]\n"
     ]
    },
    {
     "name": "stdout",
     "output_type": "stream",
     "text": [
      "----- Computation     | m = 1000     | n = 35      \n"
     ]
    },
    {
     "name": "stderr",
     "output_type": "stream",
     "text": [
      "Solve: 100%|█| 999/999 [00:01<00:00, 837.25step/s, | At T=1.0e+00 : e=3.0e-01 es=1.2e+00]\n"
     ]
    },
    {
     "name": "stdout",
     "output_type": "stream",
     "text": [
      "----- Computation     | m = 1000     | n = 40      \n"
     ]
    },
    {
     "name": "stderr",
     "output_type": "stream",
     "text": [
      "Solve: 100%|█| 999/999 [00:01<00:00, 745.95step/s, | At T=1.0e+00 : e=3.1e-01 es=8.9e-01]\n"
     ]
    },
    {
     "name": "stdout",
     "output_type": "stream",
     "text": [
      "----- Computation     | m = 1000     | n = 45      \n"
     ]
    },
    {
     "name": "stderr",
     "output_type": "stream",
     "text": [
      "Solve: 100%|█| 999/999 [00:01<00:00, 686.82step/s, | At T=1.0e+00 : e=2.1e-01 es=1.2e+00]\n"
     ]
    },
    {
     "name": "stdout",
     "output_type": "stream",
     "text": [
      "----- Computation     | m = 1000     | n = 50      \n"
     ]
    },
    {
     "name": "stderr",
     "output_type": "stream",
     "text": [
      "Solve: 100%|█| 999/999 [00:01<00:00, 622.10step/s, | At T=1.0e+00 : e=1.1e-01 es=1.1e+00]\n"
     ]
    },
    {
     "name": "stdout",
     "output_type": "stream",
     "text": [
      "----- Computation     | m = 10000    | n = 10      \n"
     ]
    },
    {
     "name": "stderr",
     "output_type": "stream",
     "text": [
      "Solve: 100%|█| 9999/9999 [00:05<00:00, 1968.30step/s, | At T=1.0e+00 : e=1.0e+00 es=8.9e-06]\n"
     ]
    },
    {
     "name": "stdout",
     "output_type": "stream",
     "text": [
      "----- Computation     | m = 10000    | n = 15      \n"
     ]
    },
    {
     "name": "stderr",
     "output_type": "stream",
     "text": [
      "Solve: 100%|█| 9999/9999 [00:06<00:00, 1574.77step/s, | At T=1.0e+00 : e=2.8e+01 es=1.2e+00]\n"
     ]
    },
    {
     "name": "stdout",
     "output_type": "stream",
     "text": [
      "----- Computation     | m = 10000    | n = 20      \n"
     ]
    },
    {
     "name": "stderr",
     "output_type": "stream",
     "text": [
      "Solve: 100%|█| 9999/9999 [00:07<00:00, 1298.91step/s, | At T=1.0e+00 : e=8.9e-01 es=1.1e-01]\n"
     ]
    },
    {
     "name": "stdout",
     "output_type": "stream",
     "text": [
      "----- Computation     | m = 10000    | n = 25      \n"
     ]
    },
    {
     "name": "stderr",
     "output_type": "stream",
     "text": [
      "Solve: 100%|█| 9999/9999 [00:09<00:00, 1104.80step/s, | At T=1.0e+00 : e=4.1e-01 es=1.2e+00]\n"
     ]
    },
    {
     "name": "stdout",
     "output_type": "stream",
     "text": [
      "----- Computation     | m = 10000    | n = 30      \n"
     ]
    },
    {
     "name": "stderr",
     "output_type": "stream",
     "text": [
      "Solve: 100%|█| 9999/9999 [00:10<00:00, 967.12step/s, | At T=1.0e+00 : e=2.0e-01 es=5.3e-01]\n"
     ]
    },
    {
     "name": "stdout",
     "output_type": "stream",
     "text": [
      "----- Computation     | m = 10000    | n = 35      \n"
     ]
    },
    {
     "name": "stderr",
     "output_type": "stream",
     "text": [
      "Solve: 100%|█| 9999/9999 [00:11<00:00, 846.75step/s, | At T=1.0e+00 : e=3.0e-01 es=1.2e+00]\n"
     ]
    },
    {
     "name": "stdout",
     "output_type": "stream",
     "text": [
      "----- Computation     | m = 10000    | n = 40      \n"
     ]
    },
    {
     "name": "stderr",
     "output_type": "stream",
     "text": [
      "Solve: 100%|█| 9999/9999 [00:13<00:00, 764.03step/s, | At T=1.0e+00 : e=3.1e-01 es=8.9e-01]\n"
     ]
    },
    {
     "name": "stdout",
     "output_type": "stream",
     "text": [
      "----- Computation     | m = 10000    | n = 45      \n"
     ]
    },
    {
     "name": "stderr",
     "output_type": "stream",
     "text": [
      "Solve: 100%|█| 9999/9999 [00:14<00:00, 695.68step/s, | At T=1.0e+00 : e=2.1e-01 es=1.2e+00]\n"
     ]
    },
    {
     "name": "stdout",
     "output_type": "stream",
     "text": [
      "----- Computation     | m = 10000    | n = 50      \n"
     ]
    },
    {
     "name": "stderr",
     "output_type": "stream",
     "text": [
      "Solve: 100%|█| 9999/9999 [00:15<00:00, 628.54step/s, | At T=1.0e+00 : e=1.1e-01 es=1.1e+00]\n"
     ]
    },
    {
     "name": "stdout",
     "output_type": "stream",
     "text": [
      "----- Computation     | m = 100000   | n = 10      \n"
     ]
    },
    {
     "name": "stderr",
     "output_type": "stream",
     "text": [
      "Solve: 100%|█| 99999/99999 [00:50<00:00, 2002.93step/s, | At T=1.0e+00 : e=1.0e+00 es=8.9e-06]\n"
     ]
    },
    {
     "name": "stdout",
     "output_type": "stream",
     "text": [
      "----- Computation     | m = 100000   | n = 15      \n"
     ]
    },
    {
     "name": "stderr",
     "output_type": "stream",
     "text": [
      "Solve: 100%|█| 99999/99999 [01:03<00:00, 1567.49step/s, | At T=1.0e+00 : e=2.8e+01 es=1.2e+00]\n"
     ]
    },
    {
     "name": "stdout",
     "output_type": "stream",
     "text": [
      "----- Computation     | m = 100000   | n = 20      \n"
     ]
    },
    {
     "name": "stderr",
     "output_type": "stream",
     "text": [
      "Solve: 100%|█| 99999/99999 [01:32<00:00, 1075.48step/s, | At T=1.0e+00 : e=8.9e-01 es=1.1e-01]\n"
     ]
    },
    {
     "name": "stdout",
     "output_type": "stream",
     "text": [
      "----- Computation     | m = 100000   | n = 25      \n"
     ]
    },
    {
     "name": "stderr",
     "output_type": "stream",
     "text": [
      "Solve: 100%|█| 99999/99999 [01:45<00:00, 949.33step/s, | At T=1.0e+00 : e=4.1e-01 es=1.2e+00]\n"
     ]
    },
    {
     "name": "stdout",
     "output_type": "stream",
     "text": [
      "----- Computation     | m = 100000   | n = 30      \n"
     ]
    },
    {
     "name": "stderr",
     "output_type": "stream",
     "text": [
      "Solve: 100%|█| 99999/99999 [02:00<00:00, 828.08step/s, | At T=1.0e+00 : e=2.0e-01 es=5.3e-01]\n"
     ]
    },
    {
     "name": "stdout",
     "output_type": "stream",
     "text": [
      "----- Computation     | m = 100000   | n = 35      \n"
     ]
    },
    {
     "name": "stderr",
     "output_type": "stream",
     "text": [
      "Solve: 100%|█| 99999/99999 [02:21<00:00, 706.89step/s, | At T=1.0e+00 : e=3.0e-01 es=1.2e+00]\n"
     ]
    },
    {
     "name": "stdout",
     "output_type": "stream",
     "text": [
      "----- Computation     | m = 100000   | n = 40      \n"
     ]
    },
    {
     "name": "stderr",
     "output_type": "stream",
     "text": [
      "Solve: 100%|█| 99999/99999 [02:27<00:00, 677.03step/s, | At T=1.0e+00 : e=3.1e-01 es=8.9e-01]\n"
     ]
    },
    {
     "name": "stdout",
     "output_type": "stream",
     "text": [
      "----- Computation     | m = 100000   | n = 45      \n"
     ]
    },
    {
     "name": "stderr",
     "output_type": "stream",
     "text": [
      "Solve: 100%|█| 99999/99999 [02:37<00:00, 634.21step/s, | At T=1.0e+00 : e=2.1e-01 es=1.2e+00]\n"
     ]
    },
    {
     "name": "stdout",
     "output_type": "stream",
     "text": [
      "----- Computation     | m = 100000   | n = 50      \n"
     ]
    },
    {
     "name": "stderr",
     "output_type": "stream",
     "text": [
      "Solve: 100%|█| 99999/99999 [02:41<00:00, 619.11step/s, | At T=1.0e+00 : e=1.1e-01 es=1.1e+00]\n"
     ]
    },
    {
     "name": "stdout",
     "output_type": "stream",
     "text": [
      "----- Done            | Time : 1.19e+03 sec\n",
      "----- Calc for solver | \"Solver (ord=2)\"\n",
      "----- Computation     | m = 10       | n = 10      \n"
     ]
    },
    {
     "name": "stderr",
     "output_type": "stream",
     "text": [
      "Solve: 100%|█| 9/9 [00:00<00:00, 700.39step/s, | At T=1.0e+00 : e=1.0e+00 es=8.9e-06]\n"
     ]
    },
    {
     "name": "stdout",
     "output_type": "stream",
     "text": [
      "----- Computation     | m = 10       | n = 15      \n"
     ]
    },
    {
     "name": "stderr",
     "output_type": "stream",
     "text": [
      "Solve: 100%|█| 9/9 [00:00<00:00, 611.50step/s, | At T=1.0e+00 : e=2.8e+01 es=1.2e+00]\n"
     ]
    },
    {
     "name": "stdout",
     "output_type": "stream",
     "text": [
      "----- Computation     | m = 10       | n = 20      \n"
     ]
    },
    {
     "name": "stderr",
     "output_type": "stream",
     "text": [
      "Solve: 100%|█| 9/9 [00:00<00:00, 620.72step/s, | At T=1.0e+00 : e=8.9e-01 es=1.1e-01]\n"
     ]
    },
    {
     "name": "stdout",
     "output_type": "stream",
     "text": [
      "----- Computation     | m = 10       | n = 25      \n"
     ]
    },
    {
     "name": "stderr",
     "output_type": "stream",
     "text": [
      "Solve: 100%|█| 9/9 [00:00<00:00, 550.96step/s, | At T=1.0e+00 : e=4.0e-01 es=1.2e+00]\n"
     ]
    },
    {
     "name": "stdout",
     "output_type": "stream",
     "text": [
      "----- Computation     | m = 10       | n = 30      \n"
     ]
    },
    {
     "name": "stderr",
     "output_type": "stream",
     "text": [
      "Solve: 100%|█| 9/9 [00:00<00:00, 485.49step/s, | At T=1.0e+00 : e=2.0e-01 es=5.3e-01]\n"
     ]
    },
    {
     "name": "stdout",
     "output_type": "stream",
     "text": [
      "----- Computation     | m = 10       | n = 35      \n"
     ]
    },
    {
     "name": "stderr",
     "output_type": "stream",
     "text": [
      "Solve: 100%|█| 9/9 [00:00<00:00, 376.84step/s, | At T=1.0e+00 : e=3.0e-01 es=1.2e+00]\n"
     ]
    },
    {
     "name": "stdout",
     "output_type": "stream",
     "text": [
      "----- Computation     | m = 10       | n = 40      \n"
     ]
    },
    {
     "name": "stderr",
     "output_type": "stream",
     "text": [
      "Solve: 100%|█| 9/9 [00:00<00:00, 365.07step/s, | At T=1.0e+00 : e=3.1e-01 es=8.9e-01]\n"
     ]
    },
    {
     "name": "stdout",
     "output_type": "stream",
     "text": [
      "----- Computation     | m = 10       | n = 45      \n"
     ]
    },
    {
     "name": "stderr",
     "output_type": "stream",
     "text": [
      "Solve: 100%|█| 9/9 [00:00<00:00, 398.60step/s, | At T=1.0e+00 : e=2.1e-01 es=1.2e+00]\n"
     ]
    },
    {
     "name": "stdout",
     "output_type": "stream",
     "text": [
      "----- Computation     | m = 10       | n = 50      \n"
     ]
    },
    {
     "name": "stderr",
     "output_type": "stream",
     "text": [
      "Solve: 100%|█| 9/9 [00:00<00:00, 283.71step/s, | At T=1.0e+00 : e=1.1e-01 es=1.1e+00]\n"
     ]
    },
    {
     "name": "stdout",
     "output_type": "stream",
     "text": [
      "----- Computation     | m = 100      | n = 10      \n"
     ]
    },
    {
     "name": "stderr",
     "output_type": "stream",
     "text": [
      "Solve: 100%|█| 99/99 [00:00<00:00, 1470.91step/s, | At T=1.0e+00 : e=1.0e+00 es=8.9e-06]\n"
     ]
    },
    {
     "name": "stdout",
     "output_type": "stream",
     "text": [
      "----- Computation     | m = 100      | n = 15      \n"
     ]
    },
    {
     "name": "stderr",
     "output_type": "stream",
     "text": [
      "Solve: 100%|█| 99/99 [00:00<00:00, 1228.99step/s, | At T=1.0e+00 : e=2.8e+01 es=1.2e+00]\n"
     ]
    },
    {
     "name": "stdout",
     "output_type": "stream",
     "text": [
      "----- Computation     | m = 100      | n = 20      \n"
     ]
    },
    {
     "name": "stderr",
     "output_type": "stream",
     "text": [
      "Solve: 100%|█| 99/99 [00:00<00:00, 1060.22step/s, | At T=1.0e+00 : e=8.9e-01 es=1.1e-01]\n"
     ]
    },
    {
     "name": "stdout",
     "output_type": "stream",
     "text": [
      "----- Computation     | m = 100      | n = 25      \n"
     ]
    },
    {
     "name": "stderr",
     "output_type": "stream",
     "text": [
      "Solve: 100%|█| 99/99 [00:00<00:00, 829.42step/s, | At T=1.0e+00 : e=4.1e-01 es=1.2e+00]\n"
     ]
    },
    {
     "name": "stdout",
     "output_type": "stream",
     "text": [
      "----- Computation     | m = 100      | n = 30      \n"
     ]
    },
    {
     "name": "stderr",
     "output_type": "stream",
     "text": [
      "Solve: 100%|█| 99/99 [00:00<00:00, 798.84step/s, | At T=1.0e+00 : e=2.0e-01 es=5.3e-01]\n"
     ]
    },
    {
     "name": "stdout",
     "output_type": "stream",
     "text": [
      "----- Computation     | m = 100      | n = 35      \n"
     ]
    },
    {
     "name": "stderr",
     "output_type": "stream",
     "text": [
      "Solve: 100%|█| 99/99 [00:00<00:00, 638.75step/s, | At T=1.0e+00 : e=3.0e-01 es=1.2e+00]\n"
     ]
    },
    {
     "name": "stdout",
     "output_type": "stream",
     "text": [
      "----- Computation     | m = 100      | n = 40      \n"
     ]
    },
    {
     "name": "stderr",
     "output_type": "stream",
     "text": [
      "Solve: 100%|█| 99/99 [00:00<00:00, 603.99step/s, | At T=1.0e+00 : e=3.1e-01 es=8.9e-01]\n"
     ]
    },
    {
     "name": "stdout",
     "output_type": "stream",
     "text": [
      "----- Computation     | m = 100      | n = 45      \n"
     ]
    },
    {
     "name": "stderr",
     "output_type": "stream",
     "text": [
      "Solve: 100%|█| 99/99 [00:00<00:00, 556.85step/s, | At T=1.0e+00 : e=2.1e-01 es=1.2e+00]\n"
     ]
    },
    {
     "name": "stdout",
     "output_type": "stream",
     "text": [
      "----- Computation     | m = 100      | n = 50      \n"
     ]
    },
    {
     "name": "stderr",
     "output_type": "stream",
     "text": [
      "Solve: 100%|█| 99/99 [00:00<00:00, 554.04step/s, | At T=1.0e+00 : e=1.1e-01 es=1.1e+00]\n"
     ]
    },
    {
     "name": "stdout",
     "output_type": "stream",
     "text": [
      "----- Computation     | m = 1000     | n = 10      \n"
     ]
    },
    {
     "name": "stderr",
     "output_type": "stream",
     "text": [
      "Solve: 100%|█| 999/999 [00:00<00:00, 1598.73step/s, | At T=1.0e+00 : e=1.0e+00 es=8.9e-06]\n"
     ]
    },
    {
     "name": "stdout",
     "output_type": "stream",
     "text": [
      "----- Computation     | m = 1000     | n = 15      \n"
     ]
    },
    {
     "name": "stderr",
     "output_type": "stream",
     "text": [
      "Solve: 100%|█| 999/999 [00:00<00:00, 1309.99step/s, | At T=1.0e+00 : e=2.8e+01 es=1.2e+00]\n"
     ]
    },
    {
     "name": "stdout",
     "output_type": "stream",
     "text": [
      "----- Computation     | m = 1000     | n = 20      \n"
     ]
    },
    {
     "name": "stderr",
     "output_type": "stream",
     "text": [
      "Solve: 100%|█| 999/999 [00:00<00:00, 1123.15step/s, | At T=1.0e+00 : e=8.9e-01 es=1.1e-01]\n"
     ]
    },
    {
     "name": "stdout",
     "output_type": "stream",
     "text": [
      "----- Computation     | m = 1000     | n = 25      \n"
     ]
    },
    {
     "name": "stderr",
     "output_type": "stream",
     "text": [
      "Solve: 100%|█| 999/999 [00:01<00:00, 961.03step/s, | At T=1.0e+00 : e=4.1e-01 es=1.2e+00]\n"
     ]
    },
    {
     "name": "stdout",
     "output_type": "stream",
     "text": [
      "----- Computation     | m = 1000     | n = 30      \n"
     ]
    },
    {
     "name": "stderr",
     "output_type": "stream",
     "text": [
      "Solve: 100%|█| 999/999 [00:01<00:00, 846.04step/s, | At T=1.0e+00 : e=2.0e-01 es=5.3e-01]\n"
     ]
    },
    {
     "name": "stdout",
     "output_type": "stream",
     "text": [
      "----- Computation     | m = 1000     | n = 35      \n"
     ]
    },
    {
     "name": "stderr",
     "output_type": "stream",
     "text": [
      "Solve: 100%|█| 999/999 [00:01<00:00, 765.72step/s, | At T=1.0e+00 : e=3.0e-01 es=1.2e+00]\n"
     ]
    },
    {
     "name": "stdout",
     "output_type": "stream",
     "text": [
      "----- Computation     | m = 1000     | n = 40      \n"
     ]
    },
    {
     "name": "stderr",
     "output_type": "stream",
     "text": [
      "Solve: 100%|█| 999/999 [00:01<00:00, 698.89step/s, | At T=1.0e+00 : e=3.1e-01 es=8.9e-01]\n"
     ]
    },
    {
     "name": "stdout",
     "output_type": "stream",
     "text": [
      "----- Computation     | m = 1000     | n = 45      \n"
     ]
    },
    {
     "name": "stderr",
     "output_type": "stream",
     "text": [
      "Solve: 100%|█| 999/999 [00:01<00:00, 635.61step/s, | At T=1.0e+00 : e=2.1e-01 es=1.2e+00]\n"
     ]
    },
    {
     "name": "stdout",
     "output_type": "stream",
     "text": [
      "----- Computation     | m = 1000     | n = 50      \n"
     ]
    },
    {
     "name": "stderr",
     "output_type": "stream",
     "text": [
      "Solve: 100%|█| 999/999 [00:01<00:00, 576.85step/s, | At T=1.0e+00 : e=1.1e-01 es=1.1e+00]\n"
     ]
    },
    {
     "name": "stdout",
     "output_type": "stream",
     "text": [
      "----- Computation     | m = 10000    | n = 10      \n"
     ]
    },
    {
     "name": "stderr",
     "output_type": "stream",
     "text": [
      "Solve: 100%|█| 9999/9999 [00:06<00:00, 1618.50step/s, | At T=1.0e+00 : e=1.0e+00 es=8.9e-06]\n"
     ]
    },
    {
     "name": "stdout",
     "output_type": "stream",
     "text": [
      "----- Computation     | m = 10000    | n = 15      \n"
     ]
    },
    {
     "name": "stderr",
     "output_type": "stream",
     "text": [
      "Solve: 100%|█| 9999/9999 [00:07<00:00, 1332.32step/s, | At T=1.0e+00 : e=2.8e+01 es=1.2e+00]\n"
     ]
    },
    {
     "name": "stdout",
     "output_type": "stream",
     "text": [
      "----- Computation     | m = 10000    | n = 20      \n"
     ]
    },
    {
     "name": "stderr",
     "output_type": "stream",
     "text": [
      "Solve: 100%|█| 9999/9999 [00:09<00:00, 1103.30step/s, | At T=1.0e+00 : e=8.9e-01 es=1.1e-01]\n"
     ]
    },
    {
     "name": "stdout",
     "output_type": "stream",
     "text": [
      "----- Computation     | m = 10000    | n = 25      \n"
     ]
    },
    {
     "name": "stderr",
     "output_type": "stream",
     "text": [
      "Solve: 100%|█| 9999/9999 [00:10<00:00, 974.17step/s, | At T=1.0e+00 : e=4.1e-01 es=1.2e+00]\n"
     ]
    },
    {
     "name": "stdout",
     "output_type": "stream",
     "text": [
      "----- Computation     | m = 10000    | n = 30      \n"
     ]
    },
    {
     "name": "stderr",
     "output_type": "stream",
     "text": [
      "Solve: 100%|█| 9999/9999 [00:12<00:00, 809.28step/s, | At T=1.0e+00 : e=2.0e-01 es=5.3e-01]\n"
     ]
    },
    {
     "name": "stdout",
     "output_type": "stream",
     "text": [
      "----- Computation     | m = 10000    | n = 35      \n"
     ]
    },
    {
     "name": "stderr",
     "output_type": "stream",
     "text": [
      "Solve: 100%|█| 9999/9999 [00:12<00:00, 776.44step/s, | At T=1.0e+00 : e=3.0e-01 es=1.2e+00]\n"
     ]
    },
    {
     "name": "stdout",
     "output_type": "stream",
     "text": [
      "----- Computation     | m = 10000    | n = 40      \n"
     ]
    },
    {
     "name": "stderr",
     "output_type": "stream",
     "text": [
      "Solve: 100%|█| 9999/9999 [00:14<00:00, 703.42step/s, | At T=1.0e+00 : e=3.1e-01 es=8.9e-01]\n"
     ]
    },
    {
     "name": "stdout",
     "output_type": "stream",
     "text": [
      "----- Computation     | m = 10000    | n = 45      \n"
     ]
    },
    {
     "name": "stderr",
     "output_type": "stream",
     "text": [
      "Solve: 100%|█| 9999/9999 [00:15<00:00, 642.98step/s, | At T=1.0e+00 : e=2.1e-01 es=1.2e+00]\n"
     ]
    },
    {
     "name": "stdout",
     "output_type": "stream",
     "text": [
      "----- Computation     | m = 10000    | n = 50      \n"
     ]
    },
    {
     "name": "stderr",
     "output_type": "stream",
     "text": [
      "Solve: 100%|█| 9999/9999 [00:17<00:00, 578.35step/s, | At T=1.0e+00 : e=1.1e-01 es=1.1e+00]\n"
     ]
    },
    {
     "name": "stdout",
     "output_type": "stream",
     "text": [
      "----- Computation     | m = 100000   | n = 10      \n"
     ]
    },
    {
     "name": "stderr",
     "output_type": "stream",
     "text": [
      "Solve: 100%|█| 99999/99999 [01:01<00:00, 1620.47step/s, | At T=1.0e+00 : e=1.0e+00 es=8.9e-06]\n"
     ]
    },
    {
     "name": "stdout",
     "output_type": "stream",
     "text": [
      "----- Computation     | m = 100000   | n = 15      \n"
     ]
    },
    {
     "name": "stderr",
     "output_type": "stream",
     "text": [
      "Solve: 100%|█| 99999/99999 [01:15<00:00, 1324.98step/s, | At T=1.0e+00 : e=2.8e+01 es=1.2e+00]\n"
     ]
    },
    {
     "name": "stdout",
     "output_type": "stream",
     "text": [
      "----- Computation     | m = 100000   | n = 20      \n"
     ]
    },
    {
     "name": "stderr",
     "output_type": "stream",
     "text": [
      "Solve: 100%|█| 99999/99999 [01:29<00:00, 1122.53step/s, | At T=1.0e+00 : e=8.9e-01 es=1.1e-01]\n"
     ]
    },
    {
     "name": "stdout",
     "output_type": "stream",
     "text": [
      "----- Computation     | m = 100000   | n = 25      \n"
     ]
    },
    {
     "name": "stderr",
     "output_type": "stream",
     "text": [
      "Solve: 100%|█| 99999/99999 [01:42<00:00, 977.47step/s, | At T=1.0e+00 : e=4.1e-01 es=1.2e+00]\n"
     ]
    },
    {
     "name": "stdout",
     "output_type": "stream",
     "text": [
      "----- Computation     | m = 100000   | n = 30      \n"
     ]
    },
    {
     "name": "stderr",
     "output_type": "stream",
     "text": [
      "Solve: 100%|█| 99999/99999 [01:55<00:00, 864.05step/s, | At T=1.0e+00 : e=2.0e-01 es=5.3e-01]\n"
     ]
    },
    {
     "name": "stdout",
     "output_type": "stream",
     "text": [
      "----- Computation     | m = 100000   | n = 35      \n"
     ]
    },
    {
     "name": "stderr",
     "output_type": "stream",
     "text": [
      "Solve: 100%|█| 99999/99999 [02:09<00:00, 773.84step/s, | At T=1.0e+00 : e=3.0e-01 es=1.2e+00]\n"
     ]
    },
    {
     "name": "stdout",
     "output_type": "stream",
     "text": [
      "----- Computation     | m = 100000   | n = 40      \n"
     ]
    },
    {
     "name": "stderr",
     "output_type": "stream",
     "text": [
      "Solve: 100%|█| 99999/99999 [02:22<00:00, 703.30step/s, | At T=1.0e+00 : e=3.1e-01 es=8.9e-01]\n"
     ]
    },
    {
     "name": "stdout",
     "output_type": "stream",
     "text": [
      "----- Computation     | m = 100000   | n = 45      \n"
     ]
    },
    {
     "name": "stderr",
     "output_type": "stream",
     "text": [
      "Solve: 100%|█| 99999/99999 [02:36<00:00, 640.00step/s, | At T=1.0e+00 : e=2.1e-01 es=1.2e+00]\n"
     ]
    },
    {
     "name": "stdout",
     "output_type": "stream",
     "text": [
      "----- Computation     | m = 100000   | n = 50      \n"
     ]
    },
    {
     "name": "stderr",
     "output_type": "stream",
     "text": [
      "Solve: 100%|█| 99999/99999 [02:49<00:00, 589.26step/s, | At T=1.0e+00 : e=1.1e-01 es=1.1e+00]\n"
     ]
    },
    {
     "name": "stdout",
     "output_type": "stream",
     "text": [
      "----- Done            | Time : 1.21e+03 sec\n"
     ]
    }
   ],
   "source": [
    "if False: # Protection of already saved data\n",
    "    SLC = SolversCheck(data_path)\n",
    "    SLC.set_grid_t(t_min, t_max)\n",
    "    SLC.set_grid_x(x_min, x_max)\n",
    "    SLC.set_funcs(func_f0, func_f1, func_r0, func_rt, func_rs)\n",
    "    SLC.set_coefs(D_coef)\n",
    "\n",
    "    M = [10, 100, 1000, 10000, 100000]\n",
    "    N = list(np.arange(10, 51, 5, dtype=int))\n",
    "    SLC.add(name='Solver (ord=1)', d=1, eps=1.E-6, ord=1, with_tt=False, M=M, N=N)\n",
    "\n",
    "    M = [10, 100, 1000, 10000, 100000]\n",
    "    N = list(np.arange(10, 51, 5, dtype=int))\n",
    "    SLC.add(name='Solver (ord=2)', d=1, eps=1.E-6, ord=2, with_tt=False, M=M, N=N)\n",
    "\n",
    "    SLC.calc()\n",
    "    SLC.save()"
   ]
  },
  {
   "cell_type": "markdown",
   "metadata": {},
   "source": [
    "<div class=\"end\"></div>"
   ]
  }
 ],
 "metadata": {
  "kernelspec": {
   "display_name": "Python 3",
   "language": "python",
   "name": "python3"
  },
  "language_info": {
   "codemirror_mode": {
    "name": "ipython",
    "version": 3
   },
   "file_extension": ".py",
   "mimetype": "text/x-python",
   "name": "python",
   "nbconvert_exporter": "python",
   "pygments_lexer": "ipython3",
   "version": "3.7.1"
  }
 },
 "nbformat": 4,
 "nbformat_minor": 2
}
