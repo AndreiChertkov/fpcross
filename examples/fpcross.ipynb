{
 "cells": [
  {
   "cell_type": "markdown",
   "metadata": {},
   "source": [
    "## Tests for *fpcross* module\n",
    "\n",
    "> Cross approximation of the solution of the Fokker-Planck equation."
   ]
  },
  {
   "cell_type": "code",
   "execution_count": 1,
   "metadata": {},
   "outputs": [],
   "source": [
    "import sys\n",
    "import time\n",
    "\n",
    "import numpy as np\n",
    "\n",
    "\n",
    "import matplotlib as mpl\n",
    "import matplotlib.pyplot as plt\n",
    "from matplotlib import animation, rc\n",
    "\n",
    "from IPython.display import HTML\n",
    "\n",
    "sys.path.append('./../lib')\n",
    "from intertrain import Intertrain\n",
    "from solver import Solver"
   ]
  },
  {
   "cell_type": "markdown",
   "metadata": {},
   "source": [
    "---\n",
    "---\n",
    "\n",
    "### Solution of 1D Ornstein–Uhlenbeck process\n",
    "\n",
    "Ornstein–Uhlenbeck process\n",
    "$$\n",
    "    \\frac{d \\, x}{d \\, t} = - \\lambda x(t) + w(t),\n",
    "    \\quad\n",
    "    x(0) = x_0,\n",
    "    \\quad\n",
    "    \\lambda > 0,\n",
    "$$\n",
    "or\n",
    "$$\n",
    "    d \\, x = - \\lambda x(t) d \\, t + d \\, \\beta(t),\n",
    "    \\quad\n",
    "    x(0) = x_0,\n",
    "    \\quad\n",
    "    \\lambda > 0,\n",
    "$$\n",
    "\n",
    "Its solution is\n",
    "$$\n",
    "    x(t) = e^{-\\lambda t} x(0) + \\int_0^t e^{-\\lambda (t - \\tau)} d \\, \\beta(\\tau),\n",
    "$$\n",
    "and covariance matrix is\n",
    "$$\n",
    "    C(t) = \\frac{q}{2\\lambda} e^{-\\lambda |t|},\n",
    "$$\n",
    "where $q$ is spectral density of the one dimensional white noise process $w(t)$.\n",
    "\n",
    "The probability density function (PDF) $\\rho(x, t)$ satisfies the Fokker–Planck equation\n",
    "$$\n",
    "   \\frac{\\partial \\, \\rho}{\\partial \\, t} =\n",
    "       \\lambda \\frac{\\partial}{\\partial \\, x} (x \\rho) +\n",
    "       \\frac{1}{2} \\frac{\\partial^2 \\, \\rho}{\\partial \\, x^2},\n",
    "$$\n",
    "with transition probability\n",
    "$$\n",
    "    \\rho(x, t | x_0, t_0=0) = \n",
    "        \\sqrt{\n",
    "            \\frac{\\lambda}{\\pi \\left( 1 - e^{-2 \\lambda t} \\right)}\n",
    "        }\n",
    "        e^{\\frac\n",
    "            {-\\lambda \\left( x - x_0 e^{-\\lambda t} \\right)^2}\n",
    "            {1 - e^{-2 \\lambda t}}\n",
    "        }.\n",
    "$$"
   ]
  },
  {
   "cell_type": "code",
   "execution_count": 2,
   "metadata": {},
   "outputs": [],
   "source": [
    "# SDE parameters : f = A x, df / dx = A (dimension = 1)\n",
    "\n",
    "A = 1.\n",
    "\n",
    "def func_f(x):\n",
    "    return A*x\n",
    "\n",
    "def func_f_der(x):\n",
    "    return A*np.ones(x.shape)\n",
    "\n",
    "def func_r0(x):\n",
    "    s = 1.0\n",
    "    m = 0.\n",
    "    r = 1./np.sqrt(2.*np.pi * s**2)\n",
    "    r*= np.exp(-1. * (x-m)**2 / 2. / s**2)\n",
    "    return r.reshape(-1)\n",
    "\n",
    "def func_r(x, t, x0):\n",
    "    l = -1. * A\n",
    "    e = np.exp(-1. * l * t)\n",
    "    r = np.sqrt(l / np.pi /  (1. - e*e))\n",
    "    r*= np.exp(-1. * l * (x - x0 * e)**2 / (1. - e*e))\n",
    "    return r"
   ]
  },
  {
   "cell_type": "code",
   "execution_count": 6,
   "metadata": {},
   "outputs": [
    {
     "name": "stdout",
     "output_type": "stream",
     "text": [
      "Info\n"
     ]
    },
    {
     "data": {
      "image/png": "[encoded data removed]",
      "text/plain": [
       "<Figure size 432x432 with 1 Axes>"
      ]
     },
     "metadata": {
      "needs_background": "light"
     },
     "output_type": "display_data"
    }
   ],
   "source": [
    "SL = Solver(d=1, with_tt=False)\n",
    "SL.set_grid_t(100)\n",
    "SL.set_grid_x(10)\n",
    "SL.set_funcs(func_f, func_f_der, func_r0, func_r)\n",
    "SL.prep()\n",
    "SL.calc()\n",
    "SL.info()\n",
    "SL.plot()"
   ]
  },
  {
   "cell_type": "markdown",
   "metadata": {},
   "source": [
    "---\n",
    "---"
   ]
  }
 ],
 "metadata": {
  "kernelspec": {
   "display_name": "Python 3",
   "language": "python",
   "name": "python3"
  },
  "language_info": {
   "codemirror_mode": {
    "name": "ipython",
    "version": 3
   },
   "file_extension": ".py",
   "mimetype": "text/x-python",
   "name": "python",
   "nbconvert_exporter": "python",
   "pygments_lexer": "ipython3",
   "version": "3.7.1"
  }
 },
 "nbformat": 4,
 "nbformat_minor": 2
}
