{
 "cells": [
  {
   "cell_type": "markdown",
   "metadata": {},
   "source": [
    "## Tests for *fpcross* module\n",
    "\n",
    "> Cross approximation of the solution of the Fokker-Planck equation."
   ]
  },
  {
   "cell_type": "code",
   "execution_count": 1,
   "metadata": {},
   "outputs": [],
   "source": [
    "import sys\n",
    "import time\n",
    "\n",
    "import numpy as np\n",
    "from numpy import kron as kron\n",
    "\n",
    "import scipy.sparse as sp\n",
    "from scipy.linalg import expm as expm\n",
    "from scipy.interpolate import RectBivariateSpline\n",
    "\n",
    "import matplotlib as mpl\n",
    "import matplotlib.pyplot as plt\n",
    "from matplotlib import animation, rc\n",
    "\n",
    "from IPython.display import HTML\n",
    "\n",
    "sys.path.append('./../lib')\n",
    "from intertrain import Intertrain"
   ]
  },
  {
   "cell_type": "markdown",
   "metadata": {},
   "source": [
    "---\n",
    "---\n",
    "\n",
    "### Algorithm\n",
    "\n",
    "**Задача:** найти PDF $\\rho$ в момент времени $t$ на Чебышевской сетке из уравнений\n",
    "$$\n",
    "    dx = f(x, t) \\, dt + d\\beta,\n",
    "    \\quad\n",
    "    \\frac{\\partial \\rho}{\\partial t} = \\Delta \\rho - div \\left[ f(x, t) \\rho \\right],\n",
    "    \\quad\n",
    "    \\rho(x, 0) = \\rho_0(x).\n",
    "$$\n",
    "\n",
    "**Нужно** передать в крест функцию (step), которая вычисляет значения $\\rho_{k+1}$ в заданном (произвольном) наборе точек $X$ Чебышевской сетки. Это позволит проинтерполировать $\\rho$ на $(k+1)$-ом шаге и перейти к следующему шагу. При этом предполагается, что интерполянт для $k$-ого шага уже известен.\n",
    "\n",
    "> На нулевом шаге имеем $\\rho_0(x)$, заданную как функцию от $x$ и можем построить интерполянт очевидным образом.\n",
    "\n",
    "> Если не используем крест (работаем в полном numpy формате), то $X$ - это полный набор точек Чебышевской сетки (алгоритм при этом остается прежним).\n",
    "\n",
    "> Алгоритм расписан для splitting схемы первого порядка, поэтому для решения ОДЕ можем использовать метод Эйлера без потери точности.\n",
    "\n",
    "**Работа функции step(X, I)**\n",
    "\n",
    "> X - произвольный набор точек Чебышевской сетки (ndarray [dims, pois] of float)\n",
    "\n",
    "> I - набор индексов узлов сетки, соответствующий точкам X (ndarray [dims, pois] of int)\n",
    "\n",
    "**1** Найти прообразы $\\widehat{X}$ (соответствуют предыдущему $k$-ому шагу) для заданного набора точек $X$ Чебышевской сетки, которые приводили бы траекторию детерминированного уравнения ($\\beta = 0$) в точки $X$ на $(k+1)$-ом шаге, интегрируя назад уравнение\n",
    "$$\n",
    "    \\frac{\\partial \\, x}{\\partial \\, t} = f(x, t),\n",
    "    \\quad\n",
    "    x_{k+1} = X,\n",
    "    \\quad\n",
    "    x_{k} = \\widehat{X} = ?.\n",
    "$$\n",
    "\n",
    "**2** Используя известный интерполянт на $k$-ом шаге, вычислить значения PDF $\\widehat{\\rho}$ в точках $\\widehat{X}$\n",
    "\n",
    "**3** Решить PDE с однородными граничными условиями Дирихле для $(k+1)$-ого шага, используя дифференциальную матрицу Чебышева\n",
    "$$\n",
    "    \\frac{\\partial v}{\\partial t} = \\Delta v,\n",
    "    \\quad\n",
    "    v_{k} = \\widehat{\\rho},\n",
    "    \\quad\n",
    "    v_{k+1} = v = ?.\n",
    "$$\n",
    "\n",
    "**4** Решить ODE для $k+1$-ого шага\n",
    "$$\n",
    "    \\frac{\\partial \\, \\log{w}}{\\partial \\, t} = -tr \\left[ f_x(x, t) \\right],\n",
    "    \\quad\n",
    "    w_{k} = v,\n",
    "    \\quad\n",
    "    w_{k+1} = w = ?.\n",
    "$$\n",
    "\n",
    "**5** Вернуть значение $w$ как приближение $\\rho(x)$ в заданном (произвольном) наборе точек $X$ Чебышевской сетки на $(k+1)$-ом шаге."
   ]
  },
  {
   "cell_type": "code",
   "execution_count": 2,
   "metadata": {},
   "outputs": [],
   "source": [
    "def solve_ode_x(func, x0, h):\n",
    "    f = func(x0)\n",
    "    x = x0 + h * f\n",
    "    return x"
   ]
  },
  {
   "cell_type": "code",
   "execution_count": 3,
   "metadata": {},
   "outputs": [],
   "source": [
    "def solve_ode_r(func, x0, r0, h):\n",
    "    f = -1. * np.trace(func(x0))\n",
    "    \n",
    "    #r = (1. - h * np.trace(f)) * r0\n",
    "    #r = (1. - h * f) * r0\n",
    "    #return r\n",
    "    \n",
    "    r_log = np.log(r0) + h * f\n",
    "    r = np.exp(r_log)\n",
    "    return r"
   ]
  },
  {
   "cell_type": "code",
   "execution_count": 4,
   "metadata": {},
   "outputs": [],
   "source": [
    "def solve_pde_r(r0, Z):\n",
    "    return Z@r0"
   ]
  },
  {
   "cell_type": "code",
   "execution_count": 10,
   "metadata": {},
   "outputs": [],
   "source": [
    "class Solver(object):\n",
    "    \n",
    "    def __init__(self):\n",
    "        self.IT = Intertrain(n=[n], l=[l], with_tt=False)\n",
    "        self.IT0 = None\n",
    "        self.IT1 = None\n",
    "        self.IT2 = None\n",
    "    \n",
    "        self.I = np.eye(n)\n",
    "        self.D = self.IT.dif1()\n",
    "        # self.D = self.D[1:-1, 1:-1] # for BC\n",
    "        self.Z = expm(self.D)\n",
    "        self.Z = np.exp(h) * self.Z # kron(Z, Z)\n",
    "        \n",
    "    def step(self, X, I):\n",
    "        X0 = solve_ode_x(func_f, X, -1. * h)\n",
    "        r0 = np.exp(self.IT0.calc(X0))\n",
    "        u = solve_pde_r(r0, self.Z)\n",
    "        w = solve_ode_r(func_f_der, X, u, h)\n",
    "        r = w\n",
    "        print(r)\n",
    "        return np.log(r)\n",
    "    \n",
    "    def calc(self):\n",
    "        self.IT.init(lambda x: np.log(func_r0(x))).prep()\n",
    "        self.IT1 = self.IT.copy()\n",
    "\n",
    "        for t in T:\n",
    "            self.IT0 = self.IT.copy()\n",
    "            self.IT.init(self.step, opts={'is_f_with_i': True}).prep()\n",
    "\n",
    "        self.IT2 = self.IT.copy()"
   ]
  },
  {
   "cell_type": "markdown",
   "metadata": {},
   "source": [
    "---\n",
    "---\n",
    "\n",
    "### Solution of 1D Ornstein–Uhlenbeck process\n",
    "\n",
    "Ornstein–Uhlenbeck process\n",
    "$$\n",
    "    \\frac{d \\, x}{d \\, t} = - \\lambda x(t) + w(t),\n",
    "    \\quad\n",
    "    x(0) = x_0,\n",
    "    \\quad\n",
    "    \\lambda > 0,\n",
    "$$\n",
    "or\n",
    "$$\n",
    "    d \\, x = - \\lambda x(t) d \\, t + d \\, \\beta(t),\n",
    "    \\quad\n",
    "    x(0) = x_0,\n",
    "    \\quad\n",
    "    \\lambda > 0,\n",
    "$$\n",
    "\n",
    "Its solution is\n",
    "$$\n",
    "    x(t) = e^{-\\lambda t} x(0) + \\int_0^t e^{-\\lambda (t - \\tau)} d \\, \\beta(\\tau),\n",
    "$$\n",
    "and covariance matrix is\n",
    "$$\n",
    "    C(t) = \\frac{q}{2\\lambda} e^{-\\lambda |t|},\n",
    "$$\n",
    "where $q$ is spectral density of the one dimensional white noise process $w(t)$.\n",
    "\n",
    "The probability density function (PDF) $\\rho(x, t)$ satisfies the Fokker–Planck equation\n",
    "$$\n",
    "   \\frac{\\partial \\, \\rho}{\\partial \\, t} =\n",
    "       \\lambda \\frac{\\partial}{\\partial \\, x} (x \\rho) +\n",
    "       \\frac{1}{2} \\frac{\\partial^2 \\, \\rho}{\\partial \\, x^2},\n",
    "$$\n",
    "with transition probability\n",
    "$$\n",
    "    \\rho(x, t | x_0, t_0=0) = \n",
    "        \\sqrt{\n",
    "            \\frac{\\lambda}{\\pi \\left( 1 - e^{-2 \\lambda t} \\right)}\n",
    "        }\n",
    "        e^{\\frac\n",
    "            {-\\lambda \\left( x - x_0 e^{-\\lambda t} \\right)^2}\n",
    "            {1 - e^{-2 \\lambda t}}\n",
    "        }.\n",
    "$$"
   ]
  },
  {
   "cell_type": "code",
   "execution_count": 6,
   "metadata": {},
   "outputs": [],
   "source": [
    "# SDE parameters : f = A x, df / dx = A (dimension = 1)\n",
    "\n",
    "A = -1.\n",
    "\n",
    "def func_f(x):\n",
    "    return A*x\n",
    "\n",
    "def func_f_der(x):\n",
    "    if not isinstance(x, np.ndarray):\n",
    "        return A\n",
    "    return A*np.ones(x.shape)\n",
    "\n",
    "def func_r0(x):\n",
    "    s = 1.\n",
    "    m = 0.\n",
    "    r = 1./np.sqrt(2.*np.pi * s**2)\n",
    "    r*= np.exp(-1. * (x-m)**2 / 2. / s**2)\n",
    "    return r.reshape(-1)\n",
    "    # return np.exp(-0.5 * np.diag(x.T@x))\n",
    "\n",
    "def func_r_trans(x, t, x0):\n",
    "    l = -1. * A\n",
    "    e = np.exp(-1. * l * t)\n",
    "    r = np.sqrt(l / np.pi /  (1. - e*e))\n",
    "    r*= np.exp(-1. * l * (x - x0 * e)**2 / (1. - e*e))\n",
    "    return r"
   ]
  },
  {
   "cell_type": "code",
   "execution_count": 7,
   "metadata": {},
   "outputs": [],
   "source": [
    "# Time grid\n",
    "\n",
    "t_min = 0.\n",
    "t_max = 1.\n",
    "t_poi = 2 # including t_min and t_max (>= 2)\n",
    "\n",
    "m = t_poi\n",
    "h = (t_max - t_min) / (t_poi - 1)\n",
    "\n",
    "T = np.linspace(t_min, t_max, t_poi)"
   ]
  },
  {
   "cell_type": "code",
   "execution_count": 8,
   "metadata": {},
   "outputs": [],
   "source": [
    "# Spatial grid\n",
    "\n",
    "n = 40\n",
    "l = [-3., 3.]"
   ]
  },
  {
   "cell_type": "code",
   "execution_count": 11,
   "metadata": {},
   "outputs": [
    {
     "name": "stdout",
     "output_type": "stream",
     "text": [
      "[6.83691529e+18 6.13444627e+18 4.42042685e+18 2.54017973e+18\n",
      " 1.15014940e+18 4.03384701e+17 1.07066182e+17 2.08354759e+16\n",
      " 2.84665352e+15 2.58324268e+14 1.52045440e+13 7.94712817e+11\n",
      " 7.22639651e+10 7.23638563e+09 5.35622543e+08 2.50144313e+07\n",
      " 2.45889207e+06            nan 1.80098947e+06            nan\n",
      " 1.67678997e+06            nan 1.41975260e+06            nan\n",
      " 1.05171756e+06            nan 5.89968826e+05            nan\n",
      " 7.14959608e+04 1.63230530e+05            nan 4.73698421e+05\n",
      "            nan 4.23555445e+05            nan            nan\n",
      " 2.26956658e+05 4.86400171e+05 3.49468811e+05 2.62138042e+05]\n",
      "[nan nan nan nan nan nan nan nan nan nan nan nan nan nan nan nan nan nan\n",
      " nan nan nan nan nan nan nan nan nan nan nan nan nan nan nan nan nan nan\n",
      " nan nan nan nan]\n"
     ]
    },
    {
     "name": "stderr",
     "output_type": "stream",
     "text": [
      "/anaconda3/lib/python3.7/site-packages/ipykernel_launcher.py:8: RuntimeWarning: invalid value encountered in log\n",
      "  \n"
     ]
    }
   ],
   "source": [
    "# Run calculations\n",
    "\n",
    "SL = Solver()\n",
    "SL.calc()"
   ]
  },
  {
   "cell_type": "code",
   "execution_count": 12,
   "metadata": {},
   "outputs": [
    {
     "data": {
      "image/png": "[encoded data removed]",
      "text/plain": [
       "<Figure size 432x432 with 1 Axes>"
      ]
     },
     "metadata": {
      "needs_background": "light"
     },
     "output_type": "display_data"
    }
   ],
   "source": [
    "# Plot distribution (initial and final) on the spatial grid\n",
    "\n",
    "fig = plt.figure(figsize=(6, 6))\n",
    "gs = mpl.gridspec.GridSpec(\n",
    "    ncols=1, nrows=1, left=0.01, right=0.99, top=0.99, bottom=0.01,\n",
    "    wspace=0.4, hspace=0.3, width_ratios=[1], height_ratios=[1]\n",
    ")\n",
    "\n",
    "Xg = SL.IT.grid()\n",
    "x0 = Xg.reshape(-1)\n",
    "r1 = SL.IT1.calc(Xg).reshape(-1)\n",
    "r2 = SL.IT2.calc(Xg).reshape(-1)\n",
    "ax = fig.add_subplot(gs[0, 0])\n",
    "ax.plot(x0, r1, label='Initial')\n",
    "ax.plot(x0, r2, label='Final (calc)')\n",
    "ax.set_title('Log of the probability density function')\n",
    "ax.set_xlabel('x')\n",
    "ax.set_ylabel('r')\n",
    "ax.legend(loc='best')\n",
    "\n",
    "plt.show()"
   ]
  },
  {
   "cell_type": "code",
   "execution_count": null,
   "metadata": {},
   "outputs": [],
   "source": []
  }
 ],
 "metadata": {
  "kernelspec": {
   "display_name": "Python 3",
   "language": "python",
   "name": "python3"
  },
  "language_info": {
   "codemirror_mode": {
    "name": "ipython",
    "version": 3
   },
   "file_extension": ".py",
   "mimetype": "text/x-python",
   "name": "python",
   "nbconvert_exporter": "python",
   "pygments_lexer": "ipython3",
   "version": "3.7.1"
  }
 },
 "nbformat": 4,
 "nbformat_minor": 2
}
