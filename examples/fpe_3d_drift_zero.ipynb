{
 "cells": [
  {
   "cell_type": "code",
   "execution_count": 1,
   "metadata": {},
   "outputs": [
    {
     "name": "stdout",
     "output_type": "stream",
     "text": [
      "Start |  3:26PM MSK on Sep 23, 2019 |\n",
      "-------------------------------------\n"
     ]
    },
    {
     "data": {
      "text/html": [
       "<style>div {\n",
       "  margin: 0;\n",
       "  padding: 0;\n",
       "}\n",
       "\n",
       ".head0 {\n",
       "  padding: 10px;\n",
       "  display: flex;\n",
       "  background-color: #dedee2;\n",
       "}\n",
       ".head0__name {\n",
       "  padding-right: 5px;\n",
       "  flex: 1 1 50%;\n",
       "  align-self: center;\n",
       "  font-size: 36px;\n",
       "  font-weight: bold;\n",
       "  color: #6b7e51;\n",
       "}\n",
       ".head0__note {\n",
       "  padding-left: 10px;\n",
       "  flex: 1 1 50%;\n",
       "  align-self: flex-end;\n",
       "  font-size: 16px;\n",
       "  font-style: italic;\n",
       "  color: #485536;\n",
       "  border-left: 5px solid #8b1d1d;\n",
       "}\n",
       "\n",
       ".head1 {\n",
       "  margin-top: 30px;\n",
       "  padding: 10px;\n",
       "  border-top: 5px solid #8b1d1d;\n",
       "}\n",
       ".head1__name {\n",
       "  font-size: 32px;\n",
       "  font-weight: bold;\n",
       "  color: #485536;\n",
       "}\n",
       ".head1__note {\n",
       "  padding-left: 20px;\n",
       "  font-size: 20px;\n",
       "  font-style: italic;\n",
       "  color: #485536;\n",
       "}\n",
       "\n",
       ".head2 {\n",
       "  margin-top: 7px;\n",
       "  padding: 5px 30px 5px;\n",
       "  border-left: 2px solid #42d56e;\n",
       "}\n",
       ".head2__name {\n",
       "  display: inline-block;\n",
       "  max-width: 70%;\n",
       "  padding: 2px 10px;\n",
       "  font-size: 22px;\n",
       "  font-weight: bold;\n",
       "  color: #145929;\n",
       "  border-bottom: 2px solid #42d56e;\n",
       "}\n",
       ".head2__note {\n",
       "  padding: 5px 10px 0px;\n",
       "  font-size: 14px;\n",
       "  font-style: italic;\n",
       "  color: #485536;\n",
       "}\n",
       "\n",
       ".head3 {\n",
       "  margin-top: 5px;\n",
       "  padding: 3px 40px 3px;\n",
       "  border-left: 2px dotted #485536;\n",
       "}\n",
       ".head3__name {\n",
       "  display: inline-block;\n",
       "  max-width: 70%;\n",
       "  padding: 2px 10px;\n",
       "  font-size: 20px;\n",
       "  font-weight: bold;\n",
       "  color: #145929;\n",
       "  border-bottom: 2px dotted #485536;\n",
       "}\n",
       ".head3__note {\n",
       "  padding: 2px 10px 0px;\n",
       "  font-size: 12px;\n",
       "  font-style: italic;\n",
       "  color: #485536;\n",
       "}\n",
       "\n",
       ".warn {\n",
       "  background-color: #fcf2f2;\n",
       "  border-color: #dfb5b4;\n",
       "  border-left: 5px solid #dfb5b4;\n",
       "  padding: 0.5em;\n",
       "}\n",
       ".note {\n",
       "  color: #42d56e;\n",
       "}\n",
       ".note::before {\n",
       "  content: 'Note. ';\n",
       "  font-weight: bold;\n",
       "  color: #485536;\n",
       "}\n",
       "\n",
       ".end {\n",
       "  padding: 5px;\n",
       "  border-top: 5px solid #8b1d1d;\n",
       "  border-bottom: 5px solid #8b1d1d;\n",
       "}\n",
       "</style>"
      ],
      "text/plain": [
       "<IPython.core.display.HTML object>"
      ]
     },
     "execution_count": 1,
     "metadata": {},
     "output_type": "execute_result"
    }
   ],
   "source": [
    "import sys\n",
    "import numpy as np\n",
    "\n",
    "sys.path.extend(['./../lib', './../lib/models', './../helpers'])\n",
    "from model import Model\n",
    "from solver import Solver\n",
    "from solvers_check import SolversCheck\n",
    "from helpers import init_jupyter\n",
    "\n",
    "init_jupyter()"
   ]
  },
  {
   "cell_type": "code",
   "execution_count": null,
   "metadata": {},
   "outputs": [],
   "source": [
    "MD = Model('fpe_3d_drift_zero')\n",
    "MD.init(s=1., D=0.5)\n",
    "MD.info()"
   ]
  },
  {
   "cell_type": "code",
   "execution_count": 2,
   "metadata": {},
   "outputs": [
    {
     "name": "stderr",
     "output_type": "stream",
     "text": [
      "Solve: 100%|█| 9/9 [00:09<00:00,  1.02s/step, | At T=1.0e+00 : er=3.8e-03 es=1.3e-01]"
     ]
    },
    {
     "name": "stdout",
     "output_type": "stream",
     "text": [
      "----------- Solver\n",
      "Format    : 3D, NP [order=2]\n",
      "Grid t    : poi =        10, min =    0.0000, max =    1.0000\n",
      "Grid x    : poi =        21, min =   -5.0000, max =    5.0000\n",
      "Time sec  : prep = 2.90e+00, calc = 9.06e+00, spec = 7.30e-02\n",
      "Err real  : 3.76e-03\n",
      "Err stat  : 1.32e-01\n"
     ]
    },
    {
     "name": "stderr",
     "output_type": "stream",
     "text": [
      "\n"
     ]
    }
   ],
   "source": [
    "SL = Solver(model=MD)\n",
    "SL.set_grid_t(10, 0., 1., t_hst=10)\n",
    "SL.set_grid_x(21, -5., 5.)\n",
    "SL.prep()\n",
    "SL.calc()\n",
    "SL.info()"
   ]
  },
  {
   "cell_type": "code",
   "execution_count": null,
   "metadata": {},
   "outputs": [],
   "source": [
    "opts = { 'is_log': False, 'is_abs': False, 'is_err_abs': False, 'with_err_stat': False }\n",
    "SL.plot_t([-2.5]*3, opts)\n",
    "SL.plot_t([+0.0]*3, opts)\n",
    "SL.plot_t([+2.5]*3, opts)"
   ]
  },
  {
   "cell_type": "code",
   "execution_count": null,
   "metadata": {},
   "outputs": [],
   "source": [
    "opts = { 'is_log': False, 'is_abs': False, 'is_err_abs': False, 'with_err_stat': False }\n",
    "SL.plot_x(+0.1, opts)\n",
    "SL.plot_x(+0.5, opts)\n",
    "SL.plot_x(None, opts)"
   ]
  },
  {
   "cell_type": "markdown",
   "metadata": {},
   "source": [
    "<div class=\"head1\">\n",
    "    <div class=\"head1__name\">\n",
    "        Results for multiple computations\n",
    "    </div>\n",
    "    <div class=\"head1__note\">\n",
    "        We use results that already saved to file (see file `multi_solve.ipynb`).\n",
    "    </div>\n",
    "</div>"
   ]
  },
  {
   "cell_type": "code",
   "execution_count": 8,
   "metadata": {},
   "outputs": [],
   "source": [
    "SLC = SolversCheck('./../computations/data/fpe_3d_drift_zero')\n",
    "SLC.load()\n",
    "\n",
    "name1 = 'Solver-NP'\n",
    "name2 = 'Solver-TT'\n",
    "\n",
    "M = SLC.res[name2]['M']\n",
    "N = SLC.res[name2]['N']\n",
    "\n",
    "m = M[-1]\n",
    "n = N[-1]"
   ]
  },
  {
   "cell_type": "markdown",
   "metadata": {},
   "source": [
    "<div class=\"head2\">\n",
    "    <div class=\"head2__name\">\n",
    "        Dependence on the number of time points\n",
    "    </div>\n",
    "    <div class=\"head2__note\">\n",
    "        We present results for TT-solver of the 2th order.\n",
    "    </div>\n",
    "</div>"
   ]
  },
  {
   "cell_type": "code",
   "execution_count": null,
   "metadata": {},
   "outputs": [],
   "source": [
    "SLC.plot(name2, n=n, is_stat=False, is_xpoi=False, lims={ 'all': [1, None] })"
   ]
  },
  {
   "cell_type": "markdown",
   "metadata": {},
   "source": [
    "<div class=\"head2\">\n",
    "    <div class=\"head2__name\">\n",
    "        Dependence on the number of spatial points\n",
    "    </div>\n",
    "    <div class=\"head2__note\">\n",
    "        We present results for TT-solver of the 2th order.\n",
    "    </div>\n",
    "</div>"
   ]
  },
  {
   "cell_type": "code",
   "execution_count": null,
   "metadata": {},
   "outputs": [],
   "source": [
    "SLC.plot(name2, m=m, is_stat=False, is_xpoi=False, lims={ 'all': [1, 6] })"
   ]
  },
  {
   "cell_type": "markdown",
   "metadata": {},
   "source": [
    "<div class=\"head2\">\n",
    "    <div class=\"head2__name\">\n",
    "        Dependence on the solver type\n",
    "    </div>\n",
    "    <div class=\"head2__note\">\n",
    "        We present results (dependencies on the number of time and spatial points) for NP-solver and TT-solver.\n",
    "    </div>\n",
    "</div>"
   ]
  },
  {
   "cell_type": "code",
   "execution_count": null,
   "metadata": {},
   "outputs": [],
   "source": [
    "SLC.plot_all(n=SLC.res[name1]['N'][-1], is_stat=False, is_xpoi=False)"
   ]
  },
  {
   "cell_type": "code",
   "execution_count": null,
   "metadata": {},
   "outputs": [],
   "source": [
    "SLC.plot_all(m=SLC.res[name1]['M'][-1], is_stat=False, is_xpoi=False)"
   ]
  },
  {
   "cell_type": "markdown",
   "metadata": {},
   "source": [
    "<div class=\"head1\">\n",
    "    <div class=\"head1__name\">\n",
    "        DRAFT | Explicit (simple) solvers\n",
    "    </div>\n",
    "    <div class=\"head1__note\">\n",
    "        Only for example and tests.\n",
    "    </div>\n",
    "</div>"
   ]
  },
  {
   "cell_type": "code",
   "execution_count": 8,
   "metadata": {},
   "outputs": [],
   "source": [
    "import time\n",
    "import numpy as np\n",
    "import scipy.sparse as sp\n",
    "from scipy.integrate import solve_ivp\n",
    "from scipy.linalg import expm as expm\n",
    "import matplotlib.pyplot as plt\n",
    "\n",
    "from intertrain import Intertrain"
   ]
  },
  {
   "cell_type": "code",
   "execution_count": 9,
   "metadata": {},
   "outputs": [],
   "source": [
    "d = 3\n",
    "m = t_poi\n",
    "n = x_poi\n",
    "l = (x_max - x_min) / (x_poi - 1)\n",
    "h = (t_max - t_min) / (t_poi - 1)\n",
    "T = np.linspace(t_min, t_max, t_poi)\n",
    "\n",
    "I0 = np.eye(n)\n",
    "J0 = np.eye(n); J0[0, 0] = 0.; J0[-1, -1] = 0. \n",
    "\n",
    "J = np.kron(J0, np.kron(J0, J0))"
   ]
  },
  {
   "cell_type": "code",
   "execution_count": 10,
   "metadata": {},
   "outputs": [],
   "source": [
    "def show_x(X, r_calc, _time):\n",
    "    X = X.reshape(d, -1)\n",
    "    r_init = func_r0(X)\n",
    "    r_real = func_rt(X, t_max)\n",
    "    r_stat = func_rs(X)\n",
    "    e = np.linalg.norm(r_real - r_calc) / np.linalg.norm(r_real)\n",
    "    X = np.arange(X.shape[1])\n",
    "    \n",
    "    print('Number of spatial points : %8d^%d'%(x_poi, d))\n",
    "    print('Number of time points    : %8d'%t_poi)\n",
    "    print('Error (relative norm)    : %-12.2e'%e)\n",
    "    print('Total time (sec)         : %-12.2e'%_time)\n",
    "    print()\n",
    "    \n",
    "    plt.plot(\n",
    "        X.reshape(-1), r_init, '--', label='Initial',\n",
    "        linewidth=3, color='tab:blue'\n",
    "    )\n",
    "    plt.plot(\n",
    "        X, r_calc, label='Calculated',\n",
    "        linewidth=1, color='tab:green', marker='o', markersize=7,\n",
    "        markerfacecolor='lightgreen', markeredgecolor='g'\n",
    "    )\n",
    "    plt.plot(\n",
    "        X, r_real, label='Analytic',\n",
    "        linewidth=3, color='black'\n",
    "    )\n",
    "    plt.plot(\n",
    "        X, r_stat, '--', label='Stationary',\n",
    "        linewidth=2, color='magenta'\n",
    "    )\n",
    "    \n",
    "    plt.title('Solution at the final time step')\n",
    "    plt.xlabel('Point number')\n",
    "    plt.ylabel('r')\n",
    "    plt.legend(loc='best')\n",
    "    plt.show()\n",
    "\n",
    "    err = np.abs(r_real - r_calc) / np.abs(r_real)\n",
    "    plt.plot(\n",
    "        X, err, label='Analytic',\n",
    "        linewidth=3, color='black'\n",
    "    )\n",
    "    plt.semilogy()\n",
    "    plt.title('Solution error at the final time step')\n",
    "    plt.xlabel('Point number')\n",
    "    \n",
    "    plt.show()"
   ]
  },
  {
   "cell_type": "markdown",
   "metadata": {},
   "source": [
    "<div class=\"head2\">\n",
    "    <div class=\"head2__name\">\n",
    "        Uniform spatial grid and the forward Euler scheme\n",
    "    </div>\n",
    "</div>\n",
    "\n",
    "We can solve equation on the uniform spatial grid for the time $t > 0$ using standard forward Euler scheme\n",
    "$$\n",
    "    r_{k+1} = r_{k} + h D r_{k},\n",
    "    \\quad\n",
    "    k = 0, 1, \\ldots, m-1,\n",
    "$$\n",
    "where\n",
    "$$\n",
    "    D =\n",
    "        D_0 \\otimes I   \\otimes I +\n",
    "        I   \\otimes D_0 \\otimes I +\n",
    "        I   \\otimes I   \\otimes D_0,\n",
    "$$\n",
    "$$\n",
    "    D_0 = \\frac{D_{coef}}{l^2} tridiag \\left( 1, -2, 1 \\right).\n",
    "$$"
   ]
  },
  {
   "cell_type": "code",
   "execution_count": 11,
   "metadata": {},
   "outputs": [
    {
     "name": "stdout",
     "output_type": "stream",
     "text": [
      "Number of spatial points :       15^3\n",
      "Number of time points    :      100\n",
      "Error (relative norm)    : 9.35e-04    \n",
      "Total time (sec)         : 4.36e+00    \n",
      "\n"
     ]
    },
    {
     "data": {
      "image/png": "[encoded data removed]",
      "text/plain": [
       "<Figure size 432x288 with 1 Axes>"
      ]
     },
     "metadata": {
      "needs_background": "light"
     },
     "output_type": "display_data"
    },
    {
     "data": {
      "image/png": "[encoded data removed]",
      "text/plain": [
       "<Figure size 432x288 with 1 Axes>"
      ]
     },
     "metadata": {
      "needs_background": "light"
     },
     "output_type": "display_data"
    }
   ],
   "source": [
    "_time = time.time()\n",
    "\n",
    "\n",
    "\n",
    "X = np.linspace(x_min, x_max, x_poi).reshape(1, -1)\n",
    "X = [X.copy() for _ in range(d)]\n",
    "X = np.meshgrid(*X, indexing='ij')\n",
    "X = np.array(X).reshape((d, -1), order='F')\n",
    "    \n",
    "D0 = sp.spdiags([\n",
    "        [+1.] * x_poi,\n",
    "        [-2.] * x_poi,\n",
    "        [+1.] * x_poi\n",
    "    ], [-1, 0, 1], x_poi, x_poi\n",
    ").tocsr().toarray()\n",
    "D0 = D0 * D_coef / l / l\n",
    "\n",
    "D = np.zeros((n**d, n**d))\n",
    "for i in range(d):\n",
    "    M = [I0] * d; M[i] = D0\n",
    "    Q = M[0].copy()\n",
    "    for j in range(1, d):\n",
    "        Q = np.kron(Q, M[j])\n",
    "    D+= Q\n",
    "\n",
    "r = func_r0(X)\n",
    "for t in T[1:]:\n",
    "    r = r + h * D @ r\n",
    "\n",
    "show_x(X, r, time.time() - _time)"
   ]
  },
  {
   "cell_type": "markdown",
   "metadata": {},
   "source": [
    "<div class=\"head2\">\n",
    "    <div class=\"head2__name\">\n",
    "        Chebyshev spatial grid and the matrix exponential\n",
    "    </div>\n",
    "</div>\n",
    "\n",
    "We have\n",
    "$$\n",
    "    \\frac{\\partial r}{\\partial t} = D_{coef} \\nabla r\n",
    "$$\n",
    "or\n",
    "$$\n",
    "    \\frac{\\partial r}{\\partial t} = J Z J r,\n",
    "$$\n",
    "$$\n",
    "    J = J_0 \\otimes I \\otimes I + I \\otimes J_0 \\otimes I + I \\otimes I \\otimes J_0,\n",
    "$$\n",
    "$$\n",
    "    Z =\n",
    "        D_{coef} \\cdot\n",
    "        \\left( D \\otimes I \\otimes I + I \\otimes D \\otimes I + I \\otimes I \\otimes D \\right),\n",
    "$$\n",
    "where $D$ is the 2th order Chebyshev differentiation matrix.\n",
    "\n",
    "We can solve equation on the Chebyshev spatial grid for the time $t > 0$ using matrix exponential and the 2th order Chebyshev differentiation matrix\n",
    "$$\n",
    "    u_{t} = e^{t \\cdot D_{coef} \\cdot D} u_{0},\n",
    "$$\n",
    "where $u_{0}(x)$ is the known initial condition and diffusion matrix is defined as above.\n",
    "\n"
   ]
  },
  {
   "cell_type": "code",
   "execution_count": 12,
   "metadata": {},
   "outputs": [
    {
     "name": "stdout",
     "output_type": "stream",
     "text": [
      "Number of spatial points :       15^3\n",
      "Number of time points    :      100\n",
      "Error (relative norm)    : 9.63e-03    \n",
      "Total time (sec)         : 1.31e+01    \n",
      "\n"
     ]
    },
    {
     "data": {
      "image/png": "[encoded data removed]",
      "text/plain": [
       "<Figure size 432x288 with 1 Axes>"
      ]
     },
     "metadata": {
      "needs_background": "light"
     },
     "output_type": "display_data"
    },
    {
     "data": {
      "image/png": "[encoded data removed]",
      "text/plain": [
       "<Figure size 432x288 with 1 Axes>"
      ]
     },
     "metadata": {
      "needs_background": "light"
     },
     "output_type": "display_data"
    }
   ],
   "source": [
    "_time = time.time()\n",
    "\n",
    "IT = Intertrain(n=[x_poi, x_poi, x_poi], l=[[x_min, x_max], [x_min, x_max], [x_min, x_max]])\n",
    "\n",
    "X = IT.grid()\n",
    "\n",
    "D0 = IT.dif2() * D_coef\n",
    "\n",
    "D = np.zeros((n**d, n**d))\n",
    "for i in range(d):\n",
    "    M = [I0] * d; M[i] = D0\n",
    "    Q = M[0].copy()\n",
    "    for j in range(1, d):\n",
    "        Q = np.kron(Q, M[j])\n",
    "    D+= Q\n",
    "\n",
    "Z = expm((t_max - t_min) * D)\n",
    "\n",
    "r = func_r0(X)\n",
    "r = Z @ r\n",
    "\n",
    "Z1 = Z\n",
    "show_x(X, r, time.time() - _time)"
   ]
  },
  {
   "cell_type": "code",
   "execution_count": 13,
   "metadata": {},
   "outputs": [
    {
     "name": "stdout",
     "output_type": "stream",
     "text": [
      "Number of spatial points :       15^3\n",
      "Number of time points    :      100\n",
      "Error (relative norm)    : 9.63e-03    \n",
      "Total time (sec)         : 1.39e-01    \n",
      "\n"
     ]
    },
    {
     "data": {
      "image/png": "[encoded data removed]",
      "text/plain": [
       "<Figure size 432x288 with 1 Axes>"
      ]
     },
     "metadata": {
      "needs_background": "light"
     },
     "output_type": "display_data"
    },
    {
     "data": {
      "image/png": "[encoded data removed]",
      "text/plain": [
       "<Figure size 432x288 with 1 Axes>"
      ]
     },
     "metadata": {
      "needs_background": "light"
     },
     "output_type": "display_data"
    }
   ],
   "source": [
    "_time = time.time()\n",
    "\n",
    "IT = Intertrain(n=[x_poi, x_poi, x_poi], l=[[x_min, x_max], [x_min, x_max], [x_min, x_max]])\n",
    "\n",
    "X = IT.grid()\n",
    "\n",
    "D0 = IT.dif2() * D_coef\n",
    "\n",
    "Z0 = expm((t_max - t_min) * D0)\n",
    "\n",
    "Z = Z0.copy()\n",
    "for _ in range(1, d): Z = np.kron(Z, Z0)\n",
    "\n",
    "r = func_r0(X)\n",
    "r = Z @ r\n",
    "\n",
    "Z2 = Z\n",
    "show_x(X, r, time.time() - _time)"
   ]
  },
  {
   "cell_type": "markdown",
   "metadata": {},
   "source": [
    "<div class=\"head1\">\n",
    "    <div class=\"head1__name\">\n",
    "        Multiple computations\n",
    "    </div>\n",
    "    <div class=\"head1__note\">\n",
    "        We compute dependencies of solution accuracy and calculation time on the number of time and spacial points and solver type. Results are saved to file and may be reused later for visualization.  \n",
    "    </div>\n",
    "</div>"
   ]
  },
  {
   "cell_type": "code",
   "execution_count": null,
   "metadata": {},
   "outputs": [],
   "source": [
    "if False: # Protection of already saved data\n",
    "    SLC = SolversCheck(data_path)\n",
    "    SLC.set_grid_t(t_min, t_max)\n",
    "    SLC.set_grid_x(x_min, x_max)\n",
    "    SLC.set_funcs(func_f0, func_f1, func_r0, func_rt, func_rs)\n",
    "    SLC.set_coefs(D_coef)\n",
    "\n",
    "    M = [10, 100, 1000]\n",
    "    N = list(np.arange(5, 16, 5, dtype=int))\n",
    "    SLC.add(name='Solver-NP', d=3, eps=1.E-6, ord=2, with_tt=False, M=M, N=N)\n",
    "\n",
    "    M = [10, 100, 1000, 10000]\n",
    "    N = list(np.arange(5, 26, 5, dtype=int))\n",
    "    SLC.add(name='Solver-TT', d=3, eps=1.E-6, ord=2, with_tt=True, M=M, N=N)\n",
    "\n",
    "    SLC.calc()\n",
    "    SLC.save()"
   ]
  },
  {
   "cell_type": "markdown",
   "metadata": {},
   "source": [
    "<div class=\"end\"></div>"
   ]
  }
 ],
 "metadata": {
  "kernelspec": {
   "display_name": "Python 3",
   "language": "python",
   "name": "python3"
  },
  "language_info": {
   "codemirror_mode": {
    "name": "ipython",
    "version": 3
   },
   "file_extension": ".py",
   "mimetype": "text/x-python",
   "name": "python",
   "nbconvert_exporter": "python",
   "pygments_lexer": "ipython3",
   "version": "3.7.1"
  }
 },
 "nbformat": 4,
 "nbformat_minor": 2
}
