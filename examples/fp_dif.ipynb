{
 "cells": [
  {
   "cell_type": "markdown",
   "metadata": {},
   "source": [
    "---\n",
    "---\n",
    "\n",
    "### Solution of 1D Ornstein–Uhlenbeck process with only diffusion part\n",
    "\n",
    "Ornstein–Uhlenbeck process\n",
    "$$\n",
    "    d \\, x = d \\, \\beta(t),\n",
    "    \\quad\n",
    "    x(0) = x_0,\n",
    "    \\quad\n",
    "    \\lambda > 0,\n",
    "$$\n",
    "\n",
    "Its solution is\n",
    "$$\n",
    "    x(t) = x(0) + \\int_0^t d \\, \\beta(\\tau),\n",
    "$$\n",
    "and covariance matrix is\n",
    "$$\n",
    "    C(t) = \\frac{q}{2\\lambda} e^{-\\lambda |t|},\n",
    "$$\n",
    "where $q$ is spectral density of the one dimensional white noise process $w(t)$.\n",
    "\n",
    "The probability density function (PDF) $\\rho(x, t)$ satisfies the Fokker–Planck equation\n",
    "$$\n",
    "   \\frac{\\partial \\, \\rho}{\\partial \\, t} =\n",
    "       \\frac{1}{2} \\frac{\\partial^2 \\, \\rho}{\\partial \\, x^2},\n",
    "$$\n",
    "with transition probability\n",
    "$$\n",
    "    \\rho(x, t | x_0, t_0=0) = \n",
    "        \\sqrt{\n",
    "            \\frac{\\lambda}{\\pi \\left( 1 - e^{-2 \\lambda t} \\right)}\n",
    "        }\n",
    "        e^{\\frac\n",
    "            {-\\lambda \\left( x - x_0 e^{-\\lambda t} \\right)^2}\n",
    "            {1 - e^{-2 \\lambda t}}\n",
    "        }.\n",
    "$$"
   ]
  },
  {
   "cell_type": "code",
   "execution_count": 21,
   "metadata": {},
   "outputs": [],
   "source": [
    "import sys\n",
    "import time\n",
    "\n",
    "import numpy as np\n",
    "from numpy import kron as kron\n",
    "\n",
    "import scipy.sparse as sp\n",
    "from scipy.linalg import expm as expm\n",
    "from scipy.interpolate import RectBivariateSpline\n",
    "\n",
    "import matplotlib as mpl\n",
    "import matplotlib.pyplot as plt\n",
    "from matplotlib import animation, rc\n",
    "\n",
    "from IPython.display import HTML\n",
    "\n",
    "sys.path.append('./../lib')\n",
    "from intertrain import Intertrain"
   ]
  },
  {
   "cell_type": "code",
   "execution_count": 22,
   "metadata": {},
   "outputs": [],
   "source": [
    "class Solver(object):\n",
    "    \n",
    "    def __init__(self):\n",
    "        self.IT = Intertrain(n=[n], l=[l], with_tt=False) \n",
    "\n",
    "        self.J = np.eye(n)\n",
    "        self.J[0, 0] = 0.\n",
    "        self.J[-1, -1] = 0.\n",
    "        \n",
    "        self.D = self.IT.dif2()\n",
    "        self.D = self.J@self.D\n",
    "        self.Z = np.exp(h) * expm(self.D) @ self.J\n",
    "\n",
    "    def calc(self):\n",
    "        X = self.IT.grid()\n",
    "        self.r0 = func_r0(X).reshape(-1)\n",
    "\n",
    "        self.r = self.r0.copy()\n",
    "        for t in T[:-1]:\n",
    "            self.r = self.Z@self.r"
   ]
  },
  {
   "cell_type": "code",
   "execution_count": 23,
   "metadata": {},
   "outputs": [],
   "source": [
    "# SDE parameters\n",
    "\n",
    "def func_r(x, t, x0):\n",
    "    l = -1.\n",
    "    e = np.exp(-1. * l * t)\n",
    "    r = np.sqrt(l / np.pi /  (1. - e*e))\n",
    "    r*= np.exp(-1. * l * (x - x0 * e)**2 / (1. - e*e))\n",
    "    return r\n",
    "\n",
    "def func_r0(x):\n",
    "    s = 1.\n",
    "    m = 0.\n",
    "    r = 1./np.sqrt(2.*np.pi * s**2)\n",
    "    r*= np.exp(-1. * (x-m)**2 / 2. / s**2)\n",
    "    return r\n",
    "    # return np.exp(-0.5 * np.diag(x.T@x))"
   ]
  },
  {
   "cell_type": "code",
   "execution_count": 24,
   "metadata": {},
   "outputs": [],
   "source": [
    "# Time grid\n",
    "\n",
    "t_min = 0.\n",
    "t_max = 0.1\n",
    "t_poi = 1000 # including t_min and t_max (>= 2)\n",
    "\n",
    "m = t_poi\n",
    "h = (t_max - t_min) / (t_poi - 1)\n",
    "\n",
    "T = np.linspace(t_min, t_max, t_poi)"
   ]
  },
  {
   "cell_type": "code",
   "execution_count": 25,
   "metadata": {},
   "outputs": [],
   "source": [
    "# Spatial grid\n",
    "\n",
    "n = 100\n",
    "l = [-3., 3.]"
   ]
  },
  {
   "cell_type": "code",
   "execution_count": 18,
   "metadata": {},
   "outputs": [],
   "source": [
    "# Run calculations\n",
    "\n",
    "SL = Solver()\n",
    "SL.calc()"
   ]
  },
  {
   "cell_type": "code",
   "execution_count": 20,
   "metadata": {},
   "outputs": [
    {
     "data": {
      "image/png": "[encoded data removed]",
      "text/plain": [
       "<Figure size 432x432 with 1 Axes>"
      ]
     },
     "metadata": {
      "needs_background": "light"
     },
     "output_type": "display_data"
    }
   ],
   "source": [
    "# Plot distribution (initial and final) on the spatial grid\n",
    "\n",
    "fig = plt.figure(figsize=(6, 6))\n",
    "gs = mpl.gridspec.GridSpec(\n",
    "    ncols=1, nrows=1, left=0.01, right=0.99, top=0.99, bottom=0.01,\n",
    "    wspace=0.4, hspace=0.3, width_ratios=[1], height_ratios=[1]\n",
    ")\n",
    "\n",
    "Xg = SL.IT.grid()\n",
    "x0 = Xg.reshape(-1)\n",
    "r0 = SL.r0.reshape(-1)\n",
    "r1 = SL.r.reshape(-1)\n",
    "rr = func_r(Xg, T[-1], Xg).reshape(-1)\n",
    "ax = fig.add_subplot(gs[0, 0])\n",
    "ax.plot(x0, r0, label='Initial')\n",
    "ax.plot(x0, r1, label='Final (calc)')\n",
    "##ax.plot(x0, rr, label='Final (real)')\n",
    "ax.semilogy()\n",
    "ax.set_title('Probability density function')\n",
    "ax.set_xlabel('x')\n",
    "ax.set_ylabel('r')\n",
    "ax.legend(loc='best')\n",
    "\n",
    "plt.show()"
   ]
  },
  {
   "cell_type": "code",
   "execution_count": null,
   "metadata": {},
   "outputs": [],
   "source": []
  },
  {
   "cell_type": "code",
   "execution_count": null,
   "metadata": {},
   "outputs": [],
   "source": []
  }
 ],
 "metadata": {
  "kernelspec": {
   "display_name": "Python 3",
   "language": "python",
   "name": "python3"
  },
  "language_info": {
   "codemirror_mode": {
    "name": "ipython",
    "version": 3
   },
   "file_extension": ".py",
   "mimetype": "text/x-python",
   "name": "python",
   "nbconvert_exporter": "python",
   "pygments_lexer": "ipython3",
   "version": "3.7.1"
  }
 },
 "nbformat": 4,
 "nbformat_minor": 2
}
