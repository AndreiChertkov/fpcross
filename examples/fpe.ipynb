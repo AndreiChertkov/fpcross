{
 "cells": [
  {
   "cell_type": "markdown",
   "metadata": {},
   "source": [
    "<div class=\"head0\">\n",
    "    <div class=\"head0__name\">\n",
    "        Basic examples for the Fokker-Planck solver\n",
    "    </div>\n",
    "    <div class=\"head0__note\">\n",
    "        Solution of the multidimensional Fokker-Planck equation by fast and accurate tensor based methods.\n",
    "    </div>\n",
    "</div>"
   ]
  },
  {
   "cell_type": "code",
   "execution_count": 1,
   "metadata": {},
   "outputs": [
    {
     "name": "stdout",
     "output_type": "stream",
     "text": [
      "Start | 12:38PM MSK on Oct 08, 2019 |\n",
      "-------------------------------------\n"
     ]
    },
    {
     "data": {
      "text/html": [
       "<style>\n",
       "    div {\n",
       "      margin: 0;\n",
       "      padding: 0;\n",
       "    }\n",
       "\n",
       "    .head0 {\n",
       "      padding: 10px;\n",
       "      display: flex;\n",
       "      background-color: #dedee2;\n",
       "    }\n",
       "    .head0__name {\n",
       "      padding-right: 5px;\n",
       "      flex: 1 1 50%;\n",
       "      align-self: center;\n",
       "      font-size: 36px;\n",
       "      font-weight: bold;\n",
       "      color: #6b7e51;\n",
       "    }\n",
       "    .head0__note {\n",
       "      padding-left: 10px;\n",
       "      flex: 1 1 50%;\n",
       "      align-self: flex-end;\n",
       "      font-size: 16px;\n",
       "      font-style: italic;\n",
       "      color: #485536;\n",
       "      border-left: 5px solid #8b1d1d;\n",
       "    }\n",
       "\n",
       "    .head1 {\n",
       "      margin-top: 30px;\n",
       "      padding: 10px;\n",
       "      border-top: 5px solid #8b1d1d;\n",
       "    }\n",
       "    .head1__name {\n",
       "      font-size: 32px;\n",
       "      font-weight: bold;\n",
       "      color: #485536;\n",
       "    }\n",
       "    .head1__note {\n",
       "      padding-left: 20px;\n",
       "      font-size: 20px;\n",
       "      font-style: italic;\n",
       "      color: #485536;\n",
       "    }\n",
       "\n",
       "    .head2 {\n",
       "      margin-top: 7px;\n",
       "      padding: 5px 30px 5px;\n",
       "      border-left: 2px solid #42d56e;\n",
       "    }\n",
       "    .head2__name {\n",
       "      display: inline-block;\n",
       "      max-width: 70%;\n",
       "      padding: 2px 10px;\n",
       "      font-size: 22px;\n",
       "      font-weight: bold;\n",
       "      color: #145929;\n",
       "      border-bottom: 2px solid #42d56e;\n",
       "    }\n",
       "    .head2__note {\n",
       "      padding: 5px 10px 0px;\n",
       "      font-size: 14px;\n",
       "      font-style: italic;\n",
       "      color: #485536;\n",
       "    }\n",
       "\n",
       "    .head3 {\n",
       "      margin-top: 5px;\n",
       "      padding: 3px 40px 3px;\n",
       "      border-left: 2px dotted #485536;\n",
       "    }\n",
       "    .head3__name {\n",
       "      display: inline-block;\n",
       "      max-width: 70%;\n",
       "      padding: 2px 10px;\n",
       "      font-size: 20px;\n",
       "      font-weight: bold;\n",
       "      color: #145929;\n",
       "      border-bottom: 2px dotted #485536;\n",
       "    }\n",
       "    .head3__note {\n",
       "      padding: 2px 10px 0px;\n",
       "      font-size: 12px;\n",
       "      font-style: italic;\n",
       "      color: #485536;\n",
       "    }\n",
       "\n",
       "    .warn {\n",
       "      background-color: #fcf2f2;\n",
       "      border-color: #dfb5b4;\n",
       "      border-left: 5px solid #dfb5b4;\n",
       "      padding: 0.5em;\n",
       "    }\n",
       "    .note {\n",
       "      color: #42d56e;\n",
       "    }\n",
       "    .note::before {\n",
       "      content: 'Note. ';\n",
       "      font-weight: bold;\n",
       "      color: #485536;\n",
       "    }\n",
       "\n",
       "    .end {\n",
       "      padding: 5px;\n",
       "      border-top: 5px solid #8b1d1d;\n",
       "      border-bottom: 5px solid #8b1d1d;\n",
       "    }\n",
       "</style>"
      ],
      "text/plain": [
       "<IPython.core.display.HTML object>"
      ]
     },
     "execution_count": 1,
     "metadata": {},
     "output_type": "execute_result"
    }
   ],
   "source": [
    "import numpy as np\n",
    "\n",
    "from fpcross import ij, Grid, ModelBase, Model, Solver, SolversCheck\n",
    "\n",
    "ij()"
   ]
  },
  {
   "cell_type": "markdown",
   "metadata": {},
   "source": [
    "<div class=\"head1\">\n",
    "    <div class=\"head1__name\">\n",
    "        Solve equation, using explicit functions\n",
    "    </div>\n",
    "    <div class=\"head1__note\">\n",
    "        Consider, for example, a 3-dimensional Focker-Planck equation with the zero drift (diffusion equation) and set the corresponding parameters by hands.\n",
    "    </div>\n",
    "</div>"
   ]
  },
  {
   "cell_type": "markdown",
   "metadata": {},
   "source": [
    "<div class=\"head2\">\n",
    "    <div class=\"head2__name\">\n",
    "        Parameters\n",
    "    </div>\n",
    "    <div class=\"head2__note\">\n",
    "Consider\n",
    "$$\n",
    "    d x = f(x, t) \\, dt + S(x, t) \\, d \\beta,\n",
    "    \\quad\n",
    "    d \\beta \\, d \\beta^{\\top} = Q(t) dt,\n",
    "    \\quad\n",
    "    x(0) = x_0 \\sim \\rho(x, 0) = \\rho_0 (x),\n",
    "$$\n",
    "$$\n",
    "    \\frac{\\partial \\rho(x, t)}{\\partial t} =\n",
    "        \\sum_{i=1}^d \\sum_{j=1}^d\n",
    "            \\frac{\\partial^2}{\\partial x_i \\partial x_j}\n",
    "            \\left[ D_{ij}(x, t) \\rho(x, t) \\right]\n",
    "        - \\sum_{i=1}^d\n",
    "            \\frac{\\partial}{\\partial x_i}\n",
    "            \\left[ f_i(x, t) \\rho(x, t) \\right],\n",
    "    \\quad\n",
    "     D(x, t) = \\frac{1}{2} S(x, t) Q(t) S(x, t)^{\\top},\n",
    "$$\n",
    "where spatial $d$-dimensional ($d \\ge 1$) variable $x \\in R^d$ has probability density function (PDF) $\\rho(x, t)$, $\\beta$ is Brownian motion of dimension $q$ ($q \\ge 1$, and we assume below that $q = d$), $f(x, t) \\in R^d$ is a vector-function, $S(x, t) \\in R^{d \\times q}$ and $Q(t) \\in R^{q \\times q}$ are matrix-functions and $D(x, t) \\in R^{d \\times d}$ is a diffusion tensor.\n",
    "\n",
    "Let\n",
    "$$\n",
    "    Q(t) \\equiv I,\n",
    "    \\,\n",
    "    S(x, t) \\equiv \\sqrt{2 D_c} I\n",
    "    \\implies\n",
    "    D(x, t) \\equiv D_c I,\n",
    "$$\n",
    "and\n",
    "$$\n",
    "    d = 3,\n",
    "    \\quad\n",
    "    x \\in \\Omega,\n",
    "    \\quad\n",
    "    \\rho(x, t) |_{\\partial \\Omega} \\approx 0,\n",
    "    \\quad\n",
    "    f(x, t) \\equiv 0,\n",
    "    \\quad\n",
    "    \\rho_0(x) = \\frac{1}{(2 \\pi s)^{\\frac{3}{2}}}\\exp{\\left[-\\frac{|x|^2}{2s}\\right]}.\n",
    "$$\n",
    "\n",
    "It can be shown that the analytic solution is\n",
    "$$\n",
    "    \\rho(x, t) =\n",
    "        (2 \\pi s + 4 \\pi D t)^{-\\frac{3}{2}}\n",
    "        \\exp{ \\left[\n",
    "            - \\frac\n",
    "                {\n",
    "                    |x|^2\n",
    "                }\n",
    "                {\n",
    "                    2  s + 4 D t\n",
    "                }\n",
    "        \\right] },\n",
    "$$\n",
    "and the stationary solution ($t \\rightarrow \\infty$) is\n",
    "$$\n",
    "    \\rho_{stat}(x) = 0.\n",
    "$$\n",
    "    </div>\n",
    "</div>\n",
    "\n",
    "<div class=\"note\">\n",
    "    Since interpolation is not required for the case of the zero drift ($f \\equiv 0$), but our solver calculates it by design, then it is expected to operate much slower than another simple solvers.\n",
    "</div>"
   ]
  },
  {
   "cell_type": "code",
   "execution_count": 2,
   "metadata": {},
   "outputs": [],
   "source": [
    "s = 1.\n",
    "D = 0.5\n",
    "\n",
    "class Model_(ModelBase):\n",
    "\n",
    "    #def name(self):\n",
    "    #    ''' Name of the model. '''\n",
    "    #    return 'test 3d'\n",
    "\n",
    "    def dim(self, x, t):\n",
    "        ''' Spatial dimension. '''\n",
    "        return 3\n",
    "    \n",
    "    def Dc(self):\n",
    "        ''' Diffusion coefficient. '''\n",
    "        return D\n",
    "\n",
    "    def f0(self, x, t):\n",
    "        ''' Function f(x, t). '''\n",
    "        return np.zeros(x.shape)\n",
    "\n",
    "    def f1(self, x, t):\n",
    "        ''' Function f(x, t) / d x. '''\n",
    "        return np.zeros(x.shape)\n",
    "\n",
    "    def r0(self, x):\n",
    "        ''' Initial condition. '''\n",
    "        a = 2. * s\n",
    "        r = np.exp(-np.sum(x*x, axis=0) / a) / (np.pi * a)**1.5\n",
    "        return r.reshape(-1)\n",
    "\n",
    "    def rt(self, x, t):\n",
    "        ''' Exact analytic solution. '''\n",
    "        a = 2. * s + 4. * D * t\n",
    "        r = np.exp(-np.sum(x*x, axis=0) / a) / (np.pi * a)**1.5\n",
    "        return r.reshape(-1)"
   ]
  },
  {
   "cell_type": "markdown",
   "metadata": {},
   "source": [
    "<div class=\"note\">\n",
    "    We can also set stationary solution $r_s(x)$, but in our case it is equal to zero. Since we do not want compare computation results with the zero, we do not define the corresponding function rs(self, x) in the model.\n",
    "</div>"
   ]
  },
  {
   "cell_type": "markdown",
   "metadata": {},
   "source": [
    "<div class=\"head2\">\n",
    "    <div class=\"head2__name\">\n",
    "        Solution in the dense (NP) format\n",
    "    </div>\n",
    "    <div class=\"head2__note\"></div>\n",
    "</div>"
   ]
  },
  {
   "cell_type": "code",
   "execution_count": 4,
   "metadata": {},
   "outputs": [
    {
     "name": "stderr",
     "output_type": "stream",
     "text": [
      "Solve: 100%|███████| 9/9 [00:07<00:00,  1.17step/s, | At T=1.0e+00 : er=3.8e-03]\n"
     ]
    },
    {
     "data": {
      "text/plain": [
       "<fpcross.solver.Solver at 0x1517cedda0>"
      ]
     },
     "execution_count": 4,
     "metadata": {},
     "output_type": "execute_result"
    }
   ],
   "source": [
    "SL = Solver(\n",
    "    TG=Grid(d=1, n=10, l=[+0., +1.], kind='u'), # Time grid\n",
    "    SG=Grid(d=3, n=21, l=[-5., +5.], kind='c'), # Spatial grid\n",
    "    MD=Model_()                                 # Model for equation\n",
    ")\n",
    "SL.init()    # Init solver\n",
    "SL.prep()    # Prepare special matrices\n",
    "SL.calc()    # Solve equation\n",
    "SL.TG.info() # Present results from all submodules\n",
    "SL.SG.info()\n",
    "SL.FN.info()\n",
    "SL.info()"
   ]
  },
  {
   "cell_type": "markdown",
   "metadata": {},
   "source": [
    "<div class=\"head2\">\n",
    "    <div class=\"head2__name\">\n",
    "        Solution in the sparse (TT) format\n",
    "    </div>\n",
    "    <div class=\"head2__note\"></div>\n",
    "</div>"
   ]
  },
  {
   "cell_type": "code",
   "execution_count": 8,
   "metadata": {},
   "outputs": [
    {
     "name": "stderr",
     "output_type": "stream",
     "text": [
      "Solve: 100%|█████| 99/99 [00:53<00:00,  1.22step/s, | At T=1.0e+00 : er=3.8e-03]"
     ]
    },
    {
     "name": "stdout",
     "output_type": "stream",
     "text": [
      "----------- Solver\n",
      "Format    : 3D, TT, eps= 1.00e-02 [order=2]\n",
      "Grid t    : poi =       100, min =    0.0000, max =    1.0000\n",
      "Grid x    : poi =        21, min =   -5.0000, max =    5.0000\n",
      "Time sec  : prep = 2.66e-03, calc = 5.36e+01, spec = 2.06e-01\n",
      "Err real  : 3.76e-03\n"
     ]
    },
    {
     "name": "stderr",
     "output_type": "stream",
     "text": [
      "\n"
     ]
    }
   ],
   "source": [
    "SL = Solver(\n",
    "    TG=Grid(d=1, n=10, l=[+0., +1.], kind='u'), # Time grid\n",
    "    SG=Grid(d=3, n=21, l=[-5., +5.], kind='c'), # Spatial grid\n",
    "    MD=Model_(),                                # Model for equation\n",
    "    eps=1.E-2,                                  # TT-approximation accuracy\n",
    "    with_tt=True\n",
    ")\n",
    "SL.prep()\n",
    "SL.calc()\n",
    "SL.info()"
   ]
  },
  {
   "cell_type": "markdown",
   "metadata": {},
   "source": [
    "<div class=\"head1\">\n",
    "    <div class=\"head1__name\">\n",
    "        Solve equation, using the predefined model\n",
    "    </div>\n",
    "    <div class=\"head1__note\">\n",
    "        We can set the same equation, using the predefined corresponding model.\n",
    "    </div>\n",
    "</div>"
   ]
  },
  {
   "cell_type": "code",
   "execution_count": 9,
   "metadata": {},
   "outputs": [],
   "source": [
    "MD = Model('fpe_3d_drift_zero')\n",
    "MD.init(s=1., D=0.5)"
   ]
  },
  {
   "cell_type": "markdown",
   "metadata": {},
   "source": [
    "<div class=\"head2\">\n",
    "    <div class=\"head2__name\">\n",
    "        Detailed info about model equation\n",
    "    </div>\n",
    "    <div class=\"head2__note\">\n",
    "        We can present the model description in markdown format.\n",
    "    </div>\n",
    "</div>"
   ]
  },
  {
   "cell_type": "code",
   "execution_count": 10,
   "metadata": {},
   "outputs": [],
   "source": [
    "# MD.info()"
   ]
  },
  {
   "cell_type": "markdown",
   "metadata": {},
   "source": [
    "<div class=\"head2\">\n",
    "    <div class=\"head2__name\">\n",
    "        Solution in the sparse (TT) format, using the model\n",
    "    </div>\n",
    "    <div class=\"head2__note\"></div>\n",
    "</div>"
   ]
  },
  {
   "cell_type": "code",
   "execution_count": 11,
   "metadata": {},
   "outputs": [
    {
     "name": "stderr",
     "output_type": "stream",
     "text": [
      "Solve: 100%|█████| 99/99 [01:46<00:00,  1.79s/step, | At T=1.0e+00 : er=3.8e-03]"
     ]
    },
    {
     "name": "stdout",
     "output_type": "stream",
     "text": [
      "----------- Solver\n",
      "Format    : 3D, TT, eps= 1.00e-06 [order=2]\n",
      "Grid t    : poi =       100, min =    0.0000, max =    1.0000\n",
      "Grid x    : poi =        21, min =   -5.0000, max =    5.0000\n",
      "Time sec  : prep = 2.72e-03, calc = 1.06e+02, spec = 2.10e-01\n",
      "Err real  : 3.76e-03\n"
     ]
    },
    {
     "name": "stderr",
     "output_type": "stream",
     "text": [
      "\n"
     ]
    }
   ],
   "source": [
    "SL = Solver(\n",
    "    TG=Grid(d=1, n=10, l=[+0., +1.], kind='u'),\n",
    "    SG=Grid(d=3, n=21, l=[-5., +5.], kind='c'),\n",
    "    MD=MD, eps=1.E-2, with_tt=True\n",
    ")\n",
    "SL.init()\n",
    "SL.prep()\n",
    "SL.calc()\n",
    "SL.info()"
   ]
  },
  {
   "cell_type": "markdown",
   "metadata": {},
   "source": [
    "<div class=\"head1\">\n",
    "    <div class=\"head1__name\">\n",
    "        Solution visualization\n",
    "    </div>\n",
    "    <div class=\"head1__note\"></div>\n",
    "</div>"
   ]
  },
  {
   "cell_type": "code",
   "execution_count": null,
   "metadata": {},
   "outputs": [],
   "source": [
    "# TODO!"
   ]
  },
  {
   "cell_type": "markdown",
   "metadata": {},
   "source": [
    "<div class=\"head1\">\n",
    "    <div class=\"head1__name\">\n",
    "        Solution of the 3-dimensional Ornstein-Uhlenbeck process\n",
    "    </div>\n",
    "    <div class=\"head1__note\">\n",
    "        Let consider more complex example with known stationary solution.\n",
    "    </div>\n",
    "</div>"
   ]
  },
  {
   "cell_type": "code",
   "execution_count": 13,
   "metadata": {},
   "outputs": [
    {
     "name": "stderr",
     "output_type": "stream",
     "text": [
      "Solve: 100%|█████| 99/99 [01:24<00:00,  1.27step/s, | At T=1.0e+00 : es=1.2e-01]"
     ]
    },
    {
     "name": "stdout",
     "output_type": "stream",
     "text": [
      "----------- Solver\n",
      "Format    : 3D, TT, eps= 1.00e-06 [order=2]\n",
      "Grid t    : poi =       100, min =    0.0000, max =    1.0000\n",
      "Grid x    : poi =        21, min =   -3.0000, max =    3.0000\n",
      "Time sec  : prep = 2.14e-03, calc = 8.42e+01, spec = 2.10e-01\n",
      "Err stat  : 1.19e-01\n"
     ]
    },
    {
     "name": "stderr",
     "output_type": "stream",
     "text": [
      "\n"
     ]
    }
   ],
   "source": [
    "SL = Solver(\n",
    "    TG=Grid(d=1, n=100, l=[+0., +1.], kind='u'),\n",
    "    SG=Grid(d=3, n= 21, l=[-3., +3.], kind='c'),\n",
    "    MD=Model('fpe_oup', d=3, A=np.eye(3)),\n",
    "    eps=1.E-6, with_tt=True\n",
    ")\n",
    "SL.init()\n",
    "SL.prep()\n",
    "SL.calc()\n",
    "SL.MD.info()\n",
    "SL.TG.info()\n",
    "SL.SG.info()\n",
    "SL.FN.info()\n",
    "SL.info()"
   ]
  },
  {
   "cell_type": "markdown",
   "metadata": {},
   "source": [
    "<div class=\"end\"></div>"
   ]
  }
 ],
 "metadata": {
  "kernelspec": {
   "display_name": "Python 3",
   "language": "python",
   "name": "python3"
  },
  "language_info": {
   "codemirror_mode": {
    "name": "ipython",
    "version": 3
   },
   "file_extension": ".py",
   "mimetype": "text/x-python",
   "name": "python",
   "nbconvert_exporter": "python",
   "pygments_lexer": "ipython3",
   "version": "3.7.1"
  }
 },
 "nbformat": 4,
 "nbformat_minor": 2
}
