{
 "cells": [
  {
   "cell_type": "markdown",
   "metadata": {},
   "source": [
    "<div class=\"head0\">\n",
    "    <div class=\"head0__name\">\n",
    "        Fokker-Planck solver\n",
    "    </div>\n",
    "    <div class=\"head0__note\">\n",
    "        Solution of the multidimensional Fokker-Planck equation by fast and accurate tensor based methods (basic examples).\n",
    "    </div>\n",
    "</div>"
   ]
  },
  {
   "cell_type": "markdown",
   "metadata": {},
   "source": [
    "<div class=\"head1\">\n",
    "    <div class=\"head1__name\">\n",
    "        Export of the modules\n",
    "    </div>\n",
    "</div>\n",
    "\n",
    "* **numpy** - standard library for numerical algebra;\n",
    "\n",
    "* **ij** - function for jupyter styling\n",
    "\n",
    "* **Grid** - class for multidimensional grid;\n",
    "\n",
    "* **Model** - class for representation of equation;\n",
    "\n",
    "* **Solver** - class with solver of the multidimensional Fokker-Planck equation;\n",
    "\n",
    "* **Check** - utility class for checking results and testing."
   ]
  },
  {
   "cell_type": "code",
   "execution_count": 1,
   "metadata": {},
   "outputs": [
    {
     "name": "stdout",
     "output_type": "stream",
     "text": [
      "Start |  1:21PM MSK on Dec 23, 2019 | python 3.7.1    |\n",
      "-------------------------------------------------------\n"
     ]
    },
    {
     "data": {
      "text/html": [
       "<style>\n",
       "        div {\n",
       "          margin: 0;\n",
       "          padding: 0;\n",
       "        }\n",
       "\n",
       "        .head0 {\n",
       "          padding: 10px;\n",
       "          display: flex;\n",
       "          background-color: #dedee2;\n",
       "        }\n",
       "        .head0__name {\n",
       "          padding-right: 5px;\n",
       "          flex: 1 1 50%;\n",
       "          align-self: center;\n",
       "          font-size: 36px;\n",
       "          font-weight: bold;\n",
       "          color: #6b7e51;\n",
       "        }\n",
       "        .head0__note {\n",
       "          padding-left: 10px;\n",
       "          flex: 1 1 50%;\n",
       "          align-self: flex-end;\n",
       "          font-size: 16px;\n",
       "          font-style: italic;\n",
       "          color: #485536;\n",
       "          border-left: 5px solid #8b1d1d;\n",
       "        }\n",
       "\n",
       "        .head1 {\n",
       "          margin-top: 30px;\n",
       "          padding: 10px;\n",
       "          border-top: 5px solid #8b1d1d;\n",
       "        }\n",
       "        .head1__name {\n",
       "          font-size: 32px;\n",
       "          font-weight: bold;\n",
       "          color: #485536;\n",
       "        }\n",
       "        .head1__note {\n",
       "          padding-left: 20px;\n",
       "          font-size: 20px;\n",
       "          font-style: italic;\n",
       "          color: #485536;\n",
       "        }\n",
       "\n",
       "        .head2 {\n",
       "          margin-top: 7px;\n",
       "          padding: 5px 30px 5px;\n",
       "          border-left: 2px solid #42d56e;\n",
       "        }\n",
       "        .head2__name {\n",
       "          display: inline-block;\n",
       "          max-width: 70%;\n",
       "          padding: 2px 10px;\n",
       "          font-size: 22px;\n",
       "          font-weight: bold;\n",
       "          color: #145929;\n",
       "          border-bottom: 2px solid #42d56e;\n",
       "        }\n",
       "        .head2__note {\n",
       "          padding: 5px 10px 0px;\n",
       "          font-size: 14px;\n",
       "          font-style: italic;\n",
       "          color: #485536;\n",
       "        }\n",
       "\n",
       "        .head3 {\n",
       "          margin-top: 5px;\n",
       "          padding: 3px 40px 3px;\n",
       "          border-left: 2px dotted #485536;\n",
       "        }\n",
       "        .head3__name {\n",
       "          display: inline-block;\n",
       "          max-width: 70%;\n",
       "          padding: 2px 10px;\n",
       "          font-size: 20px;\n",
       "          font-weight: bold;\n",
       "          color: #145929;\n",
       "          border-bottom: 2px dotted #485536;\n",
       "        }\n",
       "        .head3__note {\n",
       "          padding: 2px 10px 0px;\n",
       "          font-size: 12px;\n",
       "          font-style: italic;\n",
       "          color: #485536;\n",
       "        }\n",
       "\n",
       "        .warn {\n",
       "          background-color: #fcf2f2;\n",
       "          border-color: #dfb5b4;\n",
       "          border-left: 5px solid #dfb5b4;\n",
       "          padding: 0.5em;\n",
       "        }\n",
       "\n",
       "        .note {\n",
       "          color: #42d56e;\n",
       "        }\n",
       "        .note::before {\n",
       "          content: 'Note. ';\n",
       "          font-weight: bold;\n",
       "          color: #485536;\n",
       "        }\n",
       "\n",
       "        .end {\n",
       "          padding: 5px;\n",
       "          border-top: 5px solid #8b1d1d;\n",
       "          border-bottom: 5px solid #8b1d1d;\n",
       "        }\n",
       "    </style>"
      ],
      "text/plain": [
       "<IPython.core.display.HTML object>"
      ]
     },
     "execution_count": 1,
     "metadata": {},
     "output_type": "execute_result"
    }
   ],
   "source": [
    "import numpy as np\n",
    "\n",
    "from fpcross import ij, Grid, Model, Solver, Check\n",
    "\n",
    "ij()"
   ]
  },
  {
   "cell_type": "code",
   "execution_count": null,
   "metadata": {},
   "outputs": [],
   "source": [
    "from .mtr import difscheb, dif1cheb, dif2cheb"
   ]
  },
  {
   "cell_type": "markdown",
   "metadata": {},
   "source": [
    "<div class=\"head1\">\n",
    "    <div class=\"head1__name\">\n",
    "        Solve equation using explicit functions\n",
    "    </div>\n",
    "    <div class=\"head1__note\">\n",
    "        Consider, for example, a 3-dimensional Focker-Planck equation with the zero drift (diffusion equation) and set the corresponding parameters by hands.\n",
    "    </div>\n",
    "</div>"
   ]
  },
  {
   "cell_type": "markdown",
   "metadata": {},
   "source": [
    "<div class=\"head2\">\n",
    "    <div class=\"head2__name\">\n",
    "        Parameters\n",
    "    </div>\n",
    "    <div class=\"head2__note\">\n",
    "Consider\n",
    "$$\n",
    "    d x = f(x, t) \\, dt + S(x, t) \\, d \\beta,\n",
    "    \\quad\n",
    "    d \\beta \\, d \\beta^{\\top} = Q(t) dt,\n",
    "    \\quad\n",
    "    x(0) = x_0 \\sim \\rho(x, 0) = \\rho_0 (x),\n",
    "$$\n",
    "$$\n",
    "    \\frac{\\partial \\rho(x, t)}{\\partial t} =\n",
    "        \\sum_{i=1}^d \\sum_{j=1}^d\n",
    "            \\frac{\\partial^2}{\\partial x_i \\partial x_j}\n",
    "            \\left[ D_{ij}(x, t) \\rho(x, t) \\right]\n",
    "        - \\sum_{i=1}^d\n",
    "            \\frac{\\partial}{\\partial x_i}\n",
    "            \\left[ f_i(x, t) \\rho(x, t) \\right],\n",
    "    \\quad\n",
    "     D(x, t) = \\frac{1}{2} S(x, t) Q(t) S(x, t)^{\\top},\n",
    "$$\n",
    "where spatial $d$-dimensional ($d \\ge 1$) variable $x \\in R^d$ has probability density function (PDF) $\\rho(x, t)$, $\\beta$ is Brownian motion of dimension $q$ ($q \\ge 1$, and we assume below that $q = d$), $f(x, t) \\in R^d$ is a vector-function, $S(x, t) \\in R^{d \\times q}$ and $Q(t) \\in R^{q \\times q}$ are matrix-functions and $D(x, t) \\in R^{d \\times d}$ is a diffusion tensor.\n",
    "\n",
    "Let\n",
    "$$\n",
    "    Q(t) \\equiv I,\n",
    "    \\,\n",
    "    S(x, t) \\equiv \\sqrt{2 D_c} I\n",
    "    \\implies\n",
    "    D(x, t) \\equiv D_c I,\n",
    "$$\n",
    "and\n",
    "$$\n",
    "    d = 3,\n",
    "    \\quad\n",
    "    x \\in \\Omega,\n",
    "    \\quad\n",
    "    \\rho(x, t) |_{\\partial \\Omega} \\approx 0,\n",
    "    \\quad\n",
    "    f(x, t) \\equiv 0,\n",
    "    \\quad\n",
    "    \\rho_0(x) = \\frac{1}{(2 \\pi s)^{\\frac{3}{2}}}\\exp{\\left[-\\frac{|x|^2}{2s}\\right]}.\n",
    "$$\n",
    "\n",
    "It can be shown that the analytic solution is\n",
    "$$\n",
    "    \\rho(x, t) =\n",
    "        (2 \\pi s + 4 \\pi D t)^{-\\frac{3}{2}}\n",
    "        \\exp{ \\left[\n",
    "            - \\frac\n",
    "                {\n",
    "                    |x|^2\n",
    "                }\n",
    "                {\n",
    "                    2  s + 4 D t\n",
    "                }\n",
    "        \\right] },\n",
    "$$\n",
    "and the stationary solution ($t \\rightarrow \\infty$) is\n",
    "$$\n",
    "    \\rho_{stat}(x) = 0.\n",
    "$$\n",
    "    </div>\n",
    "</div>\n",
    "\n",
    "<div class=\"note\">\n",
    "    Since interpolation is not required for the case of the zero drift ($f \\equiv 0$), but our solver calculates it by design, then it is expected to operate much slower than another simple solvers.\n",
    "</div>"
   ]
  },
  {
   "cell_type": "code",
   "execution_count": 5,
   "metadata": {},
   "outputs": [],
   "source": [
    "s = 1.\n",
    "D = 0.5\n",
    "\n",
    "class Model_(Model):\n",
    "\n",
    "    def d(self):\n",
    "        ''' Spatial dimension. '''\n",
    "        return 3\n",
    "    \n",
    "    def D(self):\n",
    "        ''' Diffusion coefficient. '''\n",
    "        return D\n",
    "\n",
    "    def f0(self, X, t):\n",
    "        ''' Function f(x, t). '''\n",
    "        return np.zeros(X.shape)\n",
    "\n",
    "    def f1(self, X, t):\n",
    "        ''' Function f_i(x, t) / d x_i. (i = 1, 2, ..., d) '''\n",
    "        return np.zeros(X.shape)\n",
    "\n",
    "    def r0(self, X):\n",
    "        ''' Initial condition. '''\n",
    "        a = 2. * s\n",
    "        r = np.exp(-np.sum(X*X, axis=0) / a) / (np.pi * a)**1.5\n",
    "        return r.reshape(-1)\n",
    "\n",
    "    def rt(self, X, t):\n",
    "        ''' Exact analytic solution. '''\n",
    "        a = 2. * s + 4. * D * t\n",
    "        r = np.exp(-np.sum(X*X, axis=0) / a) / (np.pi * a)**1.5\n",
    "        return r.reshape(-1)\n",
    "    \n",
    "    def with_rt(self):\n",
    "        return True"
   ]
  },
  {
   "cell_type": "markdown",
   "metadata": {},
   "source": [
    "<div class=\"note\">\n",
    "    \n",
    "We can also set stationary solution $r_s(x)$, but in our case it is equal to zero. Since we do not want compare computation results with the zero, we do not define the corresponding function `rs(self, x)` and do not overwrite the function `with_rs(self)` in the model.\n",
    "</div>"
   ]
  },
  {
   "cell_type": "markdown",
   "metadata": {},
   "source": [
    "<div class=\"head2\">\n",
    "    <div class=\"head2__name\">\n",
    "        Solution in the dense (NP) format\n",
    "    </div>\n",
    "    <div class=\"head2__note\"></div>\n",
    "</div>"
   ]
  },
  {
   "cell_type": "code",
   "execution_count": 6,
   "metadata": {},
   "outputs": [
    {
     "name": "stderr",
     "output_type": "stream",
     "text": [
      "Solve: 100%|█| 9/9 [00:09<00:00,  1.12s/step, | At T=1.0e+00 :                                                                                                       Edert=5.0e-01  Ereal=4.5e-03]"
     ]
    },
    {
     "name": "stdout",
     "output_type": "stream",
     "text": [
      "------------------ Grid\n",
      "Kind             : Uniform\n",
      "\n",
      "Dimensions       : 1 \n",
      "                 : Poi 10  | Min 0.000  | Max 1.000  | \n",
      "------------------ Grid\n",
      "Kind             : Chebyshev\n",
      "\n",
      "Dimensions       : 3 \n",
      "                 : Poi 21  | Min -5.000 | Max 5.000  | \n",
      "------------------ Function  \n",
      "Format           : 3D, NP--> Time (sec.)  |       \n",
      "Prep             : 0.00e+00 \n",
      "Calc             : 4.18e-03 \n",
      "Comp (average)   : 0.00e+00 \n",
      "Func (average)   : 0.00e+00 \n",
      "------------------ Solver\n",
      "Format    : 3D, NP [order=2]\n",
      "Hst pois  : 10 \n",
      "Hst with r: No \n",
      "d r / d t : 4.99e-01\n",
      "Err  real : 4.47e-03\n",
      "Time full : 1.21e+01 \n",
      "Time prep : 2.23e+00 \n",
      "Time calc : 9.90e+00 \n",
      "    .init : 8.25e-03 \n",
      "    .prep : 4.76e-05 \n",
      "    .diff : 7.99e-01 \n",
      "    .conv : 9.03e+00 \n",
      "    .post : 5.30e-02 \n",
      "    .last : 4.06e-03 \n",
      "\n"
     ]
    },
    {
     "name": "stderr",
     "output_type": "stream",
     "text": [
      "\n"
     ]
    }
   ],
   "source": [
    "SL = Solver(\n",
    "    TG=Grid(d=1, n=10, l=[+0., +1.], k='u'), # Time grid\n",
    "    SG=Grid(d=3, n=21, l=[-5., +5.], k='c'), # Spatial grid\n",
    "    MD=Model_()                              # Model for equation\n",
    ")\n",
    "SL.init()    # Init solver\n",
    "SL.prep()    # Prepare special matrices\n",
    "SL.calc()    # Solve equation\n",
    "SL.TG.info() # Present results from all submodules\n",
    "SL.SG.info()\n",
    "SL.FN.info()\n",
    "SL.info()"
   ]
  },
  {
   "cell_type": "markdown",
   "metadata": {},
   "source": [
    "<div class=\"head2\">\n",
    "    <div class=\"head2__name\">\n",
    "        Solution in the sparse (TT) format\n",
    "    </div>\n",
    "    <div class=\"head2__note\"></div>\n",
    "</div>"
   ]
  },
  {
   "cell_type": "code",
   "execution_count": 7,
   "metadata": {},
   "outputs": [
    {
     "name": "stderr",
     "output_type": "stream",
     "text": [
      "Solve:   0%|                                            | 0/9 [00:00<?, ?step/s]"
     ]
    },
    {
     "ename": "TypeError",
     "evalue": "list indices must be integers or slices, not str",
     "output_type": "error",
     "traceback": [
      "\u001b[0;31m---------------------------------------------------------------------------\u001b[0m",
      "\u001b[0;31mTypeError\u001b[0m                                 Traceback (most recent call last)",
      "\u001b[0;32m<ipython-input-7-f79f05732695>\u001b[0m in \u001b[0;36m<module>\u001b[0;34m\u001b[0m\n\u001b[1;32m      8\u001b[0m \u001b[0mSL\u001b[0m\u001b[0;34m.\u001b[0m\u001b[0minit\u001b[0m\u001b[0;34m(\u001b[0m\u001b[0;34m)\u001b[0m    \u001b[0;31m# Init solver\u001b[0m\u001b[0;34m\u001b[0m\u001b[0;34m\u001b[0m\u001b[0m\n\u001b[1;32m      9\u001b[0m \u001b[0mSL\u001b[0m\u001b[0;34m.\u001b[0m\u001b[0mprep\u001b[0m\u001b[0;34m(\u001b[0m\u001b[0;34m)\u001b[0m    \u001b[0;31m# Prepare special matrices\u001b[0m\u001b[0;34m\u001b[0m\u001b[0;34m\u001b[0m\u001b[0m\n\u001b[0;32m---> 10\u001b[0;31m \u001b[0mSL\u001b[0m\u001b[0;34m.\u001b[0m\u001b[0mcalc\u001b[0m\u001b[0;34m(\u001b[0m\u001b[0;34m)\u001b[0m    \u001b[0;31m# Solve equation\u001b[0m\u001b[0;34m\u001b[0m\u001b[0;34m\u001b[0m\u001b[0m\n\u001b[0m\u001b[1;32m     11\u001b[0m \u001b[0mSL\u001b[0m\u001b[0;34m.\u001b[0m\u001b[0minfo\u001b[0m\u001b[0;34m(\u001b[0m\u001b[0;34m)\u001b[0m\u001b[0;34m\u001b[0m\u001b[0;34m\u001b[0m\u001b[0m\n",
      "\u001b[0;32m/anaconda3/lib/python3.7/site-packages/fpcross-0.1-py3.7.egg/fpcross/utils.py\u001b[0m in \u001b[0;36mtimer__\u001b[0;34m(self, *args, **kwargs)\u001b[0m\n\u001b[1;32m     39\u001b[0m         \u001b[0;32mdef\u001b[0m \u001b[0mtimer__\u001b[0m\u001b[0;34m(\u001b[0m\u001b[0mself\u001b[0m\u001b[0;34m,\u001b[0m \u001b[0;34m*\u001b[0m\u001b[0margs\u001b[0m\u001b[0;34m,\u001b[0m \u001b[0;34m**\u001b[0m\u001b[0mkwargs\u001b[0m\u001b[0;34m)\u001b[0m\u001b[0;34m:\u001b[0m\u001b[0;34m\u001b[0m\u001b[0;34m\u001b[0m\u001b[0m\n\u001b[1;32m     40\u001b[0m             \u001b[0mt\u001b[0m \u001b[0;34m=\u001b[0m \u001b[0mtpc\u001b[0m\u001b[0;34m(\u001b[0m\u001b[0;34m)\u001b[0m\u001b[0;34m\u001b[0m\u001b[0;34m\u001b[0m\u001b[0m\n\u001b[0;32m---> 41\u001b[0;31m             \u001b[0mr\u001b[0m \u001b[0;34m=\u001b[0m \u001b[0mf\u001b[0m\u001b[0;34m(\u001b[0m\u001b[0mself\u001b[0m\u001b[0;34m,\u001b[0m \u001b[0;34m*\u001b[0m\u001b[0margs\u001b[0m\u001b[0;34m,\u001b[0m \u001b[0;34m**\u001b[0m\u001b[0mkwargs\u001b[0m\u001b[0;34m)\u001b[0m\u001b[0;34m\u001b[0m\u001b[0;34m\u001b[0m\u001b[0m\n\u001b[0m\u001b[1;32m     42\u001b[0m             \u001b[0mt\u001b[0m \u001b[0;34m=\u001b[0m \u001b[0mtpc\u001b[0m\u001b[0;34m(\u001b[0m\u001b[0;34m)\u001b[0m \u001b[0;34m-\u001b[0m \u001b[0mt\u001b[0m\u001b[0;34m\u001b[0m\u001b[0;34m\u001b[0m\u001b[0m\n\u001b[1;32m     43\u001b[0m \u001b[0;34m\u001b[0m\u001b[0m\n",
      "\u001b[0;32m/anaconda3/lib/python3.7/site-packages/fpcross-0.1-py3.7.egg/fpcross/solver.py\u001b[0m in \u001b[0;36mcalc\u001b[0;34m(self, dsbl_print)\u001b[0m\n\u001b[1;32m    413\u001b[0m             \u001b[0;32mif\u001b[0m \u001b[0mself\u001b[0m\u001b[0;34m.\u001b[0m\u001b[0mord\u001b[0m \u001b[0;34m==\u001b[0m \u001b[0;36m2\u001b[0m\u001b[0;34m:\u001b[0m\u001b[0;34m\u001b[0m\u001b[0;34m\u001b[0m\u001b[0m\n\u001b[1;32m    414\u001b[0m                 \u001b[0mself\u001b[0m\u001b[0;34m.\u001b[0m\u001b[0mcalc_diff\u001b[0m\u001b[0;34m(\u001b[0m\u001b[0;34m)\u001b[0m\u001b[0;34m\u001b[0m\u001b[0;34m\u001b[0m\u001b[0m\n\u001b[0;32m--> 415\u001b[0;31m             \u001b[0mself\u001b[0m\u001b[0;34m.\u001b[0m\u001b[0mcalc_post\u001b[0m\u001b[0;34m(\u001b[0m\u001b[0;34m)\u001b[0m\u001b[0;34m\u001b[0m\u001b[0;34m\u001b[0m\u001b[0m\n\u001b[0m\u001b[1;32m    416\u001b[0m         \u001b[0mself\u001b[0m\u001b[0;34m.\u001b[0m\u001b[0mcalc_last\u001b[0m\u001b[0;34m(\u001b[0m\u001b[0;34m)\u001b[0m\u001b[0;34m\u001b[0m\u001b[0;34m\u001b[0m\u001b[0m\n\u001b[1;32m    417\u001b[0m \u001b[0;34m\u001b[0m\u001b[0m\n",
      "\u001b[0;32m/anaconda3/lib/python3.7/site-packages/fpcross-0.1-py3.7.egg/fpcross/utils.py\u001b[0m in \u001b[0;36mtimer__\u001b[0;34m(self, *args, **kwargs)\u001b[0m\n\u001b[1;32m     39\u001b[0m         \u001b[0;32mdef\u001b[0m \u001b[0mtimer__\u001b[0m\u001b[0;34m(\u001b[0m\u001b[0mself\u001b[0m\u001b[0;34m,\u001b[0m \u001b[0;34m*\u001b[0m\u001b[0margs\u001b[0m\u001b[0;34m,\u001b[0m \u001b[0;34m**\u001b[0m\u001b[0mkwargs\u001b[0m\u001b[0;34m)\u001b[0m\u001b[0;34m:\u001b[0m\u001b[0;34m\u001b[0m\u001b[0;34m\u001b[0m\u001b[0m\n\u001b[1;32m     40\u001b[0m             \u001b[0mt\u001b[0m \u001b[0;34m=\u001b[0m \u001b[0mtpc\u001b[0m\u001b[0;34m(\u001b[0m\u001b[0;34m)\u001b[0m\u001b[0;34m\u001b[0m\u001b[0;34m\u001b[0m\u001b[0m\n\u001b[0;32m---> 41\u001b[0;31m             \u001b[0mr\u001b[0m \u001b[0;34m=\u001b[0m \u001b[0mf\u001b[0m\u001b[0;34m(\u001b[0m\u001b[0mself\u001b[0m\u001b[0;34m,\u001b[0m \u001b[0;34m*\u001b[0m\u001b[0margs\u001b[0m\u001b[0;34m,\u001b[0m \u001b[0;34m**\u001b[0m\u001b[0mkwargs\u001b[0m\u001b[0;34m)\u001b[0m\u001b[0;34m\u001b[0m\u001b[0;34m\u001b[0m\u001b[0m\n\u001b[0m\u001b[1;32m     42\u001b[0m             \u001b[0mt\u001b[0m \u001b[0;34m=\u001b[0m \u001b[0mtpc\u001b[0m\u001b[0;34m(\u001b[0m\u001b[0;34m)\u001b[0m \u001b[0;34m-\u001b[0m \u001b[0mt\u001b[0m\u001b[0;34m\u001b[0m\u001b[0;34m\u001b[0m\u001b[0m\n\u001b[1;32m     43\u001b[0m \u001b[0;34m\u001b[0m\u001b[0m\n",
      "\u001b[0;32m/anaconda3/lib/python3.7/site-packages/fpcross-0.1-py3.7.egg/fpcross/solver.py\u001b[0m in \u001b[0;36mcalc_post\u001b[0;34m(self)\u001b[0m\n\u001b[1;32m    592\u001b[0m         \u001b[0mself\u001b[0m\u001b[0;34m.\u001b[0m\u001b[0mFN\u001b[0m\u001b[0;34m.\u001b[0m\u001b[0mA\u001b[0m \u001b[0;34m=\u001b[0m \u001b[0mmult\u001b[0m \u001b[0;34m*\u001b[0m \u001b[0mself\u001b[0m\u001b[0;34m.\u001b[0m\u001b[0mFN\u001b[0m\u001b[0;34m.\u001b[0m\u001b[0mA\u001b[0m\u001b[0;34m\u001b[0m\u001b[0;34m\u001b[0m\u001b[0m\n\u001b[1;32m    593\u001b[0m \u001b[0;34m\u001b[0m\u001b[0m\n\u001b[0;32m--> 594\u001b[0;31m         \u001b[0mself\u001b[0m\u001b[0;34m.\u001b[0m\u001b[0mexam\u001b[0m\u001b[0;34m(\u001b[0m\u001b[0mself\u001b[0m\u001b[0;34m.\u001b[0m\u001b[0mres\u001b[0m\u001b[0;34m)\u001b[0m\u001b[0;34m\u001b[0m\u001b[0;34m\u001b[0m\u001b[0m\n\u001b[0m\u001b[1;32m    595\u001b[0m         \u001b[0;32mif\u001b[0m \u001b[0mis_hst\u001b[0m\u001b[0;34m:\u001b[0m\u001b[0;34m\u001b[0m\u001b[0;34m\u001b[0m\u001b[0m\n\u001b[1;32m    596\u001b[0m             \u001b[0mself\u001b[0m\u001b[0;34m.\u001b[0m\u001b[0mexam\u001b[0m\u001b[0;34m(\u001b[0m\u001b[0mself\u001b[0m\u001b[0;34m.\u001b[0m\u001b[0mhst\u001b[0m\u001b[0;34m,\u001b[0m \u001b[0mis_hst\u001b[0m\u001b[0;34m=\u001b[0m\u001b[0;32mTrue\u001b[0m\u001b[0;34m)\u001b[0m\u001b[0;34m\u001b[0m\u001b[0;34m\u001b[0m\u001b[0m\n",
      "\u001b[0;32m/anaconda3/lib/python3.7/site-packages/fpcross-0.1-py3.7.egg/fpcross/solver.py\u001b[0m in \u001b[0;36mexam\u001b[0;34m(self, obj, eps_mult, is_hst)\u001b[0m\n\u001b[1;32m    765\u001b[0m             \u001b[0mres\u001b[0m\u001b[0;34m[\u001b[0m\u001b[0;34m'rnk_mean'\u001b[0m\u001b[0;34m]\u001b[0m \u001b[0;34m=\u001b[0m \u001b[0mself\u001b[0m\u001b[0;34m.\u001b[0m\u001b[0mFN\u001b[0m\u001b[0;34m.\u001b[0m\u001b[0mY\u001b[0m\u001b[0;34m.\u001b[0m\u001b[0merank\u001b[0m\u001b[0;34m\u001b[0m\u001b[0;34m\u001b[0m\u001b[0m\n\u001b[1;32m    766\u001b[0m \u001b[0;34m\u001b[0m\u001b[0m\n\u001b[0;32m--> 767\u001b[0;31m             \u001b[0mres\u001b[0m\u001b[0;34m[\u001b[0m\u001b[0;34m'cmp_calc'\u001b[0m\u001b[0;34m]\u001b[0m \u001b[0;34m=\u001b[0m \u001b[0mself\u001b[0m\u001b[0;34m.\u001b[0m\u001b[0mres_conv\u001b[0m\u001b[0;34m[\u001b[0m\u001b[0;34m'evals'\u001b[0m\u001b[0;34m]\u001b[0m \u001b[0;31m# ZZZ\u001b[0m\u001b[0;34m\u001b[0m\u001b[0;34m\u001b[0m\u001b[0m\n\u001b[0m\u001b[1;32m    768\u001b[0m             \u001b[0;32mfor\u001b[0m \u001b[0mi\u001b[0m \u001b[0;32min\u001b[0m \u001b[0mrange\u001b[0m\u001b[0;34m(\u001b[0m\u001b[0mself\u001b[0m\u001b[0;34m.\u001b[0m\u001b[0mSG\u001b[0m\u001b[0;34m.\u001b[0m\u001b[0md\u001b[0m\u001b[0;34m)\u001b[0m\u001b[0;34m:\u001b[0m\u001b[0;34m\u001b[0m\u001b[0;34m\u001b[0m\u001b[0m\n\u001b[1;32m    769\u001b[0m                 \u001b[0mres\u001b[0m\u001b[0;34m[\u001b[0m\u001b[0;34m'cmp_calc'\u001b[0m\u001b[0;34m]\u001b[0m\u001b[0;34m/=\u001b[0m \u001b[0mself\u001b[0m\u001b[0;34m.\u001b[0m\u001b[0mSG\u001b[0m\u001b[0;34m.\u001b[0m\u001b[0mn\u001b[0m\u001b[0;34m[\u001b[0m\u001b[0mi\u001b[0m\u001b[0;34m]\u001b[0m\u001b[0;34m\u001b[0m\u001b[0;34m\u001b[0m\u001b[0m\n",
      "\u001b[0;31mTypeError\u001b[0m: list indices must be integers or slices, not str"
     ]
    }
   ],
   "source": [
    "SL = Solver(\n",
    "    TG=Grid(d=1, n=10, l=[+0., +1.], k='u'), # Time grid\n",
    "    SG=Grid(d=3, n=21, l=[-5., +5.], k='c'), # Spatial grid\n",
    "    MD=Model_(),                             # Model for equation\n",
    "    eps=1.E-2,                               # TT-approximation accuracy\n",
    "    with_tt=True\n",
    ")\n",
    "SL.init()    # Init solver\n",
    "SL.prep()    # Prepare special matrices\n",
    "SL.calc()    # Solve equation\n",
    "SL.info()"
   ]
  },
  {
   "cell_type": "markdown",
   "metadata": {},
   "source": [
    "<div class=\"head1\">\n",
    "    <div class=\"head1__name\">\n",
    "        Solve equation, using the predefined model\n",
    "    </div>\n",
    "    <div class=\"head1__note\">\n",
    "        We can set the same equation, using the predefined corresponding model.\n",
    "    </div>\n",
    "</div>"
   ]
  },
  {
   "cell_type": "code",
   "execution_count": 6,
   "metadata": {},
   "outputs": [
    {
     "name": "stdout",
     "output_type": "stream",
     "text": [
      "Model : fpe_3d_drift_zero      | d r(x,t) / d t = D \\Delta r(x,t)\n",
      ">>>>>>> Description            : Three-dimensional Focker Planck equation with the zero drift\n"
     ]
    }
   ],
   "source": [
    "MD = Model.select('fpe_3d_drift_zero')\n",
    "MD.init(s=1., D=0.5).info(is_comp=True)"
   ]
  },
  {
   "cell_type": "markdown",
   "metadata": {},
   "source": [
    "<div class=\"head2\">\n",
    "    <div class=\"head2__name\">\n",
    "        Detailed info about model equation\n",
    "    </div>\n",
    "    <div class=\"head2__note\">\n",
    "        We can present the model description in markdown format.\n",
    "    </div>\n",
    "</div>"
   ]
  },
  {
   "cell_type": "code",
   "execution_count": 7,
   "metadata": {},
   "outputs": [
    {
     "data": {
      "text/markdown": [
       "<div class=\"head0\"><div class=\"head0__name\">fpe_3d_drift_zero</div><div class=\"head0__note\">Three-dimensional Focker Planck equation with the zero drift [FPE, 3D, analytic, time-diffusion].</div></div><div class=\"head2\">\n",
       "                <div class=\"head2__name\">Parameters</div>\n",
       "                <div class=\"head2__note\"><ul><li>s =   1.0000 [Initial variance]<div>Variance of the initial condition (type: float, default:   1.0000)</div></li><li>D =   0.5000 [Diffusion coefficient]<div>Scalar diffusion coefficient (type: float, default:   0.5000)</div></li></ul></div>\n",
       "            </div><div class=\"head1\">\n",
       "                <div class=\"head1__name\">Description</div>\n",
       "            </div>\n",
       "Consider\n",
       "$$\n",
       "    d x = f(x, t) \\, dt + S(x, t) \\, d \\beta,\n",
       "    \\quad\n",
       "    d \\beta \\, d \\beta^{\\top} = Q(t) dt,\n",
       "    \\quad\n",
       "    x(0) = x_0 \\sim \\rho(x, 0) = \\rho_0 (x),\n",
       "$$\n",
       "$$\n",
       "    \\frac{\\partial \\rho(x, t)}{\\partial t} =\n",
       "        \\sum_{i=1}^d \\sum_{j=1}^d\n",
       "            \\frac{\\partial^2}{\\partial x_i \\partial x_j}\n",
       "            \\left[ D_{ij}(x, t) \\rho(x, t) \\right]\n",
       "        - \\sum_{i=1}^d\n",
       "            \\frac{\\partial}{\\partial x_i}\n",
       "            \\left[ f_i(x, t) \\rho(x, t) \\right],\n",
       "    \\quad\n",
       "     D(x, t) = \\frac{1}{2} S(x, t) Q(t) S(x, t)^{\\top},\n",
       "$$\n",
       "where spatial $d$-dimensional ($d \\ge 1$) variable $x \\in R^d$ has probability density function (PDF) $\\rho(x, t)$, $\\beta$ is Brownian motion of dimension $q$ ($q \\ge 1$, and we assume below that $q = d$), $f(x, t) \\in R^d$ is a vector-function, $S(x, t) \\in R^{d \\times q}$ and $Q(t) \\in R^{q \\times q}$ are matrix-functions and $D(x, t) \\in R^{d \\times d}$ is a diffusion tensor.\n",
       "\n",
       "Let\n",
       "$$\n",
       "    Q(t) \\equiv I,\n",
       "    \\,\n",
       "    S(x, t) \\equiv \\sqrt{2 D_c} I\n",
       "    \\implies\n",
       "    D(x, t) \\equiv D_c I,\n",
       "$$\n",
       "and\n",
       "$$\n",
       "    d = 3,\n",
       "    \\quad\n",
       "    x \\in \\Omega,\n",
       "    \\quad\n",
       "    \\rho(x, t) |_{\\partial \\Omega} \\approx 0,\n",
       "    \\quad\n",
       "    f(x, t) \\equiv 0,\n",
       "    \\quad\n",
       "    \\rho_0(x) = \\frac{1}{(2 \\pi s)^{\\frac{3}{2}}}\\exp{\\left[-\\frac{|x|^2}{2s}\\right]}.\n",
       "$$\n",
       "\n",
       "It can be shown that the analytic solution is\n",
       "$$\n",
       "    \\rho(x, t) =\n",
       "        (2 \\pi s + 4 \\pi D t)^{-\\frac{3}{2}}\n",
       "        \\exp{ \\left[\n",
       "            - \\frac\n",
       "                {\n",
       "                    |x|^2\n",
       "                }\n",
       "                {\n",
       "                    2  s + 4 D t\n",
       "                }\n",
       "        \\right] },\n",
       "$$\n",
       "and the stationary solution ($t \\rightarrow \\infty$) is\n",
       "$$\n",
       "    \\rho_{stat}(x) = 0.\n",
       "$$\n",
       "        <div class=\"note\">Since interpolation is not required for the case of the zero drift ($f \\equiv 0$), but our solver calculates it by design, then it is expected to operate much slower than another simple solvers.</div><div class=\"end\"></div>"
      ],
      "text/plain": [
       "<IPython.core.display.Markdown object>"
      ]
     },
     "metadata": {},
     "output_type": "display_data"
    }
   ],
   "source": [
    "MD.info()"
   ]
  },
  {
   "cell_type": "markdown",
   "metadata": {},
   "source": [
    "<div class=\"head2\">\n",
    "    <div class=\"head2__name\">\n",
    "        Solution in the sparse (TT) format, using the model\n",
    "    </div>\n",
    "    <div class=\"head2__note\"></div>\n",
    "</div>"
   ]
  },
  {
   "cell_type": "code",
   "execution_count": 8,
   "metadata": {},
   "outputs": [
    {
     "name": "stderr",
     "output_type": "stream",
     "text": [
      "Solve: 100%|███████| 9/9 [00:03<00:00,  2.69step/s, | At T=1.0e+00 : er=3.8e-03]"
     ]
    },
    {
     "name": "stdout",
     "output_type": "stream",
     "text": [
      "------------------ Solver\n",
      "Format    : 3D, TT, eps= 1.00e-02 [order=2]\n",
      "Time sec  : prep = 3.10e-03, calc = 2.93e+00\n",
      "Err real  : 3.76e-03\n"
     ]
    },
    {
     "name": "stderr",
     "output_type": "stream",
     "text": [
      "\n"
     ]
    }
   ],
   "source": [
    "SL = Solver(\n",
    "    TG=Grid(d=1, n=10, l=[+0., +1.], kind='u'),\n",
    "    SG=Grid(d=3, n=21, l=[-5., +5.], kind='c'),\n",
    "    MD=MD, eps=1.E-2, with_tt=True\n",
    ")\n",
    "SL.init()\n",
    "SL.prep()\n",
    "SL.calc()\n",
    "SL.info()"
   ]
  },
  {
   "cell_type": "markdown",
   "metadata": {},
   "source": [
    "<div class=\"head1\">\n",
    "    <div class=\"head1__name\">\n",
    "        Solution visualization\n",
    "    </div>\n",
    "    <div class=\"head1__note\"></div>\n",
    "</div>"
   ]
  },
  {
   "cell_type": "code",
   "execution_count": 9,
   "metadata": {},
   "outputs": [],
   "source": [
    "# TODO!"
   ]
  },
  {
   "cell_type": "markdown",
   "metadata": {},
   "source": [
    "<div class=\"head1\">\n",
    "    <div class=\"head1__name\">\n",
    "        Solution of the 3-dimensional Ornstein-Uhlenbeck process\n",
    "    </div>\n",
    "    <div class=\"head1__note\">\n",
    "        Let consider more complex example with known stationary solution.\n",
    "    </div>\n",
    "</div>"
   ]
  },
  {
   "cell_type": "code",
   "execution_count": 11,
   "metadata": {},
   "outputs": [
    {
     "name": "stderr",
     "output_type": "stream",
     "text": [
      "Solve: 100%|███| 999/999 [12:19<00:00,  1.33step/s, | At T=1.0e+00 : es=1.2e-01]\n"
     ]
    },
    {
     "data": {
      "text/markdown": [
       "<div class=\"head0\"><div class=\"head0__name\">fpe-oup</div><div class=\"head0__note\">Multidimensional Focker Planck equation (Ornstein–Uhlenbeck process) [FPE, ND, analytic, analyt-stationary, OUP].</div></div><div class=\"head2\">\n",
       "                <div class=\"head2__name\">Parameters</div>\n",
       "                <div class=\"head2__note\"><ul><li>d =   3 [Dimension]<div>Spatial dimension (type: int, default:   1)</div></li><li>s =   1.0000 [Initial variance]<div>Variance of the initial condition (type: float, default:   1.0000)</div></li><li>D =   0.5000 [Diffusion coefficient]<div>Scalar diffusion coefficient (type: float, default:   0.5000)</div></li><li>A = [[1. 0. 0.]\n",
       " [0. 1. 0.]\n",
       " [0. 0. 1.]] [Drift]<div>Constant drift coefficients ([d x d] matrix) (type: ndarray, default: <function Model.pars.<locals>.<lambda> at 0x1513664ea0>)</div></li></ul></div>\n",
       "            </div><div class=\"head1\">\n",
       "                <div class=\"head1__name\">Description</div>\n",
       "            </div>\n",
       "Consider\n",
       "$$\n",
       "    d x = f(x, t) \\, dt + S(x, t) \\, d \\beta,\n",
       "    \\quad\n",
       "    d \\beta \\, d \\beta^{\\top} = Q(t) dt,\n",
       "    \\quad\n",
       "    x(0) = x_0 \\sim \\rho(x, 0) = \\rho_0 (x),\n",
       "$$\n",
       "$$\n",
       "    \\frac{\\partial \\rho(x, t)}{\\partial t} =\n",
       "        \\sum_{i=1}^d \\sum_{j=1}^d\n",
       "            \\frac{\\partial^2}{\\partial x_i \\partial x_j}\n",
       "            \\left[ D_{ij}(x, t) \\rho(x, t) \\right]\n",
       "        - \\sum_{i=1}^d\n",
       "            \\frac{\\partial}{\\partial x_i}\n",
       "            \\left[ f_i(x, t) \\rho(x, t) \\right],\n",
       "    \\quad\n",
       "     D(x, t) = \\frac{1}{2} S(x, t) Q(t) S(x, t)^{\\top},\n",
       "$$\n",
       "where spatial $d$-dimensional ($d \\ge 1$) variable $x \\in R^d$ has probability density function (PDF) $\\rho(x, t)$, $\\beta$ is Brownian motion of dimension $q$ ($q \\ge 1$, and we assume below that $q = d$), $f(x, t) \\in R^d$ is a vector-function, $S(x, t) \\in R^{d \\times q}$ and $Q(t) \\in R^{q \\times q}$ are matrix-functions and $D(x, t) \\in R^{d \\times d}$ is a diffusion tensor.\n",
       "\n",
       "Let\n",
       "$$\n",
       "    Q(t) \\equiv I,\n",
       "    \\,\n",
       "    S(x, t) \\equiv \\sqrt{2 D_c} I\n",
       "    \\implies\n",
       "    D(x, t) \\equiv D I,\n",
       "$$\n",
       "and\n",
       "$$\n",
       "    \\quad\n",
       "    x \\in \\Omega,\n",
       "    \\quad\n",
       "    \\rho(x, t) |_{\\partial \\Omega} \\approx 0,\n",
       "    \\quad\n",
       "    f(x, t) = A (\\mu - x),\n",
       "    \\quad\n",
       "    \\mu \\equiv 0,\n",
       "    \\quad\n",
       "    \\rho_0(x) =\n",
       "        \\frac{1}{\\left(2 \\pi s \\right)^{\\frac{d}{2}}}\n",
       "        \\exp{\\left[-\\frac{|x|^2}{2s}\\right]}.\n",
       "$$\n",
       "\n",
       "This equation has stationary solution ($t \\rightarrow \\infty$)\n",
       "$$\n",
       "    \\rho_{stat}(x) =\n",
       "        \\frac\n",
       "        {\n",
       "            exp \\left[ -\\frac{1}{2} x^{\\top} W^{-1} x \\right]\n",
       "        }\n",
       "        {\n",
       "            \\sqrt{(2 \\pi)^d det(W)}\n",
       "        },\n",
       "$$\n",
       "where matrix $W$ is solution of the matrix equation\n",
       "$$\n",
       "    A W + W A^{\\top} = 2 D.\n",
       "$$\n",
       "        <div class=\"note\">The multivariate Ornstein–Uhlenbeck process is mean-reverting (the solution tends to its long-term mean $\\mu$ as time $t$ tends to infinity) if if all eigenvalues of $A$ are positive and this process at any time is a multivariate normal random variable.</div><div class=\"note\">We do not construct analytic solution for this multidimensional case, but use comparison with known stationary solution. The corresponding error will depend on the maximum value for the used time grid.</div><div class=\"end\"></div>"
      ],
      "text/plain": [
       "<IPython.core.display.Markdown object>"
      ]
     },
     "metadata": {},
     "output_type": "display_data"
    },
    {
     "name": "stdout",
     "output_type": "stream",
     "text": [
      "------------------ Grid\n",
      "Kind             : Uniform\n",
      "Dimensions       : 1 \n",
      "                 : Poi 1000 | Min 0.000  | Max 1.000  |\n",
      "------------------ Grid\n",
      "Kind             : Chebyshev\n",
      "Dimensions       : 3 \n",
      "                 : Poi 31  | Min -3.000 | Max 3.000  |\n",
      "------------------ Function\n",
      "Format           : 3D, TT, eps= 1.00e-06\n",
      "--> Time         | \n",
      "Prep             : 0.00e+00 sec. \n",
      "Calc             : 5.73e-04 sec. \n",
      "Comp (average)   : 0.00e+00 sec. \n",
      "Func (average)   : 0.00e+00 sec. \n",
      "--> Cross params | \n",
      "nswp             :      200 \n",
      "kickrank         :        1 \n",
      "rf               : 2.00e+00 \n",
      "--> Cross result | \n",
      "Func. evaluations:        0 \n",
      "Cross iterations :        0 \n",
      "Av. tt-rank      : 0.00e+00 \n",
      "Cross err (rel)  : 0.00e+00 \n",
      "Cross err (abs)  : 0.00e+00 \n",
      "------------------ Solver\n",
      "Format    : 3D, TT, eps= 1.00e-06 [order=2]\n",
      "Time sec  : prep = 4.38e-03, calc = 6.98e+02\n",
      "Err stat  : 1.19e-01\n"
     ]
    }
   ],
   "source": [
    "SL = Solver(\n",
    "    TG=Grid(d=1, n=1000, l=[+0., +1.], kind='u'),\n",
    "    SG=Grid(d=3, n= 31, l=[-3., +3.], kind='c'),\n",
    "    MD=Model.select('fpe_oup').init(d=3, A=np.eye(3)),\n",
    "    eps=1.E-6, with_tt=True\n",
    ")\n",
    "SL.init()\n",
    "SL.prep()\n",
    "SL.calc()\n",
    "SL.MD.info()\n",
    "SL.TG.info()\n",
    "SL.SG.info()\n",
    "SL.FN.info()\n",
    "SL.info()"
   ]
  },
  {
   "cell_type": "markdown",
   "metadata": {},
   "source": [
    "<div class=\"end\"></div>"
   ]
  }
 ],
 "metadata": {
  "kernelspec": {
   "display_name": "Python 3",
   "language": "python",
   "name": "python3"
  },
  "language_info": {
   "codemirror_mode": {
    "name": "ipython",
    "version": 3
   },
   "file_extension": ".py",
   "mimetype": "text/x-python",
   "name": "python",
   "nbconvert_exporter": "python",
   "pygments_lexer": "ipython3",
   "version": "3.7.4"
  }
 },
 "nbformat": 4,
 "nbformat_minor": 4
}
