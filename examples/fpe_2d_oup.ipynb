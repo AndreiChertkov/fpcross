{
 "cells": [
  {
   "cell_type": "code",
   "execution_count": 1,
   "metadata": {},
   "outputs": [
    {
     "name": "stdout",
     "output_type": "stream",
     "text": [
      "Start |  4:13PM MSK on Sep 24, 2019 |\n",
      "-------------------------------------\n"
     ]
    },
    {
     "data": {
      "text/html": [
       "<style>div {\n",
       "  margin: 0;\n",
       "  padding: 0;\n",
       "}\n",
       "\n",
       ".head0 {\n",
       "  padding: 10px;\n",
       "  display: flex;\n",
       "  background-color: #dedee2;\n",
       "}\n",
       ".head0__name {\n",
       "  padding-right: 5px;\n",
       "  flex: 1 1 50%;\n",
       "  align-self: center;\n",
       "  font-size: 36px;\n",
       "  font-weight: bold;\n",
       "  color: #6b7e51;\n",
       "}\n",
       ".head0__note {\n",
       "  padding-left: 10px;\n",
       "  flex: 1 1 50%;\n",
       "  align-self: flex-end;\n",
       "  font-size: 16px;\n",
       "  font-style: italic;\n",
       "  color: #485536;\n",
       "  border-left: 5px solid #8b1d1d;\n",
       "}\n",
       "\n",
       ".head1 {\n",
       "  margin-top: 30px;\n",
       "  padding: 10px;\n",
       "  border-top: 5px solid #8b1d1d;\n",
       "}\n",
       ".head1__name {\n",
       "  font-size: 32px;\n",
       "  font-weight: bold;\n",
       "  color: #485536;\n",
       "}\n",
       ".head1__note {\n",
       "  padding-left: 20px;\n",
       "  font-size: 20px;\n",
       "  font-style: italic;\n",
       "  color: #485536;\n",
       "}\n",
       "\n",
       ".head2 {\n",
       "  margin-top: 7px;\n",
       "  padding: 5px 30px 5px;\n",
       "  border-left: 2px solid #42d56e;\n",
       "}\n",
       ".head2__name {\n",
       "  display: inline-block;\n",
       "  max-width: 70%;\n",
       "  padding: 2px 10px;\n",
       "  font-size: 22px;\n",
       "  font-weight: bold;\n",
       "  color: #145929;\n",
       "  border-bottom: 2px solid #42d56e;\n",
       "}\n",
       ".head2__note {\n",
       "  padding: 5px 10px 0px;\n",
       "  font-size: 14px;\n",
       "  font-style: italic;\n",
       "  color: #485536;\n",
       "}\n",
       "\n",
       ".head3 {\n",
       "  margin-top: 5px;\n",
       "  padding: 3px 40px 3px;\n",
       "  border-left: 2px dotted #485536;\n",
       "}\n",
       ".head3__name {\n",
       "  display: inline-block;\n",
       "  max-width: 70%;\n",
       "  padding: 2px 10px;\n",
       "  font-size: 20px;\n",
       "  font-weight: bold;\n",
       "  color: #145929;\n",
       "  border-bottom: 2px dotted #485536;\n",
       "}\n",
       ".head3__note {\n",
       "  padding: 2px 10px 0px;\n",
       "  font-size: 12px;\n",
       "  font-style: italic;\n",
       "  color: #485536;\n",
       "}\n",
       "\n",
       ".warn {\n",
       "  background-color: #fcf2f2;\n",
       "  border-color: #dfb5b4;\n",
       "  border-left: 5px solid #dfb5b4;\n",
       "  padding: 0.5em;\n",
       "}\n",
       ".note {\n",
       "  color: #42d56e;\n",
       "}\n",
       ".note::before {\n",
       "  content: 'Note. ';\n",
       "  font-weight: bold;\n",
       "  color: #485536;\n",
       "}\n",
       "\n",
       ".end {\n",
       "  padding: 5px;\n",
       "  border-top: 5px solid #8b1d1d;\n",
       "  border-bottom: 5px solid #8b1d1d;\n",
       "}\n",
       "</style>"
      ],
      "text/plain": [
       "<IPython.core.display.HTML object>"
      ]
     },
     "execution_count": 1,
     "metadata": {},
     "output_type": "execute_result"
    }
   ],
   "source": [
    "import sys\n",
    "import numpy as np\n",
    "\n",
    "sys.path.extend(['./../lib', './../lib/models', './../helpers'])\n",
    "from model import Model\n",
    "from solver import Solver\n",
    "from solvers_check import SolversCheck\n",
    "from helpers import init_jupyter\n",
    "\n",
    "init_jupyter()"
   ]
  },
  {
   "cell_type": "code",
   "execution_count": 2,
   "metadata": {},
   "outputs": [
    {
     "name": "stderr",
     "output_type": "stream",
     "text": [
      "Solve: 100%|███| 199/199 [03:28<00:00,  1.19step/s, | At T=8.0e+00 : es=1.5e-03]"
     ]
    },
    {
     "name": "stdout",
     "output_type": "stream",
     "text": [
      "----------- Solver\n",
      "Format    : 2D, TT, eps= 1.00e-06 [order=2]\n",
      "Grid t    : poi =       200, min =    0.0000, max =    8.0000\n",
      "Grid x    : poi =       127, min =   -6.0000, max =    6.0000\n",
      "Time sec  : prep = 3.04e-02, calc = 2.08e+02, spec = 5.02e-01\n",
      "Err stat  : 1.49e-03\n"
     ]
    },
    {
     "name": "stderr",
     "output_type": "stream",
     "text": [
      "\n"
     ]
    }
   ],
   "source": [
    "MD = Model('fpe_oup')\n",
    "MD.init(d=2, s=1., D=0.5, A=np.array([\n",
    "    [0.5, 0.0],\n",
    "    [0.0, 2.5],\n",
    "]))\n",
    "# MD.info()\n",
    "\n",
    "SL = Solver(model=MD, eps=1.E-6, with_tt=True)\n",
    "SL.set_grid_t(200, 0., 8., t_hst=10)\n",
    "SL.set_grid_x(127, -6., 6.)\n",
    "\n",
    "SL.prep()\n",
    "SL.calc()\n",
    "SL.info()"
   ]
  },
  {
   "cell_type": "code",
   "execution_count": 3,
   "metadata": {},
   "outputs": [
    {
     "name": "stderr",
     "output_type": "stream",
     "text": [
      "Solve: 100%|███| 199/199 [04:22<00:00,  2.49s/step, | At T=8.0e+00 : es=1.5e-03]"
     ]
    },
    {
     "name": "stdout",
     "output_type": "stream",
     "text": [
      "----------- Solver\n",
      "Format    : 2D, NP [order=2]\n",
      "Grid t    : poi =       200, min =    0.0000, max =    8.0000\n",
      "Grid x    : poi =       127, min =   -6.0000, max =    6.0000\n",
      "Time sec  : prep = 1.10e+01, calc = 2.31e+02, spec = 3.17e+01\n",
      "Err stat  : 1.49e-03\n"
     ]
    },
    {
     "name": "stderr",
     "output_type": "stream",
     "text": [
      "\n"
     ]
    }
   ],
   "source": [
    "MD = Model('fpe_oup')\n",
    "MD.init(d=2, s=1., D=0.5, A=np.array([\n",
    "    [0.5, 0.0],\n",
    "    [0.0, 2.5],\n",
    "]))\n",
    "# MD.info()\n",
    "\n",
    "SL = Solver(model=MD, eps=1.E-6, with_tt=False)\n",
    "SL.set_grid_t(200, 0., 8., t_hst=10)\n",
    "SL.set_grid_x(127, -6., 6.)\n",
    "\n",
    "SL.prep()\n",
    "SL.calc()\n",
    "SL.info()"
   ]
  },
  {
   "cell_type": "code",
   "execution_count": 4,
   "metadata": {},
   "outputs": [
    {
     "name": "stderr",
     "output_type": "stream",
     "text": [
      "Solve: 100%|███| 199/199 [04:27<00:00,  1.98s/step, | At T=8.0e+00 : es=1.2e+00]"
     ]
    },
    {
     "name": "stdout",
     "output_type": "stream",
     "text": [
      "----------- Solver\n",
      "Format    : 2D, NP [order=2]\n",
      "Grid t    : poi =       200, min =    0.0000, max =    8.0000\n",
      "Grid x    : poi =       127, min =   -6.0000, max =    6.0000\n",
      "Time sec  : prep = 8.88e+00, calc = 2.36e+02, spec = 3.17e+01\n",
      "Err stat  : 1.22e+00\n"
     ]
    },
    {
     "name": "stderr",
     "output_type": "stream",
     "text": [
      "\n"
     ]
    }
   ],
   "source": [
    "MD = Model('fpe_oup')\n",
    "MD.init(d=2, s=1., D=0.5, A=np.array([\n",
    "    [1.0, 0.1],\n",
    "    [0.0, 1.0],\n",
    "]))\n",
    "# MD.info()\n",
    "\n",
    "SL = Solver(model=MD, eps=1.E-6, with_tt=False)\n",
    "SL.set_grid_t(200, 0., 8., t_hst=10)\n",
    "SL.set_grid_x(127, -6., 6.)\n",
    "\n",
    "SL.prep()\n",
    "SL.calc()\n",
    "SL.info()"
   ]
  },
  {
   "cell_type": "code",
   "execution_count": 5,
   "metadata": {},
   "outputs": [
    {
     "name": "stderr",
     "output_type": "stream",
     "text": [
      "Solve: 100%|███| 199/199 [05:49<00:00,  1.78s/step, | At T=8.0e+00 : es=1.2e+00]"
     ]
    },
    {
     "name": "stdout",
     "output_type": "stream",
     "text": [
      "----------- Solver\n",
      "Format    : 2D, TT, eps= 1.00e-04 [order=2]\n",
      "Grid t    : poi =       200, min =    0.0000, max =    8.0000\n",
      "Grid x    : poi =       127, min =   -6.0000, max =    6.0000\n",
      "Time sec  : prep = 9.58e-03, calc = 3.49e+02, spec = 8.88e-01\n",
      "Err stat  : 1.21e+00\n"
     ]
    },
    {
     "name": "stderr",
     "output_type": "stream",
     "text": [
      "\n"
     ]
    }
   ],
   "source": [
    "MD = Model('fpe_oup')\n",
    "MD.init(d=2, s=1., D=0.5, A=np.array([\n",
    "    [1.0, 0.1],\n",
    "    [0.0, 1.0],\n",
    "]))\n",
    "# MD.info()\n",
    "\n",
    "SL = Solver(model=MD, eps=1.E-4, with_tt=True)\n",
    "SL.set_grid_t(200, 0., 8., t_hst=10)\n",
    "SL.set_grid_x(127, -6., 6.)\n",
    "\n",
    "SL.prep()\n",
    "SL.calc()\n",
    "SL.info()"
   ]
  },
  {
   "cell_type": "code",
   "execution_count": 6,
   "metadata": {},
   "outputs": [
    {
     "name": "stderr",
     "output_type": "stream",
     "text": [
      "Solve: 100%|███| 399/399 [12:53<00:00,  1.96s/step, | At T=1.6e+01 : es=3.9e+00]"
     ]
    },
    {
     "name": "stdout",
     "output_type": "stream",
     "text": [
      "----------- Solver\n",
      "Format    : 2D, TT, eps= 1.00e-04 [order=2]\n",
      "Grid t    : poi =       400, min =    0.0000, max =   16.0000\n",
      "Grid x    : poi =       127, min =   -6.0000, max =    6.0000\n",
      "Time sec  : prep = 4.29e-02, calc = 7.72e+02, spec = 9.39e-01\n",
      "Err stat  : 3.86e+00\n"
     ]
    },
    {
     "name": "stderr",
     "output_type": "stream",
     "text": [
      "\n"
     ]
    }
   ],
   "source": [
    "MD = Model('fpe_oup')\n",
    "MD.init(d=2, s=1., D=0.5, A=np.array([\n",
    "    [1.0, 0.1],\n",
    "    [0.0, 1.0],\n",
    "]))\n",
    "# MD.info()\n",
    "\n",
    "SL = Solver(model=MD, eps=1.E-4, with_tt=True)\n",
    "SL.set_grid_t(400, 0., 16., t_hst=10)\n",
    "SL.set_grid_x(127, -6., 6.)\n",
    "\n",
    "SL.prep()\n",
    "SL.calc()\n",
    "SL.info()"
   ]
  },
  {
   "cell_type": "code",
   "execution_count": 2,
   "metadata": {},
   "outputs": [
    {
     "name": "stderr",
     "output_type": "stream",
     "text": [
      "Solve: 100%|███████| 9/9 [00:02<00:00,  2.96step/s, | At T=1.6e+01 : es=8.0e-01]\n"
     ]
    },
    {
     "name": "stdout",
     "output_type": "stream",
     "text": [
      "----------- Solver\n",
      "Format    : 2D, TT, eps= 1.00e-04 [order=2]\n",
      "Grid t    : poi =        10, min =    0.0000, max =   16.0000\n",
      "Grid x    : poi =       127, min =   -6.0000, max =    6.0000\n",
      "Time sec  : prep = 1.60e-02, calc = 2.00e+00, spec = 4.41e-01\n",
      "Err stat  : 7.99e-01\n"
     ]
    }
   ],
   "source": [
    "MD = Model('fpe_oup')\n",
    "MD.init(d=2, s=1., D=0.5, A=np.array([\n",
    "    [1.0, 0.1],\n",
    "    [0.0, 1.0],\n",
    "]))\n",
    "# MD.info()\n",
    "\n",
    "SL = Solver(model=MD, eps=1.E-4, with_tt=True)\n",
    "SL.set_grid_t(10, 0., 16., t_hst=10)\n",
    "SL.set_grid_x(127, -6., 6.)\n",
    "\n",
    "SL.prep()\n",
    "SL.calc()\n",
    "SL.info()\n",
    "\n",
    "r_calc = SL.comp(SL.IT.grid())\n",
    "r_real = SL.func_rs(SL.IT.grid())"
   ]
  },
  {
   "cell_type": "code",
   "execution_count": 10,
   "metadata": {},
   "outputs": [
    {
     "data": {
      "image/png": "[encoded data removed]",
      "text/plain": [
       "<Figure size 432x288 with 1 Axes>"
      ]
     },
     "metadata": {
      "needs_background": "light"
     },
     "output_type": "display_data"
    }
   ],
   "source": [
    "import matplotlib.pyplot as plt\n",
    "\n",
    "x = np.arange(r_real.size)\n",
    "\n",
    "plt.plot(x, r_real, label='Stat')\n",
    "plt.plot(x, r_calc, label='Calc')\n",
    "\n",
    "plt.legend(loc='best')\n",
    "plt.show()"
   ]
  },
  {
   "cell_type": "code",
   "execution_count": 13,
   "metadata": {},
   "outputs": [
    {
     "data": {
      "text/plain": [
       "2.674495250508535"
      ]
     },
     "execution_count": 13,
     "metadata": {},
     "output_type": "execute_result"
    }
   ],
   "source": [
    "np.linalg.norm(r_real)"
   ]
  },
  {
   "cell_type": "code",
   "execution_count": 9,
   "metadata": {},
   "outputs": [
    {
     "data": {
      "text/plain": [
       "array([[-1.11022302e-16,  0.00000000e+00],\n",
       "       [ 0.00000000e+00,  0.00000000e+00]])"
      ]
     },
     "execution_count": 9,
     "metadata": {},
     "output_type": "execute_result"
    }
   ],
   "source": [
    "# A W + W A^{\\top} = 2 D.\n",
    "\n",
    "SL.model.md.A @ SL.model.md.W + SL.model.md.W @ SL.model.md.A.T - 2. * 0.5 * np.eye(2)\n"
   ]
  },
  {
   "cell_type": "code",
   "execution_count": null,
   "metadata": {},
   "outputs": [],
   "source": [
    "opts = { 'is_log': True, 'is_abs': False, 'is_err_abs': False, 'with_err_stat': True }\n",
    "SL.plot_t([-3.]*d, opts)\n",
    "SL.plot_t([+0.]*d, opts)\n",
    "SL.plot_t([+3.]*d, opts)"
   ]
  },
  {
   "cell_type": "code",
   "execution_count": null,
   "metadata": {},
   "outputs": [],
   "source": [
    "opts = { 'is_log': True, 'is_abs': False, 'is_err_abs': False, 'with_err_stat': True }\n",
    "SL.plot_x(+0.1, opts)\n",
    "SL.plot_x(+0.5, opts)\n",
    "SL.plot_x(None, opts)"
   ]
  },
  {
   "cell_type": "markdown",
   "metadata": {},
   "source": [
    "<div class=\"head1\">\n",
    "    <div class=\"head1__name\">\n",
    "        Results for multiple computations\n",
    "    </div>\n",
    "    <div class=\"head1__note\">\n",
    "        We use results that already saved to file (see file `multi_solve.ipynb`).\n",
    "    </div>\n",
    "</div>"
   ]
  },
  {
   "cell_type": "code",
   "execution_count": null,
   "metadata": {},
   "outputs": [],
   "source": [
    "SLC = SolversCheck('./../computations/data/fpe_2d_oup')\n",
    "SLC.load()\n",
    "\n",
    "name1 = 'Solver-NP'\n",
    "name2 = 'Solver-TT'\n",
    "\n",
    "M = SLC.res[name2]['M']\n",
    "N = SLC.res[name2]['N']\n",
    "\n",
    "m = M[-1]\n",
    "n = N[-1]"
   ]
  },
  {
   "cell_type": "markdown",
   "metadata": {},
   "source": [
    "<div class=\"head2\">\n",
    "    <div class=\"head2__name\">\n",
    "        Dependence on the number of time points\n",
    "    </div>\n",
    "    <div class=\"head2__note\">\n",
    "        We present results for TT-solver of the 2th order.\n",
    "    </div>\n",
    "</div>"
   ]
  },
  {
   "cell_type": "code",
   "execution_count": null,
   "metadata": {},
   "outputs": [],
   "source": [
    "SLC.plot(name2, n=n, is_stat=False, is_xpoi=False, lims={ 'all': [1, None] })"
   ]
  },
  {
   "cell_type": "markdown",
   "metadata": {},
   "source": [
    "<div class=\"head2\">\n",
    "    <div class=\"head2__name\">\n",
    "        Dependence on the number of spatial points\n",
    "    </div>\n",
    "    <div class=\"head2__note\">\n",
    "        We present results for TT-solver of the 2th order.\n",
    "    </div>\n",
    "</div>"
   ]
  },
  {
   "cell_type": "code",
   "execution_count": null,
   "metadata": {},
   "outputs": [],
   "source": [
    "SLC.plot(name2, m=m, is_stat=False, is_xpoi=False, lims={ 'all': [1, 6] })"
   ]
  },
  {
   "cell_type": "markdown",
   "metadata": {},
   "source": [
    "<div class=\"head2\">\n",
    "    <div class=\"head2__name\">\n",
    "        Dependence on the solver type\n",
    "    </div>\n",
    "    <div class=\"head2__note\">\n",
    "        We present results (dependencies on the number of time and spatial points) for NP-solver and TT-solver.\n",
    "    </div>\n",
    "</div>"
   ]
  },
  {
   "cell_type": "code",
   "execution_count": null,
   "metadata": {},
   "outputs": [],
   "source": [
    "SLC.plot_all(n=n, is_stat=False, is_xpoi=False)"
   ]
  },
  {
   "cell_type": "code",
   "execution_count": null,
   "metadata": {},
   "outputs": [],
   "source": [
    "SLC.plot_all(m=m, is_stat=False, is_xpoi=False)"
   ]
  },
  {
   "cell_type": "markdown",
   "metadata": {},
   "source": [
    "<div class=\"head1\">\n",
    "    <div class=\"head1__name\">\n",
    "        DRAFT | Explicit (simple) solvers\n",
    "    </div>\n",
    "    <div class=\"head1__note\">\n",
    "        Only for example and tests.\n",
    "    </div>\n",
    "</div>"
   ]
  },
  {
   "cell_type": "code",
   "execution_count": 7,
   "metadata": {},
   "outputs": [],
   "source": [
    "import time\n",
    "import numpy as np\n",
    "import scipy.sparse as sp\n",
    "from scipy.integrate import solve_ivp\n",
    "from scipy.linalg import expm as expm\n",
    "import matplotlib.pyplot as plt"
   ]
  },
  {
   "cell_type": "code",
   "execution_count": 8,
   "metadata": {},
   "outputs": [],
   "source": [
    "d = 3\n",
    "m = t_poi\n",
    "n = x_poi\n",
    "l = (x_max - x_min) / (x_poi - 1)\n",
    "h = (t_max - t_min) / (t_poi - 1)\n",
    "T = np.linspace(t_min, t_max, t_poi)"
   ]
  },
  {
   "cell_type": "code",
   "execution_count": 10,
   "metadata": {},
   "outputs": [],
   "source": [
    "def show_x(X, r_calc, _time):\n",
    "    X = X.reshape(1, -1)\n",
    "    r_init = func_r0(X)\n",
    "    r_real = func_rt(X, t_max)\n",
    "    r_stat = func_rs(X)\n",
    "    e = np.linalg.norm(r_real - r_calc) / np.linalg.norm(r_real)\n",
    "\n",
    "    plt.plot(\n",
    "        X.reshape(-1), r_init, '--', label='Initial',\n",
    "        linewidth=3, color='tab:blue'\n",
    "    )\n",
    "    plt.plot(\n",
    "        X.reshape(-1), r_calc, label='Calculated',\n",
    "        linewidth=1, color='tab:green', marker='o', markersize=7,\n",
    "        markerfacecolor='lightgreen', markeredgecolor='g'\n",
    "    )\n",
    "    plt.plot(\n",
    "        X.reshape(-1), r_real, label='Analytic',\n",
    "        linewidth=3, color='black'\n",
    "    )\n",
    "    plt.plot(\n",
    "        X.reshape(-1), r_stat, '--', label='Stationary',\n",
    "        linewidth=2, color='magenta'\n",
    "    )\n",
    "    \n",
    "    plt.title('Solution at the final time step')\n",
    "    plt.xlabel('x')\n",
    "    plt.ylabel('r')\n",
    "    plt.legend(loc='best')\n",
    "    plt.show()\n",
    "\n",
    "    print('Number of spatial points : %8d'%x_poi)\n",
    "    print('Number of time points    : %8d'%t_poi)\n",
    "    print('Error (relative norm)    : %-12.2e'%e)\n",
    "    print('Total time (sec)         : %-12.2e'%_time)"
   ]
  },
  {
   "cell_type": "markdown",
   "metadata": {},
   "source": [
    "<div class=\"head2\">\n",
    "    <div class=\"head2__name\">\n",
    "        Euler solver and uniform spatial grid\n",
    "    </div>\n",
    "</div>\n",
    "\n",
    "We can solve this 1D equation on the uniform spatial grid for the time $t > 0$ with step $h$ and uniform spatial grid with step $l$ using 2th order finite difference scheme\n",
    "\n",
    "$$\n",
    "    \\frac{\\partial \\rho}{\\partial t} = (D + \\widehat{Q}) \\rho,\n",
    "$$\n",
    "where\n",
    "$$\n",
    "    \\widehat{Q} \\rho = f Q \\rho - \\frac{\\partial f}{\\partial x} \\rho,\n",
    "$$\n",
    "\n",
    "$$\n",
    "    D = \\frac{1}{l^2} tridiag \\left( 1, -2, 1 \\right),\n",
    "    \\quad\n",
    "    Q = \\frac{1}{2 l} tridiag \\left( -1, 0, 1 \\right).\n",
    "$$\n",
    "\n",
    "Let apply 1th order splitting method on the time step $(k+1)$\n",
    "$$\n",
    "    \\frac{\\partial v}{\\partial t} = D v,\n",
    "    \\quad\n",
    "    v_{k} = \\rho_{k},\n",
    "    \\quad\n",
    "    v_{k+1} = v = ?,\n",
    "$$\n",
    "$$\n",
    "    \\frac{\\partial w}{\\partial t} = \\widehat{Q} w,\n",
    "    \\quad\n",
    "    w_{k} = v,\n",
    "    \\quad\n",
    "    w_{k+1} = \\rho_{k+1} = ?,\n",
    "$$\n",
    "and solve both ODE by the 1th order Euler method."
   ]
  },
  {
   "cell_type": "code",
   "execution_count": 14,
   "metadata": {},
   "outputs": [
    {
     "name": "stdout",
     "output_type": "stream",
     "text": [
      "11\n",
      "1331\n",
      "(1331, 1331)\n",
      "(1331, 1331)\n",
      "(1331,)\n"
     ]
    },
    {
     "ename": "ValueError",
     "evalue": "shapes (3993,3993) and (1331,1331) not aligned: 3993 (dim 1) != 1331 (dim 0)",
     "output_type": "error",
     "traceback": [
      "\u001b[0;31m---------------------------------------------------------------------------\u001b[0m",
      "\u001b[0;31mValueError\u001b[0m                                Traceback (most recent call last)",
      "\u001b[0;32m<ipython-input-14-5f4fbda01c20>\u001b[0m in \u001b[0;36m<module>\u001b[0;34m\u001b[0m\n\u001b[1;32m     44\u001b[0m     \u001b[0;31m# w1 = ZD @ w0\u001b[0m\u001b[0;34m\u001b[0m\u001b[0;34m\u001b[0m\u001b[0;34m\u001b[0m\u001b[0m\n\u001b[1;32m     45\u001b[0m     \u001b[0mv0\u001b[0m \u001b[0;34m=\u001b[0m \u001b[0mw1\u001b[0m\u001b[0;34m\u001b[0m\u001b[0;34m\u001b[0m\u001b[0m\n\u001b[0;32m---> 46\u001b[0;31m     \u001b[0mv1\u001b[0m \u001b[0;34m=\u001b[0m \u001b[0mv0\u001b[0m \u001b[0;34m-\u001b[0m \u001b[0mh\u001b[0m \u001b[0;34m*\u001b[0m \u001b[0mF0\u001b[0m \u001b[0;34m@\u001b[0m \u001b[0mQ\u001b[0m \u001b[0;34m@\u001b[0m \u001b[0mv0\u001b[0m \u001b[0;34m-\u001b[0m \u001b[0mh\u001b[0m \u001b[0;34m*\u001b[0m \u001b[0mF1\u001b[0m \u001b[0;34m@\u001b[0m \u001b[0mv0\u001b[0m\u001b[0;34m\u001b[0m\u001b[0;34m\u001b[0m\u001b[0m\n\u001b[0m\u001b[1;32m     47\u001b[0m     \u001b[0mr\u001b[0m \u001b[0;34m=\u001b[0m \u001b[0mv1\u001b[0m\u001b[0;34m\u001b[0m\u001b[0;34m\u001b[0m\u001b[0m\n\u001b[1;32m     48\u001b[0m \u001b[0;34m\u001b[0m\u001b[0m\n",
      "\u001b[0;31mValueError\u001b[0m: shapes (3993,3993) and (1331,1331) not aligned: 3993 (dim 1) != 1331 (dim 0)"
     ]
    }
   ],
   "source": [
    "_time = time.time()\n",
    "\n",
    "X = np.linspace(x_min, x_max, x_poi).reshape(1, -1)\n",
    "X = [X.copy() for _ in range(d)]\n",
    "X = np.meshgrid(*X, indexing='ij')\n",
    "X = np.array(X).reshape((d, -1), order='F')\n",
    "\n",
    "I = np.eye(x_poi)\n",
    "\n",
    "Q = sp.spdiags(\n",
    "    [\n",
    "        [-1.] * x_poi,\n",
    "        [+1.] * x_poi\n",
    "    ],\n",
    "    [-1,  1], x_poi, x_poi\n",
    ").tocsr().toarray()\n",
    "Q = Q * (0.5 / l)\n",
    "Q = np.kron(Q, np.kron(I, I)) + np.kron(I, np.kron(Q, I)) + np.kron(I, np.kron(I, Q))\n",
    "\n",
    "D = sp.spdiags(\n",
    "    [\n",
    "        [+1.] * x_poi,\n",
    "        [-2.] * x_poi,\n",
    "        [+1.] * x_poi\n",
    "    ],\n",
    "    [-1, 0, 1], x_poi, x_poi\n",
    ").tocsr().toarray()\n",
    "D = D * D_coef / l / l\n",
    "D = np.kron(D, np.kron(I, I)) + np.kron(I, np.kron(D, I)) + np.kron(I, np.kron(I, D))\n",
    "\n",
    "r = func_r0(X)\n",
    "\n",
    "print(x_poi)\n",
    "print(x_poi**d)\n",
    "print(D.shape)\n",
    "print(Q.shape)\n",
    "print(r.shape)\n",
    "\n",
    "for t in T[1:]:\n",
    "    F0 = np.diag(func_f0(X, t).reshape(-1))\n",
    "    F1 = np.diag(func_f1(X, t).reshape(-1))\n",
    "    w0 = r\n",
    "    w1 = w0 + h * D @ w0\n",
    "    # w1 = ZD @ w0\n",
    "    v0 = w1\n",
    "    v1 = v0 - h * F0 @ Q @ v0 - h * F1 @ v0\n",
    "    r = v1\n",
    "    \n",
    "show_x(X, r.reshape(-1), time.time() - _time)"
   ]
  },
  {
   "cell_type": "code",
   "execution_count": null,
   "metadata": {},
   "outputs": [],
   "source": [
    "_time = time.time()\n",
    "\n",
    "\n",
    "\n",
    "r = func_r0(X)\n",
    "for t in T[1:]:\n",
    "    r = r + h * D @ r\n",
    "\n",
    "show_x(X, r, time.time() - _time)"
   ]
  },
  {
   "cell_type": "markdown",
   "metadata": {},
   "source": [
    "<div class=\"head1\">\n",
    "    <div class=\"head1__name\">\n",
    "        Check stationary solution\n",
    "    </div>\n",
    "</div>\n",
    "\n",
    "We calculate rhs (for the large value $\\tau$ of time)\n",
    "$$\n",
    "    rhs(x)\n",
    "    =\n",
    "    \\sum_{i=1}^d \\sum_{j=1}^d\n",
    "        \\frac{\\partial^2}{\\partial x_i \\partial x_j}\n",
    "        \\left[ D_{ij}(x, \\tau) \\rho_{stat}(x) \\right]\n",
    "    - \\sum_{i=1}^d\n",
    "        \\frac{\\partial}{\\partial x_i}\n",
    "        \\left[ f_i(x, \\tau) \\rho_{stat}(x) \\right],\n",
    "$$\n",
    "using Chebyshev grid and Chebyshev differential matrices ($D_1$, $D_2$)\n",
    "$$\n",
    "    \\begin{split}\n",
    "        rhs\n",
    "        & =\n",
    "        D_c (D_2 \\otimes I \\otimes \\ldots \\otimes I) \\rho_{stat} +\n",
    "        \\ldots +\n",
    "        D_c (I \\otimes I \\otimes \\ldots \\otimes D_2) \\rho_{stat} -\n",
    "        \\\\ & -\n",
    "        (D_1 \\otimes I \\otimes \\ldots \\otimes I) ( f_1 \\rho_{stat} ) -\n",
    "        \\ldots -\n",
    "        (I \\otimes I \\otimes \\ldots \\otimes D_1) ( f_d \\rho_{stat} ),\n",
    "    \\end{split}\n",
    "$$\n",
    "and check if it close to zero."
   ]
  },
  {
   "cell_type": "code",
   "execution_count": 41,
   "metadata": {},
   "outputs": [],
   "source": [
    "def func_f0(x, t):\n",
    "    return -A_coef @ x\n",
    "\n",
    "def func_f1(x, t):\n",
    "    return -A_coef @ np.ones(x.shape)\n",
    "\n",
    "def func_r0(x):\n",
    "    a = 2. * s_coef\n",
    "    r = np.exp(-np.sum(x*x, axis=0) / a) / (np.pi * a)**(d/2)\n",
    "    return r.reshape(-1)\n",
    "\n",
    "def func_rs(x):\n",
    "    r = np.exp(-0.5 * np.diag(x.T @ Wi_coef @ x))\n",
    "    r/= np.sqrt(2**d * np.pi**d * Wd_coef)\n",
    "    return r"
   ]
  },
  {
   "cell_type": "code",
   "execution_count": 72,
   "metadata": {},
   "outputs": [
    {
     "name": "stdout",
     "output_type": "stream",
     "text": [
      "Res. norm2 : 3.72e-14\n"
     ]
    }
   ],
   "source": [
    "d = 2\n",
    "s_coef = 1.\n",
    "D_coef = 100.\n",
    "A_coef = np.array([\n",
    "    [1., 0.],\n",
    "    [0., 1.],\n",
    "])\n",
    "W_coef = solve_lyapunov(A_coef, D_coef * 2. * np.eye(d))\n",
    "Wi_coef = np.linalg.inv(W_coef)\n",
    "Wd_coef = np.linalg.det(W_coef)\n",
    "\n",
    "t_min, t_max, t_poi = +0., +5., 100\n",
    "x_min, x_max, x_poi = -3., +3., 11\n",
    "\n",
    "rhs_calc, x = calc_fpe_rhs(2, 10., -1, 1, 10, func_f0, func_rs, D_coef)\n",
    "print('Res. norm2 : %-8.2e'%np.linalg.norm(rhs_calc))"
   ]
  },
  {
   "cell_type": "code",
   "execution_count": 73,
   "metadata": {},
   "outputs": [
    {
     "data": {
      "text/plain": [
       "array([ 0.00000000e+00,  0.00000000e+00,  0.00000000e+00,  0.00000000e+00,\n",
       "        0.00000000e+00,  0.00000000e+00,  0.00000000e+00,  0.00000000e+00,\n",
       "        0.00000000e+00,  0.00000000e+00,  0.00000000e+00,  8.76035355e-16,\n",
       "       -3.16413562e-15, -2.78076173e-15, -8.62634617e-15, -8.62808089e-15,\n",
       "       -1.89258331e-15, -3.16500298e-15,  8.77770079e-16,  0.00000000e+00,\n",
       "        0.00000000e+00, -4.99600361e-16, -5.11569953e-15, -4.09828421e-15,\n",
       "       -1.82969959e-15, -2.71917905e-15, -4.54280710e-15, -5.11656689e-15,\n",
       "       -7.60329300e-15,  0.00000000e+00,  0.00000000e+00, -1.89431804e-15,\n",
       "       -4.98559527e-15, -1.02348685e-16, -1.96240593e-15, -2.85318644e-15,\n",
       "       -1.01915004e-16, -4.98386055e-15, -7.21905175e-15,  0.00000000e+00,\n",
       "        0.00000000e+00,  6.99960923e-16, -3.16153353e-15, -8.53483950e-16,\n",
       "        1.15532584e-15,  4.33680869e-17, -8.54784993e-16, -2.27248775e-15,\n",
       "        6.99960923e-16,  0.00000000e+00,  0.00000000e+00,  1.58640462e-15,\n",
       "       -4.05144668e-15, -1.74252973e-15, -1.28889954e-15, -2.17881269e-15,\n",
       "       -2.63200919e-15, -3.16240090e-15,  1.58640462e-15,  0.00000000e+00,\n",
       "        0.00000000e+00, -1.17093835e-16, -6.76195211e-15, -1.02348685e-16,\n",
       "       -1.86482774e-16, -1.07769696e-15, -1.01915004e-16, -6.76021739e-15,\n",
       "       -7.21905175e-15,  0.00000000e+00,  0.00000000e+00, -2.27682456e-15,\n",
       "       -6.89118901e-15, -4.98386055e-15, -1.82623014e-15, -2.71570960e-15,\n",
       "       -4.54020502e-15, -6.89205637e-15, -9.37964983e-15,  0.00000000e+00,\n",
       "        0.00000000e+00, -6.22765728e-15, -1.20459198e-14, -9.88532173e-15,\n",
       "        5.58494223e-15,  5.36159658e-15, -8.99801067e-15, -3.16500298e-15,\n",
       "       -6.22592256e-15,  0.00000000e+00,  0.00000000e+00,  0.00000000e+00,\n",
       "        0.00000000e+00,  0.00000000e+00,  0.00000000e+00,  0.00000000e+00,\n",
       "        0.00000000e+00,  0.00000000e+00,  0.00000000e+00,  0.00000000e+00])"
      ]
     },
     "execution_count": 73,
     "metadata": {},
     "output_type": "execute_result"
    }
   ],
   "source": [
    "rhs_calc"
   ]
  },
  {
   "cell_type": "code",
   "execution_count": 5,
   "metadata": {},
   "outputs": [
    {
     "ename": "ValueError",
     "evalue": "cannot reshape array of size 2401 into shape (7,7)",
     "output_type": "error",
     "traceback": [
      "\u001b[0;31m---------------------------------------------------------------------------\u001b[0m",
      "\u001b[0;31mValueError\u001b[0m                                Traceback (most recent call last)",
      "\u001b[0;32m<ipython-input-5-263841b7a78d>\u001b[0m in \u001b[0;36m<module>\u001b[0;34m\u001b[0m\n\u001b[1;32m     14\u001b[0m \u001b[0mx\u001b[0m \u001b[0;34m=\u001b[0m \u001b[0mIT\u001b[0m\u001b[0;34m.\u001b[0m\u001b[0mgrid\u001b[0m\u001b[0;34m(\u001b[0m\u001b[0;34m)\u001b[0m\u001b[0;34m\u001b[0m\u001b[0;34m\u001b[0m\u001b[0m\n\u001b[1;32m     15\u001b[0m \u001b[0mf\u001b[0m \u001b[0;34m=\u001b[0m \u001b[0mfunc_f0\u001b[0m\u001b[0;34m(\u001b[0m\u001b[0mx\u001b[0m\u001b[0;34m,\u001b[0m \u001b[0mt\u001b[0m\u001b[0;34m)\u001b[0m\u001b[0;34m\u001b[0m\u001b[0;34m\u001b[0m\u001b[0m\n\u001b[0;32m---> 16\u001b[0;31m \u001b[0mr\u001b[0m \u001b[0;34m=\u001b[0m \u001b[0mIT\u001b[0m\u001b[0;34m.\u001b[0m\u001b[0minit\u001b[0m\u001b[0;34m(\u001b[0m\u001b[0mfunc_rs\u001b[0m\u001b[0;34m)\u001b[0m\u001b[0;34m.\u001b[0m\u001b[0mY\u001b[0m\u001b[0;34m.\u001b[0m\u001b[0mreshape\u001b[0m\u001b[0;34m(\u001b[0m\u001b[0;34m-\u001b[0m\u001b[0;36m1\u001b[0m\u001b[0;34m,\u001b[0m \u001b[0morder\u001b[0m\u001b[0;34m=\u001b[0m\u001b[0;34m'F'\u001b[0m\u001b[0;34m)\u001b[0m\u001b[0;34m\u001b[0m\u001b[0;34m\u001b[0m\u001b[0m\n\u001b[0m\u001b[1;32m     17\u001b[0m \u001b[0;34m\u001b[0m\u001b[0m\n\u001b[1;32m     18\u001b[0m \u001b[0mrhs\u001b[0m \u001b[0;34m=\u001b[0m \u001b[0mD_coef\u001b[0m \u001b[0;34m*\u001b[0m \u001b[0mnp\u001b[0m\u001b[0;34m.\u001b[0m\u001b[0mkron\u001b[0m\u001b[0;34m(\u001b[0m\u001b[0mD2\u001b[0m\u001b[0;34m,\u001b[0m \u001b[0mI0\u001b[0m\u001b[0;34m)\u001b[0m \u001b[0;34m@\u001b[0m \u001b[0mr\u001b[0m\u001b[0;34m\u001b[0m\u001b[0;34m\u001b[0m\u001b[0m\n",
      "\u001b[0;32m~/work/apps/fpcross/lib/intertrain.py\u001b[0m in \u001b[0;36minit\u001b[0;34m(self, f, Y, opts)\u001b[0m\n\u001b[1;32m    204\u001b[0m             \u001b[0;32melse\u001b[0m\u001b[0;34m:\u001b[0m\u001b[0;34m\u001b[0m\u001b[0;34m\u001b[0m\u001b[0m\n\u001b[1;32m    205\u001b[0m                 \u001b[0mself\u001b[0m\u001b[0;34m.\u001b[0m\u001b[0mY\u001b[0m \u001b[0;34m=\u001b[0m \u001b[0mself\u001b[0m\u001b[0;34m.\u001b[0m\u001b[0mf\u001b[0m\u001b[0;34m(\u001b[0m\u001b[0mX\u001b[0m\u001b[0;34m)\u001b[0m\u001b[0;34m\u001b[0m\u001b[0;34m\u001b[0m\u001b[0m\n\u001b[0;32m--> 206\u001b[0;31m             \u001b[0mself\u001b[0m\u001b[0;34m.\u001b[0m\u001b[0mY\u001b[0m \u001b[0;34m=\u001b[0m \u001b[0mself\u001b[0m\u001b[0;34m.\u001b[0m\u001b[0mY\u001b[0m\u001b[0;34m.\u001b[0m\u001b[0mreshape\u001b[0m\u001b[0;34m(\u001b[0m\u001b[0mself\u001b[0m\u001b[0;34m.\u001b[0m\u001b[0mn\u001b[0m\u001b[0;34m,\u001b[0m \u001b[0morder\u001b[0m\u001b[0;34m=\u001b[0m\u001b[0;34m'F'\u001b[0m\u001b[0;34m)\u001b[0m\u001b[0;34m\u001b[0m\u001b[0;34m\u001b[0m\u001b[0m\n\u001b[0m\u001b[1;32m    207\u001b[0m \u001b[0;34m\u001b[0m\u001b[0m\n\u001b[1;32m    208\u001b[0m             \u001b[0mself\u001b[0m\u001b[0;34m.\u001b[0m\u001b[0m_t_func\u001b[0m \u001b[0;34m=\u001b[0m \u001b[0;34m(\u001b[0m\u001b[0mtime\u001b[0m\u001b[0;34m.\u001b[0m\u001b[0mtime\u001b[0m\u001b[0;34m(\u001b[0m\u001b[0;34m)\u001b[0m \u001b[0;34m-\u001b[0m \u001b[0mself\u001b[0m\u001b[0;34m.\u001b[0m\u001b[0m_t_func\u001b[0m\u001b[0;34m)\u001b[0m \u001b[0;34m/\u001b[0m \u001b[0mX\u001b[0m\u001b[0;34m.\u001b[0m\u001b[0mshape\u001b[0m\u001b[0;34m[\u001b[0m\u001b[0;36m1\u001b[0m\u001b[0;34m]\u001b[0m\u001b[0;34m\u001b[0m\u001b[0;34m\u001b[0m\u001b[0m\n",
      "\u001b[0;31mValueError\u001b[0m: cannot reshape array of size 2401 into shape (7,7)"
     ]
    },
    {
     "name": "stderr",
     "output_type": "stream",
     "text": [
      "Solve:  10%|███▎                             | 99/999 [00:20<00:36, 24.37step/s]"
     ]
    }
   ],
   "source": [
    "from intertrain import Intertrain\n",
    "\n",
    "t_min, t_max, t_poi = +0., +5., 100\n",
    "x_min, x_max, x_poi = -3., +3., 7\n",
    "\n",
    "IT = Intertrain(n=[x_poi]*d, l=[[-3., 3.], [-3., 3.]], with_tt=False)\n",
    "\n",
    "I0 = np.eye(x_poi)\n",
    "J0 = np.eye(x_poi); J0[0, 0] = 0.; J0[-1, -1] = 0.\n",
    "D1 = IT.dif1()\n",
    "D2 = IT.dif2()\n",
    "\n",
    "t = 1000.\n",
    "x = IT.grid()\n",
    "f = func_f0(x, t)\n",
    "r = IT.init(func_rs).Y.reshape(-1, order='F')\n",
    "\n",
    "rhs = D_coef * np.kron(D2, I0) @ r\n",
    "rhs+= D_coef * np.kron(I0, D2) @ r\n",
    "rhs-= np.kron(D1, I0) @ (f[0, :] * r)\n",
    "rhs-= np.kron(I0, D1) @ (f[1, :] * r)\n",
    "rhs = np.kron(J0, J0) @ rhs\n",
    "\n",
    "print('Norm of rho : %-8.2e'%(np.linalg.norm(r) / (x_max - x_min)**d))\n",
    "print('Norm of rhs : %-8.2e'%(np.linalg.norm(rhs) / (x_max - x_min)**d))"
   ]
  },
  {
   "cell_type": "code",
   "execution_count": 13,
   "metadata": {},
   "outputs": [],
   "source": [
    "from intertrain import Intertrain\n",
    "\n",
    "def calc_fpe_rhs(d, t, x_min, x_max, x_poi, func_f, func_r, Dc):\n",
    "    _n = [x_poi]*d\n",
    "    _l = []\n",
    "    for _ in range(d): _l.append([x_min, x_max])\n",
    "    IT = Intertrain(n=_n, l=_l, with_tt=False)\n",
    "    \n",
    "    I0 = np.eye(x_poi)\n",
    "    J0 = np.eye(x_poi); J0[0, 0] = 0.; J0[-1, -1] = 0.\n",
    "    D1 = IT.dif1()\n",
    "    D2 = IT.dif2()\n",
    "    \n",
    "    x = IT.grid()\n",
    "    f = func_f(x, t)\n",
    "    r = func_r(x)\n",
    "    #r = IT.init(func_r).Y.reshape(-1, order='F')\n",
    "    \n",
    "    rhs = Dc * np.kron(D2, I0) @ r\n",
    "    rhs+= Dc * np.kron(I0, D2) @ r\n",
    "    rhs-= np.kron(D1, I0) @ (f[1, :] * r)\n",
    "    rhs-= np.kron(I0, D1) @ (f[0, :] * r)\n",
    "    rhs = np.kron(J0, J0) @ rhs\n",
    "    \n",
    "    return rhs.reshape(-1), x"
   ]
  },
  {
   "cell_type": "code",
   "execution_count": 14,
   "metadata": {},
   "outputs": [
    {
     "name": "stdout",
     "output_type": "stream",
     "text": [
      "Res. norm2 : 4.90e+00\n",
      "Rel. error : 9.56e-01\n"
     ]
    }
   ],
   "source": [
    "def func_f(x, t):\n",
    "    return np.vstack([x[1, :], x[0, :]])\n",
    "\n",
    "def func_r(x):\n",
    "    return x[0, :]**2 * x[1, :]**2\n",
    "\n",
    "def func_rhs(x):\n",
    "    rhs = Dc * 2. * x[1, :]**2\n",
    "    rhs+= Dc * 2. * x[0, :]**2\n",
    "    rhs-= 2. * x[0, :] * x[1, :]**3\n",
    "    rhs-= 2. * x[1, :] * x[0, :]**3\n",
    "    return rhs\n",
    "\n",
    "Dc = 1.\n",
    "\n",
    "rhs_calc, x = calc_fpe_rhs(2, 10., -1., 1., 5, func_f, func_r, Dc)\n",
    "rhs_real = func_rhs(x)\n",
    "err = np.linalg.norm(rhs_calc - rhs_real) / np.linalg.norm(rhs_real)\n",
    "\n",
    "print('Res. norm2 : %-8.2e'%np.linalg.norm(rhs_calc))\n",
    "print('Rel. error : %-8.2e'%err)"
   ]
  },
  {
   "cell_type": "code",
   "execution_count": 32,
   "metadata": {},
   "outputs": [
    {
     "data": {
      "text/plain": [
       "array([-2.00000000e+00, -5.10702591e-15,  2.00000000e+00,  4.44089210e-16,\n",
       "       -2.00000000e+00, -5.10702591e-15,  5.00000000e-01,  1.00000000e+00,\n",
       "        5.00000000e-01, -5.55111512e-15,  2.00000000e+00,  1.00000000e+00,\n",
       "        1.49975978e-32,  1.00000000e+00,  2.00000000e+00,  4.44089210e-16,\n",
       "        5.00000000e-01,  1.00000000e+00,  5.00000000e-01, -1.99840144e-15,\n",
       "       -2.00000000e+00, -5.55111512e-15,  2.00000000e+00, -1.99840144e-15,\n",
       "       -2.00000000e+00])"
      ]
     },
     "execution_count": 32,
     "metadata": {},
     "output_type": "execute_result"
    }
   ],
   "source": [
    "rhs_calc"
   ]
  },
  {
   "cell_type": "code",
   "execution_count": 33,
   "metadata": {},
   "outputs": [
    {
     "data": {
      "text/plain": [
       "array([0.00000000e+00, 8.78679656e-01, 2.00000000e+00, 5.12132034e+00,\n",
       "       8.00000000e+00, 8.78679656e-01, 1.00000000e+00, 1.00000000e+00,\n",
       "       3.00000000e+00, 5.12132034e+00, 2.00000000e+00, 1.00000000e+00,\n",
       "       1.49975978e-32, 1.00000000e+00, 2.00000000e+00, 5.12132034e+00,\n",
       "       3.00000000e+00, 1.00000000e+00, 1.00000000e+00, 8.78679656e-01,\n",
       "       8.00000000e+00, 5.12132034e+00, 2.00000000e+00, 8.78679656e-01,\n",
       "       0.00000000e+00])"
      ]
     },
     "execution_count": 33,
     "metadata": {},
     "output_type": "execute_result"
    }
   ],
   "source": [
    "rhs_real"
   ]
  },
  {
   "cell_type": "code",
   "execution_count": null,
   "metadata": {},
   "outputs": [],
   "source": [
    "\n",
    "\n",
    "t_min, t_max, t_poi = +0., +5., 100\n",
    "x_min, x_max, x_poi = -3., +3., 7\n",
    "\n",
    "IT = Intertrain(n=[x_poi]*d, l=[[-3., 3.], [-3., 3.]], with_tt=False)\n",
    "\n",
    "I0 = np.eye(x_poi)\n",
    "J0 = np.eye(x_poi); J0[0, 0] = 0.; J0[-1, -1] = 0.\n",
    "D1 = IT.dif1()\n",
    "D2 = IT.dif2()\n",
    "\n",
    "t = 1000.\n",
    "x = IT.grid()\n",
    "f = func_f0(x, t)\n",
    "r = IT.init(func_rs).Y.reshape(-1, order='F')\n",
    "\n",
    "rhs = D_coef * np.kron(D2, I0) @ r\n",
    "rhs+= D_coef * np.kron(I0, D2) @ r\n",
    "rhs-= np.kron(D1, I0) @ (f[0, :] * r)\n",
    "rhs-= np.kron(I0, D1) @ (f[1, :] * r)\n",
    "rhs = np.kron(J0, J0) @ rhs\n",
    "\n",
    "print('Norm of rho : %-8.2e'%(np.linalg.norm(r) / (x_max - x_min)**d))\n",
    "print('Norm of rhs : %-8.2e'%(np.linalg.norm(rhs) / (x_max - x_min)**d))"
   ]
  },
  {
   "cell_type": "code",
   "execution_count": null,
   "metadata": {},
   "outputs": [],
   "source": []
  },
  {
   "cell_type": "code",
   "execution_count": null,
   "metadata": {},
   "outputs": [],
   "source": []
  },
  {
   "cell_type": "markdown",
   "metadata": {},
   "source": [
    "<div class=\"head1\">\n",
    "    <div class=\"head1__name\">\n",
    "        TMP\n",
    "    </div>\n",
    "</div>"
   ]
  },
  {
   "cell_type": "code",
   "execution_count": null,
   "metadata": {},
   "outputs": [],
   "source": [
    "r_calc = SL.IT.Y.reshape(-1, order='F')\n",
    "r_real = func_rs(SL.IT.grid())"
   ]
  },
  {
   "cell_type": "markdown",
   "metadata": {},
   "source": [
    "<div class=\"end\"></div>"
   ]
  }
 ],
 "metadata": {
  "kernelspec": {
   "display_name": "Python 3",
   "language": "python",
   "name": "python3"
  },
  "language_info": {
   "codemirror_mode": {
    "name": "ipython",
    "version": 3
   },
   "file_extension": ".py",
   "mimetype": "text/x-python",
   "name": "python",
   "nbconvert_exporter": "python",
   "pygments_lexer": "ipython3",
   "version": "3.7.1"
  }
 },
 "nbformat": 4,
 "nbformat_minor": 2
}
