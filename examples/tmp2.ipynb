{
 "cells": [
  {
   "cell_type": "code",
   "execution_count": 1,
   "metadata": {},
   "outputs": [
    {
     "data": {
      "text/html": [
       "<style>div {\n",
       "  margin: 0;\n",
       "  padding: 0;\n",
       "}\n",
       "\n",
       ".head0 {\n",
       "  padding: 10px;\n",
       "  display: flex;\n",
       "  background-color: #dedee2;\n",
       "}\n",
       ".head0__name {\n",
       "  padding-right: 5px;\n",
       "  flex: 1 1 50%;\n",
       "  align-self: center;\n",
       "  font-size: 36px;\n",
       "  font-weight: bold;\n",
       "  color: #6b7e51;\n",
       "}\n",
       ".head0__note {\n",
       "  padding-left: 10px;\n",
       "  flex: 1 1 50%;\n",
       "  align-self: flex-end;\n",
       "  font-size: 16px;\n",
       "  font-style: italic;\n",
       "  color: #485536;\n",
       "  border-left: 5px solid #8b1d1d;\n",
       "}\n",
       "\n",
       ".head1 {\n",
       "  margin-top: 30px;\n",
       "  padding: 10px;\n",
       "  border-top: 5px solid #8b1d1d;\n",
       "}\n",
       ".head1__name {\n",
       "  font-size: 32px;\n",
       "  font-weight: bold;\n",
       "  color: #485536;\n",
       "}\n",
       ".head1__note {\n",
       "  padding-left: 20px;\n",
       "  font-size: 20px;\n",
       "  font-style: italic;\n",
       "  color: #485536;\n",
       "}\n",
       "\n",
       ".head2 {\n",
       "  margin-top: 7px;\n",
       "  padding: 5px 30px 5px;\n",
       "  border-left: 2px solid #42d56e;\n",
       "}\n",
       ".head2__name {\n",
       "  display: inline-block;\n",
       "  max-width: 70%;\n",
       "  padding: 2px 10px;\n",
       "  font-size: 22px;\n",
       "  font-weight: bold;\n",
       "  color: #145929;\n",
       "  border-bottom: 2px solid #42d56e;\n",
       "}\n",
       ".head2__note {\n",
       "  padding: 5px 10px 0px;\n",
       "  font-size: 14px;\n",
       "  font-style: italic;\n",
       "  color: #485536;\n",
       "}\n",
       "\n",
       ".head3 {\n",
       "  margin-top: 5px;\n",
       "  padding: 3px 40px 3px;\n",
       "  border-left: 2px dotted #485536;\n",
       "}\n",
       ".head3__name {\n",
       "  display: inline-block;\n",
       "  max-width: 70%;\n",
       "  padding: 2px 10px;\n",
       "  font-size: 20px;\n",
       "  font-weight: bold;\n",
       "  color: #145929;\n",
       "  border-bottom: 2px dotted #485536;\n",
       "}\n",
       ".head3__note {\n",
       "  padding: 2px 10px 0px;\n",
       "  font-size: 12px;\n",
       "  font-style: italic;\n",
       "  color: #485536;\n",
       "}\n",
       "\n",
       ".warn {\n",
       "  background-color: #fcf2f2;\n",
       "  border-color: #dfb5b4;\n",
       "  border-left: 5px solid #dfb5b4;\n",
       "  padding: 0.5em;\n",
       "}\n",
       ".note {\n",
       "  color: red;\n",
       "}\n",
       ".note::before {\n",
       "  content: 'Note. ';\n",
       "  font-weight: bold;\n",
       "  color: blue;\n",
       "}\n",
       "\n",
       ".end {\n",
       "  padding: 5px;\n",
       "  border-top: 5px solid #8b1d1d;\n",
       "  border-bottom: 5px solid #8b1d1d;\n",
       "}\n",
       "</style>"
      ],
      "text/plain": [
       "<IPython.core.display.HTML object>"
      ]
     },
     "execution_count": 1,
     "metadata": {},
     "output_type": "execute_result"
    }
   ],
   "source": [
    "import sys\n",
    "import time\n",
    "\n",
    "import numpy as np\n",
    "import scipy.sparse as sp\n",
    "from scipy.integrate import solve_ivp\n",
    "from scipy.linalg import expm as expm\n",
    "import matplotlib.pyplot as plt\n",
    "\n",
    "sys.path.append('./../lib')\n",
    "from intertrain import Intertrain\n",
    "from solver import Solver as Solver\n",
    "\n",
    "from IPython.core.display import HTML\n",
    "with open( './style.css', 'r' ) as f: st = f.read()\n",
    "HTML('<style>%s</style>' %st)"
   ]
  },
  {
   "cell_type": "code",
   "execution_count": 16,
   "metadata": {},
   "outputs": [
    {
     "data": {
      "image/png": "[encoded data removed]",
      "text/plain": [
       "<Figure size 432x288 with 1 Axes>"
      ]
     },
     "metadata": {
      "needs_background": "light"
     },
     "output_type": "display_data"
    }
   ],
   "source": [
    "x = np.arange(100)\n",
    "y = np.exp(-x*x/10)\n",
    "plt.plot(x, y)\n",
    "plt.semilogx()\n",
    "plt.semilogy()\n",
    "plt.show()"
   ]
  },
  {
   "cell_type": "markdown",
   "metadata": {},
   "source": [
    "$$\n",
    "    d x = f(x, t) \\, d t,\n",
    "    \\quad\n",
    "    x \\in R^{1},\n",
    "    \\quad\n",
    "    x_0 = [2],\n",
    "    \\quad\n",
    "    f(x, t) = x^2,\n",
    "$$\n",
    "analytic solution\n",
    "$$\n",
    "    x(t) = \\frac{x_0}{1 - x_0 t}.\n",
    "$$"
   ]
  },
  {
   "cell_type": "code",
   "execution_count": 2,
   "metadata": {},
   "outputs": [
    {
     "name": "stdout",
     "output_type": "stream",
     "text": [
      "2.6455192540951625e-07\n"
     ]
    }
   ],
   "source": [
    "def func_f0(x, t):\n",
    "    return x*x\n",
    "\n",
    "def func_xt(t, x0):\n",
    "    return x0 / (1. - x0 * t)\n",
    "\n",
    "d = 1\n",
    "t0 = 0.\n",
    "t = 0.1\n",
    "\n",
    "def func_x(t, v):\n",
    "    x = v.reshape(d, -1)\n",
    "    f0 = func_f0(x, t)\n",
    "    res = f0\n",
    "    return res\n",
    "\n",
    "X0 = np.array([-1., -2., -3.]).reshape(1, -1)\n",
    "\n",
    "X = np.zeros(X0.shape)\n",
    "for j in range(X0.shape[1]):\n",
    "    y1 = X0[:, j]\n",
    "    y2 = solve_ivp(func_x, [t0, t], y1).y[:, -1]\n",
    "    X[:, j] = y2\n",
    "\n",
    "X_calc = X\n",
    "\n",
    "X_real = np.zeros(X.shape)\n",
    "for j in range(X0.shape[1]):\n",
    "    X_real[:, j] = func_xt(t, X0[:, j])\n",
    "    \n",
    "e = np.mean(np.abs((X_real - X_calc) / X_real))\n",
    "print(e)"
   ]
  },
  {
   "cell_type": "code",
   "execution_count": 10,
   "metadata": {},
   "outputs": [
    {
     "ename": "ValueError",
     "evalue": "`y0` must be 1-dimensional.",
     "output_type": "error",
     "traceback": [
      "\u001b[0;31m---------------------------------------------------------------------------\u001b[0m",
      "\u001b[0;31mValueError\u001b[0m                                Traceback (most recent call last)",
      "\u001b[0;32m<ipython-input-10-610edd881005>\u001b[0m in \u001b[0;36m<module>\u001b[0;34m\u001b[0m\n\u001b[1;32m     25\u001b[0m ])\n\u001b[1;32m     26\u001b[0m \u001b[0;34m\u001b[0m\u001b[0m\n\u001b[0;32m---> 27\u001b[0;31m \u001b[0msolve_ivp\u001b[0m\u001b[0;34m(\u001b[0m\u001b[0mfunc\u001b[0m\u001b[0;34m,\u001b[0m \u001b[0;34m[\u001b[0m\u001b[0;36m0.\u001b[0m\u001b[0;34m,\u001b[0m \u001b[0mt\u001b[0m\u001b[0;34m]\u001b[0m\u001b[0;34m,\u001b[0m \u001b[0mX0\u001b[0m\u001b[0;34m)\u001b[0m\u001b[0;34m.\u001b[0m\u001b[0my\u001b[0m\u001b[0;34m[\u001b[0m\u001b[0;34m:\u001b[0m\u001b[0;34m,\u001b[0m \u001b[0;34m-\u001b[0m\u001b[0;36m1\u001b[0m\u001b[0;34m]\u001b[0m\u001b[0;34m\u001b[0m\u001b[0;34m\u001b[0m\u001b[0m\n\u001b[0m\u001b[1;32m     28\u001b[0m \u001b[0;34m\u001b[0m\u001b[0m\n\u001b[1;32m     29\u001b[0m \u001b[0mX\u001b[0m \u001b[0;34m=\u001b[0m \u001b[0mnp\u001b[0m\u001b[0;34m.\u001b[0m\u001b[0mzeros\u001b[0m\u001b[0;34m(\u001b[0m\u001b[0mX0\u001b[0m\u001b[0;34m.\u001b[0m\u001b[0mshape\u001b[0m\u001b[0;34m)\u001b[0m\u001b[0;34m\u001b[0m\u001b[0;34m\u001b[0m\u001b[0m\n",
      "\u001b[0;32m/anaconda3/lib/python3.7/site-packages/scipy/integrate/_ivp/ivp.py\u001b[0m in \u001b[0;36msolve_ivp\u001b[0;34m(fun, t_span, y0, method, t_eval, dense_output, events, vectorized, **options)\u001b[0m\n\u001b[1;32m    452\u001b[0m         \u001b[0mmethod\u001b[0m \u001b[0;34m=\u001b[0m \u001b[0mMETHODS\u001b[0m\u001b[0;34m[\u001b[0m\u001b[0mmethod\u001b[0m\u001b[0;34m]\u001b[0m\u001b[0;34m\u001b[0m\u001b[0;34m\u001b[0m\u001b[0m\n\u001b[1;32m    453\u001b[0m \u001b[0;34m\u001b[0m\u001b[0m\n\u001b[0;32m--> 454\u001b[0;31m     \u001b[0msolver\u001b[0m \u001b[0;34m=\u001b[0m \u001b[0mmethod\u001b[0m\u001b[0;34m(\u001b[0m\u001b[0mfun\u001b[0m\u001b[0;34m,\u001b[0m \u001b[0mt0\u001b[0m\u001b[0;34m,\u001b[0m \u001b[0my0\u001b[0m\u001b[0;34m,\u001b[0m \u001b[0mtf\u001b[0m\u001b[0;34m,\u001b[0m \u001b[0mvectorized\u001b[0m\u001b[0;34m=\u001b[0m\u001b[0mvectorized\u001b[0m\u001b[0;34m,\u001b[0m \u001b[0;34m**\u001b[0m\u001b[0moptions\u001b[0m\u001b[0;34m)\u001b[0m\u001b[0;34m\u001b[0m\u001b[0;34m\u001b[0m\u001b[0m\n\u001b[0m\u001b[1;32m    455\u001b[0m \u001b[0;34m\u001b[0m\u001b[0m\n\u001b[1;32m    456\u001b[0m     \u001b[0;32mif\u001b[0m \u001b[0mt_eval\u001b[0m \u001b[0;32mis\u001b[0m \u001b[0;32mNone\u001b[0m\u001b[0;34m:\u001b[0m\u001b[0;34m\u001b[0m\u001b[0;34m\u001b[0m\u001b[0m\n",
      "\u001b[0;32m/anaconda3/lib/python3.7/site-packages/scipy/integrate/_ivp/rk.py\u001b[0m in \u001b[0;36m__init__\u001b[0;34m(self, fun, t0, y0, t_bound, max_step, rtol, atol, vectorized, **extraneous)\u001b[0m\n\u001b[1;32m     93\u001b[0m         \u001b[0mwarn_extraneous\u001b[0m\u001b[0;34m(\u001b[0m\u001b[0mextraneous\u001b[0m\u001b[0;34m)\u001b[0m\u001b[0;34m\u001b[0m\u001b[0;34m\u001b[0m\u001b[0m\n\u001b[1;32m     94\u001b[0m         super(RungeKutta, self).__init__(fun, t0, y0, t_bound, vectorized,\n\u001b[0;32m---> 95\u001b[0;31m                                          support_complex=True)\n\u001b[0m\u001b[1;32m     96\u001b[0m         \u001b[0mself\u001b[0m\u001b[0;34m.\u001b[0m\u001b[0my_old\u001b[0m \u001b[0;34m=\u001b[0m \u001b[0;32mNone\u001b[0m\u001b[0;34m\u001b[0m\u001b[0;34m\u001b[0m\u001b[0m\n\u001b[1;32m     97\u001b[0m         \u001b[0mself\u001b[0m\u001b[0;34m.\u001b[0m\u001b[0mmax_step\u001b[0m \u001b[0;34m=\u001b[0m \u001b[0mvalidate_max_step\u001b[0m\u001b[0;34m(\u001b[0m\u001b[0mmax_step\u001b[0m\u001b[0;34m)\u001b[0m\u001b[0;34m\u001b[0m\u001b[0;34m\u001b[0m\u001b[0m\n",
      "\u001b[0;32m/anaconda3/lib/python3.7/site-packages/scipy/integrate/_ivp/base.py\u001b[0m in \u001b[0;36m__init__\u001b[0;34m(self, fun, t0, y0, t_bound, vectorized, support_complex)\u001b[0m\n\u001b[1;32m    118\u001b[0m         \u001b[0mself\u001b[0m\u001b[0;34m.\u001b[0m\u001b[0mt_old\u001b[0m \u001b[0;34m=\u001b[0m \u001b[0;32mNone\u001b[0m\u001b[0;34m\u001b[0m\u001b[0;34m\u001b[0m\u001b[0m\n\u001b[1;32m    119\u001b[0m         \u001b[0mself\u001b[0m\u001b[0;34m.\u001b[0m\u001b[0mt\u001b[0m \u001b[0;34m=\u001b[0m \u001b[0mt0\u001b[0m\u001b[0;34m\u001b[0m\u001b[0;34m\u001b[0m\u001b[0m\n\u001b[0;32m--> 120\u001b[0;31m         \u001b[0mself\u001b[0m\u001b[0;34m.\u001b[0m\u001b[0m_fun\u001b[0m\u001b[0;34m,\u001b[0m \u001b[0mself\u001b[0m\u001b[0;34m.\u001b[0m\u001b[0my\u001b[0m \u001b[0;34m=\u001b[0m \u001b[0mcheck_arguments\u001b[0m\u001b[0;34m(\u001b[0m\u001b[0mfun\u001b[0m\u001b[0;34m,\u001b[0m \u001b[0my0\u001b[0m\u001b[0;34m,\u001b[0m \u001b[0msupport_complex\u001b[0m\u001b[0;34m)\u001b[0m\u001b[0;34m\u001b[0m\u001b[0;34m\u001b[0m\u001b[0m\n\u001b[0m\u001b[1;32m    121\u001b[0m         \u001b[0mself\u001b[0m\u001b[0;34m.\u001b[0m\u001b[0mt_bound\u001b[0m \u001b[0;34m=\u001b[0m \u001b[0mt_bound\u001b[0m\u001b[0;34m\u001b[0m\u001b[0;34m\u001b[0m\u001b[0m\n\u001b[1;32m    122\u001b[0m         \u001b[0mself\u001b[0m\u001b[0;34m.\u001b[0m\u001b[0mvectorized\u001b[0m \u001b[0;34m=\u001b[0m \u001b[0mvectorized\u001b[0m\u001b[0;34m\u001b[0m\u001b[0;34m\u001b[0m\u001b[0m\n",
      "\u001b[0;32m/anaconda3/lib/python3.7/site-packages/scipy/integrate/_ivp/base.py\u001b[0m in \u001b[0;36mcheck_arguments\u001b[0;34m(fun, y0, support_complex)\u001b[0m\n\u001b[1;32m     16\u001b[0m \u001b[0;34m\u001b[0m\u001b[0m\n\u001b[1;32m     17\u001b[0m     \u001b[0;32mif\u001b[0m \u001b[0my0\u001b[0m\u001b[0;34m.\u001b[0m\u001b[0mndim\u001b[0m \u001b[0;34m!=\u001b[0m \u001b[0;36m1\u001b[0m\u001b[0;34m:\u001b[0m\u001b[0;34m\u001b[0m\u001b[0;34m\u001b[0m\u001b[0m\n\u001b[0;32m---> 18\u001b[0;31m         \u001b[0;32mraise\u001b[0m \u001b[0mValueError\u001b[0m\u001b[0;34m(\u001b[0m\u001b[0;34m\"`y0` must be 1-dimensional.\"\u001b[0m\u001b[0;34m)\u001b[0m\u001b[0;34m\u001b[0m\u001b[0;34m\u001b[0m\u001b[0m\n\u001b[0m\u001b[1;32m     19\u001b[0m \u001b[0;34m\u001b[0m\u001b[0m\n\u001b[1;32m     20\u001b[0m     \u001b[0;32mdef\u001b[0m \u001b[0mfun_wrapped\u001b[0m\u001b[0;34m(\u001b[0m\u001b[0mt\u001b[0m\u001b[0;34m,\u001b[0m \u001b[0my\u001b[0m\u001b[0;34m)\u001b[0m\u001b[0;34m:\u001b[0m\u001b[0;34m\u001b[0m\u001b[0;34m\u001b[0m\u001b[0m\n",
      "\u001b[0;31mValueError\u001b[0m: `y0` must be 1-dimensional."
     ]
    }
   ],
   "source": [
    "def func_f0(x, t):\n",
    "    e = np.ones(x.shape[1])\n",
    "    v_1 = np.cos(t) * e\n",
    "    v_2 = -np.sin(2. * t) * e\n",
    "    return np.vstack([v_1, v_2])\n",
    "\n",
    "def func_xt(t, x0):\n",
    "    e = np.ones(x0.shape[1])\n",
    "    v_1 = x0[0, :] + np.sin(t) * e \n",
    "    v_2 = x0[1, :] + np.cos(t)**2 * e - 1.\n",
    "    return np.vstack([v_1, v_2])\n",
    "\n",
    "def func(t, v):\n",
    "    x = v.reshape(d, -1)\n",
    "    f0 = func_f0(x, t)\n",
    "    res = f0[:, 0]\n",
    "    return res\n",
    "\n",
    "d = 2\n",
    "t = 1.\n",
    "\n",
    "X0 = np.array([\n",
    "    np.arange(10) * 1.4,\n",
    "    np.arange(10) * 2.4,\n",
    "])\n",
    "\n",
    "X = np.zeros(X0.shape)\n",
    "for j in range(X0.shape[1]):\n",
    "    y1 = X0[:, j]\n",
    "    y2 = solve_ivp(func, [0., t], y1).y[:, -1]\n",
    "    X[:, j] = y2\n",
    "\n",
    "X_calc = X\n",
    "X_real = func_xt(t, X0)\n",
    "e = np.mean(np.abs((X_real - X_calc) / X_real))\n",
    "print(e)  "
   ]
  },
  {
   "cell_type": "code",
   "execution_count": null,
   "metadata": {},
   "outputs": [],
   "source": [
    "from scipy.optimize import curve_fit\n",
    "\n",
    "x = np.array([399.75, 989.25, 1578.75, 2168.25, 2757.75, 3347.25, 3936.75, 4526.25, 5115.75, 5705.25])\n",
    "y = np.array([109,62,39,13,10,4,2,0,1,2])\n",
    "\n",
    "def func(x, a, b, c, d):\n",
    "    return a*np.exp(-c*(x-b))+d\n",
    "\n",
    "popt, pcov = curve_fit(func, x, y, [100, 400, 0.001, 0])\n",
    "print (popt)\n",
    "\n",
    "plt.plot(x,y)\n",
    "x = np.linspace(400,6000,10000)\n",
    "plt.plot(x,func(x, *popt))\n",
    "plt.show()"
   ]
  },
  {
   "cell_type": "code",
   "execution_count": null,
   "metadata": {},
   "outputs": [],
   "source": []
  },
  {
   "cell_type": "code",
   "execution_count": null,
   "metadata": {},
   "outputs": [],
   "source": []
  }
 ],
 "metadata": {
  "kernelspec": {
   "display_name": "Python 3",
   "language": "python",
   "name": "python3"
  },
  "language_info": {
   "codemirror_mode": {
    "name": "ipython",
    "version": 3
   },
   "file_extension": ".py",
   "mimetype": "text/x-python",
   "name": "python",
   "nbconvert_exporter": "python",
   "pygments_lexer": "ipython3",
   "version": "3.7.1"
  }
 },
 "nbformat": 4,
 "nbformat_minor": 2
}
