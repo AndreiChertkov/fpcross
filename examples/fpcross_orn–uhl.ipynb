{
 "cells": [
  {
   "cell_type": "markdown",
   "metadata": {},
   "source": [
    "---\n",
    "---\n",
    "\n",
    "### Solution of 1D Ornstein–Uhlenbeck process\n",
    "\n",
    "Ornstein–Uhlenbeck process\n",
    "$$\n",
    "    \\frac{d \\, x}{d \\, t} = - \\lambda x(t) + w(t),\n",
    "    \\quad\n",
    "    x(0) = x_0,\n",
    "    \\quad\n",
    "    \\lambda > 0,\n",
    "$$\n",
    "or\n",
    "$$\n",
    "    d \\, x = - \\lambda x(t) d \\, t + d \\, \\beta(t),\n",
    "    \\quad\n",
    "    x(0) = x_0,\n",
    "    \\quad\n",
    "    \\lambda > 0,\n",
    "$$\n",
    "\n",
    "Its solution is\n",
    "$$\n",
    "    x(t) = e^{-\\lambda t} x(0) + \\int_0^t e^{-\\lambda (t - \\tau)} d \\, \\beta(\\tau),\n",
    "$$\n",
    "and covariance matrix is\n",
    "$$\n",
    "    C(t) = \\frac{q}{2\\lambda} e^{-\\lambda |t|},\n",
    "$$\n",
    "where $q$ is spectral density of the one dimensional white noise process $w(t)$.\n",
    "\n",
    "The probability density function (PDF) $\\rho(x, t)$ satisfies the Fokker–Planck equation\n",
    "$$\n",
    "   \\frac{\\partial \\, \\rho}{\\partial \\, t} =\n",
    "       \\lambda \\frac{\\partial}{\\partial \\, x} (x \\rho) +\n",
    "       \\frac{1}{2} \\frac{\\partial^2 \\, \\rho}{\\partial \\, x^2},\n",
    "$$\n",
    "with transition probability\n",
    "$$\n",
    "    \\rho(x, t) = \n",
    "        \\sqrt{\n",
    "            \\frac{\\lambda}{\\pi \\left( 1 - e^{-2 \\lambda t} \\right)}\n",
    "        }\n",
    "        e^{\\frac\n",
    "            {-\\lambda \\left( x - x_0 e^{-\\lambda t} \\right)^2}\n",
    "            {1 - e^{-2 \\lambda t}}\n",
    "        }.\n",
    "$$"
   ]
  },
  {
   "cell_type": "markdown",
   "metadata": {},
   "source": [
    "**Задача:** найти PDF $\\rho$ в момент времени $t$ на Чебышевской сетке из уравнений\n",
    "$$\n",
    "    dx = f(x, t) \\, dt + d\\beta,\n",
    "    \\quad\n",
    "    \\frac{\\partial \\rho}{\\partial t} = \\Delta \\rho - div \\left[ f(x, t) \\rho \\right],\n",
    "    \\quad\n",
    "    \\rho(x, 0) = \\rho_0(x).\n",
    "$$\n",
    "\n",
    "**Нужно** передать в крест функцию (step), которая вычисляет значения $\\rho_{k+1}$ в заданном (произвольном) наборе точек $x$ Чебышевской сетки. Это позволит проинтерполировать $\\rho$ на $(k+1)$-ом шаге и перейти к следующему шагу. При этом предполагается, что интерполянт для $k$-ого шага уже известен.\n",
    "\n",
    "> На нулевом шаге имеем $\\rho_0(x)$, заданную как функцию от $x$ и можем построить интерполянт очевидным образом.\n",
    "\n",
    "> Если не используем крест (работаем в полном numpy формате), то $x$ - это полный набор точек Чебышевской сетки (алгоритм при этом остается прежним).\n",
    "\n",
    "Работа функции step(x)\n",
    "\n",
    "**1** Найти прообразы $\\widehat{x}$ $k$-ого шага для заданного набора точек $x$ Чебышевской сетки, которые приводили бы траекторию детерминированного уравнения ($\\beta = 0$) в точки $x$ на $(k+1)$-ом шаге, интегрируя назад уравнение\n",
    "$$\n",
    "    \\frac{\\partial \\, x}{\\partial \\, t} = f(x, t),\n",
    "    \\quad\n",
    "    x_{k+1} = x,\n",
    "    \\quad\n",
    "    x_{k} = \\widehat{x} = ?.\n",
    "$$\n",
    "\n",
    "**2** Используя известный интерполянт на $k$-ом шаге, вычислить значения PDF $\\widehat{\\rho}$ в точках $\\widehat{x}$\n",
    "\n",
    "**3** Решить PDE с однородными граничными условиями Дирихле для $k+1$-ого шага, используя дифференциальную матрицу Чебышева\n",
    "$$\n",
    "    \\frac{\\partial v}{\\partial t} = \\Delta v,\n",
    "    \\quad\n",
    "    v_{k} = \\widehat{\\rho},\n",
    "    \\quad\n",
    "    v_{k+1} = v = ?.\n",
    "$$\n",
    "\n",
    "**4** Решить ODE для $k+1$-ого шага\n",
    "$$\n",
    "    \\frac{\\partial \\, \\log{w}}{\\partial \\, t} = -tr \\left[ f_x(x, t) \\right],\n",
    "    \\quad\n",
    "    w_{k} = v,\n",
    "    \\quad\n",
    "    w_{k+1} = w = ?.\n",
    "$$\n",
    "\n",
    "**5** Вернуть значение $w$ как приближение $\\rho(x)$ в заданном (произвольном) наборе точек $x$ Чебышевской сетки на $(k+1)$-ом шаге."
   ]
  },
  {
   "cell_type": "code",
   "execution_count": 1,
   "metadata": {},
   "outputs": [],
   "source": [
    "import sys\n",
    "import time\n",
    "\n",
    "import numpy as np\n",
    "from numpy import kron as kron\n",
    "\n",
    "import scipy.sparse as sp\n",
    "from scipy.linalg import expm as expm\n",
    "from scipy.interpolate import RectBivariateSpline\n",
    "\n",
    "import matplotlib as mpl\n",
    "import matplotlib.pyplot as plt\n",
    "from matplotlib import animation, rc\n",
    "\n",
    "from IPython.display import HTML\n",
    "\n",
    "sys.path.append('./../lib')\n",
    "from intertrain import Intertrain"
   ]
  },
  {
   "cell_type": "code",
   "execution_count": 2,
   "metadata": {},
   "outputs": [],
   "source": [
    "# SDE parameters : f = A x, df / dx = A (dimension = 1)\n",
    "\n",
    "A = -1.\n",
    "\n",
    "def func_f(x):\n",
    "    return A*x\n",
    "\n",
    "def func_f_der(x):\n",
    "    if not isinstance(x, np.ndarray):\n",
    "        return A\n",
    "    return A*np.ones(x.shape)\n",
    "\n",
    "def func_r0(x):\n",
    "    s = 1.\n",
    "    m = 0.\n",
    "    r = 1./np.sqrt(2.*np.pi * s**2)\n",
    "    r*= np.exp(-1. * (x-m)**2 / 2. / s**2)\n",
    "    return r.reshape(-1)\n",
    "    # return np.exp(-0.5 * np.diag(x.T@x))\n",
    "\n",
    "def func_r_trans(x, t, x0):\n",
    "    l = -1. * A\n",
    "    e = np.exp(-1. * l * t)\n",
    "    r = np.sqrt(l / np.pi /  (1. - e*e))\n",
    "    r*= np.exp(-1. * l * (x - x0 * e)**2 / (1. - e*e))\n",
    "    return r"
   ]
  },
  {
   "cell_type": "code",
   "execution_count": 3,
   "metadata": {},
   "outputs": [],
   "source": [
    "# Time grid\n",
    "\n",
    "t_min = 0.\n",
    "t_max = 1.\n",
    "t_poi = 10 # including t_min and t_max (>= 2)\n",
    "\n",
    "m = t_poi\n",
    "h = (t_max - t_min) / (t_poi - 1)\n",
    "\n",
    "T = np.linspace(t_min, t_max, t_poi)"
   ]
  },
  {
   "cell_type": "code",
   "execution_count": 4,
   "metadata": {},
   "outputs": [],
   "source": [
    "# Spatial grid\n",
    "\n",
    "n = 40\n",
    "l = [-3., 3.]"
   ]
  },
  {
   "cell_type": "code",
   "execution_count": 5,
   "metadata": {},
   "outputs": [],
   "source": [
    "# Special matrices\n",
    "\n",
    "I = np.eye(n)\n",
    "D = IT.dif1()\n",
    "# D = D[1:-1, 1:-1] # for BC\n",
    "Z = expm(D)\n",
    "Z = np.exp(h) * Z # kron(Z, Z)"
   ]
  },
  {
   "cell_type": "code",
   "execution_count": 45,
   "metadata": {},
   "outputs": [],
   "source": [
    "def solve_ode_x(func, x0, h):\n",
    "    f = func(x0)\n",
    "    x = x0 + h * f\n",
    "    return x\n",
    "\n",
    "def solve_ode_r(func, x0, r0, h):\n",
    "    f = -1. * np.trace(func(x0))\n",
    "    \n",
    "    #r = (1. - h * np.trace(f)) * r0\n",
    "    r = (1. - h * f) * r0\n",
    "    return r\n",
    "    \n",
    "    r_log = np.log(r0) + h * f\n",
    "    r = np.exp(r_log)\n",
    "    return r\n",
    "\n",
    "def solve_pde_r(r0):\n",
    "    return Z@r0\n",
    "\n",
    "def step(x):\n",
    "    x0 = solve_ode_x(func_f, x, -1. * h)\n",
    "    r0 = IT0.calc(x0)\n",
    "    u = solve_pde_r(r0)\n",
    "    w = solve_ode_r(func_f_der, x, u, h)\n",
    "    r = w\n",
    "    return r"
   ]
  },
  {
   "cell_type": "code",
   "execution_count": 46,
   "metadata": {},
   "outputs": [
    {
     "name": "stdout",
     "output_type": "stream",
     "text": [
      "[[ 3.          2.99027192  2.96115079  2.91282545  2.84560933  2.75993833\n",
      "   2.65636808  2.53557026  2.39832829  2.24553224  2.07817306  1.89733613\n",
      "   1.70419424  1.5         1.28607768  1.06381466  0.83465239  0.60007708\n",
      "   0.36161004  0.12079782 -0.12079782 -0.36161004 -0.60007708 -0.83465239\n",
      "  -1.06381466 -1.28607768 -1.5        -1.70419424 -1.89733613 -2.07817306\n",
      "  -2.24553224 -2.39832829 -2.53557026 -2.65636808 -2.75993833 -2.84560933\n",
      "  -2.91282545 -2.96115079 -2.99027192 -3.        ]]\n",
      "[[-3.         -2.99027192 -2.96115079 -2.91282545 -2.84560933 -2.75993833\n",
      "  -2.65636808 -2.53557026 -2.39832829 -2.24553224 -2.07817306 -1.89733613\n",
      "  -1.70419424 -1.5        -1.28607768 -1.06381466 -0.83465239 -0.60007708\n",
      "  -0.36161004 -0.12079782  0.12079782  0.36161004  0.60007708  0.83465239\n",
      "   1.06381466  1.28607768  1.5         1.70419424  1.89733613  2.07817306\n",
      "   2.24553224  2.39832829  2.53557026  2.65636808  2.75993833  2.84560933\n",
      "   2.91282545  2.96115079  2.99027192  3.        ]]\n",
      "OK\n"
     ]
    }
   ],
   "source": [
    "IT = Intertrain(n=[n], l=[l], with_tt=False)\n",
    "IT.init(func_r0).prep()\n",
    "\n",
    "for i in range(1):\n",
    "    IT0 = IT.copy()\n",
    "    IT.init(step).prep()\n",
    "print('OK')"
   ]
  },
  {
   "cell_type": "code",
   "execution_count": 48,
   "metadata": {},
   "outputs": [
    {
     "data": {
      "image/png": "[encoded data removed]",
      "text/plain": [
       "<Figure size 432x432 with 1 Axes>"
      ]
     },
     "metadata": {
      "needs_background": "light"
     },
     "output_type": "display_data"
    }
   ],
   "source": [
    "# Plot distribution (initial and final) on the spatial grid\n",
    "\n",
    "fig = plt.figure(figsize=(6, 6))\n",
    "gs = mpl.gridspec.GridSpec(\n",
    "    ncols=1, nrows=1, left=0.01, right=0.99, top=0.99, bottom=0.01,\n",
    "    wspace=0.4, hspace=0.3, width_ratios=[1], height_ratios=[1]\n",
    ")\n",
    "\n",
    "x0 = X.reshape(-1)\n",
    "#r1 = R_list[0].reshape(-1)\n",
    "r2 = IT.calc(X).reshape(-1)\n",
    "ax = fig.add_subplot(gs[0, 0])\n",
    "#ax.plot(X.reshape(-1), r1, label='t = %-8.2e'%t_min)\n",
    "ax.plot(X.reshape(-1), r2, label='t = %-8.2e'%t_max)\n",
    "ax.set_title('Probability density function')\n",
    "ax.set_xlabel('x')\n",
    "ax.set_ylabel('r')\n",
    "ax.legend(loc='best')\n",
    "\n",
    "plt.show()"
   ]
  },
  {
   "cell_type": "code",
   "execution_count": null,
   "metadata": {},
   "outputs": [],
   "source": []
  }
 ],
 "metadata": {
  "kernelspec": {
   "display_name": "Python 3",
   "language": "python",
   "name": "python3"
  },
  "language_info": {
   "codemirror_mode": {
    "name": "ipython",
    "version": 3
   },
   "file_extension": ".py",
   "mimetype": "text/x-python",
   "name": "python",
   "nbconvert_exporter": "python",
   "pygments_lexer": "ipython3",
   "version": "3.7.1"
  }
 },
 "nbformat": 4,
 "nbformat_minor": 2
}
