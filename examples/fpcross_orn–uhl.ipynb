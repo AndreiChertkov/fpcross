{
 "cells": [
  {
   "cell_type": "markdown",
   "metadata": {},
   "source": [
    "---\n",
    "---\n",
    "\n",
    "### Solution of 1D Ornstein–Uhlenbeck process\n",
    "\n",
    "Ornstein–Uhlenbeck process\n",
    "$$\n",
    "    \\frac{d \\, x}{d \\, t} = - \\lambda x(t) + w(t),\n",
    "    \\quad\n",
    "    x(0) = x_0,\n",
    "    \\quad\n",
    "    \\lambda > 0,\n",
    "$$\n",
    "or\n",
    "$$\n",
    "    d \\, x = - \\lambda x(t) d \\, t + d \\, \\beta(t),\n",
    "    \\quad\n",
    "    x(0) = x_0,\n",
    "    \\quad\n",
    "    \\lambda > 0,\n",
    "$$\n",
    "\n",
    "Its solution is\n",
    "$$\n",
    "    x(t) = e^{-\\lambda t} x(0) + \\int_0^t e^{-\\lambda (t - \\tau)} d \\, \\beta(\\tau),\n",
    "$$\n",
    "and covariance matrix is\n",
    "$$\n",
    "    C(t) = \\frac{q}{2\\lambda} e^{-\\lambda |t|},\n",
    "$$\n",
    "where $q$ is spectral density of the one dimensional white noise process $w(t)$.\n",
    "\n",
    "The probability density function (PDF) $\\rho(x, t)$ satisfies the Fokker–Planck equation\n",
    "$$\n",
    "   \\frac{\\partial \\, \\rho}{\\partial \\, t} =\n",
    "       \\lambda \\frac{\\partial}{\\partial \\, x} (x \\rho) +\n",
    "       \\frac{1}{2} \\frac{\\partial^2 \\, \\rho}{\\partial \\, x^2},\n",
    "$$\n",
    "with transition probability\n",
    "$$\n",
    "    \\rho(x, t) = \n",
    "        \\sqrt{\n",
    "            \\frac{\\lambda}{\\pi \\left( 1 - e^{-2 \\lambda t} \\right)}\n",
    "        }\n",
    "        e^{\\frac\n",
    "            {-\\lambda \\left( x - x_0 e^{-\\lambda t} \\right)^2}\n",
    "            {1 - e^{-2 \\lambda t}}\n",
    "        }.\n",
    "$$"
   ]
  },
  {
   "cell_type": "code",
   "execution_count": 1,
   "metadata": {},
   "outputs": [],
   "source": [
    "import sys\n",
    "import time\n",
    "\n",
    "import numpy as np\n",
    "from numpy import kron as kron\n",
    "\n",
    "import scipy.sparse as sp\n",
    "from scipy.linalg import expm as expm\n",
    "from scipy.interpolate import RectBivariateSpline\n",
    "\n",
    "import matplotlib as mpl\n",
    "import matplotlib.pyplot as plt\n",
    "from matplotlib import animation, rc\n",
    "\n",
    "from IPython.display import HTML\n",
    "\n",
    "sys.path.append('./../lib')\n",
    "from intertrain import Intertrain"
   ]
  },
  {
   "cell_type": "code",
   "execution_count": 11,
   "metadata": {},
   "outputs": [],
   "source": [
    "# SDE parameters : f = A x, df / dx = A (dimension = 1)\n",
    "\n",
    "A = -1.\n",
    "\n",
    "def func_f(x):\n",
    "    return A*x\n",
    "\n",
    "def func_f_der(x):\n",
    "    if not isinstance(x, np.ndarray):\n",
    "        return A\n",
    "    return A*np.ones(x.shape)\n",
    "\n",
    "def func_r0(x):\n",
    "    s = 1.\n",
    "    m = 0.\n",
    "    r = 1./np.sqrt(2.*np.pi * s**2)\n",
    "    r*= np.exp(-1. * (x-m)**2 / 2. / s**2)\n",
    "    return r.reshape(-1)\n",
    "    # return np.exp(-0.5 * np.diag(x.T@x))\n",
    "\n",
    "def func_r_trans(x, t, x0):\n",
    "    l = -1. * A\n",
    "    e = np.exp(-1. * l * t)\n",
    "    r = np.sqrt(l / np.pi /  (1. - e*e))\n",
    "    r*= np.exp(-1. * l * (x - x0 * e)**2 / (1. - e*e))\n",
    "    return r"
   ]
  },
  {
   "cell_type": "code",
   "execution_count": 12,
   "metadata": {},
   "outputs": [],
   "source": [
    "# Time grid\n",
    "\n",
    "t_min = 0.\n",
    "t_max = 1.\n",
    "t_poi = 10 # including t_min and t_max (>= 2)\n",
    "\n",
    "m = t_poi\n",
    "h = (t_max - t_min) / (t_poi - 1)\n",
    "\n",
    "T = np.linspace(0., 1., 10)"
   ]
  },
  {
   "cell_type": "code",
   "execution_count": 13,
   "metadata": {},
   "outputs": [],
   "source": [
    "# Spatial grid\n",
    "\n",
    "n = 40\n",
    "IT = Intertrain(n=[n], l=[[-3., 3.]], with_tt=False)\n",
    "X = IT.grid()"
   ]
  },
  {
   "cell_type": "code",
   "execution_count": 14,
   "metadata": {},
   "outputs": [],
   "source": [
    "# Special matrices\n",
    "\n",
    "I = np.eye(n)\n",
    "D = IT.dif1()\n",
    "# D = D[1:-1, 1:-1] # for BC\n",
    "Z = expm(D)\n",
    "Z = np.exp(h) * Z # kron(Z, Z)"
   ]
  },
  {
   "cell_type": "code",
   "execution_count": 15,
   "metadata": {},
   "outputs": [],
   "source": [
    "def interpolate(r0, x):\n",
    "    return IT.init(Y=r0).prep().calc(x)"
   ]
  },
  {
   "cell_type": "code",
   "execution_count": 20,
   "metadata": {},
   "outputs": [],
   "source": [
    "def step(x0, r0):\n",
    "    f = func_f(x0)\n",
    "    g = func_f_der(x0)\n",
    "    \n",
    "    x = x0 + h * f\n",
    "    r = (1. - h * np.trace(g)) * Z@interpolate(r0, X - h * f)\n",
    "\n",
    "    return (x, r)"
   ]
  },
  {
   "cell_type": "code",
   "execution_count": 21,
   "metadata": {},
   "outputs": [],
   "source": [
    "def calc():\n",
    "    \n",
    "    # Initial condition\n",
    "    x = X.copy()\n",
    "    r = func_r0(x)\n",
    "\n",
    "    X_list = [x]\n",
    "    R_list = [r]\n",
    "    \n",
    "    for _ in range(t_poi-1):\n",
    "        x, r = step(x, r)\n",
    "        X_list.append(x)\n",
    "        R_list.append(r)\n",
    "    \n",
    "    return (X_list, R_list)"
   ]
  },
  {
   "cell_type": "code",
   "execution_count": 22,
   "metadata": {},
   "outputs": [],
   "source": [
    "# Run caclulations\n",
    "\n",
    "X_list, R_list = calc()"
   ]
  },
  {
   "cell_type": "code",
   "execution_count": 23,
   "metadata": {},
   "outputs": [
    {
     "data": {
      "image/png": "[encoded data removed]",
      "text/plain": [
       "<Figure size 432x432 with 1 Axes>"
      ]
     },
     "metadata": {
      "needs_background": "light"
     },
     "output_type": "display_data"
    }
   ],
   "source": [
    "# Plot distribution (initial and final) on the spatial grid\n",
    "\n",
    "fig = plt.figure(figsize=(6, 6))\n",
    "gs = mpl.gridspec.GridSpec(\n",
    "    ncols=1, nrows=1, left=0.01, right=0.99, top=0.99, bottom=0.01,\n",
    "    wspace=0.4, hspace=0.3, width_ratios=[1], height_ratios=[1]\n",
    ")\n",
    "\n",
    "r1 = R_list[0].reshape(-1)\n",
    "r2 = R_list[-1].reshape(-1)\n",
    "ax = fig.add_subplot(gs[0, 0])\n",
    "ax.plot(X.reshape(-1), r1, label='t = %-8.2e'%t_min)\n",
    "ax.plot(X.reshape(-1), r2, label='t = %-8.2e'%t_max)\n",
    "ax.set_title('Probability density function')\n",
    "ax.set_xlabel('x')\n",
    "ax.set_ylabel('r')\n",
    "ax.legend(loc='best')\n",
    "\n",
    "plt.show()"
   ]
  },
  {
   "cell_type": "code",
   "execution_count": null,
   "metadata": {},
   "outputs": [],
   "source": []
  }
 ],
 "metadata": {
  "kernelspec": {
   "display_name": "Python 3",
   "language": "python",
   "name": "python3"
  },
  "language_info": {
   "codemirror_mode": {
    "name": "ipython",
    "version": 3
   },
   "file_extension": ".py",
   "mimetype": "text/x-python",
   "name": "python",
   "nbconvert_exporter": "python",
   "pygments_lexer": "ipython3",
   "version": "3.7.1"
  }
 },
 "nbformat": 4,
 "nbformat_minor": 2
}
