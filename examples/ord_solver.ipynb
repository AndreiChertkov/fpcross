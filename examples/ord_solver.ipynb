{
 "cells": [
  {
   "cell_type": "markdown",
   "metadata": {},
   "source": [
    "<div class=\"head0\">\n",
    "    <div class=\"head0__name\">\n",
    "        Custom ODE solver\n",
    "    </div>\n",
    "    <div class=\"head0__note\">\n",
    "        Solution of the ordinary differential equation (ODE) with multiple initial conditions by standard Euiler and the 4th order Runge-Kutta method.\n",
    "    </div>\n",
    "</div>"
   ]
  },
  {
   "cell_type": "code",
   "execution_count": 2,
   "metadata": {},
   "outputs": [
    {
     "name": "stdout",
     "output_type": "stream",
     "text": [
      "Start | 11:20AM MSK on Oct 30, 2019 | python 3.7.1    |\n",
      "-------------------------------------------------------\n"
     ]
    },
    {
     "data": {
      "text/html": [
       "<style>\n",
       "        div {\n",
       "          margin: 0;\n",
       "          padding: 0;\n",
       "        }\n",
       "\n",
       "        .head0 {\n",
       "          padding: 10px;\n",
       "          display: flex;\n",
       "          background-color: #dedee2;\n",
       "        }\n",
       "        .head0__name {\n",
       "          padding-right: 5px;\n",
       "          flex: 1 1 50%;\n",
       "          align-self: center;\n",
       "          font-size: 36px;\n",
       "          font-weight: bold;\n",
       "          color: #6b7e51;\n",
       "        }\n",
       "        .head0__note {\n",
       "          padding-left: 10px;\n",
       "          flex: 1 1 50%;\n",
       "          align-self: flex-end;\n",
       "          font-size: 16px;\n",
       "          font-style: italic;\n",
       "          color: #485536;\n",
       "          border-left: 5px solid #8b1d1d;\n",
       "        }\n",
       "\n",
       "        .head1 {\n",
       "          margin-top: 30px;\n",
       "          padding: 10px;\n",
       "          border-top: 5px solid #8b1d1d;\n",
       "        }\n",
       "        .head1__name {\n",
       "          font-size: 32px;\n",
       "          font-weight: bold;\n",
       "          color: #485536;\n",
       "        }\n",
       "        .head1__note {\n",
       "          padding-left: 20px;\n",
       "          font-size: 20px;\n",
       "          font-style: italic;\n",
       "          color: #485536;\n",
       "        }\n",
       "\n",
       "        .head2 {\n",
       "          margin-top: 7px;\n",
       "          padding: 5px 30px 5px;\n",
       "          border-left: 2px solid #42d56e;\n",
       "        }\n",
       "        .head2__name {\n",
       "          display: inline-block;\n",
       "          max-width: 70%;\n",
       "          padding: 2px 10px;\n",
       "          font-size: 22px;\n",
       "          font-weight: bold;\n",
       "          color: #145929;\n",
       "          border-bottom: 2px solid #42d56e;\n",
       "        }\n",
       "        .head2__note {\n",
       "          padding: 5px 10px 0px;\n",
       "          font-size: 14px;\n",
       "          font-style: italic;\n",
       "          color: #485536;\n",
       "        }\n",
       "\n",
       "        .head3 {\n",
       "          margin-top: 5px;\n",
       "          padding: 3px 40px 3px;\n",
       "          border-left: 2px dotted #485536;\n",
       "        }\n",
       "        .head3__name {\n",
       "          display: inline-block;\n",
       "          max-width: 70%;\n",
       "          padding: 2px 10px;\n",
       "          font-size: 20px;\n",
       "          font-weight: bold;\n",
       "          color: #145929;\n",
       "          border-bottom: 2px dotted #485536;\n",
       "        }\n",
       "        .head3__note {\n",
       "          padding: 2px 10px 0px;\n",
       "          font-size: 12px;\n",
       "          font-style: italic;\n",
       "          color: #485536;\n",
       "        }\n",
       "\n",
       "        .warn {\n",
       "          background-color: #fcf2f2;\n",
       "          border-color: #dfb5b4;\n",
       "          border-left: 5px solid #dfb5b4;\n",
       "          padding: 0.5em;\n",
       "        }\n",
       "        .note {\n",
       "          color: #42d56e;\n",
       "        }\n",
       "        .note::before {\n",
       "          content: 'Note. ';\n",
       "          font-weight: bold;\n",
       "          color: #485536;\n",
       "        }\n",
       "\n",
       "        .end {\n",
       "          padding: 5px;\n",
       "          border-top: 5px solid #8b1d1d;\n",
       "          border-bottom: 5px solid #8b1d1d;\n",
       "        }\n",
       "    </style>"
      ],
      "text/plain": [
       "<IPython.core.display.HTML object>"
      ]
     },
     "execution_count": 2,
     "metadata": {},
     "output_type": "execute_result"
    }
   ],
   "source": [
    "import time\n",
    "import numpy as np\n",
    "import matplotlib as mpl\n",
    "import matplotlib.pyplot as plt\n",
    "\n",
    "from fpcross import config, ij, Grid, OrdSolver\n",
    "\n",
    "ij()"
   ]
  },
  {
   "cell_type": "code",
   "execution_count": 3,
   "metadata": {},
   "outputs": [],
   "source": [
    "# TODO set lines form another (new) form of the config\n",
    "\n",
    "names = ['eul', 'rk4', 'ivp']\n",
    "\n",
    "l1 = config['opts']['plot']['line']['l1'].copy()\n",
    "l1['label'] = names[0]\n",
    "l2 = config['opts']['plot']['line']['l2'].copy()\n",
    "l2['label'] = names[1]\n",
    "l3 = config['opts']['plot']['line']['l3'].copy()\n",
    "l3['label'] = names[2]\n",
    "l4 = config['opts']['plot']['line']['l4'].copy()\n",
    "l4['label'] = 'Appr'\n",
    "l5 = config['opts']['plot']['line']['l5'].copy()\n",
    "l5['label'] = 'Appr'"
   ]
  },
  {
   "cell_type": "markdown",
   "metadata": {},
   "source": [
    "<div class=\"head1\">\n",
    "    <div class=\"head1__name\">\n",
    "        Test 1D\n",
    "    </div>\n",
    "</div>\n",
    "\n",
    "Consider\n",
    "$$\n",
    "    d r = f(r, t) \\, d t,\n",
    "    \\quad\n",
    "    r \\in R^{1},\n",
    "    \\quad\n",
    "    r(0) = r_0,\n",
    "    \\quad\n",
    "    f(r, t) = r^2,\n",
    "$$\n",
    "with known analytic solution\n",
    "$$\n",
    "    r(t) = \\frac{r_0}{1 - r_0 t}.\n",
    "$$"
   ]
  },
  {
   "cell_type": "code",
   "execution_count": 4,
   "metadata": {},
   "outputs": [],
   "source": [
    "def func_f0(r, t):\n",
    "    return r*r\n",
    "\n",
    "def func_rt(t):\n",
    "    return r0 / (1. - r0 * t)\n",
    "\n",
    "TG = Grid(1, 2, [0., 0.0001], kind='u')\n",
    "r0 = -2.5 * np.arange(1000).reshape(1, -1) + 0.2\n",
    "r_real = func_rt(TG.l2)"
   ]
  },
  {
   "cell_type": "code",
   "execution_count": 5,
   "metadata": {},
   "outputs": [
    {
     "name": "stdout",
     "output_type": "stream",
     "text": [
      "Solver: \"eul\" | Err: 2.08e-02 | Time: 2.61e-04\n",
      "Solver: \"rk4\" | Err: 3.29e-06 | Time: 3.96e-04\n",
      "Solver: \"ivp\" | Err: 1.39e-06 | Time: 2.00e-01\n"
     ]
    }
   ],
   "source": [
    "for name in names:\n",
    "    _t = time.time()\n",
    "\n",
    "    SL = OrdSolver(TG, name)\n",
    "    SL.init(func_f0)\n",
    "    r_calc = SL.comp(r0)\n",
    "    \n",
    "    _e = np.mean(np.abs((r_real - r_calc) / r_real))\n",
    "\n",
    "    print('Solver: \"%s\" | Err: %-8.2e | Time: %-8.2e'%(name, _e, time.time() - _t))"
   ]
  },
  {
   "cell_type": "code",
   "execution_count": 6,
   "metadata": {},
   "outputs": [],
   "source": [
    "T_max = np.array([1E-6, 1E-5, 1E-4, 1E-3, 1E-2])\n",
    "T_rk4, E_rk4 = [], []\n",
    "T_eul, E_eul = [], []\n",
    "T_ivp, E_ivp = [], []\n",
    "\n",
    "for name in names:\n",
    "    for t_max in T_max:\n",
    "        _t = time.time()\n",
    "        \n",
    "        TG = Grid(1, 2, [0., t_max], kind='u')\n",
    "        SL = OrdSolver(TG, name)\n",
    "        SL.init(func_f0)\n",
    "        r_calc = SL.comp(r0)\n",
    "\n",
    "        _r = func_rt(t_max)\n",
    "        _e = np.mean(np.abs((_r - r_calc) / _r))\n",
    "        eval('T_' + name).append(time.time() - _t)\n",
    "        eval('E_' + name).append(_e)"
   ]
  },
  {
   "cell_type": "code",
   "execution_count": 7,
   "metadata": {},
   "outputs": [
    {
     "name": "stdout",
     "output_type": "stream",
     "text": [
      "--- Convergence orders\n",
      "eul : 2.1e+06  h^2 + 1.1e-16 \n",
      "rk4 : 8.4e+14  h^5 + -1.7e-06\n"
     ]
    }
   ],
   "source": [
    "print('--- Convergence orders')\n",
    "\n",
    "x = T_max[:-1]\n",
    "y = np.array(E_eul[:-1])\n",
    "a, b = np.polyfit(x**2, y, 1)\n",
    "print('eul : %-8.1e h^2 + %-8.1e'%(a, b))\n",
    "\n",
    "x = T_max[:-1]\n",
    "y = np.array(E_rk4[:-1])\n",
    "a, b = np.polyfit(x**5, y, 1)\n",
    "print('rk4 : %-8.1e h^5 + %-8.1e'%(a, b))"
   ]
  },
  {
   "cell_type": "code",
   "execution_count": 8,
   "metadata": {},
   "outputs": [
    {
     "data": {
      "image/png": "[encoded data removed]",
      "text/plain": [
       "<Figure size 720x360 with 2 Axes>"
      ]
     },
     "metadata": {
      "needs_background": "light"
     },
     "output_type": "display_data"
    }
   ],
   "source": [
    "fig = plt.figure(**config['opts']['plot']['fig']['base_1_2'])\n",
    "grd = mpl.gridspec.GridSpec(**config['opts']['plot']['grid']['base_1_2'])\n",
    "\n",
    "ax1 = fig.add_subplot(grd[0, 0])\n",
    "ax2 = fig.add_subplot(grd[0, 1])\n",
    "ax1.plot(T_max, E_eul, **l1)\n",
    "ax1.plot(T_max, E_rk4, **l2)\n",
    "ax1.plot(T_max, E_ivp, **l3)\n",
    "\n",
    "E_app = 8.4e+14 * T_max**5\n",
    "l4['label'] = '8.4E14 h^5'\n",
    "ax1.plot(T_max, E_app, **l4)\n",
    "\n",
    "E_app = 2.1E+06 * T_max**2\n",
    "l5['label'] = '2.1E6 h^2'\n",
    "ax1.plot(T_max, E_app, **l5)\n",
    "\n",
    "ax1.set_title('Solution error for one step (1D)')\n",
    "ax1.set_xlabel('Step size')\n",
    "ax1.set_ylabel('Relative error')\n",
    "ax1.legend(loc='best')\n",
    "ax1.semilogx()\n",
    "ax1.semilogy()\n",
    "\n",
    "ax2.plot(T_max, T_eul, **l1)\n",
    "ax2.plot(T_max, T_rk4, **l2)\n",
    "ax2.plot(T_max, T_ivp, **l3)\n",
    "ax2.set_title('Calculation time (1D)')\n",
    "ax2.set_xlabel('Step size')\n",
    "ax2.set_ylabel('Time')\n",
    "ax2.legend(loc='best')\n",
    "ax2.semilogx()\n",
    "ax2.semilogy()\n",
    "\n",
    "plt.show()"
   ]
  },
  {
   "cell_type": "markdown",
   "metadata": {},
   "source": [
    "<div class=\"head1\">\n",
    "    <div class=\"head1__name\">\n",
    "        Test 2D\n",
    "    </div>\n",
    "</div>\n",
    "\n",
    "Consider\n",
    "$$\n",
    "    d r = f(r, t) \\, d t,\n",
    "    \\quad\n",
    "    r = (r_1, r_2) \\in R^{2},\n",
    "    \\quad\n",
    "    r(0) = r_0.\n",
    "$$\n",
    "\n",
    "Let set analytic solution\n",
    "$$\n",
    "    r_1(t) = \\sin{2 t^2} + r_{0, 1},\n",
    "    \\quad\n",
    "    r_2(t) = \\cos{2 t^2} + r_{0, 2} - 1,\n",
    "$$\n",
    "then for the rhs we have\n",
    "$$\n",
    "    f_1(r, t) = 4 t \\cos{2 t^2} = 4 t (r_2 - r_{0, 2} + 1),\n",
    "    \\quad\n",
    "    f_2(r, t) = - 4 t \\sin{2 t^2} = - 4 t (r_1 - r_{0, 1}).\n",
    "$$"
   ]
  },
  {
   "cell_type": "code",
   "execution_count": 9,
   "metadata": {},
   "outputs": [],
   "source": [
    "def func_f0(r, t, r0):\n",
    "    v1 = +4. * t * (r[1, :] - r0[1, :] + 1.)\n",
    "    v2 = -4. * t * (r[0, :] - r0[0, :])\n",
    "    return np.vstack([v1, v2])\n",
    "\n",
    "def func_rt(t):\n",
    "    v1 = np.sin(2. * t * t) + r0[0, :]\n",
    "    v2 = np.cos(2. * t * t) + r0[1, :] - 1.\n",
    "    return np.vstack([v1, v2])\n",
    "\n",
    "TG = Grid(1, 2, [0., 0.001], kind='u')\n",
    "r0 = np.vstack([\n",
    "    np.arange(100) * 1.1 + 0.2,\n",
    "    np.arange(100) * 1.5 + 0.3,\n",
    "])\n",
    "r_real = func_rt(TG.l2)"
   ]
  },
  {
   "cell_type": "code",
   "execution_count": 10,
   "metadata": {},
   "outputs": [
    {
     "name": "stdout",
     "output_type": "stream",
     "text": [
      "Solver: \"eul\" | Err: 9.47e-08 | Time: 1.73e-04\n",
      "Solver: \"rk4\" | Err: 2.98e-18 | Time: 6.27e-04\n",
      "Solver: \"ivp\" | Err: 1.45e-17 | Time: 7.86e-02\n"
     ]
    }
   ],
   "source": [
    "for name in names:\n",
    "    _t = time.time()\n",
    "\n",
    "    SL = OrdSolver(TG, name)\n",
    "    SL.init(func_f0, with_y0=True)\n",
    "    r_calc = SL.comp(r0)\n",
    "    \n",
    "    _e = np.mean(np.abs((r_real - r_calc) / r_real))\n",
    "\n",
    "    print('Solver: \"%s\" | Err: %-8.2e | Time: %-8.2e'%(name, _e, time.time() - _t))"
   ]
  },
  {
   "cell_type": "code",
   "execution_count": 11,
   "metadata": {},
   "outputs": [],
   "source": [
    "T_max = np.array([1E-6, 1E-5, 1E-4, 1E-3, 1E-2, 1E-1])\n",
    "T_rk4, E_rk4 = [], []\n",
    "T_eul, E_eul = [], []\n",
    "T_ivp, E_ivp = [], []\n",
    "\n",
    "for name in names:\n",
    "    for t_max in T_max:\n",
    "        _t = time.time()\n",
    "        \n",
    "        TG = Grid(1, 2, [0., t_max], kind='u')\n",
    "        SL = OrdSolver(TG, name)\n",
    "        SL.init(func_f0, with_y0=True)\n",
    "        r_calc = SL.comp(r0)\n",
    "\n",
    "        _r = func_rt(t_max)\n",
    "        _e = np.mean(np.abs((_r - r_calc) / _r))\n",
    "        eval('T_' + name).append(time.time() - _t)\n",
    "        eval('E_' + name).append(_e)"
   ]
  },
  {
   "cell_type": "code",
   "execution_count": 12,
   "metadata": {},
   "outputs": [
    {
     "name": "stdout",
     "output_type": "stream",
     "text": [
      "--- Convergence orders\n",
      "eul : 9.5e-02  h^2 + 1.1e-11 \n",
      "rk4 : 9.3e-08  h^5 + 3.0e-18 \n"
     ]
    }
   ],
   "source": [
    "print('--- Convergence orders')\n",
    "\n",
    "x = T_max[:-1]\n",
    "y = np.array(E_eul[:-1])\n",
    "a, b = np.polyfit(x**2, y, 1)\n",
    "print('eul : %-8.1e h^2 + %-8.1e'%(a, b))\n",
    "\n",
    "x = T_max[:-1]\n",
    "y = np.array(E_rk4[:-1])\n",
    "a, b = np.polyfit(x**5, y, 1)\n",
    "print('rk4 : %-8.1e h^5 + %-8.1e'%(a, b))"
   ]
  },
  {
   "cell_type": "code",
   "execution_count": 13,
   "metadata": {},
   "outputs": [
    {
     "data": {
      "image/png": "[encoded data removed]",
      "text/plain": [
       "<Figure size 720x360 with 2 Axes>"
      ]
     },
     "metadata": {
      "needs_background": "light"
     },
     "output_type": "display_data"
    }
   ],
   "source": [
    "fig = plt.figure(**config['opts']['plot']['fig']['base_1_2'])\n",
    "grd = mpl.gridspec.GridSpec(**config['opts']['plot']['grid']['base_1_2'])\n",
    "\n",
    "ax1 = fig.add_subplot(grd[0, 0])\n",
    "ax2 = fig.add_subplot(grd[0, 1])\n",
    "ax1.plot(T_max, E_eul, **l1)\n",
    "ax1.plot(T_max, E_rk4, **l2)\n",
    "ax1.plot(T_max, E_ivp, **l3)\n",
    "\n",
    "ax1.set_title('Solution error for one step (2D)')\n",
    "ax1.set_xlabel('Step size')\n",
    "ax1.set_ylabel('Relative error')\n",
    "ax1.legend(loc='best')\n",
    "ax1.semilogx()\n",
    "ax1.semilogy()\n",
    "\n",
    "ax2.plot(T_max, T_eul, **l1)\n",
    "ax2.plot(T_max, T_rk4, **l2)\n",
    "ax2.plot(T_max, T_ivp, **l3)\n",
    "ax2.set_title('Calculation time (2D)')\n",
    "ax2.set_xlabel('Step size')\n",
    "ax2.set_ylabel('Time')\n",
    "ax2.legend(loc='best')\n",
    "ax2.semilogx()\n",
    "ax2.semilogy()\n",
    "\n",
    "plt.show()"
   ]
  },
  {
   "cell_type": "markdown",
   "metadata": {},
   "source": [
    "<div class=\"end\"></div>"
   ]
  }
 ],
 "metadata": {
  "kernelspec": {
   "display_name": "Python 3",
   "language": "python",
   "name": "python3"
  },
  "language_info": {
   "codemirror_mode": {
    "name": "ipython",
    "version": 3
   },
   "file_extension": ".py",
   "mimetype": "text/x-python",
   "name": "python",
   "nbconvert_exporter": "python",
   "pygments_lexer": "ipython3",
   "version": "3.7.4"
  }
 },
 "nbformat": 4,
 "nbformat_minor": 4
}
