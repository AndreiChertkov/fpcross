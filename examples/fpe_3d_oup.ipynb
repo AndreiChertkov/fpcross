{
 "cells": [
  {
   "cell_type": "code",
   "execution_count": 1,
   "metadata": {},
   "outputs": [
    {
     "name": "stdout",
     "output_type": "stream",
     "text": [
      "Start |  1:47PM MSK on Oct 18, 2019 | python 3.7.1    |\n",
      "-------------------------------------------------------\n"
     ]
    },
    {
     "data": {
      "text/html": [
       "<style>\n",
       "        div {\n",
       "          margin: 0;\n",
       "          padding: 0;\n",
       "        }\n",
       "\n",
       "        .head0 {\n",
       "          padding: 10px;\n",
       "          display: flex;\n",
       "          background-color: #dedee2;\n",
       "        }\n",
       "        .head0__name {\n",
       "          padding-right: 5px;\n",
       "          flex: 1 1 50%;\n",
       "          align-self: center;\n",
       "          font-size: 36px;\n",
       "          font-weight: bold;\n",
       "          color: #6b7e51;\n",
       "        }\n",
       "        .head0__note {\n",
       "          padding-left: 10px;\n",
       "          flex: 1 1 50%;\n",
       "          align-self: flex-end;\n",
       "          font-size: 16px;\n",
       "          font-style: italic;\n",
       "          color: #485536;\n",
       "          border-left: 5px solid #8b1d1d;\n",
       "        }\n",
       "\n",
       "        .head1 {\n",
       "          margin-top: 30px;\n",
       "          padding: 10px;\n",
       "          border-top: 5px solid #8b1d1d;\n",
       "        }\n",
       "        .head1__name {\n",
       "          font-size: 32px;\n",
       "          font-weight: bold;\n",
       "          color: #485536;\n",
       "        }\n",
       "        .head1__note {\n",
       "          padding-left: 20px;\n",
       "          font-size: 20px;\n",
       "          font-style: italic;\n",
       "          color: #485536;\n",
       "        }\n",
       "\n",
       "        .head2 {\n",
       "          margin-top: 7px;\n",
       "          padding: 5px 30px 5px;\n",
       "          border-left: 2px solid #42d56e;\n",
       "        }\n",
       "        .head2__name {\n",
       "          display: inline-block;\n",
       "          max-width: 70%;\n",
       "          padding: 2px 10px;\n",
       "          font-size: 22px;\n",
       "          font-weight: bold;\n",
       "          color: #145929;\n",
       "          border-bottom: 2px solid #42d56e;\n",
       "        }\n",
       "        .head2__note {\n",
       "          padding: 5px 10px 0px;\n",
       "          font-size: 14px;\n",
       "          font-style: italic;\n",
       "          color: #485536;\n",
       "        }\n",
       "\n",
       "        .head3 {\n",
       "          margin-top: 5px;\n",
       "          padding: 3px 40px 3px;\n",
       "          border-left: 2px dotted #485536;\n",
       "        }\n",
       "        .head3__name {\n",
       "          display: inline-block;\n",
       "          max-width: 70%;\n",
       "          padding: 2px 10px;\n",
       "          font-size: 20px;\n",
       "          font-weight: bold;\n",
       "          color: #145929;\n",
       "          border-bottom: 2px dotted #485536;\n",
       "        }\n",
       "        .head3__note {\n",
       "          padding: 2px 10px 0px;\n",
       "          font-size: 12px;\n",
       "          font-style: italic;\n",
       "          color: #485536;\n",
       "        }\n",
       "\n",
       "        .warn {\n",
       "          background-color: #fcf2f2;\n",
       "          border-color: #dfb5b4;\n",
       "          border-left: 5px solid #dfb5b4;\n",
       "          padding: 0.5em;\n",
       "        }\n",
       "        .note {\n",
       "          color: #42d56e;\n",
       "        }\n",
       "        .note::before {\n",
       "          content: 'Note. ';\n",
       "          font-weight: bold;\n",
       "          color: #485536;\n",
       "        }\n",
       "\n",
       "        .end {\n",
       "          padding: 5px;\n",
       "          border-top: 5px solid #8b1d1d;\n",
       "          border-bottom: 5px solid #8b1d1d;\n",
       "        }\n",
       "    </style>"
      ],
      "text/plain": [
       "<IPython.core.display.HTML object>"
      ]
     },
     "execution_count": 1,
     "metadata": {},
     "output_type": "execute_result"
    }
   ],
   "source": [
    "import numpy as np\n",
    "\n",
    "from fpcross import ij, Grid, Solver, Model, Check\n",
    "\n",
    "ij()"
   ]
  },
  {
   "cell_type": "code",
   "execution_count": null,
   "metadata": {},
   "outputs": [],
   "source": [
    "def comp_rhs():\n",
    "\n",
    "    FN = SL.FN.copy()\n",
    "\n",
    "    t = self.t if not t else t\n",
    "    x = self.SG.comp()\n",
    "    f = self.MD.f0(x, t)\n",
    "    D = self.MD.D()\n",
    "    r = FN.Y.full() if self.with_tt else FN.Y.copy()\n",
    "    r = r.reshape(-1, order='F')\n",
    "\n",
    "    D1, D2 = difscheb(self.SG, 2)\n",
    "    #J0 = np.eye(self.SG.n0); J0[0, 0] = 0.; J0[-1, -1] = 0.; J = J0.copy()\n",
    "    #for _ in range(1, self.SG.d):\n",
    "    #    J = np.kron(J, J0)\n",
    "\n",
    "    rhs = 0.\n",
    "    for k in range(self.SG.d):\n",
    "        M = [np.eye(self.SG.n0) for _ in range(self.SG.d)]\n",
    "\n",
    "        M[self.SG.d - 1 - k] = D1.copy()\n",
    "        _D1 = M[0].copy()\n",
    "        for k_ in range(1, self.SG.d):\n",
    "            _D1 = np.kron(_D1, M[k_])\n",
    "\n",
    "        M[self.SG.d - 1 - k] = D2.copy()\n",
    "        _D2 = M[0].copy()\n",
    "        for k_ in range(1, self.SG.d):\n",
    "            _D2 = np.kron(_D2, M[k_])\n",
    "\n",
    "        rhs-= _D1 @ (r * f[k, :])\n",
    "        rhs+= _D2 @ (r * D)\n",
    "\n",
    "    return np.linalg.norm(rhs) / np.linalg.norm(r)"
   ]
  },
  {
   "cell_type": "code",
   "execution_count": null,
   "metadata": {},
   "outputs": [],
   "source": [
    "comp_rhs()"
   ]
  },
  {
   "cell_type": "code",
   "execution_count": 10,
   "metadata": {},
   "outputs": [
    {
     "data": {
      "text/plain": [
       "3.373213738871733"
      ]
     },
     "execution_count": 10,
     "metadata": {},
     "output_type": "execute_result"
    }
   ],
   "source": [
    "SL.comp_rhs()"
   ]
  },
  {
   "cell_type": "code",
   "execution_count": null,
   "metadata": {},
   "outputs": [],
   "source": []
  },
  {
   "cell_type": "code",
   "execution_count": null,
   "metadata": {},
   "outputs": [],
   "source": []
  },
  {
   "cell_type": "code",
   "execution_count": null,
   "metadata": {},
   "outputs": [],
   "source": []
  },
  {
   "cell_type": "code",
   "execution_count": 2,
   "metadata": {},
   "outputs": [
    {
     "data": {
      "text/markdown": [
       "<div class=\"head0\"><div class=\"head0__name\">fpe-oup</div><div class=\"head0__note\">Multidimensional Focker Planck equation (Ornstein–Uhlenbeck process) [FPE, ND, analytic, analyt-stationary, OUP].</div></div><div class=\"head2\">\n",
       "                <div class=\"head2__name\">Parameters</div>\n",
       "                <div class=\"head2__note\"><ul><li>d =   3 [Dimension]<div>Spatial dimension (type: int, default:   1)</div></li><li>s =   1.0000 [Initial variance]<div>Variance of the initial condition (type: float, default:   1.0000)</div></li><li>D =   0.5000 [Diffusion coefficient]<div>Scalar diffusion coefficient (type: float, default:   0.5000)</div></li><li>A = [[1.  0.2 0.5]\n",
       " [0.  0.7 0.3]\n",
       " [0.  0.  1.5]] [Drift]<div>Constant drift coefficients ([d x d] matrix) (type: ndarray, default: <function Model.pars.<locals>.<lambda> at 0x151c51a6a8>)</div></li></ul></div>\n",
       "            </div><div class=\"head1\">\n",
       "                <div class=\"head1__name\">Description</div>\n",
       "            </div>\n",
       "Consider\n",
       "$$\n",
       "    d x = f(x, t) \\, dt + S(x, t) \\, d \\beta,\n",
       "    \\quad\n",
       "    d \\beta \\, d \\beta^{\\top} = Q(t) dt,\n",
       "    \\quad\n",
       "    x(0) = x_0 \\sim \\rho(x, 0) = \\rho_0 (x),\n",
       "$$\n",
       "$$\n",
       "    \\frac{\\partial \\rho(x, t)}{\\partial t} =\n",
       "        \\sum_{i=1}^d \\sum_{j=1}^d\n",
       "            \\frac{\\partial^2}{\\partial x_i \\partial x_j}\n",
       "            \\left[ D_{ij}(x, t) \\rho(x, t) \\right]\n",
       "        - \\sum_{i=1}^d\n",
       "            \\frac{\\partial}{\\partial x_i}\n",
       "            \\left[ f_i(x, t) \\rho(x, t) \\right],\n",
       "    \\quad\n",
       "     D(x, t) = \\frac{1}{2} S(x, t) Q(t) S(x, t)^{\\top},\n",
       "$$\n",
       "where spatial $d$-dimensional ($d \\ge 1$) variable $x \\in R^d$ has probability density function (PDF) $\\rho(x, t)$, $\\beta$ is Brownian motion of dimension $q$ ($q \\ge 1$, and we assume below that $q = d$), $f(x, t) \\in R^d$ is a vector-function, $S(x, t) \\in R^{d \\times q}$ and $Q(t) \\in R^{q \\times q}$ are matrix-functions and $D(x, t) \\in R^{d \\times d}$ is a diffusion tensor.\n",
       "\n",
       "Let\n",
       "$$\n",
       "    Q(t) \\equiv I,\n",
       "    \\,\n",
       "    S(x, t) \\equiv \\sqrt{2 D_c} I\n",
       "    \\implies\n",
       "    D(x, t) \\equiv D I,\n",
       "$$\n",
       "and\n",
       "$$\n",
       "    \\quad\n",
       "    x \\in \\Omega,\n",
       "    \\quad\n",
       "    \\rho(x, t) |_{\\partial \\Omega} \\approx 0,\n",
       "    \\quad\n",
       "    f(x, t) = A (\\mu - x),\n",
       "    \\quad\n",
       "    \\mu \\equiv 0,\n",
       "    \\quad\n",
       "    \\rho_0(x) =\n",
       "        \\frac{1}{\\left(2 \\pi s \\right)^{\\frac{d}{2}}}\n",
       "        \\exp{\\left[-\\frac{|x|^2}{2s}\\right]}.\n",
       "$$\n",
       "\n",
       "This equation has stationary solution ($t \\rightarrow \\infty$)\n",
       "$$\n",
       "    \\rho_{stat}(x) =\n",
       "        \\frac\n",
       "        {\n",
       "            exp \\left[ -\\frac{1}{2} x^{\\top} W^{-1} x \\right]\n",
       "        }\n",
       "        {\n",
       "            \\sqrt{(2 \\pi)^d det(W)}\n",
       "        },\n",
       "$$\n",
       "where matrix $W$ is solution of the matrix equation\n",
       "$$\n",
       "    A W + W A^{\\top} = 2 D.\n",
       "$$\n",
       "        <div class=\"note\">The multivariate Ornstein–Uhlenbeck process is mean-reverting (the solution tends to its long-term mean $\\mu$ as time $t$ tends to infinity) if if all eigenvalues of $A$ are positive and this process at any time is a multivariate normal random variable.</div><div class=\"note\">We do not construct analytic solution for this multidimensional case, but use comparison with known stationary solution. The corresponding error will depend on the maximum value for the used time grid.</div><div class=\"end\"></div>"
      ],
      "text/plain": [
       "<IPython.core.display.Markdown object>"
      ]
     },
     "metadata": {},
     "output_type": "display_data"
    }
   ],
   "source": [
    "MD = Model.select('fpe_oup')\n",
    "MD.init(d=3, s=1., D=0.5, A=np.array([\n",
    "    [1.0, 0.2, 0.5],\n",
    "    [0.0, 0.7, 0.3],\n",
    "    [0.0, 0.0, 1.5],\n",
    "])).info()"
   ]
  },
  {
   "cell_type": "code",
   "execution_count": 3,
   "metadata": {},
   "outputs": [
    {
     "name": "stderr",
     "output_type": "stream",
     "text": [
      "Solve: 100%|█| 99/99 [02:10<00:00,  3.08s/step, | At T=8.0e+00 : es=3.4e+03 n=3.38e+03 rhs=3.37e+00]"
     ]
    },
    {
     "name": "stdout",
     "output_type": "stream",
     "text": [
      "------------------ Solver\n",
      "Format    : 3D, NP [order=2]\n",
      "Time main : prep = 1.41e+00, calc = 3.89e+01\n",
      "Time spec : diff = 6.47e+00, conv = 3.24e+01  post = 9.12e+01\n",
      "Err stat  : 3.41e+03\n"
     ]
    },
    {
     "name": "stderr",
     "output_type": "stream",
     "text": [
      "\n"
     ]
    }
   ],
   "source": [
    "TG = Grid(d=1, n=100, l=[+0., +8.], kind='u')\n",
    "SG = Grid(d=3, n= 20, l=[-6., +6.], kind='c')\n",
    "SL = Solver(TG, SG, MD)\n",
    "SL.init().prep().calc().info()"
   ]
  },
  {
   "cell_type": "code",
   "execution_count": 9,
   "metadata": {},
   "outputs": [
    {
     "data": {
      "image/png": "[encoded data removed]",
      "text/plain": [
       "<Figure size 432x288 with 1 Axes>"
      ]
     },
     "metadata": {
      "needs_background": "light"
     },
     "output_type": "display_data"
    }
   ],
   "source": [
    "import matplotlib.pyplot as plt\n",
    "\n",
    "T = np.array(SL.hst['T'])\n",
    "I = np.array(SL.hst['Int'])\n",
    "\n",
    "plt.plot(T, I, marker='*')\n",
    "plt.xlabel('Time')\n",
    "plt.ylabel('Integral')\n",
    "plt.show()"
   ]
  },
  {
   "cell_type": "code",
   "execution_count": 3,
   "metadata": {},
   "outputs": [
    {
     "name": "stderr",
     "output_type": "stream",
     "text": [
      "Solve: 100%|█████| 99/99 [00:40<00:00,  2.08step/s, | At T=8.0e+00 : es=1.0e-01]"
     ]
    },
    {
     "name": "stdout",
     "output_type": "stream",
     "text": [
      "------------------ Solver\n",
      "Format    : 3D, NP [order=2]\n",
      "Time main : prep = 1.33e+00, calc = 2.96e+00\n",
      "Time spec : diff = 6.41e+00, conv = 2.95e+01\n",
      "post = 4.02e+00\n",
      "Err stat  : 1.02e-01\n"
     ]
    },
    {
     "name": "stderr",
     "output_type": "stream",
     "text": [
      "\n"
     ]
    }
   ],
   "source": [
    "TG = Grid(d=1, n=100, l=[+0., +8.], kind='u')\n",
    "SG = Grid(d=3, n= 20, l=[-6., +6.], kind='c')\n",
    "SL = Solver(TG, SG, MD)\n",
    "SL.init().prep().calc().info()"
   ]
  },
  {
   "cell_type": "code",
   "execution_count": 4,
   "metadata": {},
   "outputs": [
    {
     "name": "stderr",
     "output_type": "stream",
     "text": [
      "Solve: 100%|█| 99/99 [00:52<00:00,  1.02step/s, | At T=8.0e+00 : es=1.0e-01 rank=6.9e+00]"
     ]
    },
    {
     "name": "stdout",
     "output_type": "stream",
     "text": [
      "------------------ Solver\n",
      "Format    : 3D, TT, eps= 1.00e-03 [order=2]\n",
      "Time main : prep = 1.33e-03, calc = 1.48e-01\n",
      "Time spec : diff = 2.11e-01, conv = 4.30e+01\n",
      "post = 9.51e+00\n",
      "Err stat  : 1.03e-01\n"
     ]
    },
    {
     "name": "stderr",
     "output_type": "stream",
     "text": [
      "\n"
     ]
    }
   ],
   "source": [
    "TG = Grid(d=1, n=100, l=[+0., +8.], kind='u')\n",
    "SG = Grid(d=3, n= 20, l=[-6., +6.], kind='c')\n",
    "SL = Solver(TG, SG, MD, eps=1.E-3, with_tt=True)\n",
    "SL.init().prep().calc().info()"
   ]
  },
  {
   "cell_type": "code",
   "execution_count": 5,
   "metadata": {},
   "outputs": [
    {
     "name": "stderr",
     "output_type": "stream",
     "text": [
      "Solve: 100%|█| 99/99 [03:54<00:00,  4.64s/step, | At T=8.0e+00 : es=5.5e-03 rank=3.0e+00]"
     ]
    },
    {
     "name": "stdout",
     "output_type": "stream",
     "text": [
      "------------------ Solver\n",
      "Format    : 3D, TT, eps= 1.00e-03 [order=2]\n",
      "Time main : prep = 6.30e-03, calc = 3.62e-01\n",
      "Time spec : diff = 3.87e-01, conv = 1.20e+02\n",
      "post = 1.14e+02\n",
      "Err stat  : 5.45e-03\n"
     ]
    },
    {
     "name": "stderr",
     "output_type": "stream",
     "text": [
      "\n"
     ]
    }
   ],
   "source": [
    "TG = Grid(d=1, n=100, l=[+0., +8.], kind='u')\n",
    "SG = Grid(d=3, n= 30, l=[-6., +6.], kind='c')\n",
    "SL = Solver(TG, SG, MD, eps=1.E-3, with_tt=True)\n",
    "SL.init().prep().calc().info()"
   ]
  },
  {
   "cell_type": "code",
   "execution_count": 3,
   "metadata": {},
   "outputs": [
    {
     "name": "stderr",
     "output_type": "stream",
     "text": [
      "Solve: 100%|█| 99/99 [04:33<00:00,  5.73s/step, | At T=8.0e+00 : es=5.1e-03 r=7.94e+00]"
     ]
    },
    {
     "name": "stdout",
     "output_type": "stream",
     "text": [
      "------------------ Solver\n",
      "Format    : 3D, TT, eps= 1.00e-05 [order=2]\n",
      "Time main : prep = 3.88e-02, calc = 1.38e+02\n",
      "Time spec : diff = 4.66e-01, conv = 1.37e+02  post = 1.35e+02\n",
      "Err stat  : 5.05e-03\n"
     ]
    },
    {
     "name": "stderr",
     "output_type": "stream",
     "text": [
      "\n"
     ]
    }
   ],
   "source": [
    "TG = Grid(d=1, n=100, l=[+0., +8.], kind='u')\n",
    "SG = Grid(d=3, n= 30, l=[-6., +6.], kind='c')\n",
    "SL = Solver(TG, SG, MD, eps=1.E-5, with_tt=True)\n",
    "SL.init().prep().calc().info()"
   ]
  },
  {
   "cell_type": "code",
   "execution_count": 3,
   "metadata": {},
   "outputs": [
    {
     "name": "stderr",
     "output_type": "stream",
     "text": [
      "Solve: 100%|█| 199/199 [09:48<00:00,  7.26s/step, | At T=8.0e+00 : es=8.2e-03 r=7.94e+00]"
     ]
    },
    {
     "name": "stdout",
     "output_type": "stream",
     "text": [
      "------------------ Solver\n",
      "Format    : 3D, TT, eps= 1.00e-05 [order=2]\n",
      "Time main : prep = 4.17e-02, calc = 3.54e+02\n",
      "Time spec : diff = 1.02e+00, conv = 3.53e+02  post = 2.34e+02\n",
      "Err stat  : 8.16e-03\n"
     ]
    },
    {
     "name": "stderr",
     "output_type": "stream",
     "text": [
      "\n"
     ]
    }
   ],
   "source": [
    "TG = Grid(d=1, n=200, l=[+0., +8.], kind='u')\n",
    "SG = Grid(d=3, n= 30, l=[-6., +6.], kind='c')\n",
    "SL = Solver(TG, SG, MD, eps=1.E-5, with_tt=True)\n",
    "SL.init().prep().calc().info()"
   ]
  },
  {
   "cell_type": "code",
   "execution_count": 4,
   "metadata": {},
   "outputs": [
    {
     "name": "stderr",
     "output_type": "stream",
     "text": [
      "Solve: 100%|█| 399/399 [17:34<00:00, 10.26s/step, | At T=8.0e+00 : es=1.1e-02 r=7.37e+00]"
     ]
    },
    {
     "name": "stdout",
     "output_type": "stream",
     "text": [
      "------------------ Solver\n",
      "Format    : 3D, TT, eps= 1.00e-05 [order=2]\n",
      "Time main : prep = 4.29e-02, calc = 7.93e+02\n",
      "Time spec : diff = 1.87e+00, conv = 7.91e+02  post = 2.61e+02\n",
      "Err stat  : 1.10e-02\n"
     ]
    },
    {
     "name": "stderr",
     "output_type": "stream",
     "text": [
      "\n"
     ]
    }
   ],
   "source": [
    "TG = Grid(d=1, n=400, l=[+0., +8.], kind='u')\n",
    "SG = Grid(d=3, n= 30, l=[-6., +6.], kind='c')\n",
    "SL = Solver(TG, SG, MD, eps=1.E-5, with_tt=True)\n",
    "SL.init().prep().calc().info()"
   ]
  },
  {
   "cell_type": "code",
   "execution_count": 5,
   "metadata": {},
   "outputs": [
    {
     "name": "stderr",
     "output_type": "stream",
     "text": [
      "Solve: 100%|█| 399/399 [25:20<00:00, 12.57s/step, | At T=8.0e+00 : es=1.1e-02 r=2.39e+01]"
     ]
    },
    {
     "name": "stdout",
     "output_type": "stream",
     "text": [
      "------------------ Solver\n",
      "Format    : 3D, TT, eps= 1.00e-08 [order=2]\n",
      "Time main : prep = 7.60e-03, calc = 1.23e+03\n",
      "Time spec : diff = 3.01e+00, conv = 1.23e+03  post = 2.88e+02\n",
      "Err stat  : 1.10e-02\n"
     ]
    },
    {
     "name": "stderr",
     "output_type": "stream",
     "text": [
      "\n"
     ]
    }
   ],
   "source": [
    "TG = Grid(d=1, n=400, l=[+0., +8.], kind='u')\n",
    "SG = Grid(d=3, n= 30, l=[-6., +6.], kind='c')\n",
    "SL = Solver(TG, SG, MD, eps=1.E-8, with_tt=True)\n",
    "SL.init().prep().calc().info()"
   ]
  },
  {
   "cell_type": "code",
   "execution_count": null,
   "metadata": {},
   "outputs": [],
   "source": []
  },
  {
   "cell_type": "code",
   "execution_count": null,
   "metadata": {},
   "outputs": [],
   "source": [
    "opts = { 'is_log': True, 'is_abs': False, 'is_err_abs': False, 'with_err_stat': True }\n",
    "SL.plot_t([-3.]*d, opts)\n",
    "SL.plot_t([+0.]*d, opts)\n",
    "SL.plot_t([+3.]*d, opts)"
   ]
  },
  {
   "cell_type": "code",
   "execution_count": null,
   "metadata": {},
   "outputs": [],
   "source": [
    "opts = { 'is_log': True, 'is_abs': False, 'is_err_abs': False, 'with_err_stat': True }\n",
    "SL.plot_x(+0.1, opts)\n",
    "SL.plot_x(+0.5, opts)\n",
    "SL.plot_x(None, opts)"
   ]
  },
  {
   "cell_type": "markdown",
   "metadata": {},
   "source": [
    "<div class=\"head1\">\n",
    "    <div class=\"head1__name\">\n",
    "        Results for multiple computations\n",
    "    </div>\n",
    "    <div class=\"head1__note\">\n",
    "        We use results that already saved to file (see file `multi_solve.ipynb`).\n",
    "    </div>\n",
    "</div>"
   ]
  },
  {
   "cell_type": "code",
   "execution_count": null,
   "metadata": {},
   "outputs": [],
   "source": [
    "SLC = SolversCheck('./../computations/data/fpe_3d_oup')\n",
    "SLC.load()\n",
    "\n",
    "name1 = 'Solver-NP'\n",
    "name2 = 'Solver-TT'\n",
    "\n",
    "M = SLC.res[name2]['M']\n",
    "N = SLC.res[name2]['N']\n",
    "\n",
    "m = M[-1]\n",
    "n = N[-1]"
   ]
  },
  {
   "cell_type": "markdown",
   "metadata": {},
   "source": [
    "<div class=\"head2\">\n",
    "    <div class=\"head2__name\">\n",
    "        Dependence on the number of time points\n",
    "    </div>\n",
    "    <div class=\"head2__note\">\n",
    "        We present results for TT-solver of the 2th order.\n",
    "    </div>\n",
    "</div>"
   ]
  },
  {
   "cell_type": "code",
   "execution_count": null,
   "metadata": {},
   "outputs": [],
   "source": [
    "SLC.plot(name2, n=n, is_stat=False, is_xpoi=False, lims={ 'all': [1, None] })"
   ]
  },
  {
   "cell_type": "markdown",
   "metadata": {},
   "source": [
    "<div class=\"head2\">\n",
    "    <div class=\"head2__name\">\n",
    "        Dependence on the number of spatial points\n",
    "    </div>\n",
    "    <div class=\"head2__note\">\n",
    "        We present results for TT-solver of the 2th order.\n",
    "    </div>\n",
    "</div>"
   ]
  },
  {
   "cell_type": "code",
   "execution_count": null,
   "metadata": {},
   "outputs": [],
   "source": [
    "SLC.plot(name2, m=m, is_stat=False, lims={ 'all': [1, 6] })"
   ]
  },
  {
   "cell_type": "markdown",
   "metadata": {},
   "source": [
    "<div class=\"head2\">\n",
    "    <div class=\"head2__name\">\n",
    "        Dependence on the solver type\n",
    "    </div>\n",
    "    <div class=\"head2__note\">\n",
    "        We present results (dependencies on the number of time and spatial points) for NP-solver and TT-solver.\n",
    "    </div>\n",
    "</div>"
   ]
  },
  {
   "cell_type": "code",
   "execution_count": null,
   "metadata": {},
   "outputs": [],
   "source": [
    "SLC.plot_all(n=n, is_stat=False)"
   ]
  },
  {
   "cell_type": "code",
   "execution_count": null,
   "metadata": {},
   "outputs": [],
   "source": [
    "SLC.plot_all(m=m, is_stat=False)"
   ]
  },
  {
   "cell_type": "markdown",
   "metadata": {},
   "source": [
    "<div class=\"head1\">\n",
    "    <div class=\"head1__name\">\n",
    "        DRAFT | Explicit (simple) solvers\n",
    "    </div>\n",
    "    <div class=\"head1__note\">\n",
    "        Only for example and tests.\n",
    "    </div>\n",
    "</div>"
   ]
  },
  {
   "cell_type": "code",
   "execution_count": 7,
   "metadata": {},
   "outputs": [],
   "source": [
    "import time\n",
    "import numpy as np\n",
    "import scipy.sparse as sp\n",
    "from scipy.integrate import solve_ivp\n",
    "from scipy.linalg import expm as expm\n",
    "import matplotlib.pyplot as plt"
   ]
  },
  {
   "cell_type": "code",
   "execution_count": 8,
   "metadata": {},
   "outputs": [],
   "source": [
    "d = 3\n",
    "m = t_poi\n",
    "n = x_poi\n",
    "l = (x_max - x_min) / (x_poi - 1)\n",
    "h = (t_max - t_min) / (t_poi - 1)\n",
    "T = np.linspace(t_min, t_max, t_poi)"
   ]
  },
  {
   "cell_type": "code",
   "execution_count": 10,
   "metadata": {},
   "outputs": [],
   "source": [
    "def show_x(X, r_calc, _time):\n",
    "    X = X.reshape(1, -1)\n",
    "    r_init = func_r0(X)\n",
    "    r_real = func_rt(X, t_max)\n",
    "    r_stat = func_rs(X)\n",
    "    e = np.linalg.norm(r_real - r_calc) / np.linalg.norm(r_real)\n",
    "\n",
    "    plt.plot(\n",
    "        X.reshape(-1), r_init, '--', label='Initial',\n",
    "        linewidth=3, color='tab:blue'\n",
    "    )\n",
    "    plt.plot(\n",
    "        X.reshape(-1), r_calc, label='Calculated',\n",
    "        linewidth=1, color='tab:green', marker='o', markersize=7,\n",
    "        markerfacecolor='lightgreen', markeredgecolor='g'\n",
    "    )\n",
    "    plt.plot(\n",
    "        X.reshape(-1), r_real, label='Analytic',\n",
    "        linewidth=3, color='black'\n",
    "    )\n",
    "    plt.plot(\n",
    "        X.reshape(-1), r_stat, '--', label='Stationary',\n",
    "        linewidth=2, color='magenta'\n",
    "    )\n",
    "    \n",
    "    plt.title('Solution at the final time step')\n",
    "    plt.xlabel('x')\n",
    "    plt.ylabel('r')\n",
    "    plt.legend(loc='best')\n",
    "    plt.show()\n",
    "\n",
    "    print('Number of spatial points : %8d'%x_poi)\n",
    "    print('Number of time points    : %8d'%t_poi)\n",
    "    print('Error (relative norm)    : %-12.2e'%e)\n",
    "    print('Total time (sec)         : %-12.2e'%_time)"
   ]
  },
  {
   "cell_type": "markdown",
   "metadata": {},
   "source": [
    "<div class=\"head2\">\n",
    "    <div class=\"head2__name\">\n",
    "        Euler solver and uniform spatial grid\n",
    "    </div>\n",
    "</div>\n",
    "\n",
    "We can solve this 1D equation on the uniform spatial grid for the time $t > 0$ with step $h$ and uniform spatial grid with step $l$ using 2th order finite difference scheme\n",
    "\n",
    "$$\n",
    "    \\frac{\\partial \\rho}{\\partial t} = (D + \\widehat{Q}) \\rho,\n",
    "$$\n",
    "where\n",
    "$$\n",
    "    \\widehat{Q} \\rho = f Q \\rho - \\frac{\\partial f}{\\partial x} \\rho,\n",
    "$$\n",
    "\n",
    "$$\n",
    "    D = \\frac{1}{l^2} tridiag \\left( 1, -2, 1 \\right),\n",
    "    \\quad\n",
    "    Q = \\frac{1}{2 l} tridiag \\left( -1, 0, 1 \\right).\n",
    "$$\n",
    "\n",
    "Let apply 1th order splitting method on the time step $(k+1)$\n",
    "$$\n",
    "    \\frac{\\partial v}{\\partial t} = D v,\n",
    "    \\quad\n",
    "    v_{k} = \\rho_{k},\n",
    "    \\quad\n",
    "    v_{k+1} = v = ?,\n",
    "$$\n",
    "$$\n",
    "    \\frac{\\partial w}{\\partial t} = \\widehat{Q} w,\n",
    "    \\quad\n",
    "    w_{k} = v,\n",
    "    \\quad\n",
    "    w_{k+1} = \\rho_{k+1} = ?,\n",
    "$$\n",
    "and solve both ODE by the 1th order Euler method."
   ]
  },
  {
   "cell_type": "code",
   "execution_count": 14,
   "metadata": {},
   "outputs": [
    {
     "name": "stdout",
     "output_type": "stream",
     "text": [
      "11\n",
      "1331\n",
      "(1331, 1331)\n",
      "(1331, 1331)\n",
      "(1331,)\n"
     ]
    },
    {
     "ename": "ValueError",
     "evalue": "shapes (3993,3993) and (1331,1331) not aligned: 3993 (dim 1) != 1331 (dim 0)",
     "output_type": "error",
     "traceback": [
      "\u001b[0;31m---------------------------------------------------------------------------\u001b[0m",
      "\u001b[0;31mValueError\u001b[0m                                Traceback (most recent call last)",
      "\u001b[0;32m<ipython-input-14-5f4fbda01c20>\u001b[0m in \u001b[0;36m<module>\u001b[0;34m\u001b[0m\n\u001b[1;32m     44\u001b[0m     \u001b[0;31m# w1 = ZD @ w0\u001b[0m\u001b[0;34m\u001b[0m\u001b[0;34m\u001b[0m\u001b[0;34m\u001b[0m\u001b[0m\n\u001b[1;32m     45\u001b[0m     \u001b[0mv0\u001b[0m \u001b[0;34m=\u001b[0m \u001b[0mw1\u001b[0m\u001b[0;34m\u001b[0m\u001b[0;34m\u001b[0m\u001b[0m\n\u001b[0;32m---> 46\u001b[0;31m     \u001b[0mv1\u001b[0m \u001b[0;34m=\u001b[0m \u001b[0mv0\u001b[0m \u001b[0;34m-\u001b[0m \u001b[0mh\u001b[0m \u001b[0;34m*\u001b[0m \u001b[0mF0\u001b[0m \u001b[0;34m@\u001b[0m \u001b[0mQ\u001b[0m \u001b[0;34m@\u001b[0m \u001b[0mv0\u001b[0m \u001b[0;34m-\u001b[0m \u001b[0mh\u001b[0m \u001b[0;34m*\u001b[0m \u001b[0mF1\u001b[0m \u001b[0;34m@\u001b[0m \u001b[0mv0\u001b[0m\u001b[0;34m\u001b[0m\u001b[0;34m\u001b[0m\u001b[0m\n\u001b[0m\u001b[1;32m     47\u001b[0m     \u001b[0mr\u001b[0m \u001b[0;34m=\u001b[0m \u001b[0mv1\u001b[0m\u001b[0;34m\u001b[0m\u001b[0;34m\u001b[0m\u001b[0m\n\u001b[1;32m     48\u001b[0m \u001b[0;34m\u001b[0m\u001b[0m\n",
      "\u001b[0;31mValueError\u001b[0m: shapes (3993,3993) and (1331,1331) not aligned: 3993 (dim 1) != 1331 (dim 0)"
     ]
    }
   ],
   "source": [
    "_time = time.time()\n",
    "\n",
    "X = np.linspace(x_min, x_max, x_poi).reshape(1, -1)\n",
    "X = [X.copy() for _ in range(d)]\n",
    "X = np.meshgrid(*X, indexing='ij')\n",
    "X = np.array(X).reshape((d, -1), order='F')\n",
    "\n",
    "I = np.eye(x_poi)\n",
    "\n",
    "Q = sp.spdiags(\n",
    "    [\n",
    "        [-1.] * x_poi,\n",
    "        [+1.] * x_poi\n",
    "    ],\n",
    "    [-1,  1], x_poi, x_poi\n",
    ").tocsr().toarray()\n",
    "Q = Q * (0.5 / l)\n",
    "Q = np.kron(Q, np.kron(I, I)) + np.kron(I, np.kron(Q, I)) + np.kron(I, np.kron(I, Q))\n",
    "\n",
    "D = sp.spdiags(\n",
    "    [\n",
    "        [+1.] * x_poi,\n",
    "        [-2.] * x_poi,\n",
    "        [+1.] * x_poi\n",
    "    ],\n",
    "    [-1, 0, 1], x_poi, x_poi\n",
    ").tocsr().toarray()\n",
    "D = D * D_coef / l / l\n",
    "D = np.kron(D, np.kron(I, I)) + np.kron(I, np.kron(D, I)) + np.kron(I, np.kron(I, D))\n",
    "\n",
    "r = func_r0(X)\n",
    "\n",
    "print(x_poi)\n",
    "print(x_poi**d)\n",
    "print(D.shape)\n",
    "print(Q.shape)\n",
    "print(r.shape)\n",
    "\n",
    "for t in T[1:]:\n",
    "    F0 = np.diag(func_f0(X, t).reshape(-1))\n",
    "    F1 = np.diag(func_f1(X, t).reshape(-1))\n",
    "    w0 = r\n",
    "    w1 = w0 + h * D @ w0\n",
    "    # w1 = ZD @ w0\n",
    "    v0 = w1\n",
    "    v1 = v0 - h * F0 @ Q @ v0 - h * F1 @ v0\n",
    "    r = v1\n",
    "    \n",
    "show_x(X, r.reshape(-1), time.time() - _time)"
   ]
  },
  {
   "cell_type": "code",
   "execution_count": null,
   "metadata": {},
   "outputs": [],
   "source": [
    "_time = time.time()\n",
    "\n",
    "\n",
    "\n",
    "r = func_r0(X)\n",
    "for t in T[1:]:\n",
    "    r = r + h * D @ r\n",
    "\n",
    "show_x(X, r, time.time() - _time)"
   ]
  },
  {
   "cell_type": "markdown",
   "metadata": {},
   "source": [
    "<div class=\"head1\">\n",
    "    <div class=\"head1__name\">\n",
    "        Check stationary solution\n",
    "    </div>\n",
    "</div>\n",
    "\n",
    "We calculate rhs (for the large value $\\tau$ of time)\n",
    "$$\n",
    "    rhs(x)\n",
    "    =\n",
    "    \\sum_{i=1}^d \\sum_{j=1}^d\n",
    "        \\frac{\\partial^2}{\\partial x_i \\partial x_j}\n",
    "        \\left[ D_{ij}(x, \\tau) \\rho_{stat}(x) \\right]\n",
    "    - \\sum_{i=1}^d\n",
    "        \\frac{\\partial}{\\partial x_i}\n",
    "        \\left[ f_i(x, \\tau) \\rho_{stat}(x) \\right],\n",
    "$$\n",
    "using Chebyshev grid and Chebyshev differential matrices ($D_1$, $D_2$)\n",
    "$$\n",
    "    \\begin{split}\n",
    "        rhs\n",
    "        & =\n",
    "        D_c (D_2 \\otimes I \\otimes \\ldots \\otimes I) \\rho_{stat} +\n",
    "        \\ldots +\n",
    "        D_c (I \\otimes I \\otimes \\ldots \\otimes D_2) \\rho_{stat} -\n",
    "        \\\\ & -\n",
    "        (D_1 \\otimes I \\otimes \\ldots \\otimes I) ( f_1 \\rho_{stat} ) -\n",
    "        \\ldots -\n",
    "        (I \\otimes I \\otimes \\ldots \\otimes D_1) ( f_d \\rho_{stat} ),\n",
    "    \\end{split}\n",
    "$$\n",
    "and check if it close to zero."
   ]
  },
  {
   "cell_type": "code",
   "execution_count": 5,
   "metadata": {},
   "outputs": [
    {
     "name": "stdout",
     "output_type": "stream",
     "text": [
      "Norm of rho : 1.32e-03\n",
      "Norm of rhs : 3.15e-03\n"
     ]
    }
   ],
   "source": [
    "from intertrain import Intertrain\n",
    "\n",
    "t_min, t_max, t_poi = +0., +5., 100\n",
    "x_min, x_max, x_poi = -3., +3., 11\n",
    "\n",
    "IT = Intertrain(n=[x_poi]*3, l=[[-3., 3.], [-3., 3.], [-3., 3.]], with_tt=False)\n",
    "IT.init(func_rs)\n",
    "\n",
    "I0 = np.eye(x_poi)\n",
    "J0 = np.eye(x_poi); J0[0, 0] = 0.; J0[-1, -1] = 0.\n",
    "D1 = IT.dif1()\n",
    "D2 = IT.dif2()\n",
    "\n",
    "t = 100.\n",
    "x = IT.grid()\n",
    "f = func_f0(x, t)\n",
    "r = IT.Y.reshape(-1, order='F')\n",
    "\n",
    "rhs = D_coef * np.kron(D2, np.kron(I0, I0)) @ r\n",
    "rhs+= D_coef * np.kron(I0, np.kron(D2, I0)) @ r\n",
    "rhs+= D_coef * np.kron(I0, np.kron(I0, D2)) @ r\n",
    "rhs-= np.kron(D1, np.kron(I0, I0)) @ (f[0, :] * r)\n",
    "rhs-= np.kron(D1, np.kron(D1, I0)) @ (f[1, :] * r)\n",
    "rhs-= np.kron(I0, np.kron(I0, D1)) @ (f[2, :] * r)\n",
    "rhs = np.kron(J0, np.kron(J0, J0)) @ rhs\n",
    "\n",
    "print('Norm of rho : %-8.2e'%(np.linalg.norm(r) / (x_max - x_min)**d))\n",
    "print('Norm of rhs : %-8.2e'%(np.linalg.norm(rhs) / (x_max - x_min)**d))"
   ]
  },
  {
   "cell_type": "markdown",
   "metadata": {},
   "source": [
    "<div class=\"end\"></div>"
   ]
  }
 ],
 "metadata": {
  "kernelspec": {
   "display_name": "Python 3",
   "language": "python",
   "name": "python3"
  },
  "language_info": {
   "codemirror_mode": {
    "name": "ipython",
    "version": 3
   },
   "file_extension": ".py",
   "mimetype": "text/x-python",
   "name": "python",
   "nbconvert_exporter": "python",
   "pygments_lexer": "ipython3",
   "version": "3.7.1"
  }
 },
 "nbformat": 4,
 "nbformat_minor": 2
}
