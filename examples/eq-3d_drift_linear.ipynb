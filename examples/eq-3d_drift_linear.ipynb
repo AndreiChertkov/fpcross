{
 "cells": [
  {
   "cell_type": "markdown",
   "metadata": {},
   "source": [
    "<div class=\"head0\">\n",
    "    <div class=\"head0__name\">\n",
    "        Diffusion equation with linear drift in 3D case\n",
    "    </div>\n",
    "    <div class=\"head0__note\">\n",
    "        Solution of the 3D Fokker-Planck equation by fast and accurate tensor based method with linear drift (Ornstein–Uhlenbeck process).\n",
    "    </div>\n",
    "</div>"
   ]
  },
  {
   "cell_type": "code",
   "execution_count": 1,
   "metadata": {},
   "outputs": [
    {
     "name": "stdout",
     "output_type": "stream",
     "text": [
      "Start |  5:45PM MSK on Sep 03, 2019 |\n",
      "-------------------------------------\n"
     ]
    }
   ],
   "source": [
    "import sys\n",
    "import time\n",
    "\n",
    "import numpy as np\n",
    "import scipy.sparse as sp\n",
    "from scipy.integrate import solve_ivp\n",
    "from scipy.linalg import expm as expm\n",
    "import matplotlib.pyplot as plt\n",
    "\n",
    "sys.path.extend(['./../lib', './../helpers'])\n",
    "from intertrain import Intertrain\n",
    "from solver import Solver as Solver\n",
    "\n",
    "from helpers import init_jupyter; init_jupyter()"
   ]
  },
  {
   "cell_type": "code",
   "execution_count": 9,
   "metadata": {},
   "outputs": [],
   "source": [
    "A = 1.\n",
    "s = 1.\n",
    "dc = 0.5\n",
    "\n",
    "def func_f0(x, t):\n",
    "    m = 0.\n",
    "    return A * (m - x)\n",
    "\n",
    "def func_f1(x, t):\n",
    "    return -A * np.ones(x.shape)\n",
    "\n",
    "def func_xm(t, x0):\n",
    "    return np.exp(-A * t) * x0\n",
    " \n",
    "def func_xc(t):\n",
    "    return (1. - np.exp(-2. * A * t)) / 2. / A\n",
    "\n",
    "def func_r0(x):\n",
    "    m = 0.\n",
    "    r = np.exp(-0.5 * (x - m)**2 / s) / np.sqrt(2. * np.pi * s)\n",
    "    return np.sum(r, axis=0)\n",
    "\n",
    "def func_rx(x, t, x0):\n",
    "    m = func_xm(t, x0)\n",
    "    c = func_xc(t)\n",
    "    r = np.exp(-0.5 * (x - m)**2 / c) / np.sqrt(2. * np.pi * c)\n",
    "    return r.reshape(-1)\n",
    "\n",
    "def func_rt(x, t):\n",
    "    S = func_xc(t) + s * np.exp(-2. * A * t)\n",
    "    r = np.exp(-0.5 * x**2 / S) / np.sqrt(2. * np.pi * S)\n",
    "    return r.reshape(-1)\n",
    "\n",
    "def func_rs(x):\n",
    "    r = np.sqrt(A / np.pi) * np.exp(- A * x * x)\n",
    "    return r.reshape(-1)"
   ]
  },
  {
   "cell_type": "code",
   "execution_count": 10,
   "metadata": {},
   "outputs": [],
   "source": [
    "t_poi = 10\n",
    "t_min = 0.\n",
    "t_max = 3.0\n",
    "\n",
    "x_poi = 10\n",
    "x_min = -5.\n",
    "x_max = +5.\n",
    "\n",
    "d = 3\n",
    "m = t_poi\n",
    "n = x_poi\n",
    "l = (x_max - x_min) / x_poi\n",
    "h = (t_max - t_min) / (t_poi - 1)\n",
    "T = np.linspace(t_min, t_max, t_poi)"
   ]
  },
  {
   "cell_type": "markdown",
   "metadata": {},
   "source": [
    "<div class=\"head1\">\n",
    "    <div class=\"head1__name\">\n",
    "        Explicit solution\n",
    "    </div>\n",
    "    <div class=\"head1__note\">\n",
    "        Euler solver and uniform spatial grid (only for example)\n",
    "    </div>\n",
    "</div>\n",
    "\n",
    "We can solve this 1D equation on the uniform spatial grid for the time $t > 0$ with step $h$ and uniform spatial grid with step $l$ using 2th order finite difference scheme\n",
    "\n",
    "$$\n",
    "    \\frac{\\partial \\rho}{\\partial t} = (D + \\widehat{Q}) \\rho,\n",
    "$$\n",
    "where\n",
    "$$\n",
    "    \\widehat{Q} \\rho = f Q \\rho - \\frac{\\partial f}{\\partial x} \\rho,\n",
    "$$\n",
    "\n",
    "$$\n",
    "    D = \\frac{1}{l^2} tridiag \\left( 1, -2, 1 \\right),\n",
    "    \\quad\n",
    "    Q = \\frac{1}{2 l} tridiag \\left( -1, 0, 1 \\right).\n",
    "$$\n",
    "\n",
    "Let apply 1th order splitting method on the time step $(k+1)$\n",
    "$$\n",
    "    \\frac{\\partial v}{\\partial t} = D v,\n",
    "    \\quad\n",
    "    v_{k} = \\rho_{k},\n",
    "    \\quad\n",
    "    v_{k+1} = v = ?,\n",
    "$$\n",
    "$$\n",
    "    \\frac{\\partial w}{\\partial t} = \\widehat{Q} w,\n",
    "    \\quad\n",
    "    w_{k} = v,\n",
    "    \\quad\n",
    "    w_{k+1} = \\rho_{k+1} = ?,\n",
    "$$\n",
    "and solve both ODE by the 1th order Euler method."
   ]
  },
  {
   "cell_type": "code",
   "execution_count": 15,
   "metadata": {},
   "outputs": [
    {
     "name": "stdout",
     "output_type": "stream",
     "text": [
      "(3, 512)\n",
      "(1536, 1536)\n"
     ]
    },
    {
     "ename": "ValueError",
     "evalue": "shapes (1536,1536) and (512,512) not aligned: 1536 (dim 1) != 512 (dim 0)",
     "output_type": "error",
     "traceback": [
      "\u001b[0;31m---------------------------------------------------------------------------\u001b[0m",
      "\u001b[0;31mValueError\u001b[0m                                Traceback (most recent call last)",
      "\u001b[0;32m<ipython-input-15-450c511b227d>\u001b[0m in \u001b[0;36m<module>\u001b[0;34m\u001b[0m\n\u001b[1;32m     24\u001b[0m     \u001b[0;31m# w1 = ZD @ w0\u001b[0m\u001b[0;34m\u001b[0m\u001b[0;34m\u001b[0m\u001b[0;34m\u001b[0m\u001b[0m\n\u001b[1;32m     25\u001b[0m     \u001b[0mv0\u001b[0m \u001b[0;34m=\u001b[0m \u001b[0mw1\u001b[0m\u001b[0;34m\u001b[0m\u001b[0;34m\u001b[0m\u001b[0m\n\u001b[0;32m---> 26\u001b[0;31m     \u001b[0mv1\u001b[0m \u001b[0;34m=\u001b[0m \u001b[0mv0\u001b[0m \u001b[0;34m-\u001b[0m \u001b[0mh\u001b[0m \u001b[0;34m*\u001b[0m \u001b[0mF0\u001b[0m \u001b[0;34m@\u001b[0m \u001b[0mQ\u001b[0m \u001b[0;34m@\u001b[0m \u001b[0mv0\u001b[0m \u001b[0;34m-\u001b[0m \u001b[0mh\u001b[0m \u001b[0;34m*\u001b[0m \u001b[0mF1\u001b[0m \u001b[0;34m@\u001b[0m \u001b[0mv0\u001b[0m\u001b[0;34m\u001b[0m\u001b[0;34m\u001b[0m\u001b[0m\n\u001b[0m\u001b[1;32m     27\u001b[0m     \u001b[0mr\u001b[0m \u001b[0;34m=\u001b[0m \u001b[0mv1\u001b[0m\u001b[0;34m\u001b[0m\u001b[0;34m\u001b[0m\u001b[0m\n\u001b[1;32m     28\u001b[0m \u001b[0;34m\u001b[0m\u001b[0m\n",
      "\u001b[0;31mValueError\u001b[0m: shapes (1536,1536) and (512,512) not aligned: 1536 (dim 1) != 512 (dim 0)"
     ]
    }
   ],
   "source": [
    "_time = time.time()\n",
    "\n",
    "X = [np.linspace(x_min, x_max, x_poi).reshape(1, -1)[:, 1:-1] for _ in range(d)]\n",
    "X = np.meshgrid(*X, indexing='ij')\n",
    "X = np.array(X).reshape((d, -1), order='F')\n",
    "\n",
    "I = np.eye(x_poi-2)\n",
    "Q = sp.spdiags([ [-1.]*n, [1.]*n ], [-1,  1], n, n).tocsr() \n",
    "Q = (Q / 2 / l).toarray()[1:-1, 1:-1]\n",
    "Q = np.kron(np.kron(Q, I), I) + np.kron(np.kron(I, Q), I) + np.kron(np.kron(I, I), Q)\n",
    "D = sp.spdiags([ [1.]*n, [-2.]*n, [1.]*n ], [-1, 0, 1], n, n).tocsr() \n",
    "D = (D / l / l).toarray()[1:-1, 1:-1]\n",
    "D = dc * D\n",
    "D = np.kron(np.kron(D, I), I) + np.kron(np.kron(I, D), I) + np.kron(np.kron(I, I), D)\n",
    "\n",
    "r = func_r0(X).reshape(-1, 1)\n",
    "for t in T[1:]:\n",
    "    F0 = np.diag(func_f0(X, t).reshape(-1))\n",
    "    F1 = np.diag(func_f1(X, t).reshape(-1))\n",
    "    print(X.shape)\n",
    "    print(F0.shape)\n",
    "    w0 = r\n",
    "    w1 = w0 + h * D @ w0\n",
    "    v0 = w1\n",
    "    v1 = v0 - h * F0 @ Q @ v0 - h * F1 @ v0\n",
    "    r = v1\n",
    "    \n",
    "_time = time.time() - _time\n",
    "\n",
    "print('Number of spatial points : %8d'%x_poi)\n",
    "print('Number of time points    : %8d'%t_poi)\n",
    "#print('Error (relative norm)    : %-12.2e'%e)\n",
    "print('Total time (sec)         : %-12.2e'%_time)\n",
    "print(np.linalg.norm(r))"
   ]
  },
  {
   "cell_type": "markdown",
   "metadata": {},
   "source": [
    "<div class=\"head1\">\n",
    "    <div class=\"head1__name\">\n",
    "        Solution by the solver\n",
    "    </div>\n",
    "</div>"
   ]
  },
  {
   "cell_type": "code",
   "execution_count": null,
   "metadata": {},
   "outputs": [],
   "source": [
    "SL = Solver(d=1, with_tt=False)\n",
    "SL.set_grid_t(t_poi, t_min, t_max, t_poi_hst=10)\n",
    "SL.set_grid_x(x_poi, x_min, x_max)\n",
    "SL.set_funcs(func_f0, func_f1, func_r0, func_rt, func_rs)\n",
    "SL.set_coefs(dc)\n",
    "SL.prep()\n",
    "SL.calc()"
   ]
  },
  {
   "cell_type": "code",
   "execution_count": null,
   "metadata": {},
   "outputs": [],
   "source": [
    "m = 1000\n",
    "N = [10, 50, 100, 200]\n",
    "Times = []\n",
    "Errors = []\n",
    "\n",
    "for n in N:\n",
    "    SL = Solver(d=1, with_tt=False)\n",
    "    SL.set_grid_t(m, t_min, t_max)\n",
    "    SL.set_grid_x(n, x_min, x_max)\n",
    "    SL.set_funcs(func_f0, func_f1, func_r0, func_rt, func_rs)\n",
    "    SL.set_coefs(dc)\n",
    "    SL.prep()\n",
    "    SL.calc()\n",
    "    u_calc = SL.R[-1]\n",
    "    u_real = func_rt(SL.X.reshape(1, -1), SL.T[-1])\n",
    "    e = np.linalg.norm(u_real - u_calc) / np.linalg.norm(u_real)\n",
    "    \n",
    "    Times.append([SL._t_prep, SL._t_calc])\n",
    "    Errors.append(e)"
   ]
  },
  {
   "cell_type": "code",
   "execution_count": null,
   "metadata": {},
   "outputs": [],
   "source": [
    "plt.plot(N, Errors)\n",
    "plt.semilogx()\n",
    "plt.semilogy()\n",
    "plt.title('Relative error at final time step (tpoi=%d)'%m)\n",
    "plt.xlabel('Number of spatial points')\n",
    "plt.ylabel('Relative error')\n",
    "plt.show()\n",
    "\n",
    "print('\\n\\nSolver info for n = %d, m = %d : '%(N[-1], m))\n",
    "SL.info()"
   ]
  },
  {
   "cell_type": "markdown",
   "metadata": {},
   "source": [
    "<div class=\"end\"></div>"
   ]
  }
 ],
 "metadata": {
  "kernelspec": {
   "display_name": "Python 3",
   "language": "python",
   "name": "python3"
  },
  "language_info": {
   "codemirror_mode": {
    "name": "ipython",
    "version": 3
   },
   "file_extension": ".py",
   "mimetype": "text/x-python",
   "name": "python",
   "nbconvert_exporter": "python",
   "pygments_lexer": "ipython3",
   "version": "3.7.1"
  }
 },
 "nbformat": 4,
 "nbformat_minor": 2
}
