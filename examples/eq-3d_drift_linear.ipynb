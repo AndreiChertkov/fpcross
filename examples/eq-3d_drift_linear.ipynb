{
 "cells": [
  {
   "cell_type": "markdown",
   "metadata": {},
   "source": [
    "<div class=\"head0\">\n",
    "    <div class=\"head0__name\">\n",
    "        Diffusion equation with linear drift in 3D case\n",
    "    </div>\n",
    "    <div class=\"head0__note\">\n",
    "        Solution of the 3D Fokker-Planck equation with linear drift (multivariate Ornstein–Uhlenbeck process) by fast and accurate tensor based method.\n",
    "    </div>\n",
    "</div>"
   ]
  },
  {
   "cell_type": "code",
   "execution_count": 1,
   "metadata": {},
   "outputs": [
    {
     "name": "stdout",
     "output_type": "stream",
     "text": [
      "Start |  2:53PM MSK on Sep 05, 2019 |\n",
      "-------------------------------------\n"
     ]
    },
    {
     "data": {
      "text/html": [
       "<style>div {\n",
       "  margin: 0;\n",
       "  padding: 0;\n",
       "}\n",
       "\n",
       ".head0 {\n",
       "  padding: 10px;\n",
       "  display: flex;\n",
       "  background-color: #dedee2;\n",
       "}\n",
       ".head0__name {\n",
       "  padding-right: 5px;\n",
       "  flex: 1 1 50%;\n",
       "  align-self: center;\n",
       "  font-size: 36px;\n",
       "  font-weight: bold;\n",
       "  color: #6b7e51;\n",
       "}\n",
       ".head0__note {\n",
       "  padding-left: 10px;\n",
       "  flex: 1 1 50%;\n",
       "  align-self: flex-end;\n",
       "  font-size: 16px;\n",
       "  font-style: italic;\n",
       "  color: #485536;\n",
       "  border-left: 5px solid #8b1d1d;\n",
       "}\n",
       "\n",
       ".head1 {\n",
       "  margin-top: 30px;\n",
       "  padding: 10px;\n",
       "  border-top: 5px solid #8b1d1d;\n",
       "}\n",
       ".head1__name {\n",
       "  font-size: 32px;\n",
       "  font-weight: bold;\n",
       "  color: #485536;\n",
       "}\n",
       ".head1__note {\n",
       "  padding-left: 20px;\n",
       "  font-size: 20px;\n",
       "  font-style: italic;\n",
       "  color: #485536;\n",
       "}\n",
       "\n",
       ".head2 {\n",
       "  margin-top: 7px;\n",
       "  padding: 5px 30px 5px;\n",
       "  border-left: 2px solid #42d56e;\n",
       "}\n",
       ".head2__name {\n",
       "  display: inline-block;\n",
       "  max-width: 70%;\n",
       "  padding: 2px 10px;\n",
       "  font-size: 22px;\n",
       "  font-weight: bold;\n",
       "  color: #145929;\n",
       "  border-bottom: 2px solid #42d56e;\n",
       "}\n",
       ".head2__note {\n",
       "  padding: 5px 10px 0px;\n",
       "  font-size: 14px;\n",
       "  font-style: italic;\n",
       "  color: #485536;\n",
       "}\n",
       "\n",
       ".head3 {\n",
       "  margin-top: 5px;\n",
       "  padding: 3px 40px 3px;\n",
       "  border-left: 2px dotted #485536;\n",
       "}\n",
       ".head3__name {\n",
       "  display: inline-block;\n",
       "  max-width: 70%;\n",
       "  padding: 2px 10px;\n",
       "  font-size: 20px;\n",
       "  font-weight: bold;\n",
       "  color: #145929;\n",
       "  border-bottom: 2px dotted #485536;\n",
       "}\n",
       ".head3__note {\n",
       "  padding: 2px 10px 0px;\n",
       "  font-size: 12px;\n",
       "  font-style: italic;\n",
       "  color: #485536;\n",
       "}\n",
       "\n",
       ".warn {\n",
       "  background-color: #fcf2f2;\n",
       "  border-color: #dfb5b4;\n",
       "  border-left: 5px solid #dfb5b4;\n",
       "  padding: 0.5em;\n",
       "}\n",
       ".note {\n",
       "  color: red;\n",
       "}\n",
       ".note::before {\n",
       "  content: 'Note. ';\n",
       "  font-weight: bold;\n",
       "  color: blue;\n",
       "}\n",
       "\n",
       ".end {\n",
       "  padding: 5px;\n",
       "  border-top: 5px solid #8b1d1d;\n",
       "  border-bottom: 5px solid #8b1d1d;\n",
       "}\n",
       "</style>"
      ],
      "text/plain": [
       "<IPython.core.display.HTML object>"
      ]
     },
     "execution_count": 1,
     "metadata": {},
     "output_type": "execute_result"
    }
   ],
   "source": [
    "import sys\n",
    "\n",
    "import numpy as np\n",
    "import matplotlib.pyplot as plt\n",
    "\n",
    "sys.path.extend(['./../lib', './../helpers'])\n",
    "from solver import Solver as Solver\n",
    "from helpers import init_jupyter; init_jupyter()"
   ]
  },
  {
   "cell_type": "markdown",
   "metadata": {},
   "source": [
    "<div class=\"head1\">\n",
    "    <div class=\"head1__name\">\n",
    "        Model problem\n",
    "    </div>\n",
    "</div>\n",
    "\n",
    "Consider SDE\n",
    "$$\n",
    "    dx = f(x, t) \\, dt + S(x, t) \\, d\\beta,\n",
    "    \\quad\n",
    "    d\\beta \\, d\\beta^{\\top} = Q(t) dt,\n",
    "    \\quad\n",
    "    x(0) = x_0 \\sim \\rho(x, 0) = \\rho_0 (x),\n",
    "$$\n",
    "where spatial $d$-dimensional ($d \\ge 1$) variable $x \\in R^d$ has probability density function (PDF) $\\rho(x, t)$, $\\beta$ is Brownian motion of dimension $q$ ($q \\ge 1$, and we assume below that $q = d$), $f(x, t) \\in R^d$ is a vector-function and $S(x, t) \\in R^{d \\times q}$ is a matrix-function.\n",
    "\n",
    "It can be shown that the PDF $\\rho(x, t)$ at time $t$ ($t > 0$) is the solution of the Fokker-Planck equation\n",
    "$$\n",
    "    \\frac{\\partial \\rho(x, t)}{\\partial t} =\n",
    "        - \\sum_{i=1}^d\n",
    "            \\frac{\\partial}{\\partial x_i}\n",
    "            \\left[ f_i(x, t) \\rho(x, t) \\right]\n",
    "        + \\sum_{i=1}^d \\sum_{j=1}^d\n",
    "            \\frac{\\partial^2}{\\partial x_i \\partial x_j}\n",
    "            \\left[ D_{ij}(x, t) \\rho(x, t) \\right],\n",
    "    \\quad\n",
    "    \\rho(x, 0) = \\rho_0(x),\n",
    "$$\n",
    "where $D(x, t)$ is a diffusion tensor of the form\n",
    "$$\n",
    "    D(x, t) = \\frac{1}{2} S(x, t) Q S^{\\top}(x, t).\n",
    "$$\n",
    "\n",
    "Let\n",
    "$$\n",
    "    f(x, t) \\equiv A \\left( \\mu - x(t) \\right),\n",
    "    \\quad\n",
    "    S(x, t) \\equiv S,\n",
    "    \\quad\n",
    "    D(x, t) \\equiv I,\n",
    "$$\n",
    "then we come to the multivariate Ornstein–Uhlenbeck process\n",
    "$$\n",
    "    d \\, x(t) = A \\left( \\mu - x(t) \\right) d \\, t + S d \\, \\beta(t),\n",
    "$$\n",
    "$$\n",
    "    \\frac{\\partial \\rho}{\\partial t} =\n",
    "        \\Delta \\rho - A div \\left[ \\left( \\mu - x(t) \\right) \\rho \\right],\n",
    "    \\quad\n",
    "    \\rho(x, 0) = \\rho_0(x),\n",
    "$$\n",
    "\n",
    "where\n",
    "\n",
    "- $x \\in R^d$ is a stochastic process;\n",
    "\n",
    "- $\\beta \\in R^q$ is a Brownian motion;\n",
    "\n",
    "- $\\mu \\in R^{d}$ is the long-term mean;\n",
    "\n",
    "- $A \\in R^{d \\times d}$ is the velocity (invertible real matrix);\n",
    "\n",
    "- $S \\in R^{d \\times q}$ are the friction coefficients (positive real matrix).\n",
    "\n",
    "It can be shown (see [Alternative way to derive the distribution of the multivariate Ornstein–Uhlenbeck process](https://advancesindifferenceequations.springeropen.com/articles/10.1186/s13662-019-2214-1)) that\n",
    "\n",
    "- Mean vector\n",
    "$\n",
    "    M(t, x_0) = e^{-A t} x_0 + \\left( I - e^{-A t} \\right) \\mu\n",
    "$;\n",
    "\n",
    "- Covariance matrix\n",
    "$\n",
    "    \\Sigma(t) = \\int_0^t e^{A (s-t)} S S^T e^{A^T (s-t)} d \\, s\n",
    "$;\n",
    "\n",
    "- Transitional PDF\n",
    "$\n",
    "    \\rho(x, t, x_0) =\n",
    "        \\frac{1}{\\sqrt{ | 2 \\pi \\Sigma(t) | }}\n",
    "        exp \\left[\n",
    "            -\\frac{1}{2} (x - M(t, x_0))^T \\Sigma^{-1}(t) (x - M(t, x_0))\n",
    "        \\right]\n",
    "$.\n",
    "\n",
    "- The (multivariate) Ornstein–Uhlenbeck process, at any time, is a (multivariate) normal random variable.\n",
    "\n",
    "- The Ornstein–Uhlenbeck process is mean-reverting (the solution tends to its long-term mean $\\mu$ as time $t$ tends to infinity) if all eigenvalues of $A$ are positive (if $A > 0$ in the one dimensional case)."
   ]
  },
  {
   "cell_type": "code",
   "execution_count": 8,
   "metadata": {},
   "outputs": [],
   "source": [
    "d = 3\n",
    "s = 0.1\n",
    "A = np.array([\n",
    "    [1., 0., 0.],\n",
    "    [0., 1., 0.],\n",
    "    [0., 0., 1.],\n",
    "])\n",
    "W = np.linalg.inv(A) / 2.\n",
    "Wd = np.linalg.det(W)\n",
    "Dc = 0.5\n",
    "\n",
    "def func_f0(x, t):\n",
    "    return -A @ x\n",
    "\n",
    "def func_f1(x, t):\n",
    "    return -A @ np.ones(x.shape)\n",
    "\n",
    "def func_r0(x):\n",
    "    r = np.exp(-0.5 * x**2 / s) / np.sqrt(2. * np.pi * s)\n",
    "    return np.sum(r, axis=0)\n",
    "\n",
    "def func_rs(x):\n",
    "    r = np.exp(np.diag(-x.T @ (A @ x)))\n",
    "    r/= np.sqrt(2**d * np.pi**d * Wd)\n",
    "    return r"
   ]
  },
  {
   "cell_type": "markdown",
   "metadata": {},
   "source": [
    "<div class=\"head1\">\n",
    "    <div class=\"head1__name\">\n",
    "        Parameters\n",
    "    </div>\n",
    "</div>"
   ]
  },
  {
   "cell_type": "code",
   "execution_count": 9,
   "metadata": {},
   "outputs": [],
   "source": [
    "t_poi = 1000\n",
    "t_min = 0.\n",
    "t_max = 10.0\n",
    "\n",
    "x_poi = 10\n",
    "x_min = -2.\n",
    "x_max = +2."
   ]
  },
  {
   "cell_type": "markdown",
   "metadata": {},
   "source": [
    "<div class=\"head1\">\n",
    "    <div class=\"head1__name\">\n",
    "        Solution by the solver\n",
    "    </div>\n",
    "</div>"
   ]
  },
  {
   "cell_type": "code",
   "execution_count": 10,
   "metadata": {},
   "outputs": [
    {
     "name": "stderr",
     "output_type": "stream",
     "text": [
      "Solve: 100%|█| 999/999 [01:02<00:00, 16.02step/s, | At T = 1.00e+01 : error stat = 1.00e+00]\n"
     ]
    }
   ],
   "source": [
    "SL = Solver(d=3, with_tt=False)\n",
    "SL.set_grid_t(t_poi, t_min, t_max, t_hst=10)\n",
    "SL.set_grid_x(x_poi, x_min, x_max)\n",
    "SL.set_funcs(func_f0, func_f1, func_r0, None, func_rs)\n",
    "SL.set_coefs(Dc)\n",
    "SL.prep()\n",
    "SL.calc()"
   ]
  },
  {
   "cell_type": "code",
   "execution_count": 11,
   "metadata": {},
   "outputs": [
    {
     "data": {
      "image/png": "[encoded data removed]",
      "text/plain": [
       "<Figure size 432x288 with 1 Axes>"
      ]
     },
     "metadata": {
      "needs_background": "light"
     },
     "output_type": "display_data"
    },
    {
     "data": {
      "image/png": "[encoded data removed]",
      "text/plain": [
       "<Figure size 432x288 with 1 Axes>"
      ]
     },
     "metadata": {
      "needs_background": "light"
     },
     "output_type": "display_data"
    }
   ],
   "source": [
    "r_calc = r = SL.IT.calc(SL.X_hst)\n",
    "r_real = SL.func_rs(SL.X_hst)\n",
    "e = np.abs((r_calc - r_real) / r_real)\n",
    "x = np.arange(r_calc.size)\n",
    "I = r_real > 1.E-24\n",
    "plt.plot(x[I], r_calc[I], label='Calc')\n",
    "plt.plot(x[I], r_real[I], '-.', label='Real')\n",
    "plt.semilogy()\n",
    "plt.title('Solution at time %-4.2f sec.'%SL.t)\n",
    "plt.xlabel('Spatial point number')\n",
    "plt.ylabel('Solution')\n",
    "plt.legend(loc='best')\n",
    "plt.show()\n",
    "\n",
    "plt.plot(x[I], e[I])\n",
    "plt.semilogy()\n",
    "plt.title('Relative error at time %-4.2f sec.'%SL.t)\n",
    "plt.xlabel('Spatial point number')\n",
    "plt.ylabel('Error')\n",
    "plt.show()"
   ]
  },
  {
   "cell_type": "code",
   "execution_count": null,
   "metadata": {},
   "outputs": [],
   "source": []
  },
  {
   "cell_type": "code",
   "execution_count": null,
   "metadata": {},
   "outputs": [],
   "source": []
  },
  {
   "cell_type": "code",
   "execution_count": null,
   "metadata": {},
   "outputs": [],
   "source": []
  },
  {
   "cell_type": "markdown",
   "metadata": {},
   "source": [
    "<div class=\"head1\">\n",
    "    <div class=\"head1__name\">\n",
    "        Explicit solution\n",
    "    </div>\n",
    "    <div class=\"head1__note\">\n",
    "        Only for example.\n",
    "    </div>\n",
    "</div>"
   ]
  },
  {
   "cell_type": "code",
   "execution_count": null,
   "metadata": {},
   "outputs": [],
   "source": [
    "import time\n",
    "import scipy.sparse as sp\n",
    "from scipy.integrate import solve_ivp\n",
    "from scipy.linalg import expm as expm\n",
    "\n",
    "from intertrain import Intertrain"
   ]
  },
  {
   "cell_type": "code",
   "execution_count": null,
   "metadata": {},
   "outputs": [],
   "source": [
    "d = 3\n",
    "m = t_poi\n",
    "n = x_poi\n",
    "l = (x_max - x_min) / x_poi\n",
    "h = (t_max - t_min) / (t_poi - 1)\n",
    "T = np.linspace(t_min, t_max, t_poi)"
   ]
  },
  {
   "cell_type": "markdown",
   "metadata": {},
   "source": [
    "<div class=\"head2\">\n",
    "    <div class=\"head2__name\">\n",
    "        Euler solver and uniform spatial grid\n",
    "    </div>\n",
    "</div>\n",
    "\n",
    "We can solve this 1D equation on the uniform spatial grid for the time $t > 0$ with step $h$ and uniform spatial grid with step $l$ using 2th order finite difference scheme\n",
    "\n",
    "$$\n",
    "    \\frac{\\partial \\rho}{\\partial t} = (D + \\widehat{Q}) \\rho,\n",
    "$$\n",
    "where\n",
    "$$\n",
    "    \\widehat{Q} \\rho = f Q \\rho - \\frac{\\partial f}{\\partial x} \\rho,\n",
    "$$\n",
    "\n",
    "$$\n",
    "    D = \\frac{1}{l^2} tridiag \\left( 1, -2, 1 \\right),\n",
    "    \\quad\n",
    "    Q = \\frac{1}{2 l} tridiag \\left( -1, 0, 1 \\right).\n",
    "$$\n",
    "\n",
    "Let apply 1th order splitting method on the time step $(k+1)$\n",
    "$$\n",
    "    \\frac{\\partial v}{\\partial t} = D v,\n",
    "    \\quad\n",
    "    v_{k} = \\rho_{k},\n",
    "    \\quad\n",
    "    v_{k+1} = v = ?,\n",
    "$$\n",
    "$$\n",
    "    \\frac{\\partial w}{\\partial t} = \\widehat{Q} w,\n",
    "    \\quad\n",
    "    w_{k} = v,\n",
    "    \\quad\n",
    "    w_{k+1} = \\rho_{k+1} = ?,\n",
    "$$\n",
    "and solve both ODE by the 1th order Euler method."
   ]
  },
  {
   "cell_type": "code",
   "execution_count": null,
   "metadata": {},
   "outputs": [],
   "source": [
    "_time = time.time()\n",
    "\n",
    "X = [np.linspace(x_min, x_max, x_poi).reshape(1, -1)[:, 1:-1] for _ in range(d)]\n",
    "X = np.meshgrid(*X, indexing='ij')\n",
    "X = np.array(X).reshape((d, -1), order='F')\n",
    "\n",
    "I = np.eye(x_poi-2)\n",
    "Q = sp.spdiags([ [-1.]*n, [1.]*n ], [-1,  1], n, n).tocsr() \n",
    "Q = (Q / 2 / l).toarray()[1:-1, 1:-1]\n",
    "Q = np.kron(np.kron(Q, I), I) + np.kron(np.kron(I, Q), I) + np.kron(np.kron(I, I), Q)\n",
    "D = sp.spdiags([ [1.]*n, [-2.]*n, [1.]*n ], [-1, 0, 1], n, n).tocsr() \n",
    "D = (D / l / l).toarray()[1:-1, 1:-1]\n",
    "D = dc * D\n",
    "D = np.kron(np.kron(D, I), I) + np.kron(np.kron(I, D), I) + np.kron(np.kron(I, I), D)\n",
    "\n",
    "r = func_r0(X).reshape(-1, 1)\n",
    "for t in T[1:]:\n",
    "    F0 = np.diag(func_f0(X, t).reshape(-1))\n",
    "    F1 = np.diag(func_f1(X, t).reshape(-1))\n",
    "    print(X.shape)\n",
    "    print(F0.shape)\n",
    "    w0 = r\n",
    "    w1 = w0 + h * D @ w0\n",
    "    v0 = w1\n",
    "    v1 = v0 - h * F0 @ Q @ v0 - h * F1 @ v0\n",
    "    r = v1\n",
    "    \n",
    "_time = time.time() - _time\n",
    "\n",
    "print('Number of spatial points : %8d'%x_poi)\n",
    "print('Number of time points    : %8d'%t_poi)\n",
    "#print('Error (relative norm)    : %-12.2e'%e)\n",
    "print('Total time (sec)         : %-12.2e'%_time)\n",
    "print(np.linalg.norm(r))"
   ]
  },
  {
   "cell_type": "markdown",
   "metadata": {},
   "source": [
    "<div class=\"end\"></div>"
   ]
  }
 ],
 "metadata": {
  "kernelspec": {
   "display_name": "Python 3",
   "language": "python",
   "name": "python3"
  },
  "language_info": {
   "codemirror_mode": {
    "name": "ipython",
    "version": 3
   },
   "file_extension": ".py",
   "mimetype": "text/x-python",
   "name": "python",
   "nbconvert_exporter": "python",
   "pygments_lexer": "ipython3",
   "version": "3.7.1"
  }
 },
 "nbformat": 4,
 "nbformat_minor": 2
}
