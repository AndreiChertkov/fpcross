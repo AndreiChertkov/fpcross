{
 "cells": [
  {
   "cell_type": "code",
   "execution_count": 1,
   "metadata": {},
   "outputs": [
    {
     "data": {
      "text/html": [
       "<style>div {\n",
       "  margin: 0;\n",
       "  padding: 0;\n",
       "}\n",
       "\n",
       ".head0 {\n",
       "  padding: 10px;\n",
       "  display: flex;\n",
       "  background-color: #dedee2;\n",
       "}\n",
       ".head0__name {\n",
       "  padding-right: 5px;\n",
       "  flex: 1 1 50%;\n",
       "  align-self: center;\n",
       "  font-size: 36px;\n",
       "  font-weight: bold;\n",
       "  color: #6b7e51;\n",
       "}\n",
       ".head0__note {\n",
       "  padding-left: 10px;\n",
       "  flex: 1 1 50%;\n",
       "  align-self: flex-end;\n",
       "  font-size: 16px;\n",
       "  font-style: italic;\n",
       "  color: #485536;\n",
       "  border-left: 5px solid #8b1d1d;\n",
       "}\n",
       "\n",
       ".head1 {\n",
       "  margin-top: 30px;\n",
       "  padding: 10px;\n",
       "  border-top: 5px solid #8b1d1d;\n",
       "}\n",
       ".head1__name {\n",
       "  font-size: 32px;\n",
       "  font-weight: bold;\n",
       "  color: #485536;\n",
       "}\n",
       ".head1__note {\n",
       "  padding-left: 20px;\n",
       "  font-size: 20px;\n",
       "  font-style: italic;\n",
       "  color: #485536;\n",
       "}\n",
       "\n",
       ".head2 {\n",
       "  margin-top: 7px;\n",
       "  padding: 5px 30px 5px;\n",
       "  border-left: 2px solid #42d56e;\n",
       "}\n",
       ".head2__name {\n",
       "  display: inline-block;\n",
       "  max-width: 70%;\n",
       "  padding: 2px 10px;\n",
       "  font-size: 22px;\n",
       "  font-weight: bold;\n",
       "  color: #145929;\n",
       "  border-bottom: 2px solid #42d56e;\n",
       "}\n",
       ".head2__note {\n",
       "  padding: 5px 10px 0px;\n",
       "  font-size: 14px;\n",
       "  font-style: italic;\n",
       "  color: #485536;\n",
       "}\n",
       "\n",
       ".head3 {\n",
       "  margin-top: 5px;\n",
       "  padding: 3px 40px 3px;\n",
       "  border-left: 2px dotted #485536;\n",
       "}\n",
       ".head3__name {\n",
       "  display: inline-block;\n",
       "  max-width: 70%;\n",
       "  padding: 2px 10px;\n",
       "  font-size: 20px;\n",
       "  font-weight: bold;\n",
       "  color: #145929;\n",
       "  border-bottom: 2px dotted #485536;\n",
       "}\n",
       ".head3__note {\n",
       "  padding: 2px 10px 0px;\n",
       "  font-size: 12px;\n",
       "  font-style: italic;\n",
       "  color: #485536;\n",
       "}\n",
       "\n",
       ".warn {\n",
       "  background-color: #fcf2f2;\n",
       "  border-color: #dfb5b4;\n",
       "  border-left: 5px solid #dfb5b4;\n",
       "  padding: 0.5em;\n",
       "}\n",
       ".note {\n",
       "  color: red;\n",
       "}\n",
       ".note::before {\n",
       "  content: 'Note. ';\n",
       "  font-weight: bold;\n",
       "  color: blue;\n",
       "}\n",
       "\n",
       ".end {\n",
       "  padding: 5px;\n",
       "  border-top: 5px solid #8b1d1d;\n",
       "  border-bottom: 5px solid #8b1d1d;\n",
       "}\n",
       "</style>"
      ],
      "text/plain": [
       "<IPython.core.display.HTML object>"
      ]
     },
     "execution_count": 1,
     "metadata": {},
     "output_type": "execute_result"
    }
   ],
   "source": [
    "import sys\n",
    "import time\n",
    "\n",
    "import numpy as np\n",
    "from scipy.integrate import solve_ivp\n",
    "import matplotlib as mpl\n",
    "import matplotlib.pyplot as plt\n",
    "\n",
    "sys.path.append('./../lib')\n",
    "from intertrain import Intertrain\n",
    "from utils import eul, rk4\n",
    "from config import config\n",
    "\n",
    "from IPython.core.display import HTML\n",
    "with open( './style.css', 'r' ) as f: st = f.read()\n",
    "HTML('<style>%s</style>' %st)"
   ]
  },
  {
   "cell_type": "markdown",
   "metadata": {},
   "source": [
    "<div class=\"head1\">\n",
    "    <div class=\"head1__name\">\n",
    "        Custom solver: Euler\n",
    "    </div>\n",
    "</div>"
   ]
  },
  {
   "cell_type": "code",
   "execution_count": 2,
   "metadata": {},
   "outputs": [],
   "source": [
    "def eul(f, r0, t_min, t_max, t_poi=2):\n",
    "    h = (t_max - t_min) / (t_poi - 1)\n",
    "    t = t_min\n",
    "    r = r0.copy()\n",
    "\n",
    "    for _ in range(1, t_poi):\n",
    "        r+= h * f(r, t)\n",
    "        t+= h\n",
    "        \n",
    "    return r"
   ]
  },
  {
   "cell_type": "markdown",
   "metadata": {},
   "source": [
    "<div class=\"head1\">\n",
    "    <div class=\"head1__name\">\n",
    "        Custom solver : rk4\n",
    "    </div>\n",
    "</div>"
   ]
  },
  {
   "cell_type": "code",
   "execution_count": 3,
   "metadata": {},
   "outputs": [],
   "source": [
    "def rk4(f, r0, t_min, t_max, t_poi=2):\n",
    "    h = (t_max - t_min) / (t_poi - 1)\n",
    "    t = t_min\n",
    "    r = r0.copy()\n",
    "\n",
    "    for _ in range(1, t_poi):\n",
    "        k1 = h * f(r, t)\n",
    "        k2 = h * f(r + 0.5 * k1, t + 0.5 * h)\n",
    "        k3 = h * f(r + 0.5 * k2, t + 0.5 * h)\n",
    "        k4 = h * f(r + k3, t + h)\n",
    "        r+= (k1 + k2 + k2 + k3 + k3 + k4) / 6.\n",
    "        t+= h\n",
    "        \n",
    "    return r"
   ]
  },
  {
   "cell_type": "markdown",
   "metadata": {},
   "source": [
    "<div class=\"head1\">\n",
    "    <div class=\"head1__name\">\n",
    "        Test 1D\n",
    "    </div>\n",
    "</div>\n",
    "\n",
    "Consider\n",
    "$$\n",
    "    d r = f(r, t) \\, d t,\n",
    "    \\quad\n",
    "    r \\in R,\n",
    "    \\quad\n",
    "    r(0) = r_0,\n",
    "$$\n",
    "where\n",
    "$$\n",
    "    f(r, t) = r^2.\n",
    "$$\n",
    "\n",
    "Analytic solution is\n",
    "$$\n",
    "    r(t) = \\frac{r_0}{1 - r_0 t}.\n",
    "$$"
   ]
  },
  {
   "cell_type": "code",
   "execution_count": 2,
   "metadata": {},
   "outputs": [],
   "source": [
    "def func_f0(r, t):\n",
    "    return r*r\n",
    "\n",
    "def func_rt(t):\n",
    "    return r0 / (1. - r0 * t)"
   ]
  },
  {
   "cell_type": "code",
   "execution_count": 3,
   "metadata": {},
   "outputs": [],
   "source": [
    "d = 1\n",
    "t_min = 0.\n",
    "t_max = 0.0001\n",
    "t_poi = 2\n",
    "r0 = -2.5 * np.arange(1000) + 0.2\n",
    "\n",
    "r_real = func_rt(t_max)"
   ]
  },
  {
   "cell_type": "markdown",
   "metadata": {},
   "source": [
    "<div class=\"head2\">\n",
    "    <div class=\"head2__name\">\n",
    "        Solution by custom solver (Euler)\n",
    "    </div>\n",
    "</div>"
   ]
  },
  {
   "cell_type": "code",
   "execution_count": 4,
   "metadata": {},
   "outputs": [
    {
     "name": "stdout",
     "output_type": "stream",
     "text": [
      "Error (mean) : 2.08e-02\n",
      "Time (sec)   : 1.28e-04\n"
     ]
    }
   ],
   "source": [
    "_t = time.time()\n",
    "r_calc = eul(func_f0, r0, t_min, t_max, t_poi)\n",
    "_t = time.time() - _t\n",
    "_e = np.mean(np.abs((r_real - r_calc) / r_real))\n",
    "\n",
    "print('Error (mean) : %-8.2e'%_e)\n",
    "print('Time (sec)   : %-8.2e'%_t)"
   ]
  },
  {
   "cell_type": "markdown",
   "metadata": {},
   "source": [
    "<div class=\"head2\">\n",
    "    <div class=\"head2__name\">\n",
    "        Solution by custom solver (RK4)\n",
    "    </div>\n",
    "</div>"
   ]
  },
  {
   "cell_type": "code",
   "execution_count": 6,
   "metadata": {},
   "outputs": [
    {
     "name": "stdout",
     "output_type": "stream",
     "text": [
      "Error (mean) : 3.29e-06\n",
      "Time (sec)   : 5.91e-04\n"
     ]
    }
   ],
   "source": [
    "_t = time.time()\n",
    "r_calc = rk4(func_f0, r0, t_min, t_max, t_poi)\n",
    "_t = time.time() - _t\n",
    "_e = np.mean(np.abs((r_real - r_calc) / r_real))\n",
    "\n",
    "print('Error (mean) : %-8.2e'%_e)\n",
    "print('Time (sec)   : %-8.2e'%_t)"
   ]
  },
  {
   "cell_type": "markdown",
   "metadata": {},
   "source": [
    "<div class=\"head2\">\n",
    "    <div class=\"head2__name\">\n",
    "        Solution by scipy solver\n",
    "    </div>\n",
    "</div>"
   ]
  },
  {
   "cell_type": "code",
   "execution_count": 7,
   "metadata": {},
   "outputs": [
    {
     "name": "stdout",
     "output_type": "stream",
     "text": [
      "Error (mean) : 1.39e-06\n",
      "Time (sec)   : 1.94e-01\n"
     ]
    }
   ],
   "source": [
    "_t = time.time()\n",
    "r0_ = r0.reshape(1, -1)\n",
    "r = np.zeros(r0_.shape)\n",
    "for j in range(r0_.shape[1]):\n",
    "    def func(t, r):\n",
    "        f = func_f0(r.reshape(-1, 1), t).reshape(-1)\n",
    "        return f\n",
    "\n",
    "    y1 = r0_[:, j]\n",
    "    y2 = solve_ivp(func, [t_min, t_max], y1).y[:, -1]\n",
    "    r[:, j] = y2\n",
    "r_calc = r\n",
    "_t = time.time() - _t\n",
    "_e = np.mean(np.abs((r_real - r_calc) / r_real))\n",
    "\n",
    "print('Error (mean) : %-8.2e'%_e)\n",
    "print('Time (sec)   : %-8.2e'%_t)"
   ]
  },
  {
   "cell_type": "markdown",
   "metadata": {},
   "source": [
    "<div class=\"head2\">\n",
    "    <div class=\"head2__name\">\n",
    "        Comparison of the solvers\n",
    "    </div>\n",
    "</div>"
   ]
  },
  {
   "cell_type": "code",
   "execution_count": 8,
   "metadata": {},
   "outputs": [],
   "source": [
    "T_max = [1E-6, 1E-5, 1E-4, 1E-3]\n",
    "T_rk4, E_rk4 = [], []\n",
    "T_eul, E_eul = [], []\n",
    "T_rks, E_rks = [], []\n",
    "\n",
    "for t_max in T_max:\n",
    "    r_real = func_rt(t_max)\n",
    "    \n",
    "    _t = time.time()\n",
    "    r_calc = rk4(func_f0, r0, t_min, t_max, t_poi)\n",
    "    e = np.mean(np.abs((r_real - r_calc) / r_real))\n",
    "    E_rk4.append(e)\n",
    "    T_rk4.append(time.time() - _t)\n",
    "    \n",
    "    _t = time.time()\n",
    "    r_calc = eul(func_f0, r0, t_min, t_max, t_poi)\n",
    "    e = np.mean(np.abs((r_real - r_calc) / r_real))\n",
    "    E_eul.append(e)\n",
    "    T_eul.append(time.time() - _t)\n",
    "\n",
    "    _t = time.time()\n",
    "    r0_ = r0.reshape(1, -1)\n",
    "    r = np.zeros(r0_.shape)\n",
    "    for j in range(r0_.shape[1]):\n",
    "        def func(t, r):\n",
    "            f = func_f0(r.reshape(-1, 1), t).reshape(-1)\n",
    "            return f\n",
    "\n",
    "        y1 = r0_[:, j]\n",
    "        y2 = solve_ivp(func, [t_min, t_max], y1).y[:, -1]\n",
    "        r[:, j] = y2\n",
    "    r_calc = r\n",
    "    e = np.mean(np.abs((r_real - r_calc) / r_real))\n",
    "    E_rks.append(e)\n",
    "    T_rks.append(time.time() - _t)"
   ]
  },
  {
   "cell_type": "code",
   "execution_count": 9,
   "metadata": {},
   "outputs": [
    {
     "data": {
      "image/png": "[encoded data removed]",
      "text/plain": [
       "<Figure size 720x360 with 2 Axes>"
      ]
     },
     "metadata": {
      "needs_background": "light"
     },
     "output_type": "display_data"
    }
   ],
   "source": [
    "fig = plt.figure(**config['plot']['fig']['base_1_2'])\n",
    "grd = mpl.gridspec.GridSpec(**config['plot']['grid']['base_1_2'])\n",
    "ax1 = fig.add_subplot(grd[0, 0])\n",
    "ax2 = fig.add_subplot(grd[0, 1])\n",
    "\n",
    "opts = config['plot']['line']['stat'].copy()\n",
    "opts['label'] = 'Eul'\n",
    "ax1.plot(T_max, E_eul, **opts)\n",
    "\n",
    "opts = config['plot']['line']['calc'].copy()\n",
    "opts['label'] = 'RK4'\n",
    "ax1.plot(T_max, E_rk4, **opts)\n",
    "\n",
    "opts = config['plot']['line']['init'].copy()\n",
    "opts['label'] = 'RKs'\n",
    "ax1.plot(T_max, E_rks, **opts)\n",
    "\n",
    "ax1.set_title('Solution error for one step (1D)')\n",
    "ax1.set_xlabel('t max')\n",
    "ax1.set_ylabel('Relative error')\n",
    "ax1.legend(loc='best')\n",
    "ax1.semilogx()\n",
    "ax1.semilogy()\n",
    "\n",
    "opts = config['plot']['line']['stat'].copy()\n",
    "opts['label'] = 'Eul'\n",
    "ax2.plot(T_max, T_eul, **opts)\n",
    "\n",
    "opts = config['plot']['line']['calc'].copy()\n",
    "opts['label'] = 'RK4'\n",
    "ax2.plot(T_max, T_rk4, **opts)\n",
    "\n",
    "opts = config['plot']['line']['init'].copy()\n",
    "opts['label'] = 'RKs'\n",
    "ax2.plot(T_max, T_rks, **opts)\n",
    "\n",
    "ax2.set_title('Calculation time (sec.)')\n",
    "ax2.set_xlabel('t max')\n",
    "ax2.set_ylabel('Time')\n",
    "ax2.legend(loc='best')\n",
    "ax2.semilogx()\n",
    "ax2.semilogy()\n",
    "\n",
    "plt.show()"
   ]
  },
  {
   "cell_type": "markdown",
   "metadata": {},
   "source": [
    "<div class=\"head1\">\n",
    "    <div class=\"head1__name\">\n",
    "        Test 2D\n",
    "    </div>\n",
    "</div>\n",
    "\n",
    "Consider\n",
    "$$\n",
    "    d r = f(r, t) \\, d t,\n",
    "    \\quad\n",
    "    r = (r_1, r_2) \\in R^{2},\n",
    "    \\quad\n",
    "    r(0) = r_0,\n",
    "$$\n",
    "\n",
    "Let set analytic solution\n",
    "$$\n",
    "    r_1(t) = \\sin{2 t^2} + r_{0, 1},\n",
    "    \\quad\n",
    "    r_2(t) = \\cos{2 t^2} + r_{0, 2} - 1.\n",
    "$$\n",
    "then for the rhs we have\n",
    "$$\n",
    "    f_1(r, t) = 4 t \\cos{2 t^2} = 4 t (r_2 - r_{0, 2} + 1),\n",
    "    \\quad\n",
    "    f_2(r, t) = - 4 t \\sin{2 t^2} = - 4 t (r_1 - r_{0, 1}).\n",
    "$$"
   ]
  },
  {
   "cell_type": "code",
   "execution_count": 10,
   "metadata": {},
   "outputs": [],
   "source": [
    "def func_f0(r, t):\n",
    "    v1 = +4. * t * (r[1, :] - r0[1, :] + 1.)\n",
    "    v2 = -4. * t * (r[0, :] - r0[0, :])\n",
    "    return np.vstack([v1, v2])\n",
    "\n",
    "def func_f0_el(r, t, r0):\n",
    "    v1 = +4. * t * (r[1, :] - r0[1, :] + 1.)\n",
    "    v2 = -4. * t * (r[0, :] - r0[0, :])\n",
    "    return np.vstack([v1, v2])\n",
    "\n",
    "def func_rt(t):\n",
    "    v1 = np.sin(2. * t * t) + r0[0, :]\n",
    "    v2 = np.cos(2. * t * t) + r0[1, :] - 1.\n",
    "    return np.vstack([v1, v2])"
   ]
  },
  {
   "cell_type": "code",
   "execution_count": 11,
   "metadata": {},
   "outputs": [],
   "source": [
    "t_min = 0.\n",
    "t_max = 0.001\n",
    "t_poi = 2\n",
    "r0 = np.vstack([\n",
    "    np.arange(100) * 1.1 + 0.2,\n",
    "    np.arange(100) * 1.5 + 0.3,\n",
    "])\n",
    "\n",
    "r_real = func_rt(t_max)"
   ]
  },
  {
   "cell_type": "markdown",
   "metadata": {},
   "source": [
    "<div class=\"head2\">\n",
    "    <div class=\"head2__name\">\n",
    "        Solution by custom solver (Euler)\n",
    "    </div>\n",
    "</div>"
   ]
  },
  {
   "cell_type": "code",
   "execution_count": 12,
   "metadata": {},
   "outputs": [
    {
     "name": "stdout",
     "output_type": "stream",
     "text": [
      "Error (mean) : 9.47e-08\n",
      "Time (sec)   : 1.99e-04\n"
     ]
    }
   ],
   "source": [
    "_t = time.time()\n",
    "r_calc = eul(func_f0, r0, t_min, t_max, t_poi)\n",
    "_t = time.time() - _t\n",
    "_e = np.mean(np.abs((r_real - r_calc) / r_real))\n",
    "\n",
    "print('Error (mean) : %-8.2e'%_e)\n",
    "print('Time (sec)   : %-8.2e'%_t)"
   ]
  },
  {
   "cell_type": "markdown",
   "metadata": {},
   "source": [
    "<div class=\"head2\">\n",
    "    <div class=\"head2__name\">\n",
    "        Solution by custom solver (RK4)\n",
    "    </div>\n",
    "</div>"
   ]
  },
  {
   "cell_type": "code",
   "execution_count": 13,
   "metadata": {},
   "outputs": [
    {
     "name": "stdout",
     "output_type": "stream",
     "text": [
      "Error (mean) : 2.98e-18\n",
      "Time (sec)   : 8.24e-04\n"
     ]
    }
   ],
   "source": [
    "_t = time.time()\n",
    "r_calc = rk4(func_f0, r0, t_min, t_max, t_poi)\n",
    "_t = time.time() - _t\n",
    "_e = np.mean(np.abs((r_real - r_calc) / r_real))\n",
    "\n",
    "print('Error (mean) : %-8.2e'%_e)\n",
    "print('Time (sec)   : %-8.2e'%_t)"
   ]
  },
  {
   "cell_type": "markdown",
   "metadata": {},
   "source": [
    "<div class=\"head2\">\n",
    "    <div class=\"head2__name\">\n",
    "        Solution by scipy solver\n",
    "    </div>\n",
    "</div>"
   ]
  },
  {
   "cell_type": "code",
   "execution_count": 14,
   "metadata": {},
   "outputs": [
    {
     "name": "stdout",
     "output_type": "stream",
     "text": [
      "Error (mean) : 1.45e-17\n",
      "Time (sec)   : 7.77e-02\n"
     ]
    }
   ],
   "source": [
    "_t = time.time()\n",
    "\n",
    "r = np.zeros(r0.shape)\n",
    "for j in range(r0.shape[1]):\n",
    "    def func(t, r):\n",
    "        f = func_f0_el(r.reshape(-1, 1), t, r0[:, j].reshape(-1, 1)).reshape(-1)\n",
    "        return f\n",
    "\n",
    "    y1 = r0[:, j]\n",
    "    y2 = solve_ivp(func, [t_min, t_max], y1).y[:, -1]\n",
    "    r[:, j] = y2\n",
    "r_calc = r\n",
    "_t = time.time() - _t\n",
    "\n",
    "r_real = func_rt(t_max)\n",
    "\n",
    "_e = np.mean(np.abs((r_real - r_calc) / r_real))\n",
    "\n",
    "print('Error (mean) : %-8.2e'%_e)\n",
    "print('Time (sec)   : %-8.2e'%_t)"
   ]
  },
  {
   "cell_type": "markdown",
   "metadata": {},
   "source": [
    "<div class=\"head2\">\n",
    "    <div class=\"head2__name\">\n",
    "        Comparison of the solvers\n",
    "    </div>\n",
    "</div>"
   ]
  },
  {
   "cell_type": "code",
   "execution_count": 15,
   "metadata": {},
   "outputs": [],
   "source": [
    "T_max = [1E-6, 1E-5, 1E-4, 1E-3]\n",
    "T_rk4, E_rk4 = [], []\n",
    "T_eul, E_eul = [], []\n",
    "T_rks, E_rks = [], []\n",
    "\n",
    "for t_max in T_max:\n",
    "    r_real = func_rt(t_max)\n",
    "    \n",
    "    _t = time.time()\n",
    "    r_calc = rk4(func_f0, r0, t_min, t_max, t_poi)\n",
    "    e = np.mean(np.abs((r_real - r_calc) / r_real))\n",
    "    E_rk4.append(e)\n",
    "    T_rk4.append(time.time() - _t)\n",
    "    \n",
    "    _t = time.time()\n",
    "    r_calc = eul(func_f0, r0, t_min, t_max, t_poi)\n",
    "    e = np.mean(np.abs((r_real - r_calc) / r_real))\n",
    "    E_eul.append(e)\n",
    "    T_eul.append(time.time() - _t)\n",
    "\n",
    "    _t = time.time()\n",
    "    r0_ = r0.copy()\n",
    "    r = np.zeros(r0_.shape)\n",
    "    for j in range(r0_.shape[1]):\n",
    "        def func(t, r):\n",
    "            f = func_f0_el(r.reshape(-1, 1), t, r0[:, j].reshape(-1, 1)).reshape(-1)\n",
    "            return f\n",
    "\n",
    "        y1 = r0_[:, j]\n",
    "        y2 = solve_ivp(func, [t_min, t_max], y1).y[:, -1]\n",
    "        r[:, j] = y2\n",
    "    r_calc = r\n",
    "    e = np.mean(np.abs((r_real - r_calc) / r_real))\n",
    "    E_rks.append(e)\n",
    "    T_rks.append(time.time() - _t)"
   ]
  },
  {
   "cell_type": "code",
   "execution_count": 16,
   "metadata": {},
   "outputs": [
    {
     "data": {
      "image/png": "[encoded data removed]",
      "text/plain": [
       "<Figure size 720x360 with 2 Axes>"
      ]
     },
     "metadata": {
      "needs_background": "light"
     },
     "output_type": "display_data"
    }
   ],
   "source": [
    "fig = plt.figure(**config['plot']['fig']['base_1_2'])\n",
    "grd = mpl.gridspec.GridSpec(**config['plot']['grid']['base_1_2'])\n",
    "ax1 = fig.add_subplot(grd[0, 0])\n",
    "ax2 = fig.add_subplot(grd[0, 1])\n",
    "\n",
    "opts = config['plot']['line']['stat'].copy()\n",
    "opts['label'] = 'Euler (custom)'\n",
    "ax1.plot(T_max, E_eul, **opts)\n",
    "\n",
    "opts = config['plot']['line']['calc'].copy()\n",
    "opts['label'] = 'RK4 (custom)'\n",
    "ax1.plot(T_max, E_rk4, **opts)\n",
    "\n",
    "opts = config['plot']['line']['init'].copy()\n",
    "opts['label'] = 'RK4 (scipy)'\n",
    "ax1.plot(T_max, E_rks, **opts)\n",
    "\n",
    "ax1.set_title('Solution error for one step (1D)')\n",
    "ax1.set_xlabel('t max')\n",
    "ax1.set_ylabel('Relative error')\n",
    "ax1.legend(loc='best')\n",
    "ax1.semilogx()\n",
    "ax1.semilogy()\n",
    "\n",
    "opts = config['plot']['line']['stat'].copy()\n",
    "opts['label'] = 'Eul'\n",
    "ax2.plot(T_max, T_eul, **opts)\n",
    "\n",
    "opts = config['plot']['line']['calc'].copy()\n",
    "opts['label'] = 'RK4'\n",
    "ax2.plot(T_max, T_rk4, **opts)\n",
    "\n",
    "opts = config['plot']['line']['init'].copy()\n",
    "opts['label'] = 'RKs'\n",
    "ax2.plot(T_max, T_rks, **opts)\n",
    "\n",
    "ax2.set_title('Calculation time (sec.)')\n",
    "ax2.set_xlabel('t max')\n",
    "ax2.set_ylabel('Time')\n",
    "ax2.legend(loc='best')\n",
    "ax2.semilogx()\n",
    "ax2.semilogy()\n",
    "\n",
    "plt.show()"
   ]
  },
  {
   "cell_type": "markdown",
   "metadata": {},
   "source": [
    "<div class=\"end\"></div>"
   ]
  }
 ],
 "metadata": {
  "kernelspec": {
   "display_name": "Python 3",
   "language": "python",
   "name": "python3"
  },
  "language_info": {
   "codemirror_mode": {
    "name": "ipython",
    "version": 3
   },
   "file_extension": ".py",
   "mimetype": "text/x-python",
   "name": "python",
   "nbconvert_exporter": "python",
   "pygments_lexer": "ipython3",
   "version": "3.7.1"
  }
 },
 "nbformat": 4,
 "nbformat_minor": 2
}
