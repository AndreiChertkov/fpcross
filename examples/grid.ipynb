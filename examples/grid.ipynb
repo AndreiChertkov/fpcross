{
 "cells": [
  {
   "cell_type": "markdown",
   "metadata": {},
   "source": [
    "<div class=\"head0\">\n",
    "    <div class=\"head0__name\">\n",
    "        Examples for grid module\n",
    "    </div>\n",
    "    <div class=\"head0__note\">\n",
    "        Construction of multidimensional Chebyshev grid.\n",
    "    </div>\n",
    "</div>"
   ]
  },
  {
   "cell_type": "code",
   "execution_count": 1,
   "metadata": {},
   "outputs": [
    {
     "name": "stdout",
     "output_type": "stream",
     "text": [
      "Start |  3:28PM MSK on Oct 05, 2019 |\n",
      "-------------------------------------\n"
     ]
    },
    {
     "data": {
      "text/html": [
       "<style>\n",
       "    div {\n",
       "      margin: 0;\n",
       "      padding: 0;\n",
       "    }\n",
       "\n",
       "    .head0 {\n",
       "      padding: 10px;\n",
       "      display: flex;\n",
       "      background-color: #dedee2;\n",
       "    }\n",
       "    .head0__name {\n",
       "      padding-right: 5px;\n",
       "      flex: 1 1 50%;\n",
       "      align-self: center;\n",
       "      font-size: 36px;\n",
       "      font-weight: bold;\n",
       "      color: #6b7e51;\n",
       "    }\n",
       "    .head0__note {\n",
       "      padding-left: 10px;\n",
       "      flex: 1 1 50%;\n",
       "      align-self: flex-end;\n",
       "      font-size: 16px;\n",
       "      font-style: italic;\n",
       "      color: #485536;\n",
       "      border-left: 5px solid #8b1d1d;\n",
       "    }\n",
       "\n",
       "    .head1 {\n",
       "      margin-top: 30px;\n",
       "      padding: 10px;\n",
       "      border-top: 5px solid #8b1d1d;\n",
       "    }\n",
       "    .head1__name {\n",
       "      font-size: 32px;\n",
       "      font-weight: bold;\n",
       "      color: #485536;\n",
       "    }\n",
       "    .head1__note {\n",
       "      padding-left: 20px;\n",
       "      font-size: 20px;\n",
       "      font-style: italic;\n",
       "      color: #485536;\n",
       "    }\n",
       "\n",
       "    .head2 {\n",
       "      margin-top: 7px;\n",
       "      padding: 5px 30px 5px;\n",
       "      border-left: 2px solid #42d56e;\n",
       "    }\n",
       "    .head2__name {\n",
       "      display: inline-block;\n",
       "      max-width: 70%;\n",
       "      padding: 2px 10px;\n",
       "      font-size: 22px;\n",
       "      font-weight: bold;\n",
       "      color: #145929;\n",
       "      border-bottom: 2px solid #42d56e;\n",
       "    }\n",
       "    .head2__note {\n",
       "      padding: 5px 10px 0px;\n",
       "      font-size: 14px;\n",
       "      font-style: italic;\n",
       "      color: #485536;\n",
       "    }\n",
       "\n",
       "    .head3 {\n",
       "      margin-top: 5px;\n",
       "      padding: 3px 40px 3px;\n",
       "      border-left: 2px dotted #485536;\n",
       "    }\n",
       "    .head3__name {\n",
       "      display: inline-block;\n",
       "      max-width: 70%;\n",
       "      padding: 2px 10px;\n",
       "      font-size: 20px;\n",
       "      font-weight: bold;\n",
       "      color: #145929;\n",
       "      border-bottom: 2px dotted #485536;\n",
       "    }\n",
       "    .head3__note {\n",
       "      padding: 2px 10px 0px;\n",
       "      font-size: 12px;\n",
       "      font-style: italic;\n",
       "      color: #485536;\n",
       "    }\n",
       "\n",
       "    .warn {\n",
       "      background-color: #fcf2f2;\n",
       "      border-color: #dfb5b4;\n",
       "      border-left: 5px solid #dfb5b4;\n",
       "      padding: 0.5em;\n",
       "    }\n",
       "    .note {\n",
       "      color: #42d56e;\n",
       "    }\n",
       "    .note::before {\n",
       "      content: 'Note. ';\n",
       "      font-weight: bold;\n",
       "      color: #485536;\n",
       "    }\n",
       "\n",
       "    .end {\n",
       "      padding: 5px;\n",
       "      border-top: 5px solid #8b1d1d;\n",
       "      border-bottom: 5px solid #8b1d1d;\n",
       "    }\n",
       "</style>"
      ],
      "text/plain": [
       "<IPython.core.display.HTML object>"
      ]
     },
     "execution_count": 1,
     "metadata": {},
     "output_type": "execute_result"
    }
   ],
   "source": [
    "import numpy as np\n",
    "from fpcross import init_jupyter, Grid\n",
    "\n",
    "init_jupyter()"
   ]
  },
  {
   "cell_type": "code",
   "execution_count": 2,
   "metadata": {},
   "outputs": [
    {
     "name": "stdout",
     "output_type": "stream",
     "text": [
      "------------------ Grid\n",
      "Kind             : Chebyshev\n",
      "Dimension        : 2\n",
      "D1               : Poi 5   | Min -4.000 | Max 3.000  |\n",
      "D2               : Poi 7   | Min -1.000 | Max 2.000  |\n",
      "------------------\n"
     ]
    }
   ],
   "source": [
    "GR = Grid(n=[5, 7], l=[[-4., 3.], [-1., 2.]])\n",
    "GR.info()"
   ]
  },
  {
   "cell_type": "code",
   "execution_count": 3,
   "metadata": {},
   "outputs": [
    {
     "name": "stdout",
     "output_type": "stream",
     "text": [
      "------------------ Grid\n",
      "Kind             : Chebyshev\n",
      "Dimension        : 2\n",
      "D1               : Poi 5   | Min -4.000 | Max 3.000  |\n",
      "D2               : Poi 5   | Min -1.000 | Max 2.000  |\n",
      "------------------\n"
     ]
    }
   ],
   "source": [
    "GR = Grid(n=5, l=[[-4., 3.], [-1., 2.]])\n",
    "GR.info()"
   ]
  },
  {
   "cell_type": "code",
   "execution_count": 5,
   "metadata": {},
   "outputs": [
    {
     "ename": "IndexError",
     "evalue": "Invalid shape for grid parameters.",
     "output_type": "error",
     "traceback": [
      "\u001b[0;31m---------------------------------------------------------------------------\u001b[0m",
      "\u001b[0;31mIndexError\u001b[0m                                Traceback (most recent call last)",
      "\u001b[0;32m<ipython-input-5-4cc516369163>\u001b[0m in \u001b[0;36m<module>\u001b[0;34m\u001b[0m\n\u001b[0;32m----> 1\u001b[0;31m \u001b[0mGR\u001b[0m \u001b[0;34m=\u001b[0m \u001b[0mGrid\u001b[0m\u001b[0;34m(\u001b[0m\u001b[0mn\u001b[0m\u001b[0;34m=\u001b[0m\u001b[0;36m5\u001b[0m\u001b[0;34m,\u001b[0m \u001b[0ml\u001b[0m\u001b[0;34m=\u001b[0m\u001b[0;34m[\u001b[0m\u001b[0;34m-\u001b[0m\u001b[0;36m4.\u001b[0m\u001b[0;34m,\u001b[0m \u001b[0;36m3.\u001b[0m\u001b[0;34m]\u001b[0m\u001b[0;34m)\u001b[0m\u001b[0;34m\u001b[0m\u001b[0;34m\u001b[0m\u001b[0m\n\u001b[0m\u001b[1;32m      2\u001b[0m \u001b[0mGR\u001b[0m\u001b[0;34m.\u001b[0m\u001b[0minfo\u001b[0m\u001b[0;34m(\u001b[0m\u001b[0;34m)\u001b[0m\u001b[0;34m\u001b[0m\u001b[0;34m\u001b[0m\u001b[0m\n",
      "\u001b[0;32m/anaconda3/lib/python3.7/site-packages/fpcross-0.1-py3.7.egg/fpcross/grid.py\u001b[0m in \u001b[0;36m__init__\u001b[0;34m(self, d, n, l)\u001b[0m\n\u001b[1;32m     53\u001b[0m \u001b[0;34m\u001b[0m\u001b[0m\n\u001b[1;32m     54\u001b[0m         \u001b[0;32mif\u001b[0m \u001b[0mself\u001b[0m\u001b[0;34m.\u001b[0m\u001b[0mn\u001b[0m\u001b[0;34m.\u001b[0m\u001b[0mshape\u001b[0m\u001b[0;34m[\u001b[0m\u001b[0;36m0\u001b[0m\u001b[0;34m]\u001b[0m \u001b[0;34m!=\u001b[0m \u001b[0mself\u001b[0m\u001b[0;34m.\u001b[0m\u001b[0md\u001b[0m \u001b[0;32mor\u001b[0m \u001b[0mself\u001b[0m\u001b[0;34m.\u001b[0m\u001b[0ml\u001b[0m\u001b[0;34m.\u001b[0m\u001b[0mshape\u001b[0m\u001b[0;34m[\u001b[0m\u001b[0;36m0\u001b[0m\u001b[0;34m]\u001b[0m \u001b[0;34m!=\u001b[0m \u001b[0mself\u001b[0m\u001b[0;34m.\u001b[0m\u001b[0md\u001b[0m\u001b[0;34m:\u001b[0m\u001b[0;34m\u001b[0m\u001b[0;34m\u001b[0m\u001b[0m\n\u001b[0;32m---> 55\u001b[0;31m             \u001b[0;32mraise\u001b[0m \u001b[0mIndexError\u001b[0m\u001b[0;34m(\u001b[0m\u001b[0;34m'Invalid shape for grid parameters.'\u001b[0m\u001b[0;34m)\u001b[0m\u001b[0;34m\u001b[0m\u001b[0;34m\u001b[0m\u001b[0m\n\u001b[0m\u001b[1;32m     56\u001b[0m \u001b[0;34m\u001b[0m\u001b[0m\n\u001b[1;32m     57\u001b[0m     \u001b[0;32mdef\u001b[0m \u001b[0mcopy\u001b[0m\u001b[0;34m(\u001b[0m\u001b[0mself\u001b[0m\u001b[0;34m)\u001b[0m\u001b[0;34m:\u001b[0m\u001b[0;34m\u001b[0m\u001b[0;34m\u001b[0m\u001b[0m\n",
      "\u001b[0;31mIndexError\u001b[0m: Invalid shape for grid parameters."
     ]
    }
   ],
   "source": [
    "GR = Grid(n=5, l=[-4., 3.])\n",
    "GR.info()"
   ]
  },
  {
   "cell_type": "code",
   "execution_count": 9,
   "metadata": {},
   "outputs": [
    {
     "data": {
      "text/plain": [
       "2"
      ]
     },
     "execution_count": 9,
     "metadata": {},
     "output_type": "execute_result"
    }
   ],
   "source": [
    "x = np.array([[1, 2, 3], [1., 2., 4.]])\n",
    "len(x)"
   ]
  },
  {
   "cell_type": "code",
   "execution_count": 10,
   "metadata": {},
   "outputs": [
    {
     "data": {
      "text/plain": [
       "(2, 3)"
      ]
     },
     "execution_count": 10,
     "metadata": {},
     "output_type": "execute_result"
    }
   ],
   "source": [
    "x.shape"
   ]
  },
  {
   "cell_type": "code",
   "execution_count": null,
   "metadata": {},
   "outputs": [],
   "source": [
    "GR.plot()"
   ]
  },
  {
   "cell_type": "code",
   "execution_count": 2,
   "metadata": {},
   "outputs": [
    {
     "data": {
      "image/png": "[encoded data removed]",
      "text/plain": [
       "<Figure size 432x288 with 1 Axes>"
      ]
     },
     "metadata": {
      "needs_background": "light"
     },
     "output_type": "display_data"
    },
    {
     "data": {
      "image/png": "[encoded data removed]",
      "text/plain": [
       "<Figure size 432x288 with 1 Axes>"
      ]
     },
     "metadata": {
      "needs_background": "light"
     },
     "output_type": "display_data"
    }
   ],
   "source": [
    "GR.plot(I=[\n",
    "    [0, 2, 3, 4],\n",
    "    [0, 1, 4, 6]\n",
    "])"
   ]
  },
  {
   "cell_type": "code",
   "execution_count": null,
   "metadata": {},
   "outputs": [],
   "source": []
  }
 ],
 "metadata": {
  "kernelspec": {
   "display_name": "Python 3",
   "language": "python",
   "name": "python3"
  },
  "language_info": {
   "codemirror_mode": {
    "name": "ipython",
    "version": 3
   },
   "file_extension": ".py",
   "mimetype": "text/x-python",
   "name": "python",
   "nbconvert_exporter": "python",
   "pygments_lexer": "ipython3",
   "version": "3.7.1"
  }
 },
 "nbformat": 4,
 "nbformat_minor": 2
}
