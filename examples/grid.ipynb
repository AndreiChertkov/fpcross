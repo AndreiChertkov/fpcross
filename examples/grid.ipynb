{
 "cells": [
  {
   "cell_type": "markdown",
   "metadata": {},
   "source": [
    "<div class=\"head0\">\n",
    "    <div class=\"head0__name\">\n",
    "        Examples for grid module\n",
    "    </div>\n",
    "    <div class=\"head0__note\">\n",
    "        Construction and representation of uniform or Chebyshev multidimensional grid.\n",
    "    </div>\n",
    "</div>"
   ]
  },
  {
   "cell_type": "code",
   "execution_count": 1,
   "metadata": {},
   "outputs": [
    {
     "name": "stdout",
     "output_type": "stream",
     "text": [
      "Start | 11:02AM MSK on Oct 07, 2019 |\n",
      "-------------------------------------\n"
     ]
    },
    {
     "data": {
      "text/html": [
       "<style>\n",
       "    div {\n",
       "      margin: 0;\n",
       "      padding: 0;\n",
       "    }\n",
       "\n",
       "    .head0 {\n",
       "      padding: 10px;\n",
       "      display: flex;\n",
       "      background-color: #dedee2;\n",
       "    }\n",
       "    .head0__name {\n",
       "      padding-right: 5px;\n",
       "      flex: 1 1 50%;\n",
       "      align-self: center;\n",
       "      font-size: 36px;\n",
       "      font-weight: bold;\n",
       "      color: #6b7e51;\n",
       "    }\n",
       "    .head0__note {\n",
       "      padding-left: 10px;\n",
       "      flex: 1 1 50%;\n",
       "      align-self: flex-end;\n",
       "      font-size: 16px;\n",
       "      font-style: italic;\n",
       "      color: #485536;\n",
       "      border-left: 5px solid #8b1d1d;\n",
       "    }\n",
       "\n",
       "    .head1 {\n",
       "      margin-top: 30px;\n",
       "      padding: 10px;\n",
       "      border-top: 5px solid #8b1d1d;\n",
       "    }\n",
       "    .head1__name {\n",
       "      font-size: 32px;\n",
       "      font-weight: bold;\n",
       "      color: #485536;\n",
       "    }\n",
       "    .head1__note {\n",
       "      padding-left: 20px;\n",
       "      font-size: 20px;\n",
       "      font-style: italic;\n",
       "      color: #485536;\n",
       "    }\n",
       "\n",
       "    .head2 {\n",
       "      margin-top: 7px;\n",
       "      padding: 5px 30px 5px;\n",
       "      border-left: 2px solid #42d56e;\n",
       "    }\n",
       "    .head2__name {\n",
       "      display: inline-block;\n",
       "      max-width: 70%;\n",
       "      padding: 2px 10px;\n",
       "      font-size: 22px;\n",
       "      font-weight: bold;\n",
       "      color: #145929;\n",
       "      border-bottom: 2px solid #42d56e;\n",
       "    }\n",
       "    .head2__note {\n",
       "      padding: 5px 10px 0px;\n",
       "      font-size: 14px;\n",
       "      font-style: italic;\n",
       "      color: #485536;\n",
       "    }\n",
       "\n",
       "    .head3 {\n",
       "      margin-top: 5px;\n",
       "      padding: 3px 40px 3px;\n",
       "      border-left: 2px dotted #485536;\n",
       "    }\n",
       "    .head3__name {\n",
       "      display: inline-block;\n",
       "      max-width: 70%;\n",
       "      padding: 2px 10px;\n",
       "      font-size: 20px;\n",
       "      font-weight: bold;\n",
       "      color: #145929;\n",
       "      border-bottom: 2px dotted #485536;\n",
       "    }\n",
       "    .head3__note {\n",
       "      padding: 2px 10px 0px;\n",
       "      font-size: 12px;\n",
       "      font-style: italic;\n",
       "      color: #485536;\n",
       "    }\n",
       "\n",
       "    .warn {\n",
       "      background-color: #fcf2f2;\n",
       "      border-color: #dfb5b4;\n",
       "      border-left: 5px solid #dfb5b4;\n",
       "      padding: 0.5em;\n",
       "    }\n",
       "    .note {\n",
       "      color: #42d56e;\n",
       "    }\n",
       "    .note::before {\n",
       "      content: 'Note. ';\n",
       "      font-weight: bold;\n",
       "      color: #485536;\n",
       "    }\n",
       "\n",
       "    .end {\n",
       "      padding: 5px;\n",
       "      border-top: 5px solid #8b1d1d;\n",
       "      border-bottom: 5px solid #8b1d1d;\n",
       "    }\n",
       "</style>"
      ],
      "text/plain": [
       "<IPython.core.display.HTML object>"
      ]
     },
     "execution_count": 1,
     "metadata": {},
     "output_type": "execute_result"
    }
   ],
   "source": [
    "import numpy as np\n",
    "from fpcross import init_jupyter, Grid\n",
    "\n",
    "init_jupyter()"
   ]
  },
  {
   "cell_type": "markdown",
   "metadata": {},
   "source": [
    "<div class=\"head1\">\n",
    "    <div class=\"head1__name\">\n",
    "        Init grid\n",
    "    </div>\n",
    "    <div class=\"head1__note\">\n",
    "        We can init grid using various types for it parameters.\n",
    "    </div>\n",
    "</div>"
   ]
  },
  {
   "cell_type": "code",
   "execution_count": 2,
   "metadata": {},
   "outputs": [
    {
     "name": "stdout",
     "output_type": "stream",
     "text": [
      "------------------ Grid\n",
      "Kind             : Chebyshev\n",
      "Dimension        : 2\n",
      "D1               : Poi 5   | Min -4.000 | Max 3.000  |\n",
      "D2               : Poi 7   | Min -1.000 | Max 2.000  |\n",
      "------------------\n",
      "\n"
     ]
    }
   ],
   "source": [
    "GR = Grid(n=[5, 7], l=[[-4., 3.], [-1., 2.]])\n",
    "GR.info()"
   ]
  },
  {
   "cell_type": "code",
   "execution_count": 3,
   "metadata": {},
   "outputs": [
    {
     "name": "stdout",
     "output_type": "stream",
     "text": [
      "------------------ Grid\n",
      "Kind             : Chebyshev\n",
      "Dimension        : 2\n",
      "D1               : Poi 5   | Min -4.000 | Max 3.000  |\n",
      "D2               : Poi 5   | Min -1.000 | Max 2.000  |\n",
      "------------------\n",
      "\n"
     ]
    }
   ],
   "source": [
    "GR = Grid(n=5, l=[[-4., 3.], [-1., 2.]])\n",
    "GR.info()"
   ]
  },
  {
   "cell_type": "code",
   "execution_count": 4,
   "metadata": {},
   "outputs": [
    {
     "name": "stdout",
     "output_type": "stream",
     "text": [
      "------------------ Grid\n",
      "Kind             : Chebyshev\n",
      "Dimension        : 2\n",
      "D1               : Poi 5   | Min -4.000 | Max 3.000  |\n",
      "D2               : Poi 5   | Min -4.000 | Max 3.000  |\n",
      "------------------\n",
      "\n"
     ]
    }
   ],
   "source": [
    "GR = Grid(d=2, n=5, l=[-4., 3.])\n",
    "GR.info()"
   ]
  },
  {
   "cell_type": "markdown",
   "metadata": {},
   "source": [
    "<div class=\"head1\">\n",
    "    <div class=\"head1__name\">\n",
    "        Compute grid points\n",
    "    </div>\n",
    "    <div class=\"head1__note\">\n",
    "        We can find some or all grid points.\n",
    "    </div>\n",
    "</div>"
   ]
  },
  {
   "cell_type": "markdown",
   "metadata": {},
   "source": [
    "<div class=\"head2\">\n",
    "    <div class=\"head2__name\">\n",
    "        Some points of uniform grid\n",
    "    </div>\n",
    "</div>"
   ]
  },
  {
   "cell_type": "code",
   "execution_count": 5,
   "metadata": {},
   "outputs": [
    {
     "name": "stdout",
     "output_type": "stream",
     "text": [
      "(2, 1) [-4. -1.]\n",
      "(2, 1) [3. 2.]\n",
      "[[-4.  3.]\n",
      " [-1.  2.]]\n"
     ]
    }
   ],
   "source": [
    "GR = Grid(n=[5, 7], l=[[-4., 3.], [-1., 2.]], kind='u')\n",
    "X = GR.comp([0, 0])\n",
    "print(X.shape, X.reshape(-1))\n",
    "X = GR.comp([4, 6])\n",
    "print(X.shape, X.reshape(-1))\n",
    "X = GR.comp([\n",
    "    [0, 4],\n",
    "    [0, 6],\n",
    "])\n",
    "print(X)"
   ]
  },
  {
   "cell_type": "code",
   "execution_count": 6,
   "metadata": {},
   "outputs": [
    {
     "data": {
      "text/plain": [
       "array([[-4.,  3.],\n",
       "       [-1.,  2.]])"
      ]
     },
     "execution_count": 6,
     "metadata": {},
     "output_type": "execute_result"
    }
   ],
   "source": [
    "I = np.array([\n",
    "    [0, 4],\n",
    "    [0, 6],\n",
    "])\n",
    "n = np.repeat(GR.n.reshape((-1, 1)), I.shape[1], axis=1)\n",
    "t = I * 1. / (n - 1)\n",
    "l1 = np.repeat(GR.l[:, 0].reshape((-1, 1)), I.shape[1], axis=1)\n",
    "l2 = np.repeat(GR.l[:, 1].reshape((-1, 1)), I.shape[1], axis=1)\n",
    "X = t * (l2 - l1) + l1\n",
    "X"
   ]
  },
  {
   "cell_type": "markdown",
   "metadata": {},
   "source": [
    "<div class=\"head2\">\n",
    "    <div class=\"head2__name\">\n",
    "        Some points of Chebyshev grid\n",
    "    </div>\n",
    "</div>"
   ]
  },
  {
   "cell_type": "code",
   "execution_count": 7,
   "metadata": {},
   "outputs": [
    {
     "name": "stdout",
     "output_type": "stream",
     "text": [
      "(2, 1) [3. 2.]\n",
      "(2, 1) [-4. -1.]\n",
      "[[ 3. -4.]\n",
      " [ 2. -1.]]\n"
     ]
    }
   ],
   "source": [
    "GR = Grid(n=[5, 7], l=[[-4., 3.], [-1., 2.]], kind='c')\n",
    "X = GR.comp([0, 0])\n",
    "print(X.shape, X.reshape(-1))\n",
    "X = GR.comp([4, 6])\n",
    "print(X.shape, X.reshape(-1))\n",
    "X = GR.comp([\n",
    "    [0, 4],\n",
    "    [0, 6],\n",
    "])\n",
    "print(X)"
   ]
  },
  {
   "cell_type": "markdown",
   "metadata": {},
   "source": [
    "<div class=\"head2\">\n",
    "    <div class=\"head2__name\">\n",
    "        Full grid\n",
    "    </div>\n",
    "</div>"
   ]
  },
  {
   "cell_type": "code",
   "execution_count": 9,
   "metadata": {},
   "outputs": [
    {
     "name": "stdout",
     "output_type": "stream",
     "text": [
      "[[ 3.   -0.5  -4.    3.   -0.5  -4.    3.   -0.5  -4.    3.   -0.5  -4.  ]\n",
      " [ 2.    2.    2.    1.25  1.25  1.25 -0.25 -0.25 -0.25 -1.   -1.   -1.  ]]\n"
     ]
    }
   ],
   "source": [
    "GR = Grid(n=[3, 4], l=[[-4., 3.], [-1., 2.]])\n",
    "X = GR.comp()\n",
    "print(X)"
   ]
  },
  {
   "cell_type": "markdown",
   "metadata": {},
   "source": [
    "<div class=\"head1\">\n",
    "    <div class=\"head1__name\">\n",
    "        Plot grid\n",
    "    </div>\n",
    "    <div class=\"head1__note\">\n",
    "        We can plot 2-dimensional grid (full or some its points).\n",
    "    </div>\n",
    "</div>"
   ]
  },
  {
   "cell_type": "markdown",
   "metadata": {},
   "source": [
    "<div class=\"head2\">\n",
    "    <div class=\"head2__name\">\n",
    "        Some points of uniform grid\n",
    "    </div>\n",
    "</div>"
   ]
  },
  {
   "cell_type": "code",
   "execution_count": 10,
   "metadata": {},
   "outputs": [
    {
     "data": {
      "image/png": "[encoded data removed]",
      "text/plain": [
       "<Figure size 432x288 with 1 Axes>"
      ]
     },
     "metadata": {
      "needs_background": "light"
     },
     "output_type": "display_data"
    }
   ],
   "source": [
    "GR = Grid(n=[5, 7], l=[[-4., 3.], [-1., 2.]], kind='u')\n",
    "GR.plot(I=[\n",
    "    [0, 2, 3, 4],\n",
    "    [0, 1, 4, 6]\n",
    "])"
   ]
  },
  {
   "cell_type": "markdown",
   "metadata": {},
   "source": [
    "<div class=\"head2\">\n",
    "    <div class=\"head2__name\">\n",
    "        Full uniform grid\n",
    "    </div>\n",
    "</div>"
   ]
  },
  {
   "cell_type": "code",
   "execution_count": 11,
   "metadata": {},
   "outputs": [
    {
     "data": {
      "image/png": "[encoded data removed]",
      "text/plain": [
       "<Figure size 432x288 with 1 Axes>"
      ]
     },
     "metadata": {
      "needs_background": "light"
     },
     "output_type": "display_data"
    }
   ],
   "source": [
    "GR = Grid(n=[5, 7], l=[[-4., 3.], [-1., 2.]], kind='u')\n",
    "GR.plot()"
   ]
  },
  {
   "cell_type": "markdown",
   "metadata": {},
   "source": [
    "<div class=\"head2\">\n",
    "    <div class=\"head2__name\">\n",
    "        Some points of Chebyshev grid\n",
    "    </div>\n",
    "</div>"
   ]
  },
  {
   "cell_type": "code",
   "execution_count": 12,
   "metadata": {},
   "outputs": [
    {
     "data": {
      "image/png": "[encoded data removed]",
      "text/plain": [
       "<Figure size 432x288 with 1 Axes>"
      ]
     },
     "metadata": {
      "needs_background": "light"
     },
     "output_type": "display_data"
    }
   ],
   "source": [
    "GR = Grid(n=[5, 7], l=[[-4., 3.], [-1., 2.]], kind='c')\n",
    "GR.plot(I=[\n",
    "    [0, 2, 3, 4],\n",
    "    [0, 1, 4, 6]\n",
    "])"
   ]
  },
  {
   "cell_type": "markdown",
   "metadata": {},
   "source": [
    "<div class=\"head2\">\n",
    "    <div class=\"head2__name\">\n",
    "        Full Chebyshev grid\n",
    "    </div>\n",
    "</div>"
   ]
  },
  {
   "cell_type": "code",
   "execution_count": 13,
   "metadata": {},
   "outputs": [
    {
     "data": {
      "image/png": "[encoded data removed]",
      "text/plain": [
       "<Figure size 432x288 with 1 Axes>"
      ]
     },
     "metadata": {
      "needs_background": "light"
     },
     "output_type": "display_data"
    }
   ],
   "source": [
    "GR = Grid(n=[5, 7], l=[[-4., 3.], [-1., 2.]], kind='c')\n",
    "GR.plot()"
   ]
  },
  {
   "cell_type": "markdown",
   "metadata": {},
   "source": [
    "<div class=\"end\"></div>"
   ]
  }
 ],
 "metadata": {
  "kernelspec": {
   "display_name": "Python 3",
   "language": "python",
   "name": "python3"
  },
  "language_info": {
   "codemirror_mode": {
    "name": "ipython",
    "version": 3
   },
   "file_extension": ".py",
   "mimetype": "text/x-python",
   "name": "python",
   "nbconvert_exporter": "python",
   "pygments_lexer": "ipython3",
   "version": "3.7.1"
  }
 },
 "nbformat": 4,
 "nbformat_minor": 2
}
