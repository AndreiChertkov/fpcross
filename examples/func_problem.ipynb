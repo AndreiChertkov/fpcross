{
 "cells": [
  {
   "cell_type": "markdown",
   "metadata": {},
   "source": [
    "<div class=\"head0\">\n",
    "    <div class=\"head0__name\">\n",
    "        Example for not good cross\n",
    "    </div>\n",
    "    <div class=\"head0__note\">\n",
    "        We have too much iterations then simple change one coefficient for the function.\n",
    "    </div>\n",
    "</div>\n",
    "\n",
    "We interpolate by Chebyshev polynomials in the TT-format with cross approximation the 4D ($d = 4$) function\n",
    "$$\n",
    "    f(x) = \\tanh \\left( \\frac{a}{d} \\sum_{k=1}^{d} x_k \\right),\n",
    "$$\n",
    "where\n",
    "$$\n",
    "    \\tanh(z) = \\frac{e^{2 z} - 1}{e^{2 z} + 1},\n",
    "$$\n",
    "for different values of $a$ parameter."
   ]
  },
  {
   "cell_type": "code",
   "execution_count": 1,
   "metadata": {},
   "outputs": [
    {
     "name": "stdout",
     "output_type": "stream",
     "text": [
      "Start |  1:11PM MSK on Feb 10, 2020 | python 3.7.4    |\n",
      "-------------------------------------------------------\n"
     ]
    },
    {
     "data": {
      "text/html": [
       "<style>\n",
       "        div {\n",
       "          margin: 0;\n",
       "          padding: 0;\n",
       "        }\n",
       "\n",
       "        .head0 {\n",
       "          padding: 10px;\n",
       "          display: flex;\n",
       "          background-color: #dedee2;\n",
       "        }\n",
       "        .head0__name {\n",
       "          padding-right: 5px;\n",
       "          flex: 1 1 50%;\n",
       "          align-self: center;\n",
       "          font-size: 36px;\n",
       "          font-weight: bold;\n",
       "          color: #6b7e51;\n",
       "        }\n",
       "        .head0__note {\n",
       "          padding-left: 10px;\n",
       "          flex: 1 1 50%;\n",
       "          align-self: flex-end;\n",
       "          font-size: 16px;\n",
       "          font-style: italic;\n",
       "          color: #485536;\n",
       "          border-left: 5px solid #8b1d1d;\n",
       "        }\n",
       "\n",
       "        .head1 {\n",
       "          margin-top: 30px;\n",
       "          padding: 10px;\n",
       "          border-top: 5px solid #8b1d1d;\n",
       "        }\n",
       "        .head1__name {\n",
       "          font-size: 32px;\n",
       "          font-weight: bold;\n",
       "          color: #485536;\n",
       "        }\n",
       "        .head1__note {\n",
       "          padding-left: 20px;\n",
       "          font-size: 20px;\n",
       "          font-style: italic;\n",
       "          color: #485536;\n",
       "        }\n",
       "\n",
       "        .head2 {\n",
       "          margin-top: 7px;\n",
       "          padding: 5px 30px 5px;\n",
       "          border-left: 2px solid #42d56e;\n",
       "        }\n",
       "        .head2__name {\n",
       "          display: inline-block;\n",
       "          max-width: 70%;\n",
       "          padding: 2px 10px;\n",
       "          font-size: 22px;\n",
       "          font-weight: bold;\n",
       "          color: #145929;\n",
       "          border-bottom: 2px solid #42d56e;\n",
       "        }\n",
       "        .head2__note {\n",
       "          padding: 5px 10px 0px;\n",
       "          font-size: 14px;\n",
       "          font-style: italic;\n",
       "          color: #485536;\n",
       "        }\n",
       "\n",
       "        .head3 {\n",
       "          margin-top: 5px;\n",
       "          padding: 3px 40px 3px;\n",
       "          border-left: 2px dotted #485536;\n",
       "        }\n",
       "        .head3__name {\n",
       "          display: inline-block;\n",
       "          max-width: 70%;\n",
       "          padding: 2px 10px;\n",
       "          font-size: 20px;\n",
       "          font-weight: bold;\n",
       "          color: #145929;\n",
       "          border-bottom: 2px dotted #485536;\n",
       "        }\n",
       "        .head3__note {\n",
       "          padding: 2px 10px 0px;\n",
       "          font-size: 12px;\n",
       "          font-style: italic;\n",
       "          color: #485536;\n",
       "        }\n",
       "\n",
       "        .warn {\n",
       "          background-color: #fcf2f2;\n",
       "          border-color: #dfb5b4;\n",
       "          border-left: 5px solid #dfb5b4;\n",
       "          padding: 0.5em;\n",
       "        }\n",
       "\n",
       "        .note {\n",
       "          color: #42d56e;\n",
       "        }\n",
       "        .note::before {\n",
       "          content: 'Note. ';\n",
       "          font-weight: bold;\n",
       "          color: #485536;\n",
       "        }\n",
       "\n",
       "        .end {\n",
       "          padding: 5px;\n",
       "          border-top: 5px solid #8b1d1d;\n",
       "          border-bottom: 5px solid #8b1d1d;\n",
       "        }\n",
       "    </style>"
      ],
      "text/plain": [
       "<IPython.core.display.HTML object>"
      ]
     },
     "execution_count": 1,
     "metadata": {},
     "output_type": "execute_result"
    }
   ],
   "source": [
    "import numpy as np\n",
    "import matplotlib as mpl\n",
    "import matplotlib.pyplot as plt\n",
    "from time import perf_counter as tpc\n",
    "\n",
    "from fpcross import ij, Grid, Func, Solver, Model, Check\n",
    "from fpcross import config\n",
    "\n",
    "ij()"
   ]
  },
  {
   "cell_type": "code",
   "execution_count": 2,
   "metadata": {},
   "outputs": [
    {
     "data": {
      "image/png": "[encoded data removed]",
      "text/plain": [
       "<Figure size 432x288 with 1 Axes>"
      ]
     },
     "metadata": {
      "needs_background": "light"
     },
     "output_type": "display_data"
    }
   ],
   "source": [
    "x = np.linspace(-1, 1, 1000)\n",
    "plt.plot(x, np.tanh(0.1*x), label='tanh(0.1 * x)')\n",
    "plt.plot(x, np.tanh(x), label='tanh(x)')\n",
    "plt.plot(x, np.tanh(10 * x), label='tanh(10 * x)')\n",
    "plt.legend(loc='best')\n",
    "plt.show()"
   ]
  },
  {
   "cell_type": "code",
   "execution_count": 3,
   "metadata": {},
   "outputs": [],
   "source": [
    "def func(x):\n",
    "    return np.tanh(a/np.sqrt(x.shape[0]) * np.sum(x, axis=0))"
   ]
  },
  {
   "cell_type": "code",
   "execution_count": 4,
   "metadata": {},
   "outputs": [
    {
     "name": "stdout",
     "output_type": "stream",
     "text": [
      "------------------ Function  \n",
      "Format           : 4D, TT, eps= 1.00e-06\n",
      "--> Time (sec.)  |       \n",
      "Prep             : 9.41e-02 \n",
      "Calc             : 1.70e-02 \n",
      "Comp (average)   : 7.05e-05 \n",
      "Func (average)   : 7.61e-07 \n",
      "--> Test         |       \n",
      "Random points    :      Yes   \n",
      "Number of points :      100   \n",
      "Error (max)      : 1.01e-06 \n",
      "Error (mean)     : 2.41e-08 \n",
      "Error (min)      : 2.95e-12 \n",
      "--> Cross params |       \n",
      "Initial guess    :       No   \n",
      "nswp             :      200   \n",
      "kickrank         :        1   \n",
      "rf               : 2.00e+00 \n",
      "--> Cross result | \n",
      "Func. evaluations:     5440   \n",
      "Cross iterations :        3   \n",
      "Av. tt-rank      : 7.00e+00 \n",
      "Cross err (rel)  : 1.90e-08 \n",
      "Cross err (abs)  : 1.10e-06 \n"
     ]
    }
   ],
   "source": [
    "a = 0.1\n",
    "\n",
    "GR = Grid(d=4, n=20, l=[-2., 1.])\n",
    "FN = Func(GR, eps=1.E-6, with_tt=True).init(func).prep().calc()\n",
    "FN.info(n_test=100)"
   ]
  },
  {
   "cell_type": "code",
   "execution_count": 5,
   "metadata": {},
   "outputs": [
    {
     "name": "stdout",
     "output_type": "stream",
     "text": [
      "------------------ Function  \n",
      "Format           : 4D, TT, eps= 1.00e-06\n",
      "--> Time (sec.)  |       \n",
      "Prep             : 1.69e-01 \n",
      "Calc             : 3.29e-03 \n",
      "Comp (average)   : 7.14e-05 \n",
      "Func (average)   : 5.49e-07 \n",
      "--> Test         |       \n",
      "Random points    :      Yes   \n",
      "Number of points :      100   \n",
      "Error (max)      : 1.86e-05 \n",
      "Error (mean)     : 4.46e-07 \n",
      "Error (min)      : 4.07e-09 \n",
      "--> Cross params |       \n",
      "Initial guess    :       No   \n",
      "nswp             :      200   \n",
      "kickrank         :        1   \n",
      "rf               : 2.00e+00 \n",
      "--> Cross result | \n",
      "Func. evaluations:    51300   \n",
      "Cross iterations :        6   \n",
      "Av. tt-rank      : 1.97e+01 \n",
      "Cross err (rel)  : 6.40e-08 \n",
      "Cross err (abs)  : 1.90e-05 \n"
     ]
    }
   ],
   "source": [
    "a = 1.\n",
    "\n",
    "GR = Grid(d=4, n=20, l=[-2., 1.])\n",
    "FN = Func(GR, eps=1.E-6, with_tt=True).init(func).prep().calc()\n",
    "FN.info(n_test=100)"
   ]
  },
  {
   "cell_type": "code",
   "execution_count": 6,
   "metadata": {},
   "outputs": [
    {
     "name": "stdout",
     "output_type": "stream",
     "text": [
      "------------------ Function  \n",
      "Format           : 4D, TT, eps= 1.00e-06\n",
      "--> Time (sec.)  |       \n",
      "Prep             : 1.14e+00 \n",
      "Calc             : 1.24e-02 \n",
      "Comp (average)   : 1.77e-04 \n",
      "Func (average)   : 3.06e-07 \n",
      "--> Test         |       \n",
      "Random points    :      Yes   \n",
      "Number of points :      100   \n",
      "Error (max)      : 1.12e-01 \n",
      "Error (mean)     : 5.46e-03 \n",
      "Error (min)      : 4.35e-07 \n",
      "--> Cross params |       \n",
      "Initial guess    :       No   \n",
      "nswp             :      200   \n",
      "kickrank         :        1   \n",
      "rf               : 2.00e+00 \n",
      "--> Cross result | \n",
      "Func. evaluations:  1035440   \n",
      "Cross iterations :       19   \n",
      "Av. tt-rank      : 4.28e+01 \n",
      "Cross err (rel)  : 3.70e-07 \n",
      "Cross err (abs)  : 1.40e-04 \n"
     ]
    }
   ],
   "source": [
    "a = 10.\n",
    "\n",
    "GR = Grid(d=4, n=20, l=[-2., 1.])\n",
    "FN = Func(GR, eps=1.E-6, with_tt=True).init(func).prep().calc()\n",
    "FN.info(n_test=100)"
   ]
  },
  {
   "cell_type": "markdown",
   "metadata": {},
   "source": [
    "<div class=\"end\"></div>"
   ]
  }
 ],
 "metadata": {
  "kernelspec": {
   "display_name": "Python 3",
   "language": "python",
   "name": "python3"
  },
  "language_info": {
   "codemirror_mode": {
    "name": "ipython",
    "version": 3
   },
   "file_extension": ".py",
   "mimetype": "text/x-python",
   "name": "python",
   "nbconvert_exporter": "python",
   "pygments_lexer": "ipython3",
   "version": "3.7.4"
  }
 },
 "nbformat": 4,
 "nbformat_minor": 4
}
