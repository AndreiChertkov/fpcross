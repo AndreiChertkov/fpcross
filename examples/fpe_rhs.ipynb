{
 "cells": [
  {
   "cell_type": "code",
   "execution_count": 2,
   "metadata": {},
   "outputs": [
    {
     "name": "stdout",
     "output_type": "stream",
     "text": [
      "Start |  1:22PM MSK on Oct 23, 2019 | python 3.7.1    |\n",
      "-------------------------------------------------------\n"
     ]
    },
    {
     "data": {
      "text/html": [
       "<style>\n",
       "        div {\n",
       "          margin: 0;\n",
       "          padding: 0;\n",
       "        }\n",
       "\n",
       "        .head0 {\n",
       "          padding: 10px;\n",
       "          display: flex;\n",
       "          background-color: #dedee2;\n",
       "        }\n",
       "        .head0__name {\n",
       "          padding-right: 5px;\n",
       "          flex: 1 1 50%;\n",
       "          align-self: center;\n",
       "          font-size: 36px;\n",
       "          font-weight: bold;\n",
       "          color: #6b7e51;\n",
       "        }\n",
       "        .head0__note {\n",
       "          padding-left: 10px;\n",
       "          flex: 1 1 50%;\n",
       "          align-self: flex-end;\n",
       "          font-size: 16px;\n",
       "          font-style: italic;\n",
       "          color: #485536;\n",
       "          border-left: 5px solid #8b1d1d;\n",
       "        }\n",
       "\n",
       "        .head1 {\n",
       "          margin-top: 30px;\n",
       "          padding: 10px;\n",
       "          border-top: 5px solid #8b1d1d;\n",
       "        }\n",
       "        .head1__name {\n",
       "          font-size: 32px;\n",
       "          font-weight: bold;\n",
       "          color: #485536;\n",
       "        }\n",
       "        .head1__note {\n",
       "          padding-left: 20px;\n",
       "          font-size: 20px;\n",
       "          font-style: italic;\n",
       "          color: #485536;\n",
       "        }\n",
       "\n",
       "        .head2 {\n",
       "          margin-top: 7px;\n",
       "          padding: 5px 30px 5px;\n",
       "          border-left: 2px solid #42d56e;\n",
       "        }\n",
       "        .head2__name {\n",
       "          display: inline-block;\n",
       "          max-width: 70%;\n",
       "          padding: 2px 10px;\n",
       "          font-size: 22px;\n",
       "          font-weight: bold;\n",
       "          color: #145929;\n",
       "          border-bottom: 2px solid #42d56e;\n",
       "        }\n",
       "        .head2__note {\n",
       "          padding: 5px 10px 0px;\n",
       "          font-size: 14px;\n",
       "          font-style: italic;\n",
       "          color: #485536;\n",
       "        }\n",
       "\n",
       "        .head3 {\n",
       "          margin-top: 5px;\n",
       "          padding: 3px 40px 3px;\n",
       "          border-left: 2px dotted #485536;\n",
       "        }\n",
       "        .head3__name {\n",
       "          display: inline-block;\n",
       "          max-width: 70%;\n",
       "          padding: 2px 10px;\n",
       "          font-size: 20px;\n",
       "          font-weight: bold;\n",
       "          color: #145929;\n",
       "          border-bottom: 2px dotted #485536;\n",
       "        }\n",
       "        .head3__note {\n",
       "          padding: 2px 10px 0px;\n",
       "          font-size: 12px;\n",
       "          font-style: italic;\n",
       "          color: #485536;\n",
       "        }\n",
       "\n",
       "        .warn {\n",
       "          background-color: #fcf2f2;\n",
       "          border-color: #dfb5b4;\n",
       "          border-left: 5px solid #dfb5b4;\n",
       "          padding: 0.5em;\n",
       "        }\n",
       "        .note {\n",
       "          color: #42d56e;\n",
       "        }\n",
       "        .note::before {\n",
       "          content: 'Note. ';\n",
       "          font-weight: bold;\n",
       "          color: #485536;\n",
       "        }\n",
       "\n",
       "        .end {\n",
       "          padding: 5px;\n",
       "          border-top: 5px solid #8b1d1d;\n",
       "          border-bottom: 5px solid #8b1d1d;\n",
       "        }\n",
       "    </style>"
      ],
      "text/plain": [
       "<IPython.core.display.HTML object>"
      ]
     },
     "execution_count": 2,
     "metadata": {},
     "output_type": "execute_result"
    }
   ],
   "source": [
    "import numpy as np\n",
    "\n",
    "from fpcross import ij, Grid, Solver, Model, Check\n",
    "\n",
    "ij()"
   ]
  },
  {
   "cell_type": "code",
   "execution_count": 7,
   "metadata": {},
   "outputs": [],
   "source": [
    "class Model_(Model):\n",
    "\n",
    "    def d(self):\n",
    "        return 3\n",
    "    \n",
    "    def D(self):\n",
    "        return 2.\n",
    "\n",
    "    def f0(self, X, t):\n",
    "        return X\n",
    "\n",
    "    def f1(self, X, t):\n",
    "        return np.ones(X.shape)\n",
    "\n",
    "    def r0(self, X):\n",
    "        a = 2. * s\n",
    "        r = np.exp(-np.sum(X*X, axis=0) / a) / (np.pi * a)**1.5\n",
    "        return r.reshape(-1)\n",
    "    \n",
    "    def rs(self, X):\n",
    "        return np.sum(X * X, axis=0)\n",
    "    \n",
    "    def with_rs(self):\n",
    "        return True"
   ]
  },
  {
   "cell_type": "code",
   "execution_count": 11,
   "metadata": {},
   "outputs": [
    {
     "data": {
      "text/plain": [
       "4.935128206757795"
      ]
     },
     "execution_count": 11,
     "metadata": {},
     "output_type": "execute_result"
    }
   ],
   "source": [
    "SL = Solver(\n",
    "    TG=Grid(d=1, n=2, l=[+ 0., +10.], kind='u'),\n",
    "    SG=Grid(d=3, n=15, l=[-10., +10.], kind='c'),\n",
    "    MD=Model_(),\n",
    "    eps=1.E-6, with_tt=False\n",
    ").init().prep()\n",
    "SL.comp_rhs(t=10., is_stat=True)"
   ]
  },
  {
   "cell_type": "code",
   "execution_count": null,
   "metadata": {},
   "outputs": [],
   "source": []
  }
 ],
 "metadata": {
  "kernelspec": {
   "display_name": "Python 3",
   "language": "python",
   "name": "python3"
  },
  "language_info": {
   "codemirror_mode": {
    "name": "ipython",
    "version": 3
   },
   "file_extension": ".py",
   "mimetype": "text/x-python",
   "name": "python",
   "nbconvert_exporter": "python",
   "pygments_lexer": "ipython3",
   "version": "3.7.1"
  }
 },
 "nbformat": 4,
 "nbformat_minor": 2
}
