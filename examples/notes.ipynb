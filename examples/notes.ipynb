{
 "cells": [
  {
   "cell_type": "markdown",
   "metadata": {},
   "source": [
    "---\n",
    "---\n",
    "\n",
    "### Model problem\n",
    "\n",
    "Consider stochastic differential equation (SDE)\n",
    "$$\n",
    "    \\frac{d \\, x}{\\, dt} = f(x, t) + L(x, t) w(t),\n",
    "    \\quad\n",
    "    x(0) = x_0 \\sim \\rho_0 = N(m_o, p_0),\n",
    "    \\quad\n",
    "    x \\in R^{d},\n",
    "    \\quad\n",
    "    w(t) \\in R^{q},\n",
    "$$\n",
    "where $f(x, t) \\in R^{d}$ is a drift function, $L(x, t) \\in R^{d \\times q}$ is a dispersion matrix, at initial time $t=0$ the solutions should be Gaussian with a given mean $m_0 \\in R^{d}$ and covariance $P_0 \\in R^{d \\times d}$ and the white noise process $w(t)$ has zero mean and a given spectral density $Q \\in R^{q \\times q}$\n",
    "$$\n",
    "    m_w = E \\left[ w(t) \\right] = 0,\n",
    "    \\quad\n",
    "    C_w (t_1, t_2) = E \\left[ w(t) w(t)^{\\top} \\right] = Q \\delta(t_1 - t_2).\n",
    "$$\n",
    "\n",
    "For the case of linear time-inveriant (LTI) SDE we have\n",
    "$$\n",
    "    f(x, t) = F x(t),\n",
    "    \\quad\n",
    "    L(x, t) = L,\n",
    "$$\n",
    "where $F \\in R^{d \\times d}$ and $L \\in R^{d \\times q}$ are some constant matrices."
   ]
  },
  {
   "cell_type": "markdown",
   "metadata": {},
   "source": [
    "For the LTI SDE solution at time $t$ can be represented as\n",
    "$$\n",
    "    x(t) = e^{F t} x(0) + \\int_0^t e^{F (t-\\tau)} L w(\\tau) d \\, \\tau,\n",
    "$$\n",
    "where $e^{F t}$ is the matrix exponential function.\n",
    "\n",
    "Since initial condition $x(0)$ and the noise process $w(t)$ are Gaussian and the operator is linear, then $x(t)$ should be also Gaussian with\n",
    "$$\n",
    "    m_x(t) =\n",
    "        E \\left[ x(t) \\right] = \n",
    "            E \\left[ e^{F t} x(0) \\right] =\n",
    "                e^{F t} m_0,\n",
    "$$\n",
    "$$\n",
    "    C_x(t) =\n",
    "        E \\left[ (x(t)-m_x(t)) (x(t)-m_x(t))^{\\top} \\right] =\n",
    "            \\ldots.\n",
    "$$"
   ]
  },
  {
   "cell_type": "code",
   "execution_count": null,
   "metadata": {},
   "outputs": [],
   "source": []
  },
  {
   "cell_type": "markdown",
   "metadata": {},
   "source": [
    "Ornstein–Uhlenbeck process\n",
    "$$\n",
    "    \\frac{d \\, x}{d \\, t} = - \\lambda x(t) + w(t),\n",
    "    \\quad\n",
    "    x(0) = x_0,\n",
    "    \\quad\n",
    "    \\lambda > 0,\n",
    "$$\n",
    "or\n",
    "$$\n",
    "    d \\, x = - \\lambda x(t) d \\, t + d \\, \\beta(t),\n",
    "    \\quad\n",
    "    x(0) = x_0,\n",
    "    \\quad\n",
    "    \\lambda > 0,\n",
    "$$\n",
    "\n",
    "Its solution is\n",
    "$$\n",
    "    x(t) = e^{-\\lambda t} x(0) + \\int_0^t e^{-\\lambda (t - \\tau)} d \\, \\beta(\\tau),\n",
    "$$\n",
    "and covariance matrix is\n",
    "$$\n",
    "    C(t) = \\frac{q}{2\\lambda} e^{-\\lambda |t|},\n",
    "$$\n",
    "where $q$ is spectral density of the one dimensional white noise process $w(t)$."
   ]
  },
  {
   "cell_type": "markdown",
   "metadata": {},
   "source": [
    "Euler–Maruyama method (the order of convergence is $\\frac{1}{2}$)\n",
    "$$\n",
    "    x(t_{k+1}) = x(t_{k}) + f(x(t_{k}), t_k) + L(x(t_{k}), t_k) \\Delta \\beta_k,\n",
    "$$\n",
    "where $\\beta_k$ is a Gaussian random variable with distribution $N(0, Q \\Delta t)$."
   ]
  },
  {
   "cell_type": "code",
   "execution_count": null,
   "metadata": {},
   "outputs": [],
   "source": []
  },
  {
   "cell_type": "markdown",
   "metadata": {},
   "source": [
    "$$\n",
    "    \\frac{\\partial \\rho}{\\partial t} = \\Delta \\rho - div \\left[ f(x, t) \\rho \\right],\n",
    "    \\quad\n",
    "    \\rho(x, 0) = \\rho_0(x),\n",
    "$$\n",
    "\n",
    "with\n",
    "$$\n",
    "    f(x, t) = Ax,\n",
    "    \\quad\n",
    "    A = 1.\n",
    "$$"
   ]
  },
  {
   "cell_type": "markdown",
   "metadata": {},
   "source": [
    "White noise process $w(t) \\in R^{s}$ is a random function\n",
    "\n",
    "- $w(t_1)$ and $w(t_2)$ are independent if $t_1 \\ne t_2$\n",
    "\n",
    "- $w(t)$ is a Gaussian process with zero mean and Dirac-delta-correlation\n",
    "\n",
    "$$\n",
    "    m_w = E \\left[ w(t) \\right] = 0,\n",
    "    \\quad\n",
    "    C_w (t_1, t_2) = E \\left[ w(t) w(t)^{\\top} \\right] = Q \\delta(t_1 - t_2),\n",
    "$$\n",
    "where $Q \\in R^{q \\times q}$ is the spectral density of the process.\n",
    "\n",
    "Note that $w(t)$ is discontinuous almost everywhere, white noise is unbounded and it takes arbitrarily large positive and negative values at any finite interval.\n",
    "\n",
    "Brownian motion $\\beta(t)$ is a process\n",
    "\n",
    "- Any increment $\\Delta \\beta_{k} = \\beta(t_{k+1}) - \\beta(t_{k})$ is a zero mean Gaussian random variable with covariance variance $Q \\Delta t_{k}$ ($\\Delta t_{k} = t_{k+1} - t_{k}$)\n",
    "\n",
    "- When the time spans ofincrements do not overlap, the increments are independent\n",
    "\n",
    "White noise can be considered as the formal derivative of Brownian motion $w(t)=\\frac{d \\, \\beta(t)}{d \\, t}$ (note that Brownian motion has discontinuous derivative everywhere).\n",
    "\n",
    "Itô integral\n",
    "$$\n",
    "    \\int_{t_0}^{t} L(x(t), t) d \\, \\beta(t) = \n",
    "        \\lim_{n \\rightarrow \\infty} \\sum_{n}\n",
    "            L(x(t_k), t_k) \\left[ \\beta(t_{k+1}) - \\beta(t_{k}) \\right]\n",
    "$$"
   ]
  },
  {
   "cell_type": "code",
   "execution_count": null,
   "metadata": {},
   "outputs": [],
   "source": []
  },
  {
   "cell_type": "code",
   "execution_count": null,
   "metadata": {},
   "outputs": [],
   "source": []
  },
  {
   "cell_type": "code",
   "execution_count": null,
   "metadata": {},
   "outputs": [],
   "source": []
  },
  {
   "cell_type": "code",
   "execution_count": null,
   "metadata": {},
   "outputs": [],
   "source": []
  },
  {
   "cell_type": "markdown",
   "metadata": {},
   "source": []
  },
  {
   "cell_type": "code",
   "execution_count": null,
   "metadata": {},
   "outputs": [],
   "source": []
  }
 ],
 "metadata": {
  "kernelspec": {
   "display_name": "Python 3",
   "language": "python",
   "name": "python3"
  },
  "language_info": {
   "codemirror_mode": {
    "name": "ipython",
    "version": 3
   },
   "file_extension": ".py",
   "mimetype": "text/x-python",
   "name": "python",
   "nbconvert_exporter": "python",
   "pygments_lexer": "ipython3",
   "version": "3.7.1"
  }
 },
 "nbformat": 4,
 "nbformat_minor": 2
}
