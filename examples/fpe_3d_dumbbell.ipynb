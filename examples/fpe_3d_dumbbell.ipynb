{
 "cells": [
  {
   "cell_type": "code",
   "execution_count": 1,
   "metadata": {},
   "outputs": [
    {
     "name": "stdout",
     "output_type": "stream",
     "text": [
      "Start |  3:27PM MSK on Nov 25, 2019 | python 3.7.1    |\n",
      "-------------------------------------------------------\n"
     ]
    },
    {
     "data": {
      "text/html": [
       "<style>\n",
       "        div {\n",
       "          margin: 0;\n",
       "          padding: 0;\n",
       "        }\n",
       "\n",
       "        .head0 {\n",
       "          padding: 10px;\n",
       "          display: flex;\n",
       "          background-color: #dedee2;\n",
       "        }\n",
       "        .head0__name {\n",
       "          padding-right: 5px;\n",
       "          flex: 1 1 50%;\n",
       "          align-self: center;\n",
       "          font-size: 36px;\n",
       "          font-weight: bold;\n",
       "          color: #6b7e51;\n",
       "        }\n",
       "        .head0__note {\n",
       "          padding-left: 10px;\n",
       "          flex: 1 1 50%;\n",
       "          align-self: flex-end;\n",
       "          font-size: 16px;\n",
       "          font-style: italic;\n",
       "          color: #485536;\n",
       "          border-left: 5px solid #8b1d1d;\n",
       "        }\n",
       "\n",
       "        .head1 {\n",
       "          margin-top: 30px;\n",
       "          padding: 10px;\n",
       "          border-top: 5px solid #8b1d1d;\n",
       "        }\n",
       "        .head1__name {\n",
       "          font-size: 32px;\n",
       "          font-weight: bold;\n",
       "          color: #485536;\n",
       "        }\n",
       "        .head1__note {\n",
       "          padding-left: 20px;\n",
       "          font-size: 20px;\n",
       "          font-style: italic;\n",
       "          color: #485536;\n",
       "        }\n",
       "\n",
       "        .head2 {\n",
       "          margin-top: 7px;\n",
       "          padding: 5px 30px 5px;\n",
       "          border-left: 2px solid #42d56e;\n",
       "        }\n",
       "        .head2__name {\n",
       "          display: inline-block;\n",
       "          max-width: 70%;\n",
       "          padding: 2px 10px;\n",
       "          font-size: 22px;\n",
       "          font-weight: bold;\n",
       "          color: #145929;\n",
       "          border-bottom: 2px solid #42d56e;\n",
       "        }\n",
       "        .head2__note {\n",
       "          padding: 5px 10px 0px;\n",
       "          font-size: 14px;\n",
       "          font-style: italic;\n",
       "          color: #485536;\n",
       "        }\n",
       "\n",
       "        .head3 {\n",
       "          margin-top: 5px;\n",
       "          padding: 3px 40px 3px;\n",
       "          border-left: 2px dotted #485536;\n",
       "        }\n",
       "        .head3__name {\n",
       "          display: inline-block;\n",
       "          max-width: 70%;\n",
       "          padding: 2px 10px;\n",
       "          font-size: 20px;\n",
       "          font-weight: bold;\n",
       "          color: #145929;\n",
       "          border-bottom: 2px dotted #485536;\n",
       "        }\n",
       "        .head3__note {\n",
       "          padding: 2px 10px 0px;\n",
       "          font-size: 12px;\n",
       "          font-style: italic;\n",
       "          color: #485536;\n",
       "        }\n",
       "\n",
       "        .warn {\n",
       "          background-color: #fcf2f2;\n",
       "          border-color: #dfb5b4;\n",
       "          border-left: 5px solid #dfb5b4;\n",
       "          padding: 0.5em;\n",
       "        }\n",
       "\n",
       "        .note {\n",
       "          color: #42d56e;\n",
       "        }\n",
       "        .note::before {\n",
       "          content: 'Note. ';\n",
       "          font-weight: bold;\n",
       "          color: #485536;\n",
       "        }\n",
       "\n",
       "        .end {\n",
       "          padding: 5px;\n",
       "          border-top: 5px solid #8b1d1d;\n",
       "          border-bottom: 5px solid #8b1d1d;\n",
       "        }\n",
       "    </style>"
      ],
      "text/plain": [
       "<IPython.core.display.HTML object>"
      ]
     },
     "execution_count": 1,
     "metadata": {},
     "output_type": "execute_result"
    }
   ],
   "source": [
    "import numpy as np\n",
    "from fpcross import ij, Grid, Func, Solver, Model, Check\n",
    "\n",
    "ij()"
   ]
  },
  {
   "cell_type": "markdown",
   "metadata": {},
   "source": [
    "Let solve\n",
    "$$\n",
    "    \\frac{\\partial \\psi}{\\partial t}\n",
    "    =\n",
    "    - A \\psi,\n",
    "    \\quad\n",
    "    \\psi(0) = \\psi_0,\n",
    "    \\quad\n",
    "    x \\in \\Omega,\n",
    "$$\n",
    "where\n",
    "$$\n",
    "    A \\psi\n",
    "    =\n",
    "    - \\epsilon \\Delta \\psi\n",
    "    + div({\\psi v}),\n",
    "$$\n",
    "with $\\epsilon \\in R$ and $v \\in R^{d}$.\n",
    "\n",
    "We have\n",
    "$$\n",
    "    \\frac{\\partial \\psi}{\\partial t}\n",
    "    = \\epsilon \\Delta \\psi - div({\\psi v}).\n",
    "$$\n",
    "\n",
    "Note that for the case of potential field $v = grad(\\phi)$ the analytical solution of the stationary problem is given as $\\psi = C e^{-\\frac{\\phi}{\\epsilon}}$, where the constant $C$ is defined to satisfy the normalization condition $\\int_{\\Omega} \\psi \\, d x = 1$.\n",
    "\n",
    "Consider three-dimensional equation (dumbbell model)\n",
    "$$\n",
    "    \\epsilon=\\frac{1}{2},\n",
    "    \\quad\n",
    "    v = K x - \\frac{1}{2} grad(\\phi),\n",
    "    \\quad\n",
    "    x \\in [-a, a]^3,\n",
    "$$\n",
    "where\n",
    "$$\n",
    "    \\phi = \\frac{1}{2} |x|^2 + \\frac{\\alpha}{p^3} e^{-\\frac{|x|^2}{2 p^2}},\n",
    "$$\n",
    "and\n",
    "$$\n",
    "    K = \\beta \\begin{bmatrix}\n",
    "        0 & 1 & 0 \\\\\n",
    "        0 & 0 & 0 \\\\\n",
    "        0 & 0 & 0\n",
    "    \\end{bmatrix}.\n",
    "$$"
   ]
  },
  {
   "cell_type": "markdown",
   "metadata": {},
   "source": [
    "We have\n",
    "$$\n",
    "    v\n",
    "    =\n",
    "    [v_1, v_2, v_3]^T =\n",
    "    K x\n",
    "    - \\frac{1}{2} x\n",
    "    + \\frac{\\alpha}{2 p^5} e^{-\\frac{|x|^2}{2 p^2}} x,\n",
    "$$\n",
    "\n",
    "$$\n",
    "    \\frac{\\partial v_1}{\\partial x_1}\n",
    "    =\n",
    "    - \\frac{1}{2}\n",
    "    + \\frac{\\alpha}{2 p^5} e^{-\\frac{|x|^2}{2 p^2}}\n",
    "    - \\frac{\\alpha}{2 p^7} e^{-\\frac{|x|^2}{2 p^2}} x_1^2,\n",
    "$$\n",
    "\n",
    "$$\n",
    "    \\frac{\\partial v_2}{\\partial x_2}\n",
    "    =\n",
    "    - \\frac{1}{2}\n",
    "    + \\frac{\\alpha}{2 p^5} e^{-\\frac{|x|^2}{2 p^2}}\n",
    "    - \\frac{\\alpha}{2 p^7} e^{-\\frac{|x|^2}{2 p^2}} x_2^2,\n",
    "$$\n",
    "\n",
    "$$\n",
    "    \\frac{\\partial v_3}{\\partial x_3}\n",
    "    =\n",
    "    - \\frac{1}{2}\n",
    "    + \\frac{\\alpha}{2 p^5} e^{-\\frac{|x|^2}{2 p^2}}\n",
    "    - \\frac{\\alpha}{2 p^7} e^{-\\frac{|x|^2}{2 p^2}} x_3^2.\n",
    "$$"
   ]
  },
  {
   "cell_type": "markdown",
   "metadata": {},
   "source": [
    "We select parameter values as in the paper\n",
    "$$\n",
    "    \\beta = 1,\n",
    "    \\quad\n",
    "    \\alpha = 0.1,\n",
    "    \\quad\n",
    "    p = 0.5,\n",
    "    \\quad\n",
    "    x \\in [-10, 10]^3,\n",
    "    \\quad\n",
    "    t \\in [0, 10],\n",
    "    \\quad\n",
    "    \\epsilon = 10^{-6}.\n",
    "$$"
   ]
  },
  {
   "cell_type": "markdown",
   "metadata": {},
   "source": [
    "We solve FPE and obtain solution $\\rho(x)$. Using this solution we can compute the Kramer expression\n",
    "$$\n",
    "    \\tau = \\int \\rho(x) \\left[ x \\otimes grad(\\phi) \\right] d x,\n",
    "$$\n",
    "where\n",
    "$$\n",
    "    grad(\\phi) = x - \\frac{\\alpha}{p^5} e^{-\\frac{x^2}{2 p^2}} x.\n",
    "$$\n",
    "\n",
    "Then we can compute the following scalar values\n",
    "$$\n",
    "    \\eta = - \\frac{\\tau_{12}}{\\beta},\n",
    "    \\quad\n",
    "    \\Psi = - \\frac{\\tau_{11} - \\tau_{22}}{\\beta^2}.\n",
    "$$\n",
    "\n",
    "It is expected from the paper\n",
    "$$\n",
    "    \\eta = 1.0328125,\n",
    "    \\quad\n",
    "    \\Psi = 2.071143.\n",
    "$$"
   ]
  },
  {
   "cell_type": "code",
   "execution_count": 3,
   "metadata": {},
   "outputs": [],
   "source": [
    "a = 0.1\n",
    "b = 1.\n",
    "p = 0.5\n",
    "s = 1.\n",
    "D = 0.5\n",
    "\n",
    "def dphi(X):\n",
    "    ''' Grad \\phi.'''\n",
    "    return X - a / 2. / p**5 * np.exp(-np.sum(X*X, axis=0) / 2. / p**2) * X\n",
    "\n",
    "def deta(X, r):\n",
    "    p = dphi(X)\n",
    "    return 1. * r * X[0, :] * p[1, :]  / b\n",
    "\n",
    "def dpsi(X, r):\n",
    "    p = dphi(X)\n",
    "    return 1. * r * (X[0, :] * p[0, :] - X[1, :] * p[1, :]) / b**2\n",
    "\n",
    "class Model_(Model):\n",
    "\n",
    "    def d(self):\n",
    "        return 3\n",
    "    \n",
    "    def D(self):\n",
    "        return D\n",
    "\n",
    "    def f0(self, X, t):\n",
    "        mult = a / 2. / p**5 * np.exp(-np.sum(X*X, axis=0) / 2. / p**2)\n",
    "        return np.vstack([\n",
    "            -0.5 * X[0, :] + mult * X[0, :] + b * X[1, :],\n",
    "            -0.5 * X[1, :] + mult * X[1, :],\n",
    "            -0.5 * X[2, :] + mult * X[2, :]\n",
    "        ])\n",
    "\n",
    "    def f1(self, X, t):\n",
    "        mult = a / 2. / p**5 * np.exp(-np.sum(X*X, axis=0) / 2. / p**2)  \n",
    "        return np.vstack([\n",
    "            -0.5 + mult - mult / p**2 * X[0, :]**2,\n",
    "            -0.5 + mult - mult / p**2 * X[1, :]**2,\n",
    "            -0.5 + mult - mult / p**2 * X[2, :]**2\n",
    "        ])\n",
    "\n",
    "    def r0(self, X):\n",
    "        a = 2. * s\n",
    "        r = np.exp(-np.sum(X*X, axis=0) / a) / (np.pi * a)**1.5\n",
    "        return r.reshape(-1)"
   ]
  },
  {
   "cell_type": "code",
   "execution_count": 4,
   "metadata": {},
   "outputs": [],
   "source": [
    "def func(SL):\n",
    "    FN0 = SL.FN.copy().calc()\n",
    "    \n",
    "    FN = Func(SL.SG, eps=1.E-6, with_tt=True)\n",
    "    FN.init(lambda X: deta(X, FN0.comp(X))).prep().calc()\n",
    "    uc = FN.comp_int()\n",
    "    ur = +1.0328125\n",
    "    e = np.abs(ur - uc) / np.abs(ur)\n",
    "    e_list.append(uc)\n",
    "    print('Eta | Calc  : %-8.2e | Real  : %-8.2e | Err : %-8.2e'%(uc, ur, e))\n",
    "          \n",
    "    FN = Func(SL.SG, eps=1.E-6, with_tt=True)\n",
    "    FN.init(lambda X: dpsi(X, FN0.comp(X))).prep().calc()\n",
    "    uc = FN.comp_int()\n",
    "    ur = +2.071143\n",
    "    e = np.abs(ur - uc) / np.abs(ur)\n",
    "    p_list.append(uc)  \n",
    "    print('Psi | Calc  : %-8.2e | Real  : %-8.2e | Err : %-8.2e'%(uc, ur, e))\n",
    "\n",
    "    t_list.append(SL.t)"
   ]
  },
  {
   "cell_type": "code",
   "execution_count": 5,
   "metadata": {},
   "outputs": [],
   "source": [
    "t_list = []\n",
    "e_list = []\n",
    "p_list = []"
   ]
  },
  {
   "cell_type": "code",
   "execution_count": 8,
   "metadata": {},
   "outputs": [
    {
     "name": "stderr",
     "output_type": "stream",
     "text": [
      "Solve:   0%|                                           | 0/99 [00:00<?, ?step/s]"
     ]
    },
    {
     "name": "stdout",
     "output_type": "stream",
     "text": [
      "Eta | Calc  : 1.01e-01 | Real  : 1.03e+00 | Err : 9.03e-01\n"
     ]
    },
    {
     "name": "stderr",
     "output_type": "stream",
     "text": [
      "Solve:   1%|▎                                  | 1/99 [00:01<01:43,  1.06s/step]"
     ]
    },
    {
     "name": "stdout",
     "output_type": "stream",
     "text": [
      "Psi | Calc  : -8.36e-03 | Real  : 2.07e+00 | Err : 1.00e+00\n",
      "Eta | Calc  : 1.98e-01 | Real  : 1.03e+00 | Err : 8.08e-01\n"
     ]
    },
    {
     "name": "stderr",
     "output_type": "stream",
     "text": [
      "Solve:   2%|▋                                  | 2/99 [00:02<01:56,  1.20s/step]"
     ]
    },
    {
     "name": "stdout",
     "output_type": "stream",
     "text": [
      "Psi | Calc  : 2.95e-03 | Real  : 2.07e+00 | Err : 9.99e-01\n",
      "Eta | Calc  : 2.93e-01 | Real  : 1.03e+00 | Err : 7.17e-01\n"
     ]
    },
    {
     "name": "stderr",
     "output_type": "stream",
     "text": [
      "Solve:   3%|█                                  | 3/99 [00:05<02:33,  1.59s/step]"
     ]
    },
    {
     "name": "stdout",
     "output_type": "stream",
     "text": [
      "Psi | Calc  : 2.88e-02 | Real  : 2.07e+00 | Err : 9.86e-01\n",
      "Eta | Calc  : 3.91e-01 | Real  : 1.03e+00 | Err : 6.22e-01\n"
     ]
    },
    {
     "name": "stderr",
     "output_type": "stream",
     "text": [
      "Solve:   4%|█▍                                 | 4/99 [00:06<02:35,  1.64s/step]"
     ]
    },
    {
     "name": "stdout",
     "output_type": "stream",
     "text": [
      "Psi | Calc  : 7.54e-02 | Real  : 2.07e+00 | Err : 9.64e-01\n",
      "Eta | Calc  : 4.86e-01 | Real  : 1.03e+00 | Err : 5.30e-01\n"
     ]
    },
    {
     "name": "stderr",
     "output_type": "stream",
     "text": [
      "Solve:   5%|█▊                                 | 5/99 [00:10<03:18,  2.11s/step]"
     ]
    },
    {
     "name": "stdout",
     "output_type": "stream",
     "text": [
      "Psi | Calc  : 1.50e-01 | Real  : 2.07e+00 | Err : 9.28e-01\n",
      "Eta | Calc  : 5.77e-01 | Real  : 1.03e+00 | Err : 4.41e-01\n"
     ]
    },
    {
     "name": "stderr",
     "output_type": "stream",
     "text": [
      "Solve:   6%|██                                 | 6/99 [00:14<04:15,  2.75s/step]"
     ]
    },
    {
     "name": "stdout",
     "output_type": "stream",
     "text": [
      "Psi | Calc  : 2.33e-01 | Real  : 2.07e+00 | Err : 8.87e-01\n",
      "Eta | Calc  : 6.77e-01 | Real  : 1.03e+00 | Err : 3.44e-01\n"
     ]
    },
    {
     "name": "stderr",
     "output_type": "stream",
     "text": [
      "Solve:   7%|██▍                                | 7/99 [00:18<04:51,  3.17s/step]"
     ]
    },
    {
     "name": "stdout",
     "output_type": "stream",
     "text": [
      "Psi | Calc  : 3.37e-01 | Real  : 2.07e+00 | Err : 8.37e-01\n",
      "Eta | Calc  : 7.80e-01 | Real  : 1.03e+00 | Err : 2.45e-01\n"
     ]
    },
    {
     "name": "stderr",
     "output_type": "stream",
     "text": [
      "Solve:   8%|██▊                                | 8/99 [00:23<05:50,  3.85s/step]"
     ]
    },
    {
     "name": "stdout",
     "output_type": "stream",
     "text": [
      "Psi | Calc  : 4.58e-01 | Real  : 2.07e+00 | Err : 7.79e-01\n",
      "Eta | Calc  : 8.81e-01 | Real  : 1.03e+00 | Err : 1.47e-01\n"
     ]
    },
    {
     "name": "stderr",
     "output_type": "stream",
     "text": [
      "Solve:   9%|███▏                               | 9/99 [00:29<06:25,  4.29s/step]"
     ]
    },
    {
     "name": "stdout",
     "output_type": "stream",
     "text": [
      "Psi | Calc  : 5.91e-01 | Real  : 2.07e+00 | Err : 7.15e-01\n",
      "Eta | Calc  : 9.81e-01 | Real  : 1.03e+00 | Err : 5.05e-02\n"
     ]
    },
    {
     "name": "stderr",
     "output_type": "stream",
     "text": [
      "Solve:  10%|███▍                              | 10/99 [00:33<06:22,  4.30s/step]"
     ]
    },
    {
     "name": "stdout",
     "output_type": "stream",
     "text": [
      "Psi | Calc  : 7.35e-01 | Real  : 2.07e+00 | Err : 6.45e-01\n",
      "Eta | Calc  : 1.08e+00 | Real  : 1.03e+00 | Err : 4.16e-02\n"
     ]
    },
    {
     "name": "stderr",
     "output_type": "stream",
     "text": [
      "Solve:  11%|███▊                              | 11/99 [00:38<06:43,  4.59s/step]"
     ]
    },
    {
     "name": "stdout",
     "output_type": "stream",
     "text": [
      "Psi | Calc  : 8.86e-01 | Real  : 2.07e+00 | Err : 5.72e-01\n",
      "Eta | Calc  : 1.17e+00 | Real  : 1.03e+00 | Err : 1.31e-01\n"
     ]
    },
    {
     "name": "stderr",
     "output_type": "stream",
     "text": [
      "Solve:  12%|████                              | 12/99 [00:43<06:47,  4.69s/step]"
     ]
    },
    {
     "name": "stdout",
     "output_type": "stream",
     "text": [
      "Psi | Calc  : 1.04e+00 | Real  : 2.07e+00 | Err : 4.97e-01\n",
      "Eta | Calc  : 1.26e+00 | Real  : 1.03e+00 | Err : 2.19e-01\n"
     ]
    },
    {
     "name": "stderr",
     "output_type": "stream",
     "text": [
      "Solve:  13%|████▍                             | 13/99 [00:47<06:31,  4.55s/step]"
     ]
    },
    {
     "name": "stdout",
     "output_type": "stream",
     "text": [
      "Psi | Calc  : 1.15e+00 | Real  : 2.07e+00 | Err : 4.46e-01\n",
      "Eta | Calc  : 1.35e+00 | Real  : 1.03e+00 | Err : 3.05e-01\n"
     ]
    },
    {
     "name": "stderr",
     "output_type": "stream",
     "text": [
      "Solve:  14%|████▊                             | 14/99 [00:53<06:46,  4.79s/step]"
     ]
    },
    {
     "name": "stdout",
     "output_type": "stream",
     "text": [
      "Psi | Calc  : 1.31e+00 | Real  : 2.07e+00 | Err : 3.70e-01\n",
      "Eta | Calc  : 1.43e+00 | Real  : 1.03e+00 | Err : 3.84e-01\n"
     ]
    },
    {
     "name": "stderr",
     "output_type": "stream",
     "text": [
      "Solve:  15%|█████▏                            | 15/99 [00:57<06:25,  4.59s/step]"
     ]
    },
    {
     "name": "stdout",
     "output_type": "stream",
     "text": [
      "Psi | Calc  : 1.46e+00 | Real  : 2.07e+00 | Err : 2.94e-01\n",
      "Eta | Calc  : 1.51e+00 | Real  : 1.03e+00 | Err : 4.62e-01\n"
     ]
    },
    {
     "name": "stderr",
     "output_type": "stream",
     "text": [
      "Solve:  16%|█████▍                            | 16/99 [01:01<06:06,  4.41s/step]"
     ]
    },
    {
     "name": "stdout",
     "output_type": "stream",
     "text": [
      "Psi | Calc  : 1.62e+00 | Real  : 2.07e+00 | Err : 2.18e-01\n",
      "Eta | Calc  : 1.58e+00 | Real  : 1.03e+00 | Err : 5.31e-01\n"
     ]
    },
    {
     "name": "stderr",
     "output_type": "stream",
     "text": [
      "Solve:  17%|█████▊                            | 17/99 [01:07<06:37,  4.84s/step]"
     ]
    },
    {
     "name": "stdout",
     "output_type": "stream",
     "text": [
      "Psi | Calc  : 1.78e+00 | Real  : 2.07e+00 | Err : 1.39e-01\n",
      "Eta | Calc  : 1.65e+00 | Real  : 1.03e+00 | Err : 5.98e-01\n"
     ]
    },
    {
     "name": "stderr",
     "output_type": "stream",
     "text": [
      "Solve:  18%|██████▏                           | 18/99 [01:12<06:41,  4.96s/step]"
     ]
    },
    {
     "name": "stdout",
     "output_type": "stream",
     "text": [
      "Psi | Calc  : 1.94e+00 | Real  : 2.07e+00 | Err : 6.28e-02\n",
      "Eta | Calc  : 1.71e+00 | Real  : 1.03e+00 | Err : 6.60e-01\n"
     ]
    },
    {
     "name": "stderr",
     "output_type": "stream",
     "text": [
      "Solve:  19%|██████▌                           | 19/99 [01:17<06:42,  5.03s/step]"
     ]
    },
    {
     "name": "stdout",
     "output_type": "stream",
     "text": [
      "Psi | Calc  : 2.09e+00 | Real  : 2.07e+00 | Err : 1.13e-02\n",
      "Eta | Calc  : 1.77e+00 | Real  : 1.03e+00 | Err : 7.18e-01\n"
     ]
    },
    {
     "name": "stderr",
     "output_type": "stream",
     "text": [
      "Solve:  20%|██████▊                           | 20/99 [01:21<06:19,  4.80s/step]"
     ]
    },
    {
     "name": "stdout",
     "output_type": "stream",
     "text": [
      "Psi | Calc  : 2.24e+00 | Real  : 2.07e+00 | Err : 8.25e-02\n",
      "Eta | Calc  : 1.83e+00 | Real  : 1.03e+00 | Err : 7.71e-01\n"
     ]
    },
    {
     "name": "stderr",
     "output_type": "stream",
     "text": [
      "Solve:  21%|███████▏                          | 21/99 [01:25<05:52,  4.51s/step]"
     ]
    },
    {
     "name": "stdout",
     "output_type": "stream",
     "text": [
      "Psi | Calc  : 2.38e+00 | Real  : 2.07e+00 | Err : 1.51e-01\n",
      "Eta | Calc  : 1.88e+00 | Real  : 1.03e+00 | Err : 8.20e-01\n"
     ]
    },
    {
     "name": "stderr",
     "output_type": "stream",
     "text": [
      "Solve:  22%|███████▌                          | 22/99 [01:30<06:01,  4.69s/step]"
     ]
    },
    {
     "name": "stdout",
     "output_type": "stream",
     "text": [
      "Psi | Calc  : 2.52e+00 | Real  : 2.07e+00 | Err : 2.16e-01\n",
      "Eta | Calc  : 1.93e+00 | Real  : 1.03e+00 | Err : 8.65e-01\n"
     ]
    },
    {
     "name": "stderr",
     "output_type": "stream",
     "text": [
      "Solve:  23%|███████▉                          | 23/99 [01:36<06:10,  4.87s/step]"
     ]
    },
    {
     "name": "stdout",
     "output_type": "stream",
     "text": [
      "Psi | Calc  : 2.65e+00 | Real  : 2.07e+00 | Err : 2.78e-01\n",
      "Eta | Calc  : 1.97e+00 | Real  : 1.03e+00 | Err : 9.07e-01\n"
     ]
    },
    {
     "name": "stderr",
     "output_type": "stream",
     "text": [
      "Solve:  24%|████████▏                         | 24/99 [01:41<06:18,  5.05s/step]"
     ]
    },
    {
     "name": "stdout",
     "output_type": "stream",
     "text": [
      "Psi | Calc  : 2.77e+00 | Real  : 2.07e+00 | Err : 3.37e-01\n",
      "Eta | Calc  : 2.01e+00 | Real  : 1.03e+00 | Err : 9.44e-01\n"
     ]
    },
    {
     "name": "stderr",
     "output_type": "stream",
     "text": [
      "Solve:  25%|████████▌                         | 25/99 [01:46<06:19,  5.12s/step]"
     ]
    },
    {
     "name": "stdout",
     "output_type": "stream",
     "text": [
      "Psi | Calc  : 2.88e+00 | Real  : 2.07e+00 | Err : 3.92e-01\n",
      "Eta | Calc  : 2.04e+00 | Real  : 1.03e+00 | Err : 9.78e-01\n"
     ]
    },
    {
     "name": "stderr",
     "output_type": "stream",
     "text": [
      "Solve:  26%|████████▉                         | 26/99 [01:52<06:19,  5.20s/step]"
     ]
    },
    {
     "name": "stdout",
     "output_type": "stream",
     "text": [
      "Psi | Calc  : 2.99e+00 | Real  : 2.07e+00 | Err : 4.44e-01\n",
      "Eta | Calc  : 2.07e+00 | Real  : 1.03e+00 | Err : 1.01e+00\n"
     ]
    },
    {
     "name": "stderr",
     "output_type": "stream",
     "text": [
      "Solve:  27%|█████████▎                        | 27/99 [01:57<06:19,  5.28s/step]"
     ]
    },
    {
     "name": "stdout",
     "output_type": "stream",
     "text": [
      "Psi | Calc  : 3.09e+00 | Real  : 2.07e+00 | Err : 4.92e-01\n",
      "Eta | Calc  : 2.10e+00 | Real  : 1.03e+00 | Err : 1.04e+00\n"
     ]
    },
    {
     "name": "stderr",
     "output_type": "stream",
     "text": [
      "Solve:  28%|█████████▌                        | 28/99 [02:03<06:20,  5.36s/step]"
     ]
    },
    {
     "name": "stdout",
     "output_type": "stream",
     "text": [
      "Psi | Calc  : 3.19e+00 | Real  : 2.07e+00 | Err : 5.38e-01\n",
      "Eta | Calc  : 2.13e+00 | Real  : 1.03e+00 | Err : 1.06e+00\n"
     ]
    },
    {
     "name": "stderr",
     "output_type": "stream",
     "text": [
      "Solve:  29%|█████████▉                        | 29/99 [02:09<06:24,  5.49s/step]"
     ]
    },
    {
     "name": "stdout",
     "output_type": "stream",
     "text": [
      "Psi | Calc  : 3.27e+00 | Real  : 2.07e+00 | Err : 5.80e-01\n",
      "Eta | Calc  : 2.15e+00 | Real  : 1.03e+00 | Err : 1.08e+00\n"
     ]
    },
    {
     "name": "stderr",
     "output_type": "stream",
     "text": [
      "Solve:  30%|██████████▎                       | 30/99 [02:16<07:07,  6.19s/step]"
     ]
    },
    {
     "name": "stdout",
     "output_type": "stream",
     "text": [
      "Psi | Calc  : 3.35e+00 | Real  : 2.07e+00 | Err : 6.19e-01\n",
      "Eta | Calc  : 2.17e+00 | Real  : 1.03e+00 | Err : 1.10e+00\n"
     ]
    },
    {
     "name": "stderr",
     "output_type": "stream",
     "text": [
      "Solve:  31%|██████████▋                       | 31/99 [02:22<06:56,  6.12s/step]"
     ]
    },
    {
     "name": "stdout",
     "output_type": "stream",
     "text": [
      "Psi | Calc  : 3.43e+00 | Real  : 2.07e+00 | Err : 6.56e-01\n",
      "Eta | Calc  : 2.19e+00 | Real  : 1.03e+00 | Err : 1.12e+00\n"
     ]
    },
    {
     "name": "stderr",
     "output_type": "stream",
     "text": [
      "Solve:  32%|██████████▉                       | 32/99 [02:28<06:44,  6.03s/step]"
     ]
    },
    {
     "name": "stdout",
     "output_type": "stream",
     "text": [
      "Psi | Calc  : 3.50e+00 | Real  : 2.07e+00 | Err : 6.89e-01\n",
      "Eta | Calc  : 2.20e+00 | Real  : 1.03e+00 | Err : 1.13e+00\n"
     ]
    },
    {
     "name": "stderr",
     "output_type": "stream",
     "text": [
      "Solve:  33%|███████████▎                      | 33/99 [02:35<06:47,  6.17s/step]"
     ]
    },
    {
     "name": "stdout",
     "output_type": "stream",
     "text": [
      "Psi | Calc  : 3.56e+00 | Real  : 2.07e+00 | Err : 7.20e-01\n",
      "Eta | Calc  : 2.21e+00 | Real  : 1.03e+00 | Err : 1.14e+00\n"
     ]
    },
    {
     "name": "stderr",
     "output_type": "stream",
     "text": [
      "Solve:  34%|███████████▋                      | 34/99 [02:43<07:31,  6.95s/step]"
     ]
    },
    {
     "name": "stdout",
     "output_type": "stream",
     "text": [
      "Psi | Calc  : 3.62e+00 | Real  : 2.07e+00 | Err : 7.48e-01\n",
      "Eta | Calc  : 2.23e+00 | Real  : 1.03e+00 | Err : 1.15e+00\n"
     ]
    },
    {
     "name": "stderr",
     "output_type": "stream",
     "text": [
      "Solve:  35%|████████████                      | 35/99 [02:53<08:18,  7.79s/step]"
     ]
    },
    {
     "name": "stdout",
     "output_type": "stream",
     "text": [
      "Psi | Calc  : 3.67e+00 | Real  : 2.07e+00 | Err : 7.74e-01\n",
      "Eta | Calc  : 2.24e+00 | Real  : 1.03e+00 | Err : 1.16e+00\n"
     ]
    },
    {
     "name": "stderr",
     "output_type": "stream",
     "text": [
      "Solve:  36%|████████████▎                     | 36/99 [02:59<07:31,  7.17s/step]"
     ]
    },
    {
     "name": "stdout",
     "output_type": "stream",
     "text": [
      "Psi | Calc  : 3.72e+00 | Real  : 2.07e+00 | Err : 7.98e-01\n",
      "Eta | Calc  : 2.24e+00 | Real  : 1.03e+00 | Err : 1.17e+00\n"
     ]
    },
    {
     "name": "stderr",
     "output_type": "stream",
     "text": [
      "Solve:  37%|████████████▋                     | 37/99 [03:03<06:33,  6.34s/step]"
     ]
    },
    {
     "name": "stdout",
     "output_type": "stream",
     "text": [
      "Psi | Calc  : 3.77e+00 | Real  : 2.07e+00 | Err : 8.19e-01\n",
      "Eta | Calc  : 2.25e+00 | Real  : 1.03e+00 | Err : 1.18e+00\n"
     ]
    },
    {
     "name": "stderr",
     "output_type": "stream",
     "text": [
      "Solve:  38%|█████████████                     | 38/99 [03:08<06:00,  5.91s/step]"
     ]
    },
    {
     "name": "stdout",
     "output_type": "stream",
     "text": [
      "Psi | Calc  : 3.81e+00 | Real  : 2.07e+00 | Err : 8.39e-01\n",
      "Eta | Calc  : 2.26e+00 | Real  : 1.03e+00 | Err : 1.18e+00\n"
     ]
    },
    {
     "name": "stderr",
     "output_type": "stream",
     "text": [
      "Solve:  39%|█████████████▍                    | 39/99 [03:13<05:30,  5.50s/step]"
     ]
    },
    {
     "name": "stdout",
     "output_type": "stream",
     "text": [
      "Psi | Calc  : 3.84e+00 | Real  : 2.07e+00 | Err : 8.56e-01\n",
      "Eta | Calc  : 2.26e+00 | Real  : 1.03e+00 | Err : 1.19e+00\n"
     ]
    },
    {
     "name": "stderr",
     "output_type": "stream",
     "text": [
      "Solve:  40%|█████████████▋                    | 40/99 [03:18<05:12,  5.30s/step]"
     ]
    },
    {
     "name": "stdout",
     "output_type": "stream",
     "text": [
      "Psi | Calc  : 3.88e+00 | Real  : 2.07e+00 | Err : 8.72e-01\n",
      "Eta | Calc  : 2.27e+00 | Real  : 1.03e+00 | Err : 1.19e+00\n"
     ]
    },
    {
     "name": "stderr",
     "output_type": "stream",
     "text": [
      "Solve:  41%|██████████████                    | 41/99 [03:23<04:59,  5.17s/step]"
     ]
    },
    {
     "name": "stdout",
     "output_type": "stream",
     "text": [
      "Psi | Calc  : 3.91e+00 | Real  : 2.07e+00 | Err : 8.86e-01\n",
      "Eta | Calc  : 2.27e+00 | Real  : 1.03e+00 | Err : 1.20e+00\n"
     ]
    },
    {
     "name": "stderr",
     "output_type": "stream",
     "text": [
      "Solve:  42%|██████████████▍                   | 42/99 [03:27<04:40,  4.92s/step]"
     ]
    },
    {
     "name": "stdout",
     "output_type": "stream",
     "text": [
      "Psi | Calc  : 3.93e+00 | Real  : 2.07e+00 | Err : 8.98e-01\n",
      "Eta | Calc  : 2.27e+00 | Real  : 1.03e+00 | Err : 1.20e+00\n"
     ]
    },
    {
     "name": "stderr",
     "output_type": "stream",
     "text": [
      "Solve:  43%|██████████████▊                   | 43/99 [03:32<04:32,  4.87s/step]"
     ]
    },
    {
     "name": "stdout",
     "output_type": "stream",
     "text": [
      "Psi | Calc  : 3.95e+00 | Real  : 2.07e+00 | Err : 9.09e-01\n",
      "Eta | Calc  : 2.27e+00 | Real  : 1.03e+00 | Err : 1.20e+00\n"
     ]
    },
    {
     "name": "stderr",
     "output_type": "stream",
     "text": [
      "Solve:  44%|███████████████                   | 44/99 [03:36<04:20,  4.73s/step]"
     ]
    },
    {
     "name": "stdout",
     "output_type": "stream",
     "text": [
      "Psi | Calc  : 3.98e+00 | Real  : 2.07e+00 | Err : 9.19e-01\n",
      "Eta | Calc  : 2.27e+00 | Real  : 1.03e+00 | Err : 1.20e+00\n"
     ]
    },
    {
     "name": "stderr",
     "output_type": "stream",
     "text": [
      "Solve:  45%|███████████████▍                  | 45/99 [03:41<04:15,  4.73s/step]"
     ]
    },
    {
     "name": "stdout",
     "output_type": "stream",
     "text": [
      "Psi | Calc  : 3.99e+00 | Real  : 2.07e+00 | Err : 9.28e-01\n",
      "Eta | Calc  : 2.28e+00 | Real  : 1.03e+00 | Err : 1.20e+00\n"
     ]
    },
    {
     "name": "stderr",
     "output_type": "stream",
     "text": [
      "Solve:  46%|███████████████▊                  | 46/99 [03:45<04:07,  4.67s/step]"
     ]
    },
    {
     "name": "stdout",
     "output_type": "stream",
     "text": [
      "Psi | Calc  : 4.01e+00 | Real  : 2.07e+00 | Err : 9.35e-01\n",
      "Eta | Calc  : 2.28e+00 | Real  : 1.03e+00 | Err : 1.20e+00\n"
     ]
    },
    {
     "name": "stderr",
     "output_type": "stream",
     "text": [
      "Solve:  47%|████████████████▏                 | 47/99 [03:50<03:57,  4.58s/step]"
     ]
    },
    {
     "name": "stdout",
     "output_type": "stream",
     "text": [
      "Psi | Calc  : 4.02e+00 | Real  : 2.07e+00 | Err : 9.42e-01\n",
      "Eta | Calc  : 2.28e+00 | Real  : 1.03e+00 | Err : 1.21e+00\n"
     ]
    },
    {
     "name": "stderr",
     "output_type": "stream",
     "text": [
      "Solve:  48%|████████████████▍                 | 48/99 [03:55<04:00,  4.71s/step]"
     ]
    },
    {
     "name": "stdout",
     "output_type": "stream",
     "text": [
      "Psi | Calc  : 4.03e+00 | Real  : 2.07e+00 | Err : 9.48e-01\n",
      "Eta | Calc  : 2.28e+00 | Real  : 1.03e+00 | Err : 1.21e+00\n"
     ]
    },
    {
     "name": "stderr",
     "output_type": "stream",
     "text": [
      "Solve:  49%|████████████████▊                 | 49/99 [03:59<03:52,  4.65s/step]"
     ]
    },
    {
     "name": "stdout",
     "output_type": "stream",
     "text": [
      "Psi | Calc  : 4.04e+00 | Real  : 2.07e+00 | Err : 9.52e-01\n",
      "Eta | Calc  : 2.28e+00 | Real  : 1.03e+00 | Err : 1.21e+00\n"
     ]
    },
    {
     "name": "stderr",
     "output_type": "stream",
     "text": [
      "Solve:  51%|█████████████████▏                | 50/99 [04:04<03:45,  4.61s/step]"
     ]
    },
    {
     "name": "stdout",
     "output_type": "stream",
     "text": [
      "Psi | Calc  : 4.05e+00 | Real  : 2.07e+00 | Err : 9.56e-01\n",
      "Eta | Calc  : 2.28e+00 | Real  : 1.03e+00 | Err : 1.21e+00\n"
     ]
    },
    {
     "name": "stderr",
     "output_type": "stream",
     "text": [
      "Solve:  52%|█████████████████▌                | 51/99 [04:09<03:47,  4.73s/step]"
     ]
    },
    {
     "name": "stdout",
     "output_type": "stream",
     "text": [
      "Psi | Calc  : 4.06e+00 | Real  : 2.07e+00 | Err : 9.60e-01\n",
      "Eta | Calc  : 2.28e+00 | Real  : 1.03e+00 | Err : 1.21e+00\n"
     ]
    },
    {
     "name": "stderr",
     "output_type": "stream",
     "text": [
      "Solve:  53%|█████████████████▊                | 52/99 [04:14<03:43,  4.76s/step]"
     ]
    },
    {
     "name": "stdout",
     "output_type": "stream",
     "text": [
      "Psi | Calc  : 4.06e+00 | Real  : 2.07e+00 | Err : 9.62e-01\n",
      "Eta | Calc  : 2.28e+00 | Real  : 1.03e+00 | Err : 1.20e+00\n"
     ]
    },
    {
     "name": "stderr",
     "output_type": "stream",
     "text": [
      "Solve:  54%|██████████████████▏               | 53/99 [04:17<03:24,  4.44s/step]"
     ]
    },
    {
     "name": "stdout",
     "output_type": "stream",
     "text": [
      "Psi | Calc  : 4.07e+00 | Real  : 2.07e+00 | Err : 9.65e-01\n",
      "Eta | Calc  : 2.28e+00 | Real  : 1.03e+00 | Err : 1.20e+00\n"
     ]
    },
    {
     "name": "stderr",
     "output_type": "stream",
     "text": [
      "Solve:  55%|██████████████████▌               | 54/99 [04:22<03:25,  4.56s/step]"
     ]
    },
    {
     "name": "stdout",
     "output_type": "stream",
     "text": [
      "Psi | Calc  : 4.07e+00 | Real  : 2.07e+00 | Err : 9.66e-01\n",
      "Eta | Calc  : 2.28e+00 | Real  : 1.03e+00 | Err : 1.20e+00\n"
     ]
    },
    {
     "name": "stderr",
     "output_type": "stream",
     "text": [
      "Solve:  56%|██████████████████▉               | 55/99 [04:27<03:20,  4.56s/step]"
     ]
    },
    {
     "name": "stdout",
     "output_type": "stream",
     "text": [
      "Psi | Calc  : 4.07e+00 | Real  : 2.07e+00 | Err : 9.67e-01\n",
      "Eta | Calc  : 2.28e+00 | Real  : 1.03e+00 | Err : 1.20e+00\n"
     ]
    },
    {
     "name": "stderr",
     "output_type": "stream",
     "text": [
      "Solve:  57%|███████████████████▏              | 56/99 [04:32<03:21,  4.68s/step]"
     ]
    },
    {
     "name": "stdout",
     "output_type": "stream",
     "text": [
      "Psi | Calc  : 4.08e+00 | Real  : 2.07e+00 | Err : 9.68e-01\n",
      "Eta | Calc  : 2.27e+00 | Real  : 1.03e+00 | Err : 1.20e+00\n"
     ]
    },
    {
     "name": "stderr",
     "output_type": "stream",
     "text": [
      "Solve:  58%|███████████████████▌              | 57/99 [04:36<03:07,  4.45s/step]"
     ]
    },
    {
     "name": "stdout",
     "output_type": "stream",
     "text": [
      "Psi | Calc  : 4.08e+00 | Real  : 2.07e+00 | Err : 9.69e-01\n",
      "Eta | Calc  : 2.27e+00 | Real  : 1.03e+00 | Err : 1.20e+00\n"
     ]
    },
    {
     "name": "stderr",
     "output_type": "stream",
     "text": [
      "Solve:  59%|███████████████████▉              | 58/99 [04:40<03:00,  4.40s/step]"
     ]
    },
    {
     "name": "stdout",
     "output_type": "stream",
     "text": [
      "Psi | Calc  : 4.08e+00 | Real  : 2.07e+00 | Err : 9.69e-01\n",
      "Eta | Calc  : 2.27e+00 | Real  : 1.03e+00 | Err : 1.20e+00\n"
     ]
    },
    {
     "name": "stderr",
     "output_type": "stream",
     "text": [
      "Solve:  60%|████████████████████▎             | 59/99 [04:44<02:52,  4.30s/step]"
     ]
    },
    {
     "name": "stdout",
     "output_type": "stream",
     "text": [
      "Psi | Calc  : 4.08e+00 | Real  : 2.07e+00 | Err : 9.69e-01\n",
      "Eta | Calc  : 2.27e+00 | Real  : 1.03e+00 | Err : 1.20e+00\n"
     ]
    },
    {
     "name": "stderr",
     "output_type": "stream",
     "text": [
      "Solve:  61%|████████████████████▌             | 60/99 [04:48<02:46,  4.27s/step]"
     ]
    },
    {
     "name": "stdout",
     "output_type": "stream",
     "text": [
      "Psi | Calc  : 4.08e+00 | Real  : 2.07e+00 | Err : 9.69e-01\n",
      "Eta | Calc  : 2.27e+00 | Real  : 1.03e+00 | Err : 1.20e+00\n"
     ]
    },
    {
     "name": "stderr",
     "output_type": "stream",
     "text": [
      "Solve:  62%|████████████████████▉             | 61/99 [04:53<02:50,  4.48s/step]"
     ]
    },
    {
     "name": "stdout",
     "output_type": "stream",
     "text": [
      "Psi | Calc  : 4.08e+00 | Real  : 2.07e+00 | Err : 9.68e-01\n",
      "Eta | Calc  : 2.27e+00 | Real  : 1.03e+00 | Err : 1.20e+00\n"
     ]
    },
    {
     "name": "stderr",
     "output_type": "stream",
     "text": [
      "Solve:  63%|█████████████████████▎            | 62/99 [04:58<02:46,  4.49s/step]"
     ]
    },
    {
     "name": "stdout",
     "output_type": "stream",
     "text": [
      "Psi | Calc  : 4.08e+00 | Real  : 2.07e+00 | Err : 9.68e-01\n",
      "Eta | Calc  : 2.27e+00 | Real  : 1.03e+00 | Err : 1.20e+00\n"
     ]
    },
    {
     "name": "stderr",
     "output_type": "stream",
     "text": [
      "Solve:  64%|█████████████████████▋            | 63/99 [05:01<02:32,  4.24s/step]"
     ]
    },
    {
     "name": "stdout",
     "output_type": "stream",
     "text": [
      "Psi | Calc  : 4.07e+00 | Real  : 2.07e+00 | Err : 9.67e-01\n",
      "Eta | Calc  : 2.27e+00 | Real  : 1.03e+00 | Err : 1.20e+00\n"
     ]
    },
    {
     "name": "stderr",
     "output_type": "stream",
     "text": [
      "Solve:  65%|█████████████████████▉            | 64/99 [05:05<02:24,  4.14s/step]"
     ]
    },
    {
     "name": "stdout",
     "output_type": "stream",
     "text": [
      "Psi | Calc  : 4.07e+00 | Real  : 2.07e+00 | Err : 9.66e-01\n",
      "Eta | Calc  : 2.27e+00 | Real  : 1.03e+00 | Err : 1.20e+00\n"
     ]
    },
    {
     "name": "stderr",
     "output_type": "stream",
     "text": [
      "Solve:  66%|██████████████████████▎           | 65/99 [05:09<02:19,  4.10s/step]"
     ]
    },
    {
     "name": "stdout",
     "output_type": "stream",
     "text": [
      "Psi | Calc  : 4.07e+00 | Real  : 2.07e+00 | Err : 9.65e-01\n",
      "Eta | Calc  : 2.27e+00 | Real  : 1.03e+00 | Err : 1.20e+00\n"
     ]
    },
    {
     "name": "stderr",
     "output_type": "stream",
     "text": [
      "Solve:  67%|██████████████████████▋           | 66/99 [05:13<02:11,  4.00s/step]"
     ]
    },
    {
     "name": "stdout",
     "output_type": "stream",
     "text": [
      "Psi | Calc  : 4.07e+00 | Real  : 2.07e+00 | Err : 9.64e-01\n",
      "Eta | Calc  : 2.27e+00 | Real  : 1.03e+00 | Err : 1.19e+00\n"
     ]
    },
    {
     "name": "stderr",
     "output_type": "stream",
     "text": [
      "Solve:  68%|███████████████████████           | 67/99 [05:17<02:13,  4.16s/step]"
     ]
    },
    {
     "name": "stdout",
     "output_type": "stream",
     "text": [
      "Psi | Calc  : 4.07e+00 | Real  : 2.07e+00 | Err : 9.63e-01\n",
      "Eta | Calc  : 2.27e+00 | Real  : 1.03e+00 | Err : 1.19e+00\n"
     ]
    },
    {
     "name": "stderr",
     "output_type": "stream",
     "text": [
      "Solve:  69%|███████████████████████▎          | 68/99 [05:21<02:07,  4.11s/step]"
     ]
    },
    {
     "name": "stdout",
     "output_type": "stream",
     "text": [
      "Psi | Calc  : 4.06e+00 | Real  : 2.07e+00 | Err : 9.62e-01\n",
      "Eta | Calc  : 2.27e+00 | Real  : 1.03e+00 | Err : 1.19e+00\n"
     ]
    },
    {
     "name": "stderr",
     "output_type": "stream",
     "text": [
      "Solve:  70%|███████████████████████▋          | 69/99 [05:25<01:58,  3.95s/step]"
     ]
    },
    {
     "name": "stdout",
     "output_type": "stream",
     "text": [
      "Psi | Calc  : 4.06e+00 | Real  : 2.07e+00 | Err : 9.60e-01\n",
      "Eta | Calc  : 2.26e+00 | Real  : 1.03e+00 | Err : 1.19e+00\n"
     ]
    },
    {
     "name": "stderr",
     "output_type": "stream",
     "text": [
      "Solve:  71%|████████████████████████          | 70/99 [05:29<01:52,  3.89s/step]"
     ]
    },
    {
     "name": "stdout",
     "output_type": "stream",
     "text": [
      "Psi | Calc  : 4.06e+00 | Real  : 2.07e+00 | Err : 9.59e-01\n",
      "Eta | Calc  : 2.26e+00 | Real  : 1.03e+00 | Err : 1.19e+00\n"
     ]
    },
    {
     "name": "stderr",
     "output_type": "stream",
     "text": [
      "Solve:  72%|████████████████████████▍         | 71/99 [05:34<01:57,  4.20s/step]"
     ]
    },
    {
     "name": "stdout",
     "output_type": "stream",
     "text": [
      "Psi | Calc  : 4.06e+00 | Real  : 2.07e+00 | Err : 9.58e-01\n",
      "Eta | Calc  : 2.26e+00 | Real  : 1.03e+00 | Err : 1.19e+00\n"
     ]
    },
    {
     "name": "stderr",
     "output_type": "stream",
     "text": [
      "Solve:  73%|████████████████████████▋         | 72/99 [05:38<01:55,  4.27s/step]"
     ]
    },
    {
     "name": "stdout",
     "output_type": "stream",
     "text": [
      "Psi | Calc  : 4.05e+00 | Real  : 2.07e+00 | Err : 9.57e-01\n",
      "Eta | Calc  : 2.26e+00 | Real  : 1.03e+00 | Err : 1.19e+00\n"
     ]
    },
    {
     "name": "stderr",
     "output_type": "stream",
     "text": [
      "Solve:  74%|█████████████████████████         | 73/99 [05:43<01:56,  4.50s/step]"
     ]
    },
    {
     "name": "stdout",
     "output_type": "stream",
     "text": [
      "Psi | Calc  : 4.05e+00 | Real  : 2.07e+00 | Err : 9.56e-01\n",
      "Eta | Calc  : 2.26e+00 | Real  : 1.03e+00 | Err : 1.19e+00\n"
     ]
    },
    {
     "name": "stderr",
     "output_type": "stream",
     "text": [
      "Solve:  75%|█████████████████████████▍        | 74/99 [05:47<01:51,  4.45s/step]"
     ]
    },
    {
     "name": "stdout",
     "output_type": "stream",
     "text": [
      "Psi | Calc  : 4.05e+00 | Real  : 2.07e+00 | Err : 9.54e-01\n",
      "Eta | Calc  : 2.26e+00 | Real  : 1.03e+00 | Err : 1.19e+00\n"
     ]
    },
    {
     "name": "stderr",
     "output_type": "stream",
     "text": [
      "Solve:  76%|█████████████████████████▊        | 75/99 [05:52<01:45,  4.41s/step]"
     ]
    },
    {
     "name": "stdout",
     "output_type": "stream",
     "text": [
      "Psi | Calc  : 4.05e+00 | Real  : 2.07e+00 | Err : 9.53e-01\n",
      "Eta | Calc  : 2.26e+00 | Real  : 1.03e+00 | Err : 1.19e+00\n"
     ]
    },
    {
     "name": "stderr",
     "output_type": "stream",
     "text": [
      "Solve:  77%|██████████████████████████        | 76/99 [05:56<01:42,  4.46s/step]"
     ]
    },
    {
     "name": "stdout",
     "output_type": "stream",
     "text": [
      "Psi | Calc  : 4.04e+00 | Real  : 2.07e+00 | Err : 9.52e-01\n",
      "Eta | Calc  : 2.26e+00 | Real  : 1.03e+00 | Err : 1.19e+00\n"
     ]
    },
    {
     "name": "stderr",
     "output_type": "stream",
     "text": [
      "Solve:  78%|██████████████████████████▍       | 77/99 [06:01<01:38,  4.47s/step]"
     ]
    },
    {
     "name": "stdout",
     "output_type": "stream",
     "text": [
      "Psi | Calc  : 4.04e+00 | Real  : 2.07e+00 | Err : 9.51e-01\n",
      "Eta | Calc  : 2.26e+00 | Real  : 1.03e+00 | Err : 1.19e+00\n"
     ]
    },
    {
     "name": "stderr",
     "output_type": "stream",
     "text": [
      "Solve:  79%|██████████████████████████▊       | 78/99 [06:05<01:31,  4.37s/step]"
     ]
    },
    {
     "name": "stdout",
     "output_type": "stream",
     "text": [
      "Psi | Calc  : 4.04e+00 | Real  : 2.07e+00 | Err : 9.50e-01\n",
      "Eta | Calc  : 2.26e+00 | Real  : 1.03e+00 | Err : 1.19e+00\n"
     ]
    },
    {
     "name": "stderr",
     "output_type": "stream",
     "text": [
      "Solve:  80%|███████████████████████████▏      | 79/99 [06:10<01:28,  4.45s/step]"
     ]
    },
    {
     "name": "stdout",
     "output_type": "stream",
     "text": [
      "Psi | Calc  : 4.04e+00 | Real  : 2.07e+00 | Err : 9.49e-01\n",
      "Eta | Calc  : 2.26e+00 | Real  : 1.03e+00 | Err : 1.19e+00\n"
     ]
    },
    {
     "name": "stderr",
     "output_type": "stream",
     "text": [
      "Solve:  81%|███████████████████████████▍      | 80/99 [06:14<01:22,  4.37s/step]"
     ]
    },
    {
     "name": "stdout",
     "output_type": "stream",
     "text": [
      "Psi | Calc  : 4.03e+00 | Real  : 2.07e+00 | Err : 9.48e-01\n",
      "Eta | Calc  : 2.26e+00 | Real  : 1.03e+00 | Err : 1.19e+00\n"
     ]
    },
    {
     "name": "stderr",
     "output_type": "stream",
     "text": [
      "Solve:  82%|███████████████████████████▊      | 81/99 [06:19<01:20,  4.50s/step]"
     ]
    },
    {
     "name": "stdout",
     "output_type": "stream",
     "text": [
      "Psi | Calc  : 4.03e+00 | Real  : 2.07e+00 | Err : 9.47e-01\n",
      "Eta | Calc  : 2.26e+00 | Real  : 1.03e+00 | Err : 1.19e+00\n"
     ]
    },
    {
     "name": "stderr",
     "output_type": "stream",
     "text": [
      "Solve:  83%|████████████████████████████▏     | 82/99 [06:23<01:15,  4.43s/step]"
     ]
    },
    {
     "name": "stdout",
     "output_type": "stream",
     "text": [
      "Psi | Calc  : 4.03e+00 | Real  : 2.07e+00 | Err : 9.46e-01\n",
      "Eta | Calc  : 2.26e+00 | Real  : 1.03e+00 | Err : 1.19e+00\n"
     ]
    },
    {
     "name": "stderr",
     "output_type": "stream",
     "text": [
      "Solve:  84%|████████████████████████████▌     | 83/99 [06:27<01:09,  4.32s/step]"
     ]
    },
    {
     "name": "stdout",
     "output_type": "stream",
     "text": [
      "Psi | Calc  : 4.03e+00 | Real  : 2.07e+00 | Err : 9.45e-01\n",
      "Eta | Calc  : 2.26e+00 | Real  : 1.03e+00 | Err : 1.19e+00\n"
     ]
    },
    {
     "name": "stderr",
     "output_type": "stream",
     "text": [
      "Solve:  85%|████████████████████████████▊     | 84/99 [06:31<01:01,  4.12s/step]"
     ]
    },
    {
     "name": "stdout",
     "output_type": "stream",
     "text": [
      "Psi | Calc  : 4.03e+00 | Real  : 2.07e+00 | Err : 9.44e-01\n",
      "Eta | Calc  : 2.26e+00 | Real  : 1.03e+00 | Err : 1.19e+00\n"
     ]
    },
    {
     "name": "stderr",
     "output_type": "stream",
     "text": [
      "Solve:  86%|█████████████████████████████▏    | 85/99 [06:35<01:00,  4.30s/step]"
     ]
    },
    {
     "name": "stdout",
     "output_type": "stream",
     "text": [
      "Psi | Calc  : 4.03e+00 | Real  : 2.07e+00 | Err : 9.44e-01\n",
      "Eta | Calc  : 2.26e+00 | Real  : 1.03e+00 | Err : 1.19e+00\n"
     ]
    },
    {
     "name": "stderr",
     "output_type": "stream",
     "text": [
      "Solve:  87%|█████████████████████████████▌    | 86/99 [06:39<00:54,  4.23s/step]"
     ]
    },
    {
     "name": "stdout",
     "output_type": "stream",
     "text": [
      "Psi | Calc  : 4.02e+00 | Real  : 2.07e+00 | Err : 9.43e-01\n",
      "Eta | Calc  : 2.26e+00 | Real  : 1.03e+00 | Err : 1.19e+00\n"
     ]
    },
    {
     "name": "stderr",
     "output_type": "stream",
     "text": [
      "Solve:  88%|█████████████████████████████▉    | 87/99 [06:44<00:52,  4.40s/step]"
     ]
    },
    {
     "name": "stdout",
     "output_type": "stream",
     "text": [
      "Psi | Calc  : 4.02e+00 | Real  : 2.07e+00 | Err : 9.42e-01\n",
      "Eta | Calc  : 2.26e+00 | Real  : 1.03e+00 | Err : 1.19e+00\n"
     ]
    },
    {
     "name": "stderr",
     "output_type": "stream",
     "text": [
      "Solve:  89%|██████████████████████████████▏   | 88/99 [06:48<00:48,  4.36s/step]"
     ]
    },
    {
     "name": "stdout",
     "output_type": "stream",
     "text": [
      "Psi | Calc  : 4.02e+00 | Real  : 2.07e+00 | Err : 9.42e-01\n",
      "Eta | Calc  : 2.26e+00 | Real  : 1.03e+00 | Err : 1.19e+00\n"
     ]
    },
    {
     "name": "stderr",
     "output_type": "stream",
     "text": [
      "Solve:  90%|██████████████████████████████▌   | 89/99 [06:53<00:43,  4.32s/step]"
     ]
    },
    {
     "name": "stdout",
     "output_type": "stream",
     "text": [
      "Psi | Calc  : 4.02e+00 | Real  : 2.07e+00 | Err : 9.41e-01\n",
      "Eta | Calc  : 2.26e+00 | Real  : 1.03e+00 | Err : 1.18e+00\n"
     ]
    },
    {
     "name": "stderr",
     "output_type": "stream",
     "text": [
      "Solve:  91%|██████████████████████████████▉   | 90/99 [06:57<00:38,  4.29s/step]"
     ]
    },
    {
     "name": "stdout",
     "output_type": "stream",
     "text": [
      "Psi | Calc  : 4.02e+00 | Real  : 2.07e+00 | Err : 9.40e-01\n",
      "Eta | Calc  : 2.26e+00 | Real  : 1.03e+00 | Err : 1.18e+00\n"
     ]
    },
    {
     "name": "stderr",
     "output_type": "stream",
     "text": [
      "Solve:  92%|███████████████████████████████▎  | 91/99 [07:01<00:34,  4.30s/step]"
     ]
    },
    {
     "name": "stdout",
     "output_type": "stream",
     "text": [
      "Psi | Calc  : 4.02e+00 | Real  : 2.07e+00 | Err : 9.40e-01\n",
      "Eta | Calc  : 2.26e+00 | Real  : 1.03e+00 | Err : 1.18e+00\n"
     ]
    },
    {
     "name": "stderr",
     "output_type": "stream",
     "text": [
      "Solve:  93%|███████████████████████████████▌  | 92/99 [07:05<00:29,  4.28s/step]"
     ]
    },
    {
     "name": "stdout",
     "output_type": "stream",
     "text": [
      "Psi | Calc  : 4.02e+00 | Real  : 2.07e+00 | Err : 9.39e-01\n",
      "Eta | Calc  : 2.26e+00 | Real  : 1.03e+00 | Err : 1.18e+00\n"
     ]
    },
    {
     "name": "stderr",
     "output_type": "stream",
     "text": [
      "Solve:  94%|███████████████████████████████▉  | 93/99 [07:10<00:25,  4.27s/step]"
     ]
    },
    {
     "name": "stdout",
     "output_type": "stream",
     "text": [
      "Psi | Calc  : 4.02e+00 | Real  : 2.07e+00 | Err : 9.39e-01\n",
      "Eta | Calc  : 2.26e+00 | Real  : 1.03e+00 | Err : 1.18e+00\n"
     ]
    },
    {
     "name": "stderr",
     "output_type": "stream",
     "text": [
      "Solve:  95%|████████████████████████████████▎ | 94/99 [07:14<00:21,  4.25s/step]"
     ]
    },
    {
     "name": "stdout",
     "output_type": "stream",
     "text": [
      "Psi | Calc  : 4.01e+00 | Real  : 2.07e+00 | Err : 9.38e-01\n",
      "Eta | Calc  : 2.26e+00 | Real  : 1.03e+00 | Err : 1.18e+00\n"
     ]
    },
    {
     "name": "stderr",
     "output_type": "stream",
     "text": [
      "Solve:  96%|████████████████████████████████▋ | 95/99 [07:18<00:16,  4.20s/step]"
     ]
    },
    {
     "name": "stdout",
     "output_type": "stream",
     "text": [
      "Psi | Calc  : 4.01e+00 | Real  : 2.07e+00 | Err : 9.38e-01\n",
      "Eta | Calc  : 2.26e+00 | Real  : 1.03e+00 | Err : 1.18e+00\n"
     ]
    },
    {
     "name": "stderr",
     "output_type": "stream",
     "text": [
      "Solve:  97%|████████████████████████████████▉ | 96/99 [07:23<00:13,  4.49s/step]"
     ]
    },
    {
     "name": "stdout",
     "output_type": "stream",
     "text": [
      "Psi | Calc  : 4.01e+00 | Real  : 2.07e+00 | Err : 9.38e-01\n",
      "Eta | Calc  : 2.26e+00 | Real  : 1.03e+00 | Err : 1.18e+00\n"
     ]
    },
    {
     "name": "stderr",
     "output_type": "stream",
     "text": [
      "Solve:  98%|█████████████████████████████████▎| 97/99 [07:27<00:08,  4.38s/step]"
     ]
    },
    {
     "name": "stdout",
     "output_type": "stream",
     "text": [
      "Psi | Calc  : 4.01e+00 | Real  : 2.07e+00 | Err : 9.37e-01\n",
      "Eta | Calc  : 2.26e+00 | Real  : 1.03e+00 | Err : 1.18e+00\n"
     ]
    },
    {
     "name": "stderr",
     "output_type": "stream",
     "text": [
      "Solve:  99%|█████████████████████████████████▋| 98/99 [07:33<00:04,  4.67s/step]"
     ]
    },
    {
     "name": "stdout",
     "output_type": "stream",
     "text": [
      "Psi | Calc  : 4.01e+00 | Real  : 2.07e+00 | Err : 9.37e-01\n",
      "Eta | Calc  : 2.26e+00 | Real  : 1.03e+00 | Err : 1.18e+00\n"
     ]
    },
    {
     "name": "stderr",
     "output_type": "stream",
     "text": [
      "Solve: 100%|██████████████████████████████████| 99/99 [07:38<00:00,  4.82s/step]"
     ]
    },
    {
     "name": "stdout",
     "output_type": "stream",
     "text": [
      "Psi | Calc  : 4.01e+00 | Real  : 2.07e+00 | Err : 9.37e-01\n",
      "------------------ Solver\n",
      "Format    : 3D, TT, eps= 1.00e-03 [order=2]\n",
      "Hst pois  : None \n",
      "Hst with r: No \n",
      "Time full : 4.58e+02 \n",
      "Time prep : 2.51e-03 \n",
      "Time calc : 4.58e+02 \n",
      "    .init : 1.96e-02 \n",
      "    .prep : 4.06e-04 \n",
      "    .diff : 1.36e-01 \n",
      "    .conv : 2.74e+01 \n",
      "    .post : 4.31e+02 \n",
      "    .last : 2.94e-03 \n",
      "\n"
     ]
    },
    {
     "name": "stderr",
     "output_type": "stream",
     "text": [
      "\n"
     ]
    }
   ],
   "source": [
    "SL = Solver(\n",
    "    TG=Grid(d=1, n=100, l=[+ 0., +10.], k='u'),\n",
    "    SG=Grid(d=3, n= 20, l=[-10., +10.], k='c'),\n",
    "    MD=Model_(), eps=1.E-3, with_tt=True\n",
    ").init({\n",
    "    'n_hst': 0,\n",
    "    'f_post': func,\n",
    "    'with_rhs': False,\n",
    "}).prep().calc()\n",
    "\n",
    "SL.info()"
   ]
  },
  {
   "cell_type": "code",
   "execution_count": 17,
   "metadata": {},
   "outputs": [
    {
     "data": {
      "text/plain": [
       "1.7784991082803832"
      ]
     },
     "execution_count": 17,
     "metadata": {},
     "output_type": "execute_result"
    }
   ],
   "source": [
    "p_list[-1] / e_list[-1]"
   ]
  },
  {
   "cell_type": "code",
   "execution_count": 18,
   "metadata": {},
   "outputs": [
    {
     "data": {
      "text/plain": [
       "2.0053426928895615"
      ]
     },
     "execution_count": 18,
     "metadata": {},
     "output_type": "execute_result"
    }
   ],
   "source": [
    "2.0711430 / 1.0328125"
   ]
  },
  {
   "cell_type": "code",
   "execution_count": 16,
   "metadata": {},
   "outputs": [
    {
     "data": {
      "image/png": "[encoded data removed]",
      "text/plain": [
       "<Figure size 432x288 with 1 Axes>"
      ]
     },
     "metadata": {
      "needs_background": "light"
     },
     "output_type": "display_data"
    },
    {
     "data": {
      "image/png": "[encoded data removed]",
      "text/plain": [
       "<Figure size 432x288 with 1 Axes>"
      ]
     },
     "metadata": {
      "needs_background": "light"
     },
     "output_type": "display_data"
    }
   ],
   "source": [
    "import matplotlib.pyplot as plt\n",
    "\n",
    "plt.plot(t_list, e_list)\n",
    "plt.plot(t_list, [1.0328125] * len(t_list), '--')\n",
    "plt.title('Eta(t)')\n",
    "plt.xlabel('t')\n",
    "plt.show()\n",
    "\n",
    "plt.plot(t_list, p_list)\n",
    "plt.plot(t_list, [2.0711430] * len(t_list), '--')\n",
    "plt.title('Psi(t)')\n",
    "plt.xlabel('t')\n",
    "plt.show()"
   ]
  },
  {
   "cell_type": "code",
   "execution_count": null,
   "metadata": {},
   "outputs": [],
   "source": []
  },
  {
   "cell_type": "code",
   "execution_count": null,
   "metadata": {},
   "outputs": [],
   "source": []
  },
  {
   "cell_type": "code",
   "execution_count": null,
   "metadata": {},
   "outputs": [],
   "source": []
  },
  {
   "cell_type": "code",
   "execution_count": 3,
   "metadata": {},
   "outputs": [
    {
     "name": "stderr",
     "output_type": "stream",
     "text": [
      "Solve: 100%|█| 99/99 [01:23<00:00,  1.94step/s, | At T=1.0e+01 :                                                                                                       Edert=9.3e-05  Erhsn=3.4e+00 r=3.58e+00]"
     ]
    },
    {
     "name": "stdout",
     "output_type": "stream",
     "text": [
      "------------------ Solver\n",
      "Format    : 3D, TT, eps= 1.00e-02 [order=2]\n",
      "Format    : 3D, Hst pois  : 10 \n",
      "Hst r     : No \n",
      "d r / d t : 9.32e-05\n",
      "Err  rhs  : 3.41e+00\n",
      "Time prep : 9.49e-03 \n",
      "Time calc : 8.32e+01 \n",
      "    .init : 2.90e-02 \n",
      "    .diff : 3.54e-01 \n",
      "    .conv : 8.11e+01 \n",
      "    .post : 1.58e+00 \n",
      "    .last : 4.53e-03 \n"
     ]
    },
    {
     "name": "stderr",
     "output_type": "stream",
     "text": [
      "\n"
     ]
    }
   ],
   "source": [
    "SL = Solver(\n",
    "    TG=Grid(d=1, n=100, l=[+ 0., +10.], k='u'),\n",
    "    SG=Grid(d=3, n= 31, l=[-10., +10.], k='c'),\n",
    "    MD=Model_(),\n",
    "    eps=1.E-2, with_tt=True\n",
    ").init({ 'with_rhs': True }).prep().calc()\n",
    "\n",
    "SL.info()"
   ]
  },
  {
   "cell_type": "markdown",
   "metadata": {},
   "source": []
  },
  {
   "cell_type": "code",
   "execution_count": 5,
   "metadata": {},
   "outputs": [
    {
     "data": {
      "image/png": "[encoded data removed]",
      "text/plain": [
       "<Figure size 576x576 with 4 Axes>"
      ]
     },
     "metadata": {
      "needs_background": "light"
     },
     "output_type": "display_data"
    }
   ],
   "source": [
    "import matplotlib as mpl\n",
    "import matplotlib.pyplot as plt\n",
    "from matplotlib import animation, rc\n",
    "\n",
    "from fpcross import config\n",
    "\n",
    "T = SL.hst['T']\n",
    "\n",
    "fig = plt.figure(figsize=(8, 8))\n",
    "gs = mpl.gridspec.GridSpec(\n",
    "    ncols=2, nrows=2, left=0.01, right=0.99, top=0.99, bottom=0.01,\n",
    "    wspace=0.2, hspace=0.3, width_ratios=[1, 1], height_ratios=[1, 1]\n",
    ")\n",
    "opts = { 'color': 'orange', 'marker': '*', 'markersize': 8, 'markeredgecolor': 'orange' }\n",
    " \n",
    "ax = fig.add_subplot(gs[0, 0]) \n",
    "ax.set_title('Rhs relative norm')\n",
    "ax.set_xlabel('Time')\n",
    "ax.plot(T, SL.hst['E_rhsn'], **opts)\n",
    "ax.semilogy()\n",
    "\n",
    "ax = fig.add_subplot(gs[1, 0]) \n",
    "ax.set_title('Derivative')\n",
    "ax.set_xlabel('Time')\n",
    "ax.plot(T, SL.hst['E_dert'], **opts)\n",
    "ax.semilogy()\n",
    "\n",
    "ax = fig.add_subplot(gs[0, 1])\n",
    "ax.set_title('TT-erank')\n",
    "ax.set_xlabel('Time')\n",
    "ax.plot(T, SL.hst['Rank_E'], **opts)\n",
    "\n",
    "ax = fig.add_subplot(gs[1, 1])\n",
    "ax.set_title('TT-compression factor')\n",
    "ax.set_xlabel('Time')\n",
    "ax.plot(T, SL.hst['C_size'], **opts)\n",
    "\n",
    "plt.show()"
   ]
  },
  {
   "cell_type": "code",
   "execution_count": null,
   "metadata": {},
   "outputs": [],
   "source": []
  },
  {
   "cell_type": "code",
   "execution_count": null,
   "metadata": {},
   "outputs": [],
   "source": []
  },
  {
   "cell_type": "code",
   "execution_count": null,
   "metadata": {},
   "outputs": [],
   "source": []
  },
  {
   "cell_type": "code",
   "execution_count": null,
   "metadata": {},
   "outputs": [],
   "source": []
  },
  {
   "cell_type": "code",
   "execution_count": 8,
   "metadata": {},
   "outputs": [
    {
     "data": {
      "image/png": "[encoded data removed]",
      "text/plain": [
       "<Figure size 576x576 with 4 Axes>"
      ]
     },
     "metadata": {
      "needs_background": "light"
     },
     "output_type": "display_data"
    }
   ],
   "source": [
    "import matplotlib as mpl\n",
    "import matplotlib.pyplot as plt\n",
    "from matplotlib import animation, rc\n",
    "\n",
    "from fpcross import config\n",
    "\n",
    "T = SL.hst['T']\n",
    "\n",
    "fig = plt.figure(figsize=(8, 8))\n",
    "gs = mpl.gridspec.GridSpec(\n",
    "    ncols=2, nrows=2, left=0.01, right=0.99, top=0.99, bottom=0.01,\n",
    "    wspace=0.2, hspace=0.3, width_ratios=[1, 1], height_ratios=[1, 1]\n",
    ")\n",
    "opts = { 'color': 'orange', 'marker': '*', 'markersize': 8, 'markeredgecolor': 'orange' }\n",
    " \n",
    "ax = fig.add_subplot(gs[0, 0]) \n",
    "ax.set_title('Rhs relative norm')\n",
    "ax.set_xlabel('Time')\n",
    "ax.plot(T, SL.hst['E_dert'], **opts)\n",
    "ax.semilogy()\n",
    "\n",
    "ax = fig.add_subplot(gs[1, 0]) \n",
    "ax.set_title('Derivate')\n",
    "ax.set_xlabel('Time')\n",
    "ax.plot(T, SL.hst['E_dert'], **opts)\n",
    "ax.semilogy()\n",
    "\n",
    "ax = fig.add_subplot(gs[0, 1])\n",
    "ax.set_title('TT-erank')\n",
    "ax.set_xlabel('Time')\n",
    "ax.plot(T, SL.hst['Rank_E'], **opts)\n",
    "\n",
    "ax = fig.add_subplot(gs[1, 1])\n",
    "ax.set_title('TT-compression factor')\n",
    "ax.set_xlabel('Time')\n",
    "ax.plot(T, SL.hst['C_size'], **opts)\n",
    "\n",
    "plt.show()"
   ]
  },
  {
   "cell_type": "code",
   "execution_count": null,
   "metadata": {},
   "outputs": [],
   "source": [
    "\n",
    "\n"
   ]
  },
  {
   "cell_type": "code",
   "execution_count": null,
   "metadata": {},
   "outputs": [],
   "source": []
  },
  {
   "cell_type": "code",
   "execution_count": null,
   "metadata": {},
   "outputs": [],
   "source": []
  },
  {
   "cell_type": "code",
   "execution_count": 5,
   "metadata": {},
   "outputs": [
    {
     "name": "stderr",
     "output_type": "stream",
     "text": [
      "Solve: 100%|█| 9/9 [01:50<00:00, 11.91s/step, | At T=1.0e+01 :                                                                                                       Int=-9.7e+03  Erhs=8.5e-01]"
     ]
    },
    {
     "name": "stdout",
     "output_type": "stream",
     "text": [
      "------------------ Solver\n",
      "Format    : 3D, NP [order=2]\n",
      "Format    : 3D, Hst pois  : 10 \n",
      "Hst r     : No \n",
      "Norm int  : No \n",
      "Err  rhs  : 8.46e-01\n",
      "Time prep : 1.84e+00 \n",
      "Time calc : 1.10e+02 \n",
      "...  init : 2.74e-03 \n",
      "...  diff : 9.34e-01 \n",
      "...  conv : 8.20e-01 \n",
      "...  post : 1.08e+02 \n",
      "...  last : 4.80e-03 \n"
     ]
    },
    {
     "name": "stderr",
     "output_type": "stream",
     "text": [
      "\n"
     ]
    }
   ],
   "source": [
    "SL = Solver(\n",
    "    TG=Grid(d=1, n=10, l=[+ 0., +10.], kind='u'),\n",
    "    SG=Grid(d=3, n=21, l=[-10., +10.], kind='c'),\n",
    "    MD=Model_(),\n",
    ").init().prep().calc()\n",
    "SL.info()"
   ]
  },
  {
   "cell_type": "code",
   "execution_count": null,
   "metadata": {},
   "outputs": [],
   "source": []
  },
  {
   "cell_type": "code",
   "execution_count": null,
   "metadata": {},
   "outputs": [],
   "source": []
  },
  {
   "cell_type": "code",
   "execution_count": null,
   "metadata": {},
   "outputs": [],
   "source": []
  },
  {
   "cell_type": "code",
   "execution_count": null,
   "metadata": {},
   "outputs": [],
   "source": []
  }
 ],
 "metadata": {
  "kernelspec": {
   "display_name": "Python 3",
   "language": "python",
   "name": "python3"
  },
  "language_info": {
   "codemirror_mode": {
    "name": "ipython",
    "version": 3
   },
   "file_extension": ".py",
   "mimetype": "text/x-python",
   "name": "python",
   "nbconvert_exporter": "python",
   "pygments_lexer": "ipython3",
   "version": "3.7.1"
  }
 },
 "nbformat": 4,
 "nbformat_minor": 2
}
