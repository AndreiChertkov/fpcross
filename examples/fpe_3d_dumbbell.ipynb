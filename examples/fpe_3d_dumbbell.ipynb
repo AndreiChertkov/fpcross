{
 "cells": [
  {
   "cell_type": "code",
   "execution_count": 1,
   "metadata": {},
   "outputs": [
    {
     "name": "stdout",
     "output_type": "stream",
     "text": [
      "Start | 11:36AM MSK on Oct 22, 2019 | python 3.7.1    |\n",
      "-------------------------------------------------------\n"
     ]
    },
    {
     "data": {
      "text/html": [
       "<style>\n",
       "        div {\n",
       "          margin: 0;\n",
       "          padding: 0;\n",
       "        }\n",
       "\n",
       "        .head0 {\n",
       "          padding: 10px;\n",
       "          display: flex;\n",
       "          background-color: #dedee2;\n",
       "        }\n",
       "        .head0__name {\n",
       "          padding-right: 5px;\n",
       "          flex: 1 1 50%;\n",
       "          align-self: center;\n",
       "          font-size: 36px;\n",
       "          font-weight: bold;\n",
       "          color: #6b7e51;\n",
       "        }\n",
       "        .head0__note {\n",
       "          padding-left: 10px;\n",
       "          flex: 1 1 50%;\n",
       "          align-self: flex-end;\n",
       "          font-size: 16px;\n",
       "          font-style: italic;\n",
       "          color: #485536;\n",
       "          border-left: 5px solid #8b1d1d;\n",
       "        }\n",
       "\n",
       "        .head1 {\n",
       "          margin-top: 30px;\n",
       "          padding: 10px;\n",
       "          border-top: 5px solid #8b1d1d;\n",
       "        }\n",
       "        .head1__name {\n",
       "          font-size: 32px;\n",
       "          font-weight: bold;\n",
       "          color: #485536;\n",
       "        }\n",
       "        .head1__note {\n",
       "          padding-left: 20px;\n",
       "          font-size: 20px;\n",
       "          font-style: italic;\n",
       "          color: #485536;\n",
       "        }\n",
       "\n",
       "        .head2 {\n",
       "          margin-top: 7px;\n",
       "          padding: 5px 30px 5px;\n",
       "          border-left: 2px solid #42d56e;\n",
       "        }\n",
       "        .head2__name {\n",
       "          display: inline-block;\n",
       "          max-width: 70%;\n",
       "          padding: 2px 10px;\n",
       "          font-size: 22px;\n",
       "          font-weight: bold;\n",
       "          color: #145929;\n",
       "          border-bottom: 2px solid #42d56e;\n",
       "        }\n",
       "        .head2__note {\n",
       "          padding: 5px 10px 0px;\n",
       "          font-size: 14px;\n",
       "          font-style: italic;\n",
       "          color: #485536;\n",
       "        }\n",
       "\n",
       "        .head3 {\n",
       "          margin-top: 5px;\n",
       "          padding: 3px 40px 3px;\n",
       "          border-left: 2px dotted #485536;\n",
       "        }\n",
       "        .head3__name {\n",
       "          display: inline-block;\n",
       "          max-width: 70%;\n",
       "          padding: 2px 10px;\n",
       "          font-size: 20px;\n",
       "          font-weight: bold;\n",
       "          color: #145929;\n",
       "          border-bottom: 2px dotted #485536;\n",
       "        }\n",
       "        .head3__note {\n",
       "          padding: 2px 10px 0px;\n",
       "          font-size: 12px;\n",
       "          font-style: italic;\n",
       "          color: #485536;\n",
       "        }\n",
       "\n",
       "        .warn {\n",
       "          background-color: #fcf2f2;\n",
       "          border-color: #dfb5b4;\n",
       "          border-left: 5px solid #dfb5b4;\n",
       "          padding: 0.5em;\n",
       "        }\n",
       "        .note {\n",
       "          color: #42d56e;\n",
       "        }\n",
       "        .note::before {\n",
       "          content: 'Note. ';\n",
       "          font-weight: bold;\n",
       "          color: #485536;\n",
       "        }\n",
       "\n",
       "        .end {\n",
       "          padding: 5px;\n",
       "          border-top: 5px solid #8b1d1d;\n",
       "          border-bottom: 5px solid #8b1d1d;\n",
       "        }\n",
       "    </style>"
      ],
      "text/plain": [
       "<IPython.core.display.HTML object>"
      ]
     },
     "execution_count": 1,
     "metadata": {},
     "output_type": "execute_result"
    }
   ],
   "source": [
    "import numpy as np\n",
    "\n",
    "from fpcross import ij, Grid, Solver, Model, Check\n",
    "\n",
    "ij()"
   ]
  },
  {
   "cell_type": "markdown",
   "metadata": {},
   "source": [
    "Let solve\n",
    "$$\n",
    "    \\frac{\\partial \\psi}{\\partial t}\n",
    "    =\n",
    "    - A \\psi,\n",
    "    \\quad\n",
    "    \\psi(0) = \\psi_0,\n",
    "    \\quad\n",
    "    x \\in \\Omega,\n",
    "$$\n",
    "where\n",
    "$$\n",
    "    A \\psi\n",
    "    =\n",
    "    - \\epsilon \\Delta \\psi\n",
    "    + div({\\psi v}),\n",
    "$$\n",
    "with $\\epsilon \\in R$ and $v \\in R^{d}$.\n",
    "\n",
    "Note that for the case of potential field $v = grad(\\phi)$ the analytical solution of the stationary problem is given as $\\psi = C e^{-\\frac{\\phi}{\\epsilon}}$, where the constant $C$ is defined to satisfy the normalization condition $\\int_{\\Omega} \\psi \\, d x = 1$.\n",
    "\n",
    "Consider three-dimensional equation (dumbbell model)\n",
    "$$\n",
    "    \\epsilon=\\frac{1}{2},\n",
    "    \\quad\n",
    "    v = K x - \\frac{1}{2} grad(\\phi),\n",
    "    \\quad\n",
    "    x \\in [-a, a]^3,\n",
    "$$\n",
    "where\n",
    "$$\n",
    "    \\phi = \\frac{1}{2} x^2 + \\frac{\\alpha}{p^3} e^{-\\frac{x^2}{2 p^2}},\n",
    "$$\n",
    "and\n",
    "$$\n",
    "    K = \\beta \\begin{bmatrix}\n",
    "        0 & 1 & 0 \\\\\n",
    "        0 & 0 & 0 \\\\\n",
    "        0 & 0 & 0\n",
    "    \\end{bmatrix}.\n",
    "$$"
   ]
  },
  {
   "cell_type": "markdown",
   "metadata": {},
   "source": [
    "We have\n",
    "$$\n",
    "    v\n",
    "    =\n",
    "    [v_1, v_2, v_3]^T =\n",
    "    K x\n",
    "    - \\frac{1}{2} x\n",
    "    + \\frac{\\alpha}{2 p^5} e^{-\\frac{x^2}{2 p^2}} x,\n",
    "$$\n",
    "\n",
    "$$\n",
    "    \\frac{\\partial v_1}{\\partial x_1}\n",
    "    =\n",
    "    - \\frac{1}{2}\n",
    "    + \\frac{\\alpha}{2 p^5} e^{-\\frac{x^2}{2 p^2}}\n",
    "    - \\frac{\\alpha}{2 p^7} e^{-\\frac{x^2}{2 p^2}} x_1^2,\n",
    "$$\n",
    "\n",
    "$$\n",
    "    \\frac{\\partial v_2}{\\partial x_2}\n",
    "    =\n",
    "    - \\frac{1}{2}\n",
    "    + \\frac{\\alpha}{2 p^5} e^{-\\frac{x^2}{2 p^2}}\n",
    "    - \\frac{\\alpha}{2 p^7} e^{-\\frac{x^2}{2 p^2}} x_2^2,\n",
    "$$\n",
    "\n",
    "$$\n",
    "    \\frac{\\partial v_3}{\\partial x_3}\n",
    "    =\n",
    "    - \\frac{1}{2}\n",
    "    + \\frac{\\alpha}{2 p^5} e^{-\\frac{x^2}{2 p^2}}\n",
    "    - \\frac{\\alpha}{2 p^7} e^{-\\frac{x^2}{2 p^2}} x_3^2.\n",
    "$$"
   ]
  },
  {
   "cell_type": "markdown",
   "metadata": {},
   "source": [
    "We select parameter values as in the paper\n",
    "$$\n",
    "    \\beta = 1,\n",
    "    \\quad\n",
    "    \\alpha = 0.1,\n",
    "    \\quad\n",
    "    p = 0.5,\n",
    "    \\quad\n",
    "    x \\in [-10, 10]^3,\n",
    "    \\quad\n",
    "    t \\in [0, 10],\n",
    "    \\quad\n",
    "    \\epsilon = 10^{-6}.\n",
    "$$"
   ]
  },
  {
   "cell_type": "code",
   "execution_count": 3,
   "metadata": {},
   "outputs": [],
   "source": [
    "a = 0.1\n",
    "b = 1.\n",
    "p = 0.5\n",
    "s = 1.\n",
    "D = 0.5 * 1.E-6\n",
    "\n",
    "class Model_(Model):\n",
    "\n",
    "    def d(self):\n",
    "        return 3\n",
    "    \n",
    "    def D(self):\n",
    "        return D\n",
    "\n",
    "    def f0(self, X, t):\n",
    "        mult = a / 2. / p**5\n",
    "        mult*= np.exp(-np.sum(X*X, axis=0) / 2. / p**2)\n",
    "        \n",
    "        return np.vstack([\n",
    "            -0.5 * X[0, :] + mult * X[0, :] + b * X[1, :],\n",
    "            -0.5 * X[1, :] + mult * X[1, :],\n",
    "            -0.5 * X[2, :] + mult * X[2, :]\n",
    "        ])\n",
    "\n",
    "    def f1(self, X, t):\n",
    "        mult = a / 2. / p**5\n",
    "        mult*= np.exp(-np.sum(X*X, axis=0) / 2. / p**2)\n",
    "        \n",
    "        return np.vstack([\n",
    "            -0.5 + mult - mult / p**2 * X[0, :],\n",
    "            -0.5 + mult - mult / p**2 * X[1, :],\n",
    "            -0.5 + mult - mult / p**2 * X[2, :]\n",
    "        ])\n",
    "\n",
    "    def r0(self, X):\n",
    "        a = 2. * s\n",
    "        r = np.exp(-np.sum(X*X, axis=0) / a) / (np.pi * a)**1.5\n",
    "        return r.reshape(-1)"
   ]
  },
  {
   "cell_type": "code",
   "execution_count": 4,
   "metadata": {},
   "outputs": [
    {
     "name": "stderr",
     "output_type": "stream",
     "text": [
      "Solve: 100%|█| 9/9 [01:38<00:00, 11.05s/step, | At T=1.0e+01 : n=-9.70e+03 rhs=8.46e-01]"
     ]
    },
    {
     "name": "stdout",
     "output_type": "stream",
     "text": [
      "------------------ Solver\n",
      "Format    : 3D, NP [order=2]\n",
      "Time prep : 1.67e+00 \n",
      "Time calc : 9.85e+01 \n",
      "...  init : 4.66e-03 \n",
      "...  diff : 8.76e-01 \n",
      "...  conv : 7.16e-01 \n",
      "...  post : 9.68e+01 \n",
      "...  last : 3.06e-03 \n"
     ]
    },
    {
     "name": "stderr",
     "output_type": "stream",
     "text": [
      "\n"
     ]
    }
   ],
   "source": [
    "SL = Solver(\n",
    "    TG=Grid(d=1, n=10, l=[+ 0., +10.], kind='u'),\n",
    "    SG=Grid(d=3, n=21, l=[-10., +10.], kind='c'),\n",
    "    MD=Model_(),\n",
    ").init().prep().calc().info()"
   ]
  },
  {
   "cell_type": "code",
   "execution_count": 6,
   "metadata": {},
   "outputs": [
    {
     "name": "stderr",
     "output_type": "stream",
     "text": [
      "Solve: 100%|█| 99/99 [00:31<00:00,  3.17step/s, | At T=1.0e+01 : r=5.71e+00 n=-1.16e+04 rhs=1.18e+01]"
     ]
    },
    {
     "name": "stdout",
     "output_type": "stream",
     "text": [
      "------------------ Solver\n",
      "Format    : 3D, TT, eps= 1.00e-03 [order=2]\n",
      "Time prep : 2.57e-03 \n",
      "Time calc : 3.10e+01 \n",
      "...  init : 2.15e-02 \n",
      "...  diff : 1.83e-01 \n",
      "...  conv : 2.96e+01 \n",
      "...  post : 1.10e+00 \n",
      "...  last : 8.75e-04 \n"
     ]
    },
    {
     "name": "stderr",
     "output_type": "stream",
     "text": [
      "\n"
     ]
    }
   ],
   "source": [
    "SL = Solver(\n",
    "    TG=Grid(d=1, n=100, l=[+ 0., +10.], kind='u'),\n",
    "    SG=Grid(d=3, n=21, l=[-10., +10.], kind='c'),\n",
    "    MD=Model_(),\n",
    "    eps=1.E-3, with_tt=True\n",
    ").init().prep().calc().info()"
   ]
  },
  {
   "cell_type": "code",
   "execution_count": null,
   "metadata": {},
   "outputs": [],
   "source": []
  }
 ],
 "metadata": {
  "kernelspec": {
   "display_name": "Python 3",
   "language": "python",
   "name": "python3"
  },
  "language_info": {
   "codemirror_mode": {
    "name": "ipython",
    "version": 3
   },
   "file_extension": ".py",
   "mimetype": "text/x-python",
   "name": "python",
   "nbconvert_exporter": "python",
   "pygments_lexer": "ipython3",
   "version": "3.7.1"
  }
 },
 "nbformat": 4,
 "nbformat_minor": 2
}
