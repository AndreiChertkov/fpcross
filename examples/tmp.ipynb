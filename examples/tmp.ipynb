{
 "cells": [
  {
   "cell_type": "markdown",
   "metadata": {},
   "source": [
    "<div class=\"head0\">\n",
    "    <div class=\"head0__name\">\n",
    "        Diffusion equation with linear drift in 1D case\n",
    "    </div>\n",
    "    <div class=\"head0__note\">\n",
    "        Solution of the 1D Fokker-Planck equation by fast and accurate tensor based method with linear drift (Ornstein–Uhlenbeck process). Check for the 2th order solver.\n",
    "    </div>\n",
    "</div>"
   ]
  },
  {
   "cell_type": "code",
   "execution_count": 1,
   "metadata": {},
   "outputs": [
    {
     "data": {
      "text/html": [
       "<style>div {\n",
       "  margin: 0;\n",
       "  padding: 0;\n",
       "}\n",
       "\n",
       ".head0 {\n",
       "  padding: 10px;\n",
       "  display: flex;\n",
       "  background-color: #dedee2;\n",
       "}\n",
       ".head0__name {\n",
       "  padding-right: 5px;\n",
       "  flex: 1 1 50%;\n",
       "  align-self: center;\n",
       "  font-size: 36px;\n",
       "  font-weight: bold;\n",
       "  color: #6b7e51;\n",
       "}\n",
       ".head0__note {\n",
       "  padding-left: 10px;\n",
       "  flex: 1 1 50%;\n",
       "  align-self: flex-end;\n",
       "  font-size: 16px;\n",
       "  font-style: italic;\n",
       "  color: #485536;\n",
       "  border-left: 5px solid #8b1d1d;\n",
       "}\n",
       "\n",
       ".head1 {\n",
       "  margin-top: 30px;\n",
       "  padding: 10px;\n",
       "  border-top: 5px solid #8b1d1d;\n",
       "}\n",
       ".head1__name {\n",
       "  font-size: 32px;\n",
       "  font-weight: bold;\n",
       "  color: #485536;\n",
       "}\n",
       ".head1__note {\n",
       "  padding-left: 20px;\n",
       "  font-size: 20px;\n",
       "  font-style: italic;\n",
       "  color: #485536;\n",
       "}\n",
       "\n",
       ".head2 {\n",
       "  margin-top: 7px;\n",
       "  padding: 5px 30px 5px;\n",
       "  border-left: 2px solid #42d56e;\n",
       "}\n",
       ".head2__name {\n",
       "  display: inline-block;\n",
       "  max-width: 70%;\n",
       "  padding: 2px 10px;\n",
       "  font-size: 22px;\n",
       "  font-weight: bold;\n",
       "  color: #145929;\n",
       "  border-bottom: 2px solid #42d56e;\n",
       "}\n",
       ".head2__note {\n",
       "  padding: 5px 10px 0px;\n",
       "  font-size: 14px;\n",
       "  font-style: italic;\n",
       "  color: #485536;\n",
       "}\n",
       "\n",
       ".head3 {\n",
       "  margin-top: 5px;\n",
       "  padding: 3px 40px 3px;\n",
       "  border-left: 2px dotted #485536;\n",
       "}\n",
       ".head3__name {\n",
       "  display: inline-block;\n",
       "  max-width: 70%;\n",
       "  padding: 2px 10px;\n",
       "  font-size: 20px;\n",
       "  font-weight: bold;\n",
       "  color: #145929;\n",
       "  border-bottom: 2px dotted #485536;\n",
       "}\n",
       ".head3__note {\n",
       "  padding: 2px 10px 0px;\n",
       "  font-size: 12px;\n",
       "  font-style: italic;\n",
       "  color: #485536;\n",
       "}\n",
       "\n",
       ".warn {\n",
       "  background-color: #fcf2f2;\n",
       "  border-color: #dfb5b4;\n",
       "  border-left: 5px solid #dfb5b4;\n",
       "  padding: 0.5em;\n",
       "}\n",
       ".note {\n",
       "  color: red;\n",
       "}\n",
       ".note::before {\n",
       "  content: 'Note. ';\n",
       "  font-weight: bold;\n",
       "  color: blue;\n",
       "}\n",
       "\n",
       ".end {\n",
       "  padding: 5px;\n",
       "  border-top: 5px solid #8b1d1d;\n",
       "  border-bottom: 5px solid #8b1d1d;\n",
       "}\n",
       "</style>"
      ],
      "text/plain": [
       "<IPython.core.display.HTML object>"
      ]
     },
     "execution_count": 1,
     "metadata": {},
     "output_type": "execute_result"
    }
   ],
   "source": [
    "import sys\n",
    "import time\n",
    "\n",
    "import numpy as np\n",
    "from scipy.optimize import curve_fit\n",
    "import matplotlib as mpl\n",
    "import matplotlib.pyplot as plt\n",
    "\n",
    "sys.path.append('./../lib')\n",
    "from intertrain import Intertrain\n",
    "from solver import Solver as Solver1\n",
    "from solver_tmp import SolverTmp as Solver2\n",
    "from config import config\n",
    "\n",
    "from IPython.core.display import HTML\n",
    "with open( './style.css', 'r' ) as f: st = f.read()\n",
    "HTML('<style>%s</style>' %st)"
   ]
  },
  {
   "cell_type": "markdown",
   "metadata": {},
   "source": [
    "<div class=\"head1\">\n",
    "    <div class=\"head1__name\">\n",
    "        Parameters\n",
    "    </div>\n",
    "</div>"
   ]
  },
  {
   "cell_type": "code",
   "execution_count": 2,
   "metadata": {},
   "outputs": [],
   "source": [
    "A = 1.\n",
    "s = 1.\n",
    "Dc = 0.5\n",
    "\n",
    "def func_f0(x, t):\n",
    "    m = 0.\n",
    "    return A * (m - x)\n",
    "\n",
    "def func_f1(x, t):\n",
    "    return -A * np.ones(x.shape)\n",
    "\n",
    "def func_xm(t, x0):\n",
    "    return np.exp(-A * t) * x0\n",
    " \n",
    "def func_xc(t):\n",
    "    return (1. - np.exp(-2. * A * t)) / 2. / A\n",
    "\n",
    "def func_r0(x):\n",
    "    m = 0.\n",
    "    r = np.exp(-0.5 * (x - m)**2 / s) / np.sqrt(2. * np.pi * s)\n",
    "    return r.reshape(-1)\n",
    "\n",
    "def func_rx(x, t, x0):\n",
    "    m = func_xm(t, x0)\n",
    "    c = func_xc(t)\n",
    "    r = np.exp(-0.5 * (x - m)**2 / c) / np.sqrt(2. * np.pi * c)\n",
    "    return r.reshape(-1)\n",
    "\n",
    "def func_rt(x, t):\n",
    "    S = func_xc(t) + s * np.exp(-2. * A * t)\n",
    "    r = np.exp(-0.5 * x**2 / S) / np.sqrt(2. * np.pi * S)\n",
    "    return r.reshape(-1)\n",
    "\n",
    "def func_rs(x):\n",
    "    r = np.sqrt(A / np.pi) * np.exp(- A * x * x)\n",
    "    return r.reshape(-1)"
   ]
  },
  {
   "cell_type": "code",
   "execution_count": 3,
   "metadata": {},
   "outputs": [
    {
     "name": "stdout",
     "output_type": "stream",
     "text": [
      "Time-space factor (h/l^2) : 2.50250 \n"
     ]
    }
   ],
   "source": [
    "t_poi = 1000\n",
    "t_min = 0.\n",
    "t_max = 1.\n",
    "\n",
    "x_poi = 500\n",
    "x_min = -5.\n",
    "x_max = +5.\n",
    "\n",
    "m = t_poi\n",
    "n = x_poi\n",
    "l = (x_max - x_min) / x_poi\n",
    "h = (t_max - t_min) / (t_poi - 1)\n",
    "T = np.linspace(t_min, t_max, t_poi)\n",
    "\n",
    "print('Time-space factor (h/l^2) : %-8.5f'%(h/l/l))"
   ]
  },
  {
   "cell_type": "markdown",
   "metadata": {},
   "source": [
    "<div class=\"head1\">\n",
    "    <div class=\"head1__name\">\n",
    "        Computations\n",
    "    </div>\n",
    "</div>"
   ]
  },
  {
   "cell_type": "code",
   "execution_count": 8,
   "metadata": {},
   "outputs": [
    {
     "name": "stdout",
     "output_type": "stream",
     "text": [
      "----- Computation | m = 100    | n = 10    \n"
     ]
    },
    {
     "name": "stderr",
     "output_type": "stream",
     "text": [
      "Solve: 100%|█| 99/99 [00:00<00:00, 1094.85step/s, | At T = 1.00e+00 : error = 2.40e-01]\n"
     ]
    },
    {
     "name": "stdout",
     "output_type": "stream",
     "text": [
      "----- Computation | m = 100    | n = 15    \n"
     ]
    },
    {
     "name": "stderr",
     "output_type": "stream",
     "text": [
      "Solve: 100%|█| 99/99 [00:00<00:00, 1523.55step/s, | At T = 1.00e+00 : error = 1.10e-01]\n"
     ]
    },
    {
     "name": "stdout",
     "output_type": "stream",
     "text": [
      "----- Computation | m = 100    | n = 20    \n"
     ]
    },
    {
     "name": "stderr",
     "output_type": "stream",
     "text": [
      "Solve: 100%|█| 99/99 [00:00<00:00, 1113.12step/s, | At T = 1.00e+00 : error = 6.81e-03]\n"
     ]
    },
    {
     "name": "stdout",
     "output_type": "stream",
     "text": [
      "----- Computation | m = 100    | n = 25    \n"
     ]
    },
    {
     "name": "stderr",
     "output_type": "stream",
     "text": [
      "Solve: 100%|█| 99/99 [00:00<00:00, 1024.78step/s, | At T = 1.00e+00 : error = 5.56e-03]\n"
     ]
    },
    {
     "name": "stdout",
     "output_type": "stream",
     "text": [
      "----- Computation | m = 100    | n = 30    \n"
     ]
    },
    {
     "name": "stderr",
     "output_type": "stream",
     "text": [
      "Solve: 100%|█| 99/99 [00:00<00:00, 1032.88step/s, | At T = 1.00e+00 : error = 5.50e-03]\n"
     ]
    },
    {
     "name": "stdout",
     "output_type": "stream",
     "text": [
      "----- Computation | m = 100    | n = 35    \n"
     ]
    },
    {
     "name": "stderr",
     "output_type": "stream",
     "text": [
      "Solve: 100%|█| 99/99 [00:00<00:00, 671.07step/s, | At T = 1.00e+00 : error = 5.50e-03]\n"
     ]
    },
    {
     "name": "stdout",
     "output_type": "stream",
     "text": [
      "----- Computation | m = 100    | n = 40    \n"
     ]
    },
    {
     "name": "stderr",
     "output_type": "stream",
     "text": [
      "Solve: 100%|█| 99/99 [00:00<00:00, 748.82step/s, | At T = 1.00e+00 : error = 5.50e-03]\n"
     ]
    },
    {
     "name": "stdout",
     "output_type": "stream",
     "text": [
      "----- Computation | m = 100    | n = 45    \n"
     ]
    },
    {
     "name": "stderr",
     "output_type": "stream",
     "text": [
      "Solve: 100%|█| 99/99 [00:00<00:00, 681.56step/s, | At T = 1.00e+00 : error = 5.50e-03]\n"
     ]
    },
    {
     "name": "stdout",
     "output_type": "stream",
     "text": [
      "----- Computation | m = 100    | n = 50    \n"
     ]
    },
    {
     "name": "stderr",
     "output_type": "stream",
     "text": [
      "Solve: 100%|█| 99/99 [00:00<00:00, 620.72step/s, | At T = 1.00e+00 : error = 5.50e-03]\n"
     ]
    },
    {
     "name": "stdout",
     "output_type": "stream",
     "text": [
      "----- Computation | m = 101    | n = 10    \n"
     ]
    },
    {
     "name": "stderr",
     "output_type": "stream",
     "text": [
      "Solve: 100%|█| 100/100 [00:00<00:00, 1948.14step/s, | At T = 1.00e+00 : error = 2.40e-01]\n"
     ]
    },
    {
     "name": "stdout",
     "output_type": "stream",
     "text": [
      "----- Computation | m = 101    | n = 15    \n"
     ]
    },
    {
     "name": "stderr",
     "output_type": "stream",
     "text": [
      "Solve: 100%|█| 100/100 [00:00<00:00, 1533.32step/s, | At T = 1.00e+00 : error = 1.10e-01]\n"
     ]
    },
    {
     "name": "stdout",
     "output_type": "stream",
     "text": [
      "----- Computation | m = 101    | n = 20    \n"
     ]
    },
    {
     "name": "stderr",
     "output_type": "stream",
     "text": [
      "Solve: 100%|█| 100/100 [00:00<00:00, 1349.80step/s, | At T = 1.00e+00 : error = 6.78e-03]\n"
     ]
    },
    {
     "name": "stdout",
     "output_type": "stream",
     "text": [
      "----- Computation | m = 101    | n = 25    \n"
     ]
    },
    {
     "name": "stderr",
     "output_type": "stream",
     "text": [
      "Solve: 100%|█| 100/100 [00:00<00:00, 661.55step/s, | At T = 1.00e+00 : error = 5.50e-03]\n"
     ]
    },
    {
     "name": "stdout",
     "output_type": "stream",
     "text": [
      "----- Computation | m = 101    | n = 30    \n"
     ]
    },
    {
     "name": "stderr",
     "output_type": "stream",
     "text": [
      "Solve: 100%|█| 100/100 [00:00<00:00, 973.83step/s, | At T = 1.00e+00 : error = 5.44e-03]\n"
     ]
    },
    {
     "name": "stdout",
     "output_type": "stream",
     "text": [
      "----- Computation | m = 101    | n = 35    \n"
     ]
    },
    {
     "name": "stderr",
     "output_type": "stream",
     "text": [
      "Solve: 100%|█| 100/100 [00:00<00:00, 728.17step/s, | At T = 1.00e+00 : error = 5.44e-03]\n"
     ]
    },
    {
     "name": "stdout",
     "output_type": "stream",
     "text": [
      "----- Computation | m = 101    | n = 40    \n"
     ]
    },
    {
     "name": "stderr",
     "output_type": "stream",
     "text": [
      "Solve: 100%|█| 100/100 [00:00<00:00, 509.60step/s, | At T = 1.00e+00 : error = 5.44e-03]\n"
     ]
    },
    {
     "name": "stdout",
     "output_type": "stream",
     "text": [
      "----- Computation | m = 101    | n = 45    \n"
     ]
    },
    {
     "name": "stderr",
     "output_type": "stream",
     "text": [
      "Solve: 100%|█| 100/100 [00:00<00:00, 558.25step/s, | At T = 1.00e+00 : error = 5.44e-03]\n"
     ]
    },
    {
     "name": "stdout",
     "output_type": "stream",
     "text": [
      "----- Computation | m = 101    | n = 50    \n"
     ]
    },
    {
     "name": "stderr",
     "output_type": "stream",
     "text": [
      "Solve: 100%|█| 100/100 [00:00<00:00, 623.12step/s, | At T = 1.00e+00 : error = 5.44e-03]\n"
     ]
    }
   ],
   "source": [
    "M = [100, 101]\n",
    "N = list(np.arange(10, 51, 5, dtype=int))\n",
    "E = {}\n",
    "T = {}\n",
    "\n",
    "def calc(SL, m, n):\n",
    "    if not E.get(m): E[m] = []\n",
    "    if not T.get(m): T[m] = []\n",
    "        \n",
    "    SL.set_grid_t(m, t_min, t_max, t_hst=1)\n",
    "    SL.set_grid_x(n, x_min, x_max)\n",
    "    SL.set_funcs(func_f0, func_f1, func_r0, func_rt, func_rs)\n",
    "    SL.set_coefs(Dc)\n",
    "    SL.prep()\n",
    "    SL.calc()\n",
    "\n",
    "    T[m].append([SL._t_prep, SL._t_calc, SL._t_spec])\n",
    "    E[m].append(SL._err)\n",
    "        \n",
    "for m in M:\n",
    "    for n in list(N):\n",
    "        print('----- Computation | m = %-6d | n = %-6d'%(m, n))\n",
    "        time.sleep(1)\n",
    "        calc(Solver1(d=1), m, n)"
   ]
  },
  {
   "cell_type": "markdown",
   "metadata": {},
   "source": [
    "<div class=\"head1\">\n",
    "    <div class=\"head1__name\">\n",
    "        Results\n",
    "    </div>\n",
    "</div>"
   ]
  },
  {
   "cell_type": "code",
   "execution_count": 16,
   "metadata": {},
   "outputs": [
    {
     "data": {
      "image/png": "[encoded data removed]",
      "text/plain": [
       "<Figure size 720x360 with 2 Axes>"
      ]
     },
     "metadata": {
      "needs_background": "light"
     },
     "output_type": "display_data"
    },
    {
     "data": {
      "image/png": "[encoded data removed]",
      "text/plain": [
       "<Figure size 720x360 with 2 Axes>"
      ]
     },
     "metadata": {
      "needs_background": "light"
     },
     "output_type": "display_data"
    }
   ],
   "source": [
    "def show(lims):\n",
    "\n",
    "    for m in M:\n",
    "        x = np.array(N.copy())\n",
    "        y = np.array(E[m].copy())\n",
    "        t = T[m].copy()\n",
    "\n",
    "        xe = x[lims[m][0]:lims[m][1]]\n",
    "        ye = y[lims[m][0]:lims[m][1]]\n",
    "\n",
    "        b, a = np.polyfit(xe, np.log(ye), 1, w=np.sqrt(ye))\n",
    "        a = np.exp(a)\n",
    "        z1 = a * np.exp(b * x)\n",
    "\n",
    "        fig = plt.figure(**config['plot']['fig']['base_1_2'])\n",
    "        grd = mpl.gridspec.GridSpec(**config['plot']['grid']['base_1_2'])\n",
    "        ax1 = fig.add_subplot(grd[0, 0])\n",
    "        ax2 = fig.add_subplot(grd[0, 1])\n",
    "\n",
    "        opts = config['plot']['line']['calc'].copy()\n",
    "        opts['label'] = 'Solution (order 1)'\n",
    "        ax1.plot(x, y, **opts)\n",
    "\n",
    "        opts = config['plot']['line']['init'].copy()\n",
    "        opts['label'] = '%8.2e * exp[%8.2e * x]'%(a, b)\n",
    "        ax1.plot(x, z1, **opts)\n",
    "\n",
    "        ax1.set_title('Relative error at final time step (tpoi=%d)'%m)\n",
    "        ax1.set_xlabel('Number of spatial points')\n",
    "        ax1.set_ylabel('Relative error')\n",
    "        ax1.legend(loc='best')\n",
    "        ax1.semilogy()\n",
    "\n",
    "        opts = config['plot']['line']['calc'].copy()\n",
    "        opts['label'] = 'Ord 1'\n",
    "        ax2.plot(N, [t_[1] for t_ in t], **opts)\n",
    "        ax2.semilogy()\n",
    "        ax2.set_title('Calculation time (sec.; tpoi=%d)'%m)\n",
    "        ax2.set_xlabel('Number of spatial points')\n",
    "        ax2.set_ylabel('Time, sec')\n",
    "        ax2.legend(loc='best')\n",
    "\n",
    "        plt.show()\n",
    "        \n",
    "show({\n",
    "    100: [1, 6],\n",
    "    101: [1, 6],\n",
    "})"
   ]
  },
  {
   "cell_type": "markdown",
   "metadata": {},
   "source": [
    "<div class=\"end\"></div>"
   ]
  }
 ],
 "metadata": {
  "kernelspec": {
   "display_name": "Python 3",
   "language": "python",
   "name": "python3"
  },
  "language_info": {
   "codemirror_mode": {
    "name": "ipython",
    "version": 3
   },
   "file_extension": ".py",
   "mimetype": "text/x-python",
   "name": "python",
   "nbconvert_exporter": "python",
   "pygments_lexer": "ipython3",
   "version": "3.7.1"
  }
 },
 "nbformat": 4,
 "nbformat_minor": 2
}
