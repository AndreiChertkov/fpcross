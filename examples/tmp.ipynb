{
 "cells": [
  {
   "cell_type": "markdown",
   "metadata": {},
   "source": [
    "<div class=\"head0\">\n",
    "    <div class=\"head0__name\">\n",
    "        Diffusion equation with linear drift in 1D case\n",
    "    </div>\n",
    "    <div class=\"head0__note\">\n",
    "        Solution of the 1D Fokker-Planck equation by fast and accurate tensor based method with linear drift (Ornstein–Uhlenbeck process). Check for the 2th order solver.\n",
    "    </div>\n",
    "</div>"
   ]
  },
  {
   "cell_type": "code",
   "execution_count": 1,
   "metadata": {},
   "outputs": [
    {
     "data": {
      "text/html": [
       "<style>div {\n",
       "  margin: 0;\n",
       "  padding: 0;\n",
       "}\n",
       "\n",
       ".head0 {\n",
       "  padding: 10px;\n",
       "  display: flex;\n",
       "  background-color: #dedee2;\n",
       "}\n",
       ".head0__name {\n",
       "  padding-right: 5px;\n",
       "  flex: 1 1 50%;\n",
       "  align-self: center;\n",
       "  font-size: 36px;\n",
       "  font-weight: bold;\n",
       "  color: #6b7e51;\n",
       "}\n",
       ".head0__note {\n",
       "  padding-left: 10px;\n",
       "  flex: 1 1 50%;\n",
       "  align-self: flex-end;\n",
       "  font-size: 16px;\n",
       "  font-style: italic;\n",
       "  color: #485536;\n",
       "  border-left: 5px solid #8b1d1d;\n",
       "}\n",
       "\n",
       ".head1 {\n",
       "  margin-top: 30px;\n",
       "  padding: 10px;\n",
       "  border-top: 5px solid #8b1d1d;\n",
       "}\n",
       ".head1__name {\n",
       "  font-size: 32px;\n",
       "  font-weight: bold;\n",
       "  color: #485536;\n",
       "}\n",
       ".head1__note {\n",
       "  padding-left: 20px;\n",
       "  font-size: 20px;\n",
       "  font-style: italic;\n",
       "  color: #485536;\n",
       "}\n",
       "\n",
       ".head2 {\n",
       "  margin-top: 7px;\n",
       "  padding: 5px 30px 5px;\n",
       "  border-left: 2px solid #42d56e;\n",
       "}\n",
       ".head2__name {\n",
       "  display: inline-block;\n",
       "  max-width: 70%;\n",
       "  padding: 2px 10px;\n",
       "  font-size: 22px;\n",
       "  font-weight: bold;\n",
       "  color: #145929;\n",
       "  border-bottom: 2px solid #42d56e;\n",
       "}\n",
       ".head2__note {\n",
       "  padding: 5px 10px 0px;\n",
       "  font-size: 14px;\n",
       "  font-style: italic;\n",
       "  color: #485536;\n",
       "}\n",
       "\n",
       ".head3 {\n",
       "  margin-top: 5px;\n",
       "  padding: 3px 40px 3px;\n",
       "  border-left: 2px dotted #485536;\n",
       "}\n",
       ".head3__name {\n",
       "  display: inline-block;\n",
       "  max-width: 70%;\n",
       "  padding: 2px 10px;\n",
       "  font-size: 20px;\n",
       "  font-weight: bold;\n",
       "  color: #145929;\n",
       "  border-bottom: 2px dotted #485536;\n",
       "}\n",
       ".head3__note {\n",
       "  padding: 2px 10px 0px;\n",
       "  font-size: 12px;\n",
       "  font-style: italic;\n",
       "  color: #485536;\n",
       "}\n",
       "\n",
       ".warn {\n",
       "  background-color: #fcf2f2;\n",
       "  border-color: #dfb5b4;\n",
       "  border-left: 5px solid #dfb5b4;\n",
       "  padding: 0.5em;\n",
       "}\n",
       ".note {\n",
       "  color: red;\n",
       "}\n",
       ".note::before {\n",
       "  content: 'Note. ';\n",
       "  font-weight: bold;\n",
       "  color: blue;\n",
       "}\n",
       "\n",
       ".end {\n",
       "  padding: 5px;\n",
       "  border-top: 5px solid #8b1d1d;\n",
       "  border-bottom: 5px solid #8b1d1d;\n",
       "}\n",
       "</style>"
      ],
      "text/plain": [
       "<IPython.core.display.HTML object>"
      ]
     },
     "execution_count": 1,
     "metadata": {},
     "output_type": "execute_result"
    }
   ],
   "source": [
    "import sys\n",
    "import time\n",
    "\n",
    "import numpy as np\n",
    "import scipy.sparse as sp\n",
    "from scipy.integrate import solve_ivp\n",
    "from scipy.linalg import expm as expm\n",
    "import matplotlib.pyplot as plt\n",
    "\n",
    "sys.path.append('./../lib')\n",
    "from intertrain import Intertrain\n",
    "from solver import Solver as Solver1\n",
    "from solver_tmp import SolverTmp as Solver2\n",
    "\n",
    "from IPython.core.display import HTML\n",
    "with open( './style.css', 'r' ) as f: st = f.read()\n",
    "HTML('<style>%s</style>' %st)"
   ]
  },
  {
   "cell_type": "code",
   "execution_count": 2,
   "metadata": {},
   "outputs": [],
   "source": [
    "A = 1.\n",
    "s = 1.\n",
    "dc = 0.5\n",
    "\n",
    "def func_f0(x, t):\n",
    "    m = 0.\n",
    "    return A * (m - x)\n",
    "\n",
    "def func_f1(x, t):\n",
    "    return -A * np.ones(x.shape)\n",
    "\n",
    "def func_xm(t, x0):\n",
    "    return np.exp(-A * t) * x0\n",
    " \n",
    "def func_xc(t):\n",
    "    return (1. - np.exp(-2. * A * t)) / 2. / A\n",
    "\n",
    "def func_r0(x):\n",
    "    m = 0.\n",
    "    r = np.exp(-0.5 * (x - m)**2 / s) / np.sqrt(2. * np.pi * s)\n",
    "    return r.reshape(-1)\n",
    "\n",
    "def func_rx(x, t, x0):\n",
    "    m = func_xm(t, x0)\n",
    "    c = func_xc(t)\n",
    "    r = np.exp(-0.5 * (x - m)**2 / c) / np.sqrt(2. * np.pi * c)\n",
    "    return r.reshape(-1)\n",
    "\n",
    "def func_rt(x, t):\n",
    "    S = func_xc(t) + s * np.exp(-2. * A * t)\n",
    "    r = np.exp(-0.5 * x**2 / S) / np.sqrt(2. * np.pi * S)\n",
    "    return r.reshape(-1)\n",
    "\n",
    "def func_rs(x):\n",
    "    r = np.sqrt(A / np.pi) * np.exp(- A * x * x)\n",
    "    return r.reshape(-1)\n",
    "\n",
    "def show_x(X, r_calc, _time):\n",
    "    X = X.reshape(1, -1)\n",
    "    r_init = func_r0(X.reshape(1, -1))\n",
    "    r_real = func_rt(X.reshape(1, -1), t_max)\n",
    "    r_stat = func_rs(X.reshape(1, -1))\n",
    "    e = np.linalg.norm(r_real - r_calc) / np.linalg.norm(r_real)\n",
    "\n",
    "    plt.plot(\n",
    "        X.reshape(-1), r_init, '--', label='Initial',\n",
    "        linewidth=3, color='tab:blue'\n",
    "    )\n",
    "    plt.plot(\n",
    "        X.reshape(-1), r_calc, label='Calculated',\n",
    "        linewidth=1, color='tab:green', marker='o', markersize=7,\n",
    "        markerfacecolor='lightgreen', markeredgecolor='g'\n",
    "    )\n",
    "    plt.plot(\n",
    "        X.reshape(-1), r_real, label='Analytic',\n",
    "        linewidth=3, color='black'\n",
    "    )\n",
    "    plt.plot(\n",
    "        X.reshape(-1), r_stat, '--', label='Stationary',\n",
    "        linewidth=2, color='magenta'\n",
    "    )\n",
    "    \n",
    "    plt.title('Solution at final time step')\n",
    "    plt.xlabel('x')\n",
    "    plt.ylabel('r')\n",
    "    plt.legend(loc='best')\n",
    "    plt.show()\n",
    "\n",
    "    print('Number of spatial points : %8d'%x_poi)\n",
    "    print('Number of time points    : %8d'%t_poi)\n",
    "    print('Error (relative norm)    : %-12.2e'%e)\n",
    "    print('Total time (sec)         : %-12.2e'%_time)"
   ]
  },
  {
   "cell_type": "code",
   "execution_count": 13,
   "metadata": {},
   "outputs": [
    {
     "name": "stdout",
     "output_type": "stream",
     "text": [
      "Time-space factor (h/l^2) : 0.50505 \n"
     ]
    }
   ],
   "source": [
    "t_poi = 100\n",
    "t_min = 0.\n",
    "t_max = 0.5\n",
    "\n",
    "x_poi = 100\n",
    "x_min = -5.\n",
    "x_max = +5.\n",
    "\n",
    "m = t_poi\n",
    "n = x_poi\n",
    "l = (x_max - x_min) / x_poi\n",
    "h = (t_max - t_min) / (t_poi - 1)\n",
    "T = np.linspace(t_min, t_max, t_poi)\n",
    "\n",
    "print('Time-space factor (h/l^2) : %-8.5f'%(h/l/l))"
   ]
  },
  {
   "cell_type": "code",
   "execution_count": 14,
   "metadata": {},
   "outputs": [
    {
     "name": "stderr",
     "output_type": "stream",
     "text": [
      "Solve: 100%|█| 99/99 [00:00<00:00, 180.81step/s, | At T = 5.00e-01 : error=1.81e-03]\n"
     ]
    }
   ],
   "source": [
    "SL1 = Solver1(d=1, with_tt=False)\n",
    "SL1.set_grid_t(t_poi, t_min, t_max, t_poi_hst=3)\n",
    "SL1.set_grid_x(x_poi, x_min, x_max)\n",
    "SL1.set_funcs(func_f0, func_f1, func_r0, func_rt, func_rs)\n",
    "SL1.set_coefs(dc)\n",
    "SL1.prep()\n",
    "SL1.calc()\n",
    "SL1.plot_x()\n",
    "SL1.info()"
   ]
  },
  {
   "cell_type": "code",
   "execution_count": 15,
   "metadata": {},
   "outputs": [
    {
     "name": "stderr",
     "output_type": "stream",
     "text": [
      "Solve: 100%|█| 99/99 [00:15<00:00,  8.67step/s, | At T = 5.00e-01 : error=1.02e-03]\n"
     ]
    }
   ],
   "source": [
    "SL2 = Solver2(d=1, with_tt=False)\n",
    "SL2.set_grid_t(t_poi, t_min, t_max, t_poi_hst=3)\n",
    "SL2.set_grid_x(x_poi, x_min, x_max)\n",
    "SL2.set_funcs(func_f0, func_f1, func_r0, func_rt, func_rs)\n",
    "SL2.set_coefs(dc)\n",
    "SL2.prep()\n",
    "SL2.calc()\n",
    "SL2.plot_x()\n",
    "SL2.info()"
   ]
  },
  {
   "cell_type": "code",
   "execution_count": 22,
   "metadata": {},
   "outputs": [
    {
     "name": "stderr",
     "output_type": "stream",
     "text": [
      "Solve: 100%|█| 9/9 [00:00<00:00, 74.73step/s, | At T = 5.00e-01 : error=1.93e-02]\n",
      "Solve: 100%|█| 9/9 [00:01<00:00,  6.29step/s, | At T = 5.00e-01 : error=1.12e-02]\n",
      "Solve: 100%|█| 99/99 [00:00<00:00, 215.26step/s, | At T = 5.00e-01 : error=1.81e-03]\n",
      "Solve: 100%|█| 99/99 [00:20<00:00,  3.65step/s, | At T = 5.00e-01 : error=1.02e-03]\n",
      "Solve: 100%|█| 999/999 [00:06<00:00, 161.57step/s, | At T = 5.00e-01 : error=1.80e-04]\n",
      "Solve: 100%|█| 999/999 [03:33<00:00,  6.97step/s, | At T = 5.00e-01 : error=1.01e-04]\n",
      "Solve: 100%|█| 4999/4999 [00:28<00:00, 177.25step/s, | At T = 5.00e-01 : error=3.60e-05]\n",
      "Solve: 100%|█| 4999/4999 [14:47<00:00,  5.86step/s, | At T = 5.00e-01 : error=2.01e-05]\n"
     ]
    }
   ],
   "source": [
    "n = 100\n",
    "M = [10, 100, 1000, 5000] #, 10000]\n",
    "Times1 = []\n",
    "Errors1 = []\n",
    "Times2 = []\n",
    "Errors2 = []\n",
    "\n",
    "def calc(SL, Times, Errors, m):\n",
    "    SL.set_grid_t(m, t_min, t_max, t_poi_hst=1)\n",
    "    SL.set_grid_x(n, x_min, x_max)\n",
    "    SL.set_funcs(func_f0, func_f1, func_r0, func_rt, func_rs)\n",
    "    SL.set_coefs(dc)\n",
    "    SL.prep()\n",
    "    SL.calc()\n",
    "    u_calc = SL.R_hst[-1]\n",
    "    u_real = func_rt(SL.X_hst.reshape(1, -1), SL.T[-1])\n",
    "    e = np.linalg.norm(u_real - u_calc) / np.linalg.norm(u_real)\n",
    "    \n",
    "    Times.append([SL._t_prep, SL._t_calc])\n",
    "    Errors.append(e)\n",
    "    \n",
    "for m in M:\n",
    "    calc(Solver1(d=1, ord=1), Times1, Errors1, m)\n",
    "    calc(Solver2(d=1, ord=1), Times2, Errors2, m)"
   ]
  },
  {
   "cell_type": "code",
   "execution_count": 23,
   "metadata": {},
   "outputs": [
    {
     "data": {
      "image/png": "[encoded data removed]",
      "text/plain": [
       "<Figure size 432x288 with 1 Axes>"
      ]
     },
     "metadata": {
      "needs_background": "light"
     },
     "output_type": "display_data"
    }
   ],
   "source": [
    "plt.plot(M, Errors1, label='Ord 1')\n",
    "plt.plot(M, Errors2, label='Ord 2')\n",
    "plt.semilogx()\n",
    "plt.semilogy()\n",
    "plt.title('Relative error at final time step (xpoi=%d)'%n)\n",
    "plt.xlabel('Number of time points')\n",
    "plt.ylabel('Relative error')\n",
    "plt.legend(loc='best')\n",
    "plt.show()\n",
    "\n",
    "plt.plot(M, [t[1] for t in Times1], label='Ord 1')\n",
    "plt.plot(M, [t[1] for t in Times2], label='Ord 2')\n",
    "plt.semilogx()\n",
    "plt.semilogy()\n",
    "plt.title('Calculation time (sec.; xpoi=%d)'%n)\n",
    "plt.xlabel('Number of time points')\n",
    "plt.ylabel('Time, sec')\n",
    "plt.legend(loc='best')\n",
    "plt.show()"
   ]
  },
  {
   "cell_type": "markdown",
   "metadata": {},
   "source": [
    "<div class=\"end\"></div>"
   ]
  }
 ],
 "metadata": {
  "kernelspec": {
   "display_name": "Python 3",
   "language": "python",
   "name": "python3"
  },
  "language_info": {
   "codemirror_mode": {
    "name": "ipython",
    "version": 3
   },
   "file_extension": ".py",
   "mimetype": "text/x-python",
   "name": "python",
   "nbconvert_exporter": "python",
   "pygments_lexer": "ipython3",
   "version": "3.7.1"
  }
 },
 "nbformat": 4,
 "nbformat_minor": 2
}
