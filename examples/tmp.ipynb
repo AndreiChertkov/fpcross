{
 "cells": [
  {
   "cell_type": "markdown",
   "metadata": {},
   "source": [
    "<div class=\"head0\">\n",
    "    <div class=\"head0__name\">\n",
    "        Comparison of solvers\n",
    "    </div>\n",
    "    <div class=\"head0__note\">\n",
    "        Comparison of 1th order and 2th order solvers.\n",
    "    </div>\n",
    "</div>"
   ]
  },
  {
   "cell_type": "code",
   "execution_count": 1,
   "metadata": {},
   "outputs": [
    {
     "name": "stdout",
     "output_type": "stream",
     "text": [
      "Start | 11:54AM MSK on Sep 04, 2019 |\n",
      "-------------------------------------\n"
     ]
    },
    {
     "data": {
      "text/html": [
       "<style>div {\n",
       "  margin: 0;\n",
       "  padding: 0;\n",
       "}\n",
       "\n",
       ".head0 {\n",
       "  padding: 10px;\n",
       "  display: flex;\n",
       "  background-color: #dedee2;\n",
       "}\n",
       ".head0__name {\n",
       "  padding-right: 5px;\n",
       "  flex: 1 1 50%;\n",
       "  align-self: center;\n",
       "  font-size: 36px;\n",
       "  font-weight: bold;\n",
       "  color: #6b7e51;\n",
       "}\n",
       ".head0__note {\n",
       "  padding-left: 10px;\n",
       "  flex: 1 1 50%;\n",
       "  align-self: flex-end;\n",
       "  font-size: 16px;\n",
       "  font-style: italic;\n",
       "  color: #485536;\n",
       "  border-left: 5px solid #8b1d1d;\n",
       "}\n",
       "\n",
       ".head1 {\n",
       "  margin-top: 30px;\n",
       "  padding: 10px;\n",
       "  border-top: 5px solid #8b1d1d;\n",
       "}\n",
       ".head1__name {\n",
       "  font-size: 32px;\n",
       "  font-weight: bold;\n",
       "  color: #485536;\n",
       "}\n",
       ".head1__note {\n",
       "  padding-left: 20px;\n",
       "  font-size: 20px;\n",
       "  font-style: italic;\n",
       "  color: #485536;\n",
       "}\n",
       "\n",
       ".head2 {\n",
       "  margin-top: 7px;\n",
       "  padding: 5px 30px 5px;\n",
       "  border-left: 2px solid #42d56e;\n",
       "}\n",
       ".head2__name {\n",
       "  display: inline-block;\n",
       "  max-width: 70%;\n",
       "  padding: 2px 10px;\n",
       "  font-size: 22px;\n",
       "  font-weight: bold;\n",
       "  color: #145929;\n",
       "  border-bottom: 2px solid #42d56e;\n",
       "}\n",
       ".head2__note {\n",
       "  padding: 5px 10px 0px;\n",
       "  font-size: 14px;\n",
       "  font-style: italic;\n",
       "  color: #485536;\n",
       "}\n",
       "\n",
       ".head3 {\n",
       "  margin-top: 5px;\n",
       "  padding: 3px 40px 3px;\n",
       "  border-left: 2px dotted #485536;\n",
       "}\n",
       ".head3__name {\n",
       "  display: inline-block;\n",
       "  max-width: 70%;\n",
       "  padding: 2px 10px;\n",
       "  font-size: 20px;\n",
       "  font-weight: bold;\n",
       "  color: #145929;\n",
       "  border-bottom: 2px dotted #485536;\n",
       "}\n",
       ".head3__note {\n",
       "  padding: 2px 10px 0px;\n",
       "  font-size: 12px;\n",
       "  font-style: italic;\n",
       "  color: #485536;\n",
       "}\n",
       "\n",
       ".warn {\n",
       "  background-color: #fcf2f2;\n",
       "  border-color: #dfb5b4;\n",
       "  border-left: 5px solid #dfb5b4;\n",
       "  padding: 0.5em;\n",
       "}\n",
       ".note {\n",
       "  color: red;\n",
       "}\n",
       ".note::before {\n",
       "  content: 'Note. ';\n",
       "  font-weight: bold;\n",
       "  color: blue;\n",
       "}\n",
       "\n",
       ".end {\n",
       "  padding: 5px;\n",
       "  border-top: 5px solid #8b1d1d;\n",
       "  border-bottom: 5px solid #8b1d1d;\n",
       "}\n",
       "</style>"
      ],
      "text/plain": [
       "<IPython.core.display.HTML object>"
      ]
     },
     "execution_count": 1,
     "metadata": {},
     "output_type": "execute_result"
    }
   ],
   "source": [
    "import sys\n",
    "import time\n",
    "\n",
    "import numpy as np\n",
    "from scipy.optimize import curve_fit\n",
    "import matplotlib as mpl\n",
    "import matplotlib.pyplot as plt\n",
    "\n",
    "sys.path.extend(['./../lib', './../helpers'])\n",
    "from intertrain import Intertrain\n",
    "from solver import Solver\n",
    "from solver_tmp import SolverTmp\n",
    "from config import config\n",
    "\n",
    "from helpers import init_jupyter; init_jupyter()"
   ]
  },
  {
   "cell_type": "markdown",
   "metadata": {},
   "source": [
    "<div class=\"head1\">\n",
    "    <div class=\"head1__name\">\n",
    "        Parameters\n",
    "    </div>\n",
    "</div>"
   ]
  },
  {
   "cell_type": "code",
   "execution_count": 2,
   "metadata": {},
   "outputs": [],
   "source": [
    "A = 1.\n",
    "s = 1.\n",
    "Dc = 0.5\n",
    "\n",
    "def func_f0(x, t):\n",
    "    m = 0.\n",
    "    return A * (m - x)\n",
    "\n",
    "def func_f1(x, t):\n",
    "    return -A * np.ones(x.shape)\n",
    "\n",
    "def func_xm(t, x0):\n",
    "    return np.exp(-A * t) * x0\n",
    " \n",
    "def func_xc(t):\n",
    "    return (1. - np.exp(-2. * A * t)) / 2. / A\n",
    "\n",
    "def func_r0(x):\n",
    "    m = 0.\n",
    "    r = np.exp(-0.5 * (x - m)**2 / s) / np.sqrt(2. * np.pi * s)\n",
    "    return r.reshape(-1)\n",
    "\n",
    "def func_rx(x, t, x0):\n",
    "    m = func_xm(t, x0)\n",
    "    c = func_xc(t)\n",
    "    r = np.exp(-0.5 * (x - m)**2 / c) / np.sqrt(2. * np.pi * c)\n",
    "    return r.reshape(-1)\n",
    "\n",
    "def func_rt(x, t):\n",
    "    S = func_xc(t) + s * np.exp(-2. * A * t)\n",
    "    r = np.exp(-0.5 * x**2 / S) / np.sqrt(2. * np.pi * S)\n",
    "    return r.reshape(-1)\n",
    "\n",
    "def func_rs(x):\n",
    "    r = np.sqrt(A / np.pi) * np.exp(- A * x * x)\n",
    "    return r.reshape(-1)"
   ]
  },
  {
   "cell_type": "code",
   "execution_count": 3,
   "metadata": {},
   "outputs": [
    {
     "name": "stdout",
     "output_type": "stream",
     "text": [
      "Time-space factor (h/l^2) : 0.02503 \n"
     ]
    }
   ],
   "source": [
    "t_poi = 1000\n",
    "t_min = 0.\n",
    "t_max = 1.\n",
    "\n",
    "x_poi = 50\n",
    "x_min = -5.\n",
    "x_max = +5.\n",
    "\n",
    "m = t_poi\n",
    "n = x_poi\n",
    "l = (x_max - x_min) / x_poi\n",
    "h = (t_max - t_min) / (t_poi - 1)\n",
    "T = np.linspace(t_min, t_max, t_poi)\n",
    "\n",
    "print('Time-space factor (h/l^2) : %-8.5f'%(h/l/l))"
   ]
  },
  {
   "cell_type": "markdown",
   "metadata": {},
   "source": [
    "<div class=\"head1\">\n",
    "    <div class=\"head1__name\">\n",
    "        Computations\n",
    "    </div>\n",
    "</div>"
   ]
  },
  {
   "cell_type": "code",
   "execution_count": 4,
   "metadata": {},
   "outputs": [
    {
     "name": "stdout",
     "output_type": "stream",
     "text": [
      "1th order solver: \n"
     ]
    },
    {
     "name": "stderr",
     "output_type": "stream",
     "text": [
      "Solve: 100%|█| 999/999 [00:01<00:00, 671.69step/s, | At T = 1.00e+00 : error = 5.48e-04]\n"
     ]
    },
    {
     "name": "stdout",
     "output_type": "stream",
     "text": [
      "2th order solver (custom ode solver): \n"
     ]
    },
    {
     "name": "stderr",
     "output_type": "stream",
     "text": [
      "Solve: 100%|█| 999/999 [00:02<00:00, 468.99step/s, | At T = 1.00e+00 : error = 3.31e-04]\n"
     ]
    },
    {
     "name": "stdout",
     "output_type": "stream",
     "text": [
      "2th order solver (standard odeint solver): \n"
     ]
    },
    {
     "name": "stderr",
     "output_type": "stream",
     "text": [
      "Solve: 100%|█| 999/999 [00:55<00:00, 16.16step/s, | At T = 1.00e+00 : error = 3.31e-04]\n"
     ]
    }
   ],
   "source": [
    "print('1th order solver: ')\n",
    "time.sleep(1.)\n",
    "SL = Solver(d=1)\n",
    "SL.set_grid_t(m, t_min, t_max, t_hst=1)\n",
    "SL.set_grid_x(n, x_min, x_max)\n",
    "SL.set_funcs(func_f0, func_f1, func_r0, func_rt, func_rs)\n",
    "SL.set_coefs(Dc)\n",
    "SL.prep()\n",
    "SL.calc()\n",
    "\n",
    "print('2th order solver (custom ode solver): ')\n",
    "time.sleep(1.)\n",
    "SL = Solver(d=1, ord=2)\n",
    "SL.set_grid_t(m, t_min, t_max, t_hst=1)\n",
    "SL.set_grid_x(n, x_min, x_max)\n",
    "SL.set_funcs(func_f0, func_f1, func_r0, func_rt, func_rs)\n",
    "SL.set_coefs(Dc)\n",
    "SL.prep()\n",
    "SL.calc()\n",
    "\n",
    "print('2th order solver (standard odeint solver): ')\n",
    "time.sleep(1.)\n",
    "SL = SolverTmp(d=1)\n",
    "SL.set_grid_t(m, t_min, t_max, t_hst=1)\n",
    "SL.set_grid_x(n, x_min, x_max)\n",
    "SL.set_funcs(func_f0, func_f1, func_r0, func_rt, func_rs)\n",
    "SL.set_coefs(Dc)\n",
    "SL.prep()\n",
    "SL.calc()"
   ]
  },
  {
   "cell_type": "markdown",
   "metadata": {},
   "source": [
    "<div class=\"end\"></div>"
   ]
  }
 ],
 "metadata": {
  "kernelspec": {
   "display_name": "Python 3",
   "language": "python",
   "name": "python3"
  },
  "language_info": {
   "codemirror_mode": {
    "name": "ipython",
    "version": 3
   },
   "file_extension": ".py",
   "mimetype": "text/x-python",
   "name": "python",
   "nbconvert_exporter": "python",
   "pygments_lexer": "ipython3",
   "version": "3.7.1"
  }
 },
 "nbformat": 4,
 "nbformat_minor": 2
}
