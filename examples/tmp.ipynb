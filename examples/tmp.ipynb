{
 "cells": [
  {
   "cell_type": "markdown",
   "metadata": {},
   "source": [
    "<div class=\"head0\">\n",
    "    <div class=\"head0__name\">\n",
    "        Comparison of solvers\n",
    "    </div>\n",
    "    <div class=\"head0__note\">\n",
    "        Comparison of 1th order and 2th order solvers.\n",
    "    </div>\n",
    "</div>"
   ]
  },
  {
   "cell_type": "code",
   "execution_count": 1,
   "metadata": {},
   "outputs": [
    {
     "name": "stdout",
     "output_type": "stream",
     "text": [
      "Start |  5:29PM MSK on Sep 03, 2019 |\n",
      "-------------------------------------\n"
     ]
    }
   ],
   "source": [
    "import sys\n",
    "import time\n",
    "\n",
    "import numpy as np\n",
    "from scipy.optimize import curve_fit\n",
    "import matplotlib as mpl\n",
    "import matplotlib.pyplot as plt\n",
    "\n",
    "sys.path.extend(['./../lib', './../helpers'])\n",
    "from intertrain import Intertrain\n",
    "from solver import Solver\n",
    "from solver_tmp import SolverTmp\n",
    "from config import config\n",
    "\n",
    "from helpers import init_jupyter; init_jupyter()"
   ]
  },
  {
   "cell_type": "markdown",
   "metadata": {},
   "source": [
    "<div class=\"head1\">\n",
    "    <div class=\"head1__name\">\n",
    "        Parameters\n",
    "    </div>\n",
    "</div>"
   ]
  },
  {
   "cell_type": "code",
   "execution_count": 2,
   "metadata": {},
   "outputs": [],
   "source": [
    "A = 1.\n",
    "s = 1.\n",
    "Dc = 0.5\n",
    "\n",
    "def func_f0(x, t):\n",
    "    m = 0.\n",
    "    return A * (m - x)\n",
    "\n",
    "def func_f1(x, t):\n",
    "    return -A * np.ones(x.shape)\n",
    "\n",
    "def func_xm(t, x0):\n",
    "    return np.exp(-A * t) * x0\n",
    " \n",
    "def func_xc(t):\n",
    "    return (1. - np.exp(-2. * A * t)) / 2. / A\n",
    "\n",
    "def func_r0(x):\n",
    "    m = 0.\n",
    "    r = np.exp(-0.5 * (x - m)**2 / s) / np.sqrt(2. * np.pi * s)\n",
    "    return r.reshape(-1)\n",
    "\n",
    "def func_rx(x, t, x0):\n",
    "    m = func_xm(t, x0)\n",
    "    c = func_xc(t)\n",
    "    r = np.exp(-0.5 * (x - m)**2 / c) / np.sqrt(2. * np.pi * c)\n",
    "    return r.reshape(-1)\n",
    "\n",
    "def func_rt(x, t):\n",
    "    S = func_xc(t) + s * np.exp(-2. * A * t)\n",
    "    r = np.exp(-0.5 * x**2 / S) / np.sqrt(2. * np.pi * S)\n",
    "    return r.reshape(-1)\n",
    "\n",
    "def func_rs(x):\n",
    "    r = np.sqrt(A / np.pi) * np.exp(- A * x * x)\n",
    "    return r.reshape(-1)"
   ]
  },
  {
   "cell_type": "code",
   "execution_count": 3,
   "metadata": {},
   "outputs": [
    {
     "name": "stdout",
     "output_type": "stream",
     "text": [
      "Time-space factor (h/l^2) : 0.02503 \n"
     ]
    }
   ],
   "source": [
    "t_poi = 1000\n",
    "t_min = 0.\n",
    "t_max = 1.\n",
    "\n",
    "x_poi = 50\n",
    "x_min = -5.\n",
    "x_max = +5.\n",
    "\n",
    "m = t_poi\n",
    "n = x_poi\n",
    "l = (x_max - x_min) / x_poi\n",
    "h = (t_max - t_min) / (t_poi - 1)\n",
    "T = np.linspace(t_min, t_max, t_poi)\n",
    "\n",
    "print('Time-space factor (h/l^2) : %-8.5f'%(h/l/l))"
   ]
  },
  {
   "cell_type": "markdown",
   "metadata": {},
   "source": [
    "<div class=\"head1\">\n",
    "    <div class=\"head1__name\">\n",
    "        Computations\n",
    "    </div>\n",
    "</div>"
   ]
  },
  {
   "cell_type": "code",
   "execution_count": 4,
   "metadata": {},
   "outputs": [
    {
     "name": "stdout",
     "output_type": "stream",
     "text": [
      "1th order solver: \n"
     ]
    },
    {
     "name": "stderr",
     "output_type": "stream",
     "text": [
      "Solve: 100%|█| 999/999 [00:01<00:00, 671.69step/s, | At T = 1.00e+00 : error = 5.48e-04]\n"
     ]
    },
    {
     "name": "stdout",
     "output_type": "stream",
     "text": [
      "2th order solver (custom ode solver): \n"
     ]
    },
    {
     "name": "stderr",
     "output_type": "stream",
     "text": [
      "Solve: 100%|█| 999/999 [00:02<00:00, 468.99step/s, | At T = 1.00e+00 : error = 3.31e-04]\n"
     ]
    },
    {
     "name": "stdout",
     "output_type": "stream",
     "text": [
      "2th order solver (standard odeint solver): \n"
     ]
    },
    {
     "name": "stderr",
     "output_type": "stream",
     "text": [
      "Solve: 100%|█| 999/999 [00:55<00:00, 16.16step/s, | At T = 1.00e+00 : error = 3.31e-04]\n"
     ]
    }
   ],
   "source": [
    "print('1th order solver: ')\n",
    "time.sleep(1.)\n",
    "SL = Solver(d=1)\n",
    "SL.set_grid_t(m, t_min, t_max, t_hst=1)\n",
    "SL.set_grid_x(n, x_min, x_max)\n",
    "SL.set_funcs(func_f0, func_f1, func_r0, func_rt, func_rs)\n",
    "SL.set_coefs(Dc)\n",
    "SL.prep()\n",
    "SL.calc()\n",
    "\n",
    "print('2th order solver (custom ode solver): ')\n",
    "time.sleep(1.)\n",
    "SL = Solver(d=1, ord=2)\n",
    "SL.set_grid_t(m, t_min, t_max, t_hst=1)\n",
    "SL.set_grid_x(n, x_min, x_max)\n",
    "SL.set_funcs(func_f0, func_f1, func_r0, func_rt, func_rs)\n",
    "SL.set_coefs(Dc)\n",
    "SL.prep()\n",
    "SL.calc()\n",
    "\n",
    "print('2th order solver (standard odeint solver): ')\n",
    "time.sleep(1.)\n",
    "SL = SolverTmp(d=1)\n",
    "SL.set_grid_t(m, t_min, t_max, t_hst=1)\n",
    "SL.set_grid_x(n, x_min, x_max)\n",
    "SL.set_funcs(func_f0, func_f1, func_r0, func_rt, func_rs)\n",
    "SL.set_coefs(Dc)\n",
    "SL.prep()\n",
    "SL.calc()"
   ]
  },
  {
   "cell_type": "markdown",
   "metadata": {},
   "source": [
    "<div class=\"end\"></div>"
   ]
  }
 ],
 "metadata": {
  "kernelspec": {
   "display_name": "Python 3",
   "language": "python",
   "name": "python3"
  },
  "language_info": {
   "codemirror_mode": {
    "name": "ipython",
    "version": 3
   },
   "file_extension": ".py",
   "mimetype": "text/x-python",
   "name": "python",
   "nbconvert_exporter": "python",
   "pygments_lexer": "ipython3",
   "version": "3.7.1"
  }
 },
 "nbformat": 4,
 "nbformat_minor": 2
}
