{
 "cells": [
  {
   "cell_type": "markdown",
   "metadata": {},
   "source": [
    "<div class=\"head0\">\n",
    "    <div class=\"head0__name\">\n",
    "        TMP file\n",
    "    </div>\n",
    "</div>"
   ]
  },
  {
   "cell_type": "code",
   "execution_count": 1,
   "metadata": {},
   "outputs": [
    {
     "name": "stdout",
     "output_type": "stream",
     "text": [
      "Start |  9:30PM MSK on Sep 21, 2019 |\n",
      "-------------------------------------\n"
     ]
    },
    {
     "data": {
      "text/html": [
       "<style>div {\n",
       "  margin: 0;\n",
       "  padding: 0;\n",
       "}\n",
       "\n",
       ".head0 {\n",
       "  padding: 10px;\n",
       "  display: flex;\n",
       "  background-color: #dedee2;\n",
       "}\n",
       ".head0__name {\n",
       "  padding-right: 5px;\n",
       "  flex: 1 1 50%;\n",
       "  align-self: center;\n",
       "  font-size: 36px;\n",
       "  font-weight: bold;\n",
       "  color: #6b7e51;\n",
       "}\n",
       ".head0__note {\n",
       "  padding-left: 10px;\n",
       "  flex: 1 1 50%;\n",
       "  align-self: flex-end;\n",
       "  font-size: 16px;\n",
       "  font-style: italic;\n",
       "  color: #485536;\n",
       "  border-left: 5px solid #8b1d1d;\n",
       "}\n",
       "\n",
       ".head1 {\n",
       "  margin-top: 30px;\n",
       "  padding: 10px;\n",
       "  border-top: 5px solid #8b1d1d;\n",
       "}\n",
       ".head1__name {\n",
       "  font-size: 32px;\n",
       "  font-weight: bold;\n",
       "  color: #485536;\n",
       "}\n",
       ".head1__note {\n",
       "  padding-left: 20px;\n",
       "  font-size: 20px;\n",
       "  font-style: italic;\n",
       "  color: #485536;\n",
       "}\n",
       "\n",
       ".head2 {\n",
       "  margin-top: 7px;\n",
       "  padding: 5px 30px 5px;\n",
       "  border-left: 2px solid #42d56e;\n",
       "}\n",
       ".head2__name {\n",
       "  display: inline-block;\n",
       "  max-width: 70%;\n",
       "  padding: 2px 10px;\n",
       "  font-size: 22px;\n",
       "  font-weight: bold;\n",
       "  color: #145929;\n",
       "  border-bottom: 2px solid #42d56e;\n",
       "}\n",
       ".head2__note {\n",
       "  padding: 5px 10px 0px;\n",
       "  font-size: 14px;\n",
       "  font-style: italic;\n",
       "  color: #485536;\n",
       "}\n",
       "\n",
       ".head3 {\n",
       "  margin-top: 5px;\n",
       "  padding: 3px 40px 3px;\n",
       "  border-left: 2px dotted #485536;\n",
       "}\n",
       ".head3__name {\n",
       "  display: inline-block;\n",
       "  max-width: 70%;\n",
       "  padding: 2px 10px;\n",
       "  font-size: 20px;\n",
       "  font-weight: bold;\n",
       "  color: #145929;\n",
       "  border-bottom: 2px dotted #485536;\n",
       "}\n",
       ".head3__note {\n",
       "  padding: 2px 10px 0px;\n",
       "  font-size: 12px;\n",
       "  font-style: italic;\n",
       "  color: #485536;\n",
       "}\n",
       "\n",
       ".warn {\n",
       "  background-color: #fcf2f2;\n",
       "  border-color: #dfb5b4;\n",
       "  border-left: 5px solid #dfb5b4;\n",
       "  padding: 0.5em;\n",
       "}\n",
       ".note {\n",
       "  color: #42d56e;\n",
       "}\n",
       ".note::before {\n",
       "  content: 'Note. ';\n",
       "  font-weight: bold;\n",
       "  color: #485536;\n",
       "}\n",
       "\n",
       ".end {\n",
       "  padding: 5px;\n",
       "  border-top: 5px solid #8b1d1d;\n",
       "  border-bottom: 5px solid #8b1d1d;\n",
       "}\n",
       "</style>"
      ],
      "text/plain": [
       "<IPython.core.display.HTML object>"
      ]
     },
     "execution_count": 1,
     "metadata": {},
     "output_type": "execute_result"
    }
   ],
   "source": [
    "import sys\n",
    "import time\n",
    "\n",
    "import numpy as np\n",
    "import scipy.sparse as sp\n",
    "from scipy.integrate import solve_ivp\n",
    "from scipy.linalg import expm as expm\n",
    "import matplotlib.pyplot as plt\n",
    "\n",
    "import tt\n",
    "\n",
    "sys.path.extend(['./../lib', './../lib/models', './../helpers'])\n",
    "\n",
    "from model import Model\n",
    "from solver import Solver\n",
    "from intertrain import Intertrain\n",
    "from helpers import init_jupyter\n",
    "\n",
    "init_jupyter()"
   ]
  },
  {
   "cell_type": "markdown",
   "metadata": {},
   "source": [
    "<div class=\"head1\">\n",
    "    <div class=\"head1__name\">\n",
    "        Latex generation\n",
    "    </div>\n",
    "</div>"
   ]
  },
  {
   "cell_type": "code",
   "execution_count": 3,
   "metadata": {},
   "outputs": [
    {
     "data": {
      "text/latex": [
       "$\\phi$"
      ],
      "text/plain": [
       "<IPython.core.display.Latex object>"
      ]
     },
     "metadata": {},
     "output_type": "display_data"
    }
   ],
   "source": [
    "from IPython.display import display, Latex\n",
    "display(Latex('$\\phi$'))"
   ]
  },
  {
   "cell_type": "markdown",
   "metadata": {},
   "source": [
    "<div class=\"head1\">\n",
    "    <div class=\"head1__name\">\n",
    "        Lyapunov solver\n",
    "    </div>\n",
    "</div>\n",
    "\n",
    "Let solve a matrix equation \n",
    "$$\n",
    "    A W + W A^{\\top} = Q,\n",
    "$$\n",
    "for the unknown matrix $W$."
   ]
  },
  {
   "cell_type": "code",
   "execution_count": 7,
   "metadata": {},
   "outputs": [
    {
     "name": "stdout",
     "output_type": "stream",
     "text": [
      "Error is : 1.30e-14\n"
     ]
    }
   ],
   "source": [
    "from scipy.linalg import solve_lyapunov\n",
    "\n",
    "A = np.array([\n",
    "    [1., 3., 1.],\n",
    "    [5., 1., 2.],\n",
    "    [0., 9., 1.],\n",
    "])\n",
    "Q = np.array([\n",
    "    [1., 0., 1.],\n",
    "    [0., 1., 0.],\n",
    "    [1., 1., 1.],\n",
    "])\n",
    "\n",
    "W = solve_lyapunov(A, Q)\n",
    "e = np.linalg.norm(A @ W + W @ A.T - Q)\n",
    "print('Error is : %-8.2e'%e)"
   ]
  },
  {
   "cell_type": "markdown",
   "metadata": {},
   "source": [
    "<div class=\"head1\">\n",
    "    <div class=\"head1__name\">\n",
    "        Matrix exponential property 2D\n",
    "    </div>\n",
    "</div>\n",
    "\n",
    "Let check that\n",
    "$$\n",
    "    e^{A I_B + I_A B} = e^{A} \\otimes e^{B}.\n",
    "$$"
   ]
  },
  {
   "cell_type": "code",
   "execution_count": 9,
   "metadata": {},
   "outputs": [
    {
     "name": "stdout",
     "output_type": "stream",
     "text": [
      "1.19e-15\n"
     ]
    }
   ],
   "source": [
    "Ia = np.eye(6)\n",
    "Ib = np.eye(7)\n",
    "\n",
    "A = np.random.randn(*Ia.shape)\n",
    "B = np.random.randn(*Ib.shape)\n",
    "\n",
    "E1 = expm(np.kron(A, Ib) + np.kron(Ia, B))\n",
    "Ea = expm(A)\n",
    "Eb = expm(B)\n",
    "E2 = np.kron(Ea, Eb)\n",
    "err = np.linalg.norm(E1 - E2) / np.linalg.norm(E1)\n",
    "\n",
    "print('%-8.2e'%err)"
   ]
  },
  {
   "cell_type": "markdown",
   "metadata": {},
   "source": [
    "<div class=\"head1\">\n",
    "    <div class=\"head1__name\">\n",
    "        Matrix exponential property 3D\n",
    "    </div>\n",
    "</div>\n",
    "\n",
    "Let check that\n",
    "$$\n",
    "    e^{A I_B I_C + I_A B I_C + I_A I_B C} = e^{A} \\otimes e^{B} \\otimes e^{C}.\n",
    "$$\n",
    "\n",
    "See [forum](https://math.stackexchange.com/questions/709114/how-to-prove-ea-oplus-b-ea-otimes-eb-where-a-and-b-are-matrices)"
   ]
  },
  {
   "cell_type": "code",
   "execution_count": 10,
   "metadata": {},
   "outputs": [
    {
     "name": "stdout",
     "output_type": "stream",
     "text": [
      "8.63e-16\n"
     ]
    }
   ],
   "source": [
    "Ia = np.eye(6)\n",
    "Ib = np.eye(7)\n",
    "Ic = np.eye(8)\n",
    "\n",
    "A = np.random.randn(*Ia.shape)\n",
    "B = np.random.randn(*Ib.shape)\n",
    "C = np.random.randn(*Ic.shape)\n",
    "\n",
    "E1 = expm(np.kron(np.kron(A, Ib), Ic) + np.kron(Ia, np.kron(B, Ic)) + np.kron(Ia, np.kron(Ib, C)))\n",
    "Ea = expm(A)\n",
    "Eb = expm(B)\n",
    "Ec = expm(C)\n",
    "E2 = np.kron(Ea, np.kron(Eb, Ec))\n",
    "err = np.linalg.norm(E1 - E2) / np.linalg.norm(E1)\n",
    "\n",
    "print('%-8.2e'%err)"
   ]
  },
  {
   "cell_type": "markdown",
   "metadata": {},
   "source": [
    "<div class=\"head1\">\n",
    "    <div class=\"head1__name\">\n",
    "        Various\n",
    "    </div>\n",
    "</div>"
   ]
  },
  {
   "cell_type": "code",
   "execution_count": 7,
   "metadata": {},
   "outputs": [
    {
     "name": "stdout",
     "output_type": "stream",
     "text": [
      "(0, 1, 1)\n",
      "[14 23 17  6]\n"
     ]
    },
    {
     "data": {
      "text/plain": [
       "array([[350, 359, 353, 342],\n",
       "       [566, 575, 569, 558],\n",
       "       [422, 431, 425, 414],\n",
       "       [158, 167, 161, 150]])"
      ]
     },
     "execution_count": 7,
     "metadata": {},
     "output_type": "execute_result"
    }
   ],
   "source": [
    "n = [2, 3, 4]\n",
    "N = np.prod(n)\n",
    "A = np.arange(N*N).reshape(N, N)\n",
    "i = np.array([\n",
    "    [0, 1, 1, 0],\n",
    "    [1, 2, 2, 0],\n",
    "    [2, 3, 2, 1]\n",
    "])\n",
    "print(np.unravel_index(8, n, order='F'))\n",
    "\n",
    "k = np.ravel_multi_index(i, n, order='F')\n",
    "print(k)\n",
    "A[np.ix_(k, k)]"
   ]
  },
  {
   "cell_type": "code",
   "execution_count": 12,
   "metadata": {},
   "outputs": [
    {
     "name": "stdout",
     "output_type": "stream",
     "text": [
      "0 2\n",
      "2 2\n",
      "4 2\n",
      "6 2\n",
      "8 2\n",
      "9 2\n"
     ]
    }
   ],
   "source": [
    "t_poi = 10\n",
    "t_hst = 4\n",
    "t_hst = int(t_poi / t_hst) if t_hst else 0\n",
    "for i in range(t_poi):\n",
    "    if t_hst and (i % t_hst == 0 or i == t_poi - 1):\n",
    "        print(i, t_hst)"
   ]
  },
  {
   "cell_type": "markdown",
   "metadata": {},
   "source": [
    "<div class=\"head1\">\n",
    "    <div class=\"head1__name\">\n",
    "        Proof of analytic formula for solution of 1D PDF with linear drift\n",
    "    </div>\n",
    "</div>\n",
    "\n",
    "Let calculate PDF $\\rho(x, t)$ at time $t$ in some spatial point $x$ using transition PDF $\\rho(x, t, x_0)$\n",
    "$$\n",
    "  \\rho(x, t, x_0) =\n",
    "      \\frac{1}{\\sqrt{2 \\pi \\Sigma(t)}}\n",
    "      \\exp{\\left[\n",
    "          -\\frac{(x - e^{-A t} x_0)^2}{2 \\Sigma(t)}\n",
    "      \\right]},\n",
    "$$\n",
    "and fixed initial condition\n",
    "$$\n",
    "  \\rho_0(x) =\n",
    "      \\frac{1}{\\sqrt{2 \\pi s}}\n",
    "      \\exp{\\left[\n",
    "          -\\frac{x^2}{2 s}\n",
    "      \\right]},\n",
    "$$\n",
    "from equation\n",
    "$$\n",
    "  \\rho(x, t) = \\int_{-\\infty}^{\\infty}\n",
    "      \\rho(x, t, x_0) \\rho_0(x_0) \\, d x_0.\n",
    "$$\n",
    "\n",
    "We have\n",
    "$$\n",
    "  \\rho(x, t) = \\frac{1}{\\sqrt{4 \\pi^2 \\Sigma(t) s}}\\int_{-\\infty}^{\\infty}\n",
    "      \\exp{\\left[\n",
    "          -\\frac{(x - e^{-A t} x_0)^2}{2 \\Sigma(t)}  -\\frac{x_0^2}{2 s}\n",
    "      \\right]}\n",
    "      \\, d x_0,\n",
    "$$\n",
    "\n",
    "$$\n",
    "  \\rho(x, t) = \\frac{1}{\\sqrt{4 \\pi^2 \\Sigma(t) s}}\\int_{-\\infty}^{\\infty}\n",
    "      \\exp{\\left[\n",
    "          -\\frac{s (x - e^{-A t} x_0)^2 + \\Sigma(t) x_0^2}{2 \\Sigma(t) s}\n",
    "      \\right]}\n",
    "      \\, d x_0,\n",
    "$$\n",
    "\n",
    "$$\n",
    "  \\rho(x, t) =\n",
    "      \\frac{1}{\\sqrt{4 \\pi^2 \\Sigma(t) s}}\n",
    "      \\exp{\\left[\n",
    "          -\\frac{x^2}{2 \\Sigma(t)}\n",
    "      \\right]}\n",
    "      \\int_{-\\infty}^{\\infty}\n",
    "          \\exp{\\left[\n",
    "              \\frac{- s e^{-2 A t} x_0^2 + 2 s x e^{-A t} x_0 - \\Sigma(t) x_0^2}{2 \\Sigma(t) s}\n",
    "          \\right]}\n",
    "          \\, d x_0,\n",
    "$$\n",
    "\n",
    "$$\n",
    "  \\rho(x, t) =\n",
    "      \\frac{1}{\\sqrt{4 \\pi^2 \\Sigma(t) s}}\n",
    "      \\exp{\\left[\n",
    "          -\\frac{x^2}{2 \\Sigma(t)}\n",
    "      \\right]}\n",
    "      \\int_{-\\infty}^{\\infty}\n",
    "          \\exp{\\left[\n",
    "              - \\frac{s e^{-2 A t} + \\Sigma(t)}{2 \\Sigma(t) s} x_0^2\n",
    "              + \\frac{x e^{-A t}}{\\Sigma(t)} x_0\n",
    "          \\right]}\n",
    "          \\, d x_0,\n",
    "$$\n",
    "\n",
    "Since\n",
    "$$\n",
    "  \\int_{-\\infty}^{\\infty} e^{-a x^2 + b x} \\, d x =\n",
    "      \\sqrt{\\frac{\\pi}{a}} e^{\\frac{b^2}{4a}},\n",
    "  \\quad\n",
    "  a > 0,\n",
    "$$\n",
    "we come to\n",
    "$$\n",
    "  \\rho(x, t) =\n",
    "      \\frac{1}{\\sqrt{4 \\pi^2 \\Sigma(t) s}}\n",
    "      \\exp{\\left[\n",
    "          -\\frac{x^2}{2 \\Sigma(t)}\n",
    "      \\right]}\n",
    "      \\sqrt{\\frac{2 \\pi \\Sigma(t) s}{s e^{-2 A t} + \\Sigma(t)}}\n",
    "      \\exp{\\left[\n",
    "          \\frac{2 \\Sigma(t) s x^2 e^{-2 A t}}{4 \\Sigma^2(t) (s e^{-2 A t} + \\Sigma(t))}\n",
    "      \\right]},\n",
    "$$\n",
    "\n",
    "$$\n",
    "  \\rho(x, t) =\n",
    "      \\sqrt{\n",
    "          \\frac\n",
    "              {\n",
    "                  1\n",
    "              }\n",
    "              {\n",
    "                  2 \\pi \\left( \\Sigma(t) + s e^{-2 A t} \\right)\n",
    "              }\n",
    "      }\n",
    "      \\exp{\\left[\n",
    "          \\frac\n",
    "              {\n",
    "                  s x^2 e^{-2 A t}\n",
    "              }\n",
    "              {\n",
    "                  2 \\Sigma(t) \\left( s e^{-2 A t} + \\Sigma(t) \\right)\n",
    "              }\n",
    "          -\n",
    "          \\frac\n",
    "              {\n",
    "                  x^2\n",
    "              }\n",
    "              {\n",
    "                  2 \\Sigma(t)\n",
    "              }\n",
    "      \\right]},\n",
    "$$\n",
    "\n",
    "$$\n",
    "  \\rho(x, t) =\n",
    "      \\sqrt{\n",
    "          \\frac\n",
    "              {\n",
    "                  1\n",
    "              }\n",
    "              {\n",
    "                  2 \\pi \\left( \\Sigma(t) + s e^{-2 A t} \\right)\n",
    "              }\n",
    "      }\n",
    "      \\exp{\\left[\n",
    "          \\frac\n",
    "              {\n",
    "                  s e^{-2 A t} - s e^{-2 A t} - \\Sigma(t)\n",
    "              }\n",
    "              {\n",
    "                  2 \\Sigma(t) \\left( s e^{-2 A t} + \\Sigma(t) \\right)\n",
    "              }\n",
    "          x^2\n",
    "      \\right]},\n",
    "$$\n",
    "\n",
    "$$\n",
    "  \\rho(x, t) =\n",
    "      \\frac\n",
    "          {\n",
    "              1\n",
    "          }\n",
    "          {\n",
    "              \\sqrt{2 \\pi \\left( \\Sigma(t) + s e^{-2 A t} \\right)}\n",
    "          }\n",
    "      \\exp{\\left[\n",
    "          - \\frac\n",
    "              {\n",
    "                  x^2\n",
    "              }\n",
    "              {\n",
    "                  2 \\left( \\Sigma(t) + s e^{-2 A t} \\right)\n",
    "              }\n",
    "      \\right]}.\n",
    "$$"
   ]
  },
  {
   "cell_type": "markdown",
   "metadata": {},
   "source": [
    "<div class=\"end\"></div>"
   ]
  }
 ],
 "metadata": {
  "kernelspec": {
   "display_name": "Python 3",
   "language": "python",
   "name": "python3"
  },
  "language_info": {
   "codemirror_mode": {
    "name": "ipython",
    "version": 3
   },
   "file_extension": ".py",
   "mimetype": "text/x-python",
   "name": "python",
   "nbconvert_exporter": "python",
   "pygments_lexer": "ipython3",
   "version": "3.7.1"
  }
 },
 "nbformat": 4,
 "nbformat_minor": 2
}
