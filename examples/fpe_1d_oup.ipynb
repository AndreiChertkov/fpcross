{
 "cells": [
  {
   "cell_type": "code",
   "execution_count": 1,
   "metadata": {},
   "outputs": [
    {
     "name": "stdout",
     "output_type": "stream",
     "text": [
      "Start | 11:44AM MSK on Nov 12, 2019 | python 3.7.1    |\n",
      "-------------------------------------------------------\n"
     ]
    },
    {
     "data": {
      "text/html": [
       "<style>\n",
       "        div {\n",
       "          margin: 0;\n",
       "          padding: 0;\n",
       "        }\n",
       "\n",
       "        .head0 {\n",
       "          padding: 10px;\n",
       "          display: flex;\n",
       "          background-color: #dedee2;\n",
       "        }\n",
       "        .head0__name {\n",
       "          padding-right: 5px;\n",
       "          flex: 1 1 50%;\n",
       "          align-self: center;\n",
       "          font-size: 36px;\n",
       "          font-weight: bold;\n",
       "          color: #6b7e51;\n",
       "        }\n",
       "        .head0__note {\n",
       "          padding-left: 10px;\n",
       "          flex: 1 1 50%;\n",
       "          align-self: flex-end;\n",
       "          font-size: 16px;\n",
       "          font-style: italic;\n",
       "          color: #485536;\n",
       "          border-left: 5px solid #8b1d1d;\n",
       "        }\n",
       "\n",
       "        .head1 {\n",
       "          margin-top: 30px;\n",
       "          padding: 10px;\n",
       "          border-top: 5px solid #8b1d1d;\n",
       "        }\n",
       "        .head1__name {\n",
       "          font-size: 32px;\n",
       "          font-weight: bold;\n",
       "          color: #485536;\n",
       "        }\n",
       "        .head1__note {\n",
       "          padding-left: 20px;\n",
       "          font-size: 20px;\n",
       "          font-style: italic;\n",
       "          color: #485536;\n",
       "        }\n",
       "\n",
       "        .head2 {\n",
       "          margin-top: 7px;\n",
       "          padding: 5px 30px 5px;\n",
       "          border-left: 2px solid #42d56e;\n",
       "        }\n",
       "        .head2__name {\n",
       "          display: inline-block;\n",
       "          max-width: 70%;\n",
       "          padding: 2px 10px;\n",
       "          font-size: 22px;\n",
       "          font-weight: bold;\n",
       "          color: #145929;\n",
       "          border-bottom: 2px solid #42d56e;\n",
       "        }\n",
       "        .head2__note {\n",
       "          padding: 5px 10px 0px;\n",
       "          font-size: 14px;\n",
       "          font-style: italic;\n",
       "          color: #485536;\n",
       "        }\n",
       "\n",
       "        .head3 {\n",
       "          margin-top: 5px;\n",
       "          padding: 3px 40px 3px;\n",
       "          border-left: 2px dotted #485536;\n",
       "        }\n",
       "        .head3__name {\n",
       "          display: inline-block;\n",
       "          max-width: 70%;\n",
       "          padding: 2px 10px;\n",
       "          font-size: 20px;\n",
       "          font-weight: bold;\n",
       "          color: #145929;\n",
       "          border-bottom: 2px dotted #485536;\n",
       "        }\n",
       "        .head3__note {\n",
       "          padding: 2px 10px 0px;\n",
       "          font-size: 12px;\n",
       "          font-style: italic;\n",
       "          color: #485536;\n",
       "        }\n",
       "\n",
       "        .warn {\n",
       "          background-color: #fcf2f2;\n",
       "          border-color: #dfb5b4;\n",
       "          border-left: 5px solid #dfb5b4;\n",
       "          padding: 0.5em;\n",
       "        }\n",
       "\n",
       "        .note {\n",
       "          color: #42d56e;\n",
       "        }\n",
       "        .note::before {\n",
       "          content: 'Note. ';\n",
       "          font-weight: bold;\n",
       "          color: #485536;\n",
       "        }\n",
       "\n",
       "        .end {\n",
       "          padding: 5px;\n",
       "          border-top: 5px solid #8b1d1d;\n",
       "          border-bottom: 5px solid #8b1d1d;\n",
       "        }\n",
       "    </style>"
      ],
      "text/plain": [
       "<IPython.core.display.HTML object>"
      ]
     },
     "execution_count": 1,
     "metadata": {},
     "output_type": "execute_result"
    }
   ],
   "source": [
    "import numpy as np\n",
    "\n",
    "from fpcross import ij, Grid, Solver, Model, Check\n",
    "\n",
    "ij()"
   ]
  },
  {
   "cell_type": "code",
   "execution_count": 2,
   "metadata": {},
   "outputs": [
    {
     "data": {
      "text/markdown": [
       "<div class=\"head0\"><div class=\"head0__name\">fpe-1d-oup</div><div class=\"head0__note\">One-dimensional Focker Planck equation (Ornstein–Uhlenbeck process) [FPE, 1D, analytic, analytic-stationary, OUP].</div></div><div class=\"head2\">\n",
       "                <div class=\"head2__name\">Parameters</div>\n",
       "                <div class=\"head2__note\"><ul><li>s =   1.0000 [Initial variance]<div>Variance of the initial condition (type: float, default:   1.0000)</div></li><li>D =   0.5000 [Diffusion coefficient]<div>Scalar diffusion coefficient (type: float, default:   0.5000)</div></li><li>A =   1.0000 [Drift]<div>Constant drift coefficient (type: float, default:   1.0000)</div></li></ul></div>\n",
       "            </div><div class=\"head1\">\n",
       "                <div class=\"head1__name\">Description</div>\n",
       "            </div>\n",
       "Consider\n",
       "$$\n",
       "    d x = f(x, t) \\, dt + S(x, t) \\, d \\beta,\n",
       "    \\quad\n",
       "    d \\beta \\, d \\beta^{\\top} = Q(t) dt,\n",
       "    \\quad\n",
       "    x(0) = x_0 \\sim \\rho(x, 0) = \\rho_0 (x),\n",
       "$$\n",
       "$$\n",
       "    \\frac{\\partial \\rho(x, t)}{\\partial t} =\n",
       "        \\sum_{i=1}^d \\sum_{j=1}^d\n",
       "            \\frac{\\partial^2}{\\partial x_i \\partial x_j}\n",
       "            \\left[ D_{ij}(x, t) \\rho(x, t) \\right]\n",
       "        - \\sum_{i=1}^d\n",
       "            \\frac{\\partial}{\\partial x_i}\n",
       "            \\left[ f_i(x, t) \\rho(x, t) \\right],\n",
       "    \\quad\n",
       "     D(x, t) = \\frac{1}{2} S(x, t) Q(t) S(x, t)^{\\top},\n",
       "$$\n",
       "where spatial $d$-dimensional ($d \\ge 1$) variable $x \\in R^d$ has probability density function (PDF) $\\rho(x, t)$, $\\beta$ is Brownian motion of dimension $q$ ($q \\ge 1$, and we assume below that $q = d$), $f(x, t) \\in R^d$ is a vector-function, $S(x, t) \\in R^{d \\times q}$ and $Q(t) \\in R^{q \\times q}$ are matrix-functions and $D(x, t) \\in R^{d \\times d}$ is a diffusion tensor.\n",
       "\n",
       "Let\n",
       "$$\n",
       "    Q(t) \\equiv I,\n",
       "    \\,\n",
       "    S(x, t) \\equiv \\sqrt{2 D_c} I\n",
       "    \\implies\n",
       "    D(x, t) \\equiv D_c I,\n",
       "$$\n",
       "and\n",
       "$$\n",
       "    d = 1,\n",
       "    \\quad\n",
       "    x \\in \\Omega,\n",
       "    \\quad\n",
       "    \\rho(x, t) |_{\\partial \\Omega} \\approx 0,\n",
       "    \\quad\n",
       "    f(x, t) = A (\\mu - x),\n",
       "    \\quad\n",
       "    \\mu \\equiv 0,\n",
       "    \\quad\n",
       "    \\rho_0(x) = \\frac{1}{\\sqrt{2 \\pi s}}\\exp{\\left[-\\frac{x^2}{2s}\\right]}.\n",
       "$$\n",
       "\n",
       "This equation has exact solution for the $d$-dimensional case ([see this paper](https://advancesindifferenceequations.springeropen.com/articles/10.1186/s13662-019-2214-1))\n",
       "$$\n",
       "    \\rho(x, t, x_0) =\n",
       "        \\frac{1}{\\sqrt{ | 2 \\pi \\Sigma(t) | }}\n",
       "        exp \\left[\n",
       "            -\\frac{1}{2} (x - M(t, x_0))^T \\Sigma^{-1}(t) (x - M(t, x_0))\n",
       "        \\right],\n",
       "$$\n",
       "where $x_0$ is an initial condition and\n",
       "$$\n",
       "    M(t, x_0) = e^{-A t} x_0 + \\left( I - e^{-A t} \\right) \\mu,\n",
       "$$\n",
       "$$\n",
       "    \\Sigma(t) = \\int_0^t e^{A (s-t)} S S^T e^{A^T (s-t)} \\, d  s,\n",
       "$$\n",
       "or in a more simple form for the case $d=1$\n",
       "$$\n",
       "    \\rho(x, t, x_0) =\n",
       "        \\frac{1}{\\sqrt{ | 2 \\pi \\Sigma(t) | }}\n",
       "        exp \\left[\n",
       "            -\\frac{(x - M(t, x_0))^2}{2 \\Sigma(t)}\n",
       "        \\right],\n",
       "    \\quad\n",
       "    M(t, x_0) = e^{-A t} x_0,\n",
       "    \\quad\n",
       "    \\Sigma(t) = \\frac{1 - e^{-2 A t}}{2 A}.\n",
       "$$\n",
       "\n",
       "We can rewrite the solution $\\rho(x, t, x_0)$ in terms of the initial PDF $\\rho_0(x)$ as\n",
       "$$\n",
       "    \\rho(x, t) = \\int_{-\\infty}^{\\infty}\n",
       "        \\rho(x, t, x_0) \\rho_0(x_0) \\, d x_0,\n",
       "$$\n",
       "which after accurate computations leads to the following analytic solution\n",
       "$$\n",
       "    \\rho(x, t) =\n",
       "        \\frac\n",
       "            {\n",
       "                1\n",
       "            }\n",
       "            {\n",
       "                \\sqrt{2 \\pi \\left( \\Sigma(t) + s e^{-2 A t} \\right)}\n",
       "            }\n",
       "        \\exp{\\left[\n",
       "            - \\frac\n",
       "                {\n",
       "                    x^2\n",
       "                }\n",
       "                {\n",
       "                    2 \\left( \\Sigma(t) + s e^{-2 A t} \\right)\n",
       "                }\n",
       "        \\right]},\n",
       "$$\n",
       "and the stationary solution ($t \\rightarrow \\infty$) is\n",
       "$$\n",
       "    \\rho_{stat}(x) =\n",
       "        \\sqrt{\n",
       "            \\frac{A}{\\pi}\n",
       "        }\n",
       "        e^{-A x^2}.\n",
       "$$\n",
       "        <div class=\"note\">The Ornstein–Uhlenbeck process is mean-reverting (the solution tends to its long-term mean $\\mu$ as time $t$ tends to infinity) if $A > 0$ and this process at any time is a normal random variable.</div><div class=\"end\"></div>"
      ],
      "text/plain": [
       "<IPython.core.display.Markdown object>"
      ]
     },
     "metadata": {},
     "output_type": "display_data"
    }
   ],
   "source": [
    "MD = Model.select('fpe_1d_oup')\n",
    "MD.init(s=1., D=0.5, A=1.).info()"
   ]
  },
  {
   "cell_type": "code",
   "execution_count": 4,
   "metadata": {},
   "outputs": [
    {
     "name": "stderr",
     "output_type": "stream",
     "text": [
      "Solve: 100%|█| 999/999 [00:05<00:00, 191.43step/s, | At T=8.0e+00 :                                                                                                       Int=1.0e+00  Erhs=1.9e-05  Ereal=9.3e-06  Estat=9.3e-06]"
     ]
    },
    {
     "name": "stdout",
     "output_type": "stream",
     "text": [
      "------------------ Solver\n",
      "Format    : 1D, NP [order=2]\n",
      "Format    : 1D, Hst pois  : 4 \n",
      "Hst r     : No \n",
      "Norm int  : No \n",
      "Err  rhs  : 1.87e-05\n",
      "Err  real : 9.28e-06\n",
      "Err  stat : 9.33e-06\n",
      "Time prep : 1.75e-02 \n",
      "Time calc : 5.22e+00 \n",
      "...  init : 2.25e-04 \n",
      "...  diff : 7.94e-02 \n",
      "...  conv : 5.07e+00 \n",
      "...  post : 3.50e-03 \n",
      "...  last : 2.86e-04 \n"
     ]
    },
    {
     "name": "stderr",
     "output_type": "stream",
     "text": [
      "\n"
     ]
    }
   ],
   "source": [
    "TG = Grid(d=1, n=1000, l=[+0., +8.], k='u')\n",
    "SG = Grid(d=1, n= 101, l=[-6., +6.], k='c')\n",
    "SL = Solver(TG, SG, MD)\n",
    "SL.init(n_hst=4, with_norm_int=False, with_r_hst=False)\n",
    "SL.prep()\n",
    "SL.calc()\n",
    "SL.info()"
   ]
  },
  {
   "cell_type": "code",
   "execution_count": null,
   "metadata": {},
   "outputs": [],
   "source": []
  },
  {
   "cell_type": "code",
   "execution_count": 5,
   "metadata": {},
   "outputs": [],
   "source": []
  },
  {
   "cell_type": "code",
   "execution_count": 5,
   "metadata": {},
   "outputs": [
    {
     "data": {
      "image/png": "[encoded data removed]",
      "text/plain": [
       "<Figure size 432x288 with 1 Axes>"
      ]
     },
     "metadata": {
      "needs_background": "light"
     },
     "output_type": "display_data"
    }
   ],
   "source": [
    "import matplotlib as mpl\n",
    "import matplotlib.pyplot as plt\n",
    "from matplotlib import animation, rc\n",
    "\n",
    "from fpcross import config\n",
    "\n",
    "tm = SL.hst['T']\n",
    "er = SL.hst['E_real']\n",
    "es = SL.hst['E_stat']\n",
    "\n",
    "plt.title('Mean relative error')\n",
    "plt.xlabel('Time')\n",
    "plt.plot(tm, SL.hst['E_rhsn'], label='Relative rhs')\n",
    "plt.plot(tm, SL.hst['E_real'], label='Error vs analytic')\n",
    "plt.plot(tm, SL.hst['E_stat'], label='Error vs stationary')\n",
    "plt.legend(loc='best')\n",
    "plt.semilogy()\n",
    "plt.show()"
   ]
  },
  {
   "cell_type": "code",
   "execution_count": null,
   "metadata": {},
   "outputs": [],
   "source": []
  },
  {
   "cell_type": "code",
   "execution_count": null,
   "metadata": {},
   "outputs": [],
   "source": []
  },
  {
   "cell_type": "code",
   "execution_count": null,
   "metadata": {},
   "outputs": [],
   "source": []
  },
  {
   "cell_type": "code",
   "execution_count": null,
   "metadata": {},
   "outputs": [],
   "source": []
  },
  {
   "cell_type": "code",
   "execution_count": null,
   "metadata": {},
   "outputs": [],
   "source": [
    "opts = { 'is_log': True, 'is_abs': False, 'is_err_abs': False, 'with_err_stat': True }\n",
    "SL.plot_t(-3.0, opts)\n",
    "SL.plot_t(+0.0, opts)\n",
    "SL.plot_t(+3.0, opts)"
   ]
  },
  {
   "cell_type": "code",
   "execution_count": null,
   "metadata": {},
   "outputs": [],
   "source": [
    "opts = { 'is_log': True, 'is_abs': False, 'is_err_abs': False, 'with_err_stat': True }\n",
    "SL.plot_x(+0.1, opts)\n",
    "SL.plot_x(+2.5, opts)\n",
    "SL.plot_x(None, opts)"
   ]
  },
  {
   "cell_type": "markdown",
   "metadata": {},
   "source": [
    "<div class=\"head1\">\n",
    "    <div class=\"head1__name\">\n",
    "        Results for multiple computations\n",
    "    </div>\n",
    "    <div class=\"head1__note\">\n",
    "        We use results that already saved to file (see computation code at the end of this file).\n",
    "    </div>\n",
    "</div>"
   ]
  },
  {
   "cell_type": "code",
   "execution_count": 3,
   "metadata": {},
   "outputs": [],
   "source": [
    "CH = Check('./data/fpe_1d_oup')\n",
    "CH.load()\n",
    "\n",
    "name1 = 'Solver (ord=1)'\n",
    "name2 = 'Solver (ord=2)'\n",
    "\n",
    "M = CH.res[name2]['M']\n",
    "N = CH.res[name2]['N']\n",
    "\n",
    "m = M[-1]\n",
    "n = N[-1]"
   ]
  },
  {
   "cell_type": "markdown",
   "metadata": {},
   "source": [
    "<div class=\"head2\">\n",
    "    <div class=\"head2__name\">\n",
    "        Dependence on the number of time points\n",
    "    </div>\n",
    "    <div class=\"head2__note\">\n",
    "        We present results for NP-solver of the 2th order.\n",
    "    </div>\n",
    "</div>"
   ]
  },
  {
   "cell_type": "code",
   "execution_count": 4,
   "metadata": {},
   "outputs": [
    {
     "data": {
      "image/png": "[encoded data removed]",
      "text/plain": [
       "<Figure size 720x360 with 2 Axes>"
      ]
     },
     "metadata": {
      "needs_background": "light"
     },
     "output_type": "display_data"
    }
   ],
   "source": [
    "CH.plot(name2, n=n, is_stat=False, lims={ 'all': [0, None] })"
   ]
  },
  {
   "cell_type": "markdown",
   "metadata": {},
   "source": [
    "<div class=\"head2\">\n",
    "    <div class=\"head2__name\">\n",
    "        Dependence on the number of spatial points\n",
    "    </div>\n",
    "    <div class=\"head2__note\">\n",
    "        We present results for NP-solver of the 2th order.\n",
    "    </div>\n",
    "</div>"
   ]
  },
  {
   "cell_type": "code",
   "execution_count": 10,
   "metadata": {},
   "outputs": [
    {
     "data": {
      "image/png": "[encoded data removed]",
      "text/plain": [
       "<Figure size 720x360 with 2 Axes>"
      ]
     },
     "metadata": {
      "needs_background": "light"
     },
     "output_type": "display_data"
    }
   ],
   "source": [
    "CH.plot(name2, m=m, is_stat=False, lims={ 'all': [1, None] })"
   ]
  },
  {
   "cell_type": "markdown",
   "metadata": {},
   "source": [
    "<div class=\"head2\">\n",
    "    <div class=\"head2__name\">\n",
    "        Dependence on the solver order\n",
    "    </div>\n",
    "    <div class=\"head2__note\">\n",
    "        We present results (dependencies on the number of time and spatial points) for NP-solvers of various orders.\n",
    "    </div>\n",
    "</div>"
   ]
  },
  {
   "cell_type": "code",
   "execution_count": 11,
   "metadata": {},
   "outputs": [
    {
     "data": {
      "image/png": "[encoded data removed]",
      "text/plain": [
       "<Figure size 720x360 with 2 Axes>"
      ]
     },
     "metadata": {
      "needs_background": "light"
     },
     "output_type": "display_data"
    }
   ],
   "source": [
    "CH.plot_all(n=n, is_stat=False)"
   ]
  },
  {
   "cell_type": "code",
   "execution_count": 12,
   "metadata": {},
   "outputs": [
    {
     "data": {
      "image/png": "[encoded data removed]",
      "text/plain": [
       "<Figure size 720x360 with 2 Axes>"
      ]
     },
     "metadata": {
      "needs_background": "light"
     },
     "output_type": "display_data"
    }
   ],
   "source": [
    "CH.plot_all(m=m, is_stat=False)"
   ]
  },
  {
   "cell_type": "markdown",
   "metadata": {},
   "source": [
    "<div class=\"head1\">\n",
    "    <div class=\"head1__name\">\n",
    "        Explicit (simple) solvers | DRAFT !!!\n",
    "    </div>\n",
    "    <div class=\"head1__note\">\n",
    "        Only for example and tests.\n",
    "    </div>\n",
    "</div>"
   ]
  },
  {
   "cell_type": "code",
   "execution_count": 13,
   "metadata": {},
   "outputs": [],
   "source": [
    "import time\n",
    "import numpy as np\n",
    "import scipy.sparse as sp\n",
    "from scipy.integrate import solve_ivp\n",
    "from scipy.linalg import expm as expm\n",
    "import matplotlib.pyplot as plt\n",
    "\n",
    "from intertrain import Intertrain"
   ]
  },
  {
   "cell_type": "code",
   "execution_count": 14,
   "metadata": {},
   "outputs": [],
   "source": [
    "d = 1\n",
    "m = t_poi\n",
    "n = x_poi\n",
    "l = (x_max - x_min) / (x_poi - 1)\n",
    "h = (t_max - t_min) / (t_poi - 1)\n",
    "T = np.linspace(t_min, t_max, t_poi)"
   ]
  },
  {
   "cell_type": "code",
   "execution_count": 15,
   "metadata": {},
   "outputs": [],
   "source": [
    "def show_x(X, r_calc, _time):\n",
    "    X = X.reshape(1, -1)\n",
    "    r_init = func_r0(X)\n",
    "    r_real = func_rt(X, t_max)\n",
    "    r_stat = func_rs(X)\n",
    "    e = np.linalg.norm(r_real - r_calc) / np.linalg.norm(r_real)\n",
    "\n",
    "    print('Number of spatial points : %8d'%x_poi)\n",
    "    print('Number of time points    : %8d'%t_poi)\n",
    "    print('Error (relative norm)    : %-12.2e'%e)\n",
    "    print('Total time (sec)         : %-12.2e'%_time)\n",
    "    print()\n",
    "    \n",
    "    plt.plot(\n",
    "        X.reshape(-1), r_init, '--', label='Initial',\n",
    "        linewidth=3, color='tab:blue'\n",
    "    )\n",
    "    plt.plot(\n",
    "        X.reshape(-1), r_calc, label='Calculated',\n",
    "        linewidth=1, color='tab:green', marker='o', markersize=7,\n",
    "        markerfacecolor='lightgreen', markeredgecolor='g'\n",
    "    )\n",
    "    plt.plot(\n",
    "        X.reshape(-1), r_real, label='Analytic',\n",
    "        linewidth=3, color='black'\n",
    "    )\n",
    "    plt.plot(\n",
    "        X.reshape(-1), r_stat, '--', label='Stationary',\n",
    "        linewidth=2, color='magenta'\n",
    "    )\n",
    "    \n",
    "    plt.title('Solution at the final time step')\n",
    "    plt.xlabel('x')\n",
    "    plt.ylabel('r')\n",
    "    plt.legend(loc='best')\n",
    "    plt.semilogy()\n",
    "    plt.show()"
   ]
  },
  {
   "cell_type": "markdown",
   "metadata": {},
   "source": [
    "<div class=\"head2\">\n",
    "    <div class=\"head2__name\">\n",
    "        Uniform spatial grid and the 1st order splitting\n",
    "    </div>\n",
    "</div>\n",
    "\n",
    "We can solve equation on the uniform spatial grid for the time $t > 0$ with step $h$ and uniform spatial grid with step $l$ using 2th order finite difference scheme\n",
    "\n",
    "$$\n",
    "    \\frac{\\partial \\rho}{\\partial t} = (D + \\widehat{Q}) \\rho,\n",
    "$$\n",
    "where\n",
    "$$\n",
    "    \\widehat{Q} \\rho = f Q \\rho - \\frac{\\partial f}{\\partial x} \\rho,\n",
    "$$\n",
    "\n",
    "$$\n",
    "    D = \\frac{D_{coef}}{l^2} tridiag \\left( 1, -2, 1 \\right),\n",
    "    \\quad\n",
    "    Q = \\frac{1}{2 l} tridiag \\left( -1, 0, 1 \\right).\n",
    "$$\n",
    "\n",
    "Let apply the 1th order splitting method on the time step $(k+1)$\n",
    "$$\n",
    "    \\frac{\\partial v}{\\partial t} = D v,\n",
    "    \\quad\n",
    "    v_{k} = \\rho_{k},\n",
    "    \\quad\n",
    "    v_{k+1} = v = ?,\n",
    "$$\n",
    "$$\n",
    "    \\frac{\\partial w}{\\partial t} = \\widehat{Q} w,\n",
    "    \\quad\n",
    "    w_{k} = v,\n",
    "    \\quad\n",
    "    w_{k+1} = \\rho_{k+1} = ?,\n",
    "$$\n",
    "and solve both ODEs by the 1th order Euler method."
   ]
  },
  {
   "cell_type": "code",
   "execution_count": 16,
   "metadata": {},
   "outputs": [
    {
     "name": "stdout",
     "output_type": "stream",
     "text": [
      "Number of spatial points :      101\n",
      "Number of time points    :     1000\n",
      "Error (relative norm)    : 6.92e-03    \n",
      "Total time (sec)         : 1.38e-01    \n",
      "\n"
     ]
    },
    {
     "data": {
      "image/png": "[encoded data removed]",
      "text/plain": [
       "<Figure size 432x288 with 1 Axes>"
      ]
     },
     "metadata": {
      "needs_background": "light"
     },
     "output_type": "display_data"
    }
   ],
   "source": [
    "_time = time.time()\n",
    "\n",
    "X = np.linspace(x_min, x_max, x_poi).reshape(1, -1)\n",
    "\n",
    "Q = sp.spdiags([\n",
    "        [-1.] * n,\n",
    "        [+1.] * n\n",
    "    ], [-1,  1], n, n).tocsr().toarray()\n",
    "Q = Q * (0.5 / l)\n",
    "\n",
    "D = sp.spdiags([\n",
    "        [+1.] * x_poi,\n",
    "        [-2.] * x_poi,\n",
    "        [+1.] * x_poi\n",
    "    ], [-1, 0, 1], x_poi, x_poi\n",
    ").tocsr().toarray()\n",
    "D = D * D_coef / l / l\n",
    "\n",
    "J = np.eye(n); J[0, 0] = 0.; J[-1, -1] = 0.\n",
    "ZD = h * D\n",
    "ZQ = h * Q\n",
    "\n",
    "r = func_r0(X)\n",
    "r = r.reshape(-1, 1)\n",
    "for t in T[1:]:\n",
    "    F0 = np.diag(func_f0(X, t).reshape(-1))\n",
    "    F1 = np.diag(func_f1(X, t).reshape(-1))\n",
    "    v1 = r + ZD @ r\n",
    "    w1 = v1 - F0 @ ZQ @ v1 - h * F1 @ v1\n",
    "    r = w1\n",
    "\n",
    "show_x(X, r.reshape(-1), time.time() - _time)"
   ]
  },
  {
   "cell_type": "markdown",
   "metadata": {},
   "source": [
    "<div class=\"head1\">\n",
    "    <div class=\"head1__name\">\n",
    "        Multiple computations\n",
    "    </div>\n",
    "    <div class=\"head1__note\">\n",
    "        We compute dependencies of solution accuracy and calculation time on the number of time and spacial points and solver type. Results are saved to file and may be reused later for visualization.  \n",
    "    </div>\n",
    "</div>"
   ]
  },
  {
   "cell_type": "code",
   "execution_count": 2,
   "metadata": {},
   "outputs": [
    {
     "name": "stdout",
     "output_type": "stream",
     "text": [
      "Model : fpe-1d-oup             | d r(x,t) / d t = D d^2 r(x,t) / d x^2 + A d (x r(x,t)) / d x\n",
      ">>>>>>> Description            : One-dimensional Focker Planck equation (Ornstein–Uhlenbeck process)\n",
      "----- Calc for solver | \"Solver (ord=1)\"\n",
      "----- Computation     | m = 10       | n = 10      \n"
     ]
    },
    {
     "name": "stderr",
     "output_type": "stream",
     "text": [
      "Solve: 100%|█| 9/9 [00:00<00:00, 168.63step/s, | At T=8.0e+00 : er=2.7e-01 es=2.7e-01]\n"
     ]
    },
    {
     "name": "stdout",
     "output_type": "stream",
     "text": [
      "----- Computation     | m = 10       | n = 15      \n"
     ]
    },
    {
     "name": "stderr",
     "output_type": "stream",
     "text": [
      "Solve: 100%|█| 9/9 [00:00<00:00, 202.13step/s, | At T=8.0e+00 : er=2.9e-01 es=2.9e-01]\n"
     ]
    },
    {
     "name": "stdout",
     "output_type": "stream",
     "text": [
      "----- Computation     | m = 10       | n = 20      \n"
     ]
    },
    {
     "name": "stderr",
     "output_type": "stream",
     "text": [
      "Solve: 100%|█| 9/9 [00:00<00:00, 221.87step/s, | At T=8.0e+00 : er=1.1e-01 es=1.1e-01]\n"
     ]
    },
    {
     "name": "stdout",
     "output_type": "stream",
     "text": [
      "----- Computation     | m = 10       | n = 25      \n"
     ]
    },
    {
     "name": "stderr",
     "output_type": "stream",
     "text": [
      "Solve: 100%|█| 9/9 [00:00<00:00, 215.43step/s, | At T=8.0e+00 : er=1.8e-01 es=1.8e-01]\n"
     ]
    },
    {
     "name": "stdout",
     "output_type": "stream",
     "text": [
      "----- Computation     | m = 10       | n = 30      \n"
     ]
    },
    {
     "name": "stderr",
     "output_type": "stream",
     "text": [
      "Solve: 100%|█| 9/9 [00:00<00:00, 209.99step/s, | At T=8.0e+00 : er=1.7e-01 es=1.7e-01]\n"
     ]
    },
    {
     "name": "stdout",
     "output_type": "stream",
     "text": [
      "----- Computation     | m = 10       | n = 35      \n"
     ]
    },
    {
     "name": "stderr",
     "output_type": "stream",
     "text": [
      "Solve: 100%|█| 9/9 [00:00<00:00, 183.49step/s, | At T=8.0e+00 : er=1.7e-01 es=1.7e-01]\n"
     ]
    },
    {
     "name": "stdout",
     "output_type": "stream",
     "text": [
      "----- Computation     | m = 10       | n = 40      \n"
     ]
    },
    {
     "name": "stderr",
     "output_type": "stream",
     "text": [
      "Solve: 100%|█| 9/9 [00:00<00:00, 180.30step/s, | At T=8.0e+00 : er=1.7e-01 es=1.7e-01]\n"
     ]
    },
    {
     "name": "stdout",
     "output_type": "stream",
     "text": [
      "----- Computation     | m = 10       | n = 45      \n"
     ]
    },
    {
     "name": "stderr",
     "output_type": "stream",
     "text": [
      "Solve: 100%|█| 9/9 [00:00<00:00, 167.07step/s, | At T=8.0e+00 : er=1.7e-01 es=1.7e-01]\n"
     ]
    },
    {
     "name": "stdout",
     "output_type": "stream",
     "text": [
      "----- Computation     | m = 10       | n = 50      \n"
     ]
    },
    {
     "name": "stderr",
     "output_type": "stream",
     "text": [
      "Solve: 100%|█| 9/9 [00:00<00:00, 180.96step/s, | At T=8.0e+00 : er=1.7e-01 es=1.7e-01]\n"
     ]
    },
    {
     "name": "stdout",
     "output_type": "stream",
     "text": [
      "----- Computation     | m = 100      | n = 10      \n"
     ]
    },
    {
     "name": "stderr",
     "output_type": "stream",
     "text": [
      "Solve: 100%|█| 99/99 [00:00<00:00, 763.31step/s, | At T=8.0e+00 : er=3.1e-01 es=3.1e-01]\n"
     ]
    },
    {
     "name": "stdout",
     "output_type": "stream",
     "text": [
      "----- Computation     | m = 100      | n = 15      \n"
     ]
    },
    {
     "name": "stderr",
     "output_type": "stream",
     "text": [
      "Solve: 100%|█| 99/99 [00:00<00:00, 651.95step/s, | At T=8.0e+00 : er=3.5e-01 es=3.5e-01]\n"
     ]
    },
    {
     "name": "stdout",
     "output_type": "stream",
     "text": [
      "----- Computation     | m = 100      | n = 20      \n"
     ]
    },
    {
     "name": "stderr",
     "output_type": "stream",
     "text": [
      "Solve: 100%|█| 99/99 [00:00<00:00, 597.82step/s, | At T=8.0e+00 : er=5.2e-02 es=5.2e-02]\n"
     ]
    },
    {
     "name": "stdout",
     "output_type": "stream",
     "text": [
      "----- Computation     | m = 100      | n = 25      \n"
     ]
    },
    {
     "name": "stderr",
     "output_type": "stream",
     "text": [
      "Solve: 100%|█| 99/99 [00:00<00:00, 601.75step/s, | At T=8.0e+00 : er=2.7e-02 es=2.7e-02]\n"
     ]
    },
    {
     "name": "stdout",
     "output_type": "stream",
     "text": [
      "----- Computation     | m = 100      | n = 30      \n"
     ]
    },
    {
     "name": "stderr",
     "output_type": "stream",
     "text": [
      "Solve: 100%|█| 99/99 [00:00<00:00, 545.48step/s, | At T=8.0e+00 : er=1.7e-02 es=1.7e-02]\n"
     ]
    },
    {
     "name": "stdout",
     "output_type": "stream",
     "text": [
      "----- Computation     | m = 100      | n = 35      \n"
     ]
    },
    {
     "name": "stderr",
     "output_type": "stream",
     "text": [
      "Solve: 100%|█| 99/99 [00:00<00:00, 458.50step/s, | At T=8.0e+00 : er=1.7e-02 es=1.7e-02]\n"
     ]
    },
    {
     "name": "stdout",
     "output_type": "stream",
     "text": [
      "----- Computation     | m = 100      | n = 40      \n"
     ]
    },
    {
     "name": "stderr",
     "output_type": "stream",
     "text": [
      "Solve: 100%|█| 99/99 [00:00<00:00, 435.13step/s, | At T=8.0e+00 : er=1.7e-02 es=1.7e-02]\n"
     ]
    },
    {
     "name": "stdout",
     "output_type": "stream",
     "text": [
      "----- Computation     | m = 100      | n = 45      \n"
     ]
    },
    {
     "name": "stderr",
     "output_type": "stream",
     "text": [
      "Solve: 100%|█| 99/99 [00:00<00:00, 413.40step/s, | At T=8.0e+00 : er=1.7e-02 es=1.7e-02]\n"
     ]
    },
    {
     "name": "stdout",
     "output_type": "stream",
     "text": [
      "----- Computation     | m = 100      | n = 50      \n"
     ]
    },
    {
     "name": "stderr",
     "output_type": "stream",
     "text": [
      "Solve: 100%|█| 99/99 [00:00<00:00, 390.81step/s, | At T=8.0e+00 : er=1.7e-02 es=1.7e-02]\n"
     ]
    },
    {
     "name": "stdout",
     "output_type": "stream",
     "text": [
      "----- Computation     | m = 1000     | n = 10      \n"
     ]
    },
    {
     "name": "stderr",
     "output_type": "stream",
     "text": [
      "Solve: 100%|█| 999/999 [00:00<00:00, 1341.41step/s, | At T=8.0e+00 : er=6.6e-01 es=6.6e-01]\n"
     ]
    },
    {
     "name": "stdout",
     "output_type": "stream",
     "text": [
      "----- Computation     | m = 1000     | n = 15      \n"
     ]
    },
    {
     "name": "stderr",
     "output_type": "stream",
     "text": [
      "Solve: 100%|█| 999/999 [00:00<00:00, 1141.07step/s, | At T=8.0e+00 : er=3.0e-01 es=3.0e-01]\n"
     ]
    },
    {
     "name": "stdout",
     "output_type": "stream",
     "text": [
      "----- Computation     | m = 1000     | n = 20      \n"
     ]
    },
    {
     "name": "stderr",
     "output_type": "stream",
     "text": [
      "Solve: 100%|█| 999/999 [00:01<00:00, 984.75step/s, | At T=8.0e+00 : er=6.5e-02 es=6.5e-02]\n"
     ]
    },
    {
     "name": "stdout",
     "output_type": "stream",
     "text": [
      "----- Computation     | m = 1000     | n = 25      \n"
     ]
    },
    {
     "name": "stderr",
     "output_type": "stream",
     "text": [
      "Solve: 100%|█| 999/999 [00:01<00:00, 869.40step/s, | At T=8.0e+00 : er=2.5e-02 es=2.5e-02]\n"
     ]
    },
    {
     "name": "stdout",
     "output_type": "stream",
     "text": [
      "----- Computation     | m = 1000     | n = 30      \n"
     ]
    },
    {
     "name": "stderr",
     "output_type": "stream",
     "text": [
      "Solve: 100%|█| 999/999 [00:01<00:00, 793.62step/s, | At T=8.0e+00 : er=1.9e-03 es=1.9e-03]\n"
     ]
    },
    {
     "name": "stdout",
     "output_type": "stream",
     "text": [
      "----- Computation     | m = 1000     | n = 35      \n"
     ]
    },
    {
     "name": "stderr",
     "output_type": "stream",
     "text": [
      "Solve: 100%|█| 999/999 [00:01<00:00, 715.93step/s, | At T=8.0e+00 : er=1.8e-03 es=1.8e-03]\n"
     ]
    },
    {
     "name": "stdout",
     "output_type": "stream",
     "text": [
      "----- Computation     | m = 1000     | n = 40      \n"
     ]
    },
    {
     "name": "stderr",
     "output_type": "stream",
     "text": [
      "Solve: 100%|█| 999/999 [00:01<00:00, 660.45step/s, | At T=8.0e+00 : er=1.7e-03 es=1.7e-03]\n"
     ]
    },
    {
     "name": "stdout",
     "output_type": "stream",
     "text": [
      "----- Computation     | m = 1000     | n = 45      \n"
     ]
    },
    {
     "name": "stderr",
     "output_type": "stream",
     "text": [
      "Solve: 100%|█| 999/999 [00:01<00:00, 592.08step/s, | At T=8.0e+00 : er=1.7e-03 es=1.7e-03]\n"
     ]
    },
    {
     "name": "stdout",
     "output_type": "stream",
     "text": [
      "----- Computation     | m = 1000     | n = 50      \n"
     ]
    },
    {
     "name": "stderr",
     "output_type": "stream",
     "text": [
      "Solve: 100%|█| 999/999 [00:01<00:00, 556.76step/s, | At T=8.0e+00 : er=1.7e-03 es=1.7e-03]\n"
     ]
    },
    {
     "name": "stdout",
     "output_type": "stream",
     "text": [
      "----- Computation     | m = 10000    | n = 10      \n"
     ]
    },
    {
     "name": "stderr",
     "output_type": "stream",
     "text": [
      "Solve: 100%|█| 9999/9999 [00:06<00:00, 1468.50step/s, | At T=8.0e+00 : er=8.7e-01 es=8.7e-01]\n"
     ]
    },
    {
     "name": "stdout",
     "output_type": "stream",
     "text": [
      "----- Computation     | m = 10000    | n = 15      \n"
     ]
    },
    {
     "name": "stderr",
     "output_type": "stream",
     "text": [
      "Solve: 100%|█| 9999/9999 [00:08<00:00, 1182.35step/s, | At T=8.0e+00 : er=4.3e-01 es=4.3e-01]\n"
     ]
    },
    {
     "name": "stdout",
     "output_type": "stream",
     "text": [
      "----- Computation     | m = 10000    | n = 20      \n"
     ]
    },
    {
     "name": "stderr",
     "output_type": "stream",
     "text": [
      "Solve: 100%|█| 9999/9999 [00:09<00:00, 1024.29step/s, | At T=8.0e+00 : er=5.7e-02 es=5.7e-02]\n"
     ]
    },
    {
     "name": "stdout",
     "output_type": "stream",
     "text": [
      "----- Computation     | m = 10000    | n = 25      \n"
     ]
    },
    {
     "name": "stderr",
     "output_type": "stream",
     "text": [
      "Solve: 100%|█| 9999/9999 [00:11<00:00, 907.30step/s, | At T=8.0e+00 : er=2.5e-02 es=2.5e-02]\n"
     ]
    },
    {
     "name": "stdout",
     "output_type": "stream",
     "text": [
      "----- Computation     | m = 10000    | n = 30      \n"
     ]
    },
    {
     "name": "stderr",
     "output_type": "stream",
     "text": [
      "Solve: 100%|█| 9999/9999 [00:12<00:00, 798.46step/s, | At T=8.0e+00 : er=1.2e-03 es=1.2e-03]\n"
     ]
    },
    {
     "name": "stdout",
     "output_type": "stream",
     "text": [
      "----- Computation     | m = 10000    | n = 35      \n"
     ]
    },
    {
     "name": "stderr",
     "output_type": "stream",
     "text": [
      "Solve: 100%|█| 9999/9999 [00:13<00:00, 719.46step/s, | At T=8.0e+00 : er=3.6e-04 es=3.6e-04]\n"
     ]
    },
    {
     "name": "stdout",
     "output_type": "stream",
     "text": [
      "----- Computation     | m = 10000    | n = 40      \n"
     ]
    },
    {
     "name": "stderr",
     "output_type": "stream",
     "text": [
      "Solve: 100%|█| 9999/9999 [00:16<00:00, 602.05step/s, | At T=8.0e+00 : er=1.8e-04 es=1.8e-04]\n"
     ]
    },
    {
     "name": "stdout",
     "output_type": "stream",
     "text": [
      "----- Computation     | m = 10000    | n = 45      \n"
     ]
    },
    {
     "name": "stderr",
     "output_type": "stream",
     "text": [
      "Solve: 100%|█| 9999/9999 [00:18<00:00, 551.32step/s, | At T=8.0e+00 : er=1.7e-04 es=1.7e-04]\n"
     ]
    },
    {
     "name": "stdout",
     "output_type": "stream",
     "text": [
      "----- Computation     | m = 10000    | n = 50      \n"
     ]
    },
    {
     "name": "stderr",
     "output_type": "stream",
     "text": [
      "Solve: 100%|█| 9999/9999 [00:18<00:00, 550.02step/s, | At T=8.0e+00 : er=1.7e-04 es=1.7e-04]\n"
     ]
    },
    {
     "name": "stdout",
     "output_type": "stream",
     "text": [
      "----- Computation     | m = 100000   | n = 10      \n"
     ]
    },
    {
     "name": "stderr",
     "output_type": "stream",
     "text": [
      "Solve: 100%|█| 99999/99999 [01:07<00:00, 1475.85step/s, | At T=8.0e+00 : er=8.9e-01 es=8.9e-01]\n"
     ]
    },
    {
     "name": "stdout",
     "output_type": "stream",
     "text": [
      "----- Computation     | m = 100000   | n = 15      \n"
     ]
    },
    {
     "name": "stderr",
     "output_type": "stream",
     "text": [
      "Solve: 100%|█| 99999/99999 [01:21<00:00, 1225.94step/s, | At T=8.0e+00 : er=5.2e-01 es=5.2e-01]\n"
     ]
    },
    {
     "name": "stdout",
     "output_type": "stream",
     "text": [
      "----- Computation     | m = 100000   | n = 20      \n"
     ]
    },
    {
     "name": "stderr",
     "output_type": "stream",
     "text": [
      "Solve: 100%|█| 99999/99999 [01:35<00:00, 1050.95step/s, | At T=8.0e+00 : er=5.6e-02 es=5.6e-02]\n"
     ]
    },
    {
     "name": "stdout",
     "output_type": "stream",
     "text": [
      "----- Computation     | m = 100000   | n = 25      \n"
     ]
    },
    {
     "name": "stderr",
     "output_type": "stream",
     "text": [
      "Solve: 100%|█| 99999/99999 [01:48<00:00, 927.19step/s, | At T=8.0e+00 : er=2.5e-02 es=2.5e-02]\n"
     ]
    },
    {
     "name": "stdout",
     "output_type": "stream",
     "text": [
      "----- Computation     | m = 100000   | n = 30      \n"
     ]
    },
    {
     "name": "stderr",
     "output_type": "stream",
     "text": [
      "Solve: 100%|█| 99999/99999 [02:03<00:00, 810.16step/s, | At T=8.0e+00 : er=1.2e-03 es=1.2e-03]\n"
     ]
    },
    {
     "name": "stdout",
     "output_type": "stream",
     "text": [
      "----- Computation     | m = 100000   | n = 35      \n"
     ]
    },
    {
     "name": "stderr",
     "output_type": "stream",
     "text": [
      "Solve: 100%|█| 99999/99999 [02:15<00:00, 736.78step/s, | At T=8.0e+00 : er=2.6e-04 es=2.6e-04]\n"
     ]
    },
    {
     "name": "stdout",
     "output_type": "stream",
     "text": [
      "----- Computation     | m = 100000   | n = 40      \n"
     ]
    },
    {
     "name": "stderr",
     "output_type": "stream",
     "text": [
      "Solve: 100%|█| 99999/99999 [02:29<00:00, 668.82step/s, | At T=8.0e+00 : er=2.4e-05 es=2.4e-05]\n"
     ]
    },
    {
     "name": "stdout",
     "output_type": "stream",
     "text": [
      "----- Computation     | m = 100000   | n = 45      \n"
     ]
    },
    {
     "name": "stderr",
     "output_type": "stream",
     "text": [
      "Solve: 100%|█| 99999/99999 [02:44<00:00, 609.22step/s, | At T=8.0e+00 : er=1.7e-05 es=1.7e-05]\n"
     ]
    },
    {
     "name": "stdout",
     "output_type": "stream",
     "text": [
      "----- Computation     | m = 100000   | n = 50      \n"
     ]
    },
    {
     "name": "stderr",
     "output_type": "stream",
     "text": [
      "Solve: 100%|█| 99999/99999 [02:58<00:00, 560.63step/s, | At T=8.0e+00 : er=1.7e-05 es=1.7e-05]\n"
     ]
    },
    {
     "name": "stdout",
     "output_type": "stream",
     "text": [
      "----- Done            | Time : 1.28e+03 sec\n",
      "----- Calc for solver | \"Solver (ord=2)\"\n",
      "----- Computation     | m = 10       | n = 10      \n"
     ]
    },
    {
     "name": "stderr",
     "output_type": "stream",
     "text": [
      "Solve: 100%|█| 9/9 [00:00<00:00, 234.94step/s, | At T=8.0e+00 : er=2.2e-01 es=2.2e-01]\n"
     ]
    },
    {
     "name": "stdout",
     "output_type": "stream",
     "text": [
      "----- Computation     | m = 10       | n = 15      \n"
     ]
    },
    {
     "name": "stderr",
     "output_type": "stream",
     "text": [
      "Solve: 100%|█| 9/9 [00:00<00:00, 227.91step/s, | At T=8.0e+00 : er=1.2e-01 es=1.2e-01]\n"
     ]
    },
    {
     "name": "stdout",
     "output_type": "stream",
     "text": [
      "----- Computation     | m = 10       | n = 20      \n"
     ]
    },
    {
     "name": "stderr",
     "output_type": "stream",
     "text": [
      "Solve: 100%|█| 9/9 [00:00<00:00, 197.76step/s, | At T=8.0e+00 : er=1.5e-01 es=1.5e-01]\n"
     ]
    },
    {
     "name": "stdout",
     "output_type": "stream",
     "text": [
      "----- Computation     | m = 10       | n = 25      \n"
     ]
    },
    {
     "name": "stderr",
     "output_type": "stream",
     "text": [
      "Solve: 100%|█| 9/9 [00:00<00:00, 222.09step/s, | At T=8.0e+00 : er=7.6e-02 es=7.6e-02]\n"
     ]
    },
    {
     "name": "stdout",
     "output_type": "stream",
     "text": [
      "----- Computation     | m = 10       | n = 30      \n"
     ]
    },
    {
     "name": "stderr",
     "output_type": "stream",
     "text": [
      "Solve: 100%|█| 9/9 [00:00<00:00, 214.85step/s, | At T=8.0e+00 : er=9.8e-02 es=9.8e-02]\n"
     ]
    },
    {
     "name": "stdout",
     "output_type": "stream",
     "text": [
      "----- Computation     | m = 10       | n = 35      \n"
     ]
    },
    {
     "name": "stderr",
     "output_type": "stream",
     "text": [
      "Solve: 100%|█| 9/9 [00:00<00:00, 196.46step/s, | At T=8.0e+00 : er=9.5e-02 es=9.5e-02]\n"
     ]
    },
    {
     "name": "stdout",
     "output_type": "stream",
     "text": [
      "----- Computation     | m = 10       | n = 40      \n"
     ]
    },
    {
     "name": "stderr",
     "output_type": "stream",
     "text": [
      "Solve: 100%|█| 9/9 [00:00<00:00, 198.02step/s, | At T=8.0e+00 : er=9.5e-02 es=9.5e-02]\n"
     ]
    },
    {
     "name": "stdout",
     "output_type": "stream",
     "text": [
      "----- Computation     | m = 10       | n = 45      \n"
     ]
    },
    {
     "name": "stderr",
     "output_type": "stream",
     "text": [
      "Solve: 100%|█| 9/9 [00:00<00:00, 191.78step/s, | At T=8.0e+00 : er=9.5e-02 es=9.5e-02]\n"
     ]
    },
    {
     "name": "stdout",
     "output_type": "stream",
     "text": [
      "----- Computation     | m = 10       | n = 50      \n"
     ]
    },
    {
     "name": "stderr",
     "output_type": "stream",
     "text": [
      "Solve: 100%|█| 9/9 [00:00<00:00, 183.65step/s, | At T=8.0e+00 : er=9.5e-02 es=9.5e-02]\n"
     ]
    },
    {
     "name": "stdout",
     "output_type": "stream",
     "text": [
      "----- Computation     | m = 100      | n = 10      \n"
     ]
    },
    {
     "name": "stderr",
     "output_type": "stream",
     "text": [
      "Solve: 100%|█| 99/99 [00:00<00:00, 734.49step/s, | At T=8.0e+00 : er=3.0e-01 es=3.0e-01]\n"
     ]
    },
    {
     "name": "stdout",
     "output_type": "stream",
     "text": [
      "----- Computation     | m = 100      | n = 15      \n"
     ]
    },
    {
     "name": "stderr",
     "output_type": "stream",
     "text": [
      "Solve: 100%|█| 99/99 [00:00<00:00, 639.01step/s, | At T=8.0e+00 : er=3.4e-01 es=3.4e-01]\n"
     ]
    },
    {
     "name": "stdout",
     "output_type": "stream",
     "text": [
      "----- Computation     | m = 100      | n = 20      \n"
     ]
    },
    {
     "name": "stderr",
     "output_type": "stream",
     "text": [
      "Solve: 100%|█| 99/99 [00:00<00:00, 632.31step/s, | At T=8.0e+00 : er=3.6e-02 es=3.6e-02]\n"
     ]
    },
    {
     "name": "stdout",
     "output_type": "stream",
     "text": [
      "----- Computation     | m = 100      | n = 25      \n"
     ]
    },
    {
     "name": "stderr",
     "output_type": "stream",
     "text": [
      "Solve: 100%|█| 99/99 [00:00<00:00, 614.63step/s, | At T=8.0e+00 : er=1.2e-02 es=1.2e-02]\n"
     ]
    },
    {
     "name": "stdout",
     "output_type": "stream",
     "text": [
      "----- Computation     | m = 100      | n = 30      \n"
     ]
    },
    {
     "name": "stderr",
     "output_type": "stream",
     "text": [
      "Solve: 100%|█| 99/99 [00:00<00:00, 568.86step/s, | At T=8.0e+00 : er=1.4e-03 es=1.4e-03]\n"
     ]
    },
    {
     "name": "stdout",
     "output_type": "stream",
     "text": [
      "----- Computation     | m = 100      | n = 35      \n"
     ]
    },
    {
     "name": "stderr",
     "output_type": "stream",
     "text": [
      "Solve: 100%|█| 99/99 [00:00<00:00, 428.64step/s, | At T=8.0e+00 : er=1.0e-03 es=1.0e-03]\n"
     ]
    },
    {
     "name": "stdout",
     "output_type": "stream",
     "text": [
      "----- Computation     | m = 100      | n = 40      \n"
     ]
    },
    {
     "name": "stderr",
     "output_type": "stream",
     "text": [
      "Solve: 100%|█| 99/99 [00:00<00:00, 406.49step/s, | At T=8.0e+00 : er=9.4e-04 es=9.4e-04]\n"
     ]
    },
    {
     "name": "stdout",
     "output_type": "stream",
     "text": [
      "----- Computation     | m = 100      | n = 45      \n"
     ]
    },
    {
     "name": "stderr",
     "output_type": "stream",
     "text": [
      "Solve: 100%|█| 99/99 [00:00<00:00, 396.70step/s, | At T=8.0e+00 : er=9.4e-04 es=9.4e-04]\n"
     ]
    },
    {
     "name": "stdout",
     "output_type": "stream",
     "text": [
      "----- Computation     | m = 100      | n = 50      \n"
     ]
    },
    {
     "name": "stderr",
     "output_type": "stream",
     "text": [
      "Solve: 100%|█| 99/99 [00:00<00:00, 388.66step/s, | At T=8.0e+00 : er=9.4e-04 es=9.4e-04]\n"
     ]
    },
    {
     "name": "stdout",
     "output_type": "stream",
     "text": [
      "----- Computation     | m = 1000     | n = 10      \n"
     ]
    },
    {
     "name": "stderr",
     "output_type": "stream",
     "text": [
      "Solve: 100%|█| 999/999 [00:00<00:00, 1084.69step/s, | At T=8.0e+00 : er=6.6e-01 es=6.6e-01]\n"
     ]
    },
    {
     "name": "stdout",
     "output_type": "stream",
     "text": [
      "----- Computation     | m = 1000     | n = 15      \n"
     ]
    },
    {
     "name": "stderr",
     "output_type": "stream",
     "text": [
      "Solve: 100%|█| 999/999 [00:00<00:00, 1007.62step/s, | At T=8.0e+00 : er=3.2e-01 es=3.2e-01]\n"
     ]
    },
    {
     "name": "stdout",
     "output_type": "stream",
     "text": [
      "----- Computation     | m = 1000     | n = 20      \n"
     ]
    },
    {
     "name": "stderr",
     "output_type": "stream",
     "text": [
      "Solve: 100%|█| 999/999 [00:01<00:00, 873.33step/s, | At T=8.0e+00 : er=6.4e-02 es=6.4e-02]\n"
     ]
    },
    {
     "name": "stdout",
     "output_type": "stream",
     "text": [
      "----- Computation     | m = 1000     | n = 25      \n"
     ]
    },
    {
     "name": "stderr",
     "output_type": "stream",
     "text": [
      "Solve: 100%|█| 999/999 [00:01<00:00, 792.17step/s, | At T=8.0e+00 : er=2.6e-02 es=2.6e-02]\n"
     ]
    },
    {
     "name": "stdout",
     "output_type": "stream",
     "text": [
      "----- Computation     | m = 1000     | n = 30      \n"
     ]
    },
    {
     "name": "stderr",
     "output_type": "stream",
     "text": [
      "Solve: 100%|█| 999/999 [00:01<00:00, 733.10step/s, | At T=8.0e+00 : er=1.1e-03 es=1.1e-03]\n"
     ]
    },
    {
     "name": "stdout",
     "output_type": "stream",
     "text": [
      "----- Computation     | m = 1000     | n = 35      \n"
     ]
    },
    {
     "name": "stderr",
     "output_type": "stream",
     "text": [
      "Solve: 100%|█| 999/999 [00:01<00:00, 579.80step/s, | At T=8.0e+00 : er=1.9e-04 es=1.9e-04]\n"
     ]
    },
    {
     "name": "stdout",
     "output_type": "stream",
     "text": [
      "----- Computation     | m = 1000     | n = 40      \n"
     ]
    },
    {
     "name": "stderr",
     "output_type": "stream",
     "text": [
      "Solve: 100%|█| 999/999 [00:02<00:00, 446.01step/s, | At T=8.0e+00 : er=1.5e-05 es=1.5e-05]\n"
     ]
    },
    {
     "name": "stdout",
     "output_type": "stream",
     "text": [
      "----- Computation     | m = 1000     | n = 45      \n"
     ]
    },
    {
     "name": "stderr",
     "output_type": "stream",
     "text": [
      "Solve: 100%|█| 999/999 [00:01<00:00, 509.47step/s, | At T=8.0e+00 : er=9.3e-06 es=9.3e-06]\n"
     ]
    },
    {
     "name": "stdout",
     "output_type": "stream",
     "text": [
      "----- Computation     | m = 1000     | n = 50      \n"
     ]
    },
    {
     "name": "stderr",
     "output_type": "stream",
     "text": [
      "Solve: 100%|█| 999/999 [00:02<00:00, 351.89step/s, | At T=8.0e+00 : er=9.3e-06 es=9.3e-06]\n"
     ]
    },
    {
     "name": "stdout",
     "output_type": "stream",
     "text": [
      "----- Computation     | m = 10000    | n = 10      \n"
     ]
    },
    {
     "name": "stderr",
     "output_type": "stream",
     "text": [
      "Solve: 100%|█| 9999/9999 [00:09<00:00, 1061.83step/s, | At T=8.0e+00 : er=8.7e-01 es=8.7e-01]\n"
     ]
    },
    {
     "name": "stdout",
     "output_type": "stream",
     "text": [
      "----- Computation     | m = 10000    | n = 15      \n"
     ]
    },
    {
     "name": "stderr",
     "output_type": "stream",
     "text": [
      "Solve: 100%|█| 9999/9999 [00:11<00:00, 843.20step/s, | At T=8.0e+00 : er=4.2e-01 es=4.2e-01]\n"
     ]
    },
    {
     "name": "stdout",
     "output_type": "stream",
     "text": [
      "----- Computation     | m = 10000    | n = 20      \n"
     ]
    },
    {
     "name": "stderr",
     "output_type": "stream",
     "text": [
      "Solve: 100%|█| 9999/9999 [00:13<00:00, 762.85step/s, | At T=8.0e+00 : er=5.7e-02 es=5.7e-02]\n"
     ]
    },
    {
     "name": "stdout",
     "output_type": "stream",
     "text": [
      "----- Computation     | m = 10000    | n = 25      \n"
     ]
    },
    {
     "name": "stderr",
     "output_type": "stream",
     "text": [
      "Solve: 100%|█| 9999/9999 [00:13<00:00, 728.59step/s, | At T=8.0e+00 : er=2.5e-02 es=2.5e-02]\n"
     ]
    },
    {
     "name": "stdout",
     "output_type": "stream",
     "text": [
      "----- Computation     | m = 10000    | n = 30      \n"
     ]
    },
    {
     "name": "stderr",
     "output_type": "stream",
     "text": [
      "Solve: 100%|█| 9999/9999 [00:15<00:00, 639.22step/s, | At T=8.0e+00 : er=1.3e-03 es=1.3e-03]\n"
     ]
    },
    {
     "name": "stdout",
     "output_type": "stream",
     "text": [
      "----- Computation     | m = 10000    | n = 35      \n"
     ]
    },
    {
     "name": "stderr",
     "output_type": "stream",
     "text": [
      "Solve: 100%|█| 9999/9999 [00:17<00:00, 557.84step/s, | At T=8.0e+00 : er=2.5e-04 es=2.5e-04]\n"
     ]
    },
    {
     "name": "stdout",
     "output_type": "stream",
     "text": [
      "----- Computation     | m = 10000    | n = 40      \n"
     ]
    },
    {
     "name": "stderr",
     "output_type": "stream",
     "text": [
      "Solve: 100%|█| 9999/9999 [00:20<00:00, 495.56step/s, | At T=8.0e+00 : er=1.3e-05 es=1.3e-05]\n"
     ]
    },
    {
     "name": "stdout",
     "output_type": "stream",
     "text": [
      "----- Computation     | m = 10000    | n = 45      \n"
     ]
    },
    {
     "name": "stderr",
     "output_type": "stream",
     "text": [
      "Solve: 100%|█| 9999/9999 [00:20<00:00, 498.30step/s, | At T=8.0e+00 : er=1.2e-06 es=1.3e-06]\n"
     ]
    },
    {
     "name": "stdout",
     "output_type": "stream",
     "text": [
      "----- Computation     | m = 10000    | n = 50      \n"
     ]
    },
    {
     "name": "stderr",
     "output_type": "stream",
     "text": [
      "Solve: 100%|█| 9999/9999 [00:20<00:00, 493.68step/s, | At T=8.0e+00 : er=1.2e-07 es=1.6e-07]\n"
     ]
    },
    {
     "name": "stdout",
     "output_type": "stream",
     "text": [
      "----- Computation     | m = 100000   | n = 10      \n"
     ]
    },
    {
     "name": "stderr",
     "output_type": "stream",
     "text": [
      "Solve: 100%|█| 99999/99999 [01:26<00:00, 1162.25step/s, | At T=8.0e+00 : er=8.9e-01 es=8.9e-01]\n"
     ]
    },
    {
     "name": "stdout",
     "output_type": "stream",
     "text": [
      "----- Computation     | m = 100000   | n = 15      \n"
     ]
    },
    {
     "name": "stderr",
     "output_type": "stream",
     "text": [
      "Solve: 100%|█| 99999/99999 [01:41<00:00, 986.03step/s, | At T=8.0e+00 : er=5.2e-01 es=5.2e-01] \n"
     ]
    },
    {
     "name": "stdout",
     "output_type": "stream",
     "text": [
      "----- Computation     | m = 100000   | n = 20      \n"
     ]
    },
    {
     "name": "stderr",
     "output_type": "stream",
     "text": [
      "Solve: 100%|█| 99999/99999 [02:00<00:00, 827.26step/s, | At T=8.0e+00 : er=5.6e-02 es=5.6e-02]\n"
     ]
    },
    {
     "name": "stdout",
     "output_type": "stream",
     "text": [
      "----- Computation     | m = 100000   | n = 25      \n"
     ]
    },
    {
     "name": "stderr",
     "output_type": "stream",
     "text": [
      "Solve: 100%|█| 99999/99999 [02:02<00:00, 814.65step/s, | At T=8.0e+00 : er=2.5e-02 es=2.5e-02]\n"
     ]
    },
    {
     "name": "stdout",
     "output_type": "stream",
     "text": [
      "----- Computation     | m = 100000   | n = 30      \n"
     ]
    },
    {
     "name": "stderr",
     "output_type": "stream",
     "text": [
      "Solve: 100%|█| 99999/99999 [02:16<00:00, 730.90step/s, | At T=8.0e+00 : er=1.3e-03 es=1.3e-03]\n"
     ]
    },
    {
     "name": "stdout",
     "output_type": "stream",
     "text": [
      "----- Computation     | m = 100000   | n = 35      \n"
     ]
    },
    {
     "name": "stderr",
     "output_type": "stream",
     "text": [
      "Solve: 100%|█| 99999/99999 [03:08<00:00, 530.24step/s, | At T=8.0e+00 : er=2.5e-04 es=2.5e-04]\n"
     ]
    },
    {
     "name": "stdout",
     "output_type": "stream",
     "text": [
      "----- Computation     | m = 100000   | n = 40      \n"
     ]
    },
    {
     "name": "stderr",
     "output_type": "stream",
     "text": [
      "Solve: 100%|█| 99999/99999 [02:58<00:00, 558.76step/s, | At T=8.0e+00 : er=1.3e-05 es=1.3e-05]\n"
     ]
    },
    {
     "name": "stdout",
     "output_type": "stream",
     "text": [
      "----- Computation     | m = 100000   | n = 45      \n"
     ]
    },
    {
     "name": "stderr",
     "output_type": "stream",
     "text": [
      "Solve: 100%|█| 99999/99999 [03:13<00:00, 517.01step/s, | At T=8.0e+00 : er=1.2e-06 es=1.2e-06]\n"
     ]
    },
    {
     "name": "stdout",
     "output_type": "stream",
     "text": [
      "----- Computation     | m = 100000   | n = 50      \n"
     ]
    },
    {
     "name": "stderr",
     "output_type": "stream",
     "text": [
      "Solve: 100%|█| 99999/99999 [03:34<00:00, 465.33step/s, | At T=8.0e+00 : er=5.4e-08 es=8.1e-08]\n"
     ]
    },
    {
     "name": "stdout",
     "output_type": "stream",
     "text": [
      "----- Done            | Time : 1.55e+03 sec\n"
     ]
    }
   ],
   "source": [
    "MD = Model.select('fpe_1d_oup').init(s=1., D=0.5, A=1.)\n",
    "MD.info(is_comp=True)\n",
    "    \n",
    "CH = Check('./data/fpe_1d_oup')\n",
    "CH.set_md(MD)\n",
    "CH.set_tm_lim(+0., +8.)\n",
    "CH.set_sp_lim(-6., +6.)\n",
    "\n",
    "M = [10, 100, 1000, 10000, 100000]\n",
    "N = np.arange(10, 51, 5)\n",
    "CH.add(name='Solver (ord=1)', eps=1.E-6, ord=1, with_tt=False, M=M, N=N)\n",
    "\n",
    "M = [10, 100, 1000, 10000, 100000]\n",
    "N = np.arange(10, 51, 5)\n",
    "CH.add(name='Solver (ord=2)', eps=1.E-6, ord=2, with_tt=False, M=M, N=N)\n",
    "\n",
    "if False: # Accidental start protection\n",
    "    CH.calc()\n",
    "    CH.save()"
   ]
  },
  {
   "cell_type": "markdown",
   "metadata": {},
   "source": [
    "<div class=\"end\"></div>"
   ]
  }
 ],
 "metadata": {
  "kernelspec": {
   "display_name": "Python 3",
   "language": "python",
   "name": "python3"
  },
  "language_info": {
   "codemirror_mode": {
    "name": "ipython",
    "version": 3
   },
   "file_extension": ".py",
   "mimetype": "text/x-python",
   "name": "python",
   "nbconvert_exporter": "python",
   "pygments_lexer": "ipython3",
   "version": "3.7.1"
  }
 },
 "nbformat": 4,
 "nbformat_minor": 2
}
