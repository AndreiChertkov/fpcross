{
 "cells": [
  {
   "cell_type": "code",
   "execution_count": 25,
   "metadata": {
    "colab": {},
    "colab_type": "code",
    "id": "ggWK47qw5VmT"
   },
   "outputs": [],
   "source": [
    "import numpy as np\n",
    "import matplotlib.pyplot as plt\n",
    "from scipy.integrate import odeint\n",
    "from mpl_toolkits.mplot3d import Axes3D"
   ]
  },
  {
   "cell_type": "markdown",
   "metadata": {},
   "source": [
    "## Formulas\n",
    "\n",
    "The evolution is done as follows: given an  approximation at time $t$, we construct a new approximation at time $t + h$ by \n",
    "running a cross method on the following formula:\n",
    "\n",
    "$$\\rho(x, t + h) = \\left(1 - h \\mathrm{Tr}\\left(\\frac{\\partial g}{\\partial x}\\right)\\right) E_{\\epsilon} \\rho(x - h g(x) + \\sqrt{h} \\epsilon, t)$$\n",
    "\n",
    "This time stepping can be implemented via the cross method"
   ]
  },
  {
   "cell_type": "code",
   "execution_count": 26,
   "metadata": {
    "colab": {},
    "colab_type": "code",
    "id": "isG56ptMJyJZ"
   },
   "outputs": [],
   "source": [
    "def logrho0(x): #Log likelihood for normal distribution\n",
    "    res = np.einsum('ik,ik->k', x, x)\n",
    "    return res\n",
    "    #return np.diag(x.T@x)\n",
    "\n",
    "\n",
    "def euler_sde(x0, A, h, noise):\n",
    "    x1 = x0 + h*A@x0 + np.sqrt(h)*np.random.randn(*x0.shape)*noise\n",
    "    return x1\n",
    "\n",
    "\n",
    "def estimate_log_rho(w0, nsamples, nsteps, A, h, noise):\n",
    "    res = []\n",
    "    d = w0.shape[1]\n",
    "    K = w0.shape[0]\n",
    "    w = w0.T\n",
    "    w = np.repeat(w.reshape((d, -1)), nsamples, axis=1)\n",
    "    for i in range(nsteps):\n",
    "        w = euler_sde(w, A, h, noise) \n",
    "    log_rho_val = logrho0(w) # Will be replaced by the previous approximation\n",
    "    log_rho_val = np.reshape(log_rho_val, (K, nsamples))\n",
    "    log_rho_val, log_rho_val_std = np.mean(log_rho_val, axis=1), np.std(log_rho_val)\n",
    "    return log_rho_val, log_rho_val_std\n",
    "\n",
    "\n",
    "# What we need: we have K d-dimensional points,\n",
    "# and we need to evaluate our function in each of those points and then sum the result. \n",
    "# First, we need to create vectors for each of the point\n",
    "\n",
    "def evaluate_approximant(cf, amin, amax, n): \n",
    "    pass"
   ]
  },
  {
   "cell_type": "code",
   "execution_count": 3,
   "metadata": {
    "colab": {},
    "colab_type": "code",
    "id": "isG56ptMJyJZ"
   },
   "outputs": [],
   "source": [
    "amin = -3.0\n",
    "amax = 3.0\n",
    "n = 64\n",
    "d = 2\n",
    "h_grid = (amax-amin)/(n-1)\n",
    "h = 0.005\n",
    "nsteps = 500\n",
    "noise = 1.0\n",
    "nsamples = 500\n",
    "A = np.array([[1.0, 0.0], [1.0, 1.0]])"
   ]
  },
  {
   "cell_type": "code",
   "execution_count": 4,
   "metadata": {},
   "outputs": [],
   "source": [
    "def compute_trace(x, tau):\n",
    "    #x should be d x nsamples, and we compute (1 - tau*Tr(dg/dx)) at each point\n",
    "    nsamples = x.shape[1]\n",
    "    return np.ones(nsamples)*(1 - tau*np.trace(-A))"
   ]
  },
  {
   "cell_type": "code",
   "execution_count": 27,
   "metadata": {},
   "outputs": [],
   "source": [
    "def compute_value(x0, tau, nsteps, nsamples, rho_prev):\n",
    "    x = np.copy(x0)\n",
    "    K = x.shape[1]\n",
    "    x = np.repeat(x.reshape((d, -1)), nsamples, axis=1)\n",
    "    #log_eta = np.zeros(x.shape[1])\n",
    "    eta = np.ones(x.shape[1])\n",
    "    for _ in range(nsteps):\n",
    "        eta = eta * compute_trace(x, tau)\n",
    "        x =  x + tau*A@x + np.sqrt(tau)*np.random.randn(*x.shape)*noise #Note +before A\n",
    "    #w = np.exp(-logrho0(x))*eta\n",
    "    w = rho_prev(*x, grid=False)*eta\n",
    "    \n",
    "    w = np.reshape(w, (K, nsamples))\n",
    "    res = np.mean(w, axis=1)\n",
    "    return res\n"
   ]
  },
  {
   "cell_type": "code",
   "execution_count": 28,
   "metadata": {},
   "outputs": [],
   "source": [
    "from scipy.interpolate import Rbf, bisplev, RectBivariateSpline\n",
    "m = 64\n",
    "t = np.linspace(amin, amax, m)\n",
    "x, y = np.meshgrid(t, t)\n",
    "w = np.array([x, y])\n",
    "w = w.reshape((2, -1))\n",
    "val = logrho0(w)\n",
    "val = np.exp(-val)\n",
    "fun = RectBivariateSpline(t, t, val.reshape((m, m)))\n",
    "#fun = Rbf(x.flatten(), y.flatten(), val.flatten())\n",
    "#fun1 = Rbf(x.flatten(), y.flatten(), res.flatten())"
   ]
  },
  {
   "cell_type": "code",
   "execution_count": 29,
   "metadata": {},
   "outputs": [
    {
     "data": {
      "text/plain": [
       "<matplotlib.contour.QuadContourSet at 0x18181e7d30>"
      ]
     },
     "execution_count": 29,
     "metadata": {},
     "output_type": "execute_result"
    },
    {
     "data": {
      "image/png": "[encoded data removed]",
      "text/plain": [
       "<Figure size 432x288 with 1 Axes>"
      ]
     },
     "metadata": {
      "needs_background": "light"
     },
     "output_type": "display_data"
    }
   ],
   "source": [
    "plt.contourf(val.reshape((m, m)))"
   ]
  },
  {
   "cell_type": "code",
   "execution_count": 30,
   "metadata": {},
   "outputs": [],
   "source": [
    "tm = 0.0\n",
    "tau = 1e-2\n",
    "nsteps = 1\n",
    "nsamples = 500"
   ]
  },
  {
   "cell_type": "code",
   "execution_count": 31,
   "metadata": {},
   "outputs": [
    {
     "name": "stdout",
     "output_type": "stream",
     "text": [
      "346.30131949798294\n",
      "346.3421702958784\n",
      "346.2550328151538\n",
      "346.2427232470756\n",
      "346.2536100056202\n",
      "346.08425397246634\n",
      "346.16204312571125\n",
      "346.0757875515743\n",
      "346.1676251032125\n",
      "346.03914773549036\n",
      "346.05412038876284\n",
      "346.1272124443749\n",
      "345.9257431937298\n",
      "345.90946633148553\n",
      "345.94715418046405\n",
      "345.7956897029259\n",
      "345.80538165953635\n",
      "345.8932640692094\n",
      "345.8902616238864\n",
      "345.87039423913825\n",
      "345.74484985988147\n",
      "345.689410431157\n",
      "345.6726557828514\n",
      "345.6449294473296\n",
      "345.6488788960777\n",
      "345.77177134465165\n",
      "345.6521753617124\n",
      "345.6694684356771\n",
      "345.6992318164198\n",
      "345.59036075284416\n",
      "345.66085632036027\n",
      "345.5273318640318\n",
      "345.5548209071363\n",
      "345.4491994236214\n",
      "345.48048183454347\n",
      "345.57061476311384\n",
      "345.56984237755546\n",
      "345.5881542212866\n",
      "345.50943033873466\n",
      "345.55496107010333\n",
      "345.54893706972376\n",
      "345.468372886924\n",
      "345.524090205679\n",
      "345.5049792592529\n",
      "345.4448187483366\n",
      "345.37644443254317\n",
      "345.4577070778199\n",
      "345.4425982633223\n",
      "345.26712611650674\n",
      "345.1846570981985\n"
     ]
    }
   ],
   "source": [
    "for _ in range(50):\n",
    "    t = np.linspace(amin, amax, m)\n",
    "    x, y = np.meshgrid(t, t)\n",
    "    w = np.array([x, y])\n",
    "    w = w.reshape((2, -1))\n",
    "\n",
    "    res = compute_value(w, tau, nsteps, nsamples, fun)\n",
    "    res = res.reshape((m, m))\n",
    "    print(np.sum(res))\n",
    "\n",
    "    fun = RectBivariateSpline(t, t, res)\n",
    "\n",
    "    #fun = Rbf(x.flatten(), y.flatten(), res.flatten())\n",
    "    tm += tau*nsteps\n",
    "    #print(tm)\n",
    "    #plt.contourf(x, y, res, 100)\n",
    "    #plt.colorbar()"
   ]
  },
  {
   "cell_type": "code",
   "execution_count": 32,
   "metadata": {},
   "outputs": [
    {
     "data": {
      "text/plain": [
       "<matplotlib.legend.Legend at 0x182263e240>"
      ]
     },
     "execution_count": 32,
     "metadata": {},
     "output_type": "execute_result"
    },
    {
     "data": {
      "image/png": "[encoded data removed]",
      "text/plain": [
       "<Figure size 432x288 with 1 Axes>"
      ]
     },
     "metadata": {
      "needs_background": "light"
     },
     "output_type": "display_data"
    }
   ],
   "source": [
    "s1 = np.linalg.svd(res)[1]\n",
    "s2 = np.linalg.svd(np.log(res))[1]\n",
    "plt.semilogy(s1/s1[0], label='rho')\n",
    "plt.semilogy(s2/s2[0], label='logrho')\n",
    "plt.legend()"
   ]
  },
  {
   "cell_type": "code",
   "execution_count": 33,
   "metadata": {},
   "outputs": [
    {
     "data": {
      "text/plain": [
       "<matplotlib.contour.QuadContourSet at 0x1817fecda0>"
      ]
     },
     "execution_count": 33,
     "metadata": {},
     "output_type": "execute_result"
    },
    {
     "data": {
      "image/png": "[encoded data removed]",
      "text/plain": [
       "<Figure size 432x288 with 1 Axes>"
      ]
     },
     "metadata": {
      "needs_background": "light"
     },
     "output_type": "display_data"
    }
   ],
   "source": [
    "plt.contourf(x, y, res)"
   ]
  },
  {
   "cell_type": "code",
   "execution_count": 34,
   "metadata": {},
   "outputs": [
    {
     "data": {
      "text/plain": [
       "array([0.60653066, 0.60653066])"
      ]
     },
     "execution_count": 34,
     "metadata": {},
     "output_type": "execute_result"
    }
   ],
   "source": [
    "np.exp(-tm*np.linalg.eigvals(A))"
   ]
  },
  {
   "cell_type": "code",
   "execution_count": 35,
   "metadata": {},
   "outputs": [],
   "source": [
    "amin = -3.0\n",
    "amax = 3.0\n",
    "n = 256\n",
    "d = 2\n",
    "h_grid = (amax-amin)/(n-1)\n"
   ]
  },
  {
   "cell_type": "code",
   "execution_count": 36,
   "metadata": {},
   "outputs": [],
   "source": [
    "def evaluate_approximant(ten, x):\n",
    "    #Evaluate piecewise-linear interpolant \n",
    "    nx = x.shape[0] #Number of points\n",
    "    core_list = ten.to_list(ten) #To fix it later, stupid syntax\n",
    "    core_vec = []\n",
    "    for i in range(x0.d):\n",
    "        j = np.array((x[:, i] - amin)/h_grid, dtype=np.int)\n",
    "        j[j<0] = 0\n",
    "        j[j>=n-1] = n-2 \n",
    "        xleft = amin + j*h_grid\n",
    "        xright = amin + (j+1)*h_grid\n",
    "        alpha = (xright - x[:, i])/h_grid\n",
    "        core_loc = np.einsum('k,ikj -> kij', alpha, core_list[i][:, j, :])  +  np.einsum('k,ikj -> kij', 1-alpha, core_list[i][:, j+1, :])\n",
    "        core_vec.append(core_loc)\n",
    "\n",
    "    mat = np.ones((nx, 1, 1))\n",
    "    for cr in core_vec:\n",
    "        mat = np.einsum('kij,kjl->kil', mat, cr)\n",
    "    mat = np.squeeze(mat)\n",
    "    return mat\n",
    "#    mat = mat@cr \n"
   ]
  },
  {
   "cell_type": "code",
   "execution_count": 37,
   "metadata": {},
   "outputs": [
    {
     "name": "stdout",
     "output_type": "stream",
     "text": [
      "swp: 0/5 er_rel = 1.0e+00 er_abs = 1.9e+03 erank = 4.0 fun_eval: 3072\n",
      "swp: 1/5 er_rel = 4.5e-16 er_abs = 8.3e-13 erank = 6.0 fun_eval: 8192\n"
     ]
    }
   ],
   "source": [
    "import tt\n",
    "from tt.cross.rectcross import cross\n",
    "r = 2\n",
    "x0 = tt.rand(n, d, r)\n",
    "\n",
    "def my_fun(ind):\n",
    "    x = amin + h_grid*ind\n",
    "    w = logrho0(x.T)\n",
    "    return w\n",
    "    \n",
    "init = cross(my_fun, x0, eps=1e-5, nswp=6, kickrank=1, rf=2)                                                                                                                                                                                                                \n",
    "#x2 = cross(my_fun, x0, eps=1e-5, nswp=6, kickrank=1, rf=2)                                                                                                                                                                                                                \n",
    "#x3 = cross(my_fun, x0, eps=1e-5, nswp=6, kickrank=1, rf=2)     "
   ]
  },
  {
   "cell_type": "code",
   "execution_count": 38,
   "metadata": {},
   "outputs": [
    {
     "data": {
      "text/plain": [
       "<matplotlib.colorbar.Colorbar at 0x1817921be0>"
      ]
     },
     "execution_count": 38,
     "metadata": {},
     "output_type": "execute_result"
    },
    {
     "data": {
      "image/png": "[encoded data removed]",
      "text/plain": [
       "<Figure size 432x288 with 2 Axes>"
      ]
     },
     "metadata": {
      "needs_background": "light"
     },
     "output_type": "display_data"
    }
   ],
   "source": [
    "M = 64\n",
    "t = np.linspace(amin, amax, M)\n",
    "X, Y = np.meshgrid(t, t)\n",
    "Xall = np.vstack((X.flatten(), Y.flatten())).T\n",
    "res = evaluate_approximant(init, Xall).reshape((M, M))\n",
    "plt.contourf(t, t, res)\n",
    "plt.colorbar()"
   ]
  },
  {
   "cell_type": "code",
   "execution_count": 39,
   "metadata": {},
   "outputs": [],
   "source": [
    "nsteps = 1\n",
    "def compute_value2(x0, tau, nsteps, nsamples, rho_prev):\n",
    "    x = np.copy(x0)\n",
    "    K = x.shape[1]\n",
    "    x = np.repeat(x.reshape((d, -1)), nsamples, axis=1)\n",
    "    #log_eta = np.zeros(x.shape[1])\n",
    "    eta = np.ones(x.shape[1])\n",
    "    for _ in range(nsteps):\n",
    "        eta = eta * compute_trace(x, tau)\n",
    "        x =  x + tau*A@x + np.sqrt(tau)*np.random.randn(*x.shape)*noise #Note +before A #Can replace with much better quadrature in the \n",
    "        #stochastic noise\n",
    "    #w = np.exp(-logrho0(x))*eta\n",
    "    val = evaluate_approximant(rho_prev, x.T)\n",
    "    val = np.exp(-val)\n",
    "    w = val*eta\n",
    "    w = np.reshape(w, (K, nsamples))\n",
    "    res = np.mean(w, axis=1)\n",
    "    res = -np.log(res)\n",
    "    return res"
   ]
  },
  {
   "cell_type": "code",
   "execution_count": 40,
   "metadata": {},
   "outputs": [],
   "source": [
    "sol = init.copy()"
   ]
  },
  {
   "cell_type": "code",
   "execution_count": 41,
   "metadata": {},
   "outputs": [
    {
     "name": "stdout",
     "output_type": "stream",
     "text": [
      "swp: 0/5 er_rel = 1.1e-02 er_abs = 2.0e+01 erank = 9.0 fun_eval: 7424\n",
      "swp: 1/5 er_rel = 1.2e-02 er_abs = 2.2e+01 erank = 13.0 fun_eval: 18688\n",
      "swp: 2/5 er_rel = 1.1e-02 er_abs = 2.1e+01 erank = 17.0 fun_eval: 34048\n",
      "swp: 3/5 er_rel = 1.3e-02 er_abs = 2.3e+01 erank = 21.0 fun_eval: 53504\n",
      "swp: 4/5 er_rel = 1.4e-02 er_abs = 2.5e+01 erank = 25.0 fun_eval: 77056\n",
      "swp: 5/5 er_rel = 1.4e-02 er_abs = 2.6e+01 erank = 29.0 fun_eval: 104704\n",
      "0.00863331338617425 0.008\n",
      "swp: 0/5 er_rel = 1.1e-02 er_abs = 2.0e+01 erank = 5.0 fun_eval: 4096\n",
      "swp: 1/5 er_rel = 9.7e-03 er_abs = 1.8e+01 erank = 9.0 fun_eval: 11264\n",
      "swp: 2/5 er_rel = 1.0e-02 er_abs = 1.8e+01 erank = 13.0 fun_eval: 22528\n",
      "swp: 3/5 er_rel = 1.1e-02 er_abs = 2.0e+01 erank = 17.0 fun_eval: 37888\n",
      "swp: 4/5 er_rel = 1.1e-02 er_abs = 2.1e+01 erank = 21.0 fun_eval: 57344\n",
      "swp: 5/5 er_rel = 1.3e-02 er_abs = 2.4e+01 erank = 25.0 fun_eval: 80896\n",
      "0.010658788990662237 0.016\n",
      "swp: 0/5 er_rel = 1.2e-02 er_abs = 2.2e+01 erank = 5.0 fun_eval: 4096\n",
      "swp: 1/5 er_rel = 1.1e-02 er_abs = 2.0e+01 erank = 9.0 fun_eval: 11264\n",
      "swp: 2/5 er_rel = 1.1e-02 er_abs = 2.0e+01 erank = 13.0 fun_eval: 22528\n",
      "swp: 3/5 er_rel = 1.2e-02 er_abs = 2.2e+01 erank = 17.0 fun_eval: 37888\n",
      "swp: 4/5 er_rel = 1.3e-02 er_abs = 2.4e+01 erank = 21.0 fun_eval: 57344\n",
      "swp: 5/5 er_rel = 1.4e-02 er_abs = 2.6e+01 erank = 25.0 fun_eval: 80896\n",
      "0.010404122005528602 0.024\n",
      "swp: 0/5 er_rel = 1.2e-02 er_abs = 2.2e+01 erank = 5.0 fun_eval: 4096\n",
      "swp: 1/5 er_rel = 1.1e-02 er_abs = 2.0e+01 erank = 9.0 fun_eval: 11264\n",
      "swp: 2/5 er_rel = 1.1e-02 er_abs = 2.1e+01 erank = 13.0 fun_eval: 22528\n",
      "swp: 3/5 er_rel = 1.3e-02 er_abs = 2.3e+01 erank = 17.0 fun_eval: 37888\n",
      "swp: 4/5 er_rel = 1.3e-02 er_abs = 2.4e+01 erank = 21.0 fun_eval: 57344\n",
      "swp: 5/5 er_rel = 1.4e-02 er_abs = 2.5e+01 erank = 25.0 fun_eval: 80896\n",
      "0.010028066891503998 0.032\n",
      "swp: 0/5 er_rel = 1.2e-02 er_abs = 2.2e+01 erank = 5.0 fun_eval: 4096\n",
      "swp: 1/5 er_rel = 1.1e-02 er_abs = 2.0e+01 erank = 9.0 fun_eval: 11264\n",
      "swp: 2/5 er_rel = 1.0e-02 er_abs = 1.9e+01 erank = 13.0 fun_eval: 22528\n",
      "swp: 3/5 er_rel = 1.3e-02 er_abs = 2.4e+01 erank = 17.0 fun_eval: 37888\n",
      "swp: 4/5 er_rel = 1.4e-02 er_abs = 2.6e+01 erank = 21.0 fun_eval: 57344\n",
      "swp: 5/5 er_rel = 1.3e-02 er_abs = 2.5e+01 erank = 25.0 fun_eval: 80896\n",
      "0.009809909710631625 0.04\n",
      "swp: 0/5 er_rel = 1.1e-02 er_abs = 2.1e+01 erank = 6.0 fun_eval: 4352\n",
      "swp: 1/5 er_rel = 1.2e-02 er_abs = 2.2e+01 erank = 10.0 fun_eval: 12544\n",
      "swp: 2/5 er_rel = 1.1e-02 er_abs = 2.0e+01 erank = 14.0 fun_eval: 24832\n",
      "swp: 3/5 er_rel = 1.2e-02 er_abs = 2.2e+01 erank = 18.0 fun_eval: 41216\n",
      "swp: 4/5 er_rel = 1.3e-02 er_abs = 2.4e+01 erank = 22.0 fun_eval: 61696\n",
      "swp: 5/5 er_rel = 1.4e-02 er_abs = 2.6e+01 erank = 26.0 fun_eval: 86272\n",
      "0.01087909970088083 0.048\n",
      "swp: 0/5 er_rel = 1.2e-02 er_abs = 2.1e+01 erank = 5.0 fun_eval: 4096\n",
      "swp: 1/5 er_rel = 1.2e-02 er_abs = 2.2e+01 erank = 9.0 fun_eval: 11264\n",
      "swp: 2/5 er_rel = 1.2e-02 er_abs = 2.2e+01 erank = 13.0 fun_eval: 22528\n",
      "swp: 3/5 er_rel = 1.3e-02 er_abs = 2.4e+01 erank = 17.0 fun_eval: 37888\n",
      "swp: 4/5 er_rel = 1.4e-02 er_abs = 2.5e+01 erank = 21.0 fun_eval: 57344\n",
      "swp: 5/5 er_rel = 1.4e-02 er_abs = 2.5e+01 erank = 25.0 fun_eval: 80896\n",
      "0.010300310586301493 0.056\n",
      "swp: 0/5 er_rel = 1.1e-02 er_abs = 2.0e+01 erank = 5.0 fun_eval: 4096\n",
      "swp: 1/5 er_rel = 1.1e-02 er_abs = 2.0e+01 erank = 9.0 fun_eval: 11264\n",
      "swp: 2/5 er_rel = 1.1e-02 er_abs = 2.1e+01 erank = 13.0 fun_eval: 22528\n",
      "swp: 3/5 er_rel = 1.2e-02 er_abs = 2.2e+01 erank = 17.0 fun_eval: 37888\n",
      "swp: 4/5 er_rel = 1.3e-02 er_abs = 2.4e+01 erank = 21.0 fun_eval: 57344\n",
      "swp: 5/5 er_rel = 1.4e-02 er_abs = 2.6e+01 erank = 25.0 fun_eval: 80896\n",
      "0.01016965457456345 0.064\n",
      "swp: 0/5 er_rel = 1.2e-02 er_abs = 2.2e+01 erank = 6.0 fun_eval: 4352\n",
      "swp: 1/5 er_rel = 1.0e-02 er_abs = 1.9e+01 erank = 10.0 fun_eval: 12544\n",
      "swp: 2/5 er_rel = 1.0e-02 er_abs = 1.9e+01 erank = 14.0 fun_eval: 24832\n",
      "swp: 3/5 er_rel = 1.1e-02 er_abs = 2.0e+01 erank = 18.0 fun_eval: 41216\n",
      "swp: 4/5 er_rel = 1.3e-02 er_abs = 2.4e+01 erank = 22.0 fun_eval: 61696\n",
      "swp: 5/5 er_rel = 1.3e-02 er_abs = 2.5e+01 erank = 26.0 fun_eval: 86272\n",
      "0.009245015924908204 0.07200000000000001\n",
      "swp: 0/5 er_rel = 1.2e-02 er_abs = 2.2e+01 erank = 5.0 fun_eval: 4096\n",
      "swp: 1/5 er_rel = 1.2e-02 er_abs = 2.2e+01 erank = 9.0 fun_eval: 11264\n",
      "swp: 2/5 er_rel = 1.2e-02 er_abs = 2.2e+01 erank = 13.0 fun_eval: 22528\n",
      "swp: 3/5 er_rel = 1.2e-02 er_abs = 2.2e+01 erank = 17.0 fun_eval: 37888\n",
      "swp: 4/5 er_rel = 1.2e-02 er_abs = 2.3e+01 erank = 21.0 fun_eval: 57344\n",
      "swp: 5/5 er_rel = 1.2e-02 er_abs = 2.3e+01 erank = 25.0 fun_eval: 80896\n",
      "0.008954005963664292 0.08000000000000002\n",
      "swp: 0/5 er_rel = 9.8e-03 er_abs = 1.8e+01 erank = 6.0 fun_eval: 4352\n",
      "swp: 1/5 er_rel = 9.7e-03 er_abs = 1.8e+01 erank = 9.0 fun_eval: 11776\n",
      "swp: 2/5 er_rel = 1.1e-02 er_abs = 1.9e+01 erank = 13.0 fun_eval: 23040\n",
      "swp: 3/5 er_rel = 1.2e-02 er_abs = 2.3e+01 erank = 17.0 fun_eval: 38400\n",
      "swp: 4/5 er_rel = 1.3e-02 er_abs = 2.3e+01 erank = 21.0 fun_eval: 57856\n",
      "swp: 5/5 er_rel = 1.2e-02 er_abs = 2.3e+01 erank = 25.0 fun_eval: 81408\n",
      "0.008574544063500287 0.08800000000000002\n",
      "swp: 0/5 er_rel = 1.0e-02 er_abs = 1.9e+01 erank = 6.0 fun_eval: 4352\n",
      "swp: 1/5 er_rel = 9.9e-03 er_abs = 1.8e+01 erank = 10.0 fun_eval: 12544\n",
      "swp: 2/5 er_rel = 1.1e-02 er_abs = 2.0e+01 erank = 14.0 fun_eval: 24832\n",
      "swp: 3/5 er_rel = 1.2e-02 er_abs = 2.2e+01 erank = 18.0 fun_eval: 41216\n",
      "swp: 4/5 er_rel = 1.2e-02 er_abs = 2.3e+01 erank = 22.0 fun_eval: 61696\n",
      "swp: 5/5 er_rel = 1.4e-02 er_abs = 2.5e+01 erank = 26.0 fun_eval: 86272\n",
      "0.008980859426896021 0.09600000000000003\n",
      "swp: 0/5 er_rel = 1.0e-02 er_abs = 1.9e+01 erank = 5.0 fun_eval: 4096\n",
      "swp: 1/5 er_rel = 1.1e-02 er_abs = 2.1e+01 erank = 9.0 fun_eval: 11264\n",
      "swp: 2/5 er_rel = 1.1e-02 er_abs = 2.0e+01 erank = 13.0 fun_eval: 22528\n",
      "swp: 3/5 er_rel = 1.1e-02 er_abs = 2.0e+01 erank = 17.0 fun_eval: 37888\n",
      "swp: 4/5 er_rel = 1.2e-02 er_abs = 2.2e+01 erank = 21.0 fun_eval: 57344\n",
      "swp: 5/5 er_rel = 1.3e-02 er_abs = 2.4e+01 erank = 25.0 fun_eval: 80896\n",
      "0.009618108581147974 0.10400000000000004\n",
      "swp: 0/5 er_rel = 1.3e-02 er_abs = 2.3e+01 erank = 5.0 fun_eval: 4096\n",
      "swp: 1/5 er_rel = 1.4e-02 er_abs = 2.6e+01 erank = 9.0 fun_eval: 11264\n",
      "swp: 2/5 er_rel = 1.1e-02 er_abs = 2.0e+01 erank = 13.0 fun_eval: 22528\n",
      "swp: 3/5 er_rel = 1.3e-02 er_abs = 2.3e+01 erank = 17.0 fun_eval: 37888\n",
      "swp: 4/5 er_rel = 1.3e-02 er_abs = 2.3e+01 erank = 21.0 fun_eval: 57344\n",
      "swp: 5/5 er_rel = 1.4e-02 er_abs = 2.7e+01 erank = 25.0 fun_eval: 80896\n",
      "0.011126004604988745 0.11200000000000004\n",
      "swp: 0/5 er_rel = 1.3e-02 er_abs = 2.3e+01 erank = 5.0 fun_eval: 4096\n",
      "swp: 1/5 er_rel = 1.1e-02 er_abs = 1.9e+01 erank = 9.0 fun_eval: 11264\n",
      "swp: 2/5 er_rel = 1.0e-02 er_abs = 1.9e+01 erank = 13.0 fun_eval: 22528\n",
      "swp: 3/5 er_rel = 1.1e-02 er_abs = 2.0e+01 erank = 17.0 fun_eval: 37888\n",
      "swp: 4/5 er_rel = 1.2e-02 er_abs = 2.2e+01 erank = 21.0 fun_eval: 57344\n",
      "swp: 5/5 er_rel = 1.3e-02 er_abs = 2.3e+01 erank = 25.0 fun_eval: 80896\n",
      "0.01123191953538349 0.12000000000000005\n",
      "swp: 0/5 er_rel = 1.1e-02 er_abs = 2.1e+01 erank = 5.0 fun_eval: 4096\n",
      "swp: 1/5 er_rel = 1.2e-02 er_abs = 2.1e+01 erank = 9.0 fun_eval: 11264\n",
      "swp: 2/5 er_rel = 1.2e-02 er_abs = 2.2e+01 erank = 13.0 fun_eval: 22528\n",
      "swp: 3/5 er_rel = 1.3e-02 er_abs = 2.3e+01 erank = 17.0 fun_eval: 37888\n",
      "swp: 4/5 er_rel = 1.4e-02 er_abs = 2.6e+01 erank = 21.0 fun_eval: 57344\n",
      "swp: 5/5 er_rel = 1.6e-02 er_abs = 2.9e+01 erank = 25.0 fun_eval: 80896\n",
      "0.010565559766617163 0.12800000000000006\n",
      "swp: 0/5 er_rel = 1.3e-02 er_abs = 2.3e+01 erank = 5.0 fun_eval: 4096\n",
      "swp: 1/5 er_rel = 1.1e-02 er_abs = 2.0e+01 erank = 8.0 fun_eval: 10496\n",
      "swp: 2/5 er_rel = 1.1e-02 er_abs = 2.1e+01 erank = 12.0 fun_eval: 20736\n",
      "swp: 3/5 er_rel = 1.2e-02 er_abs = 2.2e+01 erank = 16.0 fun_eval: 35072\n",
      "swp: 4/5 er_rel = 1.2e-02 er_abs = 2.2e+01 erank = 20.0 fun_eval: 53504\n",
      "swp: 5/5 er_rel = 1.4e-02 er_abs = 2.6e+01 erank = 24.0 fun_eval: 76032\n",
      "0.011096617302515816 0.13600000000000007\n",
      "swp: 0/5 er_rel = 1.3e-02 er_abs = 2.3e+01 erank = 5.0 fun_eval: 4096\n",
      "swp: 1/5 er_rel = 1.2e-02 er_abs = 2.2e+01 erank = 9.0 fun_eval: 11264\n",
      "swp: 2/5 er_rel = 1.2e-02 er_abs = 2.2e+01 erank = 13.0 fun_eval: 22528\n",
      "swp: 3/5 er_rel = 1.3e-02 er_abs = 2.4e+01 erank = 17.0 fun_eval: 37888\n",
      "swp: 4/5 er_rel = 1.4e-02 er_abs = 2.5e+01 erank = 21.0 fun_eval: 57344\n",
      "swp: 5/5 er_rel = 1.4e-02 er_abs = 2.6e+01 erank = 25.0 fun_eval: 80896\n",
      "0.011647006902922794 0.14400000000000007\n",
      "swp: 0/5 er_rel = 1.1e-02 er_abs = 1.9e+01 erank = 6.0 fun_eval: 4352\n",
      "swp: 1/5 er_rel = 1.0e-02 er_abs = 1.9e+01 erank = 10.0 fun_eval: 12544\n",
      "swp: 2/5 er_rel = 1.1e-02 er_abs = 1.9e+01 erank = 14.0 fun_eval: 24832\n",
      "swp: 3/5 er_rel = 1.3e-02 er_abs = 2.4e+01 erank = 18.0 fun_eval: 41216\n",
      "swp: 4/5 er_rel = 1.4e-02 er_abs = 2.6e+01 erank = 22.0 fun_eval: 61696\n",
      "swp: 5/5 er_rel = 1.5e-02 er_abs = 2.7e+01 erank = 26.0 fun_eval: 86272\n",
      "0.010587236249414935 0.15200000000000008\n",
      "swp: 0/5 er_rel = 1.2e-02 er_abs = 2.3e+01 erank = 5.0 fun_eval: 4096\n",
      "swp: 1/5 er_rel = 1.1e-02 er_abs = 2.0e+01 erank = 9.0 fun_eval: 11264\n",
      "swp: 2/5 er_rel = 1.1e-02 er_abs = 2.0e+01 erank = 13.0 fun_eval: 22528\n",
      "swp: 3/5 er_rel = 1.2e-02 er_abs = 2.1e+01 erank = 17.0 fun_eval: 37888\n",
      "swp: 4/5 er_rel = 1.4e-02 er_abs = 2.6e+01 erank = 21.0 fun_eval: 57344\n",
      "swp: 5/5 er_rel = 1.6e-02 er_abs = 2.9e+01 erank = 25.0 fun_eval: 80896\n",
      "0.010995275763445566 0.1600000000000001\n",
      "swp: 0/5 er_rel = 1.3e-02 er_abs = 2.5e+01 erank = 5.0 fun_eval: 4096\n",
      "swp: 1/5 er_rel = 1.2e-02 er_abs = 2.3e+01 erank = 9.0 fun_eval: 11264\n",
      "swp: 2/5 er_rel = 1.2e-02 er_abs = 2.2e+01 erank = 13.0 fun_eval: 22528\n",
      "swp: 3/5 er_rel = 1.2e-02 er_abs = 2.2e+01 erank = 17.0 fun_eval: 37888\n",
      "swp: 4/5 er_rel = 1.3e-02 er_abs = 2.4e+01 erank = 21.0 fun_eval: 57344\n",
      "swp: 5/5 er_rel = 1.4e-02 er_abs = 2.6e+01 erank = 25.0 fun_eval: 80896\n",
      "0.012616745278580943 0.1680000000000001\n",
      "swp: 0/5 er_rel = 1.6e-02 er_abs = 2.9e+01 erank = 5.0 fun_eval: 4096\n",
      "swp: 1/5 er_rel = 1.4e-02 er_abs = 2.6e+01 erank = 7.0 fun_eval: 10240\n",
      "swp: 2/5 er_rel = 1.4e-02 er_abs = 2.6e+01 erank = 11.0 fun_eval: 19456\n",
      "swp: 3/5 er_rel = 1.3e-02 er_abs = 2.4e+01 erank = 15.0 fun_eval: 32768\n",
      "swp: 4/5 er_rel = 1.6e-02 er_abs = 2.9e+01 erank = 19.0 fun_eval: 50176\n",
      "swp: 5/5 er_rel = 1.5e-02 er_abs = 2.7e+01 erank = 23.0 fun_eval: 71680\n",
      "0.01526430337749221 0.1760000000000001\n",
      "swp: 0/5 er_rel = 1.4e-02 er_abs = 2.7e+01 erank = 5.0 fun_eval: 4096\n",
      "swp: 1/5 er_rel = 1.2e-02 er_abs = 2.3e+01 erank = 8.0 fun_eval: 11008\n",
      "swp: 2/5 er_rel = 1.2e-02 er_abs = 2.1e+01 erank = 12.0 fun_eval: 21248\n",
      "swp: 3/5 er_rel = 1.3e-02 er_abs = 2.3e+01 erank = 16.0 fun_eval: 35584\n",
      "swp: 4/5 er_rel = 1.4e-02 er_abs = 2.7e+01 erank = 20.0 fun_eval: 54016\n",
      "swp: 5/5 er_rel = 1.3e-02 er_abs = 2.5e+01 erank = 24.0 fun_eval: 76544\n",
      "0.013629615225022311 0.1840000000000001\n",
      "swp: 0/5 er_rel = 1.8e-02 er_abs = 3.3e+01 erank = 5.0 fun_eval: 4096\n",
      "swp: 1/5 er_rel = 1.5e-02 er_abs = 2.8e+01 erank = 9.0 fun_eval: 11264\n",
      "swp: 2/5 er_rel = 1.2e-02 er_abs = 2.2e+01 erank = 13.0 fun_eval: 22528\n",
      "swp: 3/5 er_rel = 1.3e-02 er_abs = 2.4e+01 erank = 17.0 fun_eval: 37888\n",
      "swp: 4/5 er_rel = 1.4e-02 er_abs = 2.5e+01 erank = 21.0 fun_eval: 57344\n",
      "swp: 5/5 er_rel = 1.4e-02 er_abs = 2.6e+01 erank = 25.0 fun_eval: 80896\n",
      "0.011771341736131464 0.19200000000000012\n",
      "swp: 0/5 er_rel = 1.3e-02 er_abs = 2.3e+01 erank = 5.0 fun_eval: 4096\n",
      "swp: 1/5 er_rel = 1.2e-02 er_abs = 2.1e+01 erank = 8.0 fun_eval: 10496\n",
      "swp: 2/5 er_rel = 1.2e-02 er_abs = 2.1e+01 erank = 12.0 fun_eval: 20736\n",
      "swp: 3/5 er_rel = 1.4e-02 er_abs = 2.5e+01 erank = 16.0 fun_eval: 35072\n",
      "swp: 4/5 er_rel = 1.4e-02 er_abs = 2.5e+01 erank = 20.0 fun_eval: 53504\n",
      "swp: 5/5 er_rel = 1.4e-02 er_abs = 2.6e+01 erank = 24.0 fun_eval: 76032\n",
      "0.010789769345475637 0.20000000000000012\n",
      "swp: 0/5 er_rel = 1.2e-02 er_abs = 2.3e+01 erank = 5.0 fun_eval: 4096\n",
      "swp: 1/5 er_rel = 1.2e-02 er_abs = 2.3e+01 erank = 9.0 fun_eval: 11264\n",
      "swp: 2/5 er_rel = 1.1e-02 er_abs = 2.0e+01 erank = 13.0 fun_eval: 22528\n",
      "swp: 3/5 er_rel = 1.2e-02 er_abs = 2.2e+01 erank = 17.0 fun_eval: 37888\n",
      "swp: 4/5 er_rel = 1.4e-02 er_abs = 2.6e+01 erank = 21.0 fun_eval: 57344\n",
      "swp: 5/5 er_rel = 1.4e-02 er_abs = 2.6e+01 erank = 25.0 fun_eval: 80896\n",
      "0.00994688748452388 0.20800000000000013\n",
      "swp: 0/5 er_rel = 1.1e-02 er_abs = 2.1e+01 erank = 6.0 fun_eval: 4352\n",
      "swp: 1/5 er_rel = 1.2e-02 er_abs = 2.1e+01 erank = 10.0 fun_eval: 12544\n",
      "swp: 2/5 er_rel = 1.1e-02 er_abs = 2.0e+01 erank = 14.0 fun_eval: 24832\n",
      "swp: 3/5 er_rel = 1.3e-02 er_abs = 2.4e+01 erank = 18.0 fun_eval: 41216\n",
      "swp: 4/5 er_rel = 1.4e-02 er_abs = 2.5e+01 erank = 22.0 fun_eval: 61696\n",
      "swp: 5/5 er_rel = 1.4e-02 er_abs = 2.7e+01 erank = 26.0 fun_eval: 86272\n",
      "0.010363505266255249 0.21600000000000014\n",
      "swp: 0/5 er_rel = 1.3e-02 er_abs = 2.3e+01 erank = 5.0 fun_eval: 4096\n",
      "swp: 1/5 er_rel = 1.3e-02 er_abs = 2.3e+01 erank = 7.0 fun_eval: 10240\n",
      "swp: 2/5 er_rel = 1.0e-02 er_abs = 1.9e+01 erank = 10.0 fun_eval: 18688\n",
      "swp: 3/5 er_rel = 1.1e-02 er_abs = 2.0e+01 erank = 14.0 fun_eval: 30976\n",
      "swp: 4/5 er_rel = 1.2e-02 er_abs = 2.3e+01 erank = 18.0 fun_eval: 47360\n",
      "swp: 5/5 er_rel = 1.3e-02 er_abs = 2.3e+01 erank = 22.0 fun_eval: 67840\n",
      "0.01064459322178594 0.22400000000000014\n",
      "swp: 0/5 er_rel = 1.3e-02 er_abs = 2.3e+01 erank = 6.0 fun_eval: 4352\n",
      "swp: 1/5 er_rel = 1.3e-02 er_abs = 2.3e+01 erank = 10.0 fun_eval: 12544\n",
      "swp: 2/5 er_rel = 1.1e-02 er_abs = 2.0e+01 erank = 14.0 fun_eval: 24832\n",
      "swp: 3/5 er_rel = 1.3e-02 er_abs = 2.4e+01 erank = 18.0 fun_eval: 41216\n",
      "swp: 4/5 er_rel = 1.3e-02 er_abs = 2.5e+01 erank = 22.0 fun_eval: 61696\n",
      "swp: 5/5 er_rel = 1.3e-02 er_abs = 2.5e+01 erank = 26.0 fun_eval: 86272\n",
      "0.009787808423832206 0.23200000000000015\n",
      "swp: 0/5 er_rel = 1.1e-02 er_abs = 2.1e+01 erank = 5.0 fun_eval: 4096\n",
      "swp: 1/5 er_rel = 1.2e-02 er_abs = 2.2e+01 erank = 9.0 fun_eval: 11264\n",
      "swp: 2/5 er_rel = 1.3e-02 er_abs = 2.4e+01 erank = 13.0 fun_eval: 22528\n",
      "swp: 3/5 er_rel = 1.2e-02 er_abs = 2.2e+01 erank = 17.0 fun_eval: 37888\n",
      "swp: 4/5 er_rel = 1.3e-02 er_abs = 2.4e+01 erank = 21.0 fun_eval: 57344\n",
      "swp: 5/5 er_rel = 1.3e-02 er_abs = 2.5e+01 erank = 25.0 fun_eval: 80896\n",
      "0.010191516946246848 0.24000000000000016\n",
      "swp: 0/5 er_rel = 1.2e-02 er_abs = 2.3e+01 erank = 5.0 fun_eval: 4096\n",
      "swp: 1/5 er_rel = 1.1e-02 er_abs = 2.0e+01 erank = 9.0 fun_eval: 11264\n",
      "swp: 2/5 er_rel = 1.2e-02 er_abs = 2.3e+01 erank = 13.0 fun_eval: 22528\n",
      "swp: 3/5 er_rel = 1.1e-02 er_abs = 2.1e+01 erank = 17.0 fun_eval: 37888\n",
      "swp: 4/5 er_rel = 1.2e-02 er_abs = 2.3e+01 erank = 21.0 fun_eval: 57344\n",
      "swp: 5/5 er_rel = 1.4e-02 er_abs = 2.5e+01 erank = 25.0 fun_eval: 80896\n",
      "0.010268160266019824 0.24800000000000016\n",
      "swp: 0/5 er_rel = 1.2e-02 er_abs = 2.3e+01 erank = 6.0 fun_eval: 4352\n",
      "swp: 1/5 er_rel = 1.2e-02 er_abs = 2.1e+01 erank = 10.0 fun_eval: 12544\n",
      "swp: 2/5 er_rel = 1.3e-02 er_abs = 2.3e+01 erank = 14.0 fun_eval: 24832\n",
      "swp: 3/5 er_rel = 1.2e-02 er_abs = 2.3e+01 erank = 18.0 fun_eval: 41216\n",
      "swp: 4/5 er_rel = 1.3e-02 er_abs = 2.3e+01 erank = 22.0 fun_eval: 61696\n",
      "swp: 5/5 er_rel = 1.4e-02 er_abs = 2.5e+01 erank = 26.0 fun_eval: 86272\n",
      "0.010106105081645837 0.25600000000000017\n",
      "swp: 0/5 er_rel = 1.2e-02 er_abs = 2.1e+01 erank = 5.0 fun_eval: 4096\n",
      "swp: 1/5 er_rel = 1.2e-02 er_abs = 2.2e+01 erank = 8.0 fun_eval: 10496\n",
      "swp: 2/5 er_rel = 1.1e-02 er_abs = 2.1e+01 erank = 12.0 fun_eval: 20736\n",
      "swp: 3/5 er_rel = 1.1e-02 er_abs = 2.0e+01 erank = 16.0 fun_eval: 35072\n",
      "swp: 4/5 er_rel = 1.2e-02 er_abs = 2.2e+01 erank = 20.0 fun_eval: 53504\n",
      "swp: 5/5 er_rel = 1.4e-02 er_abs = 2.5e+01 erank = 24.0 fun_eval: 76032\n",
      "0.01020421034815981 0.2640000000000002\n",
      "swp: 0/5 er_rel = 1.1e-02 er_abs = 2.0e+01 erank = 5.0 fun_eval: 4096\n",
      "swp: 1/5 er_rel = 1.2e-02 er_abs = 2.2e+01 erank = 9.0 fun_eval: 11264\n",
      "swp: 2/5 er_rel = 1.2e-02 er_abs = 2.2e+01 erank = 13.0 fun_eval: 22528\n",
      "swp: 3/5 er_rel = 1.3e-02 er_abs = 2.5e+01 erank = 17.0 fun_eval: 37888\n",
      "swp: 4/5 er_rel = 1.3e-02 er_abs = 2.5e+01 erank = 21.0 fun_eval: 57344\n",
      "swp: 5/5 er_rel = 1.4e-02 er_abs = 2.6e+01 erank = 25.0 fun_eval: 80896\n",
      "0.00944245949869436 0.2720000000000002\n",
      "swp: 0/5 er_rel = 1.1e-02 er_abs = 2.0e+01 erank = 6.0 fun_eval: 4352\n",
      "swp: 1/5 er_rel = 1.1e-02 er_abs = 2.1e+01 erank = 10.0 fun_eval: 12544\n",
      "swp: 2/5 er_rel = 1.1e-02 er_abs = 2.1e+01 erank = 14.0 fun_eval: 24832\n",
      "swp: 3/5 er_rel = 1.2e-02 er_abs = 2.2e+01 erank = 18.0 fun_eval: 41216\n",
      "swp: 4/5 er_rel = 1.3e-02 er_abs = 2.4e+01 erank = 22.0 fun_eval: 61696\n",
      "swp: 5/5 er_rel = 1.4e-02 er_abs = 2.6e+01 erank = 26.0 fun_eval: 86272\n",
      "0.009510718333720799 0.2800000000000002\n",
      "swp: 0/5 er_rel = 1.2e-02 er_abs = 2.3e+01 erank = 5.0 fun_eval: 4096\n",
      "swp: 1/5 er_rel = 1.1e-02 er_abs = 2.1e+01 erank = 7.0 fun_eval: 10240\n",
      "swp: 2/5 er_rel = 1.1e-02 er_abs = 2.1e+01 erank = 11.0 fun_eval: 19456\n",
      "swp: 3/5 er_rel = 1.2e-02 er_abs = 2.3e+01 erank = 15.0 fun_eval: 32768\n",
      "swp: 4/5 er_rel = 1.3e-02 er_abs = 2.4e+01 erank = 19.0 fun_eval: 50176\n",
      "swp: 5/5 er_rel = 1.2e-02 er_abs = 2.3e+01 erank = 23.0 fun_eval: 71680\n",
      "0.009619456316741397 0.2880000000000002\n",
      "swp: 0/5 er_rel = 1.2e-02 er_abs = 2.2e+01 erank = 5.0 fun_eval: 4096\n",
      "swp: 1/5 er_rel = 1.1e-02 er_abs = 2.0e+01 erank = 8.0 fun_eval: 10496\n",
      "swp: 2/5 er_rel = 1.0e-02 er_abs = 1.9e+01 erank = 12.0 fun_eval: 20736\n",
      "swp: 3/5 er_rel = 1.2e-02 er_abs = 2.2e+01 erank = 16.0 fun_eval: 35072\n",
      "swp: 4/5 er_rel = 1.3e-02 er_abs = 2.3e+01 erank = 20.0 fun_eval: 53504\n",
      "swp: 5/5 er_rel = 1.3e-02 er_abs = 2.5e+01 erank = 24.0 fun_eval: 76032\n",
      "0.009378655239984926 0.2960000000000002\n",
      "swp: 0/5 er_rel = 1.2e-02 er_abs = 2.3e+01 erank = 5.0 fun_eval: 4096\n",
      "swp: 1/5 er_rel = 1.2e-02 er_abs = 2.2e+01 erank = 9.0 fun_eval: 11264\n",
      "swp: 2/5 er_rel = 1.2e-02 er_abs = 2.2e+01 erank = 13.0 fun_eval: 22528\n",
      "swp: 3/5 er_rel = 1.2e-02 er_abs = 2.2e+01 erank = 17.0 fun_eval: 37888\n",
      "swp: 4/5 er_rel = 1.2e-02 er_abs = 2.3e+01 erank = 21.0 fun_eval: 57344\n",
      "swp: 5/5 er_rel = 1.3e-02 er_abs = 2.5e+01 erank = 25.0 fun_eval: 80896\n",
      "0.01005317566044958 0.3040000000000002\n",
      "swp: 0/5 er_rel = 1.5e-02 er_abs = 2.9e+01 erank = 6.0 fun_eval: 4352\n",
      "swp: 1/5 er_rel = 1.4e-02 er_abs = 2.6e+01 erank = 9.0 fun_eval: 11776\n",
      "swp: 2/5 er_rel = 1.3e-02 er_abs = 2.4e+01 erank = 13.0 fun_eval: 23040\n",
      "swp: 3/5 er_rel = 1.3e-02 er_abs = 2.5e+01 erank = 17.0 fun_eval: 38400\n",
      "swp: 4/5 er_rel = 1.4e-02 er_abs = 2.5e+01 erank = 21.0 fun_eval: 57856\n",
      "swp: 5/5 er_rel = 1.4e-02 er_abs = 2.5e+01 erank = 25.0 fun_eval: 81408\n",
      "0.010305875602302736 0.3120000000000002\n",
      "swp: 0/5 er_rel = 1.2e-02 er_abs = 2.2e+01 erank = 5.0 fun_eval: 4096\n",
      "swp: 1/5 er_rel = 1.2e-02 er_abs = 2.2e+01 erank = 8.0 fun_eval: 10496\n",
      "swp: 2/5 er_rel = 1.2e-02 er_abs = 2.2e+01 erank = 12.0 fun_eval: 20736\n",
      "swp: 3/5 er_rel = 1.4e-02 er_abs = 2.6e+01 erank = 16.0 fun_eval: 35072\n",
      "swp: 4/5 er_rel = 1.5e-02 er_abs = 2.8e+01 erank = 20.0 fun_eval: 53504\n",
      "swp: 5/5 er_rel = 1.4e-02 er_abs = 2.6e+01 erank = 24.0 fun_eval: 76032\n",
      "0.009961915851182395 0.32000000000000023\n",
      "swp: 0/5 er_rel = 1.0e-02 er_abs = 2.0e+01 erank = 6.0 fun_eval: 4352\n",
      "swp: 1/5 er_rel = 1.1e-02 er_abs = 2.0e+01 erank = 9.0 fun_eval: 11776\n",
      "swp: 2/5 er_rel = 1.1e-02 er_abs = 2.0e+01 erank = 13.0 fun_eval: 23040\n",
      "swp: 3/5 er_rel = 1.1e-02 er_abs = 2.1e+01 erank = 17.0 fun_eval: 38400\n",
      "swp: 4/5 er_rel = 1.2e-02 er_abs = 2.2e+01 erank = 21.0 fun_eval: 57856\n",
      "swp: 5/5 er_rel = 1.4e-02 er_abs = 2.5e+01 erank = 25.0 fun_eval: 81408\n",
      "0.009276811879945314 0.32800000000000024\n",
      "swp: 0/5 er_rel = 1.1e-02 er_abs = 2.0e+01 erank = 5.0 fun_eval: 4096\n",
      "swp: 1/5 er_rel = 1.2e-02 er_abs = 2.2e+01 erank = 8.0 fun_eval: 10496\n",
      "swp: 2/5 er_rel = 1.1e-02 er_abs = 2.0e+01 erank = 12.0 fun_eval: 20736\n",
      "swp: 3/5 er_rel = 1.1e-02 er_abs = 2.0e+01 erank = 16.0 fun_eval: 35072\n",
      "swp: 4/5 er_rel = 1.2e-02 er_abs = 2.2e+01 erank = 20.0 fun_eval: 53504\n",
      "swp: 5/5 er_rel = 1.3e-02 er_abs = 2.4e+01 erank = 24.0 fun_eval: 76032\n",
      "0.009634971608332713 0.33600000000000024\n",
      "swp: 0/5 er_rel = 1.3e-02 er_abs = 2.4e+01 erank = 5.0 fun_eval: 4096\n",
      "swp: 1/5 er_rel = 1.2e-02 er_abs = 2.2e+01 erank = 8.0 fun_eval: 10496\n",
      "swp: 2/5 er_rel = 1.1e-02 er_abs = 2.1e+01 erank = 12.0 fun_eval: 20736\n",
      "swp: 3/5 er_rel = 1.3e-02 er_abs = 2.3e+01 erank = 16.0 fun_eval: 35072\n",
      "swp: 4/5 er_rel = 1.3e-02 er_abs = 2.5e+01 erank = 20.0 fun_eval: 53504\n",
      "swp: 5/5 er_rel = 1.4e-02 er_abs = 2.5e+01 erank = 24.0 fun_eval: 76032\n",
      "0.010653669351491039 0.34400000000000025\n",
      "swp: 0/5 er_rel = 1.1e-02 er_abs = 2.0e+01 erank = 5.0 fun_eval: 4096\n",
      "swp: 1/5 er_rel = 1.2e-02 er_abs = 2.2e+01 erank = 9.0 fun_eval: 11264\n",
      "swp: 2/5 er_rel = 1.1e-02 er_abs = 2.1e+01 erank = 13.0 fun_eval: 22528\n",
      "swp: 3/5 er_rel = 1.4e-02 er_abs = 2.5e+01 erank = 17.0 fun_eval: 37888\n",
      "swp: 4/5 er_rel = 1.4e-02 er_abs = 2.7e+01 erank = 21.0 fun_eval: 57344\n",
      "swp: 5/5 er_rel = 1.4e-02 er_abs = 2.6e+01 erank = 25.0 fun_eval: 80896\n",
      "0.01079543787877398 0.35200000000000026\n",
      "swp: 0/5 er_rel = 1.6e-02 er_abs = 3.0e+01 erank = 5.0 fun_eval: 4096\n",
      "swp: 1/5 er_rel = 1.2e-02 er_abs = 2.2e+01 erank = 7.0 fun_eval: 10240\n",
      "swp: 2/5 er_rel = 1.2e-02 er_abs = 2.3e+01 erank = 11.0 fun_eval: 19456\n",
      "swp: 3/5 er_rel = 1.2e-02 er_abs = 2.3e+01 erank = 15.0 fun_eval: 32768\n",
      "swp: 4/5 er_rel = 1.3e-02 er_abs = 2.4e+01 erank = 19.0 fun_eval: 50176\n",
      "swp: 5/5 er_rel = 1.3e-02 er_abs = 2.5e+01 erank = 23.0 fun_eval: 71680\n",
      "0.013935360960149147 0.36000000000000026\n",
      "swp: 0/5 er_rel = 1.6e-02 er_abs = 2.9e+01 erank = 6.0 fun_eval: 4352\n",
      "swp: 1/5 er_rel = 1.2e-02 er_abs = 2.3e+01 erank = 10.0 fun_eval: 12544\n",
      "swp: 2/5 er_rel = 1.2e-02 er_abs = 2.3e+01 erank = 14.0 fun_eval: 24832\n",
      "swp: 3/5 er_rel = 1.3e-02 er_abs = 2.5e+01 erank = 18.0 fun_eval: 41216\n",
      "swp: 4/5 er_rel = 1.4e-02 er_abs = 2.7e+01 erank = 22.0 fun_eval: 61696\n",
      "swp: 5/5 er_rel = 1.5e-02 er_abs = 2.9e+01 erank = 26.0 fun_eval: 86272\n",
      "0.015937515701016834 0.36800000000000027\n",
      "swp: 0/5 er_rel = 1.8e-02 er_abs = 3.4e+01 erank = 5.0 fun_eval: 4096\n",
      "swp: 1/5 er_rel = 1.3e-02 er_abs = 2.5e+01 erank = 9.0 fun_eval: 11264\n",
      "swp: 2/5 er_rel = 1.3e-02 er_abs = 2.4e+01 erank = 13.0 fun_eval: 22528\n",
      "swp: 3/5 er_rel = 1.4e-02 er_abs = 2.7e+01 erank = 17.0 fun_eval: 37888\n",
      "swp: 4/5 er_rel = 1.5e-02 er_abs = 2.8e+01 erank = 21.0 fun_eval: 57344\n",
      "swp: 5/5 er_rel = 1.4e-02 er_abs = 2.7e+01 erank = 25.0 fun_eval: 80896\n",
      "0.015359131113928738 0.3760000000000003\n",
      "swp: 0/5 er_rel = 1.5e-02 er_abs = 2.7e+01 erank = 5.0 fun_eval: 4096\n",
      "swp: 1/5 er_rel = 1.3e-02 er_abs = 2.4e+01 erank = 8.0 fun_eval: 10496\n",
      "swp: 2/5 er_rel = 1.5e-02 er_abs = 2.8e+01 erank = 12.0 fun_eval: 20736\n",
      "swp: 3/5 er_rel = 1.5e-02 er_abs = 2.8e+01 erank = 16.0 fun_eval: 35072\n",
      "swp: 4/5 er_rel = 1.2e-02 er_abs = 2.3e+01 erank = 20.0 fun_eval: 53504\n",
      "swp: 5/5 er_rel = 1.4e-02 er_abs = 2.6e+01 erank = 24.0 fun_eval: 76032\n",
      "0.013647327615477375 0.3840000000000003\n",
      "swp: 0/5 er_rel = 1.4e-02 er_abs = 2.5e+01 erank = 6.0 fun_eval: 4352\n",
      "swp: 1/5 er_rel = 1.3e-02 er_abs = 2.4e+01 erank = 8.0 fun_eval: 11520\n",
      "swp: 2/5 er_rel = 1.2e-02 er_abs = 2.2e+01 erank = 12.0 fun_eval: 21760\n",
      "swp: 3/5 er_rel = 1.2e-02 er_abs = 2.3e+01 erank = 16.0 fun_eval: 36096\n",
      "swp: 4/5 er_rel = 1.3e-02 er_abs = 2.4e+01 erank = 20.0 fun_eval: 54528\n",
      "swp: 5/5 er_rel = 1.4e-02 er_abs = 2.6e+01 erank = 24.0 fun_eval: 77056\n",
      "0.013291484742055727 0.3920000000000003\n",
      "swp: 0/5 er_rel = 1.4e-02 er_abs = 2.7e+01 erank = 5.0 fun_eval: 4096\n",
      "swp: 1/5 er_rel = 1.3e-02 er_abs = 2.3e+01 erank = 9.0 fun_eval: 11264\n",
      "swp: 2/5 er_rel = 1.3e-02 er_abs = 2.3e+01 erank = 13.0 fun_eval: 22528\n",
      "swp: 3/5 er_rel = 1.4e-02 er_abs = 2.6e+01 erank = 17.0 fun_eval: 37888\n",
      "swp: 4/5 er_rel = 1.4e-02 er_abs = 2.7e+01 erank = 21.0 fun_eval: 57344\n",
      "swp: 5/5 er_rel = 1.5e-02 er_abs = 2.8e+01 erank = 25.0 fun_eval: 80896\n",
      "0.013266201066545491 0.4000000000000003\n"
     ]
    }
   ],
   "source": [
    "def my_fun2(ind):\n",
    "    x = amin + h_grid*ind\n",
    "    res = compute_value2(x.T, tau, nsteps, nsamples, sol)\n",
    "    return res\n",
    "\n",
    "nsamples = 100\n",
    "tau = 8e-3\n",
    "tm = 0.0\n",
    "for _ in range(50):\n",
    "    tm = tm + tau*nsteps\n",
    "    sol1 = cross(my_fun2, sol, eps=1e-5, nswp=6, kickrank=1, rf=1.1)\n",
    "    sol1 = sol1.round(1e-2)\n",
    "    print((sol1-sol).norm()/sol.norm(), tm)\n",
    "\n",
    "    sol = sol1.copy()"
   ]
  },
  {
   "cell_type": "code",
   "execution_count": 42,
   "metadata": {},
   "outputs": [
    {
     "name": "stdout",
     "output_type": "stream",
     "text": [
      "1433.9278239473535\n"
     ]
    },
    {
     "data": {
      "text/plain": [
       "<matplotlib.colorbar.Colorbar at 0x1817d9a7f0>"
      ]
     },
     "execution_count": 42,
     "metadata": {},
     "output_type": "execute_result"
    },
    {
     "data": {
      "image/png": "[encoded data removed]",
      "text/plain": [
       "<Figure size 432x288 with 2 Axes>"
      ]
     },
     "metadata": {
      "needs_background": "light"
     },
     "output_type": "display_data"
    }
   ],
   "source": [
    "M = 128\n",
    "t = np.linspace(amin, amax, M)\n",
    "X, Y = np.meshgrid(t, t)\n",
    "Xall = np.vstack((X.flatten(), Y.flatten())).T\n",
    "res = evaluate_approximant(sol, Xall).reshape((M, M))\n",
    "print(np.sum(np.exp(-res)))\n",
    "plt.contourf(t, t, np.exp(-res))\n",
    "plt.colorbar()"
   ]
  },
  {
   "cell_type": "code",
   "execution_count": 43,
   "metadata": {},
   "outputs": [
    {
     "name": "stdout",
     "output_type": "stream",
     "text": [
      "swp: 0/5 er_rel = 3.1e-01 er_abs = 5.7e+02 erank = 10.0 fun_eval: 8192\n",
      "swp: 1/5 er_rel = 1.3e-02 er_abs = 2.5e+01 erank = 14.0 fun_eval: 20480\n",
      "swp: 2/5 er_rel = 1.3e-02 er_abs = 2.5e+01 erank = 18.0 fun_eval: 36864\n",
      "swp: 3/5 er_rel = 1.3e-02 er_abs = 2.4e+01 erank = 22.0 fun_eval: 57344\n",
      "swp: 4/5 er_rel = 1.5e-02 er_abs = 2.8e+01 erank = 26.0 fun_eval: 81920\n",
      "swp: 5/5 er_rel = 1.6e-02 er_abs = 3.0e+01 erank = 30.0 fun_eval: 110592\n",
      "swp: 0/5 er_rel = 3.1e-01 er_abs = 5.7e+02 erank = 10.0 fun_eval: 8192\n",
      "swp: 1/5 er_rel = 1.2e-02 er_abs = 2.3e+01 erank = 14.0 fun_eval: 20480\n",
      "swp: 2/5 er_rel = 1.4e-02 er_abs = 2.5e+01 erank = 18.0 fun_eval: 36864\n",
      "swp: 3/5 er_rel = 1.4e-02 er_abs = 2.7e+01 erank = 22.0 fun_eval: 57344\n",
      "swp: 4/5 er_rel = 1.5e-02 er_abs = 2.9e+01 erank = 26.0 fun_eval: 81920\n",
      "swp: 5/5 er_rel = 1.5e-02 er_abs = 2.9e+01 erank = 30.0 fun_eval: 110592\n",
      "swp: 0/5 er_rel = 3.1e-01 er_abs = 5.8e+02 erank = 10.0 fun_eval: 8192\n",
      "swp: 1/5 er_rel = 1.3e-02 er_abs = 2.4e+01 erank = 14.0 fun_eval: 20480\n",
      "swp: 2/5 er_rel = 1.2e-02 er_abs = 2.3e+01 erank = 18.0 fun_eval: 36864\n",
      "swp: 3/5 er_rel = 1.3e-02 er_abs = 2.5e+01 erank = 22.0 fun_eval: 57344\n",
      "swp: 4/5 er_rel = 1.4e-02 er_abs = 2.6e+01 erank = 26.0 fun_eval: 81920\n",
      "swp: 5/5 er_rel = 1.5e-02 er_abs = 2.8e+01 erank = 30.0 fun_eval: 110592\n"
     ]
    }
   ],
   "source": [
    "x1 = cross(my_fun2, init, eps=1e-5, nswp=6, kickrank=1, rf=1.1)\n",
    "x2 = cross(my_fun2, init, eps=1e-5, nswp=6, kickrank=1, rf=1.1)\n",
    "x3 = cross(my_fun2, init, eps=1e-5, nswp=6, kickrank=1, rf=1.1)"
   ]
  },
  {
   "cell_type": "code",
   "execution_count": 44,
   "metadata": {},
   "outputs": [],
   "source": [
    "xx = (x1+x2+x3)*(1.0/3)\n",
    "xx = xx.round(1e-3)"
   ]
  },
  {
   "cell_type": "code",
   "execution_count": 45,
   "metadata": {},
   "outputs": [
    {
     "data": {
      "text/plain": [
       "This is a 2-dimensional tensor \n",
       "r(0)=1, n(0)=256 \n",
       "r(1)=27, n(1)=256 \n",
       "r(2)=1 "
      ]
     },
     "execution_count": 45,
     "metadata": {},
     "output_type": "execute_result"
    }
   ],
   "source": [
    "x3.round(1e-3)"
   ]
  },
  {
   "cell_type": "code",
   "execution_count": 46,
   "metadata": {},
   "outputs": [
    {
     "ename": "NameError",
     "evalue": "name 'x4' is not defined",
     "output_type": "error",
     "traceback": [
      "\u001b[0;31m---------------------------------------------------------------------------\u001b[0m",
      "\u001b[0;31mNameError\u001b[0m                                 Traceback (most recent call last)",
      "\u001b[0;32m<ipython-input-46-1fbf849d7d3f>\u001b[0m in \u001b[0;36m<module>\u001b[0;34m\u001b[0m\n\u001b[1;32m      1\u001b[0m \u001b[0mt\u001b[0m \u001b[0;34m=\u001b[0m \u001b[0mnp\u001b[0m\u001b[0;34m.\u001b[0m\u001b[0mlinspace\u001b[0m\u001b[0;34m(\u001b[0m\u001b[0mamin\u001b[0m\u001b[0;34m,\u001b[0m \u001b[0mamax\u001b[0m\u001b[0;34m,\u001b[0m \u001b[0mn\u001b[0m\u001b[0;34m)\u001b[0m\u001b[0;34m\u001b[0m\u001b[0;34m\u001b[0m\u001b[0m\n\u001b[1;32m      2\u001b[0m \u001b[0mx\u001b[0m\u001b[0;34m,\u001b[0m \u001b[0my\u001b[0m \u001b[0;34m=\u001b[0m \u001b[0mnp\u001b[0m\u001b[0;34m.\u001b[0m\u001b[0mmeshgrid\u001b[0m\u001b[0;34m(\u001b[0m\u001b[0mt\u001b[0m\u001b[0;34m,\u001b[0m \u001b[0mt\u001b[0m\u001b[0;34m)\u001b[0m\u001b[0;34m\u001b[0m\u001b[0;34m\u001b[0m\u001b[0m\n\u001b[0;32m----> 3\u001b[0;31m \u001b[0mx4_1\u001b[0m \u001b[0;34m=\u001b[0m \u001b[0mx4\u001b[0m\u001b[0;34m.\u001b[0m\u001b[0mfull\u001b[0m\u001b[0;34m(\u001b[0m\u001b[0;34m)\u001b[0m\u001b[0;34m\u001b[0m\u001b[0;34m\u001b[0m\u001b[0m\n\u001b[0m\u001b[1;32m      4\u001b[0m \u001b[0mx4_1\u001b[0m \u001b[0;34m=\u001b[0m \u001b[0mnp\u001b[0m\u001b[0;34m.\u001b[0m\u001b[0mexp\u001b[0m\u001b[0;34m(\u001b[0m\u001b[0;34m-\u001b[0m\u001b[0mx4_1\u001b[0m\u001b[0;34m)\u001b[0m\u001b[0;34m\u001b[0m\u001b[0;34m\u001b[0m\u001b[0m\n\u001b[1;32m      5\u001b[0m \u001b[0mcf\u001b[0m \u001b[0;34m=\u001b[0m \u001b[0mnp\u001b[0m\u001b[0;34m.\u001b[0m\u001b[0msum\u001b[0m\u001b[0;34m(\u001b[0m\u001b[0mx4_1\u001b[0m\u001b[0;34m)\u001b[0m\u001b[0;34m*\u001b[0m\u001b[0mh_grid\u001b[0m\u001b[0;34m**\u001b[0m\u001b[0;36m2\u001b[0m\u001b[0;34m\u001b[0m\u001b[0;34m\u001b[0m\u001b[0m\n",
      "\u001b[0;31mNameError\u001b[0m: name 'x4' is not defined"
     ]
    }
   ],
   "source": [
    "t = np.linspace(amin, amax, n)\n",
    "x, y = np.meshgrid(t, t)\n",
    "x4_1 = x4.full()\n",
    "x4_1 = np.exp(-x4_1)\n",
    "cf = np.sum(x4_1)*h_grid**2\n",
    "x4_1 = x4_1/cf\n",
    "plt.contourf(x, y, x4_1)\n",
    "plt.colorbar()"
   ]
  },
  {
   "cell_type": "markdown",
   "metadata": {},
   "source": [
    "## Equation for rho\n",
    "\n",
    "Suppose $x = F(z)$ is the mapping. The we have\n",
    "\n",
    "$$\\rho(x) dx = \\rho(F(z)) \\det \\frac{dF}{dz} dz,$$\n",
    "\n",
    "\n",
    "\n",
    "The equation, as far I remember, has the form\n",
    "\n",
    "$$\\frac{d \\log \\rho}{dt} = \\mathrm{Tr} \\frac{d z(t)}{ dx}$$\n",
    "\n",
    "The problem is that mapping \"warps the elementary cube\". Suppose a 1d case. Then we need to estimate the probability to fall \n",
    "into the interval $[x, x+dx]$. The \"preimage\" of the is is $[F^{-1}(x), F^{-1}(x+dx)]$\n",
    "\n",
    "thus we need to compute the derivative of the $F^{-1}(x)$ with respect to the final point. \n",
    "\n",
    "Still: the likelihood of observing a point is $\\log \\rho_0 (F^{-1}(x))$. Then we will only need to normalize it."
   ]
  },
  {
   "cell_type": "code",
   "execution_count": null,
   "metadata": {},
   "outputs": [],
   "source": [
    "t = np.linspace(amin, amax, n)\n",
    "x, y = np.meshgrid(t, t)\n",
    "res = A[0, 0]*x**2+(A[0, 1] + A[1, 0])*x*y + A[1, 1]*y**2\n",
    "res = res/noise\n",
    "x4_1 = np.exp(-res)\n",
    "cf = np.sum(x4_1)*h_grid**2\n",
    "x4_1 = x4_1/cf\n",
    "plt.contourf(x, y, x4_1)\n",
    "plt.colorbar()"
   ]
  },
  {
   "cell_type": "code",
   "execution_count": null,
   "metadata": {},
   "outputs": [],
   "source": [
    "plt.contourf(x, y, res)\n",
    "plt.colorbar()"
   ]
  },
  {
   "cell_type": "markdown",
   "metadata": {},
   "source": [
    "## Boxes\n",
    "\n",
    "We fix the intermediate time steps, and compute the boxes that are needed to compute the final box output.\n",
    "\n",
    "In order to compute the boxes, we can sample from the initial density a bunch of trajectories, and record the intermediate boxes \n",
    "for all time steps; then we will be able to recover all the reasonable sizes.\n",
    "\n",
    "Then we can fix the box. If the trajectory falls outside the box, we just throw it away from the expectation."
   ]
  },
  {
   "cell_type": "code",
   "execution_count": null,
   "metadata": {},
   "outputs": [],
   "source": [
    "def compute_boxes(w, tau, nsteps, noise):\n",
    "    #w is d x K\n",
    "    w1 = w.copy()\n",
    "    res = []\n",
    "    for _ in range(nsteps):\n",
    "        mx = np.mean(w1, axis=1) + 2*np.std(w1, axis=1)\n",
    "        mn = np.mean(w1, axis=1) - 2*np.std(w1, axis=1)\n",
    "        res.append([mn, mx])\n",
    "        w1 = w1 - tau*A@w1 + np.sqrt(tau)*np.random.randn(*w1.shape)*noise\n",
    "    return res"
   ]
  },
  {
   "cell_type": "code",
   "execution_count": null,
   "metadata": {},
   "outputs": [],
   "source": [
    "K = 10000\n",
    "w = np.random.randn(d, K)\n",
    "tau = 1e-2\n",
    "nsteps = 300\n",
    "\n",
    "res = compute_boxes(w, tau, nsteps, noise)"
   ]
  },
  {
   "cell_type": "code",
   "execution_count": null,
   "metadata": {},
   "outputs": [],
   "source": [
    "plt.plot([t[0][0] for t in res])"
   ]
  },
  {
   "cell_type": "code",
   "execution_count": null,
   "metadata": {},
   "outputs": [],
   "source": []
  }
 ],
 "metadata": {
  "accelerator": "GPU",
  "colab": {
   "collapsed_sections": [],
   "name": "Fokker-cross.ipynb",
   "provenance": [],
   "version": "0.3.2"
  },
  "kernelspec": {
   "display_name": "Python 3",
   "language": "python",
   "name": "python3"
  },
  "language_info": {
   "codemirror_mode": {
    "name": "ipython",
    "version": 3
   },
   "file_extension": ".py",
   "mimetype": "text/x-python",
   "name": "python",
   "nbconvert_exporter": "python",
   "pygments_lexer": "ipython3",
   "version": "3.7.1"
  }
 },
 "nbformat": 4,
 "nbformat_minor": 2
}
