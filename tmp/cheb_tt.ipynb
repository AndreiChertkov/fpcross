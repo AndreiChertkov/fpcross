{
 "cells": [
  {
   "cell_type": "markdown",
   "metadata": {},
   "source": [
    "## Tests for Chebyshev polynomials (TT-format)\n",
    "\n",
    "> Interpolation of functions by Chebyshev polynomials in the tensor train (TT) format."
   ]
  },
  {
   "cell_type": "code",
   "execution_count": 1,
   "metadata": {},
   "outputs": [],
   "source": [
    "import sys\n",
    "import time\n",
    "\n",
    "import numpy as np\n",
    "import matplotlib.pyplot as plt\n",
    "\n",
    "import tt\n",
    "\n",
    "sys.path.append('./../lib')\n",
    "import cheb.cheb_tt as ch\n",
    "import cheb.utils as chu"
   ]
  },
  {
   "cell_type": "code",
   "execution_count": 2,
   "metadata": {},
   "outputs": [
    {
     "name": "stdout",
     "output_type": "stream",
     "text": [
      "---------------------- Interpolation 4D (TT)\n",
      "Total time  7.935 sec. \n",
      "---------------------- Calculation 4D (TT)\n",
      "Maximum relative error of results on check mesh: 2.20e-15\n",
      "Total time  0.003 sec. \n"
     ]
    }
   ],
   "source": [
    "def func(x):\n",
    "    return 7. + x[0, ]**2 + np.exp(-x[1, ]) + np.sin(x[2, ]) + x[3, ]**3\n",
    "\n",
    "_t = time.time()\n",
    "\n",
    "tol = 1.E-10\n",
    "\n",
    "n = np.array([32, 22, 24, 21])\n",
    "l = np.array([\n",
    "    [-1., 2.],\n",
    "    [-4., 1.],\n",
    "    [-3., 2.],\n",
    "    [-1., 1.]\n",
    "])\n",
    "\n",
    "Y = np.zeros(n)\n",
    "for ind, v in np.ndenumerate(Y):\n",
    "    Y[ind] = func(chu.point(np.array(ind), n, l))\n",
    "\n",
    "Y = tt.tensor(Y, tol)\n",
    "A = ch.prep(Y, tol)\n",
    "\n",
    "print('---------------------- Interpolation 4D (TT)')\n",
    "print('Total time %6.3f sec. '%(time.time() - _t))\n",
    "\n",
    "_t = time.time()\n",
    "\n",
    "a, b = -1., 1.\n",
    "X = a + np.random.random((4, 10))*(b - a)\n",
    "f_real = func(X)\n",
    "f_calc = ch.calc(X, A, l)\n",
    "\n",
    "err = np.max(np.abs((f_calc-f_real) / f_real))\n",
    "\n",
    "print ('---------------------- Calculation 4D (TT)')\n",
    "print('Maximum relative error of results on check mesh: %-8.2e'%err) \n",
    "print('Total time %6.3f sec. '%(time.time() - _t))"
   ]
  },
  {
   "cell_type": "code",
   "execution_count": null,
   "metadata": {},
   "outputs": [],
   "source": []
  }
 ],
 "metadata": {
  "kernelspec": {
   "display_name": "Python 3",
   "language": "python",
   "name": "python3"
  },
  "language_info": {
   "codemirror_mode": {
    "name": "ipython",
    "version": 3
   },
   "file_extension": ".py",
   "mimetype": "text/x-python",
   "name": "python",
   "nbconvert_exporter": "python",
   "pygments_lexer": "ipython3",
   "version": "3.7.1"
  }
 },
 "nbformat": 4,
 "nbformat_minor": 2
}
