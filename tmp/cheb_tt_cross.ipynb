{
 "cells": [
  {
   "cell_type": "markdown",
   "metadata": {},
   "source": [
    "## Tests for Chebyshev interpolation with cross approximation (TT-format)\n",
    "\n",
    "> Interpolation of functions by Chebyshev polynomials via cross approximation in the tensor train (TT) format."
   ]
  },
  {
   "cell_type": "code",
   "execution_count": 1,
   "metadata": {},
   "outputs": [
    {
     "ename": "ModuleNotFoundError",
     "evalue": "No module named 'cheb.cross'",
     "output_type": "error",
     "traceback": [
      "\u001b[0;31m---------------------------------------------------------------------------\u001b[0m",
      "\u001b[0;31mModuleNotFoundError\u001b[0m                       Traceback (most recent call last)",
      "\u001b[0;32m<ipython-input-1-e382c8d2f21f>\u001b[0m in \u001b[0;36m<module>\u001b[0;34m\u001b[0m\n\u001b[1;32m     12\u001b[0m \u001b[0;32mimport\u001b[0m \u001b[0mcheb\u001b[0m\u001b[0;34m.\u001b[0m\u001b[0mcheb_tt\u001b[0m \u001b[0;32mas\u001b[0m \u001b[0mch\u001b[0m\u001b[0;34m\u001b[0m\u001b[0;34m\u001b[0m\u001b[0m\n\u001b[1;32m     13\u001b[0m \u001b[0;32mimport\u001b[0m \u001b[0mcheb\u001b[0m\u001b[0;34m.\u001b[0m\u001b[0mutils\u001b[0m \u001b[0;32mas\u001b[0m \u001b[0mchu\u001b[0m\u001b[0;34m\u001b[0m\u001b[0;34m\u001b[0m\u001b[0m\n\u001b[0;32m---> 14\u001b[0;31m \u001b[0;32mimport\u001b[0m \u001b[0mcheb\u001b[0m\u001b[0;34m.\u001b[0m\u001b[0mcross\u001b[0m \u001b[0;32mas\u001b[0m \u001b[0mcr\u001b[0m\u001b[0;34m\u001b[0m\u001b[0;34m\u001b[0m\u001b[0m\n\u001b[0m",
      "\u001b[0;31mModuleNotFoundError\u001b[0m: No module named 'cheb.cross'"
     ]
    }
   ],
   "source": [
    "import sys\n",
    "import time\n",
    "\n",
    "import numpy as np\n",
    "\n",
    "import matplotlib.pyplot as plt\n",
    "import matplotlib.gridspec as gridspec\n",
    "\n",
    "import tt\n",
    "\n",
    "sys.path.append('./../lib')\n",
    "import cheb.cheb_tt as ch\n",
    "import cheb.utils as chu\n",
    "import cheb.cross as cr"
   ]
  },
  {
   "cell_type": "markdown",
   "metadata": {},
   "source": [
    "### Function for approximation and interpolation:\n",
    "\n",
    "$$ f(x) = 1 + e^{-0.5} x^2_1sin(c_1) + e^{-1} x^3_2 sin(2c_2) + \\sum_{k=3}^{n} e^{-0.5k} x_k sin(k c_k); \\;\\; c=const, \\; n>2 $$"
   ]
  },
  {
   "cell_type": "code",
   "execution_count": null,
   "metadata": {},
   "outputs": [],
   "source": [
    "def func(x, c):\n",
    "    k = np.arange(len(x), dtype=float) + 1.\n",
    "    l = np.exp(-0.5*k)\n",
    "    f = l * x * np.sin(k * c)\n",
    "    f[0] *= x[0]\n",
    "    f[1] *= x[1] * x[1]\n",
    "    return 1. + np.sum(f)"
   ]
  },
  {
   "cell_type": "markdown",
   "metadata": {},
   "source": [
    "# Parameters of the calculation"
   ]
  },
  {
   "cell_type": "code",
   "execution_count": null,
   "metadata": {},
   "outputs": [],
   "source": [
    "n_dim = 10\n",
    "c = np.ones(n_dim)\n",
    "n_poi_cr = np.array([10]*n_dim)\n",
    "x_lim_cr = np.array([[-3., 3.]]*n_dim)\n",
    "tol_cr = 1.E-7; tol_tt = 1.E-7\n",
    "file_log = './tmp/cross_appr_log.txt'"
   ]
  },
  {
   "cell_type": "markdown",
   "metadata": {},
   "source": [
    "### Cross approximation"
   ]
  },
  {
   "cell_type": "code",
   "execution_count": null,
   "metadata": {},
   "outputs": [],
   "source": [
    "Time = time.time()\n",
    "f = func; f_args = [c]\n",
    "Y, calc_num, cr_info = cr_appr.calculate_tensor(f, f_args, n_poi_cr, \n",
    "                                                x_lim_cr, tol_cr, file_log)\n",
    "cr_iter, cr_err_rel, cr_err_abs, cr_e_rank = cr_info\n",
    "print \"Number of function's calculations: \", calc_num\n",
    "print \"               * full tensor size: \", np.prod(np.array(n_poi_cr))\n",
    "print \"Ranks of Y tensor                : \", Y.r\n",
    "print \"Average tensor's ranks           : \", cr_e_rank\n",
    "print \"Number of cross iterations       : \", cr_iter\n",
    "print \"Relative error of approximation  : \", cr_err_rel\n",
    "print \"Absolute error of approximation  : \", cr_err_abs\n",
    "G = tt.tensor.to_list(Y); \n",
    "Ysize = 0; \n",
    "for GG in G: Ysize += GG.size\n",
    "print \"Total size of Y cores            : \", Ysize\n",
    "print '----------------------'\n",
    "print 'Total time %6.3f sec. '%(time.time() - Time)"
   ]
  },
  {
   "cell_type": "markdown",
   "metadata": {},
   "source": [
    "### Interpolation by Chebyshev polynomials"
   ]
  },
  {
   "cell_type": "code",
   "execution_count": null,
   "metadata": {},
   "outputs": [],
   "source": [
    "Time = time.time()\n",
    "A = ch_tt.interpolate(Y, tol_tt)\n",
    "print \"Ranks of A tensor    : \", A.r\n",
    "G = tt.tensor.to_list(A)\n",
    "Asize = 0\n",
    "for GG in G: Asize += GG.size\n",
    "print \"Total size of A cores: \", Asize\n",
    "print '----------------------'\n",
    "print 'Total time %6.3f sec. '%(time.time() - Time)"
   ]
  },
  {
   "cell_type": "markdown",
   "metadata": {},
   "source": [
    "### Check of interpolation result on the set of random points"
   ]
  },
  {
   "cell_type": "code",
   "execution_count": null,
   "metadata": {},
   "outputs": [],
   "source": [
    "Time = time.time()\n",
    "poi_num = 1000; a, b = -3., 3.\n",
    "X = a + np.random.random((n_dim, poi_num))*(b - a)\n",
    "f_real = [func(X[:, i], c) for i in range(poi_num)]\n",
    "f_calc = ch_tt.func_val(X, A, x_lim_cr)\n",
    "print 'Maximum relative error of results on check mesh: ', \n",
    "print '%-8.2e'%np.max(np.abs((f_calc-f_real) / f_real))\n",
    "print 'Mean relative error of results on check mesh   : ', \n",
    "print '%-8.2e'%np.mean(np.abs((f_calc-f_real) / f_real))\n",
    "print '----------------------'\n",
    "print 'Total time %6.3f sec. '%(time.time() - Time)"
   ]
  },
  {
   "cell_type": "code",
   "execution_count": null,
   "metadata": {},
   "outputs": [],
   "source": [
    "gs = gridspec.GridSpec(1, 2)\n",
    "gs.update(left=0.05, right=1.5, wspace=0.4)\n",
    "ax1 = plt.subplot(gs[0, 0])\n",
    "ax2 = plt.subplot(gs[0, 1])\n",
    "ax1.set_title('Real and approximated function values on test points')\n",
    "ax2.set_title('Relative error')\n",
    "ax1.plot(np.arange(poi_num)+1, f_real, label='Real') \n",
    "ax1.plot(np.arange(poi_num)+1, f_calc, label='Appr')\n",
    "ax2.plot(np.arange(poi_num)+1, np.abs((f_real-f_calc)/f_real))\n",
    "ax1.legend(loc='best'); ax2.semilogy(); plt.show()"
   ]
  }
 ],
 "metadata": {
  "kernelspec": {
   "display_name": "Python 3",
   "language": "python",
   "name": "python3"
  },
  "language_info": {
   "codemirror_mode": {
    "name": "ipython",
    "version": 3
   },
   "file_extension": ".py",
   "mimetype": "text/x-python",
   "name": "python",
   "nbconvert_exporter": "python",
   "pygments_lexer": "ipython3",
   "version": "3.7.1"
  }
 },
 "nbformat": 4,
 "nbformat_minor": 2
}
