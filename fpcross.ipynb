{
 "cells": [
  {
   "cell_type": "code",
   "execution_count": 1,
   "metadata": {},
   "outputs": [],
   "source": [
    "import numpy as np\n",
    "import matplotlib.pyplot as plt\n",
    "from scipy.integrate import odeint\n",
    "from scipy.interpolate import Rbf, bisplev, RectBivariateSpline\n",
    "from mpl_toolkits.mplot3d import Axes3D"
   ]
  },
  {
   "cell_type": "code",
   "execution_count": 2,
   "metadata": {},
   "outputs": [],
   "source": [
    "# ODE parameters\n",
    "\n",
    "d = 2\n",
    "A = np.array([\n",
    "    [1.0, 0.0],\n",
    "    [1.0, 1.0]\n",
    "])\n",
    "\n",
    "def s_func(x=None, t=None):\n",
    "    '''\n",
    "    Coefficient matrix for random part of ODE\n",
    "    '''\n",
    "    \n",
    "    return np.eye(d, d)\n",
    "\n",
    "def f_func(x=None, t=None):\n",
    "    '''\n",
    "    Rhs for ODE dx / dt = f(x, t)\n",
    "    '''\n",
    "    \n",
    "    return -A@x\n",
    "\n",
    "def fx_func(x=None, t=None):\n",
    "    '''\n",
    "    Partial (x-) derivative of rhs for ODE dx / dt = f(x, t)\n",
    "    '''\n",
    "    \n",
    "    return -A"
   ]
  },
  {
   "cell_type": "code",
   "execution_count": 3,
   "metadata": {},
   "outputs": [],
   "source": [
    "# Time discretization parameters\n",
    "\n",
    "t_min = -3.0\n",
    "t_max = 3.0\n",
    "t_poi = 64\n",
    "t_list = np.linspace(t_min, t_max, t_poi)\n",
    "h = (t_max - t_min) / (t_poi - 1)"
   ]
  },
  {
   "cell_type": "code",
   "execution_count": 4,
   "metadata": {},
   "outputs": [],
   "source": [
    "# Solver options\n",
    "\n",
    "nsteps = 2\n",
    "nsamples = 500"
   ]
  },
  {
   "cell_type": "code",
   "execution_count": 5,
   "metadata": {},
   "outputs": [],
   "source": [
    "def logrho0(x):\n",
    "    '''\n",
    "    Log likelihood for normal distribution\n",
    "    '''\n",
    "    \n",
    "    # res = np.diag(x.T@x)\n",
    "    res = np.einsum('ik,ik->k', x, x)\n",
    "    \n",
    "    return res"
   ]
  },
  {
   "cell_type": "code",
   "execution_count": 6,
   "metadata": {},
   "outputs": [],
   "source": [
    "def sde_step_x(x, t, f, s, h):\n",
    "    '''\n",
    "    One step of Euler-Mayruyama scheme\n",
    "    Input:\n",
    "        x - current value\n",
    "            (1D ndarray)\n",
    "        t - current time\n",
    "            (float)\n",
    "        f - function f(x, t) that return rhs or its value\n",
    "            (1D ndarray or function)\n",
    "        s - function s(x, t) that return stochastic part or its value\n",
    "            (2D ndarray or function)\n",
    "        h - time step\n",
    "            (float)\n",
    "    Output:\n",
    "          - current value\n",
    "            (1D ndarray)\n",
    "    '''\n",
    "    \n",
    "    if callable(f): f = f(x, t)\n",
    "    if callable(s): s = s(x, t)\n",
    "        \n",
    "    e = np.random.randn(*x.shape)\n",
    "    \n",
    "    res = x + h * f + np.sqrt(h) * s * e\n",
    "\n",
    "    return res"
   ]
  },
  {
   "cell_type": "code",
   "execution_count": 7,
   "metadata": {},
   "outputs": [],
   "source": [
    "def sde_step_r(r, x, t, fx, s, h):\n",
    "    '''\n",
    "    One step for probability distribution\n",
    "    r = E r_0 (1-h*Tr(df/dx))\n",
    "    '''\n",
    "    \n",
    "    res = r * (1. - h * np.trace(fx_func(x, t)))\n",
    "    \n",
    "    return res"
   ]
  },
  {
   "cell_type": "code",
   "execution_count": 12,
   "metadata": {},
   "outputs": [],
   "source": [
    "def compute(x0, h, nsteps, nsamples, rho_prev):\n",
    "    x = np.copy(x0)\n",
    "    K = x.shape[1]\n",
    "    x = np.repeat(x.reshape((d, -1)), nsamples, axis=1)\n",
    "    \n",
    "    r = np.ones(x.shape[1])\n",
    "    for _ in range(nsteps):\n",
    "        print('xxx ', x)\n",
    "        r = sde_step_r(r, x, t, fx, s, h)\n",
    "        x = sde_step_x(x, t, f_func, noise, h)\n",
    " \n",
    "    #w = np.exp(-logrho0(x))*eta\n",
    "    w = rho_prev(*x, grid=False)*r\n",
    "    \n",
    "    w = np.reshape(w, (K, nsamples))\n",
    "    res = np.mean(w, axis=1)\n",
    "    return res"
   ]
  },
  {
   "cell_type": "code",
   "execution_count": 9,
   "metadata": {},
   "outputs": [
    {
     "data": {
      "image/png": "[encoded data removed]",
      "text/plain": [
       "<Figure size 432x288 with 1 Axes>"
      ]
     },
     "metadata": {
      "needs_background": "light"
     },
     "output_type": "display_data"
    }
   ],
   "source": [
    "x, y = np.meshgrid(t_list, t_list)\n",
    "w = np.array([x, y]).reshape((2, -1))\n",
    "val = np.exp(-logrho0(w))\n",
    "\n",
    "plt.contourf(val.reshape((t_poi, t_poi)))\n",
    "plt.show()"
   ]
  },
  {
   "cell_type": "code",
   "execution_count": 10,
   "metadata": {},
   "outputs": [],
   "source": [
    "fun = RectBivariateSpline(t_list, t_list, val.reshape((t_poi, t_poi)))\n",
    "#fun = Rbf(x.flatten(), y.flatten(), val.flatten())\n",
    "#fun1 = Rbf(x.flatten(), y.flatten(), res.flatten())"
   ]
  },
  {
   "cell_type": "code",
   "execution_count": 13,
   "metadata": {},
   "outputs": [
    {
     "name": "stdout",
     "output_type": "stream",
     "text": [
      "xxx  [[-3. -3. -3. ...  3.  3.  3.]\n",
      " [-3. -3. -3. ...  3.  3.  3.]]\n"
     ]
    },
    {
     "ename": "NameError",
     "evalue": "name 't' is not defined",
     "output_type": "error",
     "traceback": [
      "\u001b[0;31m---------------------------------------------------------------------------\u001b[0m",
      "\u001b[0;31mNameError\u001b[0m                                 Traceback (most recent call last)",
      "\u001b[0;32m<ipython-input-13-115df91c0683>\u001b[0m in \u001b[0;36m<module>\u001b[0;34m\u001b[0m\n\u001b[0;32m----> 1\u001b[0;31m \u001b[0mres\u001b[0m \u001b[0;34m=\u001b[0m \u001b[0mcompute\u001b[0m\u001b[0;34m(\u001b[0m\u001b[0mw\u001b[0m\u001b[0;34m,\u001b[0m \u001b[0mh\u001b[0m\u001b[0;34m,\u001b[0m \u001b[0mnsteps\u001b[0m\u001b[0;34m,\u001b[0m \u001b[0mnsamples\u001b[0m\u001b[0;34m,\u001b[0m \u001b[0mfun\u001b[0m\u001b[0;34m)\u001b[0m\u001b[0;34m\u001b[0m\u001b[0;34m\u001b[0m\u001b[0m\n\u001b[0m\u001b[1;32m      2\u001b[0m \u001b[0mres\u001b[0m \u001b[0;34m=\u001b[0m \u001b[0mres\u001b[0m\u001b[0;34m.\u001b[0m\u001b[0mreshape\u001b[0m\u001b[0;34m(\u001b[0m\u001b[0;34m(\u001b[0m\u001b[0mt_poi\u001b[0m\u001b[0;34m,\u001b[0m \u001b[0mt_poi\u001b[0m\u001b[0;34m)\u001b[0m\u001b[0;34m)\u001b[0m\u001b[0;34m\u001b[0m\u001b[0;34m\u001b[0m\u001b[0m\n\u001b[1;32m      3\u001b[0m \u001b[0mprint\u001b[0m\u001b[0;34m(\u001b[0m\u001b[0mnp\u001b[0m\u001b[0;34m.\u001b[0m\u001b[0msum\u001b[0m\u001b[0;34m(\u001b[0m\u001b[0mres\u001b[0m\u001b[0;34m)\u001b[0m\u001b[0;34m)\u001b[0m\u001b[0;34m\u001b[0m\u001b[0;34m\u001b[0m\u001b[0m\n",
      "\u001b[0;32m<ipython-input-12-50b23b9865e7>\u001b[0m in \u001b[0;36mcompute\u001b[0;34m(x0, h, nsteps, nsamples, rho_prev)\u001b[0m\n\u001b[1;32m      7\u001b[0m     \u001b[0;32mfor\u001b[0m \u001b[0m_\u001b[0m \u001b[0;32min\u001b[0m \u001b[0mrange\u001b[0m\u001b[0;34m(\u001b[0m\u001b[0mnsteps\u001b[0m\u001b[0;34m)\u001b[0m\u001b[0;34m:\u001b[0m\u001b[0;34m\u001b[0m\u001b[0;34m\u001b[0m\u001b[0m\n\u001b[1;32m      8\u001b[0m         \u001b[0mprint\u001b[0m\u001b[0;34m(\u001b[0m\u001b[0;34m'xxx '\u001b[0m\u001b[0;34m,\u001b[0m \u001b[0mx\u001b[0m\u001b[0;34m)\u001b[0m\u001b[0;34m\u001b[0m\u001b[0;34m\u001b[0m\u001b[0m\n\u001b[0;32m----> 9\u001b[0;31m         \u001b[0mr\u001b[0m \u001b[0;34m=\u001b[0m \u001b[0msde_step_r\u001b[0m\u001b[0;34m(\u001b[0m\u001b[0mr\u001b[0m\u001b[0;34m,\u001b[0m \u001b[0mx\u001b[0m\u001b[0;34m,\u001b[0m \u001b[0mt\u001b[0m\u001b[0;34m,\u001b[0m \u001b[0mfx\u001b[0m\u001b[0;34m,\u001b[0m \u001b[0ms\u001b[0m\u001b[0;34m,\u001b[0m \u001b[0mh\u001b[0m\u001b[0;34m)\u001b[0m\u001b[0;34m\u001b[0m\u001b[0;34m\u001b[0m\u001b[0m\n\u001b[0m\u001b[1;32m     10\u001b[0m         \u001b[0mx\u001b[0m \u001b[0;34m=\u001b[0m \u001b[0msde_step_x\u001b[0m\u001b[0;34m(\u001b[0m\u001b[0mx\u001b[0m\u001b[0;34m,\u001b[0m \u001b[0mt\u001b[0m\u001b[0;34m,\u001b[0m \u001b[0mf_func\u001b[0m\u001b[0;34m,\u001b[0m \u001b[0mnoise\u001b[0m\u001b[0;34m,\u001b[0m \u001b[0mh\u001b[0m\u001b[0;34m)\u001b[0m\u001b[0;34m\u001b[0m\u001b[0;34m\u001b[0m\u001b[0m\n\u001b[1;32m     11\u001b[0m \u001b[0;34m\u001b[0m\u001b[0m\n",
      "\u001b[0;31mNameError\u001b[0m: name 't' is not defined"
     ]
    }
   ],
   "source": [
    "res = compute(w, h, nsteps, nsamples, fun)\n",
    "res = res.reshape((t_poi, t_poi))\n",
    "print(np.sum(res))"
   ]
  },
  {
   "cell_type": "code",
   "execution_count": null,
   "metadata": {},
   "outputs": [],
   "source": [
    "tm = 0.0\n",
    "for _ in range(2):\n",
    "    res = compute_value(w, h, nsteps, nsamples, fun)\n",
    "    res = res.reshape((n_poi, n_poi))\n",
    "    print(np.sum(res))\n",
    "\n",
    "    fun = RectBivariateSpline(t_list, t_list, res)\n",
    "\n",
    "    #fun = Rbf(x.flatten(), y.flatten(), res.flatten())\n",
    "    tm += h*nsteps\n",
    "    #print(tm)\n",
    "    #plt.contourf(x, y, res, 100)\n",
    "    #plt.colorbar()"
   ]
  },
  {
   "cell_type": "code",
   "execution_count": null,
   "metadata": {},
   "outputs": [],
   "source": []
  },
  {
   "cell_type": "code",
   "execution_count": null,
   "metadata": {},
   "outputs": [],
   "source": []
  }
 ],
 "metadata": {
  "kernelspec": {
   "display_name": "Python 3",
   "language": "python",
   "name": "python3"
  },
  "language_info": {
   "codemirror_mode": {
    "name": "ipython",
    "version": 3
   },
   "file_extension": ".py",
   "mimetype": "text/x-python",
   "name": "python",
   "nbconvert_exporter": "python",
   "pygments_lexer": "ipython3",
   "version": "3.7.1"
  }
 },
 "nbformat": 4,
 "nbformat_minor": 2
}
