{
 "cells": [
  {
   "cell_type": "code",
   "execution_count": 2,
   "metadata": {},
   "outputs": [],
   "source": [
    "import numpy as np\n",
    "import matplotlib.pyplot as plt\n",
    "from scipy.integrate import odeint\n",
    "from mpl_toolkits.mplot3d import Axes3D"
   ]
  },
  {
   "cell_type": "code",
   "execution_count": 3,
   "metadata": {},
   "outputs": [],
   "source": [
    "def logrho0(x):\n",
    "    '''\n",
    "    Log likelihood for normal distribution\n",
    "    '''\n",
    "    \n",
    "    # return np.diag(x.T@x)\n",
    "    res = np.einsum('ik,ik->k', x, x)\n",
    "    return res"
   ]
  },
  {
   "cell_type": "code",
   "execution_count": null,
   "metadata": {},
   "outputs": [],
   "source": [
    "def euler_sde(x, t, f, s, h):\n",
    "    '''\n",
    "    One step of Euler-Mayruyama scheme\n",
    "    '''\n",
    "    \n",
    "    if callable(f): f = f(x, t)\n",
    "    if callable(s): s = s(x, t)\n",
    "        \n",
    "    e = np.random.randn(*x.shape)\n",
    "    \n",
    "    return x + h * f + np.sqrt(h) * s * e"
   ]
  },
  {
   "cell_type": "code",
   "execution_count": null,
   "metadata": {},
   "outputs": [],
   "source": []
  }
 ],
 "metadata": {
  "kernelspec": {
   "display_name": "Python 3",
   "language": "python",
   "name": "python3"
  },
  "language_info": {
   "codemirror_mode": {
    "name": "ipython",
    "version": 3
   },
   "file_extension": ".py",
   "mimetype": "text/x-python",
   "name": "python",
   "nbconvert_exporter": "python",
   "pygments_lexer": "ipython3",
   "version": "3.7.1"
  }
 },
 "nbformat": 4,
 "nbformat_minor": 2
}
